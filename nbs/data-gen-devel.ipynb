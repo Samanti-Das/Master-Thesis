{
 "cells": [
  {
   "cell_type": "code",
   "execution_count": 1,
   "id": "c4161dd5",
   "metadata": {},
   "outputs": [
    {
     "name": "stderr",
     "output_type": "stream",
     "text": [
      "2021-09-21 21:05:49.756591: I tensorflow/stream_executor/platform/default/dso_loader.cc:48] Successfully opened dynamic library libcudart.so.10.1\n"
     ]
    }
   ],
   "source": [
    "%load_ext autoreload\n",
    "%autoreload 2\n",
    "# %matplotlib notebook\n",
    "\n",
    "import os\n",
    "import sys\n",
    "import glob\n",
    "sys.path.insert(1, '/home/cem/Documents/implicit_scene/LLFF')\n",
    "sys.path.insert(1, '/home/cem/Documents/implicit_scene/nerf_pl')\n",
    "sys.path.insert(1, '/home/cem/Desktop/ov-workspace/src')\n",
    "\n",
    "import numpy as np\n",
    "import matplotlib.pyplot as plt\n",
    "from PIL import Image\n",
    "\n",
    "import tensorflow as tf\n",
    "import tensorflow_datasets as tfds\n",
    "import tensorflow_probability as tfp\n",
    "import tensorflow.keras.layers as tfkl\n",
    "\n",
    "from imps.nerf.data_utils import load_colmap_poses_bounds, load_ov_poses_bounds, generate_data\n",
    "from imps.nerf.model import get_embedder, get_single_nerf\n",
    "from imps.nerf.ray_utils import sample_points_on_ray\n",
    "from imps.vis import CameraPoseVisualizer\n",
    "\n",
    "from imps.nerf.render import render_hierarchical, render_single_model\n",
    "\n",
    "DATA_DIR = '/home/cem/Desktop/ov-workspace/data/ov-v3'\n",
    "OUT_DIR = os.path.join(DATA_DIR, 'train')\n",
    "IMAGE_EXT = '.png'\n",
    "\n",
    "N_coarse = 64\n",
    "N_fine = 128\n",
    "\n",
    "Lp = 10\n",
    "Ld = 4\n",
    "\n",
    "lr = 5e-4\n",
    "\n",
    "batch_size = 4096\n",
    "num_epoch = 10\n",
    "embedding_include_input = True"
   ]
  },
  {
   "cell_type": "code",
   "execution_count": 2,
   "id": "24adcdc0",
   "metadata": {},
   "outputs": [
    {
     "name": "stdout",
     "output_type": "stream",
     "text": [
      "Cameras 5\n",
      "Images # 96\n",
      "Points (26017, 3) Visibility (26017, 96)\n",
      "Depth stats 0.11425793061809168 105.8574979259575 5.746784778375583\n"
     ]
    }
   ],
   "source": [
    "image_files = sorted(glob.glob(os.path.join(DATA_DIR, f'images/*{IMAGE_EXT}')))\n",
    "poses_bounds = load_colmap_poses_bounds(DATA_DIR)\n",
    "origins, viewdirs, imgs, bounds = generate_data(image_files, poses_bounds, down_scale=8)"
   ]
  },
  {
   "cell_type": "markdown",
   "id": "5d99d4e6",
   "metadata": {},
   "source": [
    "### Ray shooting test"
   ]
  },
  {
   "cell_type": "code",
   "execution_count": null,
   "id": "7c4549be",
   "metadata": {
    "scrolled": false
   },
   "outputs": [],
   "source": [
    "# Test the generated rays\n",
    "cp_vis = CameraPoseVisualizer([-3, 3], [-3, 3], [0, 3])\n",
    "\n",
    "for i in range(len(image_files)):\n",
    "    ray_o = origins[i]\n",
    "    ray_dir = viewdirs[i]\n",
    "    \n",
    "    cam_params = poses_bounds[i, :-2].reshape(3, 5)\n",
    "    cam_extrinsics = cam_params[:, :-1]\n",
    "\n",
    "    p0 = np.concatenate((cam_extrinsics, np.array([[0,0,0,1]])), axis=0)\n",
    "    pix_loc = ray_o + ray_dir\n",
    "\n",
    "    cp_vis.extrinsic2pyramid(p0, focal_len_scaled=0.25, aspect_ratio=0.56)\n",
    "\n",
    "    for j in range(0, 1280, 100):\n",
    "        cp_vis.ax.plot3D([ray_o[360, j, 0], pix_loc[360, j, 0]],\n",
    "                         [ray_o[360, j, 1], pix_loc[360, j, 1]],\n",
    "                         [ray_o[360, j, 2], pix_loc[360, j, 2]], ls=':', color='black')   "
   ]
  },
  {
   "cell_type": "code",
   "execution_count": null,
   "id": "03c4ac05",
   "metadata": {},
   "outputs": [],
   "source": []
  }
 ],
 "metadata": {
  "kernelspec": {
   "display_name": "nerf-env",
   "language": "python",
   "name": "nerf-env"
  },
  "language_info": {
   "codemirror_mode": {
    "name": "ipython",
    "version": 3
   },
   "file_extension": ".py",
   "mimetype": "text/x-python",
   "name": "python",
   "nbconvert_exporter": "python",
   "pygments_lexer": "ipython3",
   "version": "3.8.10"
  }
 },
 "nbformat": 4,
 "nbformat_minor": 5
}
