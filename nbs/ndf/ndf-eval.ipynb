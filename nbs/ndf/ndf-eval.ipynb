{
 "cells": [
  {
   "cell_type": "code",
   "execution_count": 1,
   "id": "c5b0fa6f",
   "metadata": {},
   "outputs": [],
   "source": [
    "%load_ext autoreload\n",
    "%autoreload 2\n",
    "\n",
    "import os\n",
    "import sys\n",
    "sys.path.insert(1, '/home/cem/Documents/imps/src')\n",
    "\n",
    "import numpy as np\n",
    "import open3d as o3d\n",
    "import torch\n",
    "from torch.nn import functional as F\n",
    "from matplotlib import cm\n",
    "import matplotlib.pyplot as plt\n",
    "\n",
    "from tqdm import tqdm\n",
    "\n",
    "from imps.data import ScanNetScene, CLASS_NAMES\n",
    "from imps.ndf.local_model import MiniNDF, NDF\n",
    "\n",
    "SCENE_DIR = '/home/cem/Documents/datasets/ScanNet/scans/scene0000_00'\n",
    "\n",
    "N_POINTS = int(2e4)\n",
    "RESOLUTION = 125\n",
    "SIGMAS = np.array([0.75, 0.45, 0.05])\n",
    "DEVICE = 'cuda'"
   ]
  },
  {
   "cell_type": "code",
   "execution_count": 2,
   "id": "ec2322d2",
   "metadata": {},
   "outputs": [],
   "source": [
    "scene = ScanNetScene(SCENE_DIR)\n",
    "\n",
    "voxel_grid, surface_points, vicinity_points, point_labels = scene.create_if_data(\n",
    "    RESOLUTION, N_POINTS, SIGMAS, vicinity_ratio=1, o3d_format=True\n",
    ")"
   ]
  },
  {
   "cell_type": "code",
   "execution_count": 3,
   "id": "f36aa9b9",
   "metadata": {},
   "outputs": [],
   "source": [
    "o3d.visualization.draw_geometries([voxel_grid, vicinity_points])"
   ]
  },
  {
   "cell_type": "code",
   "execution_count": 9,
   "id": "8d1077bc",
   "metadata": {},
   "outputs": [],
   "source": [
    "# Now generate numeric data instead of visual\n",
    "scene = ScanNetScene(SCENE_DIR)\n",
    "\n",
    "voxel_grid, _, _, vicinity_points, vicinity_distances, _ = scene.create_if_data(\n",
    "    RESOLUTION, N_POINTS, SIGMAS, vicinity_ratio=1\n",
    ")\n",
    "\n",
    "voxel_grid = torch.FloatTensor(voxel_grid).unsqueeze(0).to(DEVICE)\n",
    "\n",
    "model = NDF()\n",
    "model = model.cuda()\n",
    "model.load_state_dict(torch.load('../../data/MiniNDF-11-scenes')['model_state_dict'])\n",
    "model.eval();"
   ]
  },
  {
   "cell_type": "code",
   "execution_count": 10,
   "id": "f6b5ba55",
   "metadata": {
    "scrolled": true
   },
   "outputs": [],
   "source": [
    "def get_cube(cube_center, cube_size, n=10):\n",
    "    x_min, x_max = cube_center[0]-cube_size/2, cube_center[0]+cube_size/2\n",
    "    y_min, y_max = cube_center[1]-cube_size/2, cube_center[1]+cube_size/2\n",
    "    z_min, z_max = cube_center[2]-cube_size/2, cube_center[2]+cube_size/2\n",
    "\n",
    "    x_ = np.linspace(x_min, x_max, n)\n",
    "    y_ = np.linspace(y_min, y_max, n)\n",
    "    z_ = np.linspace(z_min, z_max, n)\n",
    "    \n",
    "    X, Y, Z = np.meshgrid(x_, y_, z_, indexing='ij')\n",
    "    return np.vstack([X.ravel(), Y.ravel(), Z.ravel()]).T\n",
    "\n",
    "def surface_grad(model, input, initial_points, num_steps, step_size):\n",
    "    for param in model.parameters():\n",
    "        param.requires_grad = False\n",
    "            \n",
    "    encoding = model.encoder(input)\n",
    "\n",
    "    samples = torch.Tensor(initial_points.reshape(1, len(initial_points), 3)).float().to('cuda')\n",
    "    samples.requires_grad = True\n",
    "\n",
    "    sample_steps = np.zeros((num_steps, len(initial_points), 3))\n",
    "\n",
    "    i = 0\n",
    "\n",
    "    for j in range(num_steps):\n",
    "        # Update this in NDF mocel\n",
    "        df_pred = model.decoder(samples, *encoding)\n",
    "        df_pred.sum().backward()\n",
    "        \n",
    "        gradient = samples.grad.detach()\n",
    "        samples = samples.detach()\n",
    "        df_pred = df_pred.detach()\n",
    "        input = input.detach()\n",
    "        \n",
    "        samples = samples - step_size*(F.normalize(gradient, dim=2)*df_pred.reshape(-1, 1))\n",
    "\n",
    "        samples = samples.detach()\n",
    "        samples_cpu = samples.detach().cpu().numpy()[0]\n",
    "        sample_steps[j] = samples_cpu\n",
    "        \n",
    "        samples.requires_grad = True\n",
    "        \n",
    "    return sample_steps\n",
    "\n",
    "def generate_point_cloud(model, inputs, num_steps=10, num_points=900000, filter_val=0.009, threshold=0.025):\n",
    "    for param in model.parameters():\n",
    "        param.requires_grad = False\n",
    "\n",
    "    sample_num = 20000\n",
    "    samples_cpu = np.zeros((0, 3))\n",
    "    samples = torch.rand(1, sample_num, 3).float().to(DEVICE) * 3 - 1.5\n",
    "    samples.requires_grad = True\n",
    "\n",
    "    encoding = model.encoder(inputs)\n",
    "\n",
    "    i = 0\n",
    "    while len(samples_cpu) < num_points:\n",
    "        print('iteration', i)\n",
    "\n",
    "        for j in range(num_steps):\n",
    "            df_pred = torch.clamp(model.decoder(samples, *encoding), max=threshold)\n",
    "\n",
    "            df_pred.sum().backward()\n",
    "\n",
    "            gradient = samples.grad.detach()\n",
    "            samples = samples.detach()\n",
    "            df_pred = df_pred.detach()\n",
    "            inputs = inputs.detach()\n",
    "            samples = samples - F.normalize(gradient, dim=2) * df_pred.reshape(-1, 1)  # better use Tensor.copy method?\n",
    "            samples = samples.detach()\n",
    "            samples.requires_grad = True\n",
    "\n",
    "        if not i == 0:\n",
    "            samples_cpu = np.vstack((samples_cpu, samples[df_pred < filter_val].detach().cpu().numpy()))\n",
    "\n",
    "        samples = samples[df_pred < 0.03].unsqueeze(0)\n",
    "        indices = torch.randint(samples.shape[1], (1, sample_num))\n",
    "        samples = samples[[[0, ] * sample_num], indices]\n",
    "        samples += (threshold / 3) * torch.randn(samples.shape).to(DEVICE)  # 3 sigma rule\n",
    "        samples = samples.detach()\n",
    "        samples.requires_grad = True\n",
    "\n",
    "        i += 1\n",
    "        print(samples_cpu.shape)\n",
    "\n",
    "    return samples_cpu"
   ]
  },
  {
   "cell_type": "code",
   "execution_count": 25,
   "id": "d2521f23",
   "metadata": {},
   "outputs": [
    {
     "name": "stderr",
     "output_type": "stream",
     "text": [
      "100%|██████████████████████████████████████████████████████████████████| 243/243 [00:16<00:00, 14.50it/s]\n"
     ]
    }
   ],
   "source": [
    "r1, r2 = scene.bounds\n",
    "cube_size = 0.1\n",
    "cube_x_ = np.arange(r1[0]+cube_size/2, r2[0]-cube_size/2, cube_size)\n",
    "cube_y_ = np.arange(r1[1]+cube_size/2, r2[1]-cube_size/2, cube_size)\n",
    "cube_z_ = np.arange(r1[2]+cube_size/2, r2[2]-cube_size/2, cube_size)\n",
    "cube_X, cube_Y, cube_Z = np.meshgrid(cube_x_, cube_y_, cube_z_, indexing='ij')\n",
    "\n",
    "cube_centers = np.vstack([cube_X.ravel(), cube_Y.ravel(), cube_Z.ravel()]).T \n",
    "all_steps = []\n",
    "\n",
    "for cc in tqdm(cube_centers):\n",
    "    init_points = get_cube(cc, cube_size)\n",
    "    init_points = init_points[init_points[:, -1] < 0.05]\n",
    "    surface_steps = surface_grad(model, voxel_grid, init_points, 5, 0.5)\n",
    "    all_steps.append(surface_steps)\n",
    "    \n",
    "all_steps = np.concatenate(all_steps, axis=1)"
   ]
  },
  {
   "cell_type": "code",
   "execution_count": 26,
   "id": "333d3054",
   "metadata": {},
   "outputs": [],
   "source": [
    "import pickle\n",
    "pickle.dump(all_steps, open('../../data/ndf_steps.pkl', 'wb'))"
   ]
  },
  {
   "cell_type": "code",
   "execution_count": 27,
   "id": "54a9bdd4",
   "metadata": {},
   "outputs": [],
   "source": [
    "query_points = torch.FloatTensor(vicinity_points).unsqueeze(0).cuda()\n",
    "\n",
    "with torch.no_grad():\n",
    "    encoding = model.encoder(voxel_grid)\n",
    "    pred_dist = model.decoder(query_points, *encoding)\n",
    "    \n",
    "pts = query_points.squeeze().detach().cpu().numpy()\n",
    "dst = pred_dist.squeeze().detach().cpu().numpy()\n",
    "dst_norm = (dst - dst.min()) / (dst.max() - dst.min())\n",
    "\n",
    "viridis = cm.get_cmap('Reds')\n",
    "vic_pcd = o3d.geometry.PointCloud()\n",
    "vic_pcd.points = o3d.utility.Vector3dVector(pts)\n",
    "vic_pcd.colors = o3d.utility.Vector3dVector(viridis(dst)[:, :-1])\n",
    "    \n",
    "o3d.visualization.draw_geometries([vic_pcd])"
   ]
  },
  {
   "cell_type": "code",
   "execution_count": 22,
   "id": "d95d3252",
   "metadata": {},
   "outputs": [
    {
     "data": {
      "text/plain": [
       "0.14207502427378035"
      ]
     },
     "execution_count": 22,
     "metadata": {},
     "output_type": "execute_result"
    }
   ],
   "source": [
    "np.abs(dst - vicinity_distances).mean()*scene.scale"
   ]
  },
  {
   "cell_type": "code",
   "execution_count": null,
   "id": "d0b9a740",
   "metadata": {},
   "outputs": [],
   "source": []
  }
 ],
 "metadata": {
  "kernelspec": {
   "display_name": "3d-env",
   "language": "python",
   "name": "3d-env"
  },
  "language_info": {
   "codemirror_mode": {
    "name": "ipython",
    "version": 3
   },
   "file_extension": ".py",
   "mimetype": "text/x-python",
   "name": "python",
   "nbconvert_exporter": "python",
   "pygments_lexer": "ipython3",
   "version": "3.8.10"
  }
 },
 "nbformat": 4,
 "nbformat_minor": 5
}
