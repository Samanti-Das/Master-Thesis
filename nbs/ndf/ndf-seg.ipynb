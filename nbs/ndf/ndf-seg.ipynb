{
 "cells": [
  {
   "cell_type": "code",
   "execution_count": null,
   "id": "3744e2f3",
   "metadata": {},
   "outputs": [],
   "source": [
    "%load_ext autoreload\n",
    "%autoreload 2\n",
    "\n",
    "import os\n",
    "import sys\n",
    "sys.path.insert(1, '/home/cem/Desktop/ov-workspace/src')\n",
    "\n",
    "import numpy as np\n",
    "import open3d as o3d\n",
    "import torch\n",
    "from matplotlib import cm\n",
    "import matplotlib.pyplot as plt\n",
    "\n",
    "from imps.data import ScanNetScene, CLASS_NAMES\n",
    "from imps.ndf.local_model import MiniNDF\n",
    "\n",
    "SCENE_DIR = '/home/cem/Documents/datasets/ScanNet/scans/scene0000_00'\n",
    "N_POINTS = int(2e5)\n",
    "RESOLUTION = 125\n",
    "SIGMAS = np.array([0.5, 0.1, 0.01])"
   ]
  },
  {
   "cell_type": "code",
   "execution_count": null,
   "id": "e6a7b555",
   "metadata": {},
   "outputs": [],
   "source": [
    "scene = ScanNetScene(SCENE_DIR)\n",
    "vis = scene.create_if_data(\n",
    "    RESOLUTION, N_POINTS, SIGMAS, True, o3d_format=True\n",
    ")"
   ]
  },
  {
   "cell_type": "code",
   "execution_count": null,
   "id": "9451220d",
   "metadata": {},
   "outputs": [],
   "source": [
    "# Visulalize to make sure the data is correct\n",
    "o3d.visualization.draw_geometries([vis[0], vis[2]])"
   ]
  },
  {
   "cell_type": "code",
   "execution_count": null,
   "id": "a7117eea",
   "metadata": {},
   "outputs": [],
   "source": [
    "# Now generate numeric data instead of visual\n",
    "voxel_grid, surface_points, vicinity_points, vicinity_distances, point_labels = scene.create_if_data(\n",
    "    RESOLUTION, N_POINTS, SIGMAS, True\n",
    ")"
   ]
  },
  {
   "cell_type": "code",
   "execution_count": null,
   "id": "120d03a9",
   "metadata": {},
   "outputs": [],
   "source": [
    "# Concatenation order is [surface, vicinity]\n",
    "\n",
    "query_points = np.concatenate([\n",
    "    surface_points, vicinity_points\n",
    "], axis=0)\n",
    "\n",
    "\n",
    "distances = np.concatenate([\n",
    "    np.zeros(surface_points.shape[0]),\n",
    "    vicinity_distances\n",
    "], axis=0)\n",
    "\n",
    "semantic_labels = np.concatenate([\n",
    "    point_labels,\n",
    "    np.zeros(vicinity_points.shape[0], dtype=int)\n",
    "])\n",
    "\n",
    "# query_points = vicinity_points\n",
    "# distances = vicinity_distances\n",
    "# semantic_labels = np.zeros(vicinity_points.shape[0], dtype=int)\n",
    "\n",
    "# Further down-sample the number of points\n",
    "ratio = 0.5\n",
    "N_points = query_points.shape[0]\n",
    "N_sub = int(ratio*N_points)\n",
    "\n",
    "sub_idxs = np.random.choice(N_points, N_sub, replace=False)\n",
    "shuffle_idxs = np.random.permutation(N_points)[sub_idxs]\n",
    "\n",
    "# 0 is both vicinity points and \"unannotated\" points\n",
    "ignored_label_inds = [0]\n",
    "class_counts = []\n",
    "for c in range(len(CLASS_NAMES.keys())):\n",
    "    class_counts.append(np.sum(semantic_labels == c))\n",
    "class_counts = np.array(class_counts)\n",
    "\n",
    "for ign in ignored_label_inds:\n",
    "    class_counts[ign] = 0\n",
    "class_weights = class_counts / class_counts.sum()\n",
    "\n",
    "query_points = torch.FloatTensor(query_points[shuffle_idxs])\n",
    "distances = torch.FloatTensor(distances[shuffle_idxs])\n",
    "semantic_labels = torch.LongTensor(semantic_labels[shuffle_idxs])\n",
    "voxel_grid = torch.FloatTensor(voxel_grid)\n",
    "class_weights = torch.FloatTensor(class_weights)"
   ]
  },
  {
   "cell_type": "code",
   "execution_count": null,
   "id": "f3277b66",
   "metadata": {},
   "outputs": [],
   "source": [
    "d = distances.squeeze().cpu().numpy()\n",
    "d = (d-d.min()) / (d.max() - d.min())\n",
    "viridis = cm.get_cmap('Reds')\n",
    "\n",
    "seg_pcd = o3d.geometry.PointCloud()\n",
    "seg_pcd.points = o3d.utility.Vector3dVector(query_points)\n",
    "# seg_pcd.colors = o3d.utility.Vector3dVector(viridis(d)[:, :-1])\n",
    "seg_pcd.colors = o3d.utility.Vector3dVector(scene.colorize_labels(semantic_labels))\n",
    "\n",
    "o3d.visualization.draw_geometries([seg_pcd])"
   ]
  },
  {
   "cell_type": "code",
   "execution_count": null,
   "id": "30dc92ab",
   "metadata": {},
   "outputs": [],
   "source": [
    "model_input = voxel_grid[None, :, :].cuda()\n",
    "model_query = query_points[None, :, :].cuda()\n",
    "distance_gold = distances[None, :].cuda()\n",
    "semantic_gold = semantic_labels[None, :].cuda()\n",
    "class_weights = class_weights.cuda()\n",
    "\n",
    "model = MiniNDF(len(class_weights), is_cuda=True)\n",
    "optimizer = torch.optim.Adam(model.parameters(), lr=1e-4)"
   ]
  },
  {
   "cell_type": "code",
   "execution_count": null,
   "id": "dc73ba3f",
   "metadata": {
    "scrolled": true
   },
   "outputs": [],
   "source": [
    "model.train()\n",
    "\n",
    "for e in range(1000):\n",
    "    optimizer.zero_grad()\n",
    "    \n",
    "    encoding = model.encoder(model_input)\n",
    "    pred_dist, pred_logits = model.decoder(model_query, *encoding)\n",
    "    \n",
    "    dist_criterion = torch.nn.L1Loss(reduction='none')\n",
    "    seg_criterion = torch.nn.CrossEntropyLoss(weight=class_weights, reduction='mean')\n",
    "    \n",
    "    dist_loss = dist_criterion(pred_dist, distance_gold).sum(dim=-1).mean()\n",
    "    semantic_loss = seg_criterion(pred_logits, semantic_gold)\n",
    "    loss = dist_loss + semantic_loss\n",
    "    \n",
    "    loss.backward()\n",
    "    optimizer.step()\n",
    "    \n",
    "    print(f\"Epoch {e}\\n\\tDistance Loss:{dist_loss}\\t Semantic Loss:{semantic_loss}\")\n",
    "     #print(f\"Epoch {e}\\n\\tDistance Loss:{dist_loss}\")"
   ]
  },
  {
   "cell_type": "code",
   "execution_count": null,
   "id": "7d69fd19",
   "metadata": {},
   "outputs": [],
   "source": [
    "model.eval()\n",
    "with torch.no_grad():\n",
    "    encoding = model.encoder(model_input)\n",
    "    pred_dist, pred_logits = model.decoder(model_query, *encoding)"
   ]
  },
  {
   "cell_type": "code",
   "execution_count": null,
   "id": "81fc94ba",
   "metadata": {},
   "outputs": [],
   "source": [
    "pts = model_query.squeeze().detach().cpu().numpy()\n",
    "dst = pred_dist.squeeze().detach().cpu().numpy()\n",
    "dst_norm = (dst - dst.min()) / (dst.max() - dst.min())\n",
    "\n",
    "viridis = cm.get_cmap('Reds')\n",
    "vic_pcd = o3d.geometry.PointCloud()\n",
    "vic_pcd.points = o3d.utility.Vector3dVector(pts)\n",
    "vic_pcd.colors = o3d.utility.Vector3dVector(viridis(dst_norm)[:, :-1])\n",
    "    \n",
    "o3d.visualization.draw_geometries([vic_pcd])"
   ]
  },
  {
   "cell_type": "code",
   "execution_count": null,
   "id": "37ba6be1",
   "metadata": {},
   "outputs": [],
   "source": [
    "model.eval()\n",
    "with torch.no_grad():\n",
    "    surface_query = torch.FloatTensor(surface_points[None, :, :]).cuda()\n",
    "    encoding = model.encoder(model_input)\n",
    "    _, pred_logits = model.decoder(surface_query, *encoding)\n",
    "\n",
    "logits = pred_logits.squeeze().detach().cpu().numpy()\n",
    "pred_labels = logits.argmax(axis=0)\n",
    "\n",
    "seg_pcd = o3d.geometry.PointCloud()\n",
    "seg_pcd.points = o3d.utility.Vector3dVector(surface_points)\n",
    "seg_pcd.colors = o3d.utility.Vector3dVector(scene.colorize_labels(pred_labels))\n",
    "    \n",
    "o3d.visualization.draw_geometries([seg_pcd])"
   ]
  },
  {
   "cell_type": "code",
   "execution_count": null,
   "id": "d4523ded",
   "metadata": {},
   "outputs": [],
   "source": []
  }
 ],
 "metadata": {
  "kernelspec": {
   "display_name": "3d-env",
   "language": "python",
   "name": "3d-env"
  },
  "language_info": {
   "codemirror_mode": {
    "name": "ipython",
    "version": 3
   },
   "file_extension": ".py",
   "mimetype": "text/x-python",
   "name": "python",
   "nbconvert_exporter": "python",
   "pygments_lexer": "ipython3",
   "version": "3.8.10"
  }
 },
 "nbformat": 4,
 "nbformat_minor": 5
}
