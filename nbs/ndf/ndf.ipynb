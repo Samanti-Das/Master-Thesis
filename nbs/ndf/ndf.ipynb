{
 "cells": [
  {
   "cell_type": "code",
   "execution_count": null,
   "id": "3744e2f3",
   "metadata": {},
   "outputs": [],
   "source": [
    "%load_ext autoreload\n",
    "%autoreload 2\n",
    "\n",
    "import os\n",
    "import sys\n",
    "sys.path.insert(1, '/home/cem/Documents/imps/src')\n",
    "\n",
    "import numpy as np\n",
    "import open3d as o3d\n",
    "import torch\n",
    "from matplotlib import cm\n",
    "import matplotlib.pyplot as plt\n",
    "from tqdm import tqdm\n",
    "import pickle\n",
    "\n",
    "from imps.data import ScanNetScene, CLASS_NAMES\n",
    "from imps.ndf.local_model import MiniNDF, NDF\n",
    "\n",
    "SCAN_DIR = '/home/cem/Documents/datasets/ScanNet/scans'\n",
    "SCENE_NAMES = ['scene0000_00']\n",
    "\n",
    "N_POINTS = int(2e4)\n",
    "RESOLUTION = 125\n",
    "SIGMAS = np.array([0.09, 0.03, 0.01])\n",
    "DEVICE = 'cuda'"
   ]
  },
  {
   "cell_type": "code",
   "execution_count": null,
   "id": "a7117eea",
   "metadata": {
    "scrolled": true
   },
   "outputs": [],
   "source": [
    "scene = ScanNetScene(os.path.join(DATA_PATH, SCENE_NAME))\n",
    "voxels, surface_points, surface_colors, vicinities, distances, _ = scene.create_if_data(\n",
    "    RES, N_POINTS, SIGMAS, o3d_format=False, scale_sigmas=False\n",
    ")\n",
    "\n",
    "\n",
    "query_points = torch.FloatTensor(vicinities[s]).unsqueeze(0).cuda()\n",
    "query_distances = torch.FloatTensor(distances[s]).unsqueeze(0).cuda()\n",
    "voxel_grid = torch.FloatTensor(voxels[s]).unsqueeze(0).cuda()"
   ]
  },
  {
   "cell_type": "code",
   "execution_count": null,
   "id": "cc8001d7",
   "metadata": {},
   "outputs": [],
   "source": [
    "model = NDF()\n",
    "model = model.cuda()\n",
    "optimizer = torch.optim.Adam(model.parameters(), lr=1e-4)\n",
    "model.train()"
   ]
  },
  {
   "cell_type": "code",
   "execution_count": null,
   "id": "dc73ba3f",
   "metadata": {
    "scrolled": false
   },
   "outputs": [],
   "source": [
    "pbar = tqdm(range(1000))\n",
    "losses = []\n",
    "\n",
    "for e in pbar:\n",
    "    optimizer.zero_grad()\n",
    "\n",
    "    pred_dist = model.forward(query_points, voxel_grid)\n",
    "\n",
    "    dist_criterion = torch.nn.L1Loss(reduction='none')    \n",
    "    dist_loss = dist_criterion(torch.clamp(pred_dist, max=0.25), \n",
    "                               torch.clamp(query_distances, max=0.25)).sum(dim=-1).mean()\n",
    "\n",
    "    dist_loss.backward()\n",
    "    optimizer.step()\n",
    "\n",
    "    scene_losses.append(dist_loss.item())\n",
    "    \n",
    "    losses.append(scene_losses)\n",
    "    \n",
    "    if ((e+1)%100 == 0) or (e == 0):\n",
    "        pbar.set_description(f\"Epoch {e+1} Loss: {round(sum(losses[-1]), 3)}\")\n",
    "        torch.save({'model_state_dict': model.state_dict(),\n",
    "                        'optimizer_state_dict': optimizer.state_dict()}, \n",
    "                       '../../data/MiniNDF-11-scenes')"
   ]
  },
  {
   "cell_type": "code",
   "execution_count": null,
   "id": "7d69fd19",
   "metadata": {},
   "outputs": [],
   "source": [
    "model.eval()\n",
    "with torch.no_grad():\n",
    "    encoding = model.encoder(voxel_grid)\n",
    "    pred_dist = model.decoder(query_points, *encoding)"
   ]
  },
  {
   "cell_type": "code",
   "execution_count": null,
   "id": "81fc94ba",
   "metadata": {},
   "outputs": [],
   "source": [
    "pts = query_points.squeeze().detach().cpu().numpy()\n",
    "dst = pred_dist.squeeze().detach().cpu().numpy()\n",
    "\n",
    "viridis = cm.get_cmap('Reds')\n",
    "vic_pcd = o3d.geometry.PointCloud()\n",
    "vic_pcd.points = o3d.utility.Vector3dVector(pts)\n",
    "vic_pcd.colors = o3d.utility.Vector3dVector(viridis(dst)[:, :-1])\n",
    "    \n",
    "o3d.visualization.draw_geometries([vic_pcd])"
   ]
  },
  {
   "cell_type": "code",
   "execution_count": null,
   "id": "d4523ded",
   "metadata": {},
   "outputs": [],
   "source": [
    "torch.save(model.state_dict(), '../../data/ndf-v2')"
   ]
  },
  {
   "cell_type": "code",
   "execution_count": null,
   "id": "edcbdece",
   "metadata": {},
   "outputs": [],
   "source": []
  }
 ],
 "metadata": {
  "kernelspec": {
   "display_name": "3d-env",
   "language": "python",
   "name": "3d-env"
  },
  "language_info": {
   "codemirror_mode": {
    "name": "ipython",
    "version": 3
   },
   "file_extension": ".py",
   "mimetype": "text/x-python",
   "name": "python",
   "nbconvert_exporter": "python",
   "pygments_lexer": "ipython3",
   "version": "3.8.10"
  }
 },
 "nbformat": 4,
 "nbformat_minor": 5
}
