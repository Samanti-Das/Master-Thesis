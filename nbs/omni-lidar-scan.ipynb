{
 "cells": [
  {
   "cell_type": "code",
   "execution_count": 5,
   "id": "5f0fd925",
   "metadata": {},
   "outputs": [],
   "source": [
    "import numpy as np\n",
    "import open3d as o3d\n",
    "import matplotlib.pyplot as plt\n",
    "from scipy.spatial.transform import Rotation as R\n",
    "import scipy\n",
    "import os\n",
    "import pandas as pd\n",
    "\n",
    "import sys\n",
    "sys.path.insert(1, '/home/cem/Documents/imps/src')\n",
    "\n",
    "IS_YUP = False\n",
    "\n",
    "def clamp_pc(points, max_len):\n",
    "    lens = np.linalg.norm(points, axis=-1)\n",
    "    points = points[lens < max_len]\n",
    "    \n",
    "    return points\n",
    "\n",
    "def to_o2d(points, colors=None):    \n",
    "    scan = o3d.geometry.PointCloud()\n",
    "\n",
    "    scan.points = o3d.utility.Vector3dVector(points)\n",
    "    \n",
    "    if colors:\n",
    "        scan.colors = o3d.utility.Vector3dVector(colors)\n",
    "        \n",
    "    return scan\n",
    "\n",
    "def is_occupied(occ_map, x, y, resolution, top_left, threshold=0.05):\n",
    "    \"\"\"\n",
    "    occ_map: Occupancy map (bool) of shape (N_x, N_y)\n",
    "    x, y are the x and y coordinates\n",
    "    resolution: Distance between each point in the occupancy map\n",
    "    top_left: Top left coordinate (x, y)\n",
    "    threshold: For soft occupancy\n",
    "    \n",
    "    IMPORTANT: Think of this as an image. So x is actually the vertical axis and y is actually the \n",
    "    horizontal axis. The ordering obeys array ordering.\n",
    "    \"\"\"\n",
    "    assert (threshold % resolution) == 0\n",
    "    \n",
    "    i = np.abs(int((x - top_left[0]) // resolution))\n",
    "    j = np.abs(int((y - top_left[1]) // resolution))\n",
    "    n_step = int(threshold // resolution)\n",
    "    \n",
    "    lower_i = max(i-n_step, 0)\n",
    "    upper_i = min(i+n_step, occ_map.shape[0])\n",
    "    lower_j = max(j-n_step, 0)\n",
    "    upper_j = min(j+n_step, occ_map.shape[1])\n",
    "\n",
    "    occ = occ_map[lower_i:upper_i, lower_j:upper_j]\n",
    "    return np.any(occ)\n",
    "\n",
    "data_dir = '/home/cem/Desktop'\n",
    "resolution = 0.015\n",
    "\n",
    "scan1 = np.load(data_dir + '/Lidar1-scan.npy')\n",
    "scan2 = np.load(data_dir + '/Lidar2-scan.npy')\n",
    "\n",
    "scan1_l2w = np.load(data_dir + '/Lidar1-xform.npy')\n",
    "scan2_l2w = np.load(data_dir + '/Lidar2-xform.npy')\n",
    "\n",
    "n_scan1 = scan1.shape[0]\n",
    "n_scan2 = scan2.shape[0]\n",
    "\n",
    "scan1 = scan1.reshape(n_scan1, -1, 3) / 100\n",
    "scan2 = scan2.reshape(n_scan2, -1, 3) / 100"
   ]
  },
  {
   "cell_type": "code",
   "execution_count": 6,
   "id": "c86621eb",
   "metadata": {},
   "outputs": [],
   "source": [
    "o3d.visualization.draw_geometries([to_o2d(scan1[0])])"
   ]
  },
  {
   "cell_type": "code",
   "execution_count": 8,
   "id": "1bc1c85e",
   "metadata": {},
   "outputs": [],
   "source": [
    "pcd_combined = o3d.geometry.PointCloud()\n",
    "yup2zup = np.array([[1,0,0,0], [0,0,-1,0], [0,1,0,0], [0,0,0,1]])\n",
    "\n",
    "if IS_YUP:\n",
    "    xform = yup2zup\n",
    "else:\n",
    "    xform = np.eye(4)\n",
    "\n",
    "for i in range(n_scan2):\n",
    "    s1 = to_o2d(clamp_pc(scan1[i], 55)).transform(xform @ scan1_l2w[i])\n",
    "    s2 = to_o2d(clamp_pc(scan2[i], 55)).transform(xform @ scan2_l2w[i])\n",
    "    \n",
    "    pcd_combined += s1\n",
    "    pcd_combined += s2\n",
    "\n",
    "o3d.visualization.draw_geometries([pcd_combined])"
   ]
  },
  {
   "cell_type": "markdown",
   "id": "c834e2f1",
   "metadata": {},
   "source": [
    "# Occupancy and Path Planning"
   ]
  },
  {
   "cell_type": "code",
   "execution_count": 25,
   "id": "7c802c34",
   "metadata": {},
   "outputs": [],
   "source": [
    "voxel_grid = o3d.geometry.VoxelGrid.create_from_point_cloud(pcd_combined, voxel_size=resolution)\n",
    "o3d.visualization.draw_geometries([voxel_grid])"
   ]
  },
  {
   "cell_type": "code",
   "execution_count": 26,
   "id": "5ddc7ffe",
   "metadata": {},
   "outputs": [],
   "source": [
    "points = np.array(pcd_combined.points)\n",
    "# Don't count floor and ceiling\n",
    "points = points[(points[:, 2] > 0.5) & (points[:, 2] < 2.95)]\n",
    "\n",
    "x_min, x_max = points[:, 0].min(), points[:, 0].max()\n",
    "y_min, y_max = points[:, 1].min(), points[:, 1].max()\n",
    "z_min, z_max = points[:, 2].min(), points[:, 2].max()\n",
    "\n",
    "# This should be preferably the same with the voxel size\n",
    "x_ = np.arange(x_min, x_max, resolution)\n",
    "y_ = np.arange(y_min, y_max, resolution)\n",
    "z_ = np.arange(z_min, z_max, resolution)\n",
    "\n",
    "x, y, z = np.meshgrid(x_, y_, z_, indexing='ij')\n",
    "xyz = np.concatenate([x.reshape(-1, 1), y.reshape(-1, 1), z.reshape(-1, 1)], axis=1)\n",
    "\n",
    "output = voxel_grid.check_if_included(o3d.utility.Vector3dVector(xyz))\n",
    "output = np.array(output, dtype=np.bool).reshape(*x.shape)\n",
    "occupancy = output.sum(axis=2) > 0"
   ]
  },
  {
   "cell_type": "code",
   "execution_count": 27,
   "id": "b93c5093",
   "metadata": {},
   "outputs": [
    {
     "data": {
      "text/plain": [
       "False"
      ]
     },
     "execution_count": 27,
     "metadata": {},
     "output_type": "execute_result"
    }
   ],
   "source": [
    "top_left = np.array((x_min, y_min))\n",
    "bottom_right = np.array((x_max, y_max))\n",
    "bounds = np.concatenate([top_left[None, :], bottom_right[None, :]], axis=0)\n",
    "\n",
    "np.save(os.path.join(data_dir, 'occupancy', 'map.npy'), occupancy)\n",
    "np.save(os.path.join(data_dir, 'occupancy', 'bounds.npy'), bounds)\n",
    "is_occupied(occupancy, -1.42, 0.04, resolution, top_left, threshold=resolution)"
   ]
  },
  {
   "cell_type": "code",
   "execution_count": null,
   "id": "ff48ddc7",
   "metadata": {},
   "outputs": [],
   "source": [
    "# Read the user trajectory\n",
    "trj = pd.read_csv(\"/home/cem/Documents/6g_project_demo/traces.csv\")\n",
    "trj = np.array(trj)"
   ]
  },
  {
   "cell_type": "code",
   "execution_count": 28,
   "id": "09e21b5c",
   "metadata": {
    "scrolled": false
   },
   "outputs": [
    {
     "data": {
      "image/png": "[encoded data removed]",
      "text/plain": [
       "<Figure size 648x648 with 1 Axes>"
      ]
     },
     "metadata": {
      "needs_background": "light"
     },
     "output_type": "display_data"
    }
   ],
   "source": [
    "fig, ax = plt.subplots(figsize=(9, 9))\n",
    "\n",
    "left, right, bottom, top = y_min, y_max, x_max, x_min\n",
    "img = ax.imshow(occupancy, cmap='gray', extent=[left, right, bottom, top])\n",
    "ax.set_yticks(x_[np.arange(0, len(x_), 25)]);\n",
    "ax.set_xticks(y_[np.arange(0, len(y_), 25)]);\n",
    "# ax.plot(trj[:, 1], trj[:, 0])\n",
    "\n",
    "# plt.colorbar(img)"
   ]
  },
  {
   "cell_type": "code",
   "execution_count": null,
   "id": "8ceca1ff",
   "metadata": {},
   "outputs": [],
   "source": [
    "N = 1000\n",
    "device_height = 1.3\n",
    "\n",
    "trj_z = np.ones((trj.shape[0], 1)) * device_height\n",
    "trj_xyz = np.concatenate([trj, trj_z], axis=-1)\n",
    "\n",
    "bs_location = np.array([-1, -2.5, 2.98]).reshape(1, 3)\n",
    "\n",
    "alphas = np.linspace(0, 1, N).reshape(-1, 1, 1)\n",
    "ray_paths = (1-alphas)*bs_location + alphas*trj_xyz\n",
    "\n",
    "is_included = np.array(voxel_grid.check_if_included(o3d.utility.Vector3dVector(ray_paths.reshape(-1, 3))))\n",
    "is_occluded = np.any(is_included.reshape(*ray_paths.shape[:2]), axis=0)"
   ]
  },
  {
   "cell_type": "code",
   "execution_count": null,
   "id": "396b857a",
   "metadata": {},
   "outputs": [],
   "source": [
    "fig, ax = plt.subplots(figsize=(9, 9))\n",
    "\n",
    "left, right, bottom, top = y_min, y_max, x_max, x_min\n",
    "img = ax.imshow(occupancy, cmap='gray', extent=[left, right, bottom, top])\n",
    "ax.set_yticks(x_[np.arange(0, len(x_), 25)])\n",
    "ax.set_xticks(y_[np.arange(0, len(y_), 25)])\n",
    "\n",
    "ax.plot(trj[:, 1], trj[:, 0])\n",
    "ax.scatter(trj[is_occluded, 1], trj[is_occluded, 0], c='C3')\n",
    "ax.scatter(trj[~is_occluded, 1], trj[~is_occluded, 0])\n",
    "\n",
    "# plt.colorbar(img)"
   ]
  },
  {
   "cell_type": "code",
   "execution_count": null,
   "id": "c8539799",
   "metadata": {},
   "outputs": [],
   "source": []
  }
 ],
 "metadata": {
  "kernelspec": {
   "display_name": "3d-env",
   "language": "python",
   "name": "3d-env"
  },
  "language_info": {
   "codemirror_mode": {
    "name": "ipython",
    "version": 3
   },
   "file_extension": ".py",
   "mimetype": "text/x-python",
   "name": "python",
   "nbconvert_exporter": "python",
   "pygments_lexer": "ipython3",
   "version": "3.8.10"
  }
 },
 "nbformat": 4,
 "nbformat_minor": 5
}
