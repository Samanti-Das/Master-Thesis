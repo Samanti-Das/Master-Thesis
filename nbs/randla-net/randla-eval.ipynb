{
 "cells": [
  {
   "cell_type": "code",
   "execution_count": 1,
   "id": "e20be341-cfa4-4305-b363-2142beec6d9f",
   "metadata": {},
   "outputs": [
    {
     "name": "stdout",
     "output_type": "stream",
     "text": [
      "Jupyter environment detected. Enabling Open3D WebVisualizer.\n",
      "[Open3D INFO] WebRTC GUI backend enabled.\n",
      "[Open3D INFO] WebRTCWindowSystem: HTTP handshake server disabled.\n"
     ]
    }
   ],
   "source": [
    "%load_ext autoreload\n",
    "%autoreload 2\n",
    "\n",
    "import os\n",
    "import sys\n",
    "#sys.path.insert(1, '/home/samanti/Desktop/THESIS_LMT/imps/src')\n",
    "\n",
    "import numpy as np\n",
    "import open3d as o3d\n",
    "from tqdm.notebook import tqdm\n",
    "from tqdm import tqdm\n",
    "import torch\n",
    "from matplotlib import cm\n",
    "import matplotlib.pyplot as plt\n",
    "import torch.optim as optim\n",
    "import pandas as pd\n",
    "from sklearn.metrics import jaccard_score\n",
    "\n",
    "from imps.data.scannet import ScanNetScene, CLASS_NAMES\n",
    "from imps.sqn.model import Randla\n",
    "from imps.sqn.data_utils import prepare_input\n",
    "\n",
    "from imps.point_augment.Common import loss_utils\n",
    "\n",
    "from imps.point_augment.Augmentor.augmentor import Augmentor\n",
    "from imps.point_augment.Common import loss_utils, point_augment_utils\n",
    "\n",
    "SCENE_DIR = '/app/mnt/scans_test'\n",
    "\n",
    "N_POINTS = int(1.5e5)\n",
    "RESOLUTION = 25\n",
    "SIGMAS = None\n",
    "DEVICE = 'cpu'\n",
    "\n",
    "IGNORED_LABELS = [0]\n"
   ]
  },
  {
   "cell_type": "code",
   "execution_count": 2,
   "id": "a33445eb-67c3-44a6-9ba5-3823b37146cb",
   "metadata": {},
   "outputs": [],
   "source": [
    "def get_iou(logits, labels):\n",
    "    preds = np.argmax(logits, axis=-1)\n",
    "    ious = []\n",
    "    \n",
    "    for c in range(len(CLASS_NAMES)):\n",
    "        iou = jaccard_score((labels==c).astype(int), (preds==c).astype(int), pos_label=1)\n",
    "        ious.append(iou)\n",
    "        \n",
    "    return np.array(ious)"
   ]
  },
  {
   "cell_type": "code",
   "execution_count": 3,
   "id": "87fe589d-f0cb-4c69-adae-5c19a2768580",
   "metadata": {},
   "outputs": [],
   "source": [
    "SCENE_DIR_TRAIN ='/app/mnt/scans'"
   ]
  },
  {
   "cell_type": "code",
   "execution_count": 4,
   "id": "fe51c7aa-3134-4362-b5f4-8da2cf43f3d2",
   "metadata": {},
   "outputs": [],
   "source": [
    "with open('../../data/train_dataset.txt') as f:\n",
    "    train_data = f.read().splitlines() "
   ]
  },
  {
   "cell_type": "code",
   "execution_count": 5,
   "id": "f1eb085f-0a75-425a-bd30-131c7d0e32b6",
   "metadata": {},
   "outputs": [],
   "source": [
    "scene_names_train = os.listdir(SCENE_DIR_TRAIN)"
   ]
  },
  {
   "cell_type": "code",
   "execution_count": 6,
   "id": "a0ebc630-a653-4bce-8f5c-b3fc2b596871",
   "metadata": {},
   "outputs": [],
   "source": [
    "extra_scenes = list(set(scene_names_train).difference(train_data))"
   ]
  },
  {
   "cell_type": "code",
   "execution_count": 8,
   "id": "c334c077-0131-4db9-81f1-0815ebe15dfe",
   "metadata": {},
   "outputs": [
    {
     "name": "stdout",
     "output_type": "stream",
     "text": [
      "100\n"
     ]
    }
   ],
   "source": [
    "print(len(test_scenes))"
   ]
  },
  {
   "cell_type": "code",
   "execution_count": 8,
   "id": "219a7a32-da6d-4300-828f-81e273e358a3",
   "metadata": {},
   "outputs": [],
   "source": [
    "index_list = []\n",
    "for item in test_scenes:    \n",
    "    if item.endswith(\".zip\"):        \n",
    "        index = test_scenes.index(item)\n",
    "        index_list.append(index)\n",
    "        \n",
    "for index in sorted(index_list, reverse=True):\n",
    "    del test_scenes[index]"
   ]
  },
  {
   "cell_type": "code",
   "execution_count": 4,
   "id": "bfc1173a-94e2-4775-b07e-4923f7468cfc",
   "metadata": {},
   "outputs": [],
   "source": [
    "test_scenes = ['scene0664_02', 'scene0583_02', 'scene0316_00', 'scene0702_01', 'scene0300_01', 'scene0050_00', 'scene0599_01', 'scene0559_00', 'scene0064_01', 'scene0334_02', 'scene0701_02', 'scene0664_01', 'scene0558_00', 'scene0695_01', 'scene0046_00', 'scene0652_00', 'scene0256_02', 'scene0187_00', 'scene0629_00', 'scene0678_02', 'scene0684_01', 'scene0655_00', 'scene0690_01', 'scene0217_00', 'scene0435_02', 'scene0406_02', 'scene0423_01', 'scene0591_01', 'scene0647_00', 'scene0086_02', 'scene0328_00', 'scene0406_01', 'scene0629_01', 'scene0686_02', 'scene0050_02', 'scene0474_01', 'scene0046_02', 'scene0081_02', 'scene0025_01', 'scene0690_00', 'scene0685_02', 'scene0527_00', 'scene0653_00', 'scene0011_01', 'scene0686_00', 'scene0084_00', 'scene0671_01', 'scene0653_01', 'scene0575_02', 'scene0222_00', 'scene0696_02', 'scene0257_00', 'scene0164_00', 'scene0643_00', 'scene0357_00', 'scene0278_01', 'scene0695_03', 'scene0500_00', 'scene0338_02', 'scene0019_01', 'scene0077_01', 'scene0084_01', 'scene0088_01', 'scene0518_00', 'scene0378_02', 'scene0353_01', 'scene0684_00', 'scene0458_00', 'scene0658_00', 'scene0693_01', 'scene0063_00', 'scene0207_01', 'scene0427_00', 'scene0146_00', 'scene0382_01', 'scene0149_00', 'scene0153_01', 'scene0633_01', 'scene0609_01', 'scene0553_00', 'scene0343_00', 'scene0329_00', 'scene0378_00', 'scene0458_01', 'scene0648_00', 'scene0568_01', 'scene0354_00', 'scene0580_00', 'scene0648_01', 'scene0187_01', 'scene0356_00', 'scene0651_02', 'scene0609_02', 'scene0591_00', 'scene0644_00', 'scene0432_01', 'scene0131_00', 'scene0426_02', 'scene0701_01', 'scene0169_00']"
   ]
  },
  {
   "cell_type": "code",
   "execution_count": 15,
   "id": "ddde5722-3507-4019-b841-7cc259175a6d",
   "metadata": {},
   "outputs": [],
   "source": [
    "test_scenes_2 = ['scene0552_00', 'scene0406_00', 'scene0412_00', 'scene0700_02', 'scene0559_01', 'scene0100_02', 'scene0700_00', 'scene0329_01', 'scene0011_00', 'scene0704_01', 'scene0256_00', 'scene0686_01', 'scene0351_00', 'scene0329_02', 'scene0693_00', 'scene0064_00', 'scene0598_00', 'scene0355_01', 'scene0574_01', 'scene0607_00', 'scene0616_01', 'scene0496_00', 'scene0164_03', 'scene0462_00', 'scene0196_00', 'scene0608_01', 'scene0088_00', 'scene0353_00', 'scene0678_01', 'scene0430_00', 'scene0100_01', 'scene0488_01', 'scene0000_00.zip', 'scene0598_02', 'scene0552_01', 'scene0231_02', 'scene0307_00', 'scene0356_02', 'scene0356_01', 'scene0474_03', 'scene0086_01', 'scene0608_02', 'scene0389_00', 'scene0251_00', 'scene0414_00', 'scene0593_00', 'scene0578_01', 'scene0207_02', 'scene0435_00', 'scene0277_00', 'scene0307_02', 'scene0494_00', 'scene0645_00', 'scene0580_01', 'scene0704_00', 'scene0618_00', 'scene0334_00', 'scene0377_00', 'scene0131_01', 'scene0025_02', 'scene0256_01', 'scene0030_01', 'scene0599_00', 'scene0550_00', 'scene0423_00', 'scene0647_01', 'scene0697_03', 'scene0695_02', 'scene0696_00', 'scene0095_00', 'scene0300_00', 'scene0144_01', 'scene0699_00', 'scene0549_01', 'scene0553_01', 'scene0314_00', 'scene0088_03', 'scene0696_01', 'scene0575_01', 'scene0474_00', 'scene0084_02', 'scene0081_00', 'scene0307_01', 'scene0558_01', 'scene0670_00', 'scene0633_00', 'scene0426_00', 'scene0591_02', 'scene0695_00', 'scene0595_00', 'scene0609_03', 'scene0697_01', 'scene0203_01', 'scene0430_01', 'scene0025_00', 'scene0701_00', 'scene0678_00', 'scene0030_00', 'scene0426_01', 'scene0606_01', 'scene0277_01']"
   ]
  },
  {
   "cell_type": "code",
   "execution_count": 17,
   "id": "c3015670-940e-4d30-9ead-63ff11c920d8",
   "metadata": {},
   "outputs": [],
   "source": [
    "index_list = []\n",
    "for item in test_scenes_2:    \n",
    "    if item.endswith(\".zip\"):        \n",
    "        index = test_scenes_2.index(item)\n",
    "        index_list.append(index)\n",
    "        \n",
    "for index in sorted(index_list, reverse=True):\n",
    "    del test_scenes_2[index]"
   ]
  },
  {
   "cell_type": "code",
   "execution_count": 20,
   "id": "dbc5f2a3-272b-4447-bf11-94e555c67e5f",
   "metadata": {},
   "outputs": [
    {
     "name": "stdout",
     "output_type": "stream",
     "text": [
      "100\n"
     ]
    }
   ],
   "source": [
    "print(len(test_scenes_2))"
   ]
  },
  {
   "cell_type": "code",
   "execution_count": 6,
   "id": "8066a1dc-feba-48cd-beca-8de0758552cc",
   "metadata": {},
   "outputs": [
    {
     "data": {
      "text/plain": [
       "Randla(\n",
       "  (fc0): Conv1d(\n",
       "    (conv): Conv1d(3, 8, kernel_size=(1,), stride=(1,), bias=False)\n",
       "    (bn): BatchNorm1d(\n",
       "      (bn): BatchNorm1d(8, eps=1e-06, momentum=0.99, affine=True, track_running_stats=True)\n",
       "    )\n",
       "    (activation): LeakyReLU(negative_slope=0.2, inplace=True)\n",
       "  )\n",
       "  (dilated_res_blocks): ModuleList(\n",
       "    (0): Dilated_res_block(\n",
       "      (mlp1): Conv2d(\n",
       "        (conv): Conv2d(8, 4, kernel_size=(1, 1), stride=(1, 1), bias=False)\n",
       "        (bn): BatchNorm2d(\n",
       "          (bn): BatchNorm2d(4, eps=1e-06, momentum=0.99, affine=True, track_running_stats=True)\n",
       "        )\n",
       "        (activation): LeakyReLU(negative_slope=0.2, inplace=True)\n",
       "      )\n",
       "      (lfa): Building_block(\n",
       "        (mlp1): Conv2d(\n",
       "          (conv): Conv2d(10, 4, kernel_size=(1, 1), stride=(1, 1), bias=False)\n",
       "          (bn): BatchNorm2d(\n",
       "            (bn): BatchNorm2d(4, eps=1e-06, momentum=0.99, affine=True, track_running_stats=True)\n",
       "          )\n",
       "          (activation): LeakyReLU(negative_slope=0.2, inplace=True)\n",
       "        )\n",
       "        (att_pooling_1): Att_pooling(\n",
       "          (fc): Conv2d(8, 8, kernel_size=(1, 1), stride=(1, 1), bias=False)\n",
       "          (mlp): Conv2d(\n",
       "            (conv): Conv2d(8, 4, kernel_size=(1, 1), stride=(1, 1), bias=False)\n",
       "            (bn): BatchNorm2d(\n",
       "              (bn): BatchNorm2d(4, eps=1e-06, momentum=0.99, affine=True, track_running_stats=True)\n",
       "            )\n",
       "            (activation): LeakyReLU(negative_slope=0.2, inplace=True)\n",
       "          )\n",
       "        )\n",
       "        (mlp2): Conv2d(\n",
       "          (conv): Conv2d(4, 4, kernel_size=(1, 1), stride=(1, 1), bias=False)\n",
       "          (bn): BatchNorm2d(\n",
       "            (bn): BatchNorm2d(4, eps=1e-06, momentum=0.99, affine=True, track_running_stats=True)\n",
       "          )\n",
       "          (activation): LeakyReLU(negative_slope=0.2, inplace=True)\n",
       "        )\n",
       "        (att_pooling_2): Att_pooling(\n",
       "          (fc): Conv2d(8, 8, kernel_size=(1, 1), stride=(1, 1), bias=False)\n",
       "          (mlp): Conv2d(\n",
       "            (conv): Conv2d(8, 8, kernel_size=(1, 1), stride=(1, 1), bias=False)\n",
       "            (bn): BatchNorm2d(\n",
       "              (bn): BatchNorm2d(8, eps=1e-06, momentum=0.99, affine=True, track_running_stats=True)\n",
       "            )\n",
       "            (activation): LeakyReLU(negative_slope=0.2, inplace=True)\n",
       "          )\n",
       "        )\n",
       "      )\n",
       "      (mlp2): Conv2d(\n",
       "        (conv): Conv2d(8, 16, kernel_size=(1, 1), stride=(1, 1), bias=False)\n",
       "        (bn): BatchNorm2d(\n",
       "          (bn): BatchNorm2d(16, eps=1e-06, momentum=0.99, affine=True, track_running_stats=True)\n",
       "        )\n",
       "      )\n",
       "      (shortcut): Conv2d(\n",
       "        (conv): Conv2d(8, 16, kernel_size=(1, 1), stride=(1, 1), bias=False)\n",
       "        (bn): BatchNorm2d(\n",
       "          (bn): BatchNorm2d(16, eps=1e-06, momentum=0.99, affine=True, track_running_stats=True)\n",
       "        )\n",
       "      )\n",
       "    )\n",
       "    (1): Dilated_res_block(\n",
       "      (mlp1): Conv2d(\n",
       "        (conv): Conv2d(16, 16, kernel_size=(1, 1), stride=(1, 1), bias=False)\n",
       "        (bn): BatchNorm2d(\n",
       "          (bn): BatchNorm2d(16, eps=1e-06, momentum=0.99, affine=True, track_running_stats=True)\n",
       "        )\n",
       "        (activation): LeakyReLU(negative_slope=0.2, inplace=True)\n",
       "      )\n",
       "      (lfa): Building_block(\n",
       "        (mlp1): Conv2d(\n",
       "          (conv): Conv2d(10, 16, kernel_size=(1, 1), stride=(1, 1), bias=False)\n",
       "          (bn): BatchNorm2d(\n",
       "            (bn): BatchNorm2d(16, eps=1e-06, momentum=0.99, affine=True, track_running_stats=True)\n",
       "          )\n",
       "          (activation): LeakyReLU(negative_slope=0.2, inplace=True)\n",
       "        )\n",
       "        (att_pooling_1): Att_pooling(\n",
       "          (fc): Conv2d(32, 32, kernel_size=(1, 1), stride=(1, 1), bias=False)\n",
       "          (mlp): Conv2d(\n",
       "            (conv): Conv2d(32, 16, kernel_size=(1, 1), stride=(1, 1), bias=False)\n",
       "            (bn): BatchNorm2d(\n",
       "              (bn): BatchNorm2d(16, eps=1e-06, momentum=0.99, affine=True, track_running_stats=True)\n",
       "            )\n",
       "            (activation): LeakyReLU(negative_slope=0.2, inplace=True)\n",
       "          )\n",
       "        )\n",
       "        (mlp2): Conv2d(\n",
       "          (conv): Conv2d(16, 16, kernel_size=(1, 1), stride=(1, 1), bias=False)\n",
       "          (bn): BatchNorm2d(\n",
       "            (bn): BatchNorm2d(16, eps=1e-06, momentum=0.99, affine=True, track_running_stats=True)\n",
       "          )\n",
       "          (activation): LeakyReLU(negative_slope=0.2, inplace=True)\n",
       "        )\n",
       "        (att_pooling_2): Att_pooling(\n",
       "          (fc): Conv2d(32, 32, kernel_size=(1, 1), stride=(1, 1), bias=False)\n",
       "          (mlp): Conv2d(\n",
       "            (conv): Conv2d(32, 32, kernel_size=(1, 1), stride=(1, 1), bias=False)\n",
       "            (bn): BatchNorm2d(\n",
       "              (bn): BatchNorm2d(32, eps=1e-06, momentum=0.99, affine=True, track_running_stats=True)\n",
       "            )\n",
       "            (activation): LeakyReLU(negative_slope=0.2, inplace=True)\n",
       "          )\n",
       "        )\n",
       "      )\n",
       "      (mlp2): Conv2d(\n",
       "        (conv): Conv2d(32, 64, kernel_size=(1, 1), stride=(1, 1), bias=False)\n",
       "        (bn): BatchNorm2d(\n",
       "          (bn): BatchNorm2d(64, eps=1e-06, momentum=0.99, affine=True, track_running_stats=True)\n",
       "        )\n",
       "      )\n",
       "      (shortcut): Conv2d(\n",
       "        (conv): Conv2d(16, 64, kernel_size=(1, 1), stride=(1, 1), bias=False)\n",
       "        (bn): BatchNorm2d(\n",
       "          (bn): BatchNorm2d(64, eps=1e-06, momentum=0.99, affine=True, track_running_stats=True)\n",
       "        )\n",
       "      )\n",
       "    )\n",
       "    (2): Dilated_res_block(\n",
       "      (mlp1): Conv2d(\n",
       "        (conv): Conv2d(64, 32, kernel_size=(1, 1), stride=(1, 1), bias=False)\n",
       "        (bn): BatchNorm2d(\n",
       "          (bn): BatchNorm2d(32, eps=1e-06, momentum=0.99, affine=True, track_running_stats=True)\n",
       "        )\n",
       "        (activation): LeakyReLU(negative_slope=0.2, inplace=True)\n",
       "      )\n",
       "      (lfa): Building_block(\n",
       "        (mlp1): Conv2d(\n",
       "          (conv): Conv2d(10, 32, kernel_size=(1, 1), stride=(1, 1), bias=False)\n",
       "          (bn): BatchNorm2d(\n",
       "            (bn): BatchNorm2d(32, eps=1e-06, momentum=0.99, affine=True, track_running_stats=True)\n",
       "          )\n",
       "          (activation): LeakyReLU(negative_slope=0.2, inplace=True)\n",
       "        )\n",
       "        (att_pooling_1): Att_pooling(\n",
       "          (fc): Conv2d(64, 64, kernel_size=(1, 1), stride=(1, 1), bias=False)\n",
       "          (mlp): Conv2d(\n",
       "            (conv): Conv2d(64, 32, kernel_size=(1, 1), stride=(1, 1), bias=False)\n",
       "            (bn): BatchNorm2d(\n",
       "              (bn): BatchNorm2d(32, eps=1e-06, momentum=0.99, affine=True, track_running_stats=True)\n",
       "            )\n",
       "            (activation): LeakyReLU(negative_slope=0.2, inplace=True)\n",
       "          )\n",
       "        )\n",
       "        (mlp2): Conv2d(\n",
       "          (conv): Conv2d(32, 32, kernel_size=(1, 1), stride=(1, 1), bias=False)\n",
       "          (bn): BatchNorm2d(\n",
       "            (bn): BatchNorm2d(32, eps=1e-06, momentum=0.99, affine=True, track_running_stats=True)\n",
       "          )\n",
       "          (activation): LeakyReLU(negative_slope=0.2, inplace=True)\n",
       "        )\n",
       "        (att_pooling_2): Att_pooling(\n",
       "          (fc): Conv2d(64, 64, kernel_size=(1, 1), stride=(1, 1), bias=False)\n",
       "          (mlp): Conv2d(\n",
       "            (conv): Conv2d(64, 64, kernel_size=(1, 1), stride=(1, 1), bias=False)\n",
       "            (bn): BatchNorm2d(\n",
       "              (bn): BatchNorm2d(64, eps=1e-06, momentum=0.99, affine=True, track_running_stats=True)\n",
       "            )\n",
       "            (activation): LeakyReLU(negative_slope=0.2, inplace=True)\n",
       "          )\n",
       "        )\n",
       "      )\n",
       "      (mlp2): Conv2d(\n",
       "        (conv): Conv2d(64, 128, kernel_size=(1, 1), stride=(1, 1), bias=False)\n",
       "        (bn): BatchNorm2d(\n",
       "          (bn): BatchNorm2d(128, eps=1e-06, momentum=0.99, affine=True, track_running_stats=True)\n",
       "        )\n",
       "      )\n",
       "      (shortcut): Conv2d(\n",
       "        (conv): Conv2d(64, 128, kernel_size=(1, 1), stride=(1, 1), bias=False)\n",
       "        (bn): BatchNorm2d(\n",
       "          (bn): BatchNorm2d(128, eps=1e-06, momentum=0.99, affine=True, track_running_stats=True)\n",
       "        )\n",
       "      )\n",
       "    )\n",
       "  )\n",
       "  (decoder_blocks): ModuleList(\n",
       "    (0): Conv1d(\n",
       "      (conv): Conv1d(128, 128, kernel_size=(1,), stride=(1,), bias=False)\n",
       "      (bn): BatchNorm1d(\n",
       "        (bn): BatchNorm1d(128, eps=1e-06, momentum=0.99, affine=True, track_running_stats=True)\n",
       "      )\n",
       "      (activation): ReLU(inplace=True)\n",
       "    )\n",
       "    (1): Conv1d(\n",
       "      (conv): Conv1d(128, 64, kernel_size=(1,), stride=(1,), bias=False)\n",
       "      (bn): BatchNorm1d(\n",
       "        (bn): BatchNorm1d(64, eps=1e-06, momentum=0.99, affine=True, track_running_stats=True)\n",
       "      )\n",
       "      (activation): ReLU(inplace=True)\n",
       "    )\n",
       "    (2): Conv1d(\n",
       "      (conv): Conv1d(64, 16, kernel_size=(1,), stride=(1,), bias=False)\n",
       "      (bn): BatchNorm1d(\n",
       "        (bn): BatchNorm1d(16, eps=1e-06, momentum=0.99, affine=True, track_running_stats=True)\n",
       "      )\n",
       "      (activation): ReLU(inplace=True)\n",
       "    )\n",
       "    (3): Conv1d(\n",
       "      (conv): Conv1d(16, 8, kernel_size=(1,), stride=(1,), bias=False)\n",
       "      (bn): BatchNorm1d(\n",
       "        (bn): BatchNorm1d(8, eps=1e-06, momentum=0.99, affine=True, track_running_stats=True)\n",
       "      )\n",
       "      (activation): ReLU(inplace=True)\n",
       "    )\n",
       "    (4): Conv1d(\n",
       "      (conv): Conv1d(8, 21, kernel_size=(1,), stride=(1,))\n",
       "    )\n",
       "  )\n",
       ")"
      ]
     },
     "execution_count": 6,
     "metadata": {},
     "output_type": "execute_result"
    }
   ],
   "source": [
    "randla = Randla(d_feature=3, d_in=8, encoder_dims=[8, 32, 64], device=DEVICE, num_class=len(CLASS_NAMES), interpolator='keops')\n",
    "randla.load_state_dict(torch.load('../../processed/saved_models/Randla_entire_dataset_10_epochs'))\n",
    "randla.eval()"
   ]
  },
  {
   "cell_type": "code",
   "execution_count": 7,
   "id": "eb529e19-cff9-4675-9769-22c031ff011e",
   "metadata": {},
   "outputs": [
    {
     "name": "stderr",
     "output_type": "stream",
     "text": [
      "  0%|                                                                                                                                                                                       | 0/100 [00:00<?, ?it/s]/usr/local/lib/python3.8/dist-packages/sklearn/metrics/_classification.py:1248: UndefinedMetricWarning: Jaccard is ill-defined and being set to 0.0 due to no true or predicted samples. Use `zero_division` parameter to control this behavior.\n",
      "  _warn_prf(average, modifier, msg_start, len(result))\n",
      "/usr/local/lib/python3.8/dist-packages/sklearn/metrics/_classification.py:1248: UndefinedMetricWarning: Jaccard is ill-defined and being set to 0.0 due to no true or predicted samples. Use `zero_division` parameter to control this behavior.\n",
      "  _warn_prf(average, modifier, msg_start, len(result))\n",
      "/usr/local/lib/python3.8/dist-packages/sklearn/metrics/_classification.py:1248: UndefinedMetricWarning: Jaccard is ill-defined and being set to 0.0 due to no true or predicted samples. Use `zero_division` parameter to control this behavior.\n",
      "  _warn_prf(average, modifier, msg_start, len(result))\n",
      "/usr/local/lib/python3.8/dist-packages/sklearn/metrics/_classification.py:1248: UndefinedMetricWarning: Jaccard is ill-defined and being set to 0.0 due to no true or predicted samples. Use `zero_division` parameter to control this behavior.\n",
      "  _warn_prf(average, modifier, msg_start, len(result))\n",
      "/usr/local/lib/python3.8/dist-packages/sklearn/metrics/_classification.py:1248: UndefinedMetricWarning: Jaccard is ill-defined and being set to 0.0 due to no true or predicted samples. Use `zero_division` parameter to control this behavior.\n",
      "  _warn_prf(average, modifier, msg_start, len(result))\n",
      "/usr/local/lib/python3.8/dist-packages/sklearn/metrics/_classification.py:1248: UndefinedMetricWarning: Jaccard is ill-defined and being set to 0.0 due to no true or predicted samples. Use `zero_division` parameter to control this behavior.\n",
      "  _warn_prf(average, modifier, msg_start, len(result))\n",
      "/usr/local/lib/python3.8/dist-packages/sklearn/metrics/_classification.py:1248: UndefinedMetricWarning: Jaccard is ill-defined and being set to 0.0 due to no true or predicted samples. Use `zero_division` parameter to control this behavior.\n",
      "  _warn_prf(average, modifier, msg_start, len(result))\n",
      "/usr/local/lib/python3.8/dist-packages/sklearn/metrics/_classification.py:1248: UndefinedMetricWarning: Jaccard is ill-defined and being set to 0.0 due to no true or predicted samples. Use `zero_division` parameter to control this behavior.\n",
      "  _warn_prf(average, modifier, msg_start, len(result))\n",
      "  1%|█▊                                                                                                                                                                             | 1/100 [00:16<26:28, 16.04s/it]"
     ]
    },
    {
     "name": "stdout",
     "output_type": "stream",
     "text": [
      "mIOU given by: 0.2962460688548717\n",
      "[0.2962460688548717]\n"
     ]
    },
    {
     "name": "stderr",
     "output_type": "stream",
     "text": [
      "/usr/local/lib/python3.8/dist-packages/sklearn/metrics/_classification.py:1248: UndefinedMetricWarning: Jaccard is ill-defined and being set to 0.0 due to no true or predicted samples. Use `zero_division` parameter to control this behavior.\n",
      "  _warn_prf(average, modifier, msg_start, len(result))\n",
      "/usr/local/lib/python3.8/dist-packages/sklearn/metrics/_classification.py:1248: UndefinedMetricWarning: Jaccard is ill-defined and being set to 0.0 due to no true or predicted samples. Use `zero_division` parameter to control this behavior.\n",
      "  _warn_prf(average, modifier, msg_start, len(result))\n",
      "/usr/local/lib/python3.8/dist-packages/sklearn/metrics/_classification.py:1248: UndefinedMetricWarning: Jaccard is ill-defined and being set to 0.0 due to no true or predicted samples. Use `zero_division` parameter to control this behavior.\n",
      "  _warn_prf(average, modifier, msg_start, len(result))\n",
      "/usr/local/lib/python3.8/dist-packages/sklearn/metrics/_classification.py:1248: UndefinedMetricWarning: Jaccard is ill-defined and being set to 0.0 due to no true or predicted samples. Use `zero_division` parameter to control this behavior.\n",
      "  _warn_prf(average, modifier, msg_start, len(result))\n",
      "/usr/local/lib/python3.8/dist-packages/sklearn/metrics/_classification.py:1248: UndefinedMetricWarning: Jaccard is ill-defined and being set to 0.0 due to no true or predicted samples. Use `zero_division` parameter to control this behavior.\n",
      "  _warn_prf(average, modifier, msg_start, len(result))\n",
      "/usr/local/lib/python3.8/dist-packages/sklearn/metrics/_classification.py:1248: UndefinedMetricWarning: Jaccard is ill-defined and being set to 0.0 due to no true or predicted samples. Use `zero_division` parameter to control this behavior.\n",
      "  _warn_prf(average, modifier, msg_start, len(result))\n",
      "/usr/local/lib/python3.8/dist-packages/sklearn/metrics/_classification.py:1248: UndefinedMetricWarning: Jaccard is ill-defined and being set to 0.0 due to no true or predicted samples. Use `zero_division` parameter to control this behavior.\n",
      "  _warn_prf(average, modifier, msg_start, len(result))\n",
      "  2%|███▌                                                                                                                                                                           | 2/100 [00:32<26:47, 16.40s/it]"
     ]
    },
    {
     "name": "stdout",
     "output_type": "stream",
     "text": [
      "mIOU given by: 0.30391794630616453\n",
      "[0.2962460688548717, 0.30391794630616453]\n"
     ]
    },
    {
     "name": "stderr",
     "output_type": "stream",
     "text": [
      "/usr/local/lib/python3.8/dist-packages/sklearn/metrics/_classification.py:1248: UndefinedMetricWarning: Jaccard is ill-defined and being set to 0.0 due to no true or predicted samples. Use `zero_division` parameter to control this behavior.\n",
      "  _warn_prf(average, modifier, msg_start, len(result))\n",
      "/usr/local/lib/python3.8/dist-packages/sklearn/metrics/_classification.py:1248: UndefinedMetricWarning: Jaccard is ill-defined and being set to 0.0 due to no true or predicted samples. Use `zero_division` parameter to control this behavior.\n",
      "  _warn_prf(average, modifier, msg_start, len(result))\n",
      "/usr/local/lib/python3.8/dist-packages/sklearn/metrics/_classification.py:1248: UndefinedMetricWarning: Jaccard is ill-defined and being set to 0.0 due to no true or predicted samples. Use `zero_division` parameter to control this behavior.\n",
      "  _warn_prf(average, modifier, msg_start, len(result))\n",
      "/usr/local/lib/python3.8/dist-packages/sklearn/metrics/_classification.py:1248: UndefinedMetricWarning: Jaccard is ill-defined and being set to 0.0 due to no true or predicted samples. Use `zero_division` parameter to control this behavior.\n",
      "  _warn_prf(average, modifier, msg_start, len(result))\n",
      "/usr/local/lib/python3.8/dist-packages/sklearn/metrics/_classification.py:1248: UndefinedMetricWarning: Jaccard is ill-defined and being set to 0.0 due to no true or predicted samples. Use `zero_division` parameter to control this behavior.\n",
      "  _warn_prf(average, modifier, msg_start, len(result))\n",
      "/usr/local/lib/python3.8/dist-packages/sklearn/metrics/_classification.py:1248: UndefinedMetricWarning: Jaccard is ill-defined and being set to 0.0 due to no true or predicted samples. Use `zero_division` parameter to control this behavior.\n",
      "  _warn_prf(average, modifier, msg_start, len(result))\n",
      "/usr/local/lib/python3.8/dist-packages/sklearn/metrics/_classification.py:1248: UndefinedMetricWarning: Jaccard is ill-defined and being set to 0.0 due to no true or predicted samples. Use `zero_division` parameter to control this behavior.\n",
      "  _warn_prf(average, modifier, msg_start, len(result))\n",
      "/usr/local/lib/python3.8/dist-packages/sklearn/metrics/_classification.py:1248: UndefinedMetricWarning: Jaccard is ill-defined and being set to 0.0 due to no true or predicted samples. Use `zero_division` parameter to control this behavior.\n",
      "  _warn_prf(average, modifier, msg_start, len(result))\n",
      "/usr/local/lib/python3.8/dist-packages/sklearn/metrics/_classification.py:1248: UndefinedMetricWarning: Jaccard is ill-defined and being set to 0.0 due to no true or predicted samples. Use `zero_division` parameter to control this behavior.\n",
      "  _warn_prf(average, modifier, msg_start, len(result))\n",
      "/usr/local/lib/python3.8/dist-packages/sklearn/metrics/_classification.py:1248: UndefinedMetricWarning: Jaccard is ill-defined and being set to 0.0 due to no true or predicted samples. Use `zero_division` parameter to control this behavior.\n",
      "  _warn_prf(average, modifier, msg_start, len(result))\n",
      "/usr/local/lib/python3.8/dist-packages/sklearn/metrics/_classification.py:1248: UndefinedMetricWarning: Jaccard is ill-defined and being set to 0.0 due to no true or predicted samples. Use `zero_division` parameter to control this behavior.\n",
      "  _warn_prf(average, modifier, msg_start, len(result))\n",
      "  3%|█████▎                                                                                                                                                                         | 3/100 [00:48<26:14, 16.24s/it]"
     ]
    },
    {
     "name": "stdout",
     "output_type": "stream",
     "text": [
      "mIOU given by: 0.6524141724191902\n",
      "[0.2962460688548717, 0.30391794630616453, 0.6524141724191902]\n"
     ]
    },
    {
     "name": "stderr",
     "output_type": "stream",
     "text": [
      "/usr/local/lib/python3.8/dist-packages/sklearn/metrics/_classification.py:1248: UndefinedMetricWarning: Jaccard is ill-defined and being set to 0.0 due to no true or predicted samples. Use `zero_division` parameter to control this behavior.\n",
      "  _warn_prf(average, modifier, msg_start, len(result))\n",
      "/usr/local/lib/python3.8/dist-packages/sklearn/metrics/_classification.py:1248: UndefinedMetricWarning: Jaccard is ill-defined and being set to 0.0 due to no true or predicted samples. Use `zero_division` parameter to control this behavior.\n",
      "  _warn_prf(average, modifier, msg_start, len(result))\n",
      "/usr/local/lib/python3.8/dist-packages/sklearn/metrics/_classification.py:1248: UndefinedMetricWarning: Jaccard is ill-defined and being set to 0.0 due to no true or predicted samples. Use `zero_division` parameter to control this behavior.\n",
      "  _warn_prf(average, modifier, msg_start, len(result))\n",
      "/usr/local/lib/python3.8/dist-packages/sklearn/metrics/_classification.py:1248: UndefinedMetricWarning: Jaccard is ill-defined and being set to 0.0 due to no true or predicted samples. Use `zero_division` parameter to control this behavior.\n",
      "  _warn_prf(average, modifier, msg_start, len(result))\n",
      "/usr/local/lib/python3.8/dist-packages/sklearn/metrics/_classification.py:1248: UndefinedMetricWarning: Jaccard is ill-defined and being set to 0.0 due to no true or predicted samples. Use `zero_division` parameter to control this behavior.\n",
      "  _warn_prf(average, modifier, msg_start, len(result))\n",
      "/usr/local/lib/python3.8/dist-packages/sklearn/metrics/_classification.py:1248: UndefinedMetricWarning: Jaccard is ill-defined and being set to 0.0 due to no true or predicted samples. Use `zero_division` parameter to control this behavior.\n",
      "  _warn_prf(average, modifier, msg_start, len(result))\n",
      "/usr/local/lib/python3.8/dist-packages/sklearn/metrics/_classification.py:1248: UndefinedMetricWarning: Jaccard is ill-defined and being set to 0.0 due to no true or predicted samples. Use `zero_division` parameter to control this behavior.\n",
      "  _warn_prf(average, modifier, msg_start, len(result))\n",
      "/usr/local/lib/python3.8/dist-packages/sklearn/metrics/_classification.py:1248: UndefinedMetricWarning: Jaccard is ill-defined and being set to 0.0 due to no true or predicted samples. Use `zero_division` parameter to control this behavior.\n",
      "  _warn_prf(average, modifier, msg_start, len(result))\n",
      "/usr/local/lib/python3.8/dist-packages/sklearn/metrics/_classification.py:1248: UndefinedMetricWarning: Jaccard is ill-defined and being set to 0.0 due to no true or predicted samples. Use `zero_division` parameter to control this behavior.\n",
      "  _warn_prf(average, modifier, msg_start, len(result))\n",
      "/usr/local/lib/python3.8/dist-packages/sklearn/metrics/_classification.py:1248: UndefinedMetricWarning: Jaccard is ill-defined and being set to 0.0 due to no true or predicted samples. Use `zero_division` parameter to control this behavior.\n",
      "  _warn_prf(average, modifier, msg_start, len(result))\n",
      "/usr/local/lib/python3.8/dist-packages/sklearn/metrics/_classification.py:1248: UndefinedMetricWarning: Jaccard is ill-defined and being set to 0.0 due to no true or predicted samples. Use `zero_division` parameter to control this behavior.\n",
      "  _warn_prf(average, modifier, msg_start, len(result))\n",
      "  4%|███████                                                                                                                                                                        | 4/100 [01:04<25:40, 16.05s/it]"
     ]
    },
    {
     "name": "stdout",
     "output_type": "stream",
     "text": [
      "mIOU given by: 0.5080124211021342\n",
      "[0.2962460688548717, 0.30391794630616453, 0.6524141724191902, 0.5080124211021342]\n"
     ]
    },
    {
     "name": "stderr",
     "output_type": "stream",
     "text": [
      "/usr/local/lib/python3.8/dist-packages/sklearn/metrics/_classification.py:1248: UndefinedMetricWarning: Jaccard is ill-defined and being set to 0.0 due to no true or predicted samples. Use `zero_division` parameter to control this behavior.\n",
      "  _warn_prf(average, modifier, msg_start, len(result))\n",
      "/usr/local/lib/python3.8/dist-packages/sklearn/metrics/_classification.py:1248: UndefinedMetricWarning: Jaccard is ill-defined and being set to 0.0 due to no true or predicted samples. Use `zero_division` parameter to control this behavior.\n",
      "  _warn_prf(average, modifier, msg_start, len(result))\n",
      "/usr/local/lib/python3.8/dist-packages/sklearn/metrics/_classification.py:1248: UndefinedMetricWarning: Jaccard is ill-defined and being set to 0.0 due to no true or predicted samples. Use `zero_division` parameter to control this behavior.\n",
      "  _warn_prf(average, modifier, msg_start, len(result))\n",
      "/usr/local/lib/python3.8/dist-packages/sklearn/metrics/_classification.py:1248: UndefinedMetricWarning: Jaccard is ill-defined and being set to 0.0 due to no true or predicted samples. Use `zero_division` parameter to control this behavior.\n",
      "  _warn_prf(average, modifier, msg_start, len(result))\n",
      "/usr/local/lib/python3.8/dist-packages/sklearn/metrics/_classification.py:1248: UndefinedMetricWarning: Jaccard is ill-defined and being set to 0.0 due to no true or predicted samples. Use `zero_division` parameter to control this behavior.\n",
      "  _warn_prf(average, modifier, msg_start, len(result))\n",
      "/usr/local/lib/python3.8/dist-packages/sklearn/metrics/_classification.py:1248: UndefinedMetricWarning: Jaccard is ill-defined and being set to 0.0 due to no true or predicted samples. Use `zero_division` parameter to control this behavior.\n",
      "  _warn_prf(average, modifier, msg_start, len(result))\n",
      "/usr/local/lib/python3.8/dist-packages/sklearn/metrics/_classification.py:1248: UndefinedMetricWarning: Jaccard is ill-defined and being set to 0.0 due to no true or predicted samples. Use `zero_division` parameter to control this behavior.\n",
      "  _warn_prf(average, modifier, msg_start, len(result))\n",
      "/usr/local/lib/python3.8/dist-packages/sklearn/metrics/_classification.py:1248: UndefinedMetricWarning: Jaccard is ill-defined and being set to 0.0 due to no true or predicted samples. Use `zero_division` parameter to control this behavior.\n",
      "  _warn_prf(average, modifier, msg_start, len(result))\n",
      "  5%|████████▊                                                                                                                                                                      | 5/100 [01:21<25:50, 16.32s/it]"
     ]
    },
    {
     "name": "stdout",
     "output_type": "stream",
     "text": [
      "mIOU given by: 0.2546997191227881\n",
      "[0.2962460688548717, 0.30391794630616453, 0.6524141724191902, 0.5080124211021342, 0.2546997191227881]\n"
     ]
    },
    {
     "name": "stderr",
     "output_type": "stream",
     "text": [
      "/usr/local/lib/python3.8/dist-packages/sklearn/metrics/_classification.py:1248: UndefinedMetricWarning: Jaccard is ill-defined and being set to 0.0 due to no true or predicted samples. Use `zero_division` parameter to control this behavior.\n",
      "  _warn_prf(average, modifier, msg_start, len(result))\n",
      "/usr/local/lib/python3.8/dist-packages/sklearn/metrics/_classification.py:1248: UndefinedMetricWarning: Jaccard is ill-defined and being set to 0.0 due to no true or predicted samples. Use `zero_division` parameter to control this behavior.\n",
      "  _warn_prf(average, modifier, msg_start, len(result))\n",
      "/usr/local/lib/python3.8/dist-packages/sklearn/metrics/_classification.py:1248: UndefinedMetricWarning: Jaccard is ill-defined and being set to 0.0 due to no true or predicted samples. Use `zero_division` parameter to control this behavior.\n",
      "  _warn_prf(average, modifier, msg_start, len(result))\n",
      "/usr/local/lib/python3.8/dist-packages/sklearn/metrics/_classification.py:1248: UndefinedMetricWarning: Jaccard is ill-defined and being set to 0.0 due to no true or predicted samples. Use `zero_division` parameter to control this behavior.\n",
      "  _warn_prf(average, modifier, msg_start, len(result))\n",
      "/usr/local/lib/python3.8/dist-packages/sklearn/metrics/_classification.py:1248: UndefinedMetricWarning: Jaccard is ill-defined and being set to 0.0 due to no true or predicted samples. Use `zero_division` parameter to control this behavior.\n",
      "  _warn_prf(average, modifier, msg_start, len(result))\n",
      "/usr/local/lib/python3.8/dist-packages/sklearn/metrics/_classification.py:1248: UndefinedMetricWarning: Jaccard is ill-defined and being set to 0.0 due to no true or predicted samples. Use `zero_division` parameter to control this behavior.\n",
      "  _warn_prf(average, modifier, msg_start, len(result))\n",
      "/usr/local/lib/python3.8/dist-packages/sklearn/metrics/_classification.py:1248: UndefinedMetricWarning: Jaccard is ill-defined and being set to 0.0 due to no true or predicted samples. Use `zero_division` parameter to control this behavior.\n",
      "  _warn_prf(average, modifier, msg_start, len(result))\n",
      "/usr/local/lib/python3.8/dist-packages/sklearn/metrics/_classification.py:1248: UndefinedMetricWarning: Jaccard is ill-defined and being set to 0.0 due to no true or predicted samples. Use `zero_division` parameter to control this behavior.\n",
      "  _warn_prf(average, modifier, msg_start, len(result))\n",
      "/usr/local/lib/python3.8/dist-packages/sklearn/metrics/_classification.py:1248: UndefinedMetricWarning: Jaccard is ill-defined and being set to 0.0 due to no true or predicted samples. Use `zero_division` parameter to control this behavior.\n",
      "  _warn_prf(average, modifier, msg_start, len(result))\n",
      "/usr/local/lib/python3.8/dist-packages/sklearn/metrics/_classification.py:1248: UndefinedMetricWarning: Jaccard is ill-defined and being set to 0.0 due to no true or predicted samples. Use `zero_division` parameter to control this behavior.\n",
      "  _warn_prf(average, modifier, msg_start, len(result))\n",
      "  6%|██████████▌                                                                                                                                                                    | 6/100 [01:38<25:49, 16.48s/it]"
     ]
    },
    {
     "name": "stdout",
     "output_type": "stream",
     "text": [
      "mIOU given by: 0.3242468249175954\n",
      "[0.2962460688548717, 0.30391794630616453, 0.6524141724191902, 0.5080124211021342, 0.2546997191227881, 0.3242468249175954]\n"
     ]
    },
    {
     "name": "stderr",
     "output_type": "stream",
     "text": [
      "/usr/local/lib/python3.8/dist-packages/sklearn/metrics/_classification.py:1248: UndefinedMetricWarning: Jaccard is ill-defined and being set to 0.0 due to no true or predicted samples. Use `zero_division` parameter to control this behavior.\n",
      "  _warn_prf(average, modifier, msg_start, len(result))\n",
      "/usr/local/lib/python3.8/dist-packages/sklearn/metrics/_classification.py:1248: UndefinedMetricWarning: Jaccard is ill-defined and being set to 0.0 due to no true or predicted samples. Use `zero_division` parameter to control this behavior.\n",
      "  _warn_prf(average, modifier, msg_start, len(result))\n",
      "/usr/local/lib/python3.8/dist-packages/sklearn/metrics/_classification.py:1248: UndefinedMetricWarning: Jaccard is ill-defined and being set to 0.0 due to no true or predicted samples. Use `zero_division` parameter to control this behavior.\n",
      "  _warn_prf(average, modifier, msg_start, len(result))\n",
      "/usr/local/lib/python3.8/dist-packages/sklearn/metrics/_classification.py:1248: UndefinedMetricWarning: Jaccard is ill-defined and being set to 0.0 due to no true or predicted samples. Use `zero_division` parameter to control this behavior.\n",
      "  _warn_prf(average, modifier, msg_start, len(result))\n",
      "/usr/local/lib/python3.8/dist-packages/sklearn/metrics/_classification.py:1248: UndefinedMetricWarning: Jaccard is ill-defined and being set to 0.0 due to no true or predicted samples. Use `zero_division` parameter to control this behavior.\n",
      "  _warn_prf(average, modifier, msg_start, len(result))\n",
      "/usr/local/lib/python3.8/dist-packages/sklearn/metrics/_classification.py:1248: UndefinedMetricWarning: Jaccard is ill-defined and being set to 0.0 due to no true or predicted samples. Use `zero_division` parameter to control this behavior.\n",
      "  _warn_prf(average, modifier, msg_start, len(result))\n",
      "/usr/local/lib/python3.8/dist-packages/sklearn/metrics/_classification.py:1248: UndefinedMetricWarning: Jaccard is ill-defined and being set to 0.0 due to no true or predicted samples. Use `zero_division` parameter to control this behavior.\n",
      "  _warn_prf(average, modifier, msg_start, len(result))\n",
      "/usr/local/lib/python3.8/dist-packages/sklearn/metrics/_classification.py:1248: UndefinedMetricWarning: Jaccard is ill-defined and being set to 0.0 due to no true or predicted samples. Use `zero_division` parameter to control this behavior.\n",
      "  _warn_prf(average, modifier, msg_start, len(result))\n",
      "/usr/local/lib/python3.8/dist-packages/sklearn/metrics/_classification.py:1248: UndefinedMetricWarning: Jaccard is ill-defined and being set to 0.0 due to no true or predicted samples. Use `zero_division` parameter to control this behavior.\n",
      "  _warn_prf(average, modifier, msg_start, len(result))\n",
      "/usr/local/lib/python3.8/dist-packages/sklearn/metrics/_classification.py:1248: UndefinedMetricWarning: Jaccard is ill-defined and being set to 0.0 due to no true or predicted samples. Use `zero_division` parameter to control this behavior.\n",
      "  _warn_prf(average, modifier, msg_start, len(result))\n",
      "/usr/local/lib/python3.8/dist-packages/sklearn/metrics/_classification.py:1248: UndefinedMetricWarning: Jaccard is ill-defined and being set to 0.0 due to no true or predicted samples. Use `zero_division` parameter to control this behavior.\n",
      "  _warn_prf(average, modifier, msg_start, len(result))\n",
      "  7%|████████████▎                                                                                                                                                                  | 7/100 [01:54<25:31, 16.47s/it]"
     ]
    },
    {
     "name": "stdout",
     "output_type": "stream",
     "text": [
      "mIOU given by: 0.48479004956123334\n",
      "[0.2962460688548717, 0.30391794630616453, 0.6524141724191902, 0.5080124211021342, 0.2546997191227881, 0.3242468249175954, 0.48479004956123334]\n"
     ]
    },
    {
     "name": "stderr",
     "output_type": "stream",
     "text": [
      "/usr/local/lib/python3.8/dist-packages/sklearn/metrics/_classification.py:1248: UndefinedMetricWarning: Jaccard is ill-defined and being set to 0.0 due to no true or predicted samples. Use `zero_division` parameter to control this behavior.\n",
      "  _warn_prf(average, modifier, msg_start, len(result))\n",
      "/usr/local/lib/python3.8/dist-packages/sklearn/metrics/_classification.py:1248: UndefinedMetricWarning: Jaccard is ill-defined and being set to 0.0 due to no true or predicted samples. Use `zero_division` parameter to control this behavior.\n",
      "  _warn_prf(average, modifier, msg_start, len(result))\n",
      "/usr/local/lib/python3.8/dist-packages/sklearn/metrics/_classification.py:1248: UndefinedMetricWarning: Jaccard is ill-defined and being set to 0.0 due to no true or predicted samples. Use `zero_division` parameter to control this behavior.\n",
      "  _warn_prf(average, modifier, msg_start, len(result))\n",
      "/usr/local/lib/python3.8/dist-packages/sklearn/metrics/_classification.py:1248: UndefinedMetricWarning: Jaccard is ill-defined and being set to 0.0 due to no true or predicted samples. Use `zero_division` parameter to control this behavior.\n",
      "  _warn_prf(average, modifier, msg_start, len(result))\n",
      "/usr/local/lib/python3.8/dist-packages/sklearn/metrics/_classification.py:1248: UndefinedMetricWarning: Jaccard is ill-defined and being set to 0.0 due to no true or predicted samples. Use `zero_division` parameter to control this behavior.\n",
      "  _warn_prf(average, modifier, msg_start, len(result))\n",
      "/usr/local/lib/python3.8/dist-packages/sklearn/metrics/_classification.py:1248: UndefinedMetricWarning: Jaccard is ill-defined and being set to 0.0 due to no true or predicted samples. Use `zero_division` parameter to control this behavior.\n",
      "  _warn_prf(average, modifier, msg_start, len(result))\n",
      "/usr/local/lib/python3.8/dist-packages/sklearn/metrics/_classification.py:1248: UndefinedMetricWarning: Jaccard is ill-defined and being set to 0.0 due to no true or predicted samples. Use `zero_division` parameter to control this behavior.\n",
      "  _warn_prf(average, modifier, msg_start, len(result))\n",
      "/usr/local/lib/python3.8/dist-packages/sklearn/metrics/_classification.py:1248: UndefinedMetricWarning: Jaccard is ill-defined and being set to 0.0 due to no true or predicted samples. Use `zero_division` parameter to control this behavior.\n",
      "  _warn_prf(average, modifier, msg_start, len(result))\n",
      "/usr/local/lib/python3.8/dist-packages/sklearn/metrics/_classification.py:1248: UndefinedMetricWarning: Jaccard is ill-defined and being set to 0.0 due to no true or predicted samples. Use `zero_division` parameter to control this behavior.\n",
      "  _warn_prf(average, modifier, msg_start, len(result))\n",
      "/usr/local/lib/python3.8/dist-packages/sklearn/metrics/_classification.py:1248: UndefinedMetricWarning: Jaccard is ill-defined and being set to 0.0 due to no true or predicted samples. Use `zero_division` parameter to control this behavior.\n",
      "  _warn_prf(average, modifier, msg_start, len(result))\n",
      "/usr/local/lib/python3.8/dist-packages/sklearn/metrics/_classification.py:1248: UndefinedMetricWarning: Jaccard is ill-defined and being set to 0.0 due to no true or predicted samples. Use `zero_division` parameter to control this behavior.\n",
      "  _warn_prf(average, modifier, msg_start, len(result))\n",
      "/usr/local/lib/python3.8/dist-packages/sklearn/metrics/_classification.py:1248: UndefinedMetricWarning: Jaccard is ill-defined and being set to 0.0 due to no true or predicted samples. Use `zero_division` parameter to control this behavior.\n",
      "  _warn_prf(average, modifier, msg_start, len(result))\n",
      "  8%|██████████████                                                                                                                                                                 | 8/100 [02:10<25:11, 16.43s/it]"
     ]
    },
    {
     "name": "stdout",
     "output_type": "stream",
     "text": [
      "mIOU given by: 0.5467472828283928\n",
      "[0.2962460688548717, 0.30391794630616453, 0.6524141724191902, 0.5080124211021342, 0.2546997191227881, 0.3242468249175954, 0.48479004956123334, 0.5467472828283928]\n"
     ]
    },
    {
     "name": "stderr",
     "output_type": "stream",
     "text": [
      "/usr/local/lib/python3.8/dist-packages/sklearn/metrics/_classification.py:1248: UndefinedMetricWarning: Jaccard is ill-defined and being set to 0.0 due to no true or predicted samples. Use `zero_division` parameter to control this behavior.\n",
      "  _warn_prf(average, modifier, msg_start, len(result))\n",
      "/usr/local/lib/python3.8/dist-packages/sklearn/metrics/_classification.py:1248: UndefinedMetricWarning: Jaccard is ill-defined and being set to 0.0 due to no true or predicted samples. Use `zero_division` parameter to control this behavior.\n",
      "  _warn_prf(average, modifier, msg_start, len(result))\n",
      "/usr/local/lib/python3.8/dist-packages/sklearn/metrics/_classification.py:1248: UndefinedMetricWarning: Jaccard is ill-defined and being set to 0.0 due to no true or predicted samples. Use `zero_division` parameter to control this behavior.\n",
      "  _warn_prf(average, modifier, msg_start, len(result))\n",
      "/usr/local/lib/python3.8/dist-packages/sklearn/metrics/_classification.py:1248: UndefinedMetricWarning: Jaccard is ill-defined and being set to 0.0 due to no true or predicted samples. Use `zero_division` parameter to control this behavior.\n",
      "  _warn_prf(average, modifier, msg_start, len(result))\n",
      "/usr/local/lib/python3.8/dist-packages/sklearn/metrics/_classification.py:1248: UndefinedMetricWarning: Jaccard is ill-defined and being set to 0.0 due to no true or predicted samples. Use `zero_division` parameter to control this behavior.\n",
      "  _warn_prf(average, modifier, msg_start, len(result))\n",
      "/usr/local/lib/python3.8/dist-packages/sklearn/metrics/_classification.py:1248: UndefinedMetricWarning: Jaccard is ill-defined and being set to 0.0 due to no true or predicted samples. Use `zero_division` parameter to control this behavior.\n",
      "  _warn_prf(average, modifier, msg_start, len(result))\n",
      "/usr/local/lib/python3.8/dist-packages/sklearn/metrics/_classification.py:1248: UndefinedMetricWarning: Jaccard is ill-defined and being set to 0.0 due to no true or predicted samples. Use `zero_division` parameter to control this behavior.\n",
      "  _warn_prf(average, modifier, msg_start, len(result))\n",
      "/usr/local/lib/python3.8/dist-packages/sklearn/metrics/_classification.py:1248: UndefinedMetricWarning: Jaccard is ill-defined and being set to 0.0 due to no true or predicted samples. Use `zero_division` parameter to control this behavior.\n",
      "  _warn_prf(average, modifier, msg_start, len(result))\n",
      "/usr/local/lib/python3.8/dist-packages/sklearn/metrics/_classification.py:1248: UndefinedMetricWarning: Jaccard is ill-defined and being set to 0.0 due to no true or predicted samples. Use `zero_division` parameter to control this behavior.\n",
      "  _warn_prf(average, modifier, msg_start, len(result))\n",
      "/usr/local/lib/python3.8/dist-packages/sklearn/metrics/_classification.py:1248: UndefinedMetricWarning: Jaccard is ill-defined and being set to 0.0 due to no true or predicted samples. Use `zero_division` parameter to control this behavior.\n",
      "  _warn_prf(average, modifier, msg_start, len(result))\n",
      "  9%|███████████████▊                                                                                                                                                               | 9/100 [02:28<25:33, 16.85s/it]"
     ]
    },
    {
     "name": "stdout",
     "output_type": "stream",
     "text": [
      "mIOU given by: 0.25181696633670264\n",
      "[0.2962460688548717, 0.30391794630616453, 0.6524141724191902, 0.5080124211021342, 0.2546997191227881, 0.3242468249175954, 0.48479004956123334, 0.5467472828283928, 0.25181696633670264]\n"
     ]
    },
    {
     "name": "stderr",
     "output_type": "stream",
     "text": [
      "/usr/local/lib/python3.8/dist-packages/sklearn/metrics/_classification.py:1248: UndefinedMetricWarning: Jaccard is ill-defined and being set to 0.0 due to no true or predicted samples. Use `zero_division` parameter to control this behavior.\n",
      "  _warn_prf(average, modifier, msg_start, len(result))\n",
      "/usr/local/lib/python3.8/dist-packages/sklearn/metrics/_classification.py:1248: UndefinedMetricWarning: Jaccard is ill-defined and being set to 0.0 due to no true or predicted samples. Use `zero_division` parameter to control this behavior.\n",
      "  _warn_prf(average, modifier, msg_start, len(result))\n",
      "/usr/local/lib/python3.8/dist-packages/sklearn/metrics/_classification.py:1248: UndefinedMetricWarning: Jaccard is ill-defined and being set to 0.0 due to no true or predicted samples. Use `zero_division` parameter to control this behavior.\n",
      "  _warn_prf(average, modifier, msg_start, len(result))\n",
      "/usr/local/lib/python3.8/dist-packages/sklearn/metrics/_classification.py:1248: UndefinedMetricWarning: Jaccard is ill-defined and being set to 0.0 due to no true or predicted samples. Use `zero_division` parameter to control this behavior.\n",
      "  _warn_prf(average, modifier, msg_start, len(result))\n",
      "/usr/local/lib/python3.8/dist-packages/sklearn/metrics/_classification.py:1248: UndefinedMetricWarning: Jaccard is ill-defined and being set to 0.0 due to no true or predicted samples. Use `zero_division` parameter to control this behavior.\n",
      "  _warn_prf(average, modifier, msg_start, len(result))\n",
      "/usr/local/lib/python3.8/dist-packages/sklearn/metrics/_classification.py:1248: UndefinedMetricWarning: Jaccard is ill-defined and being set to 0.0 due to no true or predicted samples. Use `zero_division` parameter to control this behavior.\n",
      "  _warn_prf(average, modifier, msg_start, len(result))\n",
      "/usr/local/lib/python3.8/dist-packages/sklearn/metrics/_classification.py:1248: UndefinedMetricWarning: Jaccard is ill-defined and being set to 0.0 due to no true or predicted samples. Use `zero_division` parameter to control this behavior.\n",
      "  _warn_prf(average, modifier, msg_start, len(result))\n",
      "/usr/local/lib/python3.8/dist-packages/sklearn/metrics/_classification.py:1248: UndefinedMetricWarning: Jaccard is ill-defined and being set to 0.0 due to no true or predicted samples. Use `zero_division` parameter to control this behavior.\n",
      "  _warn_prf(average, modifier, msg_start, len(result))\n",
      "/usr/local/lib/python3.8/dist-packages/sklearn/metrics/_classification.py:1248: UndefinedMetricWarning: Jaccard is ill-defined and being set to 0.0 due to no true or predicted samples. Use `zero_division` parameter to control this behavior.\n",
      "  _warn_prf(average, modifier, msg_start, len(result))\n",
      "/usr/local/lib/python3.8/dist-packages/sklearn/metrics/_classification.py:1248: UndefinedMetricWarning: Jaccard is ill-defined and being set to 0.0 due to no true or predicted samples. Use `zero_division` parameter to control this behavior.\n",
      "  _warn_prf(average, modifier, msg_start, len(result))\n",
      "/usr/local/lib/python3.8/dist-packages/sklearn/metrics/_classification.py:1248: UndefinedMetricWarning: Jaccard is ill-defined and being set to 0.0 due to no true or predicted samples. Use `zero_division` parameter to control this behavior.\n",
      "  _warn_prf(average, modifier, msg_start, len(result))\n",
      "/usr/local/lib/python3.8/dist-packages/sklearn/metrics/_classification.py:1248: UndefinedMetricWarning: Jaccard is ill-defined and being set to 0.0 due to no true or predicted samples. Use `zero_division` parameter to control this behavior.\n",
      "  _warn_prf(average, modifier, msg_start, len(result))\n",
      " 10%|█████████████████▍                                                                                                                                                            | 10/100 [02:45<25:14, 16.83s/it]"
     ]
    },
    {
     "name": "stdout",
     "output_type": "stream",
     "text": [
      "mIOU given by: 0.3229743586259389\n",
      "[0.2962460688548717, 0.30391794630616453, 0.6524141724191902, 0.5080124211021342, 0.2546997191227881, 0.3242468249175954, 0.48479004956123334, 0.5467472828283928, 0.25181696633670264, 0.3229743586259389]\n"
     ]
    },
    {
     "name": "stderr",
     "output_type": "stream",
     "text": [
      "/usr/local/lib/python3.8/dist-packages/sklearn/metrics/_classification.py:1248: UndefinedMetricWarning: Jaccard is ill-defined and being set to 0.0 due to no true or predicted samples. Use `zero_division` parameter to control this behavior.\n",
      "  _warn_prf(average, modifier, msg_start, len(result))\n",
      "/usr/local/lib/python3.8/dist-packages/sklearn/metrics/_classification.py:1248: UndefinedMetricWarning: Jaccard is ill-defined and being set to 0.0 due to no true or predicted samples. Use `zero_division` parameter to control this behavior.\n",
      "  _warn_prf(average, modifier, msg_start, len(result))\n",
      "/usr/local/lib/python3.8/dist-packages/sklearn/metrics/_classification.py:1248: UndefinedMetricWarning: Jaccard is ill-defined and being set to 0.0 due to no true or predicted samples. Use `zero_division` parameter to control this behavior.\n",
      "  _warn_prf(average, modifier, msg_start, len(result))\n",
      "/usr/local/lib/python3.8/dist-packages/sklearn/metrics/_classification.py:1248: UndefinedMetricWarning: Jaccard is ill-defined and being set to 0.0 due to no true or predicted samples. Use `zero_division` parameter to control this behavior.\n",
      "  _warn_prf(average, modifier, msg_start, len(result))\n",
      "/usr/local/lib/python3.8/dist-packages/sklearn/metrics/_classification.py:1248: UndefinedMetricWarning: Jaccard is ill-defined and being set to 0.0 due to no true or predicted samples. Use `zero_division` parameter to control this behavior.\n",
      "  _warn_prf(average, modifier, msg_start, len(result))\n",
      "/usr/local/lib/python3.8/dist-packages/sklearn/metrics/_classification.py:1248: UndefinedMetricWarning: Jaccard is ill-defined and being set to 0.0 due to no true or predicted samples. Use `zero_division` parameter to control this behavior.\n",
      "  _warn_prf(average, modifier, msg_start, len(result))\n",
      "/usr/local/lib/python3.8/dist-packages/sklearn/metrics/_classification.py:1248: UndefinedMetricWarning: Jaccard is ill-defined and being set to 0.0 due to no true or predicted samples. Use `zero_division` parameter to control this behavior.\n",
      "  _warn_prf(average, modifier, msg_start, len(result))\n",
      "/usr/local/lib/python3.8/dist-packages/sklearn/metrics/_classification.py:1248: UndefinedMetricWarning: Jaccard is ill-defined and being set to 0.0 due to no true or predicted samples. Use `zero_division` parameter to control this behavior.\n",
      "  _warn_prf(average, modifier, msg_start, len(result))\n",
      "/usr/local/lib/python3.8/dist-packages/sklearn/metrics/_classification.py:1248: UndefinedMetricWarning: Jaccard is ill-defined and being set to 0.0 due to no true or predicted samples. Use `zero_division` parameter to control this behavior.\n",
      "  _warn_prf(average, modifier, msg_start, len(result))\n",
      "/usr/local/lib/python3.8/dist-packages/sklearn/metrics/_classification.py:1248: UndefinedMetricWarning: Jaccard is ill-defined and being set to 0.0 due to no true or predicted samples. Use `zero_division` parameter to control this behavior.\n",
      "  _warn_prf(average, modifier, msg_start, len(result))\n",
      "/usr/local/lib/python3.8/dist-packages/sklearn/metrics/_classification.py:1248: UndefinedMetricWarning: Jaccard is ill-defined and being set to 0.0 due to no true or predicted samples. Use `zero_division` parameter to control this behavior.\n",
      "  _warn_prf(average, modifier, msg_start, len(result))\n",
      "/usr/local/lib/python3.8/dist-packages/sklearn/metrics/_classification.py:1248: UndefinedMetricWarning: Jaccard is ill-defined and being set to 0.0 due to no true or predicted samples. Use `zero_division` parameter to control this behavior.\n",
      "  _warn_prf(average, modifier, msg_start, len(result))\n",
      " 11%|███████████████████▏                                                                                                                                                          | 11/100 [03:29<37:32, 25.31s/it]"
     ]
    },
    {
     "name": "stdout",
     "output_type": "stream",
     "text": [
      "mIOU given by: 0.1806640666147666\n",
      "[0.2962460688548717, 0.30391794630616453, 0.6524141724191902, 0.5080124211021342, 0.2546997191227881, 0.3242468249175954, 0.48479004956123334, 0.5467472828283928, 0.25181696633670264, 0.3229743586259389, 0.1806640666147666]\n"
     ]
    },
    {
     "name": "stderr",
     "output_type": "stream",
     "text": [
      "/usr/local/lib/python3.8/dist-packages/sklearn/metrics/_classification.py:1248: UndefinedMetricWarning: Jaccard is ill-defined and being set to 0.0 due to no true or predicted samples. Use `zero_division` parameter to control this behavior.\n",
      "  _warn_prf(average, modifier, msg_start, len(result))\n",
      "/usr/local/lib/python3.8/dist-packages/sklearn/metrics/_classification.py:1248: UndefinedMetricWarning: Jaccard is ill-defined and being set to 0.0 due to no true or predicted samples. Use `zero_division` parameter to control this behavior.\n",
      "  _warn_prf(average, modifier, msg_start, len(result))\n",
      "/usr/local/lib/python3.8/dist-packages/sklearn/metrics/_classification.py:1248: UndefinedMetricWarning: Jaccard is ill-defined and being set to 0.0 due to no true or predicted samples. Use `zero_division` parameter to control this behavior.\n",
      "  _warn_prf(average, modifier, msg_start, len(result))\n",
      "/usr/local/lib/python3.8/dist-packages/sklearn/metrics/_classification.py:1248: UndefinedMetricWarning: Jaccard is ill-defined and being set to 0.0 due to no true or predicted samples. Use `zero_division` parameter to control this behavior.\n",
      "  _warn_prf(average, modifier, msg_start, len(result))\n",
      "/usr/local/lib/python3.8/dist-packages/sklearn/metrics/_classification.py:1248: UndefinedMetricWarning: Jaccard is ill-defined and being set to 0.0 due to no true or predicted samples. Use `zero_division` parameter to control this behavior.\n",
      "  _warn_prf(average, modifier, msg_start, len(result))\n",
      "/usr/local/lib/python3.8/dist-packages/sklearn/metrics/_classification.py:1248: UndefinedMetricWarning: Jaccard is ill-defined and being set to 0.0 due to no true or predicted samples. Use `zero_division` parameter to control this behavior.\n",
      "  _warn_prf(average, modifier, msg_start, len(result))\n",
      "/usr/local/lib/python3.8/dist-packages/sklearn/metrics/_classification.py:1248: UndefinedMetricWarning: Jaccard is ill-defined and being set to 0.0 due to no true or predicted samples. Use `zero_division` parameter to control this behavior.\n",
      "  _warn_prf(average, modifier, msg_start, len(result))\n",
      " 12%|████████████████████▉                                                                                                                                                         | 12/100 [03:46<33:09, 22.60s/it]"
     ]
    },
    {
     "name": "stdout",
     "output_type": "stream",
     "text": [
      "mIOU given by: 0.31367196910536943\n",
      "[0.2962460688548717, 0.30391794630616453, 0.6524141724191902, 0.5080124211021342, 0.2546997191227881, 0.3242468249175954, 0.48479004956123334, 0.5467472828283928, 0.25181696633670264, 0.3229743586259389, 0.1806640666147666, 0.31367196910536943]\n"
     ]
    },
    {
     "name": "stderr",
     "output_type": "stream",
     "text": [
      "/usr/local/lib/python3.8/dist-packages/sklearn/metrics/_classification.py:1248: UndefinedMetricWarning: Jaccard is ill-defined and being set to 0.0 due to no true or predicted samples. Use `zero_division` parameter to control this behavior.\n",
      "  _warn_prf(average, modifier, msg_start, len(result))\n",
      "/usr/local/lib/python3.8/dist-packages/sklearn/metrics/_classification.py:1248: UndefinedMetricWarning: Jaccard is ill-defined and being set to 0.0 due to no true or predicted samples. Use `zero_division` parameter to control this behavior.\n",
      "  _warn_prf(average, modifier, msg_start, len(result))\n",
      "/usr/local/lib/python3.8/dist-packages/sklearn/metrics/_classification.py:1248: UndefinedMetricWarning: Jaccard is ill-defined and being set to 0.0 due to no true or predicted samples. Use `zero_division` parameter to control this behavior.\n",
      "  _warn_prf(average, modifier, msg_start, len(result))\n",
      "/usr/local/lib/python3.8/dist-packages/sklearn/metrics/_classification.py:1248: UndefinedMetricWarning: Jaccard is ill-defined and being set to 0.0 due to no true or predicted samples. Use `zero_division` parameter to control this behavior.\n",
      "  _warn_prf(average, modifier, msg_start, len(result))\n",
      "/usr/local/lib/python3.8/dist-packages/sklearn/metrics/_classification.py:1248: UndefinedMetricWarning: Jaccard is ill-defined and being set to 0.0 due to no true or predicted samples. Use `zero_division` parameter to control this behavior.\n",
      "  _warn_prf(average, modifier, msg_start, len(result))\n",
      "/usr/local/lib/python3.8/dist-packages/sklearn/metrics/_classification.py:1248: UndefinedMetricWarning: Jaccard is ill-defined and being set to 0.0 due to no true or predicted samples. Use `zero_division` parameter to control this behavior.\n",
      "  _warn_prf(average, modifier, msg_start, len(result))\n",
      "/usr/local/lib/python3.8/dist-packages/sklearn/metrics/_classification.py:1248: UndefinedMetricWarning: Jaccard is ill-defined and being set to 0.0 due to no true or predicted samples. Use `zero_division` parameter to control this behavior.\n",
      "  _warn_prf(average, modifier, msg_start, len(result))\n",
      "/usr/local/lib/python3.8/dist-packages/sklearn/metrics/_classification.py:1248: UndefinedMetricWarning: Jaccard is ill-defined and being set to 0.0 due to no true or predicted samples. Use `zero_division` parameter to control this behavior.\n",
      "  _warn_prf(average, modifier, msg_start, len(result))\n",
      "/usr/local/lib/python3.8/dist-packages/sklearn/metrics/_classification.py:1248: UndefinedMetricWarning: Jaccard is ill-defined and being set to 0.0 due to no true or predicted samples. Use `zero_division` parameter to control this behavior.\n",
      "  _warn_prf(average, modifier, msg_start, len(result))\n",
      "/usr/local/lib/python3.8/dist-packages/sklearn/metrics/_classification.py:1248: UndefinedMetricWarning: Jaccard is ill-defined and being set to 0.0 due to no true or predicted samples. Use `zero_division` parameter to control this behavior.\n",
      "  _warn_prf(average, modifier, msg_start, len(result))\n",
      "/usr/local/lib/python3.8/dist-packages/sklearn/metrics/_classification.py:1248: UndefinedMetricWarning: Jaccard is ill-defined and being set to 0.0 due to no true or predicted samples. Use `zero_division` parameter to control this behavior.\n",
      "  _warn_prf(average, modifier, msg_start, len(result))\n",
      " 13%|██████████████████████▌                                                                                                                                                       | 13/100 [04:03<30:16, 20.88s/it]"
     ]
    },
    {
     "name": "stdout",
     "output_type": "stream",
     "text": [
      "mIOU given by: 0.3036725050839316\n",
      "[0.2962460688548717, 0.30391794630616453, 0.6524141724191902, 0.5080124211021342, 0.2546997191227881, 0.3242468249175954, 0.48479004956123334, 0.5467472828283928, 0.25181696633670264, 0.3229743586259389, 0.1806640666147666, 0.31367196910536943, 0.3036725050839316]\n"
     ]
    },
    {
     "name": "stderr",
     "output_type": "stream",
     "text": [
      "/usr/local/lib/python3.8/dist-packages/sklearn/metrics/_classification.py:1248: UndefinedMetricWarning: Jaccard is ill-defined and being set to 0.0 due to no true or predicted samples. Use `zero_division` parameter to control this behavior.\n",
      "  _warn_prf(average, modifier, msg_start, len(result))\n",
      "/usr/local/lib/python3.8/dist-packages/sklearn/metrics/_classification.py:1248: UndefinedMetricWarning: Jaccard is ill-defined and being set to 0.0 due to no true or predicted samples. Use `zero_division` parameter to control this behavior.\n",
      "  _warn_prf(average, modifier, msg_start, len(result))\n",
      "/usr/local/lib/python3.8/dist-packages/sklearn/metrics/_classification.py:1248: UndefinedMetricWarning: Jaccard is ill-defined and being set to 0.0 due to no true or predicted samples. Use `zero_division` parameter to control this behavior.\n",
      "  _warn_prf(average, modifier, msg_start, len(result))\n",
      "/usr/local/lib/python3.8/dist-packages/sklearn/metrics/_classification.py:1248: UndefinedMetricWarning: Jaccard is ill-defined and being set to 0.0 due to no true or predicted samples. Use `zero_division` parameter to control this behavior.\n",
      "  _warn_prf(average, modifier, msg_start, len(result))\n",
      "/usr/local/lib/python3.8/dist-packages/sklearn/metrics/_classification.py:1248: UndefinedMetricWarning: Jaccard is ill-defined and being set to 0.0 due to no true or predicted samples. Use `zero_division` parameter to control this behavior.\n",
      "  _warn_prf(average, modifier, msg_start, len(result))\n",
      "/usr/local/lib/python3.8/dist-packages/sklearn/metrics/_classification.py:1248: UndefinedMetricWarning: Jaccard is ill-defined and being set to 0.0 due to no true or predicted samples. Use `zero_division` parameter to control this behavior.\n",
      "  _warn_prf(average, modifier, msg_start, len(result))\n",
      "/usr/local/lib/python3.8/dist-packages/sklearn/metrics/_classification.py:1248: UndefinedMetricWarning: Jaccard is ill-defined and being set to 0.0 due to no true or predicted samples. Use `zero_division` parameter to control this behavior.\n",
      "  _warn_prf(average, modifier, msg_start, len(result))\n",
      "/usr/local/lib/python3.8/dist-packages/sklearn/metrics/_classification.py:1248: UndefinedMetricWarning: Jaccard is ill-defined and being set to 0.0 due to no true or predicted samples. Use `zero_division` parameter to control this behavior.\n",
      "  _warn_prf(average, modifier, msg_start, len(result))\n",
      "/usr/local/lib/python3.8/dist-packages/sklearn/metrics/_classification.py:1248: UndefinedMetricWarning: Jaccard is ill-defined and being set to 0.0 due to no true or predicted samples. Use `zero_division` parameter to control this behavior.\n",
      "  _warn_prf(average, modifier, msg_start, len(result))\n",
      " 14%|████████████████████████▎                                                                                                                                                     | 14/100 [04:21<28:52, 20.14s/it]"
     ]
    },
    {
     "name": "stdout",
     "output_type": "stream",
     "text": [
      "mIOU given by: 0.3747066545714159\n",
      "[0.2962460688548717, 0.30391794630616453, 0.6524141724191902, 0.5080124211021342, 0.2546997191227881, 0.3242468249175954, 0.48479004956123334, 0.5467472828283928, 0.25181696633670264, 0.3229743586259389, 0.1806640666147666, 0.31367196910536943, 0.3036725050839316, 0.3747066545714159]\n"
     ]
    },
    {
     "name": "stderr",
     "output_type": "stream",
     "text": [
      "/usr/local/lib/python3.8/dist-packages/sklearn/metrics/_classification.py:1248: UndefinedMetricWarning: Jaccard is ill-defined and being set to 0.0 due to no true or predicted samples. Use `zero_division` parameter to control this behavior.\n",
      "  _warn_prf(average, modifier, msg_start, len(result))\n",
      "/usr/local/lib/python3.8/dist-packages/sklearn/metrics/_classification.py:1248: UndefinedMetricWarning: Jaccard is ill-defined and being set to 0.0 due to no true or predicted samples. Use `zero_division` parameter to control this behavior.\n",
      "  _warn_prf(average, modifier, msg_start, len(result))\n",
      "/usr/local/lib/python3.8/dist-packages/sklearn/metrics/_classification.py:1248: UndefinedMetricWarning: Jaccard is ill-defined and being set to 0.0 due to no true or predicted samples. Use `zero_division` parameter to control this behavior.\n",
      "  _warn_prf(average, modifier, msg_start, len(result))\n",
      "/usr/local/lib/python3.8/dist-packages/sklearn/metrics/_classification.py:1248: UndefinedMetricWarning: Jaccard is ill-defined and being set to 0.0 due to no true or predicted samples. Use `zero_division` parameter to control this behavior.\n",
      "  _warn_prf(average, modifier, msg_start, len(result))\n",
      "/usr/local/lib/python3.8/dist-packages/sklearn/metrics/_classification.py:1248: UndefinedMetricWarning: Jaccard is ill-defined and being set to 0.0 due to no true or predicted samples. Use `zero_division` parameter to control this behavior.\n",
      "  _warn_prf(average, modifier, msg_start, len(result))\n",
      "/usr/local/lib/python3.8/dist-packages/sklearn/metrics/_classification.py:1248: UndefinedMetricWarning: Jaccard is ill-defined and being set to 0.0 due to no true or predicted samples. Use `zero_division` parameter to control this behavior.\n",
      "  _warn_prf(average, modifier, msg_start, len(result))\n",
      " 15%|██████████████████████████                                                                                                                                                    | 15/100 [04:42<28:54, 20.41s/it]"
     ]
    },
    {
     "name": "stdout",
     "output_type": "stream",
     "text": [
      "mIOU given by: 0.3572061277044272\n",
      "[0.2962460688548717, 0.30391794630616453, 0.6524141724191902, 0.5080124211021342, 0.2546997191227881, 0.3242468249175954, 0.48479004956123334, 0.5467472828283928, 0.25181696633670264, 0.3229743586259389, 0.1806640666147666, 0.31367196910536943, 0.3036725050839316, 0.3747066545714159, 0.3572061277044272]\n"
     ]
    },
    {
     "name": "stderr",
     "output_type": "stream",
     "text": [
      "/usr/local/lib/python3.8/dist-packages/sklearn/metrics/_classification.py:1248: UndefinedMetricWarning: Jaccard is ill-defined and being set to 0.0 due to no true or predicted samples. Use `zero_division` parameter to control this behavior.\n",
      "  _warn_prf(average, modifier, msg_start, len(result))\n",
      "/usr/local/lib/python3.8/dist-packages/sklearn/metrics/_classification.py:1248: UndefinedMetricWarning: Jaccard is ill-defined and being set to 0.0 due to no true or predicted samples. Use `zero_division` parameter to control this behavior.\n",
      "  _warn_prf(average, modifier, msg_start, len(result))\n",
      "/usr/local/lib/python3.8/dist-packages/sklearn/metrics/_classification.py:1248: UndefinedMetricWarning: Jaccard is ill-defined and being set to 0.0 due to no true or predicted samples. Use `zero_division` parameter to control this behavior.\n",
      "  _warn_prf(average, modifier, msg_start, len(result))\n",
      "/usr/local/lib/python3.8/dist-packages/sklearn/metrics/_classification.py:1248: UndefinedMetricWarning: Jaccard is ill-defined and being set to 0.0 due to no true or predicted samples. Use `zero_division` parameter to control this behavior.\n",
      "  _warn_prf(average, modifier, msg_start, len(result))\n",
      "/usr/local/lib/python3.8/dist-packages/sklearn/metrics/_classification.py:1248: UndefinedMetricWarning: Jaccard is ill-defined and being set to 0.0 due to no true or predicted samples. Use `zero_division` parameter to control this behavior.\n",
      "  _warn_prf(average, modifier, msg_start, len(result))\n",
      "/usr/local/lib/python3.8/dist-packages/sklearn/metrics/_classification.py:1248: UndefinedMetricWarning: Jaccard is ill-defined and being set to 0.0 due to no true or predicted samples. Use `zero_division` parameter to control this behavior.\n",
      "  _warn_prf(average, modifier, msg_start, len(result))\n",
      "/usr/local/lib/python3.8/dist-packages/sklearn/metrics/_classification.py:1248: UndefinedMetricWarning: Jaccard is ill-defined and being set to 0.0 due to no true or predicted samples. Use `zero_division` parameter to control this behavior.\n",
      "  _warn_prf(average, modifier, msg_start, len(result))\n",
      " 16%|███████████████████████████▊                                                                                                                                                  | 16/100 [05:05<29:21, 20.98s/it]"
     ]
    },
    {
     "name": "stdout",
     "output_type": "stream",
     "text": [
      "mIOU given by: 0.40287405829159245\n",
      "[0.2962460688548717, 0.30391794630616453, 0.6524141724191902, 0.5080124211021342, 0.2546997191227881, 0.3242468249175954, 0.48479004956123334, 0.5467472828283928, 0.25181696633670264, 0.3229743586259389, 0.1806640666147666, 0.31367196910536943, 0.3036725050839316, 0.3747066545714159, 0.3572061277044272, 0.40287405829159245]\n"
     ]
    },
    {
     "name": "stderr",
     "output_type": "stream",
     "text": [
      "/usr/local/lib/python3.8/dist-packages/sklearn/metrics/_classification.py:1248: UndefinedMetricWarning: Jaccard is ill-defined and being set to 0.0 due to no true or predicted samples. Use `zero_division` parameter to control this behavior.\n",
      "  _warn_prf(average, modifier, msg_start, len(result))\n",
      "/usr/local/lib/python3.8/dist-packages/sklearn/metrics/_classification.py:1248: UndefinedMetricWarning: Jaccard is ill-defined and being set to 0.0 due to no true or predicted samples. Use `zero_division` parameter to control this behavior.\n",
      "  _warn_prf(average, modifier, msg_start, len(result))\n",
      "/usr/local/lib/python3.8/dist-packages/sklearn/metrics/_classification.py:1248: UndefinedMetricWarning: Jaccard is ill-defined and being set to 0.0 due to no true or predicted samples. Use `zero_division` parameter to control this behavior.\n",
      "  _warn_prf(average, modifier, msg_start, len(result))\n",
      "/usr/local/lib/python3.8/dist-packages/sklearn/metrics/_classification.py:1248: UndefinedMetricWarning: Jaccard is ill-defined and being set to 0.0 due to no true or predicted samples. Use `zero_division` parameter to control this behavior.\n",
      "  _warn_prf(average, modifier, msg_start, len(result))\n",
      "/usr/local/lib/python3.8/dist-packages/sklearn/metrics/_classification.py:1248: UndefinedMetricWarning: Jaccard is ill-defined and being set to 0.0 due to no true or predicted samples. Use `zero_division` parameter to control this behavior.\n",
      "  _warn_prf(average, modifier, msg_start, len(result))\n",
      "/usr/local/lib/python3.8/dist-packages/sklearn/metrics/_classification.py:1248: UndefinedMetricWarning: Jaccard is ill-defined and being set to 0.0 due to no true or predicted samples. Use `zero_division` parameter to control this behavior.\n",
      "  _warn_prf(average, modifier, msg_start, len(result))\n",
      "/usr/local/lib/python3.8/dist-packages/sklearn/metrics/_classification.py:1248: UndefinedMetricWarning: Jaccard is ill-defined and being set to 0.0 due to no true or predicted samples. Use `zero_division` parameter to control this behavior.\n",
      "  _warn_prf(average, modifier, msg_start, len(result))\n",
      "/usr/local/lib/python3.8/dist-packages/sklearn/metrics/_classification.py:1248: UndefinedMetricWarning: Jaccard is ill-defined and being set to 0.0 due to no true or predicted samples. Use `zero_division` parameter to control this behavior.\n",
      "  _warn_prf(average, modifier, msg_start, len(result))\n",
      "/usr/local/lib/python3.8/dist-packages/sklearn/metrics/_classification.py:1248: UndefinedMetricWarning: Jaccard is ill-defined and being set to 0.0 due to no true or predicted samples. Use `zero_division` parameter to control this behavior.\n",
      "  _warn_prf(average, modifier, msg_start, len(result))\n",
      "/usr/local/lib/python3.8/dist-packages/sklearn/metrics/_classification.py:1248: UndefinedMetricWarning: Jaccard is ill-defined and being set to 0.0 due to no true or predicted samples. Use `zero_division` parameter to control this behavior.\n",
      "  _warn_prf(average, modifier, msg_start, len(result))\n",
      "/usr/local/lib/python3.8/dist-packages/sklearn/metrics/_classification.py:1248: UndefinedMetricWarning: Jaccard is ill-defined and being set to 0.0 due to no true or predicted samples. Use `zero_division` parameter to control this behavior.\n",
      "  _warn_prf(average, modifier, msg_start, len(result))\n",
      " 17%|█████████████████████████████▌                                                                                                                                                | 17/100 [05:25<28:44, 20.78s/it]"
     ]
    },
    {
     "name": "stdout",
     "output_type": "stream",
     "text": [
      "mIOU given by: 0.36737397224146057\n",
      "[0.2962460688548717, 0.30391794630616453, 0.6524141724191902, 0.5080124211021342, 0.2546997191227881, 0.3242468249175954, 0.48479004956123334, 0.5467472828283928, 0.25181696633670264, 0.3229743586259389, 0.1806640666147666, 0.31367196910536943, 0.3036725050839316, 0.3747066545714159, 0.3572061277044272, 0.40287405829159245, 0.36737397224146057]\n"
     ]
    },
    {
     "name": "stderr",
     "output_type": "stream",
     "text": [
      "/usr/local/lib/python3.8/dist-packages/sklearn/metrics/_classification.py:1248: UndefinedMetricWarning: Jaccard is ill-defined and being set to 0.0 due to no true or predicted samples. Use `zero_division` parameter to control this behavior.\n",
      "  _warn_prf(average, modifier, msg_start, len(result))\n",
      "/usr/local/lib/python3.8/dist-packages/sklearn/metrics/_classification.py:1248: UndefinedMetricWarning: Jaccard is ill-defined and being set to 0.0 due to no true or predicted samples. Use `zero_division` parameter to control this behavior.\n",
      "  _warn_prf(average, modifier, msg_start, len(result))\n",
      "/usr/local/lib/python3.8/dist-packages/sklearn/metrics/_classification.py:1248: UndefinedMetricWarning: Jaccard is ill-defined and being set to 0.0 due to no true or predicted samples. Use `zero_division` parameter to control this behavior.\n",
      "  _warn_prf(average, modifier, msg_start, len(result))\n",
      "/usr/local/lib/python3.8/dist-packages/sklearn/metrics/_classification.py:1248: UndefinedMetricWarning: Jaccard is ill-defined and being set to 0.0 due to no true or predicted samples. Use `zero_division` parameter to control this behavior.\n",
      "  _warn_prf(average, modifier, msg_start, len(result))\n",
      "/usr/local/lib/python3.8/dist-packages/sklearn/metrics/_classification.py:1248: UndefinedMetricWarning: Jaccard is ill-defined and being set to 0.0 due to no true or predicted samples. Use `zero_division` parameter to control this behavior.\n",
      "  _warn_prf(average, modifier, msg_start, len(result))\n",
      "/usr/local/lib/python3.8/dist-packages/sklearn/metrics/_classification.py:1248: UndefinedMetricWarning: Jaccard is ill-defined and being set to 0.0 due to no true or predicted samples. Use `zero_division` parameter to control this behavior.\n",
      "  _warn_prf(average, modifier, msg_start, len(result))\n",
      "/usr/local/lib/python3.8/dist-packages/sklearn/metrics/_classification.py:1248: UndefinedMetricWarning: Jaccard is ill-defined and being set to 0.0 due to no true or predicted samples. Use `zero_division` parameter to control this behavior.\n",
      "  _warn_prf(average, modifier, msg_start, len(result))\n",
      "/usr/local/lib/python3.8/dist-packages/sklearn/metrics/_classification.py:1248: UndefinedMetricWarning: Jaccard is ill-defined and being set to 0.0 due to no true or predicted samples. Use `zero_division` parameter to control this behavior.\n",
      "  _warn_prf(average, modifier, msg_start, len(result))\n",
      "/usr/local/lib/python3.8/dist-packages/sklearn/metrics/_classification.py:1248: UndefinedMetricWarning: Jaccard is ill-defined and being set to 0.0 due to no true or predicted samples. Use `zero_division` parameter to control this behavior.\n",
      "  _warn_prf(average, modifier, msg_start, len(result))\n",
      "/usr/local/lib/python3.8/dist-packages/sklearn/metrics/_classification.py:1248: UndefinedMetricWarning: Jaccard is ill-defined and being set to 0.0 due to no true or predicted samples. Use `zero_division` parameter to control this behavior.\n",
      "  _warn_prf(average, modifier, msg_start, len(result))\n",
      "/usr/local/lib/python3.8/dist-packages/sklearn/metrics/_classification.py:1248: UndefinedMetricWarning: Jaccard is ill-defined and being set to 0.0 due to no true or predicted samples. Use `zero_division` parameter to control this behavior.\n",
      "  _warn_prf(average, modifier, msg_start, len(result))\n",
      "/usr/local/lib/python3.8/dist-packages/sklearn/metrics/_classification.py:1248: UndefinedMetricWarning: Jaccard is ill-defined and being set to 0.0 due to no true or predicted samples. Use `zero_division` parameter to control this behavior.\n",
      "  _warn_prf(average, modifier, msg_start, len(result))\n",
      " 18%|███████████████████████████████▎                                                                                                                                              | 18/100 [05:43<27:06, 19.84s/it]"
     ]
    },
    {
     "name": "stdout",
     "output_type": "stream",
     "text": [
      "mIOU given by: 0.6353939891926504\n",
      "[0.2962460688548717, 0.30391794630616453, 0.6524141724191902, 0.5080124211021342, 0.2546997191227881, 0.3242468249175954, 0.48479004956123334, 0.5467472828283928, 0.25181696633670264, 0.3229743586259389, 0.1806640666147666, 0.31367196910536943, 0.3036725050839316, 0.3747066545714159, 0.3572061277044272, 0.40287405829159245, 0.36737397224146057, 0.6353939891926504]\n"
     ]
    },
    {
     "name": "stderr",
     "output_type": "stream",
     "text": [
      "/usr/local/lib/python3.8/dist-packages/sklearn/metrics/_classification.py:1248: UndefinedMetricWarning: Jaccard is ill-defined and being set to 0.0 due to no true or predicted samples. Use `zero_division` parameter to control this behavior.\n",
      "  _warn_prf(average, modifier, msg_start, len(result))\n",
      "/usr/local/lib/python3.8/dist-packages/sklearn/metrics/_classification.py:1248: UndefinedMetricWarning: Jaccard is ill-defined and being set to 0.0 due to no true or predicted samples. Use `zero_division` parameter to control this behavior.\n",
      "  _warn_prf(average, modifier, msg_start, len(result))\n",
      "/usr/local/lib/python3.8/dist-packages/sklearn/metrics/_classification.py:1248: UndefinedMetricWarning: Jaccard is ill-defined and being set to 0.0 due to no true or predicted samples. Use `zero_division` parameter to control this behavior.\n",
      "  _warn_prf(average, modifier, msg_start, len(result))\n",
      "/usr/local/lib/python3.8/dist-packages/sklearn/metrics/_classification.py:1248: UndefinedMetricWarning: Jaccard is ill-defined and being set to 0.0 due to no true or predicted samples. Use `zero_division` parameter to control this behavior.\n",
      "  _warn_prf(average, modifier, msg_start, len(result))\n",
      "/usr/local/lib/python3.8/dist-packages/sklearn/metrics/_classification.py:1248: UndefinedMetricWarning: Jaccard is ill-defined and being set to 0.0 due to no true or predicted samples. Use `zero_division` parameter to control this behavior.\n",
      "  _warn_prf(average, modifier, msg_start, len(result))\n",
      "/usr/local/lib/python3.8/dist-packages/sklearn/metrics/_classification.py:1248: UndefinedMetricWarning: Jaccard is ill-defined and being set to 0.0 due to no true or predicted samples. Use `zero_division` parameter to control this behavior.\n",
      "  _warn_prf(average, modifier, msg_start, len(result))\n",
      "/usr/local/lib/python3.8/dist-packages/sklearn/metrics/_classification.py:1248: UndefinedMetricWarning: Jaccard is ill-defined and being set to 0.0 due to no true or predicted samples. Use `zero_division` parameter to control this behavior.\n",
      "  _warn_prf(average, modifier, msg_start, len(result))\n",
      "/usr/local/lib/python3.8/dist-packages/sklearn/metrics/_classification.py:1248: UndefinedMetricWarning: Jaccard is ill-defined and being set to 0.0 due to no true or predicted samples. Use `zero_division` parameter to control this behavior.\n",
      "  _warn_prf(average, modifier, msg_start, len(result))\n",
      "/usr/local/lib/python3.8/dist-packages/sklearn/metrics/_classification.py:1248: UndefinedMetricWarning: Jaccard is ill-defined and being set to 0.0 due to no true or predicted samples. Use `zero_division` parameter to control this behavior.\n",
      "  _warn_prf(average, modifier, msg_start, len(result))\n",
      " 19%|█████████████████████████████████                                                                                                                                             | 19/100 [06:02<26:30, 19.63s/it]"
     ]
    },
    {
     "name": "stdout",
     "output_type": "stream",
     "text": [
      "mIOU given by: 0.3761727240153292\n",
      "[0.2962460688548717, 0.30391794630616453, 0.6524141724191902, 0.5080124211021342, 0.2546997191227881, 0.3242468249175954, 0.48479004956123334, 0.5467472828283928, 0.25181696633670264, 0.3229743586259389, 0.1806640666147666, 0.31367196910536943, 0.3036725050839316, 0.3747066545714159, 0.3572061277044272, 0.40287405829159245, 0.36737397224146057, 0.6353939891926504, 0.3761727240153292]\n"
     ]
    },
    {
     "name": "stderr",
     "output_type": "stream",
     "text": [
      "/usr/local/lib/python3.8/dist-packages/sklearn/metrics/_classification.py:1248: UndefinedMetricWarning: Jaccard is ill-defined and being set to 0.0 due to no true or predicted samples. Use `zero_division` parameter to control this behavior.\n",
      "  _warn_prf(average, modifier, msg_start, len(result))\n",
      "/usr/local/lib/python3.8/dist-packages/sklearn/metrics/_classification.py:1248: UndefinedMetricWarning: Jaccard is ill-defined and being set to 0.0 due to no true or predicted samples. Use `zero_division` parameter to control this behavior.\n",
      "  _warn_prf(average, modifier, msg_start, len(result))\n",
      "/usr/local/lib/python3.8/dist-packages/sklearn/metrics/_classification.py:1248: UndefinedMetricWarning: Jaccard is ill-defined and being set to 0.0 due to no true or predicted samples. Use `zero_division` parameter to control this behavior.\n",
      "  _warn_prf(average, modifier, msg_start, len(result))\n",
      "/usr/local/lib/python3.8/dist-packages/sklearn/metrics/_classification.py:1248: UndefinedMetricWarning: Jaccard is ill-defined and being set to 0.0 due to no true or predicted samples. Use `zero_division` parameter to control this behavior.\n",
      "  _warn_prf(average, modifier, msg_start, len(result))\n",
      "/usr/local/lib/python3.8/dist-packages/sklearn/metrics/_classification.py:1248: UndefinedMetricWarning: Jaccard is ill-defined and being set to 0.0 due to no true or predicted samples. Use `zero_division` parameter to control this behavior.\n",
      "  _warn_prf(average, modifier, msg_start, len(result))\n",
      "/usr/local/lib/python3.8/dist-packages/sklearn/metrics/_classification.py:1248: UndefinedMetricWarning: Jaccard is ill-defined and being set to 0.0 due to no true or predicted samples. Use `zero_division` parameter to control this behavior.\n",
      "  _warn_prf(average, modifier, msg_start, len(result))\n",
      "/usr/local/lib/python3.8/dist-packages/sklearn/metrics/_classification.py:1248: UndefinedMetricWarning: Jaccard is ill-defined and being set to 0.0 due to no true or predicted samples. Use `zero_division` parameter to control this behavior.\n",
      "  _warn_prf(average, modifier, msg_start, len(result))\n",
      "/usr/local/lib/python3.8/dist-packages/sklearn/metrics/_classification.py:1248: UndefinedMetricWarning: Jaccard is ill-defined and being set to 0.0 due to no true or predicted samples. Use `zero_division` parameter to control this behavior.\n",
      "  _warn_prf(average, modifier, msg_start, len(result))\n",
      " 20%|██████████████████████████████████▊                                                                                                                                           | 20/100 [06:26<28:12, 21.16s/it]"
     ]
    },
    {
     "name": "stdout",
     "output_type": "stream",
     "text": [
      "mIOU given by: 0.6351422203946238\n",
      "[0.2962460688548717, 0.30391794630616453, 0.6524141724191902, 0.5080124211021342, 0.2546997191227881, 0.3242468249175954, 0.48479004956123334, 0.5467472828283928, 0.25181696633670264, 0.3229743586259389, 0.1806640666147666, 0.31367196910536943, 0.3036725050839316, 0.3747066545714159, 0.3572061277044272, 0.40287405829159245, 0.36737397224146057, 0.6353939891926504, 0.3761727240153292, 0.6351422203946238]\n"
     ]
    },
    {
     "name": "stderr",
     "output_type": "stream",
     "text": [
      "/usr/local/lib/python3.8/dist-packages/sklearn/metrics/_classification.py:1248: UndefinedMetricWarning: Jaccard is ill-defined and being set to 0.0 due to no true or predicted samples. Use `zero_division` parameter to control this behavior.\n",
      "  _warn_prf(average, modifier, msg_start, len(result))\n",
      "/usr/local/lib/python3.8/dist-packages/sklearn/metrics/_classification.py:1248: UndefinedMetricWarning: Jaccard is ill-defined and being set to 0.0 due to no true or predicted samples. Use `zero_division` parameter to control this behavior.\n",
      "  _warn_prf(average, modifier, msg_start, len(result))\n",
      "/usr/local/lib/python3.8/dist-packages/sklearn/metrics/_classification.py:1248: UndefinedMetricWarning: Jaccard is ill-defined and being set to 0.0 due to no true or predicted samples. Use `zero_division` parameter to control this behavior.\n",
      "  _warn_prf(average, modifier, msg_start, len(result))\n",
      "/usr/local/lib/python3.8/dist-packages/sklearn/metrics/_classification.py:1248: UndefinedMetricWarning: Jaccard is ill-defined and being set to 0.0 due to no true or predicted samples. Use `zero_division` parameter to control this behavior.\n",
      "  _warn_prf(average, modifier, msg_start, len(result))\n",
      "/usr/local/lib/python3.8/dist-packages/sklearn/metrics/_classification.py:1248: UndefinedMetricWarning: Jaccard is ill-defined and being set to 0.0 due to no true or predicted samples. Use `zero_division` parameter to control this behavior.\n",
      "  _warn_prf(average, modifier, msg_start, len(result))\n",
      "/usr/local/lib/python3.8/dist-packages/sklearn/metrics/_classification.py:1248: UndefinedMetricWarning: Jaccard is ill-defined and being set to 0.0 due to no true or predicted samples. Use `zero_division` parameter to control this behavior.\n",
      "  _warn_prf(average, modifier, msg_start, len(result))\n",
      "/usr/local/lib/python3.8/dist-packages/sklearn/metrics/_classification.py:1248: UndefinedMetricWarning: Jaccard is ill-defined and being set to 0.0 due to no true or predicted samples. Use `zero_division` parameter to control this behavior.\n",
      "  _warn_prf(average, modifier, msg_start, len(result))\n",
      "/usr/local/lib/python3.8/dist-packages/sklearn/metrics/_classification.py:1248: UndefinedMetricWarning: Jaccard is ill-defined and being set to 0.0 due to no true or predicted samples. Use `zero_division` parameter to control this behavior.\n",
      "  _warn_prf(average, modifier, msg_start, len(result))\n",
      "/usr/local/lib/python3.8/dist-packages/sklearn/metrics/_classification.py:1248: UndefinedMetricWarning: Jaccard is ill-defined and being set to 0.0 due to no true or predicted samples. Use `zero_division` parameter to control this behavior.\n",
      "  _warn_prf(average, modifier, msg_start, len(result))\n",
      "/usr/local/lib/python3.8/dist-packages/sklearn/metrics/_classification.py:1248: UndefinedMetricWarning: Jaccard is ill-defined and being set to 0.0 due to no true or predicted samples. Use `zero_division` parameter to control this behavior.\n",
      "  _warn_prf(average, modifier, msg_start, len(result))\n",
      "/usr/local/lib/python3.8/dist-packages/sklearn/metrics/_classification.py:1248: UndefinedMetricWarning: Jaccard is ill-defined and being set to 0.0 due to no true or predicted samples. Use `zero_division` parameter to control this behavior.\n",
      "  _warn_prf(average, modifier, msg_start, len(result))\n",
      "/usr/local/lib/python3.8/dist-packages/sklearn/metrics/_classification.py:1248: UndefinedMetricWarning: Jaccard is ill-defined and being set to 0.0 due to no true or predicted samples. Use `zero_division` parameter to control this behavior.\n",
      "  _warn_prf(average, modifier, msg_start, len(result))\n",
      " 21%|████████████████████████████████████▌                                                                                                                                         | 21/100 [06:47<27:27, 20.85s/it]"
     ]
    },
    {
     "name": "stdout",
     "output_type": "stream",
     "text": [
      "mIOU given by: 0.560441796027732\n",
      "[0.2962460688548717, 0.30391794630616453, 0.6524141724191902, 0.5080124211021342, 0.2546997191227881, 0.3242468249175954, 0.48479004956123334, 0.5467472828283928, 0.25181696633670264, 0.3229743586259389, 0.1806640666147666, 0.31367196910536943, 0.3036725050839316, 0.3747066545714159, 0.3572061277044272, 0.40287405829159245, 0.36737397224146057, 0.6353939891926504, 0.3761727240153292, 0.6351422203946238, 0.560441796027732]\n"
     ]
    },
    {
     "name": "stderr",
     "output_type": "stream",
     "text": [
      "/usr/local/lib/python3.8/dist-packages/sklearn/metrics/_classification.py:1248: UndefinedMetricWarning: Jaccard is ill-defined and being set to 0.0 due to no true or predicted samples. Use `zero_division` parameter to control this behavior.\n",
      "  _warn_prf(average, modifier, msg_start, len(result))\n",
      "/usr/local/lib/python3.8/dist-packages/sklearn/metrics/_classification.py:1248: UndefinedMetricWarning: Jaccard is ill-defined and being set to 0.0 due to no true or predicted samples. Use `zero_division` parameter to control this behavior.\n",
      "  _warn_prf(average, modifier, msg_start, len(result))\n",
      "/usr/local/lib/python3.8/dist-packages/sklearn/metrics/_classification.py:1248: UndefinedMetricWarning: Jaccard is ill-defined and being set to 0.0 due to no true or predicted samples. Use `zero_division` parameter to control this behavior.\n",
      "  _warn_prf(average, modifier, msg_start, len(result))\n",
      "/usr/local/lib/python3.8/dist-packages/sklearn/metrics/_classification.py:1248: UndefinedMetricWarning: Jaccard is ill-defined and being set to 0.0 due to no true or predicted samples. Use `zero_division` parameter to control this behavior.\n",
      "  _warn_prf(average, modifier, msg_start, len(result))\n",
      "/usr/local/lib/python3.8/dist-packages/sklearn/metrics/_classification.py:1248: UndefinedMetricWarning: Jaccard is ill-defined and being set to 0.0 due to no true or predicted samples. Use `zero_division` parameter to control this behavior.\n",
      "  _warn_prf(average, modifier, msg_start, len(result))\n",
      "/usr/local/lib/python3.8/dist-packages/sklearn/metrics/_classification.py:1248: UndefinedMetricWarning: Jaccard is ill-defined and being set to 0.0 due to no true or predicted samples. Use `zero_division` parameter to control this behavior.\n",
      "  _warn_prf(average, modifier, msg_start, len(result))\n",
      "/usr/local/lib/python3.8/dist-packages/sklearn/metrics/_classification.py:1248: UndefinedMetricWarning: Jaccard is ill-defined and being set to 0.0 due to no true or predicted samples. Use `zero_division` parameter to control this behavior.\n",
      "  _warn_prf(average, modifier, msg_start, len(result))\n",
      "/usr/local/lib/python3.8/dist-packages/sklearn/metrics/_classification.py:1248: UndefinedMetricWarning: Jaccard is ill-defined and being set to 0.0 due to no true or predicted samples. Use `zero_division` parameter to control this behavior.\n",
      "  _warn_prf(average, modifier, msg_start, len(result))\n",
      "/usr/local/lib/python3.8/dist-packages/sklearn/metrics/_classification.py:1248: UndefinedMetricWarning: Jaccard is ill-defined and being set to 0.0 due to no true or predicted samples. Use `zero_division` parameter to control this behavior.\n",
      "  _warn_prf(average, modifier, msg_start, len(result))\n",
      "/usr/local/lib/python3.8/dist-packages/sklearn/metrics/_classification.py:1248: UndefinedMetricWarning: Jaccard is ill-defined and being set to 0.0 due to no true or predicted samples. Use `zero_division` parameter to control this behavior.\n",
      "  _warn_prf(average, modifier, msg_start, len(result))\n",
      "/usr/local/lib/python3.8/dist-packages/sklearn/metrics/_classification.py:1248: UndefinedMetricWarning: Jaccard is ill-defined and being set to 0.0 due to no true or predicted samples. Use `zero_division` parameter to control this behavior.\n",
      "  _warn_prf(average, modifier, msg_start, len(result))\n",
      "/usr/local/lib/python3.8/dist-packages/sklearn/metrics/_classification.py:1248: UndefinedMetricWarning: Jaccard is ill-defined and being set to 0.0 due to no true or predicted samples. Use `zero_division` parameter to control this behavior.\n",
      "  _warn_prf(average, modifier, msg_start, len(result))\n",
      "/usr/local/lib/python3.8/dist-packages/sklearn/metrics/_classification.py:1248: UndefinedMetricWarning: Jaccard is ill-defined and being set to 0.0 due to no true or predicted samples. Use `zero_division` parameter to control this behavior.\n",
      "  _warn_prf(average, modifier, msg_start, len(result))\n",
      " 22%|██████████████████████████████████████▎                                                                                                                                       | 22/100 [07:03<25:29, 19.61s/it]"
     ]
    },
    {
     "name": "stdout",
     "output_type": "stream",
     "text": [
      "mIOU given by: 0.5107469284348097\n",
      "[0.2962460688548717, 0.30391794630616453, 0.6524141724191902, 0.5080124211021342, 0.2546997191227881, 0.3242468249175954, 0.48479004956123334, 0.5467472828283928, 0.25181696633670264, 0.3229743586259389, 0.1806640666147666, 0.31367196910536943, 0.3036725050839316, 0.3747066545714159, 0.3572061277044272, 0.40287405829159245, 0.36737397224146057, 0.6353939891926504, 0.3761727240153292, 0.6351422203946238, 0.560441796027732, 0.5107469284348097]\n"
     ]
    },
    {
     "name": "stderr",
     "output_type": "stream",
     "text": [
      "/usr/local/lib/python3.8/dist-packages/sklearn/metrics/_classification.py:1248: UndefinedMetricWarning: Jaccard is ill-defined and being set to 0.0 due to no true or predicted samples. Use `zero_division` parameter to control this behavior.\n",
      "  _warn_prf(average, modifier, msg_start, len(result))\n",
      "/usr/local/lib/python3.8/dist-packages/sklearn/metrics/_classification.py:1248: UndefinedMetricWarning: Jaccard is ill-defined and being set to 0.0 due to no true or predicted samples. Use `zero_division` parameter to control this behavior.\n",
      "  _warn_prf(average, modifier, msg_start, len(result))\n",
      "/usr/local/lib/python3.8/dist-packages/sklearn/metrics/_classification.py:1248: UndefinedMetricWarning: Jaccard is ill-defined and being set to 0.0 due to no true or predicted samples. Use `zero_division` parameter to control this behavior.\n",
      "  _warn_prf(average, modifier, msg_start, len(result))\n",
      "/usr/local/lib/python3.8/dist-packages/sklearn/metrics/_classification.py:1248: UndefinedMetricWarning: Jaccard is ill-defined and being set to 0.0 due to no true or predicted samples. Use `zero_division` parameter to control this behavior.\n",
      "  _warn_prf(average, modifier, msg_start, len(result))\n",
      "/usr/local/lib/python3.8/dist-packages/sklearn/metrics/_classification.py:1248: UndefinedMetricWarning: Jaccard is ill-defined and being set to 0.0 due to no true or predicted samples. Use `zero_division` parameter to control this behavior.\n",
      "  _warn_prf(average, modifier, msg_start, len(result))\n",
      "/usr/local/lib/python3.8/dist-packages/sklearn/metrics/_classification.py:1248: UndefinedMetricWarning: Jaccard is ill-defined and being set to 0.0 due to no true or predicted samples. Use `zero_division` parameter to control this behavior.\n",
      "  _warn_prf(average, modifier, msg_start, len(result))\n",
      "/usr/local/lib/python3.8/dist-packages/sklearn/metrics/_classification.py:1248: UndefinedMetricWarning: Jaccard is ill-defined and being set to 0.0 due to no true or predicted samples. Use `zero_division` parameter to control this behavior.\n",
      "  _warn_prf(average, modifier, msg_start, len(result))\n",
      "/usr/local/lib/python3.8/dist-packages/sklearn/metrics/_classification.py:1248: UndefinedMetricWarning: Jaccard is ill-defined and being set to 0.0 due to no true or predicted samples. Use `zero_division` parameter to control this behavior.\n",
      "  _warn_prf(average, modifier, msg_start, len(result))\n",
      "/usr/local/lib/python3.8/dist-packages/sklearn/metrics/_classification.py:1248: UndefinedMetricWarning: Jaccard is ill-defined and being set to 0.0 due to no true or predicted samples. Use `zero_division` parameter to control this behavior.\n",
      "  _warn_prf(average, modifier, msg_start, len(result))\n",
      " 23%|████████████████████████████████████████                                                                                                                                      | 23/100 [07:18<23:19, 18.18s/it]"
     ]
    },
    {
     "name": "stdout",
     "output_type": "stream",
     "text": [
      "mIOU given by: 0.20716565277126062\n",
      "[0.2962460688548717, 0.30391794630616453, 0.6524141724191902, 0.5080124211021342, 0.2546997191227881, 0.3242468249175954, 0.48479004956123334, 0.5467472828283928, 0.25181696633670264, 0.3229743586259389, 0.1806640666147666, 0.31367196910536943, 0.3036725050839316, 0.3747066545714159, 0.3572061277044272, 0.40287405829159245, 0.36737397224146057, 0.6353939891926504, 0.3761727240153292, 0.6351422203946238, 0.560441796027732, 0.5107469284348097, 0.20716565277126062]\n"
     ]
    },
    {
     "name": "stderr",
     "output_type": "stream",
     "text": [
      "/usr/local/lib/python3.8/dist-packages/sklearn/metrics/_classification.py:1248: UndefinedMetricWarning: Jaccard is ill-defined and being set to 0.0 due to no true or predicted samples. Use `zero_division` parameter to control this behavior.\n",
      "  _warn_prf(average, modifier, msg_start, len(result))\n",
      "/usr/local/lib/python3.8/dist-packages/sklearn/metrics/_classification.py:1248: UndefinedMetricWarning: Jaccard is ill-defined and being set to 0.0 due to no true or predicted samples. Use `zero_division` parameter to control this behavior.\n",
      "  _warn_prf(average, modifier, msg_start, len(result))\n",
      "/usr/local/lib/python3.8/dist-packages/sklearn/metrics/_classification.py:1248: UndefinedMetricWarning: Jaccard is ill-defined and being set to 0.0 due to no true or predicted samples. Use `zero_division` parameter to control this behavior.\n",
      "  _warn_prf(average, modifier, msg_start, len(result))\n",
      "/usr/local/lib/python3.8/dist-packages/sklearn/metrics/_classification.py:1248: UndefinedMetricWarning: Jaccard is ill-defined and being set to 0.0 due to no true or predicted samples. Use `zero_division` parameter to control this behavior.\n",
      "  _warn_prf(average, modifier, msg_start, len(result))\n",
      "/usr/local/lib/python3.8/dist-packages/sklearn/metrics/_classification.py:1248: UndefinedMetricWarning: Jaccard is ill-defined and being set to 0.0 due to no true or predicted samples. Use `zero_division` parameter to control this behavior.\n",
      "  _warn_prf(average, modifier, msg_start, len(result))\n",
      "/usr/local/lib/python3.8/dist-packages/sklearn/metrics/_classification.py:1248: UndefinedMetricWarning: Jaccard is ill-defined and being set to 0.0 due to no true or predicted samples. Use `zero_division` parameter to control this behavior.\n",
      "  _warn_prf(average, modifier, msg_start, len(result))\n",
      "/usr/local/lib/python3.8/dist-packages/sklearn/metrics/_classification.py:1248: UndefinedMetricWarning: Jaccard is ill-defined and being set to 0.0 due to no true or predicted samples. Use `zero_division` parameter to control this behavior.\n",
      "  _warn_prf(average, modifier, msg_start, len(result))\n",
      "/usr/local/lib/python3.8/dist-packages/sklearn/metrics/_classification.py:1248: UndefinedMetricWarning: Jaccard is ill-defined and being set to 0.0 due to no true or predicted samples. Use `zero_division` parameter to control this behavior.\n",
      "  _warn_prf(average, modifier, msg_start, len(result))\n",
      "/usr/local/lib/python3.8/dist-packages/sklearn/metrics/_classification.py:1248: UndefinedMetricWarning: Jaccard is ill-defined and being set to 0.0 due to no true or predicted samples. Use `zero_division` parameter to control this behavior.\n",
      "  _warn_prf(average, modifier, msg_start, len(result))\n",
      "/usr/local/lib/python3.8/dist-packages/sklearn/metrics/_classification.py:1248: UndefinedMetricWarning: Jaccard is ill-defined and being set to 0.0 due to no true or predicted samples. Use `zero_division` parameter to control this behavior.\n",
      "  _warn_prf(average, modifier, msg_start, len(result))\n",
      " 24%|█████████████████████████████████████████▊                                                                                                                                    | 24/100 [07:33<21:46, 17.19s/it]"
     ]
    },
    {
     "name": "stdout",
     "output_type": "stream",
     "text": [
      "mIOU given by: 0.4451154906483967\n",
      "[0.2962460688548717, 0.30391794630616453, 0.6524141724191902, 0.5080124211021342, 0.2546997191227881, 0.3242468249175954, 0.48479004956123334, 0.5467472828283928, 0.25181696633670264, 0.3229743586259389, 0.1806640666147666, 0.31367196910536943, 0.3036725050839316, 0.3747066545714159, 0.3572061277044272, 0.40287405829159245, 0.36737397224146057, 0.6353939891926504, 0.3761727240153292, 0.6351422203946238, 0.560441796027732, 0.5107469284348097, 0.20716565277126062, 0.4451154906483967]\n"
     ]
    },
    {
     "name": "stderr",
     "output_type": "stream",
     "text": [
      "/usr/local/lib/python3.8/dist-packages/sklearn/metrics/_classification.py:1248: UndefinedMetricWarning: Jaccard is ill-defined and being set to 0.0 due to no true or predicted samples. Use `zero_division` parameter to control this behavior.\n",
      "  _warn_prf(average, modifier, msg_start, len(result))\n",
      "/usr/local/lib/python3.8/dist-packages/sklearn/metrics/_classification.py:1248: UndefinedMetricWarning: Jaccard is ill-defined and being set to 0.0 due to no true or predicted samples. Use `zero_division` parameter to control this behavior.\n",
      "  _warn_prf(average, modifier, msg_start, len(result))\n",
      "/usr/local/lib/python3.8/dist-packages/sklearn/metrics/_classification.py:1248: UndefinedMetricWarning: Jaccard is ill-defined and being set to 0.0 due to no true or predicted samples. Use `zero_division` parameter to control this behavior.\n",
      "  _warn_prf(average, modifier, msg_start, len(result))\n",
      "/usr/local/lib/python3.8/dist-packages/sklearn/metrics/_classification.py:1248: UndefinedMetricWarning: Jaccard is ill-defined and being set to 0.0 due to no true or predicted samples. Use `zero_division` parameter to control this behavior.\n",
      "  _warn_prf(average, modifier, msg_start, len(result))\n",
      "/usr/local/lib/python3.8/dist-packages/sklearn/metrics/_classification.py:1248: UndefinedMetricWarning: Jaccard is ill-defined and being set to 0.0 due to no true or predicted samples. Use `zero_division` parameter to control this behavior.\n",
      "  _warn_prf(average, modifier, msg_start, len(result))\n",
      "/usr/local/lib/python3.8/dist-packages/sklearn/metrics/_classification.py:1248: UndefinedMetricWarning: Jaccard is ill-defined and being set to 0.0 due to no true or predicted samples. Use `zero_division` parameter to control this behavior.\n",
      "  _warn_prf(average, modifier, msg_start, len(result))\n",
      "/usr/local/lib/python3.8/dist-packages/sklearn/metrics/_classification.py:1248: UndefinedMetricWarning: Jaccard is ill-defined and being set to 0.0 due to no true or predicted samples. Use `zero_division` parameter to control this behavior.\n",
      "  _warn_prf(average, modifier, msg_start, len(result))\n",
      " 25%|███████████████████████████████████████████▌                                                                                                                                  | 25/100 [07:50<21:15, 17.01s/it]"
     ]
    },
    {
     "name": "stdout",
     "output_type": "stream",
     "text": [
      "mIOU given by: 0.4253084700905224\n",
      "[0.2962460688548717, 0.30391794630616453, 0.6524141724191902, 0.5080124211021342, 0.2546997191227881, 0.3242468249175954, 0.48479004956123334, 0.5467472828283928, 0.25181696633670264, 0.3229743586259389, 0.1806640666147666, 0.31367196910536943, 0.3036725050839316, 0.3747066545714159, 0.3572061277044272, 0.40287405829159245, 0.36737397224146057, 0.6353939891926504, 0.3761727240153292, 0.6351422203946238, 0.560441796027732, 0.5107469284348097, 0.20716565277126062, 0.4451154906483967, 0.4253084700905224]\n"
     ]
    },
    {
     "name": "stderr",
     "output_type": "stream",
     "text": [
      "/usr/local/lib/python3.8/dist-packages/sklearn/metrics/_classification.py:1248: UndefinedMetricWarning: Jaccard is ill-defined and being set to 0.0 due to no true or predicted samples. Use `zero_division` parameter to control this behavior.\n",
      "  _warn_prf(average, modifier, msg_start, len(result))\n",
      "/usr/local/lib/python3.8/dist-packages/sklearn/metrics/_classification.py:1248: UndefinedMetricWarning: Jaccard is ill-defined and being set to 0.0 due to no true or predicted samples. Use `zero_division` parameter to control this behavior.\n",
      "  _warn_prf(average, modifier, msg_start, len(result))\n",
      "/usr/local/lib/python3.8/dist-packages/sklearn/metrics/_classification.py:1248: UndefinedMetricWarning: Jaccard is ill-defined and being set to 0.0 due to no true or predicted samples. Use `zero_division` parameter to control this behavior.\n",
      "  _warn_prf(average, modifier, msg_start, len(result))\n",
      "/usr/local/lib/python3.8/dist-packages/sklearn/metrics/_classification.py:1248: UndefinedMetricWarning: Jaccard is ill-defined and being set to 0.0 due to no true or predicted samples. Use `zero_division` parameter to control this behavior.\n",
      "  _warn_prf(average, modifier, msg_start, len(result))\n",
      "/usr/local/lib/python3.8/dist-packages/sklearn/metrics/_classification.py:1248: UndefinedMetricWarning: Jaccard is ill-defined and being set to 0.0 due to no true or predicted samples. Use `zero_division` parameter to control this behavior.\n",
      "  _warn_prf(average, modifier, msg_start, len(result))\n",
      "/usr/local/lib/python3.8/dist-packages/sklearn/metrics/_classification.py:1248: UndefinedMetricWarning: Jaccard is ill-defined and being set to 0.0 due to no true or predicted samples. Use `zero_division` parameter to control this behavior.\n",
      "  _warn_prf(average, modifier, msg_start, len(result))\n",
      "/usr/local/lib/python3.8/dist-packages/sklearn/metrics/_classification.py:1248: UndefinedMetricWarning: Jaccard is ill-defined and being set to 0.0 due to no true or predicted samples. Use `zero_division` parameter to control this behavior.\n",
      "  _warn_prf(average, modifier, msg_start, len(result))\n",
      "/usr/local/lib/python3.8/dist-packages/sklearn/metrics/_classification.py:1248: UndefinedMetricWarning: Jaccard is ill-defined and being set to 0.0 due to no true or predicted samples. Use `zero_division` parameter to control this behavior.\n",
      "  _warn_prf(average, modifier, msg_start, len(result))\n",
      "/usr/local/lib/python3.8/dist-packages/sklearn/metrics/_classification.py:1248: UndefinedMetricWarning: Jaccard is ill-defined and being set to 0.0 due to no true or predicted samples. Use `zero_division` parameter to control this behavior.\n",
      "  _warn_prf(average, modifier, msg_start, len(result))\n",
      " 26%|█████████████████████████████████████████████▏                                                                                                                                | 26/100 [08:04<20:01, 16.24s/it]"
     ]
    },
    {
     "name": "stdout",
     "output_type": "stream",
     "text": [
      "mIOU given by: 0.2904131535243195\n",
      "[0.2962460688548717, 0.30391794630616453, 0.6524141724191902, 0.5080124211021342, 0.2546997191227881, 0.3242468249175954, 0.48479004956123334, 0.5467472828283928, 0.25181696633670264, 0.3229743586259389, 0.1806640666147666, 0.31367196910536943, 0.3036725050839316, 0.3747066545714159, 0.3572061277044272, 0.40287405829159245, 0.36737397224146057, 0.6353939891926504, 0.3761727240153292, 0.6351422203946238, 0.560441796027732, 0.5107469284348097, 0.20716565277126062, 0.4451154906483967, 0.4253084700905224, 0.2904131535243195]\n"
     ]
    },
    {
     "name": "stderr",
     "output_type": "stream",
     "text": [
      "/usr/local/lib/python3.8/dist-packages/sklearn/metrics/_classification.py:1248: UndefinedMetricWarning: Jaccard is ill-defined and being set to 0.0 due to no true or predicted samples. Use `zero_division` parameter to control this behavior.\n",
      "  _warn_prf(average, modifier, msg_start, len(result))\n",
      "/usr/local/lib/python3.8/dist-packages/sklearn/metrics/_classification.py:1248: UndefinedMetricWarning: Jaccard is ill-defined and being set to 0.0 due to no true or predicted samples. Use `zero_division` parameter to control this behavior.\n",
      "  _warn_prf(average, modifier, msg_start, len(result))\n",
      "/usr/local/lib/python3.8/dist-packages/sklearn/metrics/_classification.py:1248: UndefinedMetricWarning: Jaccard is ill-defined and being set to 0.0 due to no true or predicted samples. Use `zero_division` parameter to control this behavior.\n",
      "  _warn_prf(average, modifier, msg_start, len(result))\n",
      "/usr/local/lib/python3.8/dist-packages/sklearn/metrics/_classification.py:1248: UndefinedMetricWarning: Jaccard is ill-defined and being set to 0.0 due to no true or predicted samples. Use `zero_division` parameter to control this behavior.\n",
      "  _warn_prf(average, modifier, msg_start, len(result))\n",
      "/usr/local/lib/python3.8/dist-packages/sklearn/metrics/_classification.py:1248: UndefinedMetricWarning: Jaccard is ill-defined and being set to 0.0 due to no true or predicted samples. Use `zero_division` parameter to control this behavior.\n",
      "  _warn_prf(average, modifier, msg_start, len(result))\n",
      "/usr/local/lib/python3.8/dist-packages/sklearn/metrics/_classification.py:1248: UndefinedMetricWarning: Jaccard is ill-defined and being set to 0.0 due to no true or predicted samples. Use `zero_division` parameter to control this behavior.\n",
      "  _warn_prf(average, modifier, msg_start, len(result))\n",
      "/usr/local/lib/python3.8/dist-packages/sklearn/metrics/_classification.py:1248: UndefinedMetricWarning: Jaccard is ill-defined and being set to 0.0 due to no true or predicted samples. Use `zero_division` parameter to control this behavior.\n",
      "  _warn_prf(average, modifier, msg_start, len(result))\n",
      "/usr/local/lib/python3.8/dist-packages/sklearn/metrics/_classification.py:1248: UndefinedMetricWarning: Jaccard is ill-defined and being set to 0.0 due to no true or predicted samples. Use `zero_division` parameter to control this behavior.\n",
      "  _warn_prf(average, modifier, msg_start, len(result))\n",
      "/usr/local/lib/python3.8/dist-packages/sklearn/metrics/_classification.py:1248: UndefinedMetricWarning: Jaccard is ill-defined and being set to 0.0 due to no true or predicted samples. Use `zero_division` parameter to control this behavior.\n",
      "  _warn_prf(average, modifier, msg_start, len(result))\n",
      "/usr/local/lib/python3.8/dist-packages/sklearn/metrics/_classification.py:1248: UndefinedMetricWarning: Jaccard is ill-defined and being set to 0.0 due to no true or predicted samples. Use `zero_division` parameter to control this behavior.\n",
      "  _warn_prf(average, modifier, msg_start, len(result))\n",
      "/usr/local/lib/python3.8/dist-packages/sklearn/metrics/_classification.py:1248: UndefinedMetricWarning: Jaccard is ill-defined and being set to 0.0 due to no true or predicted samples. Use `zero_division` parameter to control this behavior.\n",
      "  _warn_prf(average, modifier, msg_start, len(result))\n",
      "/usr/local/lib/python3.8/dist-packages/sklearn/metrics/_classification.py:1248: UndefinedMetricWarning: Jaccard is ill-defined and being set to 0.0 due to no true or predicted samples. Use `zero_division` parameter to control this behavior.\n",
      "  _warn_prf(average, modifier, msg_start, len(result))\n",
      "/usr/local/lib/python3.8/dist-packages/sklearn/metrics/_classification.py:1248: UndefinedMetricWarning: Jaccard is ill-defined and being set to 0.0 due to no true or predicted samples. Use `zero_division` parameter to control this behavior.\n",
      "  _warn_prf(average, modifier, msg_start, len(result))\n",
      "/usr/local/lib/python3.8/dist-packages/sklearn/metrics/_classification.py:1248: UndefinedMetricWarning: Jaccard is ill-defined and being set to 0.0 due to no true or predicted samples. Use `zero_division` parameter to control this behavior.\n",
      "  _warn_prf(average, modifier, msg_start, len(result))\n",
      " 27%|██████████████████████████████████████████████▉                                                                                                                               | 27/100 [08:20<19:29, 16.02s/it]"
     ]
    },
    {
     "name": "stdout",
     "output_type": "stream",
     "text": [
      "mIOU given by: 0.5909509165572139\n",
      "[0.2962460688548717, 0.30391794630616453, 0.6524141724191902, 0.5080124211021342, 0.2546997191227881, 0.3242468249175954, 0.48479004956123334, 0.5467472828283928, 0.25181696633670264, 0.3229743586259389, 0.1806640666147666, 0.31367196910536943, 0.3036725050839316, 0.3747066545714159, 0.3572061277044272, 0.40287405829159245, 0.36737397224146057, 0.6353939891926504, 0.3761727240153292, 0.6351422203946238, 0.560441796027732, 0.5107469284348097, 0.20716565277126062, 0.4451154906483967, 0.4253084700905224, 0.2904131535243195, 0.5909509165572139]\n"
     ]
    },
    {
     "name": "stderr",
     "output_type": "stream",
     "text": [
      "/usr/local/lib/python3.8/dist-packages/sklearn/metrics/_classification.py:1248: UndefinedMetricWarning: Jaccard is ill-defined and being set to 0.0 due to no true or predicted samples. Use `zero_division` parameter to control this behavior.\n",
      "  _warn_prf(average, modifier, msg_start, len(result))\n",
      "/usr/local/lib/python3.8/dist-packages/sklearn/metrics/_classification.py:1248: UndefinedMetricWarning: Jaccard is ill-defined and being set to 0.0 due to no true or predicted samples. Use `zero_division` parameter to control this behavior.\n",
      "  _warn_prf(average, modifier, msg_start, len(result))\n",
      "/usr/local/lib/python3.8/dist-packages/sklearn/metrics/_classification.py:1248: UndefinedMetricWarning: Jaccard is ill-defined and being set to 0.0 due to no true or predicted samples. Use `zero_division` parameter to control this behavior.\n",
      "  _warn_prf(average, modifier, msg_start, len(result))\n",
      "/usr/local/lib/python3.8/dist-packages/sklearn/metrics/_classification.py:1248: UndefinedMetricWarning: Jaccard is ill-defined and being set to 0.0 due to no true or predicted samples. Use `zero_division` parameter to control this behavior.\n",
      "  _warn_prf(average, modifier, msg_start, len(result))\n",
      "/usr/local/lib/python3.8/dist-packages/sklearn/metrics/_classification.py:1248: UndefinedMetricWarning: Jaccard is ill-defined and being set to 0.0 due to no true or predicted samples. Use `zero_division` parameter to control this behavior.\n",
      "  _warn_prf(average, modifier, msg_start, len(result))\n",
      "/usr/local/lib/python3.8/dist-packages/sklearn/metrics/_classification.py:1248: UndefinedMetricWarning: Jaccard is ill-defined and being set to 0.0 due to no true or predicted samples. Use `zero_division` parameter to control this behavior.\n",
      "  _warn_prf(average, modifier, msg_start, len(result))\n",
      "/usr/local/lib/python3.8/dist-packages/sklearn/metrics/_classification.py:1248: UndefinedMetricWarning: Jaccard is ill-defined and being set to 0.0 due to no true or predicted samples. Use `zero_division` parameter to control this behavior.\n",
      "  _warn_prf(average, modifier, msg_start, len(result))\n",
      " 28%|████████████████████████████████████████████████▋                                                                                                                             | 28/100 [08:35<19:11, 15.99s/it]"
     ]
    },
    {
     "name": "stdout",
     "output_type": "stream",
     "text": [
      "mIOU given by: 0.31562296796897144\n",
      "[0.2962460688548717, 0.30391794630616453, 0.6524141724191902, 0.5080124211021342, 0.2546997191227881, 0.3242468249175954, 0.48479004956123334, 0.5467472828283928, 0.25181696633670264, 0.3229743586259389, 0.1806640666147666, 0.31367196910536943, 0.3036725050839316, 0.3747066545714159, 0.3572061277044272, 0.40287405829159245, 0.36737397224146057, 0.6353939891926504, 0.3761727240153292, 0.6351422203946238, 0.560441796027732, 0.5107469284348097, 0.20716565277126062, 0.4451154906483967, 0.4253084700905224, 0.2904131535243195, 0.5909509165572139, 0.31562296796897144]\n"
     ]
    },
    {
     "name": "stderr",
     "output_type": "stream",
     "text": [
      "/usr/local/lib/python3.8/dist-packages/sklearn/metrics/_classification.py:1248: UndefinedMetricWarning: Jaccard is ill-defined and being set to 0.0 due to no true or predicted samples. Use `zero_division` parameter to control this behavior.\n",
      "  _warn_prf(average, modifier, msg_start, len(result))\n",
      "/usr/local/lib/python3.8/dist-packages/sklearn/metrics/_classification.py:1248: UndefinedMetricWarning: Jaccard is ill-defined and being set to 0.0 due to no true or predicted samples. Use `zero_division` parameter to control this behavior.\n",
      "  _warn_prf(average, modifier, msg_start, len(result))\n",
      "/usr/local/lib/python3.8/dist-packages/sklearn/metrics/_classification.py:1248: UndefinedMetricWarning: Jaccard is ill-defined and being set to 0.0 due to no true or predicted samples. Use `zero_division` parameter to control this behavior.\n",
      "  _warn_prf(average, modifier, msg_start, len(result))\n",
      "/usr/local/lib/python3.8/dist-packages/sklearn/metrics/_classification.py:1248: UndefinedMetricWarning: Jaccard is ill-defined and being set to 0.0 due to no true or predicted samples. Use `zero_division` parameter to control this behavior.\n",
      "  _warn_prf(average, modifier, msg_start, len(result))\n",
      "/usr/local/lib/python3.8/dist-packages/sklearn/metrics/_classification.py:1248: UndefinedMetricWarning: Jaccard is ill-defined and being set to 0.0 due to no true or predicted samples. Use `zero_division` parameter to control this behavior.\n",
      "  _warn_prf(average, modifier, msg_start, len(result))\n",
      "/usr/local/lib/python3.8/dist-packages/sklearn/metrics/_classification.py:1248: UndefinedMetricWarning: Jaccard is ill-defined and being set to 0.0 due to no true or predicted samples. Use `zero_division` parameter to control this behavior.\n",
      "  _warn_prf(average, modifier, msg_start, len(result))\n",
      "/usr/local/lib/python3.8/dist-packages/sklearn/metrics/_classification.py:1248: UndefinedMetricWarning: Jaccard is ill-defined and being set to 0.0 due to no true or predicted samples. Use `zero_division` parameter to control this behavior.\n",
      "  _warn_prf(average, modifier, msg_start, len(result))\n",
      "/usr/local/lib/python3.8/dist-packages/sklearn/metrics/_classification.py:1248: UndefinedMetricWarning: Jaccard is ill-defined and being set to 0.0 due to no true or predicted samples. Use `zero_division` parameter to control this behavior.\n",
      "  _warn_prf(average, modifier, msg_start, len(result))\n",
      "/usr/local/lib/python3.8/dist-packages/sklearn/metrics/_classification.py:1248: UndefinedMetricWarning: Jaccard is ill-defined and being set to 0.0 due to no true or predicted samples. Use `zero_division` parameter to control this behavior.\n",
      "  _warn_prf(average, modifier, msg_start, len(result))\n",
      "/usr/local/lib/python3.8/dist-packages/sklearn/metrics/_classification.py:1248: UndefinedMetricWarning: Jaccard is ill-defined and being set to 0.0 due to no true or predicted samples. Use `zero_division` parameter to control this behavior.\n",
      "  _warn_prf(average, modifier, msg_start, len(result))\n",
      " 29%|██████████████████████████████████████████████████▍                                                                                                                           | 29/100 [08:52<19:05, 16.13s/it]"
     ]
    },
    {
     "name": "stdout",
     "output_type": "stream",
     "text": [
      "mIOU given by: 0.5209770018455523\n",
      "[0.2962460688548717, 0.30391794630616453, 0.6524141724191902, 0.5080124211021342, 0.2546997191227881, 0.3242468249175954, 0.48479004956123334, 0.5467472828283928, 0.25181696633670264, 0.3229743586259389, 0.1806640666147666, 0.31367196910536943, 0.3036725050839316, 0.3747066545714159, 0.3572061277044272, 0.40287405829159245, 0.36737397224146057, 0.6353939891926504, 0.3761727240153292, 0.6351422203946238, 0.560441796027732, 0.5107469284348097, 0.20716565277126062, 0.4451154906483967, 0.4253084700905224, 0.2904131535243195, 0.5909509165572139, 0.31562296796897144, 0.5209770018455523]\n"
     ]
    },
    {
     "name": "stderr",
     "output_type": "stream",
     "text": [
      "/usr/local/lib/python3.8/dist-packages/sklearn/metrics/_classification.py:1248: UndefinedMetricWarning: Jaccard is ill-defined and being set to 0.0 due to no true or predicted samples. Use `zero_division` parameter to control this behavior.\n",
      "  _warn_prf(average, modifier, msg_start, len(result))\n",
      "/usr/local/lib/python3.8/dist-packages/sklearn/metrics/_classification.py:1248: UndefinedMetricWarning: Jaccard is ill-defined and being set to 0.0 due to no true or predicted samples. Use `zero_division` parameter to control this behavior.\n",
      "  _warn_prf(average, modifier, msg_start, len(result))\n",
      "/usr/local/lib/python3.8/dist-packages/sklearn/metrics/_classification.py:1248: UndefinedMetricWarning: Jaccard is ill-defined and being set to 0.0 due to no true or predicted samples. Use `zero_division` parameter to control this behavior.\n",
      "  _warn_prf(average, modifier, msg_start, len(result))\n",
      "/usr/local/lib/python3.8/dist-packages/sklearn/metrics/_classification.py:1248: UndefinedMetricWarning: Jaccard is ill-defined and being set to 0.0 due to no true or predicted samples. Use `zero_division` parameter to control this behavior.\n",
      "  _warn_prf(average, modifier, msg_start, len(result))\n",
      "/usr/local/lib/python3.8/dist-packages/sklearn/metrics/_classification.py:1248: UndefinedMetricWarning: Jaccard is ill-defined and being set to 0.0 due to no true or predicted samples. Use `zero_division` parameter to control this behavior.\n",
      "  _warn_prf(average, modifier, msg_start, len(result))\n",
      "/usr/local/lib/python3.8/dist-packages/sklearn/metrics/_classification.py:1248: UndefinedMetricWarning: Jaccard is ill-defined and being set to 0.0 due to no true or predicted samples. Use `zero_division` parameter to control this behavior.\n",
      "  _warn_prf(average, modifier, msg_start, len(result))\n",
      "/usr/local/lib/python3.8/dist-packages/sklearn/metrics/_classification.py:1248: UndefinedMetricWarning: Jaccard is ill-defined and being set to 0.0 due to no true or predicted samples. Use `zero_division` parameter to control this behavior.\n",
      "  _warn_prf(average, modifier, msg_start, len(result))\n",
      "/usr/local/lib/python3.8/dist-packages/sklearn/metrics/_classification.py:1248: UndefinedMetricWarning: Jaccard is ill-defined and being set to 0.0 due to no true or predicted samples. Use `zero_division` parameter to control this behavior.\n",
      "  _warn_prf(average, modifier, msg_start, len(result))\n",
      "/usr/local/lib/python3.8/dist-packages/sklearn/metrics/_classification.py:1248: UndefinedMetricWarning: Jaccard is ill-defined and being set to 0.0 due to no true or predicted samples. Use `zero_division` parameter to control this behavior.\n",
      "  _warn_prf(average, modifier, msg_start, len(result))\n",
      "/usr/local/lib/python3.8/dist-packages/sklearn/metrics/_classification.py:1248: UndefinedMetricWarning: Jaccard is ill-defined and being set to 0.0 due to no true or predicted samples. Use `zero_division` parameter to control this behavior.\n",
      "  _warn_prf(average, modifier, msg_start, len(result))\n",
      " 30%|████████████████████████████████████████████████████▏                                                                                                                         | 30/100 [09:08<18:55, 16.22s/it]"
     ]
    },
    {
     "name": "stdout",
     "output_type": "stream",
     "text": [
      "mIOU given by: 0.4975059521240728\n",
      "[0.2962460688548717, 0.30391794630616453, 0.6524141724191902, 0.5080124211021342, 0.2546997191227881, 0.3242468249175954, 0.48479004956123334, 0.5467472828283928, 0.25181696633670264, 0.3229743586259389, 0.1806640666147666, 0.31367196910536943, 0.3036725050839316, 0.3747066545714159, 0.3572061277044272, 0.40287405829159245, 0.36737397224146057, 0.6353939891926504, 0.3761727240153292, 0.6351422203946238, 0.560441796027732, 0.5107469284348097, 0.20716565277126062, 0.4451154906483967, 0.4253084700905224, 0.2904131535243195, 0.5909509165572139, 0.31562296796897144, 0.5209770018455523, 0.4975059521240728]\n"
     ]
    },
    {
     "name": "stderr",
     "output_type": "stream",
     "text": [
      "/usr/local/lib/python3.8/dist-packages/sklearn/metrics/_classification.py:1248: UndefinedMetricWarning: Jaccard is ill-defined and being set to 0.0 due to no true or predicted samples. Use `zero_division` parameter to control this behavior.\n",
      "  _warn_prf(average, modifier, msg_start, len(result))\n",
      "/usr/local/lib/python3.8/dist-packages/sklearn/metrics/_classification.py:1248: UndefinedMetricWarning: Jaccard is ill-defined and being set to 0.0 due to no true or predicted samples. Use `zero_division` parameter to control this behavior.\n",
      "  _warn_prf(average, modifier, msg_start, len(result))\n",
      "/usr/local/lib/python3.8/dist-packages/sklearn/metrics/_classification.py:1248: UndefinedMetricWarning: Jaccard is ill-defined and being set to 0.0 due to no true or predicted samples. Use `zero_division` parameter to control this behavior.\n",
      "  _warn_prf(average, modifier, msg_start, len(result))\n",
      "/usr/local/lib/python3.8/dist-packages/sklearn/metrics/_classification.py:1248: UndefinedMetricWarning: Jaccard is ill-defined and being set to 0.0 due to no true or predicted samples. Use `zero_division` parameter to control this behavior.\n",
      "  _warn_prf(average, modifier, msg_start, len(result))\n",
      "/usr/local/lib/python3.8/dist-packages/sklearn/metrics/_classification.py:1248: UndefinedMetricWarning: Jaccard is ill-defined and being set to 0.0 due to no true or predicted samples. Use `zero_division` parameter to control this behavior.\n",
      "  _warn_prf(average, modifier, msg_start, len(result))\n",
      "/usr/local/lib/python3.8/dist-packages/sklearn/metrics/_classification.py:1248: UndefinedMetricWarning: Jaccard is ill-defined and being set to 0.0 due to no true or predicted samples. Use `zero_division` parameter to control this behavior.\n",
      "  _warn_prf(average, modifier, msg_start, len(result))\n",
      "/usr/local/lib/python3.8/dist-packages/sklearn/metrics/_classification.py:1248: UndefinedMetricWarning: Jaccard is ill-defined and being set to 0.0 due to no true or predicted samples. Use `zero_division` parameter to control this behavior.\n",
      "  _warn_prf(average, modifier, msg_start, len(result))\n",
      "/usr/local/lib/python3.8/dist-packages/sklearn/metrics/_classification.py:1248: UndefinedMetricWarning: Jaccard is ill-defined and being set to 0.0 due to no true or predicted samples. Use `zero_division` parameter to control this behavior.\n",
      "  _warn_prf(average, modifier, msg_start, len(result))\n",
      "/usr/local/lib/python3.8/dist-packages/sklearn/metrics/_classification.py:1248: UndefinedMetricWarning: Jaccard is ill-defined and being set to 0.0 due to no true or predicted samples. Use `zero_division` parameter to control this behavior.\n",
      "  _warn_prf(average, modifier, msg_start, len(result))\n",
      "/usr/local/lib/python3.8/dist-packages/sklearn/metrics/_classification.py:1248: UndefinedMetricWarning: Jaccard is ill-defined and being set to 0.0 due to no true or predicted samples. Use `zero_division` parameter to control this behavior.\n",
      "  _warn_prf(average, modifier, msg_start, len(result))\n",
      " 31%|█████████████████████████████████████████████████████▉                                                                                                                        | 31/100 [09:25<18:50, 16.39s/it]"
     ]
    },
    {
     "name": "stdout",
     "output_type": "stream",
     "text": [
      "mIOU given by: 0.21717606360205344\n",
      "[0.2962460688548717, 0.30391794630616453, 0.6524141724191902, 0.5080124211021342, 0.2546997191227881, 0.3242468249175954, 0.48479004956123334, 0.5467472828283928, 0.25181696633670264, 0.3229743586259389, 0.1806640666147666, 0.31367196910536943, 0.3036725050839316, 0.3747066545714159, 0.3572061277044272, 0.40287405829159245, 0.36737397224146057, 0.6353939891926504, 0.3761727240153292, 0.6351422203946238, 0.560441796027732, 0.5107469284348097, 0.20716565277126062, 0.4451154906483967, 0.4253084700905224, 0.2904131535243195, 0.5909509165572139, 0.31562296796897144, 0.5209770018455523, 0.4975059521240728, 0.21717606360205344]\n"
     ]
    },
    {
     "name": "stderr",
     "output_type": "stream",
     "text": [
      "/usr/local/lib/python3.8/dist-packages/sklearn/metrics/_classification.py:1248: UndefinedMetricWarning: Jaccard is ill-defined and being set to 0.0 due to no true or predicted samples. Use `zero_division` parameter to control this behavior.\n",
      "  _warn_prf(average, modifier, msg_start, len(result))\n",
      "/usr/local/lib/python3.8/dist-packages/sklearn/metrics/_classification.py:1248: UndefinedMetricWarning: Jaccard is ill-defined and being set to 0.0 due to no true or predicted samples. Use `zero_division` parameter to control this behavior.\n",
      "  _warn_prf(average, modifier, msg_start, len(result))\n",
      "/usr/local/lib/python3.8/dist-packages/sklearn/metrics/_classification.py:1248: UndefinedMetricWarning: Jaccard is ill-defined and being set to 0.0 due to no true or predicted samples. Use `zero_division` parameter to control this behavior.\n",
      "  _warn_prf(average, modifier, msg_start, len(result))\n",
      "/usr/local/lib/python3.8/dist-packages/sklearn/metrics/_classification.py:1248: UndefinedMetricWarning: Jaccard is ill-defined and being set to 0.0 due to no true or predicted samples. Use `zero_division` parameter to control this behavior.\n",
      "  _warn_prf(average, modifier, msg_start, len(result))\n",
      "/usr/local/lib/python3.8/dist-packages/sklearn/metrics/_classification.py:1248: UndefinedMetricWarning: Jaccard is ill-defined and being set to 0.0 due to no true or predicted samples. Use `zero_division` parameter to control this behavior.\n",
      "  _warn_prf(average, modifier, msg_start, len(result))\n",
      "/usr/local/lib/python3.8/dist-packages/sklearn/metrics/_classification.py:1248: UndefinedMetricWarning: Jaccard is ill-defined and being set to 0.0 due to no true or predicted samples. Use `zero_division` parameter to control this behavior.\n",
      "  _warn_prf(average, modifier, msg_start, len(result))\n",
      "/usr/local/lib/python3.8/dist-packages/sklearn/metrics/_classification.py:1248: UndefinedMetricWarning: Jaccard is ill-defined and being set to 0.0 due to no true or predicted samples. Use `zero_division` parameter to control this behavior.\n",
      "  _warn_prf(average, modifier, msg_start, len(result))\n",
      "/usr/local/lib/python3.8/dist-packages/sklearn/metrics/_classification.py:1248: UndefinedMetricWarning: Jaccard is ill-defined and being set to 0.0 due to no true or predicted samples. Use `zero_division` parameter to control this behavior.\n",
      "  _warn_prf(average, modifier, msg_start, len(result))\n",
      "/usr/local/lib/python3.8/dist-packages/sklearn/metrics/_classification.py:1248: UndefinedMetricWarning: Jaccard is ill-defined and being set to 0.0 due to no true or predicted samples. Use `zero_division` parameter to control this behavior.\n",
      "  _warn_prf(average, modifier, msg_start, len(result))\n",
      " 32%|███████████████████████████████████████████████████████▋                                                                                                                      | 32/100 [09:40<18:01, 15.91s/it]"
     ]
    },
    {
     "name": "stdout",
     "output_type": "stream",
     "text": [
      "mIOU given by: 0.4317293892832681\n",
      "[0.2962460688548717, 0.30391794630616453, 0.6524141724191902, 0.5080124211021342, 0.2546997191227881, 0.3242468249175954, 0.48479004956123334, 0.5467472828283928, 0.25181696633670264, 0.3229743586259389, 0.1806640666147666, 0.31367196910536943, 0.3036725050839316, 0.3747066545714159, 0.3572061277044272, 0.40287405829159245, 0.36737397224146057, 0.6353939891926504, 0.3761727240153292, 0.6351422203946238, 0.560441796027732, 0.5107469284348097, 0.20716565277126062, 0.4451154906483967, 0.4253084700905224, 0.2904131535243195, 0.5909509165572139, 0.31562296796897144, 0.5209770018455523, 0.4975059521240728, 0.21717606360205344, 0.4317293892832681]\n"
     ]
    },
    {
     "name": "stderr",
     "output_type": "stream",
     "text": [
      "/usr/local/lib/python3.8/dist-packages/sklearn/metrics/_classification.py:1248: UndefinedMetricWarning: Jaccard is ill-defined and being set to 0.0 due to no true or predicted samples. Use `zero_division` parameter to control this behavior.\n",
      "  _warn_prf(average, modifier, msg_start, len(result))\n",
      "/usr/local/lib/python3.8/dist-packages/sklearn/metrics/_classification.py:1248: UndefinedMetricWarning: Jaccard is ill-defined and being set to 0.0 due to no true or predicted samples. Use `zero_division` parameter to control this behavior.\n",
      "  _warn_prf(average, modifier, msg_start, len(result))\n",
      "/usr/local/lib/python3.8/dist-packages/sklearn/metrics/_classification.py:1248: UndefinedMetricWarning: Jaccard is ill-defined and being set to 0.0 due to no true or predicted samples. Use `zero_division` parameter to control this behavior.\n",
      "  _warn_prf(average, modifier, msg_start, len(result))\n",
      "/usr/local/lib/python3.8/dist-packages/sklearn/metrics/_classification.py:1248: UndefinedMetricWarning: Jaccard is ill-defined and being set to 0.0 due to no true or predicted samples. Use `zero_division` parameter to control this behavior.\n",
      "  _warn_prf(average, modifier, msg_start, len(result))\n",
      "/usr/local/lib/python3.8/dist-packages/sklearn/metrics/_classification.py:1248: UndefinedMetricWarning: Jaccard is ill-defined and being set to 0.0 due to no true or predicted samples. Use `zero_division` parameter to control this behavior.\n",
      "  _warn_prf(average, modifier, msg_start, len(result))\n",
      "/usr/local/lib/python3.8/dist-packages/sklearn/metrics/_classification.py:1248: UndefinedMetricWarning: Jaccard is ill-defined and being set to 0.0 due to no true or predicted samples. Use `zero_division` parameter to control this behavior.\n",
      "  _warn_prf(average, modifier, msg_start, len(result))\n",
      "/usr/local/lib/python3.8/dist-packages/sklearn/metrics/_classification.py:1248: UndefinedMetricWarning: Jaccard is ill-defined and being set to 0.0 due to no true or predicted samples. Use `zero_division` parameter to control this behavior.\n",
      "  _warn_prf(average, modifier, msg_start, len(result))\n",
      " 33%|█████████████████████████████████████████████████████████▍                                                                                                                    | 33/100 [09:58<18:22, 16.45s/it]"
     ]
    },
    {
     "name": "stdout",
     "output_type": "stream",
     "text": [
      "mIOU given by: 0.3238602108257816\n",
      "[0.2962460688548717, 0.30391794630616453, 0.6524141724191902, 0.5080124211021342, 0.2546997191227881, 0.3242468249175954, 0.48479004956123334, 0.5467472828283928, 0.25181696633670264, 0.3229743586259389, 0.1806640666147666, 0.31367196910536943, 0.3036725050839316, 0.3747066545714159, 0.3572061277044272, 0.40287405829159245, 0.36737397224146057, 0.6353939891926504, 0.3761727240153292, 0.6351422203946238, 0.560441796027732, 0.5107469284348097, 0.20716565277126062, 0.4451154906483967, 0.4253084700905224, 0.2904131535243195, 0.5909509165572139, 0.31562296796897144, 0.5209770018455523, 0.4975059521240728, 0.21717606360205344, 0.4317293892832681, 0.3238602108257816]\n"
     ]
    },
    {
     "name": "stderr",
     "output_type": "stream",
     "text": [
      "/usr/local/lib/python3.8/dist-packages/sklearn/metrics/_classification.py:1248: UndefinedMetricWarning: Jaccard is ill-defined and being set to 0.0 due to no true or predicted samples. Use `zero_division` parameter to control this behavior.\n",
      "  _warn_prf(average, modifier, msg_start, len(result))\n",
      "/usr/local/lib/python3.8/dist-packages/sklearn/metrics/_classification.py:1248: UndefinedMetricWarning: Jaccard is ill-defined and being set to 0.0 due to no true or predicted samples. Use `zero_division` parameter to control this behavior.\n",
      "  _warn_prf(average, modifier, msg_start, len(result))\n",
      "/usr/local/lib/python3.8/dist-packages/sklearn/metrics/_classification.py:1248: UndefinedMetricWarning: Jaccard is ill-defined and being set to 0.0 due to no true or predicted samples. Use `zero_division` parameter to control this behavior.\n",
      "  _warn_prf(average, modifier, msg_start, len(result))\n",
      "/usr/local/lib/python3.8/dist-packages/sklearn/metrics/_classification.py:1248: UndefinedMetricWarning: Jaccard is ill-defined and being set to 0.0 due to no true or predicted samples. Use `zero_division` parameter to control this behavior.\n",
      "  _warn_prf(average, modifier, msg_start, len(result))\n",
      "/usr/local/lib/python3.8/dist-packages/sklearn/metrics/_classification.py:1248: UndefinedMetricWarning: Jaccard is ill-defined and being set to 0.0 due to no true or predicted samples. Use `zero_division` parameter to control this behavior.\n",
      "  _warn_prf(average, modifier, msg_start, len(result))\n",
      "/usr/local/lib/python3.8/dist-packages/sklearn/metrics/_classification.py:1248: UndefinedMetricWarning: Jaccard is ill-defined and being set to 0.0 due to no true or predicted samples. Use `zero_division` parameter to control this behavior.\n",
      "  _warn_prf(average, modifier, msg_start, len(result))\n",
      "/usr/local/lib/python3.8/dist-packages/sklearn/metrics/_classification.py:1248: UndefinedMetricWarning: Jaccard is ill-defined and being set to 0.0 due to no true or predicted samples. Use `zero_division` parameter to control this behavior.\n",
      "  _warn_prf(average, modifier, msg_start, len(result))\n",
      "/usr/local/lib/python3.8/dist-packages/sklearn/metrics/_classification.py:1248: UndefinedMetricWarning: Jaccard is ill-defined and being set to 0.0 due to no true or predicted samples. Use `zero_division` parameter to control this behavior.\n",
      "  _warn_prf(average, modifier, msg_start, len(result))\n",
      "/usr/local/lib/python3.8/dist-packages/sklearn/metrics/_classification.py:1248: UndefinedMetricWarning: Jaccard is ill-defined and being set to 0.0 due to no true or predicted samples. Use `zero_division` parameter to control this behavior.\n",
      "  _warn_prf(average, modifier, msg_start, len(result))\n",
      "/usr/local/lib/python3.8/dist-packages/sklearn/metrics/_classification.py:1248: UndefinedMetricWarning: Jaccard is ill-defined and being set to 0.0 due to no true or predicted samples. Use `zero_division` parameter to control this behavior.\n",
      "  _warn_prf(average, modifier, msg_start, len(result))\n",
      " 34%|███████████████████████████████████████████████████████████▏                                                                                                                  | 34/100 [10:15<18:14, 16.59s/it]"
     ]
    },
    {
     "name": "stdout",
     "output_type": "stream",
     "text": [
      "mIOU given by: 0.6895299081971155\n",
      "[0.2962460688548717, 0.30391794630616453, 0.6524141724191902, 0.5080124211021342, 0.2546997191227881, 0.3242468249175954, 0.48479004956123334, 0.5467472828283928, 0.25181696633670264, 0.3229743586259389, 0.1806640666147666, 0.31367196910536943, 0.3036725050839316, 0.3747066545714159, 0.3572061277044272, 0.40287405829159245, 0.36737397224146057, 0.6353939891926504, 0.3761727240153292, 0.6351422203946238, 0.560441796027732, 0.5107469284348097, 0.20716565277126062, 0.4451154906483967, 0.4253084700905224, 0.2904131535243195, 0.5909509165572139, 0.31562296796897144, 0.5209770018455523, 0.4975059521240728, 0.21717606360205344, 0.4317293892832681, 0.3238602108257816, 0.6895299081971155]\n"
     ]
    },
    {
     "name": "stderr",
     "output_type": "stream",
     "text": [
      "/usr/local/lib/python3.8/dist-packages/sklearn/metrics/_classification.py:1248: UndefinedMetricWarning: Jaccard is ill-defined and being set to 0.0 due to no true or predicted samples. Use `zero_division` parameter to control this behavior.\n",
      "  _warn_prf(average, modifier, msg_start, len(result))\n",
      "/usr/local/lib/python3.8/dist-packages/sklearn/metrics/_classification.py:1248: UndefinedMetricWarning: Jaccard is ill-defined and being set to 0.0 due to no true or predicted samples. Use `zero_division` parameter to control this behavior.\n",
      "  _warn_prf(average, modifier, msg_start, len(result))\n",
      "/usr/local/lib/python3.8/dist-packages/sklearn/metrics/_classification.py:1248: UndefinedMetricWarning: Jaccard is ill-defined and being set to 0.0 due to no true or predicted samples. Use `zero_division` parameter to control this behavior.\n",
      "  _warn_prf(average, modifier, msg_start, len(result))\n",
      "/usr/local/lib/python3.8/dist-packages/sklearn/metrics/_classification.py:1248: UndefinedMetricWarning: Jaccard is ill-defined and being set to 0.0 due to no true or predicted samples. Use `zero_division` parameter to control this behavior.\n",
      "  _warn_prf(average, modifier, msg_start, len(result))\n",
      "/usr/local/lib/python3.8/dist-packages/sklearn/metrics/_classification.py:1248: UndefinedMetricWarning: Jaccard is ill-defined and being set to 0.0 due to no true or predicted samples. Use `zero_division` parameter to control this behavior.\n",
      "  _warn_prf(average, modifier, msg_start, len(result))\n",
      "/usr/local/lib/python3.8/dist-packages/sklearn/metrics/_classification.py:1248: UndefinedMetricWarning: Jaccard is ill-defined and being set to 0.0 due to no true or predicted samples. Use `zero_division` parameter to control this behavior.\n",
      "  _warn_prf(average, modifier, msg_start, len(result))\n",
      "/usr/local/lib/python3.8/dist-packages/sklearn/metrics/_classification.py:1248: UndefinedMetricWarning: Jaccard is ill-defined and being set to 0.0 due to no true or predicted samples. Use `zero_division` parameter to control this behavior.\n",
      "  _warn_prf(average, modifier, msg_start, len(result))\n",
      "/usr/local/lib/python3.8/dist-packages/sklearn/metrics/_classification.py:1248: UndefinedMetricWarning: Jaccard is ill-defined and being set to 0.0 due to no true or predicted samples. Use `zero_division` parameter to control this behavior.\n",
      "  _warn_prf(average, modifier, msg_start, len(result))\n",
      "/usr/local/lib/python3.8/dist-packages/sklearn/metrics/_classification.py:1248: UndefinedMetricWarning: Jaccard is ill-defined and being set to 0.0 due to no true or predicted samples. Use `zero_division` parameter to control this behavior.\n",
      "  _warn_prf(average, modifier, msg_start, len(result))\n",
      " 35%|████████████████████████████████████████████████████████████▉                                                                                                                 | 35/100 [10:33<18:31, 17.09s/it]"
     ]
    },
    {
     "name": "stdout",
     "output_type": "stream",
     "text": [
      "mIOU given by: 0.3690091317136916\n",
      "[0.2962460688548717, 0.30391794630616453, 0.6524141724191902, 0.5080124211021342, 0.2546997191227881, 0.3242468249175954, 0.48479004956123334, 0.5467472828283928, 0.25181696633670264, 0.3229743586259389, 0.1806640666147666, 0.31367196910536943, 0.3036725050839316, 0.3747066545714159, 0.3572061277044272, 0.40287405829159245, 0.36737397224146057, 0.6353939891926504, 0.3761727240153292, 0.6351422203946238, 0.560441796027732, 0.5107469284348097, 0.20716565277126062, 0.4451154906483967, 0.4253084700905224, 0.2904131535243195, 0.5909509165572139, 0.31562296796897144, 0.5209770018455523, 0.4975059521240728, 0.21717606360205344, 0.4317293892832681, 0.3238602108257816, 0.6895299081971155, 0.3690091317136916]\n"
     ]
    },
    {
     "name": "stderr",
     "output_type": "stream",
     "text": [
      "/usr/local/lib/python3.8/dist-packages/sklearn/metrics/_classification.py:1248: UndefinedMetricWarning: Jaccard is ill-defined and being set to 0.0 due to no true or predicted samples. Use `zero_division` parameter to control this behavior.\n",
      "  _warn_prf(average, modifier, msg_start, len(result))\n",
      "/usr/local/lib/python3.8/dist-packages/sklearn/metrics/_classification.py:1248: UndefinedMetricWarning: Jaccard is ill-defined and being set to 0.0 due to no true or predicted samples. Use `zero_division` parameter to control this behavior.\n",
      "  _warn_prf(average, modifier, msg_start, len(result))\n",
      "/usr/local/lib/python3.8/dist-packages/sklearn/metrics/_classification.py:1248: UndefinedMetricWarning: Jaccard is ill-defined and being set to 0.0 due to no true or predicted samples. Use `zero_division` parameter to control this behavior.\n",
      "  _warn_prf(average, modifier, msg_start, len(result))\n",
      "/usr/local/lib/python3.8/dist-packages/sklearn/metrics/_classification.py:1248: UndefinedMetricWarning: Jaccard is ill-defined and being set to 0.0 due to no true or predicted samples. Use `zero_division` parameter to control this behavior.\n",
      "  _warn_prf(average, modifier, msg_start, len(result))\n",
      "/usr/local/lib/python3.8/dist-packages/sklearn/metrics/_classification.py:1248: UndefinedMetricWarning: Jaccard is ill-defined and being set to 0.0 due to no true or predicted samples. Use `zero_division` parameter to control this behavior.\n",
      "  _warn_prf(average, modifier, msg_start, len(result))\n",
      "/usr/local/lib/python3.8/dist-packages/sklearn/metrics/_classification.py:1248: UndefinedMetricWarning: Jaccard is ill-defined and being set to 0.0 due to no true or predicted samples. Use `zero_division` parameter to control this behavior.\n",
      "  _warn_prf(average, modifier, msg_start, len(result))\n",
      "/usr/local/lib/python3.8/dist-packages/sklearn/metrics/_classification.py:1248: UndefinedMetricWarning: Jaccard is ill-defined and being set to 0.0 due to no true or predicted samples. Use `zero_division` parameter to control this behavior.\n",
      "  _warn_prf(average, modifier, msg_start, len(result))\n",
      "/usr/local/lib/python3.8/dist-packages/sklearn/metrics/_classification.py:1248: UndefinedMetricWarning: Jaccard is ill-defined and being set to 0.0 due to no true or predicted samples. Use `zero_division` parameter to control this behavior.\n",
      "  _warn_prf(average, modifier, msg_start, len(result))\n",
      " 36%|██████████████████████████████████████████████████████████████▋                                                                                                               | 36/100 [10:50<18:20, 17.20s/it]"
     ]
    },
    {
     "name": "stdout",
     "output_type": "stream",
     "text": [
      "mIOU given by: 0.2874771060219107\n",
      "[0.2962460688548717, 0.30391794630616453, 0.6524141724191902, 0.5080124211021342, 0.2546997191227881, 0.3242468249175954, 0.48479004956123334, 0.5467472828283928, 0.25181696633670264, 0.3229743586259389, 0.1806640666147666, 0.31367196910536943, 0.3036725050839316, 0.3747066545714159, 0.3572061277044272, 0.40287405829159245, 0.36737397224146057, 0.6353939891926504, 0.3761727240153292, 0.6351422203946238, 0.560441796027732, 0.5107469284348097, 0.20716565277126062, 0.4451154906483967, 0.4253084700905224, 0.2904131535243195, 0.5909509165572139, 0.31562296796897144, 0.5209770018455523, 0.4975059521240728, 0.21717606360205344, 0.4317293892832681, 0.3238602108257816, 0.6895299081971155, 0.3690091317136916, 0.2874771060219107]\n"
     ]
    },
    {
     "name": "stderr",
     "output_type": "stream",
     "text": [
      "/usr/local/lib/python3.8/dist-packages/sklearn/metrics/_classification.py:1248: UndefinedMetricWarning: Jaccard is ill-defined and being set to 0.0 due to no true or predicted samples. Use `zero_division` parameter to control this behavior.\n",
      "  _warn_prf(average, modifier, msg_start, len(result))\n",
      "/usr/local/lib/python3.8/dist-packages/sklearn/metrics/_classification.py:1248: UndefinedMetricWarning: Jaccard is ill-defined and being set to 0.0 due to no true or predicted samples. Use `zero_division` parameter to control this behavior.\n",
      "  _warn_prf(average, modifier, msg_start, len(result))\n",
      "/usr/local/lib/python3.8/dist-packages/sklearn/metrics/_classification.py:1248: UndefinedMetricWarning: Jaccard is ill-defined and being set to 0.0 due to no true or predicted samples. Use `zero_division` parameter to control this behavior.\n",
      "  _warn_prf(average, modifier, msg_start, len(result))\n",
      "/usr/local/lib/python3.8/dist-packages/sklearn/metrics/_classification.py:1248: UndefinedMetricWarning: Jaccard is ill-defined and being set to 0.0 due to no true or predicted samples. Use `zero_division` parameter to control this behavior.\n",
      "  _warn_prf(average, modifier, msg_start, len(result))\n",
      "/usr/local/lib/python3.8/dist-packages/sklearn/metrics/_classification.py:1248: UndefinedMetricWarning: Jaccard is ill-defined and being set to 0.0 due to no true or predicted samples. Use `zero_division` parameter to control this behavior.\n",
      "  _warn_prf(average, modifier, msg_start, len(result))\n",
      "/usr/local/lib/python3.8/dist-packages/sklearn/metrics/_classification.py:1248: UndefinedMetricWarning: Jaccard is ill-defined and being set to 0.0 due to no true or predicted samples. Use `zero_division` parameter to control this behavior.\n",
      "  _warn_prf(average, modifier, msg_start, len(result))\n",
      " 37%|████████████████████████████████████████████████████████████████▍                                                                                                             | 37/100 [11:08<18:07, 17.26s/it]"
     ]
    },
    {
     "name": "stdout",
     "output_type": "stream",
     "text": [
      "mIOU given by: 0.2929327783651647\n",
      "[0.2962460688548717, 0.30391794630616453, 0.6524141724191902, 0.5080124211021342, 0.2546997191227881, 0.3242468249175954, 0.48479004956123334, 0.5467472828283928, 0.25181696633670264, 0.3229743586259389, 0.1806640666147666, 0.31367196910536943, 0.3036725050839316, 0.3747066545714159, 0.3572061277044272, 0.40287405829159245, 0.36737397224146057, 0.6353939891926504, 0.3761727240153292, 0.6351422203946238, 0.560441796027732, 0.5107469284348097, 0.20716565277126062, 0.4451154906483967, 0.4253084700905224, 0.2904131535243195, 0.5909509165572139, 0.31562296796897144, 0.5209770018455523, 0.4975059521240728, 0.21717606360205344, 0.4317293892832681, 0.3238602108257816, 0.6895299081971155, 0.3690091317136916, 0.2874771060219107, 0.2929327783651647]\n"
     ]
    },
    {
     "name": "stderr",
     "output_type": "stream",
     "text": [
      "/usr/local/lib/python3.8/dist-packages/sklearn/metrics/_classification.py:1248: UndefinedMetricWarning: Jaccard is ill-defined and being set to 0.0 due to no true or predicted samples. Use `zero_division` parameter to control this behavior.\n",
      "  _warn_prf(average, modifier, msg_start, len(result))\n",
      "/usr/local/lib/python3.8/dist-packages/sklearn/metrics/_classification.py:1248: UndefinedMetricWarning: Jaccard is ill-defined and being set to 0.0 due to no true or predicted samples. Use `zero_division` parameter to control this behavior.\n",
      "  _warn_prf(average, modifier, msg_start, len(result))\n",
      "/usr/local/lib/python3.8/dist-packages/sklearn/metrics/_classification.py:1248: UndefinedMetricWarning: Jaccard is ill-defined and being set to 0.0 due to no true or predicted samples. Use `zero_division` parameter to control this behavior.\n",
      "  _warn_prf(average, modifier, msg_start, len(result))\n",
      "/usr/local/lib/python3.8/dist-packages/sklearn/metrics/_classification.py:1248: UndefinedMetricWarning: Jaccard is ill-defined and being set to 0.0 due to no true or predicted samples. Use `zero_division` parameter to control this behavior.\n",
      "  _warn_prf(average, modifier, msg_start, len(result))\n",
      "/usr/local/lib/python3.8/dist-packages/sklearn/metrics/_classification.py:1248: UndefinedMetricWarning: Jaccard is ill-defined and being set to 0.0 due to no true or predicted samples. Use `zero_division` parameter to control this behavior.\n",
      "  _warn_prf(average, modifier, msg_start, len(result))\n",
      "/usr/local/lib/python3.8/dist-packages/sklearn/metrics/_classification.py:1248: UndefinedMetricWarning: Jaccard is ill-defined and being set to 0.0 due to no true or predicted samples. Use `zero_division` parameter to control this behavior.\n",
      "  _warn_prf(average, modifier, msg_start, len(result))\n",
      "/usr/local/lib/python3.8/dist-packages/sklearn/metrics/_classification.py:1248: UndefinedMetricWarning: Jaccard is ill-defined and being set to 0.0 due to no true or predicted samples. Use `zero_division` parameter to control this behavior.\n",
      "  _warn_prf(average, modifier, msg_start, len(result))\n",
      "/usr/local/lib/python3.8/dist-packages/sklearn/metrics/_classification.py:1248: UndefinedMetricWarning: Jaccard is ill-defined and being set to 0.0 due to no true or predicted samples. Use `zero_division` parameter to control this behavior.\n",
      "  _warn_prf(average, modifier, msg_start, len(result))\n",
      "/usr/local/lib/python3.8/dist-packages/sklearn/metrics/_classification.py:1248: UndefinedMetricWarning: Jaccard is ill-defined and being set to 0.0 due to no true or predicted samples. Use `zero_division` parameter to control this behavior.\n",
      "  _warn_prf(average, modifier, msg_start, len(result))\n",
      "/usr/local/lib/python3.8/dist-packages/sklearn/metrics/_classification.py:1248: UndefinedMetricWarning: Jaccard is ill-defined and being set to 0.0 due to no true or predicted samples. Use `zero_division` parameter to control this behavior.\n",
      "  _warn_prf(average, modifier, msg_start, len(result))\n",
      "/usr/local/lib/python3.8/dist-packages/sklearn/metrics/_classification.py:1248: UndefinedMetricWarning: Jaccard is ill-defined and being set to 0.0 due to no true or predicted samples. Use `zero_division` parameter to control this behavior.\n",
      "  _warn_prf(average, modifier, msg_start, len(result))\n",
      "/usr/local/lib/python3.8/dist-packages/sklearn/metrics/_classification.py:1248: UndefinedMetricWarning: Jaccard is ill-defined and being set to 0.0 due to no true or predicted samples. Use `zero_division` parameter to control this behavior.\n",
      "  _warn_prf(average, modifier, msg_start, len(result))\n",
      " 38%|██████████████████████████████████████████████████████████████████                                                                                                            | 38/100 [11:24<17:41, 17.11s/it]"
     ]
    },
    {
     "name": "stdout",
     "output_type": "stream",
     "text": [
      "mIOU given by: 0.5474389781053786\n",
      "[0.2962460688548717, 0.30391794630616453, 0.6524141724191902, 0.5080124211021342, 0.2546997191227881, 0.3242468249175954, 0.48479004956123334, 0.5467472828283928, 0.25181696633670264, 0.3229743586259389, 0.1806640666147666, 0.31367196910536943, 0.3036725050839316, 0.3747066545714159, 0.3572061277044272, 0.40287405829159245, 0.36737397224146057, 0.6353939891926504, 0.3761727240153292, 0.6351422203946238, 0.560441796027732, 0.5107469284348097, 0.20716565277126062, 0.4451154906483967, 0.4253084700905224, 0.2904131535243195, 0.5909509165572139, 0.31562296796897144, 0.5209770018455523, 0.4975059521240728, 0.21717606360205344, 0.4317293892832681, 0.3238602108257816, 0.6895299081971155, 0.3690091317136916, 0.2874771060219107, 0.2929327783651647, 0.5474389781053786]\n"
     ]
    },
    {
     "name": "stderr",
     "output_type": "stream",
     "text": [
      "/usr/local/lib/python3.8/dist-packages/sklearn/metrics/_classification.py:1248: UndefinedMetricWarning: Jaccard is ill-defined and being set to 0.0 due to no true or predicted samples. Use `zero_division` parameter to control this behavior.\n",
      "  _warn_prf(average, modifier, msg_start, len(result))\n",
      "/usr/local/lib/python3.8/dist-packages/sklearn/metrics/_classification.py:1248: UndefinedMetricWarning: Jaccard is ill-defined and being set to 0.0 due to no true or predicted samples. Use `zero_division` parameter to control this behavior.\n",
      "  _warn_prf(average, modifier, msg_start, len(result))\n",
      "/usr/local/lib/python3.8/dist-packages/sklearn/metrics/_classification.py:1248: UndefinedMetricWarning: Jaccard is ill-defined and being set to 0.0 due to no true or predicted samples. Use `zero_division` parameter to control this behavior.\n",
      "  _warn_prf(average, modifier, msg_start, len(result))\n",
      "/usr/local/lib/python3.8/dist-packages/sklearn/metrics/_classification.py:1248: UndefinedMetricWarning: Jaccard is ill-defined and being set to 0.0 due to no true or predicted samples. Use `zero_division` parameter to control this behavior.\n",
      "  _warn_prf(average, modifier, msg_start, len(result))\n",
      "/usr/local/lib/python3.8/dist-packages/sklearn/metrics/_classification.py:1248: UndefinedMetricWarning: Jaccard is ill-defined and being set to 0.0 due to no true or predicted samples. Use `zero_division` parameter to control this behavior.\n",
      "  _warn_prf(average, modifier, msg_start, len(result))\n",
      "/usr/local/lib/python3.8/dist-packages/sklearn/metrics/_classification.py:1248: UndefinedMetricWarning: Jaccard is ill-defined and being set to 0.0 due to no true or predicted samples. Use `zero_division` parameter to control this behavior.\n",
      "  _warn_prf(average, modifier, msg_start, len(result))\n",
      "/usr/local/lib/python3.8/dist-packages/sklearn/metrics/_classification.py:1248: UndefinedMetricWarning: Jaccard is ill-defined and being set to 0.0 due to no true or predicted samples. Use `zero_division` parameter to control this behavior.\n",
      "  _warn_prf(average, modifier, msg_start, len(result))\n",
      "/usr/local/lib/python3.8/dist-packages/sklearn/metrics/_classification.py:1248: UndefinedMetricWarning: Jaccard is ill-defined and being set to 0.0 due to no true or predicted samples. Use `zero_division` parameter to control this behavior.\n",
      "  _warn_prf(average, modifier, msg_start, len(result))\n",
      "/usr/local/lib/python3.8/dist-packages/sklearn/metrics/_classification.py:1248: UndefinedMetricWarning: Jaccard is ill-defined and being set to 0.0 due to no true or predicted samples. Use `zero_division` parameter to control this behavior.\n",
      "  _warn_prf(average, modifier, msg_start, len(result))\n",
      " 39%|███████████████████████████████████████████████████████████████████▊                                                                                                          | 39/100 [11:42<17:36, 17.32s/it]"
     ]
    },
    {
     "name": "stdout",
     "output_type": "stream",
     "text": [
      "mIOU given by: 0.40384188640793345\n",
      "[0.2962460688548717, 0.30391794630616453, 0.6524141724191902, 0.5080124211021342, 0.2546997191227881, 0.3242468249175954, 0.48479004956123334, 0.5467472828283928, 0.25181696633670264, 0.3229743586259389, 0.1806640666147666, 0.31367196910536943, 0.3036725050839316, 0.3747066545714159, 0.3572061277044272, 0.40287405829159245, 0.36737397224146057, 0.6353939891926504, 0.3761727240153292, 0.6351422203946238, 0.560441796027732, 0.5107469284348097, 0.20716565277126062, 0.4451154906483967, 0.4253084700905224, 0.2904131535243195, 0.5909509165572139, 0.31562296796897144, 0.5209770018455523, 0.4975059521240728, 0.21717606360205344, 0.4317293892832681, 0.3238602108257816, 0.6895299081971155, 0.3690091317136916, 0.2874771060219107, 0.2929327783651647, 0.5474389781053786, 0.40384188640793345]\n"
     ]
    },
    {
     "name": "stderr",
     "output_type": "stream",
     "text": [
      "/usr/local/lib/python3.8/dist-packages/sklearn/metrics/_classification.py:1248: UndefinedMetricWarning: Jaccard is ill-defined and being set to 0.0 due to no true or predicted samples. Use `zero_division` parameter to control this behavior.\n",
      "  _warn_prf(average, modifier, msg_start, len(result))\n",
      "/usr/local/lib/python3.8/dist-packages/sklearn/metrics/_classification.py:1248: UndefinedMetricWarning: Jaccard is ill-defined and being set to 0.0 due to no true or predicted samples. Use `zero_division` parameter to control this behavior.\n",
      "  _warn_prf(average, modifier, msg_start, len(result))\n",
      "/usr/local/lib/python3.8/dist-packages/sklearn/metrics/_classification.py:1248: UndefinedMetricWarning: Jaccard is ill-defined and being set to 0.0 due to no true or predicted samples. Use `zero_division` parameter to control this behavior.\n",
      "  _warn_prf(average, modifier, msg_start, len(result))\n",
      "/usr/local/lib/python3.8/dist-packages/sklearn/metrics/_classification.py:1248: UndefinedMetricWarning: Jaccard is ill-defined and being set to 0.0 due to no true or predicted samples. Use `zero_division` parameter to control this behavior.\n",
      "  _warn_prf(average, modifier, msg_start, len(result))\n",
      "/usr/local/lib/python3.8/dist-packages/sklearn/metrics/_classification.py:1248: UndefinedMetricWarning: Jaccard is ill-defined and being set to 0.0 due to no true or predicted samples. Use `zero_division` parameter to control this behavior.\n",
      "  _warn_prf(average, modifier, msg_start, len(result))\n",
      "/usr/local/lib/python3.8/dist-packages/sklearn/metrics/_classification.py:1248: UndefinedMetricWarning: Jaccard is ill-defined and being set to 0.0 due to no true or predicted samples. Use `zero_division` parameter to control this behavior.\n",
      "  _warn_prf(average, modifier, msg_start, len(result))\n",
      "/usr/local/lib/python3.8/dist-packages/sklearn/metrics/_classification.py:1248: UndefinedMetricWarning: Jaccard is ill-defined and being set to 0.0 due to no true or predicted samples. Use `zero_division` parameter to control this behavior.\n",
      "  _warn_prf(average, modifier, msg_start, len(result))\n",
      "/usr/local/lib/python3.8/dist-packages/sklearn/metrics/_classification.py:1248: UndefinedMetricWarning: Jaccard is ill-defined and being set to 0.0 due to no true or predicted samples. Use `zero_division` parameter to control this behavior.\n",
      "  _warn_prf(average, modifier, msg_start, len(result))\n",
      "/usr/local/lib/python3.8/dist-packages/sklearn/metrics/_classification.py:1248: UndefinedMetricWarning: Jaccard is ill-defined and being set to 0.0 due to no true or predicted samples. Use `zero_division` parameter to control this behavior.\n",
      "  _warn_prf(average, modifier, msg_start, len(result))\n",
      "/usr/local/lib/python3.8/dist-packages/sklearn/metrics/_classification.py:1248: UndefinedMetricWarning: Jaccard is ill-defined and being set to 0.0 due to no true or predicted samples. Use `zero_division` parameter to control this behavior.\n",
      "  _warn_prf(average, modifier, msg_start, len(result))\n",
      " 40%|█████████████████████████████████████████████████████████████████████▌                                                                                                        | 40/100 [11:59<17:10, 17.17s/it]"
     ]
    },
    {
     "name": "stdout",
     "output_type": "stream",
     "text": [
      "mIOU given by: 0.2342361781598103\n",
      "[0.2962460688548717, 0.30391794630616453, 0.6524141724191902, 0.5080124211021342, 0.2546997191227881, 0.3242468249175954, 0.48479004956123334, 0.5467472828283928, 0.25181696633670264, 0.3229743586259389, 0.1806640666147666, 0.31367196910536943, 0.3036725050839316, 0.3747066545714159, 0.3572061277044272, 0.40287405829159245, 0.36737397224146057, 0.6353939891926504, 0.3761727240153292, 0.6351422203946238, 0.560441796027732, 0.5107469284348097, 0.20716565277126062, 0.4451154906483967, 0.4253084700905224, 0.2904131535243195, 0.5909509165572139, 0.31562296796897144, 0.5209770018455523, 0.4975059521240728, 0.21717606360205344, 0.4317293892832681, 0.3238602108257816, 0.6895299081971155, 0.3690091317136916, 0.2874771060219107, 0.2929327783651647, 0.5474389781053786, 0.40384188640793345, 0.2342361781598103]\n"
     ]
    },
    {
     "name": "stderr",
     "output_type": "stream",
     "text": [
      "/usr/local/lib/python3.8/dist-packages/sklearn/metrics/_classification.py:1248: UndefinedMetricWarning: Jaccard is ill-defined and being set to 0.0 due to no true or predicted samples. Use `zero_division` parameter to control this behavior.\n",
      "  _warn_prf(average, modifier, msg_start, len(result))\n",
      "/usr/local/lib/python3.8/dist-packages/sklearn/metrics/_classification.py:1248: UndefinedMetricWarning: Jaccard is ill-defined and being set to 0.0 due to no true or predicted samples. Use `zero_division` parameter to control this behavior.\n",
      "  _warn_prf(average, modifier, msg_start, len(result))\n",
      "/usr/local/lib/python3.8/dist-packages/sklearn/metrics/_classification.py:1248: UndefinedMetricWarning: Jaccard is ill-defined and being set to 0.0 due to no true or predicted samples. Use `zero_division` parameter to control this behavior.\n",
      "  _warn_prf(average, modifier, msg_start, len(result))\n",
      "/usr/local/lib/python3.8/dist-packages/sklearn/metrics/_classification.py:1248: UndefinedMetricWarning: Jaccard is ill-defined and being set to 0.0 due to no true or predicted samples. Use `zero_division` parameter to control this behavior.\n",
      "  _warn_prf(average, modifier, msg_start, len(result))\n",
      "/usr/local/lib/python3.8/dist-packages/sklearn/metrics/_classification.py:1248: UndefinedMetricWarning: Jaccard is ill-defined and being set to 0.0 due to no true or predicted samples. Use `zero_division` parameter to control this behavior.\n",
      "  _warn_prf(average, modifier, msg_start, len(result))\n",
      "/usr/local/lib/python3.8/dist-packages/sklearn/metrics/_classification.py:1248: UndefinedMetricWarning: Jaccard is ill-defined and being set to 0.0 due to no true or predicted samples. Use `zero_division` parameter to control this behavior.\n",
      "  _warn_prf(average, modifier, msg_start, len(result))\n",
      "/usr/local/lib/python3.8/dist-packages/sklearn/metrics/_classification.py:1248: UndefinedMetricWarning: Jaccard is ill-defined and being set to 0.0 due to no true or predicted samples. Use `zero_division` parameter to control this behavior.\n",
      "  _warn_prf(average, modifier, msg_start, len(result))\n",
      "/usr/local/lib/python3.8/dist-packages/sklearn/metrics/_classification.py:1248: UndefinedMetricWarning: Jaccard is ill-defined and being set to 0.0 due to no true or predicted samples. Use `zero_division` parameter to control this behavior.\n",
      "  _warn_prf(average, modifier, msg_start, len(result))\n",
      "/usr/local/lib/python3.8/dist-packages/sklearn/metrics/_classification.py:1248: UndefinedMetricWarning: Jaccard is ill-defined and being set to 0.0 due to no true or predicted samples. Use `zero_division` parameter to control this behavior.\n",
      "  _warn_prf(average, modifier, msg_start, len(result))\n",
      "/usr/local/lib/python3.8/dist-packages/sklearn/metrics/_classification.py:1248: UndefinedMetricWarning: Jaccard is ill-defined and being set to 0.0 due to no true or predicted samples. Use `zero_division` parameter to control this behavior.\n",
      "  _warn_prf(average, modifier, msg_start, len(result))\n",
      " 41%|███████████████████████████████████████████████████████████████████████▎                                                                                                      | 41/100 [12:17<17:05, 17.39s/it]"
     ]
    },
    {
     "name": "stdout",
     "output_type": "stream",
     "text": [
      "mIOU given by: 0.5722761486238237\n",
      "[0.2962460688548717, 0.30391794630616453, 0.6524141724191902, 0.5080124211021342, 0.2546997191227881, 0.3242468249175954, 0.48479004956123334, 0.5467472828283928, 0.25181696633670264, 0.3229743586259389, 0.1806640666147666, 0.31367196910536943, 0.3036725050839316, 0.3747066545714159, 0.3572061277044272, 0.40287405829159245, 0.36737397224146057, 0.6353939891926504, 0.3761727240153292, 0.6351422203946238, 0.560441796027732, 0.5107469284348097, 0.20716565277126062, 0.4451154906483967, 0.4253084700905224, 0.2904131535243195, 0.5909509165572139, 0.31562296796897144, 0.5209770018455523, 0.4975059521240728, 0.21717606360205344, 0.4317293892832681, 0.3238602108257816, 0.6895299081971155, 0.3690091317136916, 0.2874771060219107, 0.2929327783651647, 0.5474389781053786, 0.40384188640793345, 0.2342361781598103, 0.5722761486238237]\n"
     ]
    },
    {
     "name": "stderr",
     "output_type": "stream",
     "text": [
      "/usr/local/lib/python3.8/dist-packages/sklearn/metrics/_classification.py:1248: UndefinedMetricWarning: Jaccard is ill-defined and being set to 0.0 due to no true or predicted samples. Use `zero_division` parameter to control this behavior.\n",
      "  _warn_prf(average, modifier, msg_start, len(result))\n",
      "/usr/local/lib/python3.8/dist-packages/sklearn/metrics/_classification.py:1248: UndefinedMetricWarning: Jaccard is ill-defined and being set to 0.0 due to no true or predicted samples. Use `zero_division` parameter to control this behavior.\n",
      "  _warn_prf(average, modifier, msg_start, len(result))\n",
      "/usr/local/lib/python3.8/dist-packages/sklearn/metrics/_classification.py:1248: UndefinedMetricWarning: Jaccard is ill-defined and being set to 0.0 due to no true or predicted samples. Use `zero_division` parameter to control this behavior.\n",
      "  _warn_prf(average, modifier, msg_start, len(result))\n",
      "/usr/local/lib/python3.8/dist-packages/sklearn/metrics/_classification.py:1248: UndefinedMetricWarning: Jaccard is ill-defined and being set to 0.0 due to no true or predicted samples. Use `zero_division` parameter to control this behavior.\n",
      "  _warn_prf(average, modifier, msg_start, len(result))\n",
      "/usr/local/lib/python3.8/dist-packages/sklearn/metrics/_classification.py:1248: UndefinedMetricWarning: Jaccard is ill-defined and being set to 0.0 due to no true or predicted samples. Use `zero_division` parameter to control this behavior.\n",
      "  _warn_prf(average, modifier, msg_start, len(result))\n",
      "/usr/local/lib/python3.8/dist-packages/sklearn/metrics/_classification.py:1248: UndefinedMetricWarning: Jaccard is ill-defined and being set to 0.0 due to no true or predicted samples. Use `zero_division` parameter to control this behavior.\n",
      "  _warn_prf(average, modifier, msg_start, len(result))\n",
      "/usr/local/lib/python3.8/dist-packages/sklearn/metrics/_classification.py:1248: UndefinedMetricWarning: Jaccard is ill-defined and being set to 0.0 due to no true or predicted samples. Use `zero_division` parameter to control this behavior.\n",
      "  _warn_prf(average, modifier, msg_start, len(result))\n",
      "/usr/local/lib/python3.8/dist-packages/sklearn/metrics/_classification.py:1248: UndefinedMetricWarning: Jaccard is ill-defined and being set to 0.0 due to no true or predicted samples. Use `zero_division` parameter to control this behavior.\n",
      "  _warn_prf(average, modifier, msg_start, len(result))\n",
      " 42%|█████████████████████████████████████████████████████████████████████████                                                                                                     | 42/100 [12:35<16:58, 17.55s/it]"
     ]
    },
    {
     "name": "stdout",
     "output_type": "stream",
     "text": [
      "mIOU given by: 0.30507412415321594\n",
      "[0.2962460688548717, 0.30391794630616453, 0.6524141724191902, 0.5080124211021342, 0.2546997191227881, 0.3242468249175954, 0.48479004956123334, 0.5467472828283928, 0.25181696633670264, 0.3229743586259389, 0.1806640666147666, 0.31367196910536943, 0.3036725050839316, 0.3747066545714159, 0.3572061277044272, 0.40287405829159245, 0.36737397224146057, 0.6353939891926504, 0.3761727240153292, 0.6351422203946238, 0.560441796027732, 0.5107469284348097, 0.20716565277126062, 0.4451154906483967, 0.4253084700905224, 0.2904131535243195, 0.5909509165572139, 0.31562296796897144, 0.5209770018455523, 0.4975059521240728, 0.21717606360205344, 0.4317293892832681, 0.3238602108257816, 0.6895299081971155, 0.3690091317136916, 0.2874771060219107, 0.2929327783651647, 0.5474389781053786, 0.40384188640793345, 0.2342361781598103, 0.5722761486238237, 0.30507412415321594]\n"
     ]
    },
    {
     "name": "stderr",
     "output_type": "stream",
     "text": [
      "/usr/local/lib/python3.8/dist-packages/sklearn/metrics/_classification.py:1248: UndefinedMetricWarning: Jaccard is ill-defined and being set to 0.0 due to no true or predicted samples. Use `zero_division` parameter to control this behavior.\n",
      "  _warn_prf(average, modifier, msg_start, len(result))\n",
      "/usr/local/lib/python3.8/dist-packages/sklearn/metrics/_classification.py:1248: UndefinedMetricWarning: Jaccard is ill-defined and being set to 0.0 due to no true or predicted samples. Use `zero_division` parameter to control this behavior.\n",
      "  _warn_prf(average, modifier, msg_start, len(result))\n",
      "/usr/local/lib/python3.8/dist-packages/sklearn/metrics/_classification.py:1248: UndefinedMetricWarning: Jaccard is ill-defined and being set to 0.0 due to no true or predicted samples. Use `zero_division` parameter to control this behavior.\n",
      "  _warn_prf(average, modifier, msg_start, len(result))\n",
      "/usr/local/lib/python3.8/dist-packages/sklearn/metrics/_classification.py:1248: UndefinedMetricWarning: Jaccard is ill-defined and being set to 0.0 due to no true or predicted samples. Use `zero_division` parameter to control this behavior.\n",
      "  _warn_prf(average, modifier, msg_start, len(result))\n",
      "/usr/local/lib/python3.8/dist-packages/sklearn/metrics/_classification.py:1248: UndefinedMetricWarning: Jaccard is ill-defined and being set to 0.0 due to no true or predicted samples. Use `zero_division` parameter to control this behavior.\n",
      "  _warn_prf(average, modifier, msg_start, len(result))\n",
      "/usr/local/lib/python3.8/dist-packages/sklearn/metrics/_classification.py:1248: UndefinedMetricWarning: Jaccard is ill-defined and being set to 0.0 due to no true or predicted samples. Use `zero_division` parameter to control this behavior.\n",
      "  _warn_prf(average, modifier, msg_start, len(result))\n",
      "/usr/local/lib/python3.8/dist-packages/sklearn/metrics/_classification.py:1248: UndefinedMetricWarning: Jaccard is ill-defined and being set to 0.0 due to no true or predicted samples. Use `zero_division` parameter to control this behavior.\n",
      "  _warn_prf(average, modifier, msg_start, len(result))\n",
      "/usr/local/lib/python3.8/dist-packages/sklearn/metrics/_classification.py:1248: UndefinedMetricWarning: Jaccard is ill-defined and being set to 0.0 due to no true or predicted samples. Use `zero_division` parameter to control this behavior.\n",
      "  _warn_prf(average, modifier, msg_start, len(result))\n",
      " 43%|██████████████████████████████████████████████████████████████████████████▊                                                                                                   | 43/100 [12:54<17:09, 18.05s/it]"
     ]
    },
    {
     "name": "stdout",
     "output_type": "stream",
     "text": [
      "mIOU given by: 0.4203328130750395\n",
      "[0.2962460688548717, 0.30391794630616453, 0.6524141724191902, 0.5080124211021342, 0.2546997191227881, 0.3242468249175954, 0.48479004956123334, 0.5467472828283928, 0.25181696633670264, 0.3229743586259389, 0.1806640666147666, 0.31367196910536943, 0.3036725050839316, 0.3747066545714159, 0.3572061277044272, 0.40287405829159245, 0.36737397224146057, 0.6353939891926504, 0.3761727240153292, 0.6351422203946238, 0.560441796027732, 0.5107469284348097, 0.20716565277126062, 0.4451154906483967, 0.4253084700905224, 0.2904131535243195, 0.5909509165572139, 0.31562296796897144, 0.5209770018455523, 0.4975059521240728, 0.21717606360205344, 0.4317293892832681, 0.3238602108257816, 0.6895299081971155, 0.3690091317136916, 0.2874771060219107, 0.2929327783651647, 0.5474389781053786, 0.40384188640793345, 0.2342361781598103, 0.5722761486238237, 0.30507412415321594, 0.4203328130750395]\n"
     ]
    },
    {
     "name": "stderr",
     "output_type": "stream",
     "text": [
      "/usr/local/lib/python3.8/dist-packages/sklearn/metrics/_classification.py:1248: UndefinedMetricWarning: Jaccard is ill-defined and being set to 0.0 due to no true or predicted samples. Use `zero_division` parameter to control this behavior.\n",
      "  _warn_prf(average, modifier, msg_start, len(result))\n",
      "/usr/local/lib/python3.8/dist-packages/sklearn/metrics/_classification.py:1248: UndefinedMetricWarning: Jaccard is ill-defined and being set to 0.0 due to no true or predicted samples. Use `zero_division` parameter to control this behavior.\n",
      "  _warn_prf(average, modifier, msg_start, len(result))\n",
      "/usr/local/lib/python3.8/dist-packages/sklearn/metrics/_classification.py:1248: UndefinedMetricWarning: Jaccard is ill-defined and being set to 0.0 due to no true or predicted samples. Use `zero_division` parameter to control this behavior.\n",
      "  _warn_prf(average, modifier, msg_start, len(result))\n",
      "/usr/local/lib/python3.8/dist-packages/sklearn/metrics/_classification.py:1248: UndefinedMetricWarning: Jaccard is ill-defined and being set to 0.0 due to no true or predicted samples. Use `zero_division` parameter to control this behavior.\n",
      "  _warn_prf(average, modifier, msg_start, len(result))\n",
      "/usr/local/lib/python3.8/dist-packages/sklearn/metrics/_classification.py:1248: UndefinedMetricWarning: Jaccard is ill-defined and being set to 0.0 due to no true or predicted samples. Use `zero_division` parameter to control this behavior.\n",
      "  _warn_prf(average, modifier, msg_start, len(result))\n",
      "/usr/local/lib/python3.8/dist-packages/sklearn/metrics/_classification.py:1248: UndefinedMetricWarning: Jaccard is ill-defined and being set to 0.0 due to no true or predicted samples. Use `zero_division` parameter to control this behavior.\n",
      "  _warn_prf(average, modifier, msg_start, len(result))\n",
      "/usr/local/lib/python3.8/dist-packages/sklearn/metrics/_classification.py:1248: UndefinedMetricWarning: Jaccard is ill-defined and being set to 0.0 due to no true or predicted samples. Use `zero_division` parameter to control this behavior.\n",
      "  _warn_prf(average, modifier, msg_start, len(result))\n",
      "/usr/local/lib/python3.8/dist-packages/sklearn/metrics/_classification.py:1248: UndefinedMetricWarning: Jaccard is ill-defined and being set to 0.0 due to no true or predicted samples. Use `zero_division` parameter to control this behavior.\n",
      "  _warn_prf(average, modifier, msg_start, len(result))\n",
      " 44%|████████████████████████████████████████████████████████████████████████████▌                                                                                                 | 44/100 [13:16<17:48, 19.08s/it]"
     ]
    },
    {
     "name": "stdout",
     "output_type": "stream",
     "text": [
      "mIOU given by: 0.4809527584990411\n",
      "[0.2962460688548717, 0.30391794630616453, 0.6524141724191902, 0.5080124211021342, 0.2546997191227881, 0.3242468249175954, 0.48479004956123334, 0.5467472828283928, 0.25181696633670264, 0.3229743586259389, 0.1806640666147666, 0.31367196910536943, 0.3036725050839316, 0.3747066545714159, 0.3572061277044272, 0.40287405829159245, 0.36737397224146057, 0.6353939891926504, 0.3761727240153292, 0.6351422203946238, 0.560441796027732, 0.5107469284348097, 0.20716565277126062, 0.4451154906483967, 0.4253084700905224, 0.2904131535243195, 0.5909509165572139, 0.31562296796897144, 0.5209770018455523, 0.4975059521240728, 0.21717606360205344, 0.4317293892832681, 0.3238602108257816, 0.6895299081971155, 0.3690091317136916, 0.2874771060219107, 0.2929327783651647, 0.5474389781053786, 0.40384188640793345, 0.2342361781598103, 0.5722761486238237, 0.30507412415321594, 0.4203328130750395, 0.4809527584990411]\n"
     ]
    },
    {
     "name": "stderr",
     "output_type": "stream",
     "text": [
      "/usr/local/lib/python3.8/dist-packages/sklearn/metrics/_classification.py:1248: UndefinedMetricWarning: Jaccard is ill-defined and being set to 0.0 due to no true or predicted samples. Use `zero_division` parameter to control this behavior.\n",
      "  _warn_prf(average, modifier, msg_start, len(result))\n",
      "/usr/local/lib/python3.8/dist-packages/sklearn/metrics/_classification.py:1248: UndefinedMetricWarning: Jaccard is ill-defined and being set to 0.0 due to no true or predicted samples. Use `zero_division` parameter to control this behavior.\n",
      "  _warn_prf(average, modifier, msg_start, len(result))\n",
      "/usr/local/lib/python3.8/dist-packages/sklearn/metrics/_classification.py:1248: UndefinedMetricWarning: Jaccard is ill-defined and being set to 0.0 due to no true or predicted samples. Use `zero_division` parameter to control this behavior.\n",
      "  _warn_prf(average, modifier, msg_start, len(result))\n",
      "/usr/local/lib/python3.8/dist-packages/sklearn/metrics/_classification.py:1248: UndefinedMetricWarning: Jaccard is ill-defined and being set to 0.0 due to no true or predicted samples. Use `zero_division` parameter to control this behavior.\n",
      "  _warn_prf(average, modifier, msg_start, len(result))\n",
      "/usr/local/lib/python3.8/dist-packages/sklearn/metrics/_classification.py:1248: UndefinedMetricWarning: Jaccard is ill-defined and being set to 0.0 due to no true or predicted samples. Use `zero_division` parameter to control this behavior.\n",
      "  _warn_prf(average, modifier, msg_start, len(result))\n",
      "/usr/local/lib/python3.8/dist-packages/sklearn/metrics/_classification.py:1248: UndefinedMetricWarning: Jaccard is ill-defined and being set to 0.0 due to no true or predicted samples. Use `zero_division` parameter to control this behavior.\n",
      "  _warn_prf(average, modifier, msg_start, len(result))\n",
      "/usr/local/lib/python3.8/dist-packages/sklearn/metrics/_classification.py:1248: UndefinedMetricWarning: Jaccard is ill-defined and being set to 0.0 due to no true or predicted samples. Use `zero_division` parameter to control this behavior.\n",
      "  _warn_prf(average, modifier, msg_start, len(result))\n",
      "/usr/local/lib/python3.8/dist-packages/sklearn/metrics/_classification.py:1248: UndefinedMetricWarning: Jaccard is ill-defined and being set to 0.0 due to no true or predicted samples. Use `zero_division` parameter to control this behavior.\n",
      "  _warn_prf(average, modifier, msg_start, len(result))\n",
      "/usr/local/lib/python3.8/dist-packages/sklearn/metrics/_classification.py:1248: UndefinedMetricWarning: Jaccard is ill-defined and being set to 0.0 due to no true or predicted samples. Use `zero_division` parameter to control this behavior.\n",
      "  _warn_prf(average, modifier, msg_start, len(result))\n",
      "/usr/local/lib/python3.8/dist-packages/sklearn/metrics/_classification.py:1248: UndefinedMetricWarning: Jaccard is ill-defined and being set to 0.0 due to no true or predicted samples. Use `zero_division` parameter to control this behavior.\n",
      "  _warn_prf(average, modifier, msg_start, len(result))\n",
      " 45%|██████████████████████████████████████████████████████████████████████████████▎                                                                                               | 45/100 [13:40<18:59, 20.72s/it]"
     ]
    },
    {
     "name": "stdout",
     "output_type": "stream",
     "text": [
      "mIOU given by: 0.6434470726429078\n",
      "[0.2962460688548717, 0.30391794630616453, 0.6524141724191902, 0.5080124211021342, 0.2546997191227881, 0.3242468249175954, 0.48479004956123334, 0.5467472828283928, 0.25181696633670264, 0.3229743586259389, 0.1806640666147666, 0.31367196910536943, 0.3036725050839316, 0.3747066545714159, 0.3572061277044272, 0.40287405829159245, 0.36737397224146057, 0.6353939891926504, 0.3761727240153292, 0.6351422203946238, 0.560441796027732, 0.5107469284348097, 0.20716565277126062, 0.4451154906483967, 0.4253084700905224, 0.2904131535243195, 0.5909509165572139, 0.31562296796897144, 0.5209770018455523, 0.4975059521240728, 0.21717606360205344, 0.4317293892832681, 0.3238602108257816, 0.6895299081971155, 0.3690091317136916, 0.2874771060219107, 0.2929327783651647, 0.5474389781053786, 0.40384188640793345, 0.2342361781598103, 0.5722761486238237, 0.30507412415321594, 0.4203328130750395, 0.4809527584990411, 0.6434470726429078]\n"
     ]
    },
    {
     "name": "stderr",
     "output_type": "stream",
     "text": [
      "/usr/local/lib/python3.8/dist-packages/sklearn/metrics/_classification.py:1248: UndefinedMetricWarning: Jaccard is ill-defined and being set to 0.0 due to no true or predicted samples. Use `zero_division` parameter to control this behavior.\n",
      "  _warn_prf(average, modifier, msg_start, len(result))\n",
      "/usr/local/lib/python3.8/dist-packages/sklearn/metrics/_classification.py:1248: UndefinedMetricWarning: Jaccard is ill-defined and being set to 0.0 due to no true or predicted samples. Use `zero_division` parameter to control this behavior.\n",
      "  _warn_prf(average, modifier, msg_start, len(result))\n",
      "/usr/local/lib/python3.8/dist-packages/sklearn/metrics/_classification.py:1248: UndefinedMetricWarning: Jaccard is ill-defined and being set to 0.0 due to no true or predicted samples. Use `zero_division` parameter to control this behavior.\n",
      "  _warn_prf(average, modifier, msg_start, len(result))\n",
      "/usr/local/lib/python3.8/dist-packages/sklearn/metrics/_classification.py:1248: UndefinedMetricWarning: Jaccard is ill-defined and being set to 0.0 due to no true or predicted samples. Use `zero_division` parameter to control this behavior.\n",
      "  _warn_prf(average, modifier, msg_start, len(result))\n",
      "/usr/local/lib/python3.8/dist-packages/sklearn/metrics/_classification.py:1248: UndefinedMetricWarning: Jaccard is ill-defined and being set to 0.0 due to no true or predicted samples. Use `zero_division` parameter to control this behavior.\n",
      "  _warn_prf(average, modifier, msg_start, len(result))\n",
      "/usr/local/lib/python3.8/dist-packages/sklearn/metrics/_classification.py:1248: UndefinedMetricWarning: Jaccard is ill-defined and being set to 0.0 due to no true or predicted samples. Use `zero_division` parameter to control this behavior.\n",
      "  _warn_prf(average, modifier, msg_start, len(result))\n",
      "/usr/local/lib/python3.8/dist-packages/sklearn/metrics/_classification.py:1248: UndefinedMetricWarning: Jaccard is ill-defined and being set to 0.0 due to no true or predicted samples. Use `zero_division` parameter to control this behavior.\n",
      "  _warn_prf(average, modifier, msg_start, len(result))\n",
      " 46%|████████████████████████████████████████████████████████████████████████████████                                                                                              | 46/100 [13:57<17:29, 19.44s/it]"
     ]
    },
    {
     "name": "stdout",
     "output_type": "stream",
     "text": [
      "mIOU given by: 0.5296326167966681\n",
      "[0.2962460688548717, 0.30391794630616453, 0.6524141724191902, 0.5080124211021342, 0.2546997191227881, 0.3242468249175954, 0.48479004956123334, 0.5467472828283928, 0.25181696633670264, 0.3229743586259389, 0.1806640666147666, 0.31367196910536943, 0.3036725050839316, 0.3747066545714159, 0.3572061277044272, 0.40287405829159245, 0.36737397224146057, 0.6353939891926504, 0.3761727240153292, 0.6351422203946238, 0.560441796027732, 0.5107469284348097, 0.20716565277126062, 0.4451154906483967, 0.4253084700905224, 0.2904131535243195, 0.5909509165572139, 0.31562296796897144, 0.5209770018455523, 0.4975059521240728, 0.21717606360205344, 0.4317293892832681, 0.3238602108257816, 0.6895299081971155, 0.3690091317136916, 0.2874771060219107, 0.2929327783651647, 0.5474389781053786, 0.40384188640793345, 0.2342361781598103, 0.5722761486238237, 0.30507412415321594, 0.4203328130750395, 0.4809527584990411, 0.6434470726429078, 0.5296326167966681]\n"
     ]
    },
    {
     "name": "stderr",
     "output_type": "stream",
     "text": [
      "/usr/local/lib/python3.8/dist-packages/sklearn/metrics/_classification.py:1248: UndefinedMetricWarning: Jaccard is ill-defined and being set to 0.0 due to no true or predicted samples. Use `zero_division` parameter to control this behavior.\n",
      "  _warn_prf(average, modifier, msg_start, len(result))\n",
      "/usr/local/lib/python3.8/dist-packages/sklearn/metrics/_classification.py:1248: UndefinedMetricWarning: Jaccard is ill-defined and being set to 0.0 due to no true or predicted samples. Use `zero_division` parameter to control this behavior.\n",
      "  _warn_prf(average, modifier, msg_start, len(result))\n",
      "/usr/local/lib/python3.8/dist-packages/sklearn/metrics/_classification.py:1248: UndefinedMetricWarning: Jaccard is ill-defined and being set to 0.0 due to no true or predicted samples. Use `zero_division` parameter to control this behavior.\n",
      "  _warn_prf(average, modifier, msg_start, len(result))\n",
      "/usr/local/lib/python3.8/dist-packages/sklearn/metrics/_classification.py:1248: UndefinedMetricWarning: Jaccard is ill-defined and being set to 0.0 due to no true or predicted samples. Use `zero_division` parameter to control this behavior.\n",
      "  _warn_prf(average, modifier, msg_start, len(result))\n",
      "/usr/local/lib/python3.8/dist-packages/sklearn/metrics/_classification.py:1248: UndefinedMetricWarning: Jaccard is ill-defined and being set to 0.0 due to no true or predicted samples. Use `zero_division` parameter to control this behavior.\n",
      "  _warn_prf(average, modifier, msg_start, len(result))\n",
      "/usr/local/lib/python3.8/dist-packages/sklearn/metrics/_classification.py:1248: UndefinedMetricWarning: Jaccard is ill-defined and being set to 0.0 due to no true or predicted samples. Use `zero_division` parameter to control this behavior.\n",
      "  _warn_prf(average, modifier, msg_start, len(result))\n",
      "/usr/local/lib/python3.8/dist-packages/sklearn/metrics/_classification.py:1248: UndefinedMetricWarning: Jaccard is ill-defined and being set to 0.0 due to no true or predicted samples. Use `zero_division` parameter to control this behavior.\n",
      "  _warn_prf(average, modifier, msg_start, len(result))\n",
      "/usr/local/lib/python3.8/dist-packages/sklearn/metrics/_classification.py:1248: UndefinedMetricWarning: Jaccard is ill-defined and being set to 0.0 due to no true or predicted samples. Use `zero_division` parameter to control this behavior.\n",
      "  _warn_prf(average, modifier, msg_start, len(result))\n",
      "/usr/local/lib/python3.8/dist-packages/sklearn/metrics/_classification.py:1248: UndefinedMetricWarning: Jaccard is ill-defined and being set to 0.0 due to no true or predicted samples. Use `zero_division` parameter to control this behavior.\n",
      "  _warn_prf(average, modifier, msg_start, len(result))\n",
      "/usr/local/lib/python3.8/dist-packages/sklearn/metrics/_classification.py:1248: UndefinedMetricWarning: Jaccard is ill-defined and being set to 0.0 due to no true or predicted samples. Use `zero_division` parameter to control this behavior.\n",
      "  _warn_prf(average, modifier, msg_start, len(result))\n",
      "/usr/local/lib/python3.8/dist-packages/sklearn/metrics/_classification.py:1248: UndefinedMetricWarning: Jaccard is ill-defined and being set to 0.0 due to no true or predicted samples. Use `zero_division` parameter to control this behavior.\n",
      "  _warn_prf(average, modifier, msg_start, len(result))\n",
      " 47%|█████████████████████████████████████████████████████████████████████████████████▊                                                                                            | 47/100 [14:13<16:17, 18.44s/it]"
     ]
    },
    {
     "name": "stdout",
     "output_type": "stream",
     "text": [
      "mIOU given by: 0.6076567618895583\n",
      "[0.2962460688548717, 0.30391794630616453, 0.6524141724191902, 0.5080124211021342, 0.2546997191227881, 0.3242468249175954, 0.48479004956123334, 0.5467472828283928, 0.25181696633670264, 0.3229743586259389, 0.1806640666147666, 0.31367196910536943, 0.3036725050839316, 0.3747066545714159, 0.3572061277044272, 0.40287405829159245, 0.36737397224146057, 0.6353939891926504, 0.3761727240153292, 0.6351422203946238, 0.560441796027732, 0.5107469284348097, 0.20716565277126062, 0.4451154906483967, 0.4253084700905224, 0.2904131535243195, 0.5909509165572139, 0.31562296796897144, 0.5209770018455523, 0.4975059521240728, 0.21717606360205344, 0.4317293892832681, 0.3238602108257816, 0.6895299081971155, 0.3690091317136916, 0.2874771060219107, 0.2929327783651647, 0.5474389781053786, 0.40384188640793345, 0.2342361781598103, 0.5722761486238237, 0.30507412415321594, 0.4203328130750395, 0.4809527584990411, 0.6434470726429078, 0.5296326167966681, 0.6076567618895583]\n"
     ]
    },
    {
     "name": "stderr",
     "output_type": "stream",
     "text": [
      "/usr/local/lib/python3.8/dist-packages/sklearn/metrics/_classification.py:1248: UndefinedMetricWarning: Jaccard is ill-defined and being set to 0.0 due to no true or predicted samples. Use `zero_division` parameter to control this behavior.\n",
      "  _warn_prf(average, modifier, msg_start, len(result))\n",
      "/usr/local/lib/python3.8/dist-packages/sklearn/metrics/_classification.py:1248: UndefinedMetricWarning: Jaccard is ill-defined and being set to 0.0 due to no true or predicted samples. Use `zero_division` parameter to control this behavior.\n",
      "  _warn_prf(average, modifier, msg_start, len(result))\n",
      "/usr/local/lib/python3.8/dist-packages/sklearn/metrics/_classification.py:1248: UndefinedMetricWarning: Jaccard is ill-defined and being set to 0.0 due to no true or predicted samples. Use `zero_division` parameter to control this behavior.\n",
      "  _warn_prf(average, modifier, msg_start, len(result))\n",
      "/usr/local/lib/python3.8/dist-packages/sklearn/metrics/_classification.py:1248: UndefinedMetricWarning: Jaccard is ill-defined and being set to 0.0 due to no true or predicted samples. Use `zero_division` parameter to control this behavior.\n",
      "  _warn_prf(average, modifier, msg_start, len(result))\n",
      "/usr/local/lib/python3.8/dist-packages/sklearn/metrics/_classification.py:1248: UndefinedMetricWarning: Jaccard is ill-defined and being set to 0.0 due to no true or predicted samples. Use `zero_division` parameter to control this behavior.\n",
      "  _warn_prf(average, modifier, msg_start, len(result))\n",
      "/usr/local/lib/python3.8/dist-packages/sklearn/metrics/_classification.py:1248: UndefinedMetricWarning: Jaccard is ill-defined and being set to 0.0 due to no true or predicted samples. Use `zero_division` parameter to control this behavior.\n",
      "  _warn_prf(average, modifier, msg_start, len(result))\n",
      "/usr/local/lib/python3.8/dist-packages/sklearn/metrics/_classification.py:1248: UndefinedMetricWarning: Jaccard is ill-defined and being set to 0.0 due to no true or predicted samples. Use `zero_division` parameter to control this behavior.\n",
      "  _warn_prf(average, modifier, msg_start, len(result))\n",
      "/usr/local/lib/python3.8/dist-packages/sklearn/metrics/_classification.py:1248: UndefinedMetricWarning: Jaccard is ill-defined and being set to 0.0 due to no true or predicted samples. Use `zero_division` parameter to control this behavior.\n",
      "  _warn_prf(average, modifier, msg_start, len(result))\n",
      " 48%|███████████████████████████████████████████████████████████████████████████████████▌                                                                                          | 48/100 [14:32<16:06, 18.59s/it]"
     ]
    },
    {
     "name": "stdout",
     "output_type": "stream",
     "text": [
      "mIOU given by: 0.3910390506826292\n",
      "[0.2962460688548717, 0.30391794630616453, 0.6524141724191902, 0.5080124211021342, 0.2546997191227881, 0.3242468249175954, 0.48479004956123334, 0.5467472828283928, 0.25181696633670264, 0.3229743586259389, 0.1806640666147666, 0.31367196910536943, 0.3036725050839316, 0.3747066545714159, 0.3572061277044272, 0.40287405829159245, 0.36737397224146057, 0.6353939891926504, 0.3761727240153292, 0.6351422203946238, 0.560441796027732, 0.5107469284348097, 0.20716565277126062, 0.4451154906483967, 0.4253084700905224, 0.2904131535243195, 0.5909509165572139, 0.31562296796897144, 0.5209770018455523, 0.4975059521240728, 0.21717606360205344, 0.4317293892832681, 0.3238602108257816, 0.6895299081971155, 0.3690091317136916, 0.2874771060219107, 0.2929327783651647, 0.5474389781053786, 0.40384188640793345, 0.2342361781598103, 0.5722761486238237, 0.30507412415321594, 0.4203328130750395, 0.4809527584990411, 0.6434470726429078, 0.5296326167966681, 0.6076567618895583, 0.3910390506826292]\n"
     ]
    },
    {
     "name": "stderr",
     "output_type": "stream",
     "text": [
      "/usr/local/lib/python3.8/dist-packages/sklearn/metrics/_classification.py:1248: UndefinedMetricWarning: Jaccard is ill-defined and being set to 0.0 due to no true or predicted samples. Use `zero_division` parameter to control this behavior.\n",
      "  _warn_prf(average, modifier, msg_start, len(result))\n",
      "/usr/local/lib/python3.8/dist-packages/sklearn/metrics/_classification.py:1248: UndefinedMetricWarning: Jaccard is ill-defined and being set to 0.0 due to no true or predicted samples. Use `zero_division` parameter to control this behavior.\n",
      "  _warn_prf(average, modifier, msg_start, len(result))\n",
      "/usr/local/lib/python3.8/dist-packages/sklearn/metrics/_classification.py:1248: UndefinedMetricWarning: Jaccard is ill-defined and being set to 0.0 due to no true or predicted samples. Use `zero_division` parameter to control this behavior.\n",
      "  _warn_prf(average, modifier, msg_start, len(result))\n",
      "/usr/local/lib/python3.8/dist-packages/sklearn/metrics/_classification.py:1248: UndefinedMetricWarning: Jaccard is ill-defined and being set to 0.0 due to no true or predicted samples. Use `zero_division` parameter to control this behavior.\n",
      "  _warn_prf(average, modifier, msg_start, len(result))\n",
      "/usr/local/lib/python3.8/dist-packages/sklearn/metrics/_classification.py:1248: UndefinedMetricWarning: Jaccard is ill-defined and being set to 0.0 due to no true or predicted samples. Use `zero_division` parameter to control this behavior.\n",
      "  _warn_prf(average, modifier, msg_start, len(result))\n",
      "/usr/local/lib/python3.8/dist-packages/sklearn/metrics/_classification.py:1248: UndefinedMetricWarning: Jaccard is ill-defined and being set to 0.0 due to no true or predicted samples. Use `zero_division` parameter to control this behavior.\n",
      "  _warn_prf(average, modifier, msg_start, len(result))\n",
      "/usr/local/lib/python3.8/dist-packages/sklearn/metrics/_classification.py:1248: UndefinedMetricWarning: Jaccard is ill-defined and being set to 0.0 due to no true or predicted samples. Use `zero_division` parameter to control this behavior.\n",
      "  _warn_prf(average, modifier, msg_start, len(result))\n",
      "/usr/local/lib/python3.8/dist-packages/sklearn/metrics/_classification.py:1248: UndefinedMetricWarning: Jaccard is ill-defined and being set to 0.0 due to no true or predicted samples. Use `zero_division` parameter to control this behavior.\n",
      "  _warn_prf(average, modifier, msg_start, len(result))\n",
      "/usr/local/lib/python3.8/dist-packages/sklearn/metrics/_classification.py:1248: UndefinedMetricWarning: Jaccard is ill-defined and being set to 0.0 due to no true or predicted samples. Use `zero_division` parameter to control this behavior.\n",
      "  _warn_prf(average, modifier, msg_start, len(result))\n",
      "/usr/local/lib/python3.8/dist-packages/sklearn/metrics/_classification.py:1248: UndefinedMetricWarning: Jaccard is ill-defined and being set to 0.0 due to no true or predicted samples. Use `zero_division` parameter to control this behavior.\n",
      "  _warn_prf(average, modifier, msg_start, len(result))\n",
      "/usr/local/lib/python3.8/dist-packages/sklearn/metrics/_classification.py:1248: UndefinedMetricWarning: Jaccard is ill-defined and being set to 0.0 due to no true or predicted samples. Use `zero_division` parameter to control this behavior.\n",
      "  _warn_prf(average, modifier, msg_start, len(result))\n",
      " 49%|█████████████████████████████████████████████████████████████████████████████████████▎                                                                                        | 49/100 [14:50<15:46, 18.56s/it]"
     ]
    },
    {
     "name": "stdout",
     "output_type": "stream",
     "text": [
      "mIOU given by: 0.609951648290316\n",
      "[0.2962460688548717, 0.30391794630616453, 0.6524141724191902, 0.5080124211021342, 0.2546997191227881, 0.3242468249175954, 0.48479004956123334, 0.5467472828283928, 0.25181696633670264, 0.3229743586259389, 0.1806640666147666, 0.31367196910536943, 0.3036725050839316, 0.3747066545714159, 0.3572061277044272, 0.40287405829159245, 0.36737397224146057, 0.6353939891926504, 0.3761727240153292, 0.6351422203946238, 0.560441796027732, 0.5107469284348097, 0.20716565277126062, 0.4451154906483967, 0.4253084700905224, 0.2904131535243195, 0.5909509165572139, 0.31562296796897144, 0.5209770018455523, 0.4975059521240728, 0.21717606360205344, 0.4317293892832681, 0.3238602108257816, 0.6895299081971155, 0.3690091317136916, 0.2874771060219107, 0.2929327783651647, 0.5474389781053786, 0.40384188640793345, 0.2342361781598103, 0.5722761486238237, 0.30507412415321594, 0.4203328130750395, 0.4809527584990411, 0.6434470726429078, 0.5296326167966681, 0.6076567618895583, 0.3910390506826292, 0.609951648290316]\n"
     ]
    },
    {
     "name": "stderr",
     "output_type": "stream",
     "text": [
      "/usr/local/lib/python3.8/dist-packages/sklearn/metrics/_classification.py:1248: UndefinedMetricWarning: Jaccard is ill-defined and being set to 0.0 due to no true or predicted samples. Use `zero_division` parameter to control this behavior.\n",
      "  _warn_prf(average, modifier, msg_start, len(result))\n",
      "/usr/local/lib/python3.8/dist-packages/sklearn/metrics/_classification.py:1248: UndefinedMetricWarning: Jaccard is ill-defined and being set to 0.0 due to no true or predicted samples. Use `zero_division` parameter to control this behavior.\n",
      "  _warn_prf(average, modifier, msg_start, len(result))\n",
      "/usr/local/lib/python3.8/dist-packages/sklearn/metrics/_classification.py:1248: UndefinedMetricWarning: Jaccard is ill-defined and being set to 0.0 due to no true or predicted samples. Use `zero_division` parameter to control this behavior.\n",
      "  _warn_prf(average, modifier, msg_start, len(result))\n",
      "/usr/local/lib/python3.8/dist-packages/sklearn/metrics/_classification.py:1248: UndefinedMetricWarning: Jaccard is ill-defined and being set to 0.0 due to no true or predicted samples. Use `zero_division` parameter to control this behavior.\n",
      "  _warn_prf(average, modifier, msg_start, len(result))\n",
      "/usr/local/lib/python3.8/dist-packages/sklearn/metrics/_classification.py:1248: UndefinedMetricWarning: Jaccard is ill-defined and being set to 0.0 due to no true or predicted samples. Use `zero_division` parameter to control this behavior.\n",
      "  _warn_prf(average, modifier, msg_start, len(result))\n",
      "/usr/local/lib/python3.8/dist-packages/sklearn/metrics/_classification.py:1248: UndefinedMetricWarning: Jaccard is ill-defined and being set to 0.0 due to no true or predicted samples. Use `zero_division` parameter to control this behavior.\n",
      "  _warn_prf(average, modifier, msg_start, len(result))\n",
      "/usr/local/lib/python3.8/dist-packages/sklearn/metrics/_classification.py:1248: UndefinedMetricWarning: Jaccard is ill-defined and being set to 0.0 due to no true or predicted samples. Use `zero_division` parameter to control this behavior.\n",
      "  _warn_prf(average, modifier, msg_start, len(result))\n",
      "/usr/local/lib/python3.8/dist-packages/sklearn/metrics/_classification.py:1248: UndefinedMetricWarning: Jaccard is ill-defined and being set to 0.0 due to no true or predicted samples. Use `zero_division` parameter to control this behavior.\n",
      "  _warn_prf(average, modifier, msg_start, len(result))\n",
      " 50%|███████████████████████████████████████████████████████████████████████████████████████                                                                                       | 50/100 [15:09<15:28, 18.57s/it]"
     ]
    },
    {
     "name": "stdout",
     "output_type": "stream",
     "text": [
      "mIOU given by: 0.2927773618419275\n",
      "[0.2962460688548717, 0.30391794630616453, 0.6524141724191902, 0.5080124211021342, 0.2546997191227881, 0.3242468249175954, 0.48479004956123334, 0.5467472828283928, 0.25181696633670264, 0.3229743586259389, 0.1806640666147666, 0.31367196910536943, 0.3036725050839316, 0.3747066545714159, 0.3572061277044272, 0.40287405829159245, 0.36737397224146057, 0.6353939891926504, 0.3761727240153292, 0.6351422203946238, 0.560441796027732, 0.5107469284348097, 0.20716565277126062, 0.4451154906483967, 0.4253084700905224, 0.2904131535243195, 0.5909509165572139, 0.31562296796897144, 0.5209770018455523, 0.4975059521240728, 0.21717606360205344, 0.4317293892832681, 0.3238602108257816, 0.6895299081971155, 0.3690091317136916, 0.2874771060219107, 0.2929327783651647, 0.5474389781053786, 0.40384188640793345, 0.2342361781598103, 0.5722761486238237, 0.30507412415321594, 0.4203328130750395, 0.4809527584990411, 0.6434470726429078, 0.5296326167966681, 0.6076567618895583, 0.3910390506826292, 0.609951648290316, 0.2927773618419275]\n"
     ]
    },
    {
     "name": "stderr",
     "output_type": "stream",
     "text": [
      "/usr/local/lib/python3.8/dist-packages/sklearn/metrics/_classification.py:1248: UndefinedMetricWarning: Jaccard is ill-defined and being set to 0.0 due to no true or predicted samples. Use `zero_division` parameter to control this behavior.\n",
      "  _warn_prf(average, modifier, msg_start, len(result))\n",
      "/usr/local/lib/python3.8/dist-packages/sklearn/metrics/_classification.py:1248: UndefinedMetricWarning: Jaccard is ill-defined and being set to 0.0 due to no true or predicted samples. Use `zero_division` parameter to control this behavior.\n",
      "  _warn_prf(average, modifier, msg_start, len(result))\n",
      "/usr/local/lib/python3.8/dist-packages/sklearn/metrics/_classification.py:1248: UndefinedMetricWarning: Jaccard is ill-defined and being set to 0.0 due to no true or predicted samples. Use `zero_division` parameter to control this behavior.\n",
      "  _warn_prf(average, modifier, msg_start, len(result))\n",
      "/usr/local/lib/python3.8/dist-packages/sklearn/metrics/_classification.py:1248: UndefinedMetricWarning: Jaccard is ill-defined and being set to 0.0 due to no true or predicted samples. Use `zero_division` parameter to control this behavior.\n",
      "  _warn_prf(average, modifier, msg_start, len(result))\n",
      "/usr/local/lib/python3.8/dist-packages/sklearn/metrics/_classification.py:1248: UndefinedMetricWarning: Jaccard is ill-defined and being set to 0.0 due to no true or predicted samples. Use `zero_division` parameter to control this behavior.\n",
      "  _warn_prf(average, modifier, msg_start, len(result))\n",
      "/usr/local/lib/python3.8/dist-packages/sklearn/metrics/_classification.py:1248: UndefinedMetricWarning: Jaccard is ill-defined and being set to 0.0 due to no true or predicted samples. Use `zero_division` parameter to control this behavior.\n",
      "  _warn_prf(average, modifier, msg_start, len(result))\n",
      "/usr/local/lib/python3.8/dist-packages/sklearn/metrics/_classification.py:1248: UndefinedMetricWarning: Jaccard is ill-defined and being set to 0.0 due to no true or predicted samples. Use `zero_division` parameter to control this behavior.\n",
      "  _warn_prf(average, modifier, msg_start, len(result))\n",
      "/usr/local/lib/python3.8/dist-packages/sklearn/metrics/_classification.py:1248: UndefinedMetricWarning: Jaccard is ill-defined and being set to 0.0 due to no true or predicted samples. Use `zero_division` parameter to control this behavior.\n",
      "  _warn_prf(average, modifier, msg_start, len(result))\n",
      " 51%|████████████████████████████████████████████████████████████████████████████████████████▋                                                                                     | 51/100 [15:27<15:11, 18.60s/it]"
     ]
    },
    {
     "name": "stdout",
     "output_type": "stream",
     "text": [
      "mIOU given by: 0.18319431809882947\n",
      "[0.2962460688548717, 0.30391794630616453, 0.6524141724191902, 0.5080124211021342, 0.2546997191227881, 0.3242468249175954, 0.48479004956123334, 0.5467472828283928, 0.25181696633670264, 0.3229743586259389, 0.1806640666147666, 0.31367196910536943, 0.3036725050839316, 0.3747066545714159, 0.3572061277044272, 0.40287405829159245, 0.36737397224146057, 0.6353939891926504, 0.3761727240153292, 0.6351422203946238, 0.560441796027732, 0.5107469284348097, 0.20716565277126062, 0.4451154906483967, 0.4253084700905224, 0.2904131535243195, 0.5909509165572139, 0.31562296796897144, 0.5209770018455523, 0.4975059521240728, 0.21717606360205344, 0.4317293892832681, 0.3238602108257816, 0.6895299081971155, 0.3690091317136916, 0.2874771060219107, 0.2929327783651647, 0.5474389781053786, 0.40384188640793345, 0.2342361781598103, 0.5722761486238237, 0.30507412415321594, 0.4203328130750395, 0.4809527584990411, 0.6434470726429078, 0.5296326167966681, 0.6076567618895583, 0.3910390506826292, 0.609951648290316, 0.2927773618419275, 0.18319431809882947]\n"
     ]
    },
    {
     "name": "stderr",
     "output_type": "stream",
     "text": [
      "/usr/local/lib/python3.8/dist-packages/sklearn/metrics/_classification.py:1248: UndefinedMetricWarning: Jaccard is ill-defined and being set to 0.0 due to no true or predicted samples. Use `zero_division` parameter to control this behavior.\n",
      "  _warn_prf(average, modifier, msg_start, len(result))\n",
      "/usr/local/lib/python3.8/dist-packages/sklearn/metrics/_classification.py:1248: UndefinedMetricWarning: Jaccard is ill-defined and being set to 0.0 due to no true or predicted samples. Use `zero_division` parameter to control this behavior.\n",
      "  _warn_prf(average, modifier, msg_start, len(result))\n",
      "/usr/local/lib/python3.8/dist-packages/sklearn/metrics/_classification.py:1248: UndefinedMetricWarning: Jaccard is ill-defined and being set to 0.0 due to no true or predicted samples. Use `zero_division` parameter to control this behavior.\n",
      "  _warn_prf(average, modifier, msg_start, len(result))\n",
      "/usr/local/lib/python3.8/dist-packages/sklearn/metrics/_classification.py:1248: UndefinedMetricWarning: Jaccard is ill-defined and being set to 0.0 due to no true or predicted samples. Use `zero_division` parameter to control this behavior.\n",
      "  _warn_prf(average, modifier, msg_start, len(result))\n",
      "/usr/local/lib/python3.8/dist-packages/sklearn/metrics/_classification.py:1248: UndefinedMetricWarning: Jaccard is ill-defined and being set to 0.0 due to no true or predicted samples. Use `zero_division` parameter to control this behavior.\n",
      "  _warn_prf(average, modifier, msg_start, len(result))\n",
      "/usr/local/lib/python3.8/dist-packages/sklearn/metrics/_classification.py:1248: UndefinedMetricWarning: Jaccard is ill-defined and being set to 0.0 due to no true or predicted samples. Use `zero_division` parameter to control this behavior.\n",
      "  _warn_prf(average, modifier, msg_start, len(result))\n",
      "/usr/local/lib/python3.8/dist-packages/sklearn/metrics/_classification.py:1248: UndefinedMetricWarning: Jaccard is ill-defined and being set to 0.0 due to no true or predicted samples. Use `zero_division` parameter to control this behavior.\n",
      "  _warn_prf(average, modifier, msg_start, len(result))\n",
      "/usr/local/lib/python3.8/dist-packages/sklearn/metrics/_classification.py:1248: UndefinedMetricWarning: Jaccard is ill-defined and being set to 0.0 due to no true or predicted samples. Use `zero_division` parameter to control this behavior.\n",
      "  _warn_prf(average, modifier, msg_start, len(result))\n",
      "/usr/local/lib/python3.8/dist-packages/sklearn/metrics/_classification.py:1248: UndefinedMetricWarning: Jaccard is ill-defined and being set to 0.0 due to no true or predicted samples. Use `zero_division` parameter to control this behavior.\n",
      "  _warn_prf(average, modifier, msg_start, len(result))\n",
      "/usr/local/lib/python3.8/dist-packages/sklearn/metrics/_classification.py:1248: UndefinedMetricWarning: Jaccard is ill-defined and being set to 0.0 due to no true or predicted samples. Use `zero_division` parameter to control this behavior.\n",
      "  _warn_prf(average, modifier, msg_start, len(result))\n",
      " 52%|██████████████████████████████████████████████████████████████████████████████████████████▍                                                                                   | 52/100 [15:45<14:45, 18.45s/it]"
     ]
    },
    {
     "name": "stdout",
     "output_type": "stream",
     "text": [
      "mIOU given by: 0.49713841561146815\n",
      "[0.2962460688548717, 0.30391794630616453, 0.6524141724191902, 0.5080124211021342, 0.2546997191227881, 0.3242468249175954, 0.48479004956123334, 0.5467472828283928, 0.25181696633670264, 0.3229743586259389, 0.1806640666147666, 0.31367196910536943, 0.3036725050839316, 0.3747066545714159, 0.3572061277044272, 0.40287405829159245, 0.36737397224146057, 0.6353939891926504, 0.3761727240153292, 0.6351422203946238, 0.560441796027732, 0.5107469284348097, 0.20716565277126062, 0.4451154906483967, 0.4253084700905224, 0.2904131535243195, 0.5909509165572139, 0.31562296796897144, 0.5209770018455523, 0.4975059521240728, 0.21717606360205344, 0.4317293892832681, 0.3238602108257816, 0.6895299081971155, 0.3690091317136916, 0.2874771060219107, 0.2929327783651647, 0.5474389781053786, 0.40384188640793345, 0.2342361781598103, 0.5722761486238237, 0.30507412415321594, 0.4203328130750395, 0.4809527584990411, 0.6434470726429078, 0.5296326167966681, 0.6076567618895583, 0.3910390506826292, 0.609951648290316, 0.2927773618419275, 0.18319431809882947, 0.49713841561146815]\n"
     ]
    },
    {
     "name": "stderr",
     "output_type": "stream",
     "text": [
      "/usr/local/lib/python3.8/dist-packages/sklearn/metrics/_classification.py:1248: UndefinedMetricWarning: Jaccard is ill-defined and being set to 0.0 due to no true or predicted samples. Use `zero_division` parameter to control this behavior.\n",
      "  _warn_prf(average, modifier, msg_start, len(result))\n",
      "/usr/local/lib/python3.8/dist-packages/sklearn/metrics/_classification.py:1248: UndefinedMetricWarning: Jaccard is ill-defined and being set to 0.0 due to no true or predicted samples. Use `zero_division` parameter to control this behavior.\n",
      "  _warn_prf(average, modifier, msg_start, len(result))\n",
      "/usr/local/lib/python3.8/dist-packages/sklearn/metrics/_classification.py:1248: UndefinedMetricWarning: Jaccard is ill-defined and being set to 0.0 due to no true or predicted samples. Use `zero_division` parameter to control this behavior.\n",
      "  _warn_prf(average, modifier, msg_start, len(result))\n",
      "/usr/local/lib/python3.8/dist-packages/sklearn/metrics/_classification.py:1248: UndefinedMetricWarning: Jaccard is ill-defined and being set to 0.0 due to no true or predicted samples. Use `zero_division` parameter to control this behavior.\n",
      "  _warn_prf(average, modifier, msg_start, len(result))\n",
      "/usr/local/lib/python3.8/dist-packages/sklearn/metrics/_classification.py:1248: UndefinedMetricWarning: Jaccard is ill-defined and being set to 0.0 due to no true or predicted samples. Use `zero_division` parameter to control this behavior.\n",
      "  _warn_prf(average, modifier, msg_start, len(result))\n",
      "/usr/local/lib/python3.8/dist-packages/sklearn/metrics/_classification.py:1248: UndefinedMetricWarning: Jaccard is ill-defined and being set to 0.0 due to no true or predicted samples. Use `zero_division` parameter to control this behavior.\n",
      "  _warn_prf(average, modifier, msg_start, len(result))\n",
      "/usr/local/lib/python3.8/dist-packages/sklearn/metrics/_classification.py:1248: UndefinedMetricWarning: Jaccard is ill-defined and being set to 0.0 due to no true or predicted samples. Use `zero_division` parameter to control this behavior.\n",
      "  _warn_prf(average, modifier, msg_start, len(result))\n",
      "/usr/local/lib/python3.8/dist-packages/sklearn/metrics/_classification.py:1248: UndefinedMetricWarning: Jaccard is ill-defined and being set to 0.0 due to no true or predicted samples. Use `zero_division` parameter to control this behavior.\n",
      "  _warn_prf(average, modifier, msg_start, len(result))\n",
      "/usr/local/lib/python3.8/dist-packages/sklearn/metrics/_classification.py:1248: UndefinedMetricWarning: Jaccard is ill-defined and being set to 0.0 due to no true or predicted samples. Use `zero_division` parameter to control this behavior.\n",
      "  _warn_prf(average, modifier, msg_start, len(result))\n",
      " 53%|████████████████████████████████████████████████████████████████████████████████████████████▏                                                                                 | 53/100 [16:05<14:42, 18.78s/it]"
     ]
    },
    {
     "name": "stdout",
     "output_type": "stream",
     "text": [
      "mIOU given by: 0.34176421620261693\n",
      "[0.2962460688548717, 0.30391794630616453, 0.6524141724191902, 0.5080124211021342, 0.2546997191227881, 0.3242468249175954, 0.48479004956123334, 0.5467472828283928, 0.25181696633670264, 0.3229743586259389, 0.1806640666147666, 0.31367196910536943, 0.3036725050839316, 0.3747066545714159, 0.3572061277044272, 0.40287405829159245, 0.36737397224146057, 0.6353939891926504, 0.3761727240153292, 0.6351422203946238, 0.560441796027732, 0.5107469284348097, 0.20716565277126062, 0.4451154906483967, 0.4253084700905224, 0.2904131535243195, 0.5909509165572139, 0.31562296796897144, 0.5209770018455523, 0.4975059521240728, 0.21717606360205344, 0.4317293892832681, 0.3238602108257816, 0.6895299081971155, 0.3690091317136916, 0.2874771060219107, 0.2929327783651647, 0.5474389781053786, 0.40384188640793345, 0.2342361781598103, 0.5722761486238237, 0.30507412415321594, 0.4203328130750395, 0.4809527584990411, 0.6434470726429078, 0.5296326167966681, 0.6076567618895583, 0.3910390506826292, 0.609951648290316, 0.2927773618419275, 0.18319431809882947, 0.49713841561146815, 0.34176421620261693]\n"
     ]
    },
    {
     "name": "stderr",
     "output_type": "stream",
     "text": [
      "/usr/local/lib/python3.8/dist-packages/sklearn/metrics/_classification.py:1248: UndefinedMetricWarning: Jaccard is ill-defined and being set to 0.0 due to no true or predicted samples. Use `zero_division` parameter to control this behavior.\n",
      "  _warn_prf(average, modifier, msg_start, len(result))\n",
      "/usr/local/lib/python3.8/dist-packages/sklearn/metrics/_classification.py:1248: UndefinedMetricWarning: Jaccard is ill-defined and being set to 0.0 due to no true or predicted samples. Use `zero_division` parameter to control this behavior.\n",
      "  _warn_prf(average, modifier, msg_start, len(result))\n",
      "/usr/local/lib/python3.8/dist-packages/sklearn/metrics/_classification.py:1248: UndefinedMetricWarning: Jaccard is ill-defined and being set to 0.0 due to no true or predicted samples. Use `zero_division` parameter to control this behavior.\n",
      "  _warn_prf(average, modifier, msg_start, len(result))\n",
      "/usr/local/lib/python3.8/dist-packages/sklearn/metrics/_classification.py:1248: UndefinedMetricWarning: Jaccard is ill-defined and being set to 0.0 due to no true or predicted samples. Use `zero_division` parameter to control this behavior.\n",
      "  _warn_prf(average, modifier, msg_start, len(result))\n",
      "/usr/local/lib/python3.8/dist-packages/sklearn/metrics/_classification.py:1248: UndefinedMetricWarning: Jaccard is ill-defined and being set to 0.0 due to no true or predicted samples. Use `zero_division` parameter to control this behavior.\n",
      "  _warn_prf(average, modifier, msg_start, len(result))\n",
      "/usr/local/lib/python3.8/dist-packages/sklearn/metrics/_classification.py:1248: UndefinedMetricWarning: Jaccard is ill-defined and being set to 0.0 due to no true or predicted samples. Use `zero_division` parameter to control this behavior.\n",
      "  _warn_prf(average, modifier, msg_start, len(result))\n",
      "/usr/local/lib/python3.8/dist-packages/sklearn/metrics/_classification.py:1248: UndefinedMetricWarning: Jaccard is ill-defined and being set to 0.0 due to no true or predicted samples. Use `zero_division` parameter to control this behavior.\n",
      "  _warn_prf(average, modifier, msg_start, len(result))\n",
      "/usr/local/lib/python3.8/dist-packages/sklearn/metrics/_classification.py:1248: UndefinedMetricWarning: Jaccard is ill-defined and being set to 0.0 due to no true or predicted samples. Use `zero_division` parameter to control this behavior.\n",
      "  _warn_prf(average, modifier, msg_start, len(result))\n",
      "/usr/local/lib/python3.8/dist-packages/sklearn/metrics/_classification.py:1248: UndefinedMetricWarning: Jaccard is ill-defined and being set to 0.0 due to no true or predicted samples. Use `zero_division` parameter to control this behavior.\n",
      "  _warn_prf(average, modifier, msg_start, len(result))\n",
      " 54%|█████████████████████████████████████████████████████████████████████████████████████████████▉                                                                                | 54/100 [16:27<15:10, 19.80s/it]"
     ]
    },
    {
     "name": "stdout",
     "output_type": "stream",
     "text": [
      "mIOU given by: 0.37245366506176564\n",
      "[0.2962460688548717, 0.30391794630616453, 0.6524141724191902, 0.5080124211021342, 0.2546997191227881, 0.3242468249175954, 0.48479004956123334, 0.5467472828283928, 0.25181696633670264, 0.3229743586259389, 0.1806640666147666, 0.31367196910536943, 0.3036725050839316, 0.3747066545714159, 0.3572061277044272, 0.40287405829159245, 0.36737397224146057, 0.6353939891926504, 0.3761727240153292, 0.6351422203946238, 0.560441796027732, 0.5107469284348097, 0.20716565277126062, 0.4451154906483967, 0.4253084700905224, 0.2904131535243195, 0.5909509165572139, 0.31562296796897144, 0.5209770018455523, 0.4975059521240728, 0.21717606360205344, 0.4317293892832681, 0.3238602108257816, 0.6895299081971155, 0.3690091317136916, 0.2874771060219107, 0.2929327783651647, 0.5474389781053786, 0.40384188640793345, 0.2342361781598103, 0.5722761486238237, 0.30507412415321594, 0.4203328130750395, 0.4809527584990411, 0.6434470726429078, 0.5296326167966681, 0.6076567618895583, 0.3910390506826292, 0.609951648290316, 0.2927773618419275, 0.18319431809882947, 0.49713841561146815, 0.34176421620261693, 0.37245366506176564]\n"
     ]
    },
    {
     "name": "stderr",
     "output_type": "stream",
     "text": [
      "/usr/local/lib/python3.8/dist-packages/sklearn/metrics/_classification.py:1248: UndefinedMetricWarning: Jaccard is ill-defined and being set to 0.0 due to no true or predicted samples. Use `zero_division` parameter to control this behavior.\n",
      "  _warn_prf(average, modifier, msg_start, len(result))\n",
      "/usr/local/lib/python3.8/dist-packages/sklearn/metrics/_classification.py:1248: UndefinedMetricWarning: Jaccard is ill-defined and being set to 0.0 due to no true or predicted samples. Use `zero_division` parameter to control this behavior.\n",
      "  _warn_prf(average, modifier, msg_start, len(result))\n",
      "/usr/local/lib/python3.8/dist-packages/sklearn/metrics/_classification.py:1248: UndefinedMetricWarning: Jaccard is ill-defined and being set to 0.0 due to no true or predicted samples. Use `zero_division` parameter to control this behavior.\n",
      "  _warn_prf(average, modifier, msg_start, len(result))\n",
      "/usr/local/lib/python3.8/dist-packages/sklearn/metrics/_classification.py:1248: UndefinedMetricWarning: Jaccard is ill-defined and being set to 0.0 due to no true or predicted samples. Use `zero_division` parameter to control this behavior.\n",
      "  _warn_prf(average, modifier, msg_start, len(result))\n",
      "/usr/local/lib/python3.8/dist-packages/sklearn/metrics/_classification.py:1248: UndefinedMetricWarning: Jaccard is ill-defined and being set to 0.0 due to no true or predicted samples. Use `zero_division` parameter to control this behavior.\n",
      "  _warn_prf(average, modifier, msg_start, len(result))\n",
      "/usr/local/lib/python3.8/dist-packages/sklearn/metrics/_classification.py:1248: UndefinedMetricWarning: Jaccard is ill-defined and being set to 0.0 due to no true or predicted samples. Use `zero_division` parameter to control this behavior.\n",
      "  _warn_prf(average, modifier, msg_start, len(result))\n",
      "/usr/local/lib/python3.8/dist-packages/sklearn/metrics/_classification.py:1248: UndefinedMetricWarning: Jaccard is ill-defined and being set to 0.0 due to no true or predicted samples. Use `zero_division` parameter to control this behavior.\n",
      "  _warn_prf(average, modifier, msg_start, len(result))\n",
      "/usr/local/lib/python3.8/dist-packages/sklearn/metrics/_classification.py:1248: UndefinedMetricWarning: Jaccard is ill-defined and being set to 0.0 due to no true or predicted samples. Use `zero_division` parameter to control this behavior.\n",
      "  _warn_prf(average, modifier, msg_start, len(result))\n",
      " 55%|███████████████████████████████████████████████████████████████████████████████████████████████▋                                                                              | 55/100 [16:49<15:22, 20.49s/it]"
     ]
    },
    {
     "name": "stdout",
     "output_type": "stream",
     "text": [
      "mIOU given by: 0.19209016490995237\n",
      "[0.2962460688548717, 0.30391794630616453, 0.6524141724191902, 0.5080124211021342, 0.2546997191227881, 0.3242468249175954, 0.48479004956123334, 0.5467472828283928, 0.25181696633670264, 0.3229743586259389, 0.1806640666147666, 0.31367196910536943, 0.3036725050839316, 0.3747066545714159, 0.3572061277044272, 0.40287405829159245, 0.36737397224146057, 0.6353939891926504, 0.3761727240153292, 0.6351422203946238, 0.560441796027732, 0.5107469284348097, 0.20716565277126062, 0.4451154906483967, 0.4253084700905224, 0.2904131535243195, 0.5909509165572139, 0.31562296796897144, 0.5209770018455523, 0.4975059521240728, 0.21717606360205344, 0.4317293892832681, 0.3238602108257816, 0.6895299081971155, 0.3690091317136916, 0.2874771060219107, 0.2929327783651647, 0.5474389781053786, 0.40384188640793345, 0.2342361781598103, 0.5722761486238237, 0.30507412415321594, 0.4203328130750395, 0.4809527584990411, 0.6434470726429078, 0.5296326167966681, 0.6076567618895583, 0.3910390506826292, 0.609951648290316, 0.2927773618419275, 0.18319431809882947, 0.49713841561146815, 0.34176421620261693, 0.37245366506176564, 0.19209016490995237]\n"
     ]
    },
    {
     "name": "stderr",
     "output_type": "stream",
     "text": [
      "/usr/local/lib/python3.8/dist-packages/sklearn/metrics/_classification.py:1248: UndefinedMetricWarning: Jaccard is ill-defined and being set to 0.0 due to no true or predicted samples. Use `zero_division` parameter to control this behavior.\n",
      "  _warn_prf(average, modifier, msg_start, len(result))\n",
      "/usr/local/lib/python3.8/dist-packages/sklearn/metrics/_classification.py:1248: UndefinedMetricWarning: Jaccard is ill-defined and being set to 0.0 due to no true or predicted samples. Use `zero_division` parameter to control this behavior.\n",
      "  _warn_prf(average, modifier, msg_start, len(result))\n",
      "/usr/local/lib/python3.8/dist-packages/sklearn/metrics/_classification.py:1248: UndefinedMetricWarning: Jaccard is ill-defined and being set to 0.0 due to no true or predicted samples. Use `zero_division` parameter to control this behavior.\n",
      "  _warn_prf(average, modifier, msg_start, len(result))\n",
      "/usr/local/lib/python3.8/dist-packages/sklearn/metrics/_classification.py:1248: UndefinedMetricWarning: Jaccard is ill-defined and being set to 0.0 due to no true or predicted samples. Use `zero_division` parameter to control this behavior.\n",
      "  _warn_prf(average, modifier, msg_start, len(result))\n",
      "/usr/local/lib/python3.8/dist-packages/sklearn/metrics/_classification.py:1248: UndefinedMetricWarning: Jaccard is ill-defined and being set to 0.0 due to no true or predicted samples. Use `zero_division` parameter to control this behavior.\n",
      "  _warn_prf(average, modifier, msg_start, len(result))\n",
      "/usr/local/lib/python3.8/dist-packages/sklearn/metrics/_classification.py:1248: UndefinedMetricWarning: Jaccard is ill-defined and being set to 0.0 due to no true or predicted samples. Use `zero_division` parameter to control this behavior.\n",
      "  _warn_prf(average, modifier, msg_start, len(result))\n",
      "/usr/local/lib/python3.8/dist-packages/sklearn/metrics/_classification.py:1248: UndefinedMetricWarning: Jaccard is ill-defined and being set to 0.0 due to no true or predicted samples. Use `zero_division` parameter to control this behavior.\n",
      "  _warn_prf(average, modifier, msg_start, len(result))\n",
      "/usr/local/lib/python3.8/dist-packages/sklearn/metrics/_classification.py:1248: UndefinedMetricWarning: Jaccard is ill-defined and being set to 0.0 due to no true or predicted samples. Use `zero_division` parameter to control this behavior.\n",
      "  _warn_prf(average, modifier, msg_start, len(result))\n",
      "/usr/local/lib/python3.8/dist-packages/sklearn/metrics/_classification.py:1248: UndefinedMetricWarning: Jaccard is ill-defined and being set to 0.0 due to no true or predicted samples. Use `zero_division` parameter to control this behavior.\n",
      "  _warn_prf(average, modifier, msg_start, len(result))\n",
      "/usr/local/lib/python3.8/dist-packages/sklearn/metrics/_classification.py:1248: UndefinedMetricWarning: Jaccard is ill-defined and being set to 0.0 due to no true or predicted samples. Use `zero_division` parameter to control this behavior.\n",
      "  _warn_prf(average, modifier, msg_start, len(result))\n",
      "/usr/local/lib/python3.8/dist-packages/sklearn/metrics/_classification.py:1248: UndefinedMetricWarning: Jaccard is ill-defined and being set to 0.0 due to no true or predicted samples. Use `zero_division` parameter to control this behavior.\n",
      "  _warn_prf(average, modifier, msg_start, len(result))\n",
      " 56%|█████████████████████████████████████████████████████████████████████████████████████████████████▍                                                                            | 56/100 [17:12<15:36, 21.28s/it]"
     ]
    },
    {
     "name": "stdout",
     "output_type": "stream",
     "text": [
      "mIOU given by: 0.33005224730456395\n",
      "[0.2962460688548717, 0.30391794630616453, 0.6524141724191902, 0.5080124211021342, 0.2546997191227881, 0.3242468249175954, 0.48479004956123334, 0.5467472828283928, 0.25181696633670264, 0.3229743586259389, 0.1806640666147666, 0.31367196910536943, 0.3036725050839316, 0.3747066545714159, 0.3572061277044272, 0.40287405829159245, 0.36737397224146057, 0.6353939891926504, 0.3761727240153292, 0.6351422203946238, 0.560441796027732, 0.5107469284348097, 0.20716565277126062, 0.4451154906483967, 0.4253084700905224, 0.2904131535243195, 0.5909509165572139, 0.31562296796897144, 0.5209770018455523, 0.4975059521240728, 0.21717606360205344, 0.4317293892832681, 0.3238602108257816, 0.6895299081971155, 0.3690091317136916, 0.2874771060219107, 0.2929327783651647, 0.5474389781053786, 0.40384188640793345, 0.2342361781598103, 0.5722761486238237, 0.30507412415321594, 0.4203328130750395, 0.4809527584990411, 0.6434470726429078, 0.5296326167966681, 0.6076567618895583, 0.3910390506826292, 0.609951648290316, 0.2927773618419275, 0.18319431809882947, 0.49713841561146815, 0.34176421620261693, 0.37245366506176564, 0.19209016490995237, 0.33005224730456395]\n"
     ]
    },
    {
     "name": "stderr",
     "output_type": "stream",
     "text": [
      "/usr/local/lib/python3.8/dist-packages/sklearn/metrics/_classification.py:1248: UndefinedMetricWarning: Jaccard is ill-defined and being set to 0.0 due to no true or predicted samples. Use `zero_division` parameter to control this behavior.\n",
      "  _warn_prf(average, modifier, msg_start, len(result))\n",
      "/usr/local/lib/python3.8/dist-packages/sklearn/metrics/_classification.py:1248: UndefinedMetricWarning: Jaccard is ill-defined and being set to 0.0 due to no true or predicted samples. Use `zero_division` parameter to control this behavior.\n",
      "  _warn_prf(average, modifier, msg_start, len(result))\n",
      "/usr/local/lib/python3.8/dist-packages/sklearn/metrics/_classification.py:1248: UndefinedMetricWarning: Jaccard is ill-defined and being set to 0.0 due to no true or predicted samples. Use `zero_division` parameter to control this behavior.\n",
      "  _warn_prf(average, modifier, msg_start, len(result))\n",
      "/usr/local/lib/python3.8/dist-packages/sklearn/metrics/_classification.py:1248: UndefinedMetricWarning: Jaccard is ill-defined and being set to 0.0 due to no true or predicted samples. Use `zero_division` parameter to control this behavior.\n",
      "  _warn_prf(average, modifier, msg_start, len(result))\n",
      "/usr/local/lib/python3.8/dist-packages/sklearn/metrics/_classification.py:1248: UndefinedMetricWarning: Jaccard is ill-defined and being set to 0.0 due to no true or predicted samples. Use `zero_division` parameter to control this behavior.\n",
      "  _warn_prf(average, modifier, msg_start, len(result))\n",
      "/usr/local/lib/python3.8/dist-packages/sklearn/metrics/_classification.py:1248: UndefinedMetricWarning: Jaccard is ill-defined and being set to 0.0 due to no true or predicted samples. Use `zero_division` parameter to control this behavior.\n",
      "  _warn_prf(average, modifier, msg_start, len(result))\n",
      "/usr/local/lib/python3.8/dist-packages/sklearn/metrics/_classification.py:1248: UndefinedMetricWarning: Jaccard is ill-defined and being set to 0.0 due to no true or predicted samples. Use `zero_division` parameter to control this behavior.\n",
      "  _warn_prf(average, modifier, msg_start, len(result))\n",
      "/usr/local/lib/python3.8/dist-packages/sklearn/metrics/_classification.py:1248: UndefinedMetricWarning: Jaccard is ill-defined and being set to 0.0 due to no true or predicted samples. Use `zero_division` parameter to control this behavior.\n",
      "  _warn_prf(average, modifier, msg_start, len(result))\n",
      "/usr/local/lib/python3.8/dist-packages/sklearn/metrics/_classification.py:1248: UndefinedMetricWarning: Jaccard is ill-defined and being set to 0.0 due to no true or predicted samples. Use `zero_division` parameter to control this behavior.\n",
      "  _warn_prf(average, modifier, msg_start, len(result))\n",
      "/usr/local/lib/python3.8/dist-packages/sklearn/metrics/_classification.py:1248: UndefinedMetricWarning: Jaccard is ill-defined and being set to 0.0 due to no true or predicted samples. Use `zero_division` parameter to control this behavior.\n",
      "  _warn_prf(average, modifier, msg_start, len(result))\n",
      " 57%|███████████████████████████████████████████████████████████████████████████████████████████████████▏                                                                          | 57/100 [17:29<14:08, 19.74s/it]"
     ]
    },
    {
     "name": "stdout",
     "output_type": "stream",
     "text": [
      "mIOU given by: 0.3384947301116933\n",
      "[0.2962460688548717, 0.30391794630616453, 0.6524141724191902, 0.5080124211021342, 0.2546997191227881, 0.3242468249175954, 0.48479004956123334, 0.5467472828283928, 0.25181696633670264, 0.3229743586259389, 0.1806640666147666, 0.31367196910536943, 0.3036725050839316, 0.3747066545714159, 0.3572061277044272, 0.40287405829159245, 0.36737397224146057, 0.6353939891926504, 0.3761727240153292, 0.6351422203946238, 0.560441796027732, 0.5107469284348097, 0.20716565277126062, 0.4451154906483967, 0.4253084700905224, 0.2904131535243195, 0.5909509165572139, 0.31562296796897144, 0.5209770018455523, 0.4975059521240728, 0.21717606360205344, 0.4317293892832681, 0.3238602108257816, 0.6895299081971155, 0.3690091317136916, 0.2874771060219107, 0.2929327783651647, 0.5474389781053786, 0.40384188640793345, 0.2342361781598103, 0.5722761486238237, 0.30507412415321594, 0.4203328130750395, 0.4809527584990411, 0.6434470726429078, 0.5296326167966681, 0.6076567618895583, 0.3910390506826292, 0.609951648290316, 0.2927773618419275, 0.18319431809882947, 0.49713841561146815, 0.34176421620261693, 0.37245366506176564, 0.19209016490995237, 0.33005224730456395, 0.3384947301116933]\n"
     ]
    },
    {
     "name": "stderr",
     "output_type": "stream",
     "text": [
      "/usr/local/lib/python3.8/dist-packages/sklearn/metrics/_classification.py:1248: UndefinedMetricWarning: Jaccard is ill-defined and being set to 0.0 due to no true or predicted samples. Use `zero_division` parameter to control this behavior.\n",
      "  _warn_prf(average, modifier, msg_start, len(result))\n",
      "/usr/local/lib/python3.8/dist-packages/sklearn/metrics/_classification.py:1248: UndefinedMetricWarning: Jaccard is ill-defined and being set to 0.0 due to no true or predicted samples. Use `zero_division` parameter to control this behavior.\n",
      "  _warn_prf(average, modifier, msg_start, len(result))\n",
      "/usr/local/lib/python3.8/dist-packages/sklearn/metrics/_classification.py:1248: UndefinedMetricWarning: Jaccard is ill-defined and being set to 0.0 due to no true or predicted samples. Use `zero_division` parameter to control this behavior.\n",
      "  _warn_prf(average, modifier, msg_start, len(result))\n",
      "/usr/local/lib/python3.8/dist-packages/sklearn/metrics/_classification.py:1248: UndefinedMetricWarning: Jaccard is ill-defined and being set to 0.0 due to no true or predicted samples. Use `zero_division` parameter to control this behavior.\n",
      "  _warn_prf(average, modifier, msg_start, len(result))\n",
      "/usr/local/lib/python3.8/dist-packages/sklearn/metrics/_classification.py:1248: UndefinedMetricWarning: Jaccard is ill-defined and being set to 0.0 due to no true or predicted samples. Use `zero_division` parameter to control this behavior.\n",
      "  _warn_prf(average, modifier, msg_start, len(result))\n",
      "/usr/local/lib/python3.8/dist-packages/sklearn/metrics/_classification.py:1248: UndefinedMetricWarning: Jaccard is ill-defined and being set to 0.0 due to no true or predicted samples. Use `zero_division` parameter to control this behavior.\n",
      "  _warn_prf(average, modifier, msg_start, len(result))\n",
      "/usr/local/lib/python3.8/dist-packages/sklearn/metrics/_classification.py:1248: UndefinedMetricWarning: Jaccard is ill-defined and being set to 0.0 due to no true or predicted samples. Use `zero_division` parameter to control this behavior.\n",
      "  _warn_prf(average, modifier, msg_start, len(result))\n",
      "/usr/local/lib/python3.8/dist-packages/sklearn/metrics/_classification.py:1248: UndefinedMetricWarning: Jaccard is ill-defined and being set to 0.0 due to no true or predicted samples. Use `zero_division` parameter to control this behavior.\n",
      "  _warn_prf(average, modifier, msg_start, len(result))\n",
      "/usr/local/lib/python3.8/dist-packages/sklearn/metrics/_classification.py:1248: UndefinedMetricWarning: Jaccard is ill-defined and being set to 0.0 due to no true or predicted samples. Use `zero_division` parameter to control this behavior.\n",
      "  _warn_prf(average, modifier, msg_start, len(result))\n",
      "/usr/local/lib/python3.8/dist-packages/sklearn/metrics/_classification.py:1248: UndefinedMetricWarning: Jaccard is ill-defined and being set to 0.0 due to no true or predicted samples. Use `zero_division` parameter to control this behavior.\n",
      "  _warn_prf(average, modifier, msg_start, len(result))\n",
      "/usr/local/lib/python3.8/dist-packages/sklearn/metrics/_classification.py:1248: UndefinedMetricWarning: Jaccard is ill-defined and being set to 0.0 due to no true or predicted samples. Use `zero_division` parameter to control this behavior.\n",
      "  _warn_prf(average, modifier, msg_start, len(result))\n",
      " 58%|████████████████████████████████████████████████████████████████████████████████████████████████████▉                                                                         | 58/100 [17:47<13:30, 19.29s/it]"
     ]
    },
    {
     "name": "stdout",
     "output_type": "stream",
     "text": [
      "mIOU given by: 0.40968403591397695\n",
      "[0.2962460688548717, 0.30391794630616453, 0.6524141724191902, 0.5080124211021342, 0.2546997191227881, 0.3242468249175954, 0.48479004956123334, 0.5467472828283928, 0.25181696633670264, 0.3229743586259389, 0.1806640666147666, 0.31367196910536943, 0.3036725050839316, 0.3747066545714159, 0.3572061277044272, 0.40287405829159245, 0.36737397224146057, 0.6353939891926504, 0.3761727240153292, 0.6351422203946238, 0.560441796027732, 0.5107469284348097, 0.20716565277126062, 0.4451154906483967, 0.4253084700905224, 0.2904131535243195, 0.5909509165572139, 0.31562296796897144, 0.5209770018455523, 0.4975059521240728, 0.21717606360205344, 0.4317293892832681, 0.3238602108257816, 0.6895299081971155, 0.3690091317136916, 0.2874771060219107, 0.2929327783651647, 0.5474389781053786, 0.40384188640793345, 0.2342361781598103, 0.5722761486238237, 0.30507412415321594, 0.4203328130750395, 0.4809527584990411, 0.6434470726429078, 0.5296326167966681, 0.6076567618895583, 0.3910390506826292, 0.609951648290316, 0.2927773618419275, 0.18319431809882947, 0.49713841561146815, 0.34176421620261693, 0.37245366506176564, 0.19209016490995237, 0.33005224730456395, 0.3384947301116933, 0.40968403591397695]\n"
     ]
    },
    {
     "name": "stderr",
     "output_type": "stream",
     "text": [
      "/usr/local/lib/python3.8/dist-packages/sklearn/metrics/_classification.py:1248: UndefinedMetricWarning: Jaccard is ill-defined and being set to 0.0 due to no true or predicted samples. Use `zero_division` parameter to control this behavior.\n",
      "  _warn_prf(average, modifier, msg_start, len(result))\n",
      "/usr/local/lib/python3.8/dist-packages/sklearn/metrics/_classification.py:1248: UndefinedMetricWarning: Jaccard is ill-defined and being set to 0.0 due to no true or predicted samples. Use `zero_division` parameter to control this behavior.\n",
      "  _warn_prf(average, modifier, msg_start, len(result))\n",
      "/usr/local/lib/python3.8/dist-packages/sklearn/metrics/_classification.py:1248: UndefinedMetricWarning: Jaccard is ill-defined and being set to 0.0 due to no true or predicted samples. Use `zero_division` parameter to control this behavior.\n",
      "  _warn_prf(average, modifier, msg_start, len(result))\n",
      "/usr/local/lib/python3.8/dist-packages/sklearn/metrics/_classification.py:1248: UndefinedMetricWarning: Jaccard is ill-defined and being set to 0.0 due to no true or predicted samples. Use `zero_division` parameter to control this behavior.\n",
      "  _warn_prf(average, modifier, msg_start, len(result))\n",
      "/usr/local/lib/python3.8/dist-packages/sklearn/metrics/_classification.py:1248: UndefinedMetricWarning: Jaccard is ill-defined and being set to 0.0 due to no true or predicted samples. Use `zero_division` parameter to control this behavior.\n",
      "  _warn_prf(average, modifier, msg_start, len(result))\n",
      "/usr/local/lib/python3.8/dist-packages/sklearn/metrics/_classification.py:1248: UndefinedMetricWarning: Jaccard is ill-defined and being set to 0.0 due to no true or predicted samples. Use `zero_division` parameter to control this behavior.\n",
      "  _warn_prf(average, modifier, msg_start, len(result))\n",
      "/usr/local/lib/python3.8/dist-packages/sklearn/metrics/_classification.py:1248: UndefinedMetricWarning: Jaccard is ill-defined and being set to 0.0 due to no true or predicted samples. Use `zero_division` parameter to control this behavior.\n",
      "  _warn_prf(average, modifier, msg_start, len(result))\n",
      "/usr/local/lib/python3.8/dist-packages/sklearn/metrics/_classification.py:1248: UndefinedMetricWarning: Jaccard is ill-defined and being set to 0.0 due to no true or predicted samples. Use `zero_division` parameter to control this behavior.\n",
      "  _warn_prf(average, modifier, msg_start, len(result))\n",
      "/usr/local/lib/python3.8/dist-packages/sklearn/metrics/_classification.py:1248: UndefinedMetricWarning: Jaccard is ill-defined and being set to 0.0 due to no true or predicted samples. Use `zero_division` parameter to control this behavior.\n",
      "  _warn_prf(average, modifier, msg_start, len(result))\n",
      "/usr/local/lib/python3.8/dist-packages/sklearn/metrics/_classification.py:1248: UndefinedMetricWarning: Jaccard is ill-defined and being set to 0.0 due to no true or predicted samples. Use `zero_division` parameter to control this behavior.\n",
      "  _warn_prf(average, modifier, msg_start, len(result))\n",
      " 59%|██████████████████████████████████████████████████████████████████████████████████████████████████████▋                                                                       | 59/100 [18:22<16:29, 24.13s/it]"
     ]
    },
    {
     "name": "stdout",
     "output_type": "stream",
     "text": [
      "mIOU given by: 0.4928449811285595\n",
      "[0.2962460688548717, 0.30391794630616453, 0.6524141724191902, 0.5080124211021342, 0.2546997191227881, 0.3242468249175954, 0.48479004956123334, 0.5467472828283928, 0.25181696633670264, 0.3229743586259389, 0.1806640666147666, 0.31367196910536943, 0.3036725050839316, 0.3747066545714159, 0.3572061277044272, 0.40287405829159245, 0.36737397224146057, 0.6353939891926504, 0.3761727240153292, 0.6351422203946238, 0.560441796027732, 0.5107469284348097, 0.20716565277126062, 0.4451154906483967, 0.4253084700905224, 0.2904131535243195, 0.5909509165572139, 0.31562296796897144, 0.5209770018455523, 0.4975059521240728, 0.21717606360205344, 0.4317293892832681, 0.3238602108257816, 0.6895299081971155, 0.3690091317136916, 0.2874771060219107, 0.2929327783651647, 0.5474389781053786, 0.40384188640793345, 0.2342361781598103, 0.5722761486238237, 0.30507412415321594, 0.4203328130750395, 0.4809527584990411, 0.6434470726429078, 0.5296326167966681, 0.6076567618895583, 0.3910390506826292, 0.609951648290316, 0.2927773618419275, 0.18319431809882947, 0.49713841561146815, 0.34176421620261693, 0.37245366506176564, 0.19209016490995237, 0.33005224730456395, 0.3384947301116933, 0.40968403591397695, 0.4928449811285595]\n"
     ]
    },
    {
     "name": "stderr",
     "output_type": "stream",
     "text": [
      "/usr/local/lib/python3.8/dist-packages/sklearn/metrics/_classification.py:1248: UndefinedMetricWarning: Jaccard is ill-defined and being set to 0.0 due to no true or predicted samples. Use `zero_division` parameter to control this behavior.\n",
      "  _warn_prf(average, modifier, msg_start, len(result))\n",
      "/usr/local/lib/python3.8/dist-packages/sklearn/metrics/_classification.py:1248: UndefinedMetricWarning: Jaccard is ill-defined and being set to 0.0 due to no true or predicted samples. Use `zero_division` parameter to control this behavior.\n",
      "  _warn_prf(average, modifier, msg_start, len(result))\n",
      "/usr/local/lib/python3.8/dist-packages/sklearn/metrics/_classification.py:1248: UndefinedMetricWarning: Jaccard is ill-defined and being set to 0.0 due to no true or predicted samples. Use `zero_division` parameter to control this behavior.\n",
      "  _warn_prf(average, modifier, msg_start, len(result))\n",
      "/usr/local/lib/python3.8/dist-packages/sklearn/metrics/_classification.py:1248: UndefinedMetricWarning: Jaccard is ill-defined and being set to 0.0 due to no true or predicted samples. Use `zero_division` parameter to control this behavior.\n",
      "  _warn_prf(average, modifier, msg_start, len(result))\n",
      "/usr/local/lib/python3.8/dist-packages/sklearn/metrics/_classification.py:1248: UndefinedMetricWarning: Jaccard is ill-defined and being set to 0.0 due to no true or predicted samples. Use `zero_division` parameter to control this behavior.\n",
      "  _warn_prf(average, modifier, msg_start, len(result))\n",
      "/usr/local/lib/python3.8/dist-packages/sklearn/metrics/_classification.py:1248: UndefinedMetricWarning: Jaccard is ill-defined and being set to 0.0 due to no true or predicted samples. Use `zero_division` parameter to control this behavior.\n",
      "  _warn_prf(average, modifier, msg_start, len(result))\n",
      "/usr/local/lib/python3.8/dist-packages/sklearn/metrics/_classification.py:1248: UndefinedMetricWarning: Jaccard is ill-defined and being set to 0.0 due to no true or predicted samples. Use `zero_division` parameter to control this behavior.\n",
      "  _warn_prf(average, modifier, msg_start, len(result))\n",
      "/usr/local/lib/python3.8/dist-packages/sklearn/metrics/_classification.py:1248: UndefinedMetricWarning: Jaccard is ill-defined and being set to 0.0 due to no true or predicted samples. Use `zero_division` parameter to control this behavior.\n",
      "  _warn_prf(average, modifier, msg_start, len(result))\n",
      "/usr/local/lib/python3.8/dist-packages/sklearn/metrics/_classification.py:1248: UndefinedMetricWarning: Jaccard is ill-defined and being set to 0.0 due to no true or predicted samples. Use `zero_division` parameter to control this behavior.\n",
      "  _warn_prf(average, modifier, msg_start, len(result))\n",
      "/usr/local/lib/python3.8/dist-packages/sklearn/metrics/_classification.py:1248: UndefinedMetricWarning: Jaccard is ill-defined and being set to 0.0 due to no true or predicted samples. Use `zero_division` parameter to control this behavior.\n",
      "  _warn_prf(average, modifier, msg_start, len(result))\n",
      "/usr/local/lib/python3.8/dist-packages/sklearn/metrics/_classification.py:1248: UndefinedMetricWarning: Jaccard is ill-defined and being set to 0.0 due to no true or predicted samples. Use `zero_division` parameter to control this behavior.\n",
      "  _warn_prf(average, modifier, msg_start, len(result))\n",
      " 60%|████████████████████████████████████████████████████████████████████████████████████████████████████████▍                                                                     | 60/100 [18:41<14:58, 22.46s/it]"
     ]
    },
    {
     "name": "stdout",
     "output_type": "stream",
     "text": [
      "mIOU given by: 0.4932067019612236\n",
      "[0.2962460688548717, 0.30391794630616453, 0.6524141724191902, 0.5080124211021342, 0.2546997191227881, 0.3242468249175954, 0.48479004956123334, 0.5467472828283928, 0.25181696633670264, 0.3229743586259389, 0.1806640666147666, 0.31367196910536943, 0.3036725050839316, 0.3747066545714159, 0.3572061277044272, 0.40287405829159245, 0.36737397224146057, 0.6353939891926504, 0.3761727240153292, 0.6351422203946238, 0.560441796027732, 0.5107469284348097, 0.20716565277126062, 0.4451154906483967, 0.4253084700905224, 0.2904131535243195, 0.5909509165572139, 0.31562296796897144, 0.5209770018455523, 0.4975059521240728, 0.21717606360205344, 0.4317293892832681, 0.3238602108257816, 0.6895299081971155, 0.3690091317136916, 0.2874771060219107, 0.2929327783651647, 0.5474389781053786, 0.40384188640793345, 0.2342361781598103, 0.5722761486238237, 0.30507412415321594, 0.4203328130750395, 0.4809527584990411, 0.6434470726429078, 0.5296326167966681, 0.6076567618895583, 0.3910390506826292, 0.609951648290316, 0.2927773618419275, 0.18319431809882947, 0.49713841561146815, 0.34176421620261693, 0.37245366506176564, 0.19209016490995237, 0.33005224730456395, 0.3384947301116933, 0.40968403591397695, 0.4928449811285595, 0.4932067019612236]\n"
     ]
    },
    {
     "name": "stderr",
     "output_type": "stream",
     "text": [
      "/usr/local/lib/python3.8/dist-packages/sklearn/metrics/_classification.py:1248: UndefinedMetricWarning: Jaccard is ill-defined and being set to 0.0 due to no true or predicted samples. Use `zero_division` parameter to control this behavior.\n",
      "  _warn_prf(average, modifier, msg_start, len(result))\n",
      "/usr/local/lib/python3.8/dist-packages/sklearn/metrics/_classification.py:1248: UndefinedMetricWarning: Jaccard is ill-defined and being set to 0.0 due to no true or predicted samples. Use `zero_division` parameter to control this behavior.\n",
      "  _warn_prf(average, modifier, msg_start, len(result))\n",
      "/usr/local/lib/python3.8/dist-packages/sklearn/metrics/_classification.py:1248: UndefinedMetricWarning: Jaccard is ill-defined and being set to 0.0 due to no true or predicted samples. Use `zero_division` parameter to control this behavior.\n",
      "  _warn_prf(average, modifier, msg_start, len(result))\n",
      "/usr/local/lib/python3.8/dist-packages/sklearn/metrics/_classification.py:1248: UndefinedMetricWarning: Jaccard is ill-defined and being set to 0.0 due to no true or predicted samples. Use `zero_division` parameter to control this behavior.\n",
      "  _warn_prf(average, modifier, msg_start, len(result))\n",
      "/usr/local/lib/python3.8/dist-packages/sklearn/metrics/_classification.py:1248: UndefinedMetricWarning: Jaccard is ill-defined and being set to 0.0 due to no true or predicted samples. Use `zero_division` parameter to control this behavior.\n",
      "  _warn_prf(average, modifier, msg_start, len(result))\n",
      "/usr/local/lib/python3.8/dist-packages/sklearn/metrics/_classification.py:1248: UndefinedMetricWarning: Jaccard is ill-defined and being set to 0.0 due to no true or predicted samples. Use `zero_division` parameter to control this behavior.\n",
      "  _warn_prf(average, modifier, msg_start, len(result))\n",
      "/usr/local/lib/python3.8/dist-packages/sklearn/metrics/_classification.py:1248: UndefinedMetricWarning: Jaccard is ill-defined and being set to 0.0 due to no true or predicted samples. Use `zero_division` parameter to control this behavior.\n",
      "  _warn_prf(average, modifier, msg_start, len(result))\n",
      "/usr/local/lib/python3.8/dist-packages/sklearn/metrics/_classification.py:1248: UndefinedMetricWarning: Jaccard is ill-defined and being set to 0.0 due to no true or predicted samples. Use `zero_division` parameter to control this behavior.\n",
      "  _warn_prf(average, modifier, msg_start, len(result))\n",
      " 61%|██████████████████████████████████████████████████████████████████████████████████████████████████████████▏                                                                   | 61/100 [18:58<13:34, 20.89s/it]"
     ]
    },
    {
     "name": "stdout",
     "output_type": "stream",
     "text": [
      "mIOU given by: 0.30958784523423216\n",
      "[0.2962460688548717, 0.30391794630616453, 0.6524141724191902, 0.5080124211021342, 0.2546997191227881, 0.3242468249175954, 0.48479004956123334, 0.5467472828283928, 0.25181696633670264, 0.3229743586259389, 0.1806640666147666, 0.31367196910536943, 0.3036725050839316, 0.3747066545714159, 0.3572061277044272, 0.40287405829159245, 0.36737397224146057, 0.6353939891926504, 0.3761727240153292, 0.6351422203946238, 0.560441796027732, 0.5107469284348097, 0.20716565277126062, 0.4451154906483967, 0.4253084700905224, 0.2904131535243195, 0.5909509165572139, 0.31562296796897144, 0.5209770018455523, 0.4975059521240728, 0.21717606360205344, 0.4317293892832681, 0.3238602108257816, 0.6895299081971155, 0.3690091317136916, 0.2874771060219107, 0.2929327783651647, 0.5474389781053786, 0.40384188640793345, 0.2342361781598103, 0.5722761486238237, 0.30507412415321594, 0.4203328130750395, 0.4809527584990411, 0.6434470726429078, 0.5296326167966681, 0.6076567618895583, 0.3910390506826292, 0.609951648290316, 0.2927773618419275, 0.18319431809882947, 0.49713841561146815, 0.34176421620261693, 0.37245366506176564, 0.19209016490995237, 0.33005224730456395, 0.3384947301116933, 0.40968403591397695, 0.4928449811285595, 0.4932067019612236, 0.30958784523423216]\n"
     ]
    },
    {
     "name": "stderr",
     "output_type": "stream",
     "text": [
      "/usr/local/lib/python3.8/dist-packages/sklearn/metrics/_classification.py:1248: UndefinedMetricWarning: Jaccard is ill-defined and being set to 0.0 due to no true or predicted samples. Use `zero_division` parameter to control this behavior.\n",
      "  _warn_prf(average, modifier, msg_start, len(result))\n",
      "/usr/local/lib/python3.8/dist-packages/sklearn/metrics/_classification.py:1248: UndefinedMetricWarning: Jaccard is ill-defined and being set to 0.0 due to no true or predicted samples. Use `zero_division` parameter to control this behavior.\n",
      "  _warn_prf(average, modifier, msg_start, len(result))\n",
      "/usr/local/lib/python3.8/dist-packages/sklearn/metrics/_classification.py:1248: UndefinedMetricWarning: Jaccard is ill-defined and being set to 0.0 due to no true or predicted samples. Use `zero_division` parameter to control this behavior.\n",
      "  _warn_prf(average, modifier, msg_start, len(result))\n",
      "/usr/local/lib/python3.8/dist-packages/sklearn/metrics/_classification.py:1248: UndefinedMetricWarning: Jaccard is ill-defined and being set to 0.0 due to no true or predicted samples. Use `zero_division` parameter to control this behavior.\n",
      "  _warn_prf(average, modifier, msg_start, len(result))\n",
      "/usr/local/lib/python3.8/dist-packages/sklearn/metrics/_classification.py:1248: UndefinedMetricWarning: Jaccard is ill-defined and being set to 0.0 due to no true or predicted samples. Use `zero_division` parameter to control this behavior.\n",
      "  _warn_prf(average, modifier, msg_start, len(result))\n",
      "/usr/local/lib/python3.8/dist-packages/sklearn/metrics/_classification.py:1248: UndefinedMetricWarning: Jaccard is ill-defined and being set to 0.0 due to no true or predicted samples. Use `zero_division` parameter to control this behavior.\n",
      "  _warn_prf(average, modifier, msg_start, len(result))\n",
      " 62%|███████████████████████████████████████████████████████████████████████████████████████████████████████████▉                                                                  | 62/100 [19:23<14:04, 22.21s/it]"
     ]
    },
    {
     "name": "stdout",
     "output_type": "stream",
     "text": [
      "mIOU given by: 0.49959529400325586\n",
      "[0.2962460688548717, 0.30391794630616453, 0.6524141724191902, 0.5080124211021342, 0.2546997191227881, 0.3242468249175954, 0.48479004956123334, 0.5467472828283928, 0.25181696633670264, 0.3229743586259389, 0.1806640666147666, 0.31367196910536943, 0.3036725050839316, 0.3747066545714159, 0.3572061277044272, 0.40287405829159245, 0.36737397224146057, 0.6353939891926504, 0.3761727240153292, 0.6351422203946238, 0.560441796027732, 0.5107469284348097, 0.20716565277126062, 0.4451154906483967, 0.4253084700905224, 0.2904131535243195, 0.5909509165572139, 0.31562296796897144, 0.5209770018455523, 0.4975059521240728, 0.21717606360205344, 0.4317293892832681, 0.3238602108257816, 0.6895299081971155, 0.3690091317136916, 0.2874771060219107, 0.2929327783651647, 0.5474389781053786, 0.40384188640793345, 0.2342361781598103, 0.5722761486238237, 0.30507412415321594, 0.4203328130750395, 0.4809527584990411, 0.6434470726429078, 0.5296326167966681, 0.6076567618895583, 0.3910390506826292, 0.609951648290316, 0.2927773618419275, 0.18319431809882947, 0.49713841561146815, 0.34176421620261693, 0.37245366506176564, 0.19209016490995237, 0.33005224730456395, 0.3384947301116933, 0.40968403591397695, 0.4928449811285595, 0.4932067019612236, 0.30958784523423216, 0.49959529400325586]\n"
     ]
    },
    {
     "name": "stderr",
     "output_type": "stream",
     "text": [
      "/usr/local/lib/python3.8/dist-packages/sklearn/metrics/_classification.py:1248: UndefinedMetricWarning: Jaccard is ill-defined and being set to 0.0 due to no true or predicted samples. Use `zero_division` parameter to control this behavior.\n",
      "  _warn_prf(average, modifier, msg_start, len(result))\n",
      "/usr/local/lib/python3.8/dist-packages/sklearn/metrics/_classification.py:1248: UndefinedMetricWarning: Jaccard is ill-defined and being set to 0.0 due to no true or predicted samples. Use `zero_division` parameter to control this behavior.\n",
      "  _warn_prf(average, modifier, msg_start, len(result))\n",
      "/usr/local/lib/python3.8/dist-packages/sklearn/metrics/_classification.py:1248: UndefinedMetricWarning: Jaccard is ill-defined and being set to 0.0 due to no true or predicted samples. Use `zero_division` parameter to control this behavior.\n",
      "  _warn_prf(average, modifier, msg_start, len(result))\n",
      "/usr/local/lib/python3.8/dist-packages/sklearn/metrics/_classification.py:1248: UndefinedMetricWarning: Jaccard is ill-defined and being set to 0.0 due to no true or predicted samples. Use `zero_division` parameter to control this behavior.\n",
      "  _warn_prf(average, modifier, msg_start, len(result))\n",
      "/usr/local/lib/python3.8/dist-packages/sklearn/metrics/_classification.py:1248: UndefinedMetricWarning: Jaccard is ill-defined and being set to 0.0 due to no true or predicted samples. Use `zero_division` parameter to control this behavior.\n",
      "  _warn_prf(average, modifier, msg_start, len(result))\n",
      "/usr/local/lib/python3.8/dist-packages/sklearn/metrics/_classification.py:1248: UndefinedMetricWarning: Jaccard is ill-defined and being set to 0.0 due to no true or predicted samples. Use `zero_division` parameter to control this behavior.\n",
      "  _warn_prf(average, modifier, msg_start, len(result))\n",
      "/usr/local/lib/python3.8/dist-packages/sklearn/metrics/_classification.py:1248: UndefinedMetricWarning: Jaccard is ill-defined and being set to 0.0 due to no true or predicted samples. Use `zero_division` parameter to control this behavior.\n",
      "  _warn_prf(average, modifier, msg_start, len(result))\n",
      "/usr/local/lib/python3.8/dist-packages/sklearn/metrics/_classification.py:1248: UndefinedMetricWarning: Jaccard is ill-defined and being set to 0.0 due to no true or predicted samples. Use `zero_division` parameter to control this behavior.\n",
      "  _warn_prf(average, modifier, msg_start, len(result))\n",
      "/usr/local/lib/python3.8/dist-packages/sklearn/metrics/_classification.py:1248: UndefinedMetricWarning: Jaccard is ill-defined and being set to 0.0 due to no true or predicted samples. Use `zero_division` parameter to control this behavior.\n",
      "  _warn_prf(average, modifier, msg_start, len(result))\n",
      "/usr/local/lib/python3.8/dist-packages/sklearn/metrics/_classification.py:1248: UndefinedMetricWarning: Jaccard is ill-defined and being set to 0.0 due to no true or predicted samples. Use `zero_division` parameter to control this behavior.\n",
      "  _warn_prf(average, modifier, msg_start, len(result))\n",
      " 63%|█████████████████████████████████████████████████████████████████████████████████████████████████████████████▌                                                                | 63/100 [19:42<12:57, 21.01s/it]"
     ]
    },
    {
     "name": "stdout",
     "output_type": "stream",
     "text": [
      "mIOU given by: 0.5886512915627848\n",
      "[0.2962460688548717, 0.30391794630616453, 0.6524141724191902, 0.5080124211021342, 0.2546997191227881, 0.3242468249175954, 0.48479004956123334, 0.5467472828283928, 0.25181696633670264, 0.3229743586259389, 0.1806640666147666, 0.31367196910536943, 0.3036725050839316, 0.3747066545714159, 0.3572061277044272, 0.40287405829159245, 0.36737397224146057, 0.6353939891926504, 0.3761727240153292, 0.6351422203946238, 0.560441796027732, 0.5107469284348097, 0.20716565277126062, 0.4451154906483967, 0.4253084700905224, 0.2904131535243195, 0.5909509165572139, 0.31562296796897144, 0.5209770018455523, 0.4975059521240728, 0.21717606360205344, 0.4317293892832681, 0.3238602108257816, 0.6895299081971155, 0.3690091317136916, 0.2874771060219107, 0.2929327783651647, 0.5474389781053786, 0.40384188640793345, 0.2342361781598103, 0.5722761486238237, 0.30507412415321594, 0.4203328130750395, 0.4809527584990411, 0.6434470726429078, 0.5296326167966681, 0.6076567618895583, 0.3910390506826292, 0.609951648290316, 0.2927773618419275, 0.18319431809882947, 0.49713841561146815, 0.34176421620261693, 0.37245366506176564, 0.19209016490995237, 0.33005224730456395, 0.3384947301116933, 0.40968403591397695, 0.4928449811285595, 0.4932067019612236, 0.30958784523423216, 0.49959529400325586, 0.5886512915627848]\n"
     ]
    },
    {
     "name": "stderr",
     "output_type": "stream",
     "text": [
      "/usr/local/lib/python3.8/dist-packages/sklearn/metrics/_classification.py:1248: UndefinedMetricWarning: Jaccard is ill-defined and being set to 0.0 due to no true or predicted samples. Use `zero_division` parameter to control this behavior.\n",
      "  _warn_prf(average, modifier, msg_start, len(result))\n",
      "/usr/local/lib/python3.8/dist-packages/sklearn/metrics/_classification.py:1248: UndefinedMetricWarning: Jaccard is ill-defined and being set to 0.0 due to no true or predicted samples. Use `zero_division` parameter to control this behavior.\n",
      "  _warn_prf(average, modifier, msg_start, len(result))\n",
      "/usr/local/lib/python3.8/dist-packages/sklearn/metrics/_classification.py:1248: UndefinedMetricWarning: Jaccard is ill-defined and being set to 0.0 due to no true or predicted samples. Use `zero_division` parameter to control this behavior.\n",
      "  _warn_prf(average, modifier, msg_start, len(result))\n",
      "/usr/local/lib/python3.8/dist-packages/sklearn/metrics/_classification.py:1248: UndefinedMetricWarning: Jaccard is ill-defined and being set to 0.0 due to no true or predicted samples. Use `zero_division` parameter to control this behavior.\n",
      "  _warn_prf(average, modifier, msg_start, len(result))\n",
      "/usr/local/lib/python3.8/dist-packages/sklearn/metrics/_classification.py:1248: UndefinedMetricWarning: Jaccard is ill-defined and being set to 0.0 due to no true or predicted samples. Use `zero_division` parameter to control this behavior.\n",
      "  _warn_prf(average, modifier, msg_start, len(result))\n",
      "/usr/local/lib/python3.8/dist-packages/sklearn/metrics/_classification.py:1248: UndefinedMetricWarning: Jaccard is ill-defined and being set to 0.0 due to no true or predicted samples. Use `zero_division` parameter to control this behavior.\n",
      "  _warn_prf(average, modifier, msg_start, len(result))\n",
      "/usr/local/lib/python3.8/dist-packages/sklearn/metrics/_classification.py:1248: UndefinedMetricWarning: Jaccard is ill-defined and being set to 0.0 due to no true or predicted samples. Use `zero_division` parameter to control this behavior.\n",
      "  _warn_prf(average, modifier, msg_start, len(result))\n",
      "/usr/local/lib/python3.8/dist-packages/sklearn/metrics/_classification.py:1248: UndefinedMetricWarning: Jaccard is ill-defined and being set to 0.0 due to no true or predicted samples. Use `zero_division` parameter to control this behavior.\n",
      "  _warn_prf(average, modifier, msg_start, len(result))\n",
      " 64%|███████████████████████████████████████████████████████████████████████████████████████████████████████████████▎                                                              | 64/100 [20:20<15:49, 26.39s/it]"
     ]
    },
    {
     "name": "stdout",
     "output_type": "stream",
     "text": [
      "mIOU given by: 0.2572291289098335\n",
      "[0.2962460688548717, 0.30391794630616453, 0.6524141724191902, 0.5080124211021342, 0.2546997191227881, 0.3242468249175954, 0.48479004956123334, 0.5467472828283928, 0.25181696633670264, 0.3229743586259389, 0.1806640666147666, 0.31367196910536943, 0.3036725050839316, 0.3747066545714159, 0.3572061277044272, 0.40287405829159245, 0.36737397224146057, 0.6353939891926504, 0.3761727240153292, 0.6351422203946238, 0.560441796027732, 0.5107469284348097, 0.20716565277126062, 0.4451154906483967, 0.4253084700905224, 0.2904131535243195, 0.5909509165572139, 0.31562296796897144, 0.5209770018455523, 0.4975059521240728, 0.21717606360205344, 0.4317293892832681, 0.3238602108257816, 0.6895299081971155, 0.3690091317136916, 0.2874771060219107, 0.2929327783651647, 0.5474389781053786, 0.40384188640793345, 0.2342361781598103, 0.5722761486238237, 0.30507412415321594, 0.4203328130750395, 0.4809527584990411, 0.6434470726429078, 0.5296326167966681, 0.6076567618895583, 0.3910390506826292, 0.609951648290316, 0.2927773618419275, 0.18319431809882947, 0.49713841561146815, 0.34176421620261693, 0.37245366506176564, 0.19209016490995237, 0.33005224730456395, 0.3384947301116933, 0.40968403591397695, 0.4928449811285595, 0.4932067019612236, 0.30958784523423216, 0.49959529400325586, 0.5886512915627848, 0.2572291289098335]\n"
     ]
    },
    {
     "name": "stderr",
     "output_type": "stream",
     "text": [
      "/usr/local/lib/python3.8/dist-packages/sklearn/metrics/_classification.py:1248: UndefinedMetricWarning: Jaccard is ill-defined and being set to 0.0 due to no true or predicted samples. Use `zero_division` parameter to control this behavior.\n",
      "  _warn_prf(average, modifier, msg_start, len(result))\n",
      "/usr/local/lib/python3.8/dist-packages/sklearn/metrics/_classification.py:1248: UndefinedMetricWarning: Jaccard is ill-defined and being set to 0.0 due to no true or predicted samples. Use `zero_division` parameter to control this behavior.\n",
      "  _warn_prf(average, modifier, msg_start, len(result))\n",
      "/usr/local/lib/python3.8/dist-packages/sklearn/metrics/_classification.py:1248: UndefinedMetricWarning: Jaccard is ill-defined and being set to 0.0 due to no true or predicted samples. Use `zero_division` parameter to control this behavior.\n",
      "  _warn_prf(average, modifier, msg_start, len(result))\n",
      "/usr/local/lib/python3.8/dist-packages/sklearn/metrics/_classification.py:1248: UndefinedMetricWarning: Jaccard is ill-defined and being set to 0.0 due to no true or predicted samples. Use `zero_division` parameter to control this behavior.\n",
      "  _warn_prf(average, modifier, msg_start, len(result))\n",
      "/usr/local/lib/python3.8/dist-packages/sklearn/metrics/_classification.py:1248: UndefinedMetricWarning: Jaccard is ill-defined and being set to 0.0 due to no true or predicted samples. Use `zero_division` parameter to control this behavior.\n",
      "  _warn_prf(average, modifier, msg_start, len(result))\n",
      "/usr/local/lib/python3.8/dist-packages/sklearn/metrics/_classification.py:1248: UndefinedMetricWarning: Jaccard is ill-defined and being set to 0.0 due to no true or predicted samples. Use `zero_division` parameter to control this behavior.\n",
      "  _warn_prf(average, modifier, msg_start, len(result))\n",
      "/usr/local/lib/python3.8/dist-packages/sklearn/metrics/_classification.py:1248: UndefinedMetricWarning: Jaccard is ill-defined and being set to 0.0 due to no true or predicted samples. Use `zero_division` parameter to control this behavior.\n",
      "  _warn_prf(average, modifier, msg_start, len(result))\n",
      " 65%|█████████████████████████████████████████████████████████████████████████████████████████████████████████████████                                                             | 65/100 [20:39<13:57, 23.92s/it]"
     ]
    },
    {
     "name": "stdout",
     "output_type": "stream",
     "text": [
      "mIOU given by: 0.24310835573672146\n",
      "[0.2962460688548717, 0.30391794630616453, 0.6524141724191902, 0.5080124211021342, 0.2546997191227881, 0.3242468249175954, 0.48479004956123334, 0.5467472828283928, 0.25181696633670264, 0.3229743586259389, 0.1806640666147666, 0.31367196910536943, 0.3036725050839316, 0.3747066545714159, 0.3572061277044272, 0.40287405829159245, 0.36737397224146057, 0.6353939891926504, 0.3761727240153292, 0.6351422203946238, 0.560441796027732, 0.5107469284348097, 0.20716565277126062, 0.4451154906483967, 0.4253084700905224, 0.2904131535243195, 0.5909509165572139, 0.31562296796897144, 0.5209770018455523, 0.4975059521240728, 0.21717606360205344, 0.4317293892832681, 0.3238602108257816, 0.6895299081971155, 0.3690091317136916, 0.2874771060219107, 0.2929327783651647, 0.5474389781053786, 0.40384188640793345, 0.2342361781598103, 0.5722761486238237, 0.30507412415321594, 0.4203328130750395, 0.4809527584990411, 0.6434470726429078, 0.5296326167966681, 0.6076567618895583, 0.3910390506826292, 0.609951648290316, 0.2927773618419275, 0.18319431809882947, 0.49713841561146815, 0.34176421620261693, 0.37245366506176564, 0.19209016490995237, 0.33005224730456395, 0.3384947301116933, 0.40968403591397695, 0.4928449811285595, 0.4932067019612236, 0.30958784523423216, 0.49959529400325586, 0.5886512915627848, 0.2572291289098335, 0.24310835573672146]\n"
     ]
    },
    {
     "name": "stderr",
     "output_type": "stream",
     "text": [
      "/usr/local/lib/python3.8/dist-packages/sklearn/metrics/_classification.py:1248: UndefinedMetricWarning: Jaccard is ill-defined and being set to 0.0 due to no true or predicted samples. Use `zero_division` parameter to control this behavior.\n",
      "  _warn_prf(average, modifier, msg_start, len(result))\n",
      "/usr/local/lib/python3.8/dist-packages/sklearn/metrics/_classification.py:1248: UndefinedMetricWarning: Jaccard is ill-defined and being set to 0.0 due to no true or predicted samples. Use `zero_division` parameter to control this behavior.\n",
      "  _warn_prf(average, modifier, msg_start, len(result))\n",
      "/usr/local/lib/python3.8/dist-packages/sklearn/metrics/_classification.py:1248: UndefinedMetricWarning: Jaccard is ill-defined and being set to 0.0 due to no true or predicted samples. Use `zero_division` parameter to control this behavior.\n",
      "  _warn_prf(average, modifier, msg_start, len(result))\n",
      "/usr/local/lib/python3.8/dist-packages/sklearn/metrics/_classification.py:1248: UndefinedMetricWarning: Jaccard is ill-defined and being set to 0.0 due to no true or predicted samples. Use `zero_division` parameter to control this behavior.\n",
      "  _warn_prf(average, modifier, msg_start, len(result))\n",
      "/usr/local/lib/python3.8/dist-packages/sklearn/metrics/_classification.py:1248: UndefinedMetricWarning: Jaccard is ill-defined and being set to 0.0 due to no true or predicted samples. Use `zero_division` parameter to control this behavior.\n",
      "  _warn_prf(average, modifier, msg_start, len(result))\n",
      "/usr/local/lib/python3.8/dist-packages/sklearn/metrics/_classification.py:1248: UndefinedMetricWarning: Jaccard is ill-defined and being set to 0.0 due to no true or predicted samples. Use `zero_division` parameter to control this behavior.\n",
      "  _warn_prf(average, modifier, msg_start, len(result))\n",
      "/usr/local/lib/python3.8/dist-packages/sklearn/metrics/_classification.py:1248: UndefinedMetricWarning: Jaccard is ill-defined and being set to 0.0 due to no true or predicted samples. Use `zero_division` parameter to control this behavior.\n",
      "  _warn_prf(average, modifier, msg_start, len(result))\n",
      "/usr/local/lib/python3.8/dist-packages/sklearn/metrics/_classification.py:1248: UndefinedMetricWarning: Jaccard is ill-defined and being set to 0.0 due to no true or predicted samples. Use `zero_division` parameter to control this behavior.\n",
      "  _warn_prf(average, modifier, msg_start, len(result))\n",
      " 66%|██████████████████████████████████████████████████████████████████████████████████████████████████████████████████▊                                                           | 66/100 [20:56<12:29, 22.04s/it]"
     ]
    },
    {
     "name": "stdout",
     "output_type": "stream",
     "text": [
      "mIOU given by: 0.3188433077696804\n",
      "[0.2962460688548717, 0.30391794630616453, 0.6524141724191902, 0.5080124211021342, 0.2546997191227881, 0.3242468249175954, 0.48479004956123334, 0.5467472828283928, 0.25181696633670264, 0.3229743586259389, 0.1806640666147666, 0.31367196910536943, 0.3036725050839316, 0.3747066545714159, 0.3572061277044272, 0.40287405829159245, 0.36737397224146057, 0.6353939891926504, 0.3761727240153292, 0.6351422203946238, 0.560441796027732, 0.5107469284348097, 0.20716565277126062, 0.4451154906483967, 0.4253084700905224, 0.2904131535243195, 0.5909509165572139, 0.31562296796897144, 0.5209770018455523, 0.4975059521240728, 0.21717606360205344, 0.4317293892832681, 0.3238602108257816, 0.6895299081971155, 0.3690091317136916, 0.2874771060219107, 0.2929327783651647, 0.5474389781053786, 0.40384188640793345, 0.2342361781598103, 0.5722761486238237, 0.30507412415321594, 0.4203328130750395, 0.4809527584990411, 0.6434470726429078, 0.5296326167966681, 0.6076567618895583, 0.3910390506826292, 0.609951648290316, 0.2927773618419275, 0.18319431809882947, 0.49713841561146815, 0.34176421620261693, 0.37245366506176564, 0.19209016490995237, 0.33005224730456395, 0.3384947301116933, 0.40968403591397695, 0.4928449811285595, 0.4932067019612236, 0.30958784523423216, 0.49959529400325586, 0.5886512915627848, 0.2572291289098335, 0.24310835573672146, 0.3188433077696804]\n"
     ]
    },
    {
     "name": "stderr",
     "output_type": "stream",
     "text": [
      "/usr/local/lib/python3.8/dist-packages/sklearn/metrics/_classification.py:1248: UndefinedMetricWarning: Jaccard is ill-defined and being set to 0.0 due to no true or predicted samples. Use `zero_division` parameter to control this behavior.\n",
      "  _warn_prf(average, modifier, msg_start, len(result))\n",
      "/usr/local/lib/python3.8/dist-packages/sklearn/metrics/_classification.py:1248: UndefinedMetricWarning: Jaccard is ill-defined and being set to 0.0 due to no true or predicted samples. Use `zero_division` parameter to control this behavior.\n",
      "  _warn_prf(average, modifier, msg_start, len(result))\n",
      "/usr/local/lib/python3.8/dist-packages/sklearn/metrics/_classification.py:1248: UndefinedMetricWarning: Jaccard is ill-defined and being set to 0.0 due to no true or predicted samples. Use `zero_division` parameter to control this behavior.\n",
      "  _warn_prf(average, modifier, msg_start, len(result))\n",
      "/usr/local/lib/python3.8/dist-packages/sklearn/metrics/_classification.py:1248: UndefinedMetricWarning: Jaccard is ill-defined and being set to 0.0 due to no true or predicted samples. Use `zero_division` parameter to control this behavior.\n",
      "  _warn_prf(average, modifier, msg_start, len(result))\n",
      "/usr/local/lib/python3.8/dist-packages/sklearn/metrics/_classification.py:1248: UndefinedMetricWarning: Jaccard is ill-defined and being set to 0.0 due to no true or predicted samples. Use `zero_division` parameter to control this behavior.\n",
      "  _warn_prf(average, modifier, msg_start, len(result))\n",
      "/usr/local/lib/python3.8/dist-packages/sklearn/metrics/_classification.py:1248: UndefinedMetricWarning: Jaccard is ill-defined and being set to 0.0 due to no true or predicted samples. Use `zero_division` parameter to control this behavior.\n",
      "  _warn_prf(average, modifier, msg_start, len(result))\n",
      "/usr/local/lib/python3.8/dist-packages/sklearn/metrics/_classification.py:1248: UndefinedMetricWarning: Jaccard is ill-defined and being set to 0.0 due to no true or predicted samples. Use `zero_division` parameter to control this behavior.\n",
      "  _warn_prf(average, modifier, msg_start, len(result))\n",
      "/usr/local/lib/python3.8/dist-packages/sklearn/metrics/_classification.py:1248: UndefinedMetricWarning: Jaccard is ill-defined and being set to 0.0 due to no true or predicted samples. Use `zero_division` parameter to control this behavior.\n",
      "  _warn_prf(average, modifier, msg_start, len(result))\n",
      "/usr/local/lib/python3.8/dist-packages/sklearn/metrics/_classification.py:1248: UndefinedMetricWarning: Jaccard is ill-defined and being set to 0.0 due to no true or predicted samples. Use `zero_division` parameter to control this behavior.\n",
      "  _warn_prf(average, modifier, msg_start, len(result))\n",
      "/usr/local/lib/python3.8/dist-packages/sklearn/metrics/_classification.py:1248: UndefinedMetricWarning: Jaccard is ill-defined and being set to 0.0 due to no true or predicted samples. Use `zero_division` parameter to control this behavior.\n",
      "  _warn_prf(average, modifier, msg_start, len(result))\n",
      "/usr/local/lib/python3.8/dist-packages/sklearn/metrics/_classification.py:1248: UndefinedMetricWarning: Jaccard is ill-defined and being set to 0.0 due to no true or predicted samples. Use `zero_division` parameter to control this behavior.\n",
      "  _warn_prf(average, modifier, msg_start, len(result))\n",
      " 67%|████████████████████████████████████████████████████████████████████████████████████████████████████████████████████▌                                                         | 67/100 [21:11<10:53, 19.81s/it]"
     ]
    },
    {
     "name": "stdout",
     "output_type": "stream",
     "text": [
      "mIOU given by: 0.5630492219991903\n",
      "[0.2962460688548717, 0.30391794630616453, 0.6524141724191902, 0.5080124211021342, 0.2546997191227881, 0.3242468249175954, 0.48479004956123334, 0.5467472828283928, 0.25181696633670264, 0.3229743586259389, 0.1806640666147666, 0.31367196910536943, 0.3036725050839316, 0.3747066545714159, 0.3572061277044272, 0.40287405829159245, 0.36737397224146057, 0.6353939891926504, 0.3761727240153292, 0.6351422203946238, 0.560441796027732, 0.5107469284348097, 0.20716565277126062, 0.4451154906483967, 0.4253084700905224, 0.2904131535243195, 0.5909509165572139, 0.31562296796897144, 0.5209770018455523, 0.4975059521240728, 0.21717606360205344, 0.4317293892832681, 0.3238602108257816, 0.6895299081971155, 0.3690091317136916, 0.2874771060219107, 0.2929327783651647, 0.5474389781053786, 0.40384188640793345, 0.2342361781598103, 0.5722761486238237, 0.30507412415321594, 0.4203328130750395, 0.4809527584990411, 0.6434470726429078, 0.5296326167966681, 0.6076567618895583, 0.3910390506826292, 0.609951648290316, 0.2927773618419275, 0.18319431809882947, 0.49713841561146815, 0.34176421620261693, 0.37245366506176564, 0.19209016490995237, 0.33005224730456395, 0.3384947301116933, 0.40968403591397695, 0.4928449811285595, 0.4932067019612236, 0.30958784523423216, 0.49959529400325586, 0.5886512915627848, 0.2572291289098335, 0.24310835573672146, 0.3188433077696804, 0.5630492219991903]\n"
     ]
    },
    {
     "name": "stderr",
     "output_type": "stream",
     "text": [
      "/usr/local/lib/python3.8/dist-packages/sklearn/metrics/_classification.py:1248: UndefinedMetricWarning: Jaccard is ill-defined and being set to 0.0 due to no true or predicted samples. Use `zero_division` parameter to control this behavior.\n",
      "  _warn_prf(average, modifier, msg_start, len(result))\n",
      "/usr/local/lib/python3.8/dist-packages/sklearn/metrics/_classification.py:1248: UndefinedMetricWarning: Jaccard is ill-defined and being set to 0.0 due to no true or predicted samples. Use `zero_division` parameter to control this behavior.\n",
      "  _warn_prf(average, modifier, msg_start, len(result))\n",
      "/usr/local/lib/python3.8/dist-packages/sklearn/metrics/_classification.py:1248: UndefinedMetricWarning: Jaccard is ill-defined and being set to 0.0 due to no true or predicted samples. Use `zero_division` parameter to control this behavior.\n",
      "  _warn_prf(average, modifier, msg_start, len(result))\n",
      "/usr/local/lib/python3.8/dist-packages/sklearn/metrics/_classification.py:1248: UndefinedMetricWarning: Jaccard is ill-defined and being set to 0.0 due to no true or predicted samples. Use `zero_division` parameter to control this behavior.\n",
      "  _warn_prf(average, modifier, msg_start, len(result))\n",
      "/usr/local/lib/python3.8/dist-packages/sklearn/metrics/_classification.py:1248: UndefinedMetricWarning: Jaccard is ill-defined and being set to 0.0 due to no true or predicted samples. Use `zero_division` parameter to control this behavior.\n",
      "  _warn_prf(average, modifier, msg_start, len(result))\n",
      "/usr/local/lib/python3.8/dist-packages/sklearn/metrics/_classification.py:1248: UndefinedMetricWarning: Jaccard is ill-defined and being set to 0.0 due to no true or predicted samples. Use `zero_division` parameter to control this behavior.\n",
      "  _warn_prf(average, modifier, msg_start, len(result))\n",
      "/usr/local/lib/python3.8/dist-packages/sklearn/metrics/_classification.py:1248: UndefinedMetricWarning: Jaccard is ill-defined and being set to 0.0 due to no true or predicted samples. Use `zero_division` parameter to control this behavior.\n",
      "  _warn_prf(average, modifier, msg_start, len(result))\n",
      "/usr/local/lib/python3.8/dist-packages/sklearn/metrics/_classification.py:1248: UndefinedMetricWarning: Jaccard is ill-defined and being set to 0.0 due to no true or predicted samples. Use `zero_division` parameter to control this behavior.\n",
      "  _warn_prf(average, modifier, msg_start, len(result))\n",
      "/usr/local/lib/python3.8/dist-packages/sklearn/metrics/_classification.py:1248: UndefinedMetricWarning: Jaccard is ill-defined and being set to 0.0 due to no true or predicted samples. Use `zero_division` parameter to control this behavior.\n",
      "  _warn_prf(average, modifier, msg_start, len(result))\n",
      " 68%|██████████████████████████████████████████████████████████████████████████████████████████████████████████████████████▎                                                       | 68/100 [21:26<09:50, 18.45s/it]"
     ]
    },
    {
     "name": "stdout",
     "output_type": "stream",
     "text": [
      "mIOU given by: 0.23276077591441402\n",
      "[0.2962460688548717, 0.30391794630616453, 0.6524141724191902, 0.5080124211021342, 0.2546997191227881, 0.3242468249175954, 0.48479004956123334, 0.5467472828283928, 0.25181696633670264, 0.3229743586259389, 0.1806640666147666, 0.31367196910536943, 0.3036725050839316, 0.3747066545714159, 0.3572061277044272, 0.40287405829159245, 0.36737397224146057, 0.6353939891926504, 0.3761727240153292, 0.6351422203946238, 0.560441796027732, 0.5107469284348097, 0.20716565277126062, 0.4451154906483967, 0.4253084700905224, 0.2904131535243195, 0.5909509165572139, 0.31562296796897144, 0.5209770018455523, 0.4975059521240728, 0.21717606360205344, 0.4317293892832681, 0.3238602108257816, 0.6895299081971155, 0.3690091317136916, 0.2874771060219107, 0.2929327783651647, 0.5474389781053786, 0.40384188640793345, 0.2342361781598103, 0.5722761486238237, 0.30507412415321594, 0.4203328130750395, 0.4809527584990411, 0.6434470726429078, 0.5296326167966681, 0.6076567618895583, 0.3910390506826292, 0.609951648290316, 0.2927773618419275, 0.18319431809882947, 0.49713841561146815, 0.34176421620261693, 0.37245366506176564, 0.19209016490995237, 0.33005224730456395, 0.3384947301116933, 0.40968403591397695, 0.4928449811285595, 0.4932067019612236, 0.30958784523423216, 0.49959529400325586, 0.5886512915627848, 0.2572291289098335, 0.24310835573672146, 0.3188433077696804, 0.5630492219991903, 0.23276077591441402]\n"
     ]
    },
    {
     "name": "stderr",
     "output_type": "stream",
     "text": [
      "/usr/local/lib/python3.8/dist-packages/sklearn/metrics/_classification.py:1248: UndefinedMetricWarning: Jaccard is ill-defined and being set to 0.0 due to no true or predicted samples. Use `zero_division` parameter to control this behavior.\n",
      "  _warn_prf(average, modifier, msg_start, len(result))\n",
      "/usr/local/lib/python3.8/dist-packages/sklearn/metrics/_classification.py:1248: UndefinedMetricWarning: Jaccard is ill-defined and being set to 0.0 due to no true or predicted samples. Use `zero_division` parameter to control this behavior.\n",
      "  _warn_prf(average, modifier, msg_start, len(result))\n",
      "/usr/local/lib/python3.8/dist-packages/sklearn/metrics/_classification.py:1248: UndefinedMetricWarning: Jaccard is ill-defined and being set to 0.0 due to no true or predicted samples. Use `zero_division` parameter to control this behavior.\n",
      "  _warn_prf(average, modifier, msg_start, len(result))\n",
      "/usr/local/lib/python3.8/dist-packages/sklearn/metrics/_classification.py:1248: UndefinedMetricWarning: Jaccard is ill-defined and being set to 0.0 due to no true or predicted samples. Use `zero_division` parameter to control this behavior.\n",
      "  _warn_prf(average, modifier, msg_start, len(result))\n",
      "/usr/local/lib/python3.8/dist-packages/sklearn/metrics/_classification.py:1248: UndefinedMetricWarning: Jaccard is ill-defined and being set to 0.0 due to no true or predicted samples. Use `zero_division` parameter to control this behavior.\n",
      "  _warn_prf(average, modifier, msg_start, len(result))\n",
      "/usr/local/lib/python3.8/dist-packages/sklearn/metrics/_classification.py:1248: UndefinedMetricWarning: Jaccard is ill-defined and being set to 0.0 due to no true or predicted samples. Use `zero_division` parameter to control this behavior.\n",
      "  _warn_prf(average, modifier, msg_start, len(result))\n",
      "/usr/local/lib/python3.8/dist-packages/sklearn/metrics/_classification.py:1248: UndefinedMetricWarning: Jaccard is ill-defined and being set to 0.0 due to no true or predicted samples. Use `zero_division` parameter to control this behavior.\n",
      "  _warn_prf(average, modifier, msg_start, len(result))\n",
      "/usr/local/lib/python3.8/dist-packages/sklearn/metrics/_classification.py:1248: UndefinedMetricWarning: Jaccard is ill-defined and being set to 0.0 due to no true or predicted samples. Use `zero_division` parameter to control this behavior.\n",
      "  _warn_prf(average, modifier, msg_start, len(result))\n",
      "/usr/local/lib/python3.8/dist-packages/sklearn/metrics/_classification.py:1248: UndefinedMetricWarning: Jaccard is ill-defined and being set to 0.0 due to no true or predicted samples. Use `zero_division` parameter to control this behavior.\n",
      "  _warn_prf(average, modifier, msg_start, len(result))\n",
      " 69%|████████████████████████████████████████████████████████████████████████████████████████████████████████████████████████                                                      | 69/100 [21:42<09:12, 17.81s/it]"
     ]
    },
    {
     "name": "stdout",
     "output_type": "stream",
     "text": [
      "mIOU given by: 0.4137847487931866\n",
      "[0.2962460688548717, 0.30391794630616453, 0.6524141724191902, 0.5080124211021342, 0.2546997191227881, 0.3242468249175954, 0.48479004956123334, 0.5467472828283928, 0.25181696633670264, 0.3229743586259389, 0.1806640666147666, 0.31367196910536943, 0.3036725050839316, 0.3747066545714159, 0.3572061277044272, 0.40287405829159245, 0.36737397224146057, 0.6353939891926504, 0.3761727240153292, 0.6351422203946238, 0.560441796027732, 0.5107469284348097, 0.20716565277126062, 0.4451154906483967, 0.4253084700905224, 0.2904131535243195, 0.5909509165572139, 0.31562296796897144, 0.5209770018455523, 0.4975059521240728, 0.21717606360205344, 0.4317293892832681, 0.3238602108257816, 0.6895299081971155, 0.3690091317136916, 0.2874771060219107, 0.2929327783651647, 0.5474389781053786, 0.40384188640793345, 0.2342361781598103, 0.5722761486238237, 0.30507412415321594, 0.4203328130750395, 0.4809527584990411, 0.6434470726429078, 0.5296326167966681, 0.6076567618895583, 0.3910390506826292, 0.609951648290316, 0.2927773618419275, 0.18319431809882947, 0.49713841561146815, 0.34176421620261693, 0.37245366506176564, 0.19209016490995237, 0.33005224730456395, 0.3384947301116933, 0.40968403591397695, 0.4928449811285595, 0.4932067019612236, 0.30958784523423216, 0.49959529400325586, 0.5886512915627848, 0.2572291289098335, 0.24310835573672146, 0.3188433077696804, 0.5630492219991903, 0.23276077591441402, 0.4137847487931866]\n"
     ]
    },
    {
     "name": "stderr",
     "output_type": "stream",
     "text": [
      "/usr/local/lib/python3.8/dist-packages/sklearn/metrics/_classification.py:1248: UndefinedMetricWarning: Jaccard is ill-defined and being set to 0.0 due to no true or predicted samples. Use `zero_division` parameter to control this behavior.\n",
      "  _warn_prf(average, modifier, msg_start, len(result))\n",
      "/usr/local/lib/python3.8/dist-packages/sklearn/metrics/_classification.py:1248: UndefinedMetricWarning: Jaccard is ill-defined and being set to 0.0 due to no true or predicted samples. Use `zero_division` parameter to control this behavior.\n",
      "  _warn_prf(average, modifier, msg_start, len(result))\n",
      "/usr/local/lib/python3.8/dist-packages/sklearn/metrics/_classification.py:1248: UndefinedMetricWarning: Jaccard is ill-defined and being set to 0.0 due to no true or predicted samples. Use `zero_division` parameter to control this behavior.\n",
      "  _warn_prf(average, modifier, msg_start, len(result))\n",
      "/usr/local/lib/python3.8/dist-packages/sklearn/metrics/_classification.py:1248: UndefinedMetricWarning: Jaccard is ill-defined and being set to 0.0 due to no true or predicted samples. Use `zero_division` parameter to control this behavior.\n",
      "  _warn_prf(average, modifier, msg_start, len(result))\n",
      "/usr/local/lib/python3.8/dist-packages/sklearn/metrics/_classification.py:1248: UndefinedMetricWarning: Jaccard is ill-defined and being set to 0.0 due to no true or predicted samples. Use `zero_division` parameter to control this behavior.\n",
      "  _warn_prf(average, modifier, msg_start, len(result))\n",
      "/usr/local/lib/python3.8/dist-packages/sklearn/metrics/_classification.py:1248: UndefinedMetricWarning: Jaccard is ill-defined and being set to 0.0 due to no true or predicted samples. Use `zero_division` parameter to control this behavior.\n",
      "  _warn_prf(average, modifier, msg_start, len(result))\n",
      "/usr/local/lib/python3.8/dist-packages/sklearn/metrics/_classification.py:1248: UndefinedMetricWarning: Jaccard is ill-defined and being set to 0.0 due to no true or predicted samples. Use `zero_division` parameter to control this behavior.\n",
      "  _warn_prf(average, modifier, msg_start, len(result))\n",
      "/usr/local/lib/python3.8/dist-packages/sklearn/metrics/_classification.py:1248: UndefinedMetricWarning: Jaccard is ill-defined and being set to 0.0 due to no true or predicted samples. Use `zero_division` parameter to control this behavior.\n",
      "  _warn_prf(average, modifier, msg_start, len(result))\n",
      "/usr/local/lib/python3.8/dist-packages/sklearn/metrics/_classification.py:1248: UndefinedMetricWarning: Jaccard is ill-defined and being set to 0.0 due to no true or predicted samples. Use `zero_division` parameter to control this behavior.\n",
      "  _warn_prf(average, modifier, msg_start, len(result))\n",
      " 70%|█████████████████████████████████████████████████████████████████████████████████████████████████████████████████████████▊                                                    | 70/100 [22:00<08:48, 17.63s/it]"
     ]
    },
    {
     "name": "stdout",
     "output_type": "stream",
     "text": [
      "mIOU given by: 0.3489074211121302\n",
      "[0.2962460688548717, 0.30391794630616453, 0.6524141724191902, 0.5080124211021342, 0.2546997191227881, 0.3242468249175954, 0.48479004956123334, 0.5467472828283928, 0.25181696633670264, 0.3229743586259389, 0.1806640666147666, 0.31367196910536943, 0.3036725050839316, 0.3747066545714159, 0.3572061277044272, 0.40287405829159245, 0.36737397224146057, 0.6353939891926504, 0.3761727240153292, 0.6351422203946238, 0.560441796027732, 0.5107469284348097, 0.20716565277126062, 0.4451154906483967, 0.4253084700905224, 0.2904131535243195, 0.5909509165572139, 0.31562296796897144, 0.5209770018455523, 0.4975059521240728, 0.21717606360205344, 0.4317293892832681, 0.3238602108257816, 0.6895299081971155, 0.3690091317136916, 0.2874771060219107, 0.2929327783651647, 0.5474389781053786, 0.40384188640793345, 0.2342361781598103, 0.5722761486238237, 0.30507412415321594, 0.4203328130750395, 0.4809527584990411, 0.6434470726429078, 0.5296326167966681, 0.6076567618895583, 0.3910390506826292, 0.609951648290316, 0.2927773618419275, 0.18319431809882947, 0.49713841561146815, 0.34176421620261693, 0.37245366506176564, 0.19209016490995237, 0.33005224730456395, 0.3384947301116933, 0.40968403591397695, 0.4928449811285595, 0.4932067019612236, 0.30958784523423216, 0.49959529400325586, 0.5886512915627848, 0.2572291289098335, 0.24310835573672146, 0.3188433077696804, 0.5630492219991903, 0.23276077591441402, 0.4137847487931866, 0.3489074211121302]\n"
     ]
    },
    {
     "name": "stderr",
     "output_type": "stream",
     "text": [
      "/usr/local/lib/python3.8/dist-packages/sklearn/metrics/_classification.py:1248: UndefinedMetricWarning: Jaccard is ill-defined and being set to 0.0 due to no true or predicted samples. Use `zero_division` parameter to control this behavior.\n",
      "  _warn_prf(average, modifier, msg_start, len(result))\n",
      "/usr/local/lib/python3.8/dist-packages/sklearn/metrics/_classification.py:1248: UndefinedMetricWarning: Jaccard is ill-defined and being set to 0.0 due to no true or predicted samples. Use `zero_division` parameter to control this behavior.\n",
      "  _warn_prf(average, modifier, msg_start, len(result))\n",
      "/usr/local/lib/python3.8/dist-packages/sklearn/metrics/_classification.py:1248: UndefinedMetricWarning: Jaccard is ill-defined and being set to 0.0 due to no true or predicted samples. Use `zero_division` parameter to control this behavior.\n",
      "  _warn_prf(average, modifier, msg_start, len(result))\n",
      "/usr/local/lib/python3.8/dist-packages/sklearn/metrics/_classification.py:1248: UndefinedMetricWarning: Jaccard is ill-defined and being set to 0.0 due to no true or predicted samples. Use `zero_division` parameter to control this behavior.\n",
      "  _warn_prf(average, modifier, msg_start, len(result))\n",
      "/usr/local/lib/python3.8/dist-packages/sklearn/metrics/_classification.py:1248: UndefinedMetricWarning: Jaccard is ill-defined and being set to 0.0 due to no true or predicted samples. Use `zero_division` parameter to control this behavior.\n",
      "  _warn_prf(average, modifier, msg_start, len(result))\n",
      "/usr/local/lib/python3.8/dist-packages/sklearn/metrics/_classification.py:1248: UndefinedMetricWarning: Jaccard is ill-defined and being set to 0.0 due to no true or predicted samples. Use `zero_division` parameter to control this behavior.\n",
      "  _warn_prf(average, modifier, msg_start, len(result))\n",
      "/usr/local/lib/python3.8/dist-packages/sklearn/metrics/_classification.py:1248: UndefinedMetricWarning: Jaccard is ill-defined and being set to 0.0 due to no true or predicted samples. Use `zero_division` parameter to control this behavior.\n",
      "  _warn_prf(average, modifier, msg_start, len(result))\n",
      "/usr/local/lib/python3.8/dist-packages/sklearn/metrics/_classification.py:1248: UndefinedMetricWarning: Jaccard is ill-defined and being set to 0.0 due to no true or predicted samples. Use `zero_division` parameter to control this behavior.\n",
      "  _warn_prf(average, modifier, msg_start, len(result))\n",
      "/usr/local/lib/python3.8/dist-packages/sklearn/metrics/_classification.py:1248: UndefinedMetricWarning: Jaccard is ill-defined and being set to 0.0 due to no true or predicted samples. Use `zero_division` parameter to control this behavior.\n",
      "  _warn_prf(average, modifier, msg_start, len(result))\n",
      " 71%|███████████████████████████████████████████████████████████████████████████████████████████████████████████████████████████▌                                                  | 71/100 [22:17<08:30, 17.61s/it]"
     ]
    },
    {
     "name": "stdout",
     "output_type": "stream",
     "text": [
      "mIOU given by: 0.6493388201758812\n",
      "[0.2962460688548717, 0.30391794630616453, 0.6524141724191902, 0.5080124211021342, 0.2546997191227881, 0.3242468249175954, 0.48479004956123334, 0.5467472828283928, 0.25181696633670264, 0.3229743586259389, 0.1806640666147666, 0.31367196910536943, 0.3036725050839316, 0.3747066545714159, 0.3572061277044272, 0.40287405829159245, 0.36737397224146057, 0.6353939891926504, 0.3761727240153292, 0.6351422203946238, 0.560441796027732, 0.5107469284348097, 0.20716565277126062, 0.4451154906483967, 0.4253084700905224, 0.2904131535243195, 0.5909509165572139, 0.31562296796897144, 0.5209770018455523, 0.4975059521240728, 0.21717606360205344, 0.4317293892832681, 0.3238602108257816, 0.6895299081971155, 0.3690091317136916, 0.2874771060219107, 0.2929327783651647, 0.5474389781053786, 0.40384188640793345, 0.2342361781598103, 0.5722761486238237, 0.30507412415321594, 0.4203328130750395, 0.4809527584990411, 0.6434470726429078, 0.5296326167966681, 0.6076567618895583, 0.3910390506826292, 0.609951648290316, 0.2927773618419275, 0.18319431809882947, 0.49713841561146815, 0.34176421620261693, 0.37245366506176564, 0.19209016490995237, 0.33005224730456395, 0.3384947301116933, 0.40968403591397695, 0.4928449811285595, 0.4932067019612236, 0.30958784523423216, 0.49959529400325586, 0.5886512915627848, 0.2572291289098335, 0.24310835573672146, 0.3188433077696804, 0.5630492219991903, 0.23276077591441402, 0.4137847487931866, 0.3489074211121302, 0.6493388201758812]\n"
     ]
    },
    {
     "name": "stderr",
     "output_type": "stream",
     "text": [
      "/usr/local/lib/python3.8/dist-packages/sklearn/metrics/_classification.py:1248: UndefinedMetricWarning: Jaccard is ill-defined and being set to 0.0 due to no true or predicted samples. Use `zero_division` parameter to control this behavior.\n",
      "  _warn_prf(average, modifier, msg_start, len(result))\n",
      "/usr/local/lib/python3.8/dist-packages/sklearn/metrics/_classification.py:1248: UndefinedMetricWarning: Jaccard is ill-defined and being set to 0.0 due to no true or predicted samples. Use `zero_division` parameter to control this behavior.\n",
      "  _warn_prf(average, modifier, msg_start, len(result))\n",
      "/usr/local/lib/python3.8/dist-packages/sklearn/metrics/_classification.py:1248: UndefinedMetricWarning: Jaccard is ill-defined and being set to 0.0 due to no true or predicted samples. Use `zero_division` parameter to control this behavior.\n",
      "  _warn_prf(average, modifier, msg_start, len(result))\n",
      "/usr/local/lib/python3.8/dist-packages/sklearn/metrics/_classification.py:1248: UndefinedMetricWarning: Jaccard is ill-defined and being set to 0.0 due to no true or predicted samples. Use `zero_division` parameter to control this behavior.\n",
      "  _warn_prf(average, modifier, msg_start, len(result))\n",
      "/usr/local/lib/python3.8/dist-packages/sklearn/metrics/_classification.py:1248: UndefinedMetricWarning: Jaccard is ill-defined and being set to 0.0 due to no true or predicted samples. Use `zero_division` parameter to control this behavior.\n",
      "  _warn_prf(average, modifier, msg_start, len(result))\n",
      "/usr/local/lib/python3.8/dist-packages/sklearn/metrics/_classification.py:1248: UndefinedMetricWarning: Jaccard is ill-defined and being set to 0.0 due to no true or predicted samples. Use `zero_division` parameter to control this behavior.\n",
      "  _warn_prf(average, modifier, msg_start, len(result))\n",
      " 72%|█████████████████████████████████████████████████████████████████████████████████████████████████████████████████████████████▎                                                | 72/100 [22:34<08:09, 17.48s/it]"
     ]
    },
    {
     "name": "stdout",
     "output_type": "stream",
     "text": [
      "mIOU given by: 0.3443108298594106\n",
      "[0.2962460688548717, 0.30391794630616453, 0.6524141724191902, 0.5080124211021342, 0.2546997191227881, 0.3242468249175954, 0.48479004956123334, 0.5467472828283928, 0.25181696633670264, 0.3229743586259389, 0.1806640666147666, 0.31367196910536943, 0.3036725050839316, 0.3747066545714159, 0.3572061277044272, 0.40287405829159245, 0.36737397224146057, 0.6353939891926504, 0.3761727240153292, 0.6351422203946238, 0.560441796027732, 0.5107469284348097, 0.20716565277126062, 0.4451154906483967, 0.4253084700905224, 0.2904131535243195, 0.5909509165572139, 0.31562296796897144, 0.5209770018455523, 0.4975059521240728, 0.21717606360205344, 0.4317293892832681, 0.3238602108257816, 0.6895299081971155, 0.3690091317136916, 0.2874771060219107, 0.2929327783651647, 0.5474389781053786, 0.40384188640793345, 0.2342361781598103, 0.5722761486238237, 0.30507412415321594, 0.4203328130750395, 0.4809527584990411, 0.6434470726429078, 0.5296326167966681, 0.6076567618895583, 0.3910390506826292, 0.609951648290316, 0.2927773618419275, 0.18319431809882947, 0.49713841561146815, 0.34176421620261693, 0.37245366506176564, 0.19209016490995237, 0.33005224730456395, 0.3384947301116933, 0.40968403591397695, 0.4928449811285595, 0.4932067019612236, 0.30958784523423216, 0.49959529400325586, 0.5886512915627848, 0.2572291289098335, 0.24310835573672146, 0.3188433077696804, 0.5630492219991903, 0.23276077591441402, 0.4137847487931866, 0.3489074211121302, 0.6493388201758812, 0.3443108298594106]\n"
     ]
    },
    {
     "name": "stderr",
     "output_type": "stream",
     "text": [
      "/usr/local/lib/python3.8/dist-packages/sklearn/metrics/_classification.py:1248: UndefinedMetricWarning: Jaccard is ill-defined and being set to 0.0 due to no true or predicted samples. Use `zero_division` parameter to control this behavior.\n",
      "  _warn_prf(average, modifier, msg_start, len(result))\n",
      "/usr/local/lib/python3.8/dist-packages/sklearn/metrics/_classification.py:1248: UndefinedMetricWarning: Jaccard is ill-defined and being set to 0.0 due to no true or predicted samples. Use `zero_division` parameter to control this behavior.\n",
      "  _warn_prf(average, modifier, msg_start, len(result))\n",
      "/usr/local/lib/python3.8/dist-packages/sklearn/metrics/_classification.py:1248: UndefinedMetricWarning: Jaccard is ill-defined and being set to 0.0 due to no true or predicted samples. Use `zero_division` parameter to control this behavior.\n",
      "  _warn_prf(average, modifier, msg_start, len(result))\n",
      "/usr/local/lib/python3.8/dist-packages/sklearn/metrics/_classification.py:1248: UndefinedMetricWarning: Jaccard is ill-defined and being set to 0.0 due to no true or predicted samples. Use `zero_division` parameter to control this behavior.\n",
      "  _warn_prf(average, modifier, msg_start, len(result))\n",
      "/usr/local/lib/python3.8/dist-packages/sklearn/metrics/_classification.py:1248: UndefinedMetricWarning: Jaccard is ill-defined and being set to 0.0 due to no true or predicted samples. Use `zero_division` parameter to control this behavior.\n",
      "  _warn_prf(average, modifier, msg_start, len(result))\n",
      "/usr/local/lib/python3.8/dist-packages/sklearn/metrics/_classification.py:1248: UndefinedMetricWarning: Jaccard is ill-defined and being set to 0.0 due to no true or predicted samples. Use `zero_division` parameter to control this behavior.\n",
      "  _warn_prf(average, modifier, msg_start, len(result))\n",
      "/usr/local/lib/python3.8/dist-packages/sklearn/metrics/_classification.py:1248: UndefinedMetricWarning: Jaccard is ill-defined and being set to 0.0 due to no true or predicted samples. Use `zero_division` parameter to control this behavior.\n",
      "  _warn_prf(average, modifier, msg_start, len(result))\n",
      "/usr/local/lib/python3.8/dist-packages/sklearn/metrics/_classification.py:1248: UndefinedMetricWarning: Jaccard is ill-defined and being set to 0.0 due to no true or predicted samples. Use `zero_division` parameter to control this behavior.\n",
      "  _warn_prf(average, modifier, msg_start, len(result))\n",
      "/usr/local/lib/python3.8/dist-packages/sklearn/metrics/_classification.py:1248: UndefinedMetricWarning: Jaccard is ill-defined and being set to 0.0 due to no true or predicted samples. Use `zero_division` parameter to control this behavior.\n",
      "  _warn_prf(average, modifier, msg_start, len(result))\n",
      "/usr/local/lib/python3.8/dist-packages/sklearn/metrics/_classification.py:1248: UndefinedMetricWarning: Jaccard is ill-defined and being set to 0.0 due to no true or predicted samples. Use `zero_division` parameter to control this behavior.\n",
      "  _warn_prf(average, modifier, msg_start, len(result))\n",
      "/usr/local/lib/python3.8/dist-packages/sklearn/metrics/_classification.py:1248: UndefinedMetricWarning: Jaccard is ill-defined and being set to 0.0 due to no true or predicted samples. Use `zero_division` parameter to control this behavior.\n",
      "  _warn_prf(average, modifier, msg_start, len(result))\n",
      "/usr/local/lib/python3.8/dist-packages/sklearn/metrics/_classification.py:1248: UndefinedMetricWarning: Jaccard is ill-defined and being set to 0.0 due to no true or predicted samples. Use `zero_division` parameter to control this behavior.\n",
      "  _warn_prf(average, modifier, msg_start, len(result))\n",
      " 73%|███████████████████████████████████████████████████████████████████████████████████████████████████████████████████████████████                                               | 73/100 [22:50<07:35, 16.86s/it]"
     ]
    },
    {
     "name": "stdout",
     "output_type": "stream",
     "text": [
      "mIOU given by: 0.5794664631258206\n",
      "[0.2962460688548717, 0.30391794630616453, 0.6524141724191902, 0.5080124211021342, 0.2546997191227881, 0.3242468249175954, 0.48479004956123334, 0.5467472828283928, 0.25181696633670264, 0.3229743586259389, 0.1806640666147666, 0.31367196910536943, 0.3036725050839316, 0.3747066545714159, 0.3572061277044272, 0.40287405829159245, 0.36737397224146057, 0.6353939891926504, 0.3761727240153292, 0.6351422203946238, 0.560441796027732, 0.5107469284348097, 0.20716565277126062, 0.4451154906483967, 0.4253084700905224, 0.2904131535243195, 0.5909509165572139, 0.31562296796897144, 0.5209770018455523, 0.4975059521240728, 0.21717606360205344, 0.4317293892832681, 0.3238602108257816, 0.6895299081971155, 0.3690091317136916, 0.2874771060219107, 0.2929327783651647, 0.5474389781053786, 0.40384188640793345, 0.2342361781598103, 0.5722761486238237, 0.30507412415321594, 0.4203328130750395, 0.4809527584990411, 0.6434470726429078, 0.5296326167966681, 0.6076567618895583, 0.3910390506826292, 0.609951648290316, 0.2927773618419275, 0.18319431809882947, 0.49713841561146815, 0.34176421620261693, 0.37245366506176564, 0.19209016490995237, 0.33005224730456395, 0.3384947301116933, 0.40968403591397695, 0.4928449811285595, 0.4932067019612236, 0.30958784523423216, 0.49959529400325586, 0.5886512915627848, 0.2572291289098335, 0.24310835573672146, 0.3188433077696804, 0.5630492219991903, 0.23276077591441402, 0.4137847487931866, 0.3489074211121302, 0.6493388201758812, 0.3443108298594106, 0.5794664631258206]\n"
     ]
    },
    {
     "name": "stderr",
     "output_type": "stream",
     "text": [
      "/usr/local/lib/python3.8/dist-packages/sklearn/metrics/_classification.py:1248: UndefinedMetricWarning: Jaccard is ill-defined and being set to 0.0 due to no true or predicted samples. Use `zero_division` parameter to control this behavior.\n",
      "  _warn_prf(average, modifier, msg_start, len(result))\n",
      "/usr/local/lib/python3.8/dist-packages/sklearn/metrics/_classification.py:1248: UndefinedMetricWarning: Jaccard is ill-defined and being set to 0.0 due to no true or predicted samples. Use `zero_division` parameter to control this behavior.\n",
      "  _warn_prf(average, modifier, msg_start, len(result))\n",
      "/usr/local/lib/python3.8/dist-packages/sklearn/metrics/_classification.py:1248: UndefinedMetricWarning: Jaccard is ill-defined and being set to 0.0 due to no true or predicted samples. Use `zero_division` parameter to control this behavior.\n",
      "  _warn_prf(average, modifier, msg_start, len(result))\n",
      "/usr/local/lib/python3.8/dist-packages/sklearn/metrics/_classification.py:1248: UndefinedMetricWarning: Jaccard is ill-defined and being set to 0.0 due to no true or predicted samples. Use `zero_division` parameter to control this behavior.\n",
      "  _warn_prf(average, modifier, msg_start, len(result))\n",
      "/usr/local/lib/python3.8/dist-packages/sklearn/metrics/_classification.py:1248: UndefinedMetricWarning: Jaccard is ill-defined and being set to 0.0 due to no true or predicted samples. Use `zero_division` parameter to control this behavior.\n",
      "  _warn_prf(average, modifier, msg_start, len(result))\n",
      "/usr/local/lib/python3.8/dist-packages/sklearn/metrics/_classification.py:1248: UndefinedMetricWarning: Jaccard is ill-defined and being set to 0.0 due to no true or predicted samples. Use `zero_division` parameter to control this behavior.\n",
      "  _warn_prf(average, modifier, msg_start, len(result))\n",
      "/usr/local/lib/python3.8/dist-packages/sklearn/metrics/_classification.py:1248: UndefinedMetricWarning: Jaccard is ill-defined and being set to 0.0 due to no true or predicted samples. Use `zero_division` parameter to control this behavior.\n",
      "  _warn_prf(average, modifier, msg_start, len(result))\n",
      "/usr/local/lib/python3.8/dist-packages/sklearn/metrics/_classification.py:1248: UndefinedMetricWarning: Jaccard is ill-defined and being set to 0.0 due to no true or predicted samples. Use `zero_division` parameter to control this behavior.\n",
      "  _warn_prf(average, modifier, msg_start, len(result))\n",
      "/usr/local/lib/python3.8/dist-packages/sklearn/metrics/_classification.py:1248: UndefinedMetricWarning: Jaccard is ill-defined and being set to 0.0 due to no true or predicted samples. Use `zero_division` parameter to control this behavior.\n",
      "  _warn_prf(average, modifier, msg_start, len(result))\n",
      "/usr/local/lib/python3.8/dist-packages/sklearn/metrics/_classification.py:1248: UndefinedMetricWarning: Jaccard is ill-defined and being set to 0.0 due to no true or predicted samples. Use `zero_division` parameter to control this behavior.\n",
      "  _warn_prf(average, modifier, msg_start, len(result))\n",
      "/usr/local/lib/python3.8/dist-packages/sklearn/metrics/_classification.py:1248: UndefinedMetricWarning: Jaccard is ill-defined and being set to 0.0 due to no true or predicted samples. Use `zero_division` parameter to control this behavior.\n",
      "  _warn_prf(average, modifier, msg_start, len(result))\n",
      " 74%|████████████████████████████████████████████████████████████████████████████████████████████████████████████████████████████████▊                                             | 74/100 [23:05<07:07, 16.45s/it]"
     ]
    },
    {
     "name": "stdout",
     "output_type": "stream",
     "text": [
      "mIOU given by: 0.6982417775139159\n",
      "[0.2962460688548717, 0.30391794630616453, 0.6524141724191902, 0.5080124211021342, 0.2546997191227881, 0.3242468249175954, 0.48479004956123334, 0.5467472828283928, 0.25181696633670264, 0.3229743586259389, 0.1806640666147666, 0.31367196910536943, 0.3036725050839316, 0.3747066545714159, 0.3572061277044272, 0.40287405829159245, 0.36737397224146057, 0.6353939891926504, 0.3761727240153292, 0.6351422203946238, 0.560441796027732, 0.5107469284348097, 0.20716565277126062, 0.4451154906483967, 0.4253084700905224, 0.2904131535243195, 0.5909509165572139, 0.31562296796897144, 0.5209770018455523, 0.4975059521240728, 0.21717606360205344, 0.4317293892832681, 0.3238602108257816, 0.6895299081971155, 0.3690091317136916, 0.2874771060219107, 0.2929327783651647, 0.5474389781053786, 0.40384188640793345, 0.2342361781598103, 0.5722761486238237, 0.30507412415321594, 0.4203328130750395, 0.4809527584990411, 0.6434470726429078, 0.5296326167966681, 0.6076567618895583, 0.3910390506826292, 0.609951648290316, 0.2927773618419275, 0.18319431809882947, 0.49713841561146815, 0.34176421620261693, 0.37245366506176564, 0.19209016490995237, 0.33005224730456395, 0.3384947301116933, 0.40968403591397695, 0.4928449811285595, 0.4932067019612236, 0.30958784523423216, 0.49959529400325586, 0.5886512915627848, 0.2572291289098335, 0.24310835573672146, 0.3188433077696804, 0.5630492219991903, 0.23276077591441402, 0.4137847487931866, 0.3489074211121302, 0.6493388201758812, 0.3443108298594106, 0.5794664631258206, 0.6982417775139159]\n"
     ]
    },
    {
     "name": "stderr",
     "output_type": "stream",
     "text": [
      "/usr/local/lib/python3.8/dist-packages/sklearn/metrics/_classification.py:1248: UndefinedMetricWarning: Jaccard is ill-defined and being set to 0.0 due to no true or predicted samples. Use `zero_division` parameter to control this behavior.\n",
      "  _warn_prf(average, modifier, msg_start, len(result))\n",
      "/usr/local/lib/python3.8/dist-packages/sklearn/metrics/_classification.py:1248: UndefinedMetricWarning: Jaccard is ill-defined and being set to 0.0 due to no true or predicted samples. Use `zero_division` parameter to control this behavior.\n",
      "  _warn_prf(average, modifier, msg_start, len(result))\n",
      "/usr/local/lib/python3.8/dist-packages/sklearn/metrics/_classification.py:1248: UndefinedMetricWarning: Jaccard is ill-defined and being set to 0.0 due to no true or predicted samples. Use `zero_division` parameter to control this behavior.\n",
      "  _warn_prf(average, modifier, msg_start, len(result))\n",
      "/usr/local/lib/python3.8/dist-packages/sklearn/metrics/_classification.py:1248: UndefinedMetricWarning: Jaccard is ill-defined and being set to 0.0 due to no true or predicted samples. Use `zero_division` parameter to control this behavior.\n",
      "  _warn_prf(average, modifier, msg_start, len(result))\n",
      "/usr/local/lib/python3.8/dist-packages/sklearn/metrics/_classification.py:1248: UndefinedMetricWarning: Jaccard is ill-defined and being set to 0.0 due to no true or predicted samples. Use `zero_division` parameter to control this behavior.\n",
      "  _warn_prf(average, modifier, msg_start, len(result))\n",
      "/usr/local/lib/python3.8/dist-packages/sklearn/metrics/_classification.py:1248: UndefinedMetricWarning: Jaccard is ill-defined and being set to 0.0 due to no true or predicted samples. Use `zero_division` parameter to control this behavior.\n",
      "  _warn_prf(average, modifier, msg_start, len(result))\n",
      "/usr/local/lib/python3.8/dist-packages/sklearn/metrics/_classification.py:1248: UndefinedMetricWarning: Jaccard is ill-defined and being set to 0.0 due to no true or predicted samples. Use `zero_division` parameter to control this behavior.\n",
      "  _warn_prf(average, modifier, msg_start, len(result))\n",
      " 75%|██████████████████████████████████████████████████████████████████████████████████████████████████████████████████████████████████▌                                           | 75/100 [23:19<06:33, 15.75s/it]"
     ]
    },
    {
     "name": "stdout",
     "output_type": "stream",
     "text": [
      "mIOU given by: 0.4302399721903458\n",
      "[0.2962460688548717, 0.30391794630616453, 0.6524141724191902, 0.5080124211021342, 0.2546997191227881, 0.3242468249175954, 0.48479004956123334, 0.5467472828283928, 0.25181696633670264, 0.3229743586259389, 0.1806640666147666, 0.31367196910536943, 0.3036725050839316, 0.3747066545714159, 0.3572061277044272, 0.40287405829159245, 0.36737397224146057, 0.6353939891926504, 0.3761727240153292, 0.6351422203946238, 0.560441796027732, 0.5107469284348097, 0.20716565277126062, 0.4451154906483967, 0.4253084700905224, 0.2904131535243195, 0.5909509165572139, 0.31562296796897144, 0.5209770018455523, 0.4975059521240728, 0.21717606360205344, 0.4317293892832681, 0.3238602108257816, 0.6895299081971155, 0.3690091317136916, 0.2874771060219107, 0.2929327783651647, 0.5474389781053786, 0.40384188640793345, 0.2342361781598103, 0.5722761486238237, 0.30507412415321594, 0.4203328130750395, 0.4809527584990411, 0.6434470726429078, 0.5296326167966681, 0.6076567618895583, 0.3910390506826292, 0.609951648290316, 0.2927773618419275, 0.18319431809882947, 0.49713841561146815, 0.34176421620261693, 0.37245366506176564, 0.19209016490995237, 0.33005224730456395, 0.3384947301116933, 0.40968403591397695, 0.4928449811285595, 0.4932067019612236, 0.30958784523423216, 0.49959529400325586, 0.5886512915627848, 0.2572291289098335, 0.24310835573672146, 0.3188433077696804, 0.5630492219991903, 0.23276077591441402, 0.4137847487931866, 0.3489074211121302, 0.6493388201758812, 0.3443108298594106, 0.5794664631258206, 0.6982417775139159, 0.4302399721903458]\n"
     ]
    },
    {
     "name": "stderr",
     "output_type": "stream",
     "text": [
      "/usr/local/lib/python3.8/dist-packages/sklearn/metrics/_classification.py:1248: UndefinedMetricWarning: Jaccard is ill-defined and being set to 0.0 due to no true or predicted samples. Use `zero_division` parameter to control this behavior.\n",
      "  _warn_prf(average, modifier, msg_start, len(result))\n",
      "/usr/local/lib/python3.8/dist-packages/sklearn/metrics/_classification.py:1248: UndefinedMetricWarning: Jaccard is ill-defined and being set to 0.0 due to no true or predicted samples. Use `zero_division` parameter to control this behavior.\n",
      "  _warn_prf(average, modifier, msg_start, len(result))\n",
      "/usr/local/lib/python3.8/dist-packages/sklearn/metrics/_classification.py:1248: UndefinedMetricWarning: Jaccard is ill-defined and being set to 0.0 due to no true or predicted samples. Use `zero_division` parameter to control this behavior.\n",
      "  _warn_prf(average, modifier, msg_start, len(result))\n",
      "/usr/local/lib/python3.8/dist-packages/sklearn/metrics/_classification.py:1248: UndefinedMetricWarning: Jaccard is ill-defined and being set to 0.0 due to no true or predicted samples. Use `zero_division` parameter to control this behavior.\n",
      "  _warn_prf(average, modifier, msg_start, len(result))\n",
      "/usr/local/lib/python3.8/dist-packages/sklearn/metrics/_classification.py:1248: UndefinedMetricWarning: Jaccard is ill-defined and being set to 0.0 due to no true or predicted samples. Use `zero_division` parameter to control this behavior.\n",
      "  _warn_prf(average, modifier, msg_start, len(result))\n",
      "/usr/local/lib/python3.8/dist-packages/sklearn/metrics/_classification.py:1248: UndefinedMetricWarning: Jaccard is ill-defined and being set to 0.0 due to no true or predicted samples. Use `zero_division` parameter to control this behavior.\n",
      "  _warn_prf(average, modifier, msg_start, len(result))\n",
      "/usr/local/lib/python3.8/dist-packages/sklearn/metrics/_classification.py:1248: UndefinedMetricWarning: Jaccard is ill-defined and being set to 0.0 due to no true or predicted samples. Use `zero_division` parameter to control this behavior.\n",
      "  _warn_prf(average, modifier, msg_start, len(result))\n",
      " 76%|████████████████████████████████████████████████████████████████████████████████████████████████████████████████████████████████████▏                                         | 76/100 [23:37<06:28, 16.17s/it]"
     ]
    },
    {
     "name": "stdout",
     "output_type": "stream",
     "text": [
      "mIOU given by: 0.3453419102224347\n",
      "[0.2962460688548717, 0.30391794630616453, 0.6524141724191902, 0.5080124211021342, 0.2546997191227881, 0.3242468249175954, 0.48479004956123334, 0.5467472828283928, 0.25181696633670264, 0.3229743586259389, 0.1806640666147666, 0.31367196910536943, 0.3036725050839316, 0.3747066545714159, 0.3572061277044272, 0.40287405829159245, 0.36737397224146057, 0.6353939891926504, 0.3761727240153292, 0.6351422203946238, 0.560441796027732, 0.5107469284348097, 0.20716565277126062, 0.4451154906483967, 0.4253084700905224, 0.2904131535243195, 0.5909509165572139, 0.31562296796897144, 0.5209770018455523, 0.4975059521240728, 0.21717606360205344, 0.4317293892832681, 0.3238602108257816, 0.6895299081971155, 0.3690091317136916, 0.2874771060219107, 0.2929327783651647, 0.5474389781053786, 0.40384188640793345, 0.2342361781598103, 0.5722761486238237, 0.30507412415321594, 0.4203328130750395, 0.4809527584990411, 0.6434470726429078, 0.5296326167966681, 0.6076567618895583, 0.3910390506826292, 0.609951648290316, 0.2927773618419275, 0.18319431809882947, 0.49713841561146815, 0.34176421620261693, 0.37245366506176564, 0.19209016490995237, 0.33005224730456395, 0.3384947301116933, 0.40968403591397695, 0.4928449811285595, 0.4932067019612236, 0.30958784523423216, 0.49959529400325586, 0.5886512915627848, 0.2572291289098335, 0.24310835573672146, 0.3188433077696804, 0.5630492219991903, 0.23276077591441402, 0.4137847487931866, 0.3489074211121302, 0.6493388201758812, 0.3443108298594106, 0.5794664631258206, 0.6982417775139159, 0.4302399721903458, 0.3453419102224347]\n"
     ]
    },
    {
     "name": "stderr",
     "output_type": "stream",
     "text": [
      "/usr/local/lib/python3.8/dist-packages/sklearn/metrics/_classification.py:1248: UndefinedMetricWarning: Jaccard is ill-defined and being set to 0.0 due to no true or predicted samples. Use `zero_division` parameter to control this behavior.\n",
      "  _warn_prf(average, modifier, msg_start, len(result))\n",
      "/usr/local/lib/python3.8/dist-packages/sklearn/metrics/_classification.py:1248: UndefinedMetricWarning: Jaccard is ill-defined and being set to 0.0 due to no true or predicted samples. Use `zero_division` parameter to control this behavior.\n",
      "  _warn_prf(average, modifier, msg_start, len(result))\n",
      "/usr/local/lib/python3.8/dist-packages/sklearn/metrics/_classification.py:1248: UndefinedMetricWarning: Jaccard is ill-defined and being set to 0.0 due to no true or predicted samples. Use `zero_division` parameter to control this behavior.\n",
      "  _warn_prf(average, modifier, msg_start, len(result))\n",
      "/usr/local/lib/python3.8/dist-packages/sklearn/metrics/_classification.py:1248: UndefinedMetricWarning: Jaccard is ill-defined and being set to 0.0 due to no true or predicted samples. Use `zero_division` parameter to control this behavior.\n",
      "  _warn_prf(average, modifier, msg_start, len(result))\n",
      "/usr/local/lib/python3.8/dist-packages/sklearn/metrics/_classification.py:1248: UndefinedMetricWarning: Jaccard is ill-defined and being set to 0.0 due to no true or predicted samples. Use `zero_division` parameter to control this behavior.\n",
      "  _warn_prf(average, modifier, msg_start, len(result))\n",
      "/usr/local/lib/python3.8/dist-packages/sklearn/metrics/_classification.py:1248: UndefinedMetricWarning: Jaccard is ill-defined and being set to 0.0 due to no true or predicted samples. Use `zero_division` parameter to control this behavior.\n",
      "  _warn_prf(average, modifier, msg_start, len(result))\n",
      "/usr/local/lib/python3.8/dist-packages/sklearn/metrics/_classification.py:1248: UndefinedMetricWarning: Jaccard is ill-defined and being set to 0.0 due to no true or predicted samples. Use `zero_division` parameter to control this behavior.\n",
      "  _warn_prf(average, modifier, msg_start, len(result))\n",
      "/usr/local/lib/python3.8/dist-packages/sklearn/metrics/_classification.py:1248: UndefinedMetricWarning: Jaccard is ill-defined and being set to 0.0 due to no true or predicted samples. Use `zero_division` parameter to control this behavior.\n",
      "  _warn_prf(average, modifier, msg_start, len(result))\n",
      "/usr/local/lib/python3.8/dist-packages/sklearn/metrics/_classification.py:1248: UndefinedMetricWarning: Jaccard is ill-defined and being set to 0.0 due to no true or predicted samples. Use `zero_division` parameter to control this behavior.\n",
      "  _warn_prf(average, modifier, msg_start, len(result))\n",
      " 77%|█████████████████████████████████████████████████████████████████████████████████████████████████████████████████████████████████████▉                                        | 77/100 [23:52<06:09, 16.07s/it]"
     ]
    },
    {
     "name": "stdout",
     "output_type": "stream",
     "text": [
      "mIOU given by: 0.41945000398349075\n",
      "[0.2962460688548717, 0.30391794630616453, 0.6524141724191902, 0.5080124211021342, 0.2546997191227881, 0.3242468249175954, 0.48479004956123334, 0.5467472828283928, 0.25181696633670264, 0.3229743586259389, 0.1806640666147666, 0.31367196910536943, 0.3036725050839316, 0.3747066545714159, 0.3572061277044272, 0.40287405829159245, 0.36737397224146057, 0.6353939891926504, 0.3761727240153292, 0.6351422203946238, 0.560441796027732, 0.5107469284348097, 0.20716565277126062, 0.4451154906483967, 0.4253084700905224, 0.2904131535243195, 0.5909509165572139, 0.31562296796897144, 0.5209770018455523, 0.4975059521240728, 0.21717606360205344, 0.4317293892832681, 0.3238602108257816, 0.6895299081971155, 0.3690091317136916, 0.2874771060219107, 0.2929327783651647, 0.5474389781053786, 0.40384188640793345, 0.2342361781598103, 0.5722761486238237, 0.30507412415321594, 0.4203328130750395, 0.4809527584990411, 0.6434470726429078, 0.5296326167966681, 0.6076567618895583, 0.3910390506826292, 0.609951648290316, 0.2927773618419275, 0.18319431809882947, 0.49713841561146815, 0.34176421620261693, 0.37245366506176564, 0.19209016490995237, 0.33005224730456395, 0.3384947301116933, 0.40968403591397695, 0.4928449811285595, 0.4932067019612236, 0.30958784523423216, 0.49959529400325586, 0.5886512915627848, 0.2572291289098335, 0.24310835573672146, 0.3188433077696804, 0.5630492219991903, 0.23276077591441402, 0.4137847487931866, 0.3489074211121302, 0.6493388201758812, 0.3443108298594106, 0.5794664631258206, 0.6982417775139159, 0.4302399721903458, 0.3453419102224347, 0.41945000398349075]\n"
     ]
    },
    {
     "name": "stderr",
     "output_type": "stream",
     "text": [
      "/usr/local/lib/python3.8/dist-packages/sklearn/metrics/_classification.py:1248: UndefinedMetricWarning: Jaccard is ill-defined and being set to 0.0 due to no true or predicted samples. Use `zero_division` parameter to control this behavior.\n",
      "  _warn_prf(average, modifier, msg_start, len(result))\n",
      "/usr/local/lib/python3.8/dist-packages/sklearn/metrics/_classification.py:1248: UndefinedMetricWarning: Jaccard is ill-defined and being set to 0.0 due to no true or predicted samples. Use `zero_division` parameter to control this behavior.\n",
      "  _warn_prf(average, modifier, msg_start, len(result))\n",
      "/usr/local/lib/python3.8/dist-packages/sklearn/metrics/_classification.py:1248: UndefinedMetricWarning: Jaccard is ill-defined and being set to 0.0 due to no true or predicted samples. Use `zero_division` parameter to control this behavior.\n",
      "  _warn_prf(average, modifier, msg_start, len(result))\n",
      "/usr/local/lib/python3.8/dist-packages/sklearn/metrics/_classification.py:1248: UndefinedMetricWarning: Jaccard is ill-defined and being set to 0.0 due to no true or predicted samples. Use `zero_division` parameter to control this behavior.\n",
      "  _warn_prf(average, modifier, msg_start, len(result))\n",
      "/usr/local/lib/python3.8/dist-packages/sklearn/metrics/_classification.py:1248: UndefinedMetricWarning: Jaccard is ill-defined and being set to 0.0 due to no true or predicted samples. Use `zero_division` parameter to control this behavior.\n",
      "  _warn_prf(average, modifier, msg_start, len(result))\n",
      "/usr/local/lib/python3.8/dist-packages/sklearn/metrics/_classification.py:1248: UndefinedMetricWarning: Jaccard is ill-defined and being set to 0.0 due to no true or predicted samples. Use `zero_division` parameter to control this behavior.\n",
      "  _warn_prf(average, modifier, msg_start, len(result))\n",
      "/usr/local/lib/python3.8/dist-packages/sklearn/metrics/_classification.py:1248: UndefinedMetricWarning: Jaccard is ill-defined and being set to 0.0 due to no true or predicted samples. Use `zero_division` parameter to control this behavior.\n",
      "  _warn_prf(average, modifier, msg_start, len(result))\n",
      "/usr/local/lib/python3.8/dist-packages/sklearn/metrics/_classification.py:1248: UndefinedMetricWarning: Jaccard is ill-defined and being set to 0.0 due to no true or predicted samples. Use `zero_division` parameter to control this behavior.\n",
      "  _warn_prf(average, modifier, msg_start, len(result))\n",
      "/usr/local/lib/python3.8/dist-packages/sklearn/metrics/_classification.py:1248: UndefinedMetricWarning: Jaccard is ill-defined and being set to 0.0 due to no true or predicted samples. Use `zero_division` parameter to control this behavior.\n",
      "  _warn_prf(average, modifier, msg_start, len(result))\n",
      "/usr/local/lib/python3.8/dist-packages/sklearn/metrics/_classification.py:1248: UndefinedMetricWarning: Jaccard is ill-defined and being set to 0.0 due to no true or predicted samples. Use `zero_division` parameter to control this behavior.\n",
      "  _warn_prf(average, modifier, msg_start, len(result))\n",
      " 78%|███████████████████████████████████████████████████████████████████████████████████████████████████████████████████████████████████████▋                                      | 78/100 [24:08<05:52, 16.03s/it]"
     ]
    },
    {
     "name": "stdout",
     "output_type": "stream",
     "text": [
      "mIOU given by: 0.1987362830933742\n",
      "[0.2962460688548717, 0.30391794630616453, 0.6524141724191902, 0.5080124211021342, 0.2546997191227881, 0.3242468249175954, 0.48479004956123334, 0.5467472828283928, 0.25181696633670264, 0.3229743586259389, 0.1806640666147666, 0.31367196910536943, 0.3036725050839316, 0.3747066545714159, 0.3572061277044272, 0.40287405829159245, 0.36737397224146057, 0.6353939891926504, 0.3761727240153292, 0.6351422203946238, 0.560441796027732, 0.5107469284348097, 0.20716565277126062, 0.4451154906483967, 0.4253084700905224, 0.2904131535243195, 0.5909509165572139, 0.31562296796897144, 0.5209770018455523, 0.4975059521240728, 0.21717606360205344, 0.4317293892832681, 0.3238602108257816, 0.6895299081971155, 0.3690091317136916, 0.2874771060219107, 0.2929327783651647, 0.5474389781053786, 0.40384188640793345, 0.2342361781598103, 0.5722761486238237, 0.30507412415321594, 0.4203328130750395, 0.4809527584990411, 0.6434470726429078, 0.5296326167966681, 0.6076567618895583, 0.3910390506826292, 0.609951648290316, 0.2927773618419275, 0.18319431809882947, 0.49713841561146815, 0.34176421620261693, 0.37245366506176564, 0.19209016490995237, 0.33005224730456395, 0.3384947301116933, 0.40968403591397695, 0.4928449811285595, 0.4932067019612236, 0.30958784523423216, 0.49959529400325586, 0.5886512915627848, 0.2572291289098335, 0.24310835573672146, 0.3188433077696804, 0.5630492219991903, 0.23276077591441402, 0.4137847487931866, 0.3489074211121302, 0.6493388201758812, 0.3443108298594106, 0.5794664631258206, 0.6982417775139159, 0.4302399721903458, 0.3453419102224347, 0.41945000398349075, 0.1987362830933742]\n"
     ]
    },
    {
     "name": "stderr",
     "output_type": "stream",
     "text": [
      "/usr/local/lib/python3.8/dist-packages/sklearn/metrics/_classification.py:1248: UndefinedMetricWarning: Jaccard is ill-defined and being set to 0.0 due to no true or predicted samples. Use `zero_division` parameter to control this behavior.\n",
      "  _warn_prf(average, modifier, msg_start, len(result))\n",
      "/usr/local/lib/python3.8/dist-packages/sklearn/metrics/_classification.py:1248: UndefinedMetricWarning: Jaccard is ill-defined and being set to 0.0 due to no true or predicted samples. Use `zero_division` parameter to control this behavior.\n",
      "  _warn_prf(average, modifier, msg_start, len(result))\n",
      "/usr/local/lib/python3.8/dist-packages/sklearn/metrics/_classification.py:1248: UndefinedMetricWarning: Jaccard is ill-defined and being set to 0.0 due to no true or predicted samples. Use `zero_division` parameter to control this behavior.\n",
      "  _warn_prf(average, modifier, msg_start, len(result))\n",
      "/usr/local/lib/python3.8/dist-packages/sklearn/metrics/_classification.py:1248: UndefinedMetricWarning: Jaccard is ill-defined and being set to 0.0 due to no true or predicted samples. Use `zero_division` parameter to control this behavior.\n",
      "  _warn_prf(average, modifier, msg_start, len(result))\n",
      "/usr/local/lib/python3.8/dist-packages/sklearn/metrics/_classification.py:1248: UndefinedMetricWarning: Jaccard is ill-defined and being set to 0.0 due to no true or predicted samples. Use `zero_division` parameter to control this behavior.\n",
      "  _warn_prf(average, modifier, msg_start, len(result))\n",
      "/usr/local/lib/python3.8/dist-packages/sklearn/metrics/_classification.py:1248: UndefinedMetricWarning: Jaccard is ill-defined and being set to 0.0 due to no true or predicted samples. Use `zero_division` parameter to control this behavior.\n",
      "  _warn_prf(average, modifier, msg_start, len(result))\n",
      "/usr/local/lib/python3.8/dist-packages/sklearn/metrics/_classification.py:1248: UndefinedMetricWarning: Jaccard is ill-defined and being set to 0.0 due to no true or predicted samples. Use `zero_division` parameter to control this behavior.\n",
      "  _warn_prf(average, modifier, msg_start, len(result))\n",
      "/usr/local/lib/python3.8/dist-packages/sklearn/metrics/_classification.py:1248: UndefinedMetricWarning: Jaccard is ill-defined and being set to 0.0 due to no true or predicted samples. Use `zero_division` parameter to control this behavior.\n",
      "  _warn_prf(average, modifier, msg_start, len(result))\n",
      "/usr/local/lib/python3.8/dist-packages/sklearn/metrics/_classification.py:1248: UndefinedMetricWarning: Jaccard is ill-defined and being set to 0.0 due to no true or predicted samples. Use `zero_division` parameter to control this behavior.\n",
      "  _warn_prf(average, modifier, msg_start, len(result))\n",
      "/usr/local/lib/python3.8/dist-packages/sklearn/metrics/_classification.py:1248: UndefinedMetricWarning: Jaccard is ill-defined and being set to 0.0 due to no true or predicted samples. Use `zero_division` parameter to control this behavior.\n",
      "  _warn_prf(average, modifier, msg_start, len(result))\n",
      "/usr/local/lib/python3.8/dist-packages/sklearn/metrics/_classification.py:1248: UndefinedMetricWarning: Jaccard is ill-defined and being set to 0.0 due to no true or predicted samples. Use `zero_division` parameter to control this behavior.\n",
      "  _warn_prf(average, modifier, msg_start, len(result))\n",
      "/usr/local/lib/python3.8/dist-packages/sklearn/metrics/_classification.py:1248: UndefinedMetricWarning: Jaccard is ill-defined and being set to 0.0 due to no true or predicted samples. Use `zero_division` parameter to control this behavior.\n",
      "  _warn_prf(average, modifier, msg_start, len(result))\n",
      "/usr/local/lib/python3.8/dist-packages/sklearn/metrics/_classification.py:1248: UndefinedMetricWarning: Jaccard is ill-defined and being set to 0.0 due to no true or predicted samples. Use `zero_division` parameter to control this behavior.\n",
      "  _warn_prf(average, modifier, msg_start, len(result))\n",
      "/usr/local/lib/python3.8/dist-packages/sklearn/metrics/_classification.py:1248: UndefinedMetricWarning: Jaccard is ill-defined and being set to 0.0 due to no true or predicted samples. Use `zero_division` parameter to control this behavior.\n",
      "  _warn_prf(average, modifier, msg_start, len(result))\n",
      " 79%|█████████████████████████████████████████████████████████████████████████████████████████████████████████████████████████████████████████▍                                    | 79/100 [24:25<05:38, 16.10s/it]"
     ]
    },
    {
     "name": "stdout",
     "output_type": "stream",
     "text": [
      "mIOU given by: 0.747812781639543\n",
      "[0.2962460688548717, 0.30391794630616453, 0.6524141724191902, 0.5080124211021342, 0.2546997191227881, 0.3242468249175954, 0.48479004956123334, 0.5467472828283928, 0.25181696633670264, 0.3229743586259389, 0.1806640666147666, 0.31367196910536943, 0.3036725050839316, 0.3747066545714159, 0.3572061277044272, 0.40287405829159245, 0.36737397224146057, 0.6353939891926504, 0.3761727240153292, 0.6351422203946238, 0.560441796027732, 0.5107469284348097, 0.20716565277126062, 0.4451154906483967, 0.4253084700905224, 0.2904131535243195, 0.5909509165572139, 0.31562296796897144, 0.5209770018455523, 0.4975059521240728, 0.21717606360205344, 0.4317293892832681, 0.3238602108257816, 0.6895299081971155, 0.3690091317136916, 0.2874771060219107, 0.2929327783651647, 0.5474389781053786, 0.40384188640793345, 0.2342361781598103, 0.5722761486238237, 0.30507412415321594, 0.4203328130750395, 0.4809527584990411, 0.6434470726429078, 0.5296326167966681, 0.6076567618895583, 0.3910390506826292, 0.609951648290316, 0.2927773618419275, 0.18319431809882947, 0.49713841561146815, 0.34176421620261693, 0.37245366506176564, 0.19209016490995237, 0.33005224730456395, 0.3384947301116933, 0.40968403591397695, 0.4928449811285595, 0.4932067019612236, 0.30958784523423216, 0.49959529400325586, 0.5886512915627848, 0.2572291289098335, 0.24310835573672146, 0.3188433077696804, 0.5630492219991903, 0.23276077591441402, 0.4137847487931866, 0.3489074211121302, 0.6493388201758812, 0.3443108298594106, 0.5794664631258206, 0.6982417775139159, 0.4302399721903458, 0.3453419102224347, 0.41945000398349075, 0.1987362830933742, 0.747812781639543]\n"
     ]
    },
    {
     "name": "stderr",
     "output_type": "stream",
     "text": [
      "/usr/local/lib/python3.8/dist-packages/sklearn/metrics/_classification.py:1248: UndefinedMetricWarning: Jaccard is ill-defined and being set to 0.0 due to no true or predicted samples. Use `zero_division` parameter to control this behavior.\n",
      "  _warn_prf(average, modifier, msg_start, len(result))\n",
      "/usr/local/lib/python3.8/dist-packages/sklearn/metrics/_classification.py:1248: UndefinedMetricWarning: Jaccard is ill-defined and being set to 0.0 due to no true or predicted samples. Use `zero_division` parameter to control this behavior.\n",
      "  _warn_prf(average, modifier, msg_start, len(result))\n",
      "/usr/local/lib/python3.8/dist-packages/sklearn/metrics/_classification.py:1248: UndefinedMetricWarning: Jaccard is ill-defined and being set to 0.0 due to no true or predicted samples. Use `zero_division` parameter to control this behavior.\n",
      "  _warn_prf(average, modifier, msg_start, len(result))\n",
      "/usr/local/lib/python3.8/dist-packages/sklearn/metrics/_classification.py:1248: UndefinedMetricWarning: Jaccard is ill-defined and being set to 0.0 due to no true or predicted samples. Use `zero_division` parameter to control this behavior.\n",
      "  _warn_prf(average, modifier, msg_start, len(result))\n",
      "/usr/local/lib/python3.8/dist-packages/sklearn/metrics/_classification.py:1248: UndefinedMetricWarning: Jaccard is ill-defined and being set to 0.0 due to no true or predicted samples. Use `zero_division` parameter to control this behavior.\n",
      "  _warn_prf(average, modifier, msg_start, len(result))\n",
      "/usr/local/lib/python3.8/dist-packages/sklearn/metrics/_classification.py:1248: UndefinedMetricWarning: Jaccard is ill-defined and being set to 0.0 due to no true or predicted samples. Use `zero_division` parameter to control this behavior.\n",
      "  _warn_prf(average, modifier, msg_start, len(result))\n",
      "/usr/local/lib/python3.8/dist-packages/sklearn/metrics/_classification.py:1248: UndefinedMetricWarning: Jaccard is ill-defined and being set to 0.0 due to no true or predicted samples. Use `zero_division` parameter to control this behavior.\n",
      "  _warn_prf(average, modifier, msg_start, len(result))\n",
      "/usr/local/lib/python3.8/dist-packages/sklearn/metrics/_classification.py:1248: UndefinedMetricWarning: Jaccard is ill-defined and being set to 0.0 due to no true or predicted samples. Use `zero_division` parameter to control this behavior.\n",
      "  _warn_prf(average, modifier, msg_start, len(result))\n",
      "/usr/local/lib/python3.8/dist-packages/sklearn/metrics/_classification.py:1248: UndefinedMetricWarning: Jaccard is ill-defined and being set to 0.0 due to no true or predicted samples. Use `zero_division` parameter to control this behavior.\n",
      "  _warn_prf(average, modifier, msg_start, len(result))\n",
      "/usr/local/lib/python3.8/dist-packages/sklearn/metrics/_classification.py:1248: UndefinedMetricWarning: Jaccard is ill-defined and being set to 0.0 due to no true or predicted samples. Use `zero_division` parameter to control this behavior.\n",
      "  _warn_prf(average, modifier, msg_start, len(result))\n",
      "/usr/local/lib/python3.8/dist-packages/sklearn/metrics/_classification.py:1248: UndefinedMetricWarning: Jaccard is ill-defined and being set to 0.0 due to no true or predicted samples. Use `zero_division` parameter to control this behavior.\n",
      "  _warn_prf(average, modifier, msg_start, len(result))\n",
      " 80%|███████████████████████████████████████████████████████████████████████████████████████████████████████████████████████████████████████████▏                                  | 80/100 [24:40<05:19, 15.95s/it]"
     ]
    },
    {
     "name": "stdout",
     "output_type": "stream",
     "text": [
      "mIOU given by: 0.6315941225159131\n",
      "[0.2962460688548717, 0.30391794630616453, 0.6524141724191902, 0.5080124211021342, 0.2546997191227881, 0.3242468249175954, 0.48479004956123334, 0.5467472828283928, 0.25181696633670264, 0.3229743586259389, 0.1806640666147666, 0.31367196910536943, 0.3036725050839316, 0.3747066545714159, 0.3572061277044272, 0.40287405829159245, 0.36737397224146057, 0.6353939891926504, 0.3761727240153292, 0.6351422203946238, 0.560441796027732, 0.5107469284348097, 0.20716565277126062, 0.4451154906483967, 0.4253084700905224, 0.2904131535243195, 0.5909509165572139, 0.31562296796897144, 0.5209770018455523, 0.4975059521240728, 0.21717606360205344, 0.4317293892832681, 0.3238602108257816, 0.6895299081971155, 0.3690091317136916, 0.2874771060219107, 0.2929327783651647, 0.5474389781053786, 0.40384188640793345, 0.2342361781598103, 0.5722761486238237, 0.30507412415321594, 0.4203328130750395, 0.4809527584990411, 0.6434470726429078, 0.5296326167966681, 0.6076567618895583, 0.3910390506826292, 0.609951648290316, 0.2927773618419275, 0.18319431809882947, 0.49713841561146815, 0.34176421620261693, 0.37245366506176564, 0.19209016490995237, 0.33005224730456395, 0.3384947301116933, 0.40968403591397695, 0.4928449811285595, 0.4932067019612236, 0.30958784523423216, 0.49959529400325586, 0.5886512915627848, 0.2572291289098335, 0.24310835573672146, 0.3188433077696804, 0.5630492219991903, 0.23276077591441402, 0.4137847487931866, 0.3489074211121302, 0.6493388201758812, 0.3443108298594106, 0.5794664631258206, 0.6982417775139159, 0.4302399721903458, 0.3453419102224347, 0.41945000398349075, 0.1987362830933742, 0.747812781639543, 0.6315941225159131]\n"
     ]
    },
    {
     "name": "stderr",
     "output_type": "stream",
     "text": [
      "/usr/local/lib/python3.8/dist-packages/sklearn/metrics/_classification.py:1248: UndefinedMetricWarning: Jaccard is ill-defined and being set to 0.0 due to no true or predicted samples. Use `zero_division` parameter to control this behavior.\n",
      "  _warn_prf(average, modifier, msg_start, len(result))\n",
      "/usr/local/lib/python3.8/dist-packages/sklearn/metrics/_classification.py:1248: UndefinedMetricWarning: Jaccard is ill-defined and being set to 0.0 due to no true or predicted samples. Use `zero_division` parameter to control this behavior.\n",
      "  _warn_prf(average, modifier, msg_start, len(result))\n",
      "/usr/local/lib/python3.8/dist-packages/sklearn/metrics/_classification.py:1248: UndefinedMetricWarning: Jaccard is ill-defined and being set to 0.0 due to no true or predicted samples. Use `zero_division` parameter to control this behavior.\n",
      "  _warn_prf(average, modifier, msg_start, len(result))\n",
      "/usr/local/lib/python3.8/dist-packages/sklearn/metrics/_classification.py:1248: UndefinedMetricWarning: Jaccard is ill-defined and being set to 0.0 due to no true or predicted samples. Use `zero_division` parameter to control this behavior.\n",
      "  _warn_prf(average, modifier, msg_start, len(result))\n",
      "/usr/local/lib/python3.8/dist-packages/sklearn/metrics/_classification.py:1248: UndefinedMetricWarning: Jaccard is ill-defined and being set to 0.0 due to no true or predicted samples. Use `zero_division` parameter to control this behavior.\n",
      "  _warn_prf(average, modifier, msg_start, len(result))\n",
      "/usr/local/lib/python3.8/dist-packages/sklearn/metrics/_classification.py:1248: UndefinedMetricWarning: Jaccard is ill-defined and being set to 0.0 due to no true or predicted samples. Use `zero_division` parameter to control this behavior.\n",
      "  _warn_prf(average, modifier, msg_start, len(result))\n",
      "/usr/local/lib/python3.8/dist-packages/sklearn/metrics/_classification.py:1248: UndefinedMetricWarning: Jaccard is ill-defined and being set to 0.0 due to no true or predicted samples. Use `zero_division` parameter to control this behavior.\n",
      "  _warn_prf(average, modifier, msg_start, len(result))\n",
      "/usr/local/lib/python3.8/dist-packages/sklearn/metrics/_classification.py:1248: UndefinedMetricWarning: Jaccard is ill-defined and being set to 0.0 due to no true or predicted samples. Use `zero_division` parameter to control this behavior.\n",
      "  _warn_prf(average, modifier, msg_start, len(result))\n",
      "/usr/local/lib/python3.8/dist-packages/sklearn/metrics/_classification.py:1248: UndefinedMetricWarning: Jaccard is ill-defined and being set to 0.0 due to no true or predicted samples. Use `zero_division` parameter to control this behavior.\n",
      "  _warn_prf(average, modifier, msg_start, len(result))\n",
      "/usr/local/lib/python3.8/dist-packages/sklearn/metrics/_classification.py:1248: UndefinedMetricWarning: Jaccard is ill-defined and being set to 0.0 due to no true or predicted samples. Use `zero_division` parameter to control this behavior.\n",
      "  _warn_prf(average, modifier, msg_start, len(result))\n",
      "/usr/local/lib/python3.8/dist-packages/sklearn/metrics/_classification.py:1248: UndefinedMetricWarning: Jaccard is ill-defined and being set to 0.0 due to no true or predicted samples. Use `zero_division` parameter to control this behavior.\n",
      "  _warn_prf(average, modifier, msg_start, len(result))\n",
      "/usr/local/lib/python3.8/dist-packages/sklearn/metrics/_classification.py:1248: UndefinedMetricWarning: Jaccard is ill-defined and being set to 0.0 due to no true or predicted samples. Use `zero_division` parameter to control this behavior.\n",
      "  _warn_prf(average, modifier, msg_start, len(result))\n",
      "/usr/local/lib/python3.8/dist-packages/sklearn/metrics/_classification.py:1248: UndefinedMetricWarning: Jaccard is ill-defined and being set to 0.0 due to no true or predicted samples. Use `zero_division` parameter to control this behavior.\n",
      "  _warn_prf(average, modifier, msg_start, len(result))\n",
      " 81%|████████████████████████████████████████████████████████████████████████████████████████████████████████████████████████████████████████████▉                                 | 81/100 [24:55<04:57, 15.68s/it]"
     ]
    },
    {
     "name": "stdout",
     "output_type": "stream",
     "text": [
      "mIOU given by: 0.5071202797293516\n",
      "[0.2962460688548717, 0.30391794630616453, 0.6524141724191902, 0.5080124211021342, 0.2546997191227881, 0.3242468249175954, 0.48479004956123334, 0.5467472828283928, 0.25181696633670264, 0.3229743586259389, 0.1806640666147666, 0.31367196910536943, 0.3036725050839316, 0.3747066545714159, 0.3572061277044272, 0.40287405829159245, 0.36737397224146057, 0.6353939891926504, 0.3761727240153292, 0.6351422203946238, 0.560441796027732, 0.5107469284348097, 0.20716565277126062, 0.4451154906483967, 0.4253084700905224, 0.2904131535243195, 0.5909509165572139, 0.31562296796897144, 0.5209770018455523, 0.4975059521240728, 0.21717606360205344, 0.4317293892832681, 0.3238602108257816, 0.6895299081971155, 0.3690091317136916, 0.2874771060219107, 0.2929327783651647, 0.5474389781053786, 0.40384188640793345, 0.2342361781598103, 0.5722761486238237, 0.30507412415321594, 0.4203328130750395, 0.4809527584990411, 0.6434470726429078, 0.5296326167966681, 0.6076567618895583, 0.3910390506826292, 0.609951648290316, 0.2927773618419275, 0.18319431809882947, 0.49713841561146815, 0.34176421620261693, 0.37245366506176564, 0.19209016490995237, 0.33005224730456395, 0.3384947301116933, 0.40968403591397695, 0.4928449811285595, 0.4932067019612236, 0.30958784523423216, 0.49959529400325586, 0.5886512915627848, 0.2572291289098335, 0.24310835573672146, 0.3188433077696804, 0.5630492219991903, 0.23276077591441402, 0.4137847487931866, 0.3489074211121302, 0.6493388201758812, 0.3443108298594106, 0.5794664631258206, 0.6982417775139159, 0.4302399721903458, 0.3453419102224347, 0.41945000398349075, 0.1987362830933742, 0.747812781639543, 0.6315941225159131, 0.5071202797293516]\n"
     ]
    },
    {
     "name": "stderr",
     "output_type": "stream",
     "text": [
      "/usr/local/lib/python3.8/dist-packages/sklearn/metrics/_classification.py:1248: UndefinedMetricWarning: Jaccard is ill-defined and being set to 0.0 due to no true or predicted samples. Use `zero_division` parameter to control this behavior.\n",
      "  _warn_prf(average, modifier, msg_start, len(result))\n",
      "/usr/local/lib/python3.8/dist-packages/sklearn/metrics/_classification.py:1248: UndefinedMetricWarning: Jaccard is ill-defined and being set to 0.0 due to no true or predicted samples. Use `zero_division` parameter to control this behavior.\n",
      "  _warn_prf(average, modifier, msg_start, len(result))\n",
      "/usr/local/lib/python3.8/dist-packages/sklearn/metrics/_classification.py:1248: UndefinedMetricWarning: Jaccard is ill-defined and being set to 0.0 due to no true or predicted samples. Use `zero_division` parameter to control this behavior.\n",
      "  _warn_prf(average, modifier, msg_start, len(result))\n",
      "/usr/local/lib/python3.8/dist-packages/sklearn/metrics/_classification.py:1248: UndefinedMetricWarning: Jaccard is ill-defined and being set to 0.0 due to no true or predicted samples. Use `zero_division` parameter to control this behavior.\n",
      "  _warn_prf(average, modifier, msg_start, len(result))\n",
      "/usr/local/lib/python3.8/dist-packages/sklearn/metrics/_classification.py:1248: UndefinedMetricWarning: Jaccard is ill-defined and being set to 0.0 due to no true or predicted samples. Use `zero_division` parameter to control this behavior.\n",
      "  _warn_prf(average, modifier, msg_start, len(result))\n",
      "/usr/local/lib/python3.8/dist-packages/sklearn/metrics/_classification.py:1248: UndefinedMetricWarning: Jaccard is ill-defined and being set to 0.0 due to no true or predicted samples. Use `zero_division` parameter to control this behavior.\n",
      "  _warn_prf(average, modifier, msg_start, len(result))\n",
      "/usr/local/lib/python3.8/dist-packages/sklearn/metrics/_classification.py:1248: UndefinedMetricWarning: Jaccard is ill-defined and being set to 0.0 due to no true or predicted samples. Use `zero_division` parameter to control this behavior.\n",
      "  _warn_prf(average, modifier, msg_start, len(result))\n",
      "/usr/local/lib/python3.8/dist-packages/sklearn/metrics/_classification.py:1248: UndefinedMetricWarning: Jaccard is ill-defined and being set to 0.0 due to no true or predicted samples. Use `zero_division` parameter to control this behavior.\n",
      "  _warn_prf(average, modifier, msg_start, len(result))\n",
      "/usr/local/lib/python3.8/dist-packages/sklearn/metrics/_classification.py:1248: UndefinedMetricWarning: Jaccard is ill-defined and being set to 0.0 due to no true or predicted samples. Use `zero_division` parameter to control this behavior.\n",
      "  _warn_prf(average, modifier, msg_start, len(result))\n",
      " 82%|██████████████████████████████████████████████████████████████████████████████████████████████████████████████████████████████████████████████▋                               | 82/100 [25:21<05:34, 18.60s/it]"
     ]
    },
    {
     "name": "stdout",
     "output_type": "stream",
     "text": [
      "mIOU given by: 0.5021270189804147\n",
      "[0.2962460688548717, 0.30391794630616453, 0.6524141724191902, 0.5080124211021342, 0.2546997191227881, 0.3242468249175954, 0.48479004956123334, 0.5467472828283928, 0.25181696633670264, 0.3229743586259389, 0.1806640666147666, 0.31367196910536943, 0.3036725050839316, 0.3747066545714159, 0.3572061277044272, 0.40287405829159245, 0.36737397224146057, 0.6353939891926504, 0.3761727240153292, 0.6351422203946238, 0.560441796027732, 0.5107469284348097, 0.20716565277126062, 0.4451154906483967, 0.4253084700905224, 0.2904131535243195, 0.5909509165572139, 0.31562296796897144, 0.5209770018455523, 0.4975059521240728, 0.21717606360205344, 0.4317293892832681, 0.3238602108257816, 0.6895299081971155, 0.3690091317136916, 0.2874771060219107, 0.2929327783651647, 0.5474389781053786, 0.40384188640793345, 0.2342361781598103, 0.5722761486238237, 0.30507412415321594, 0.4203328130750395, 0.4809527584990411, 0.6434470726429078, 0.5296326167966681, 0.6076567618895583, 0.3910390506826292, 0.609951648290316, 0.2927773618419275, 0.18319431809882947, 0.49713841561146815, 0.34176421620261693, 0.37245366506176564, 0.19209016490995237, 0.33005224730456395, 0.3384947301116933, 0.40968403591397695, 0.4928449811285595, 0.4932067019612236, 0.30958784523423216, 0.49959529400325586, 0.5886512915627848, 0.2572291289098335, 0.24310835573672146, 0.3188433077696804, 0.5630492219991903, 0.23276077591441402, 0.4137847487931866, 0.3489074211121302, 0.6493388201758812, 0.3443108298594106, 0.5794664631258206, 0.6982417775139159, 0.4302399721903458, 0.3453419102224347, 0.41945000398349075, 0.1987362830933742, 0.747812781639543, 0.6315941225159131, 0.5071202797293516, 0.5021270189804147]\n"
     ]
    },
    {
     "name": "stderr",
     "output_type": "stream",
     "text": [
      "/usr/local/lib/python3.8/dist-packages/sklearn/metrics/_classification.py:1248: UndefinedMetricWarning: Jaccard is ill-defined and being set to 0.0 due to no true or predicted samples. Use `zero_division` parameter to control this behavior.\n",
      "  _warn_prf(average, modifier, msg_start, len(result))\n",
      "/usr/local/lib/python3.8/dist-packages/sklearn/metrics/_classification.py:1248: UndefinedMetricWarning: Jaccard is ill-defined and being set to 0.0 due to no true or predicted samples. Use `zero_division` parameter to control this behavior.\n",
      "  _warn_prf(average, modifier, msg_start, len(result))\n",
      "/usr/local/lib/python3.8/dist-packages/sklearn/metrics/_classification.py:1248: UndefinedMetricWarning: Jaccard is ill-defined and being set to 0.0 due to no true or predicted samples. Use `zero_division` parameter to control this behavior.\n",
      "  _warn_prf(average, modifier, msg_start, len(result))\n",
      "/usr/local/lib/python3.8/dist-packages/sklearn/metrics/_classification.py:1248: UndefinedMetricWarning: Jaccard is ill-defined and being set to 0.0 due to no true or predicted samples. Use `zero_division` parameter to control this behavior.\n",
      "  _warn_prf(average, modifier, msg_start, len(result))\n",
      "/usr/local/lib/python3.8/dist-packages/sklearn/metrics/_classification.py:1248: UndefinedMetricWarning: Jaccard is ill-defined and being set to 0.0 due to no true or predicted samples. Use `zero_division` parameter to control this behavior.\n",
      "  _warn_prf(average, modifier, msg_start, len(result))\n",
      "/usr/local/lib/python3.8/dist-packages/sklearn/metrics/_classification.py:1248: UndefinedMetricWarning: Jaccard is ill-defined and being set to 0.0 due to no true or predicted samples. Use `zero_division` parameter to control this behavior.\n",
      "  _warn_prf(average, modifier, msg_start, len(result))\n",
      "/usr/local/lib/python3.8/dist-packages/sklearn/metrics/_classification.py:1248: UndefinedMetricWarning: Jaccard is ill-defined and being set to 0.0 due to no true or predicted samples. Use `zero_division` parameter to control this behavior.\n",
      "  _warn_prf(average, modifier, msg_start, len(result))\n",
      " 83%|████████████████████████████████████████████████████████████████████████████████████████████████████████████████████████████████████████████████▍                             | 83/100 [25:40<05:19, 18.77s/it]"
     ]
    },
    {
     "name": "stdout",
     "output_type": "stream",
     "text": [
      "mIOU given by: 0.21253000147586426\n",
      "[0.2962460688548717, 0.30391794630616453, 0.6524141724191902, 0.5080124211021342, 0.2546997191227881, 0.3242468249175954, 0.48479004956123334, 0.5467472828283928, 0.25181696633670264, 0.3229743586259389, 0.1806640666147666, 0.31367196910536943, 0.3036725050839316, 0.3747066545714159, 0.3572061277044272, 0.40287405829159245, 0.36737397224146057, 0.6353939891926504, 0.3761727240153292, 0.6351422203946238, 0.560441796027732, 0.5107469284348097, 0.20716565277126062, 0.4451154906483967, 0.4253084700905224, 0.2904131535243195, 0.5909509165572139, 0.31562296796897144, 0.5209770018455523, 0.4975059521240728, 0.21717606360205344, 0.4317293892832681, 0.3238602108257816, 0.6895299081971155, 0.3690091317136916, 0.2874771060219107, 0.2929327783651647, 0.5474389781053786, 0.40384188640793345, 0.2342361781598103, 0.5722761486238237, 0.30507412415321594, 0.4203328130750395, 0.4809527584990411, 0.6434470726429078, 0.5296326167966681, 0.6076567618895583, 0.3910390506826292, 0.609951648290316, 0.2927773618419275, 0.18319431809882947, 0.49713841561146815, 0.34176421620261693, 0.37245366506176564, 0.19209016490995237, 0.33005224730456395, 0.3384947301116933, 0.40968403591397695, 0.4928449811285595, 0.4932067019612236, 0.30958784523423216, 0.49959529400325586, 0.5886512915627848, 0.2572291289098335, 0.24310835573672146, 0.3188433077696804, 0.5630492219991903, 0.23276077591441402, 0.4137847487931866, 0.3489074211121302, 0.6493388201758812, 0.3443108298594106, 0.5794664631258206, 0.6982417775139159, 0.4302399721903458, 0.3453419102224347, 0.41945000398349075, 0.1987362830933742, 0.747812781639543, 0.6315941225159131, 0.5071202797293516, 0.5021270189804147, 0.21253000147586426]\n"
     ]
    },
    {
     "name": "stderr",
     "output_type": "stream",
     "text": [
      "/usr/local/lib/python3.8/dist-packages/sklearn/metrics/_classification.py:1248: UndefinedMetricWarning: Jaccard is ill-defined and being set to 0.0 due to no true or predicted samples. Use `zero_division` parameter to control this behavior.\n",
      "  _warn_prf(average, modifier, msg_start, len(result))\n",
      "/usr/local/lib/python3.8/dist-packages/sklearn/metrics/_classification.py:1248: UndefinedMetricWarning: Jaccard is ill-defined and being set to 0.0 due to no true or predicted samples. Use `zero_division` parameter to control this behavior.\n",
      "  _warn_prf(average, modifier, msg_start, len(result))\n",
      "/usr/local/lib/python3.8/dist-packages/sklearn/metrics/_classification.py:1248: UndefinedMetricWarning: Jaccard is ill-defined and being set to 0.0 due to no true or predicted samples. Use `zero_division` parameter to control this behavior.\n",
      "  _warn_prf(average, modifier, msg_start, len(result))\n",
      "/usr/local/lib/python3.8/dist-packages/sklearn/metrics/_classification.py:1248: UndefinedMetricWarning: Jaccard is ill-defined and being set to 0.0 due to no true or predicted samples. Use `zero_division` parameter to control this behavior.\n",
      "  _warn_prf(average, modifier, msg_start, len(result))\n",
      "/usr/local/lib/python3.8/dist-packages/sklearn/metrics/_classification.py:1248: UndefinedMetricWarning: Jaccard is ill-defined and being set to 0.0 due to no true or predicted samples. Use `zero_division` parameter to control this behavior.\n",
      "  _warn_prf(average, modifier, msg_start, len(result))\n",
      "/usr/local/lib/python3.8/dist-packages/sklearn/metrics/_classification.py:1248: UndefinedMetricWarning: Jaccard is ill-defined and being set to 0.0 due to no true or predicted samples. Use `zero_division` parameter to control this behavior.\n",
      "  _warn_prf(average, modifier, msg_start, len(result))\n",
      "/usr/local/lib/python3.8/dist-packages/sklearn/metrics/_classification.py:1248: UndefinedMetricWarning: Jaccard is ill-defined and being set to 0.0 due to no true or predicted samples. Use `zero_division` parameter to control this behavior.\n",
      "  _warn_prf(average, modifier, msg_start, len(result))\n",
      "/usr/local/lib/python3.8/dist-packages/sklearn/metrics/_classification.py:1248: UndefinedMetricWarning: Jaccard is ill-defined and being set to 0.0 due to no true or predicted samples. Use `zero_division` parameter to control this behavior.\n",
      "  _warn_prf(average, modifier, msg_start, len(result))\n",
      "/usr/local/lib/python3.8/dist-packages/sklearn/metrics/_classification.py:1248: UndefinedMetricWarning: Jaccard is ill-defined and being set to 0.0 due to no true or predicted samples. Use `zero_division` parameter to control this behavior.\n",
      "  _warn_prf(average, modifier, msg_start, len(result))\n",
      " 84%|██████████████████████████████████████████████████████████████████████████████████████████████████████████████████████████████████████████████████▏                           | 84/100 [25:57<04:53, 18.36s/it]"
     ]
    },
    {
     "name": "stdout",
     "output_type": "stream",
     "text": [
      "mIOU given by: 0.18587621726507805\n",
      "[0.2962460688548717, 0.30391794630616453, 0.6524141724191902, 0.5080124211021342, 0.2546997191227881, 0.3242468249175954, 0.48479004956123334, 0.5467472828283928, 0.25181696633670264, 0.3229743586259389, 0.1806640666147666, 0.31367196910536943, 0.3036725050839316, 0.3747066545714159, 0.3572061277044272, 0.40287405829159245, 0.36737397224146057, 0.6353939891926504, 0.3761727240153292, 0.6351422203946238, 0.560441796027732, 0.5107469284348097, 0.20716565277126062, 0.4451154906483967, 0.4253084700905224, 0.2904131535243195, 0.5909509165572139, 0.31562296796897144, 0.5209770018455523, 0.4975059521240728, 0.21717606360205344, 0.4317293892832681, 0.3238602108257816, 0.6895299081971155, 0.3690091317136916, 0.2874771060219107, 0.2929327783651647, 0.5474389781053786, 0.40384188640793345, 0.2342361781598103, 0.5722761486238237, 0.30507412415321594, 0.4203328130750395, 0.4809527584990411, 0.6434470726429078, 0.5296326167966681, 0.6076567618895583, 0.3910390506826292, 0.609951648290316, 0.2927773618419275, 0.18319431809882947, 0.49713841561146815, 0.34176421620261693, 0.37245366506176564, 0.19209016490995237, 0.33005224730456395, 0.3384947301116933, 0.40968403591397695, 0.4928449811285595, 0.4932067019612236, 0.30958784523423216, 0.49959529400325586, 0.5886512915627848, 0.2572291289098335, 0.24310835573672146, 0.3188433077696804, 0.5630492219991903, 0.23276077591441402, 0.4137847487931866, 0.3489074211121302, 0.6493388201758812, 0.3443108298594106, 0.5794664631258206, 0.6982417775139159, 0.4302399721903458, 0.3453419102224347, 0.41945000398349075, 0.1987362830933742, 0.747812781639543, 0.6315941225159131, 0.5071202797293516, 0.5021270189804147, 0.21253000147586426, 0.18587621726507805]\n"
     ]
    },
    {
     "name": "stderr",
     "output_type": "stream",
     "text": [
      "/usr/local/lib/python3.8/dist-packages/sklearn/metrics/_classification.py:1248: UndefinedMetricWarning: Jaccard is ill-defined and being set to 0.0 due to no true or predicted samples. Use `zero_division` parameter to control this behavior.\n",
      "  _warn_prf(average, modifier, msg_start, len(result))\n",
      "/usr/local/lib/python3.8/dist-packages/sklearn/metrics/_classification.py:1248: UndefinedMetricWarning: Jaccard is ill-defined and being set to 0.0 due to no true or predicted samples. Use `zero_division` parameter to control this behavior.\n",
      "  _warn_prf(average, modifier, msg_start, len(result))\n",
      "/usr/local/lib/python3.8/dist-packages/sklearn/metrics/_classification.py:1248: UndefinedMetricWarning: Jaccard is ill-defined and being set to 0.0 due to no true or predicted samples. Use `zero_division` parameter to control this behavior.\n",
      "  _warn_prf(average, modifier, msg_start, len(result))\n",
      "/usr/local/lib/python3.8/dist-packages/sklearn/metrics/_classification.py:1248: UndefinedMetricWarning: Jaccard is ill-defined and being set to 0.0 due to no true or predicted samples. Use `zero_division` parameter to control this behavior.\n",
      "  _warn_prf(average, modifier, msg_start, len(result))\n",
      "/usr/local/lib/python3.8/dist-packages/sklearn/metrics/_classification.py:1248: UndefinedMetricWarning: Jaccard is ill-defined and being set to 0.0 due to no true or predicted samples. Use `zero_division` parameter to control this behavior.\n",
      "  _warn_prf(average, modifier, msg_start, len(result))\n",
      "/usr/local/lib/python3.8/dist-packages/sklearn/metrics/_classification.py:1248: UndefinedMetricWarning: Jaccard is ill-defined and being set to 0.0 due to no true or predicted samples. Use `zero_division` parameter to control this behavior.\n",
      "  _warn_prf(average, modifier, msg_start, len(result))\n",
      "/usr/local/lib/python3.8/dist-packages/sklearn/metrics/_classification.py:1248: UndefinedMetricWarning: Jaccard is ill-defined and being set to 0.0 due to no true or predicted samples. Use `zero_division` parameter to control this behavior.\n",
      "  _warn_prf(average, modifier, msg_start, len(result))\n",
      " 85%|███████████████████████████████████████████████████████████████████████████████████████████████████████████████████████████████████████████████████▉                          | 85/100 [26:21<05:00, 20.06s/it]"
     ]
    },
    {
     "name": "stdout",
     "output_type": "stream",
     "text": [
      "mIOU given by: 0.2636519379172556\n",
      "[0.2962460688548717, 0.30391794630616453, 0.6524141724191902, 0.5080124211021342, 0.2546997191227881, 0.3242468249175954, 0.48479004956123334, 0.5467472828283928, 0.25181696633670264, 0.3229743586259389, 0.1806640666147666, 0.31367196910536943, 0.3036725050839316, 0.3747066545714159, 0.3572061277044272, 0.40287405829159245, 0.36737397224146057, 0.6353939891926504, 0.3761727240153292, 0.6351422203946238, 0.560441796027732, 0.5107469284348097, 0.20716565277126062, 0.4451154906483967, 0.4253084700905224, 0.2904131535243195, 0.5909509165572139, 0.31562296796897144, 0.5209770018455523, 0.4975059521240728, 0.21717606360205344, 0.4317293892832681, 0.3238602108257816, 0.6895299081971155, 0.3690091317136916, 0.2874771060219107, 0.2929327783651647, 0.5474389781053786, 0.40384188640793345, 0.2342361781598103, 0.5722761486238237, 0.30507412415321594, 0.4203328130750395, 0.4809527584990411, 0.6434470726429078, 0.5296326167966681, 0.6076567618895583, 0.3910390506826292, 0.609951648290316, 0.2927773618419275, 0.18319431809882947, 0.49713841561146815, 0.34176421620261693, 0.37245366506176564, 0.19209016490995237, 0.33005224730456395, 0.3384947301116933, 0.40968403591397695, 0.4928449811285595, 0.4932067019612236, 0.30958784523423216, 0.49959529400325586, 0.5886512915627848, 0.2572291289098335, 0.24310835573672146, 0.3188433077696804, 0.5630492219991903, 0.23276077591441402, 0.4137847487931866, 0.3489074211121302, 0.6493388201758812, 0.3443108298594106, 0.5794664631258206, 0.6982417775139159, 0.4302399721903458, 0.3453419102224347, 0.41945000398349075, 0.1987362830933742, 0.747812781639543, 0.6315941225159131, 0.5071202797293516, 0.5021270189804147, 0.21253000147586426, 0.18587621726507805, 0.2636519379172556]\n"
     ]
    },
    {
     "name": "stderr",
     "output_type": "stream",
     "text": [
      "/usr/local/lib/python3.8/dist-packages/sklearn/metrics/_classification.py:1248: UndefinedMetricWarning: Jaccard is ill-defined and being set to 0.0 due to no true or predicted samples. Use `zero_division` parameter to control this behavior.\n",
      "  _warn_prf(average, modifier, msg_start, len(result))\n",
      "/usr/local/lib/python3.8/dist-packages/sklearn/metrics/_classification.py:1248: UndefinedMetricWarning: Jaccard is ill-defined and being set to 0.0 due to no true or predicted samples. Use `zero_division` parameter to control this behavior.\n",
      "  _warn_prf(average, modifier, msg_start, len(result))\n",
      "/usr/local/lib/python3.8/dist-packages/sklearn/metrics/_classification.py:1248: UndefinedMetricWarning: Jaccard is ill-defined and being set to 0.0 due to no true or predicted samples. Use `zero_division` parameter to control this behavior.\n",
      "  _warn_prf(average, modifier, msg_start, len(result))\n",
      "/usr/local/lib/python3.8/dist-packages/sklearn/metrics/_classification.py:1248: UndefinedMetricWarning: Jaccard is ill-defined and being set to 0.0 due to no true or predicted samples. Use `zero_division` parameter to control this behavior.\n",
      "  _warn_prf(average, modifier, msg_start, len(result))\n",
      "/usr/local/lib/python3.8/dist-packages/sklearn/metrics/_classification.py:1248: UndefinedMetricWarning: Jaccard is ill-defined and being set to 0.0 due to no true or predicted samples. Use `zero_division` parameter to control this behavior.\n",
      "  _warn_prf(average, modifier, msg_start, len(result))\n",
      "/usr/local/lib/python3.8/dist-packages/sklearn/metrics/_classification.py:1248: UndefinedMetricWarning: Jaccard is ill-defined and being set to 0.0 due to no true or predicted samples. Use `zero_division` parameter to control this behavior.\n",
      "  _warn_prf(average, modifier, msg_start, len(result))\n",
      "/usr/local/lib/python3.8/dist-packages/sklearn/metrics/_classification.py:1248: UndefinedMetricWarning: Jaccard is ill-defined and being set to 0.0 due to no true or predicted samples. Use `zero_division` parameter to control this behavior.\n",
      "  _warn_prf(average, modifier, msg_start, len(result))\n",
      "/usr/local/lib/python3.8/dist-packages/sklearn/metrics/_classification.py:1248: UndefinedMetricWarning: Jaccard is ill-defined and being set to 0.0 due to no true or predicted samples. Use `zero_division` parameter to control this behavior.\n",
      "  _warn_prf(average, modifier, msg_start, len(result))\n",
      "/usr/local/lib/python3.8/dist-packages/sklearn/metrics/_classification.py:1248: UndefinedMetricWarning: Jaccard is ill-defined and being set to 0.0 due to no true or predicted samples. Use `zero_division` parameter to control this behavior.\n",
      "  _warn_prf(average, modifier, msg_start, len(result))\n",
      " 86%|█████████████████████████████████████████████████████████████████████████████████████████████████████████████████████████████████████████████████████▋                        | 86/100 [26:44<04:50, 20.73s/it]"
     ]
    },
    {
     "name": "stdout",
     "output_type": "stream",
     "text": [
      "mIOU given by: 0.44476835090634154\n",
      "[0.2962460688548717, 0.30391794630616453, 0.6524141724191902, 0.5080124211021342, 0.2546997191227881, 0.3242468249175954, 0.48479004956123334, 0.5467472828283928, 0.25181696633670264, 0.3229743586259389, 0.1806640666147666, 0.31367196910536943, 0.3036725050839316, 0.3747066545714159, 0.3572061277044272, 0.40287405829159245, 0.36737397224146057, 0.6353939891926504, 0.3761727240153292, 0.6351422203946238, 0.560441796027732, 0.5107469284348097, 0.20716565277126062, 0.4451154906483967, 0.4253084700905224, 0.2904131535243195, 0.5909509165572139, 0.31562296796897144, 0.5209770018455523, 0.4975059521240728, 0.21717606360205344, 0.4317293892832681, 0.3238602108257816, 0.6895299081971155, 0.3690091317136916, 0.2874771060219107, 0.2929327783651647, 0.5474389781053786, 0.40384188640793345, 0.2342361781598103, 0.5722761486238237, 0.30507412415321594, 0.4203328130750395, 0.4809527584990411, 0.6434470726429078, 0.5296326167966681, 0.6076567618895583, 0.3910390506826292, 0.609951648290316, 0.2927773618419275, 0.18319431809882947, 0.49713841561146815, 0.34176421620261693, 0.37245366506176564, 0.19209016490995237, 0.33005224730456395, 0.3384947301116933, 0.40968403591397695, 0.4928449811285595, 0.4932067019612236, 0.30958784523423216, 0.49959529400325586, 0.5886512915627848, 0.2572291289098335, 0.24310835573672146, 0.3188433077696804, 0.5630492219991903, 0.23276077591441402, 0.4137847487931866, 0.3489074211121302, 0.6493388201758812, 0.3443108298594106, 0.5794664631258206, 0.6982417775139159, 0.4302399721903458, 0.3453419102224347, 0.41945000398349075, 0.1987362830933742, 0.747812781639543, 0.6315941225159131, 0.5071202797293516, 0.5021270189804147, 0.21253000147586426, 0.18587621726507805, 0.2636519379172556, 0.44476835090634154]\n"
     ]
    },
    {
     "name": "stderr",
     "output_type": "stream",
     "text": [
      "/usr/local/lib/python3.8/dist-packages/sklearn/metrics/_classification.py:1248: UndefinedMetricWarning: Jaccard is ill-defined and being set to 0.0 due to no true or predicted samples. Use `zero_division` parameter to control this behavior.\n",
      "  _warn_prf(average, modifier, msg_start, len(result))\n",
      "/usr/local/lib/python3.8/dist-packages/sklearn/metrics/_classification.py:1248: UndefinedMetricWarning: Jaccard is ill-defined and being set to 0.0 due to no true or predicted samples. Use `zero_division` parameter to control this behavior.\n",
      "  _warn_prf(average, modifier, msg_start, len(result))\n",
      "/usr/local/lib/python3.8/dist-packages/sklearn/metrics/_classification.py:1248: UndefinedMetricWarning: Jaccard is ill-defined and being set to 0.0 due to no true or predicted samples. Use `zero_division` parameter to control this behavior.\n",
      "  _warn_prf(average, modifier, msg_start, len(result))\n",
      "/usr/local/lib/python3.8/dist-packages/sklearn/metrics/_classification.py:1248: UndefinedMetricWarning: Jaccard is ill-defined and being set to 0.0 due to no true or predicted samples. Use `zero_division` parameter to control this behavior.\n",
      "  _warn_prf(average, modifier, msg_start, len(result))\n",
      "/usr/local/lib/python3.8/dist-packages/sklearn/metrics/_classification.py:1248: UndefinedMetricWarning: Jaccard is ill-defined and being set to 0.0 due to no true or predicted samples. Use `zero_division` parameter to control this behavior.\n",
      "  _warn_prf(average, modifier, msg_start, len(result))\n",
      "/usr/local/lib/python3.8/dist-packages/sklearn/metrics/_classification.py:1248: UndefinedMetricWarning: Jaccard is ill-defined and being set to 0.0 due to no true or predicted samples. Use `zero_division` parameter to control this behavior.\n",
      "  _warn_prf(average, modifier, msg_start, len(result))\n",
      "/usr/local/lib/python3.8/dist-packages/sklearn/metrics/_classification.py:1248: UndefinedMetricWarning: Jaccard is ill-defined and being set to 0.0 due to no true or predicted samples. Use `zero_division` parameter to control this behavior.\n",
      "  _warn_prf(average, modifier, msg_start, len(result))\n",
      "/usr/local/lib/python3.8/dist-packages/sklearn/metrics/_classification.py:1248: UndefinedMetricWarning: Jaccard is ill-defined and being set to 0.0 due to no true or predicted samples. Use `zero_division` parameter to control this behavior.\n",
      "  _warn_prf(average, modifier, msg_start, len(result))\n",
      "/usr/local/lib/python3.8/dist-packages/sklearn/metrics/_classification.py:1248: UndefinedMetricWarning: Jaccard is ill-defined and being set to 0.0 due to no true or predicted samples. Use `zero_division` parameter to control this behavior.\n",
      "  _warn_prf(average, modifier, msg_start, len(result))\n",
      "/usr/local/lib/python3.8/dist-packages/sklearn/metrics/_classification.py:1248: UndefinedMetricWarning: Jaccard is ill-defined and being set to 0.0 due to no true or predicted samples. Use `zero_division` parameter to control this behavior.\n",
      "  _warn_prf(average, modifier, msg_start, len(result))\n",
      " 87%|███████████████████████████████████████████████████████████████████████████████████████████████████████████████████████████████████████████████████████▍                      | 87/100 [27:02<04:20, 20.01s/it]"
     ]
    },
    {
     "name": "stdout",
     "output_type": "stream",
     "text": [
      "mIOU given by: 0.630801500681901\n",
      "[0.2962460688548717, 0.30391794630616453, 0.6524141724191902, 0.5080124211021342, 0.2546997191227881, 0.3242468249175954, 0.48479004956123334, 0.5467472828283928, 0.25181696633670264, 0.3229743586259389, 0.1806640666147666, 0.31367196910536943, 0.3036725050839316, 0.3747066545714159, 0.3572061277044272, 0.40287405829159245, 0.36737397224146057, 0.6353939891926504, 0.3761727240153292, 0.6351422203946238, 0.560441796027732, 0.5107469284348097, 0.20716565277126062, 0.4451154906483967, 0.4253084700905224, 0.2904131535243195, 0.5909509165572139, 0.31562296796897144, 0.5209770018455523, 0.4975059521240728, 0.21717606360205344, 0.4317293892832681, 0.3238602108257816, 0.6895299081971155, 0.3690091317136916, 0.2874771060219107, 0.2929327783651647, 0.5474389781053786, 0.40384188640793345, 0.2342361781598103, 0.5722761486238237, 0.30507412415321594, 0.4203328130750395, 0.4809527584990411, 0.6434470726429078, 0.5296326167966681, 0.6076567618895583, 0.3910390506826292, 0.609951648290316, 0.2927773618419275, 0.18319431809882947, 0.49713841561146815, 0.34176421620261693, 0.37245366506176564, 0.19209016490995237, 0.33005224730456395, 0.3384947301116933, 0.40968403591397695, 0.4928449811285595, 0.4932067019612236, 0.30958784523423216, 0.49959529400325586, 0.5886512915627848, 0.2572291289098335, 0.24310835573672146, 0.3188433077696804, 0.5630492219991903, 0.23276077591441402, 0.4137847487931866, 0.3489074211121302, 0.6493388201758812, 0.3443108298594106, 0.5794664631258206, 0.6982417775139159, 0.4302399721903458, 0.3453419102224347, 0.41945000398349075, 0.1987362830933742, 0.747812781639543, 0.6315941225159131, 0.5071202797293516, 0.5021270189804147, 0.21253000147586426, 0.18587621726507805, 0.2636519379172556, 0.44476835090634154, 0.630801500681901]\n"
     ]
    },
    {
     "name": "stderr",
     "output_type": "stream",
     "text": [
      "/usr/local/lib/python3.8/dist-packages/sklearn/metrics/_classification.py:1248: UndefinedMetricWarning: Jaccard is ill-defined and being set to 0.0 due to no true or predicted samples. Use `zero_division` parameter to control this behavior.\n",
      "  _warn_prf(average, modifier, msg_start, len(result))\n",
      "/usr/local/lib/python3.8/dist-packages/sklearn/metrics/_classification.py:1248: UndefinedMetricWarning: Jaccard is ill-defined and being set to 0.0 due to no true or predicted samples. Use `zero_division` parameter to control this behavior.\n",
      "  _warn_prf(average, modifier, msg_start, len(result))\n",
      "/usr/local/lib/python3.8/dist-packages/sklearn/metrics/_classification.py:1248: UndefinedMetricWarning: Jaccard is ill-defined and being set to 0.0 due to no true or predicted samples. Use `zero_division` parameter to control this behavior.\n",
      "  _warn_prf(average, modifier, msg_start, len(result))\n",
      "/usr/local/lib/python3.8/dist-packages/sklearn/metrics/_classification.py:1248: UndefinedMetricWarning: Jaccard is ill-defined and being set to 0.0 due to no true or predicted samples. Use `zero_division` parameter to control this behavior.\n",
      "  _warn_prf(average, modifier, msg_start, len(result))\n",
      "/usr/local/lib/python3.8/dist-packages/sklearn/metrics/_classification.py:1248: UndefinedMetricWarning: Jaccard is ill-defined and being set to 0.0 due to no true or predicted samples. Use `zero_division` parameter to control this behavior.\n",
      "  _warn_prf(average, modifier, msg_start, len(result))\n",
      "/usr/local/lib/python3.8/dist-packages/sklearn/metrics/_classification.py:1248: UndefinedMetricWarning: Jaccard is ill-defined and being set to 0.0 due to no true or predicted samples. Use `zero_division` parameter to control this behavior.\n",
      "  _warn_prf(average, modifier, msg_start, len(result))\n",
      "/usr/local/lib/python3.8/dist-packages/sklearn/metrics/_classification.py:1248: UndefinedMetricWarning: Jaccard is ill-defined and being set to 0.0 due to no true or predicted samples. Use `zero_division` parameter to control this behavior.\n",
      "  _warn_prf(average, modifier, msg_start, len(result))\n",
      "/usr/local/lib/python3.8/dist-packages/sklearn/metrics/_classification.py:1248: UndefinedMetricWarning: Jaccard is ill-defined and being set to 0.0 due to no true or predicted samples. Use `zero_division` parameter to control this behavior.\n",
      "  _warn_prf(average, modifier, msg_start, len(result))\n",
      "/usr/local/lib/python3.8/dist-packages/sklearn/metrics/_classification.py:1248: UndefinedMetricWarning: Jaccard is ill-defined and being set to 0.0 due to no true or predicted samples. Use `zero_division` parameter to control this behavior.\n",
      "  _warn_prf(average, modifier, msg_start, len(result))\n",
      " 88%|█████████████████████████████████████████████████████████████████████████████████████████████████████████████████████████████████████████████████████████                     | 88/100 [27:29<04:24, 22.07s/it]"
     ]
    },
    {
     "name": "stdout",
     "output_type": "stream",
     "text": [
      "mIOU given by: 0.2448259859103279\n",
      "[0.2962460688548717, 0.30391794630616453, 0.6524141724191902, 0.5080124211021342, 0.2546997191227881, 0.3242468249175954, 0.48479004956123334, 0.5467472828283928, 0.25181696633670264, 0.3229743586259389, 0.1806640666147666, 0.31367196910536943, 0.3036725050839316, 0.3747066545714159, 0.3572061277044272, 0.40287405829159245, 0.36737397224146057, 0.6353939891926504, 0.3761727240153292, 0.6351422203946238, 0.560441796027732, 0.5107469284348097, 0.20716565277126062, 0.4451154906483967, 0.4253084700905224, 0.2904131535243195, 0.5909509165572139, 0.31562296796897144, 0.5209770018455523, 0.4975059521240728, 0.21717606360205344, 0.4317293892832681, 0.3238602108257816, 0.6895299081971155, 0.3690091317136916, 0.2874771060219107, 0.2929327783651647, 0.5474389781053786, 0.40384188640793345, 0.2342361781598103, 0.5722761486238237, 0.30507412415321594, 0.4203328130750395, 0.4809527584990411, 0.6434470726429078, 0.5296326167966681, 0.6076567618895583, 0.3910390506826292, 0.609951648290316, 0.2927773618419275, 0.18319431809882947, 0.49713841561146815, 0.34176421620261693, 0.37245366506176564, 0.19209016490995237, 0.33005224730456395, 0.3384947301116933, 0.40968403591397695, 0.4928449811285595, 0.4932067019612236, 0.30958784523423216, 0.49959529400325586, 0.5886512915627848, 0.2572291289098335, 0.24310835573672146, 0.3188433077696804, 0.5630492219991903, 0.23276077591441402, 0.4137847487931866, 0.3489074211121302, 0.6493388201758812, 0.3443108298594106, 0.5794664631258206, 0.6982417775139159, 0.4302399721903458, 0.3453419102224347, 0.41945000398349075, 0.1987362830933742, 0.747812781639543, 0.6315941225159131, 0.5071202797293516, 0.5021270189804147, 0.21253000147586426, 0.18587621726507805, 0.2636519379172556, 0.44476835090634154, 0.630801500681901, 0.2448259859103279]\n"
     ]
    },
    {
     "name": "stderr",
     "output_type": "stream",
     "text": [
      "/usr/local/lib/python3.8/dist-packages/sklearn/metrics/_classification.py:1248: UndefinedMetricWarning: Jaccard is ill-defined and being set to 0.0 due to no true or predicted samples. Use `zero_division` parameter to control this behavior.\n",
      "  _warn_prf(average, modifier, msg_start, len(result))\n",
      "/usr/local/lib/python3.8/dist-packages/sklearn/metrics/_classification.py:1248: UndefinedMetricWarning: Jaccard is ill-defined and being set to 0.0 due to no true or predicted samples. Use `zero_division` parameter to control this behavior.\n",
      "  _warn_prf(average, modifier, msg_start, len(result))\n",
      "/usr/local/lib/python3.8/dist-packages/sklearn/metrics/_classification.py:1248: UndefinedMetricWarning: Jaccard is ill-defined and being set to 0.0 due to no true or predicted samples. Use `zero_division` parameter to control this behavior.\n",
      "  _warn_prf(average, modifier, msg_start, len(result))\n",
      "/usr/local/lib/python3.8/dist-packages/sklearn/metrics/_classification.py:1248: UndefinedMetricWarning: Jaccard is ill-defined and being set to 0.0 due to no true or predicted samples. Use `zero_division` parameter to control this behavior.\n",
      "  _warn_prf(average, modifier, msg_start, len(result))\n",
      "/usr/local/lib/python3.8/dist-packages/sklearn/metrics/_classification.py:1248: UndefinedMetricWarning: Jaccard is ill-defined and being set to 0.0 due to no true or predicted samples. Use `zero_division` parameter to control this behavior.\n",
      "  _warn_prf(average, modifier, msg_start, len(result))\n",
      "/usr/local/lib/python3.8/dist-packages/sklearn/metrics/_classification.py:1248: UndefinedMetricWarning: Jaccard is ill-defined and being set to 0.0 due to no true or predicted samples. Use `zero_division` parameter to control this behavior.\n",
      "  _warn_prf(average, modifier, msg_start, len(result))\n",
      "/usr/local/lib/python3.8/dist-packages/sklearn/metrics/_classification.py:1248: UndefinedMetricWarning: Jaccard is ill-defined and being set to 0.0 due to no true or predicted samples. Use `zero_division` parameter to control this behavior.\n",
      "  _warn_prf(average, modifier, msg_start, len(result))\n",
      "/usr/local/lib/python3.8/dist-packages/sklearn/metrics/_classification.py:1248: UndefinedMetricWarning: Jaccard is ill-defined and being set to 0.0 due to no true or predicted samples. Use `zero_division` parameter to control this behavior.\n",
      "  _warn_prf(average, modifier, msg_start, len(result))\n",
      " 89%|██████████████████████████████████████████████████████████████████████████████████████████████████████████████████████████████████████████████████████████▊                   | 89/100 [27:46<03:46, 20.58s/it]"
     ]
    },
    {
     "name": "stdout",
     "output_type": "stream",
     "text": [
      "mIOU given by: 0.27981764866435677\n",
      "[0.2962460688548717, 0.30391794630616453, 0.6524141724191902, 0.5080124211021342, 0.2546997191227881, 0.3242468249175954, 0.48479004956123334, 0.5467472828283928, 0.25181696633670264, 0.3229743586259389, 0.1806640666147666, 0.31367196910536943, 0.3036725050839316, 0.3747066545714159, 0.3572061277044272, 0.40287405829159245, 0.36737397224146057, 0.6353939891926504, 0.3761727240153292, 0.6351422203946238, 0.560441796027732, 0.5107469284348097, 0.20716565277126062, 0.4451154906483967, 0.4253084700905224, 0.2904131535243195, 0.5909509165572139, 0.31562296796897144, 0.5209770018455523, 0.4975059521240728, 0.21717606360205344, 0.4317293892832681, 0.3238602108257816, 0.6895299081971155, 0.3690091317136916, 0.2874771060219107, 0.2929327783651647, 0.5474389781053786, 0.40384188640793345, 0.2342361781598103, 0.5722761486238237, 0.30507412415321594, 0.4203328130750395, 0.4809527584990411, 0.6434470726429078, 0.5296326167966681, 0.6076567618895583, 0.3910390506826292, 0.609951648290316, 0.2927773618419275, 0.18319431809882947, 0.49713841561146815, 0.34176421620261693, 0.37245366506176564, 0.19209016490995237, 0.33005224730456395, 0.3384947301116933, 0.40968403591397695, 0.4928449811285595, 0.4932067019612236, 0.30958784523423216, 0.49959529400325586, 0.5886512915627848, 0.2572291289098335, 0.24310835573672146, 0.3188433077696804, 0.5630492219991903, 0.23276077591441402, 0.4137847487931866, 0.3489074211121302, 0.6493388201758812, 0.3443108298594106, 0.5794664631258206, 0.6982417775139159, 0.4302399721903458, 0.3453419102224347, 0.41945000398349075, 0.1987362830933742, 0.747812781639543, 0.6315941225159131, 0.5071202797293516, 0.5021270189804147, 0.21253000147586426, 0.18587621726507805, 0.2636519379172556, 0.44476835090634154, 0.630801500681901, 0.2448259859103279, 0.27981764866435677]\n"
     ]
    },
    {
     "name": "stderr",
     "output_type": "stream",
     "text": [
      "/usr/local/lib/python3.8/dist-packages/sklearn/metrics/_classification.py:1248: UndefinedMetricWarning: Jaccard is ill-defined and being set to 0.0 due to no true or predicted samples. Use `zero_division` parameter to control this behavior.\n",
      "  _warn_prf(average, modifier, msg_start, len(result))\n",
      "/usr/local/lib/python3.8/dist-packages/sklearn/metrics/_classification.py:1248: UndefinedMetricWarning: Jaccard is ill-defined and being set to 0.0 due to no true or predicted samples. Use `zero_division` parameter to control this behavior.\n",
      "  _warn_prf(average, modifier, msg_start, len(result))\n",
      "/usr/local/lib/python3.8/dist-packages/sklearn/metrics/_classification.py:1248: UndefinedMetricWarning: Jaccard is ill-defined and being set to 0.0 due to no true or predicted samples. Use `zero_division` parameter to control this behavior.\n",
      "  _warn_prf(average, modifier, msg_start, len(result))\n",
      "/usr/local/lib/python3.8/dist-packages/sklearn/metrics/_classification.py:1248: UndefinedMetricWarning: Jaccard is ill-defined and being set to 0.0 due to no true or predicted samples. Use `zero_division` parameter to control this behavior.\n",
      "  _warn_prf(average, modifier, msg_start, len(result))\n",
      "/usr/local/lib/python3.8/dist-packages/sklearn/metrics/_classification.py:1248: UndefinedMetricWarning: Jaccard is ill-defined and being set to 0.0 due to no true or predicted samples. Use `zero_division` parameter to control this behavior.\n",
      "  _warn_prf(average, modifier, msg_start, len(result))\n",
      "/usr/local/lib/python3.8/dist-packages/sklearn/metrics/_classification.py:1248: UndefinedMetricWarning: Jaccard is ill-defined and being set to 0.0 due to no true or predicted samples. Use `zero_division` parameter to control this behavior.\n",
      "  _warn_prf(average, modifier, msg_start, len(result))\n",
      "/usr/local/lib/python3.8/dist-packages/sklearn/metrics/_classification.py:1248: UndefinedMetricWarning: Jaccard is ill-defined and being set to 0.0 due to no true or predicted samples. Use `zero_division` parameter to control this behavior.\n",
      "  _warn_prf(average, modifier, msg_start, len(result))\n",
      "/usr/local/lib/python3.8/dist-packages/sklearn/metrics/_classification.py:1248: UndefinedMetricWarning: Jaccard is ill-defined and being set to 0.0 due to no true or predicted samples. Use `zero_division` parameter to control this behavior.\n",
      "  _warn_prf(average, modifier, msg_start, len(result))\n",
      "/usr/local/lib/python3.8/dist-packages/sklearn/metrics/_classification.py:1248: UndefinedMetricWarning: Jaccard is ill-defined and being set to 0.0 due to no true or predicted samples. Use `zero_division` parameter to control this behavior.\n",
      "  _warn_prf(average, modifier, msg_start, len(result))\n",
      "/usr/local/lib/python3.8/dist-packages/sklearn/metrics/_classification.py:1248: UndefinedMetricWarning: Jaccard is ill-defined and being set to 0.0 due to no true or predicted samples. Use `zero_division` parameter to control this behavior.\n",
      "  _warn_prf(average, modifier, msg_start, len(result))\n",
      "/usr/local/lib/python3.8/dist-packages/sklearn/metrics/_classification.py:1248: UndefinedMetricWarning: Jaccard is ill-defined and being set to 0.0 due to no true or predicted samples. Use `zero_division` parameter to control this behavior.\n",
      "  _warn_prf(average, modifier, msg_start, len(result))\n",
      "/usr/local/lib/python3.8/dist-packages/sklearn/metrics/_classification.py:1248: UndefinedMetricWarning: Jaccard is ill-defined and being set to 0.0 due to no true or predicted samples. Use `zero_division` parameter to control this behavior.\n",
      "  _warn_prf(average, modifier, msg_start, len(result))\n",
      "/usr/local/lib/python3.8/dist-packages/sklearn/metrics/_classification.py:1248: UndefinedMetricWarning: Jaccard is ill-defined and being set to 0.0 due to no true or predicted samples. Use `zero_division` parameter to control this behavior.\n",
      "  _warn_prf(average, modifier, msg_start, len(result))\n",
      " 90%|████████████████████████████████████████████████████████████████████████████████████████████████████████████████████████████████████████████████████████████▌                 | 90/100 [28:02<03:12, 19.23s/it]"
     ]
    },
    {
     "name": "stdout",
     "output_type": "stream",
     "text": [
      "mIOU given by: 0.5568529939105378\n",
      "[0.2962460688548717, 0.30391794630616453, 0.6524141724191902, 0.5080124211021342, 0.2546997191227881, 0.3242468249175954, 0.48479004956123334, 0.5467472828283928, 0.25181696633670264, 0.3229743586259389, 0.1806640666147666, 0.31367196910536943, 0.3036725050839316, 0.3747066545714159, 0.3572061277044272, 0.40287405829159245, 0.36737397224146057, 0.6353939891926504, 0.3761727240153292, 0.6351422203946238, 0.560441796027732, 0.5107469284348097, 0.20716565277126062, 0.4451154906483967, 0.4253084700905224, 0.2904131535243195, 0.5909509165572139, 0.31562296796897144, 0.5209770018455523, 0.4975059521240728, 0.21717606360205344, 0.4317293892832681, 0.3238602108257816, 0.6895299081971155, 0.3690091317136916, 0.2874771060219107, 0.2929327783651647, 0.5474389781053786, 0.40384188640793345, 0.2342361781598103, 0.5722761486238237, 0.30507412415321594, 0.4203328130750395, 0.4809527584990411, 0.6434470726429078, 0.5296326167966681, 0.6076567618895583, 0.3910390506826292, 0.609951648290316, 0.2927773618419275, 0.18319431809882947, 0.49713841561146815, 0.34176421620261693, 0.37245366506176564, 0.19209016490995237, 0.33005224730456395, 0.3384947301116933, 0.40968403591397695, 0.4928449811285595, 0.4932067019612236, 0.30958784523423216, 0.49959529400325586, 0.5886512915627848, 0.2572291289098335, 0.24310835573672146, 0.3188433077696804, 0.5630492219991903, 0.23276077591441402, 0.4137847487931866, 0.3489074211121302, 0.6493388201758812, 0.3443108298594106, 0.5794664631258206, 0.6982417775139159, 0.4302399721903458, 0.3453419102224347, 0.41945000398349075, 0.1987362830933742, 0.747812781639543, 0.6315941225159131, 0.5071202797293516, 0.5021270189804147, 0.21253000147586426, 0.18587621726507805, 0.2636519379172556, 0.44476835090634154, 0.630801500681901, 0.2448259859103279, 0.27981764866435677, 0.5568529939105378]\n"
     ]
    },
    {
     "name": "stderr",
     "output_type": "stream",
     "text": [
      "/usr/local/lib/python3.8/dist-packages/sklearn/metrics/_classification.py:1248: UndefinedMetricWarning: Jaccard is ill-defined and being set to 0.0 due to no true or predicted samples. Use `zero_division` parameter to control this behavior.\n",
      "  _warn_prf(average, modifier, msg_start, len(result))\n",
      "/usr/local/lib/python3.8/dist-packages/sklearn/metrics/_classification.py:1248: UndefinedMetricWarning: Jaccard is ill-defined and being set to 0.0 due to no true or predicted samples. Use `zero_division` parameter to control this behavior.\n",
      "  _warn_prf(average, modifier, msg_start, len(result))\n",
      "/usr/local/lib/python3.8/dist-packages/sklearn/metrics/_classification.py:1248: UndefinedMetricWarning: Jaccard is ill-defined and being set to 0.0 due to no true or predicted samples. Use `zero_division` parameter to control this behavior.\n",
      "  _warn_prf(average, modifier, msg_start, len(result))\n",
      "/usr/local/lib/python3.8/dist-packages/sklearn/metrics/_classification.py:1248: UndefinedMetricWarning: Jaccard is ill-defined and being set to 0.0 due to no true or predicted samples. Use `zero_division` parameter to control this behavior.\n",
      "  _warn_prf(average, modifier, msg_start, len(result))\n",
      "/usr/local/lib/python3.8/dist-packages/sklearn/metrics/_classification.py:1248: UndefinedMetricWarning: Jaccard is ill-defined and being set to 0.0 due to no true or predicted samples. Use `zero_division` parameter to control this behavior.\n",
      "  _warn_prf(average, modifier, msg_start, len(result))\n",
      "/usr/local/lib/python3.8/dist-packages/sklearn/metrics/_classification.py:1248: UndefinedMetricWarning: Jaccard is ill-defined and being set to 0.0 due to no true or predicted samples. Use `zero_division` parameter to control this behavior.\n",
      "  _warn_prf(average, modifier, msg_start, len(result))\n",
      "/usr/local/lib/python3.8/dist-packages/sklearn/metrics/_classification.py:1248: UndefinedMetricWarning: Jaccard is ill-defined and being set to 0.0 due to no true or predicted samples. Use `zero_division` parameter to control this behavior.\n",
      "  _warn_prf(average, modifier, msg_start, len(result))\n",
      "/usr/local/lib/python3.8/dist-packages/sklearn/metrics/_classification.py:1248: UndefinedMetricWarning: Jaccard is ill-defined and being set to 0.0 due to no true or predicted samples. Use `zero_division` parameter to control this behavior.\n",
      "  _warn_prf(average, modifier, msg_start, len(result))\n",
      "/usr/local/lib/python3.8/dist-packages/sklearn/metrics/_classification.py:1248: UndefinedMetricWarning: Jaccard is ill-defined and being set to 0.0 due to no true or predicted samples. Use `zero_division` parameter to control this behavior.\n",
      "  _warn_prf(average, modifier, msg_start, len(result))\n",
      " 91%|██████████████████████████████████████████████████████████████████████████████████████████████████████████████████████████████████████████████████████████████▎               | 91/100 [28:18<02:44, 18.27s/it]"
     ]
    },
    {
     "name": "stdout",
     "output_type": "stream",
     "text": [
      "mIOU given by: 0.4689456178729721\n",
      "[0.2962460688548717, 0.30391794630616453, 0.6524141724191902, 0.5080124211021342, 0.2546997191227881, 0.3242468249175954, 0.48479004956123334, 0.5467472828283928, 0.25181696633670264, 0.3229743586259389, 0.1806640666147666, 0.31367196910536943, 0.3036725050839316, 0.3747066545714159, 0.3572061277044272, 0.40287405829159245, 0.36737397224146057, 0.6353939891926504, 0.3761727240153292, 0.6351422203946238, 0.560441796027732, 0.5107469284348097, 0.20716565277126062, 0.4451154906483967, 0.4253084700905224, 0.2904131535243195, 0.5909509165572139, 0.31562296796897144, 0.5209770018455523, 0.4975059521240728, 0.21717606360205344, 0.4317293892832681, 0.3238602108257816, 0.6895299081971155, 0.3690091317136916, 0.2874771060219107, 0.2929327783651647, 0.5474389781053786, 0.40384188640793345, 0.2342361781598103, 0.5722761486238237, 0.30507412415321594, 0.4203328130750395, 0.4809527584990411, 0.6434470726429078, 0.5296326167966681, 0.6076567618895583, 0.3910390506826292, 0.609951648290316, 0.2927773618419275, 0.18319431809882947, 0.49713841561146815, 0.34176421620261693, 0.37245366506176564, 0.19209016490995237, 0.33005224730456395, 0.3384947301116933, 0.40968403591397695, 0.4928449811285595, 0.4932067019612236, 0.30958784523423216, 0.49959529400325586, 0.5886512915627848, 0.2572291289098335, 0.24310835573672146, 0.3188433077696804, 0.5630492219991903, 0.23276077591441402, 0.4137847487931866, 0.3489074211121302, 0.6493388201758812, 0.3443108298594106, 0.5794664631258206, 0.6982417775139159, 0.4302399721903458, 0.3453419102224347, 0.41945000398349075, 0.1987362830933742, 0.747812781639543, 0.6315941225159131, 0.5071202797293516, 0.5021270189804147, 0.21253000147586426, 0.18587621726507805, 0.2636519379172556, 0.44476835090634154, 0.630801500681901, 0.2448259859103279, 0.27981764866435677, 0.5568529939105378, 0.4689456178729721]\n"
     ]
    },
    {
     "name": "stderr",
     "output_type": "stream",
     "text": [
      "/usr/local/lib/python3.8/dist-packages/sklearn/metrics/_classification.py:1248: UndefinedMetricWarning: Jaccard is ill-defined and being set to 0.0 due to no true or predicted samples. Use `zero_division` parameter to control this behavior.\n",
      "  _warn_prf(average, modifier, msg_start, len(result))\n",
      "/usr/local/lib/python3.8/dist-packages/sklearn/metrics/_classification.py:1248: UndefinedMetricWarning: Jaccard is ill-defined and being set to 0.0 due to no true or predicted samples. Use `zero_division` parameter to control this behavior.\n",
      "  _warn_prf(average, modifier, msg_start, len(result))\n",
      "/usr/local/lib/python3.8/dist-packages/sklearn/metrics/_classification.py:1248: UndefinedMetricWarning: Jaccard is ill-defined and being set to 0.0 due to no true or predicted samples. Use `zero_division` parameter to control this behavior.\n",
      "  _warn_prf(average, modifier, msg_start, len(result))\n",
      "/usr/local/lib/python3.8/dist-packages/sklearn/metrics/_classification.py:1248: UndefinedMetricWarning: Jaccard is ill-defined and being set to 0.0 due to no true or predicted samples. Use `zero_division` parameter to control this behavior.\n",
      "  _warn_prf(average, modifier, msg_start, len(result))\n",
      "/usr/local/lib/python3.8/dist-packages/sklearn/metrics/_classification.py:1248: UndefinedMetricWarning: Jaccard is ill-defined and being set to 0.0 due to no true or predicted samples. Use `zero_division` parameter to control this behavior.\n",
      "  _warn_prf(average, modifier, msg_start, len(result))\n",
      "/usr/local/lib/python3.8/dist-packages/sklearn/metrics/_classification.py:1248: UndefinedMetricWarning: Jaccard is ill-defined and being set to 0.0 due to no true or predicted samples. Use `zero_division` parameter to control this behavior.\n",
      "  _warn_prf(average, modifier, msg_start, len(result))\n",
      "/usr/local/lib/python3.8/dist-packages/sklearn/metrics/_classification.py:1248: UndefinedMetricWarning: Jaccard is ill-defined and being set to 0.0 due to no true or predicted samples. Use `zero_division` parameter to control this behavior.\n",
      "  _warn_prf(average, modifier, msg_start, len(result))\n",
      "/usr/local/lib/python3.8/dist-packages/sklearn/metrics/_classification.py:1248: UndefinedMetricWarning: Jaccard is ill-defined and being set to 0.0 due to no true or predicted samples. Use `zero_division` parameter to control this behavior.\n",
      "  _warn_prf(average, modifier, msg_start, len(result))\n",
      "/usr/local/lib/python3.8/dist-packages/sklearn/metrics/_classification.py:1248: UndefinedMetricWarning: Jaccard is ill-defined and being set to 0.0 due to no true or predicted samples. Use `zero_division` parameter to control this behavior.\n",
      "  _warn_prf(average, modifier, msg_start, len(result))\n",
      " 92%|████████████████████████████████████████████████████████████████████████████████████████████████████████████████████████████████████████████████████████████████              | 92/100 [28:34<02:21, 17.65s/it]"
     ]
    },
    {
     "name": "stdout",
     "output_type": "stream",
     "text": [
      "mIOU given by: 0.4991825337635197\n",
      "[0.2962460688548717, 0.30391794630616453, 0.6524141724191902, 0.5080124211021342, 0.2546997191227881, 0.3242468249175954, 0.48479004956123334, 0.5467472828283928, 0.25181696633670264, 0.3229743586259389, 0.1806640666147666, 0.31367196910536943, 0.3036725050839316, 0.3747066545714159, 0.3572061277044272, 0.40287405829159245, 0.36737397224146057, 0.6353939891926504, 0.3761727240153292, 0.6351422203946238, 0.560441796027732, 0.5107469284348097, 0.20716565277126062, 0.4451154906483967, 0.4253084700905224, 0.2904131535243195, 0.5909509165572139, 0.31562296796897144, 0.5209770018455523, 0.4975059521240728, 0.21717606360205344, 0.4317293892832681, 0.3238602108257816, 0.6895299081971155, 0.3690091317136916, 0.2874771060219107, 0.2929327783651647, 0.5474389781053786, 0.40384188640793345, 0.2342361781598103, 0.5722761486238237, 0.30507412415321594, 0.4203328130750395, 0.4809527584990411, 0.6434470726429078, 0.5296326167966681, 0.6076567618895583, 0.3910390506826292, 0.609951648290316, 0.2927773618419275, 0.18319431809882947, 0.49713841561146815, 0.34176421620261693, 0.37245366506176564, 0.19209016490995237, 0.33005224730456395, 0.3384947301116933, 0.40968403591397695, 0.4928449811285595, 0.4932067019612236, 0.30958784523423216, 0.49959529400325586, 0.5886512915627848, 0.2572291289098335, 0.24310835573672146, 0.3188433077696804, 0.5630492219991903, 0.23276077591441402, 0.4137847487931866, 0.3489074211121302, 0.6493388201758812, 0.3443108298594106, 0.5794664631258206, 0.6982417775139159, 0.4302399721903458, 0.3453419102224347, 0.41945000398349075, 0.1987362830933742, 0.747812781639543, 0.6315941225159131, 0.5071202797293516, 0.5021270189804147, 0.21253000147586426, 0.18587621726507805, 0.2636519379172556, 0.44476835090634154, 0.630801500681901, 0.2448259859103279, 0.27981764866435677, 0.5568529939105378, 0.4689456178729721, 0.4991825337635197]\n"
     ]
    },
    {
     "name": "stderr",
     "output_type": "stream",
     "text": [
      "/usr/local/lib/python3.8/dist-packages/sklearn/metrics/_classification.py:1248: UndefinedMetricWarning: Jaccard is ill-defined and being set to 0.0 due to no true or predicted samples. Use `zero_division` parameter to control this behavior.\n",
      "  _warn_prf(average, modifier, msg_start, len(result))\n",
      "/usr/local/lib/python3.8/dist-packages/sklearn/metrics/_classification.py:1248: UndefinedMetricWarning: Jaccard is ill-defined and being set to 0.0 due to no true or predicted samples. Use `zero_division` parameter to control this behavior.\n",
      "  _warn_prf(average, modifier, msg_start, len(result))\n",
      "/usr/local/lib/python3.8/dist-packages/sklearn/metrics/_classification.py:1248: UndefinedMetricWarning: Jaccard is ill-defined and being set to 0.0 due to no true or predicted samples. Use `zero_division` parameter to control this behavior.\n",
      "  _warn_prf(average, modifier, msg_start, len(result))\n",
      "/usr/local/lib/python3.8/dist-packages/sklearn/metrics/_classification.py:1248: UndefinedMetricWarning: Jaccard is ill-defined and being set to 0.0 due to no true or predicted samples. Use `zero_division` parameter to control this behavior.\n",
      "  _warn_prf(average, modifier, msg_start, len(result))\n",
      "/usr/local/lib/python3.8/dist-packages/sklearn/metrics/_classification.py:1248: UndefinedMetricWarning: Jaccard is ill-defined and being set to 0.0 due to no true or predicted samples. Use `zero_division` parameter to control this behavior.\n",
      "  _warn_prf(average, modifier, msg_start, len(result))\n",
      "/usr/local/lib/python3.8/dist-packages/sklearn/metrics/_classification.py:1248: UndefinedMetricWarning: Jaccard is ill-defined and being set to 0.0 due to no true or predicted samples. Use `zero_division` parameter to control this behavior.\n",
      "  _warn_prf(average, modifier, msg_start, len(result))\n",
      "/usr/local/lib/python3.8/dist-packages/sklearn/metrics/_classification.py:1248: UndefinedMetricWarning: Jaccard is ill-defined and being set to 0.0 due to no true or predicted samples. Use `zero_division` parameter to control this behavior.\n",
      "  _warn_prf(average, modifier, msg_start, len(result))\n",
      "/usr/local/lib/python3.8/dist-packages/sklearn/metrics/_classification.py:1248: UndefinedMetricWarning: Jaccard is ill-defined and being set to 0.0 due to no true or predicted samples. Use `zero_division` parameter to control this behavior.\n",
      "  _warn_prf(average, modifier, msg_start, len(result))\n",
      "/usr/local/lib/python3.8/dist-packages/sklearn/metrics/_classification.py:1248: UndefinedMetricWarning: Jaccard is ill-defined and being set to 0.0 due to no true or predicted samples. Use `zero_division` parameter to control this behavior.\n",
      "  _warn_prf(average, modifier, msg_start, len(result))\n",
      "/usr/local/lib/python3.8/dist-packages/sklearn/metrics/_classification.py:1248: UndefinedMetricWarning: Jaccard is ill-defined and being set to 0.0 due to no true or predicted samples. Use `zero_division` parameter to control this behavior.\n",
      "  _warn_prf(average, modifier, msg_start, len(result))\n",
      "/usr/local/lib/python3.8/dist-packages/sklearn/metrics/_classification.py:1248: UndefinedMetricWarning: Jaccard is ill-defined and being set to 0.0 due to no true or predicted samples. Use `zero_division` parameter to control this behavior.\n",
      "  _warn_prf(average, modifier, msg_start, len(result))\n",
      "/usr/local/lib/python3.8/dist-packages/sklearn/metrics/_classification.py:1248: UndefinedMetricWarning: Jaccard is ill-defined and being set to 0.0 due to no true or predicted samples. Use `zero_division` parameter to control this behavior.\n",
      "  _warn_prf(average, modifier, msg_start, len(result))\n",
      "/usr/local/lib/python3.8/dist-packages/sklearn/metrics/_classification.py:1248: UndefinedMetricWarning: Jaccard is ill-defined and being set to 0.0 due to no true or predicted samples. Use `zero_division` parameter to control this behavior.\n",
      "  _warn_prf(average, modifier, msg_start, len(result))\n",
      "/usr/local/lib/python3.8/dist-packages/sklearn/metrics/_classification.py:1248: UndefinedMetricWarning: Jaccard is ill-defined and being set to 0.0 due to no true or predicted samples. Use `zero_division` parameter to control this behavior.\n",
      "  _warn_prf(average, modifier, msg_start, len(result))\n",
      " 93%|█████████████████████████████████████████████████████████████████████████████████████████████████████████████████████████████████████████████████████████████████▊            | 93/100 [28:50<02:00, 17.20s/it]"
     ]
    },
    {
     "name": "stdout",
     "output_type": "stream",
     "text": [
      "mIOU given by: 0.49273473338235046\n",
      "[0.2962460688548717, 0.30391794630616453, 0.6524141724191902, 0.5080124211021342, 0.2546997191227881, 0.3242468249175954, 0.48479004956123334, 0.5467472828283928, 0.25181696633670264, 0.3229743586259389, 0.1806640666147666, 0.31367196910536943, 0.3036725050839316, 0.3747066545714159, 0.3572061277044272, 0.40287405829159245, 0.36737397224146057, 0.6353939891926504, 0.3761727240153292, 0.6351422203946238, 0.560441796027732, 0.5107469284348097, 0.20716565277126062, 0.4451154906483967, 0.4253084700905224, 0.2904131535243195, 0.5909509165572139, 0.31562296796897144, 0.5209770018455523, 0.4975059521240728, 0.21717606360205344, 0.4317293892832681, 0.3238602108257816, 0.6895299081971155, 0.3690091317136916, 0.2874771060219107, 0.2929327783651647, 0.5474389781053786, 0.40384188640793345, 0.2342361781598103, 0.5722761486238237, 0.30507412415321594, 0.4203328130750395, 0.4809527584990411, 0.6434470726429078, 0.5296326167966681, 0.6076567618895583, 0.3910390506826292, 0.609951648290316, 0.2927773618419275, 0.18319431809882947, 0.49713841561146815, 0.34176421620261693, 0.37245366506176564, 0.19209016490995237, 0.33005224730456395, 0.3384947301116933, 0.40968403591397695, 0.4928449811285595, 0.4932067019612236, 0.30958784523423216, 0.49959529400325586, 0.5886512915627848, 0.2572291289098335, 0.24310835573672146, 0.3188433077696804, 0.5630492219991903, 0.23276077591441402, 0.4137847487931866, 0.3489074211121302, 0.6493388201758812, 0.3443108298594106, 0.5794664631258206, 0.6982417775139159, 0.4302399721903458, 0.3453419102224347, 0.41945000398349075, 0.1987362830933742, 0.747812781639543, 0.6315941225159131, 0.5071202797293516, 0.5021270189804147, 0.21253000147586426, 0.18587621726507805, 0.2636519379172556, 0.44476835090634154, 0.630801500681901, 0.2448259859103279, 0.27981764866435677, 0.5568529939105378, 0.4689456178729721, 0.4991825337635197, 0.49273473338235046]\n"
     ]
    },
    {
     "name": "stderr",
     "output_type": "stream",
     "text": [
      "/usr/local/lib/python3.8/dist-packages/sklearn/metrics/_classification.py:1248: UndefinedMetricWarning: Jaccard is ill-defined and being set to 0.0 due to no true or predicted samples. Use `zero_division` parameter to control this behavior.\n",
      "  _warn_prf(average, modifier, msg_start, len(result))\n",
      "/usr/local/lib/python3.8/dist-packages/sklearn/metrics/_classification.py:1248: UndefinedMetricWarning: Jaccard is ill-defined and being set to 0.0 due to no true or predicted samples. Use `zero_division` parameter to control this behavior.\n",
      "  _warn_prf(average, modifier, msg_start, len(result))\n",
      "/usr/local/lib/python3.8/dist-packages/sklearn/metrics/_classification.py:1248: UndefinedMetricWarning: Jaccard is ill-defined and being set to 0.0 due to no true or predicted samples. Use `zero_division` parameter to control this behavior.\n",
      "  _warn_prf(average, modifier, msg_start, len(result))\n",
      "/usr/local/lib/python3.8/dist-packages/sklearn/metrics/_classification.py:1248: UndefinedMetricWarning: Jaccard is ill-defined and being set to 0.0 due to no true or predicted samples. Use `zero_division` parameter to control this behavior.\n",
      "  _warn_prf(average, modifier, msg_start, len(result))\n",
      "/usr/local/lib/python3.8/dist-packages/sklearn/metrics/_classification.py:1248: UndefinedMetricWarning: Jaccard is ill-defined and being set to 0.0 due to no true or predicted samples. Use `zero_division` parameter to control this behavior.\n",
      "  _warn_prf(average, modifier, msg_start, len(result))\n",
      "/usr/local/lib/python3.8/dist-packages/sklearn/metrics/_classification.py:1248: UndefinedMetricWarning: Jaccard is ill-defined and being set to 0.0 due to no true or predicted samples. Use `zero_division` parameter to control this behavior.\n",
      "  _warn_prf(average, modifier, msg_start, len(result))\n",
      "/usr/local/lib/python3.8/dist-packages/sklearn/metrics/_classification.py:1248: UndefinedMetricWarning: Jaccard is ill-defined and being set to 0.0 due to no true or predicted samples. Use `zero_division` parameter to control this behavior.\n",
      "  _warn_prf(average, modifier, msg_start, len(result))\n",
      " 94%|███████████████████████████████████████████████████████████████████████████████████████████████████████████████████████████████████████████████████████████████████▌          | 94/100 [29:09<01:45, 17.50s/it]"
     ]
    },
    {
     "name": "stdout",
     "output_type": "stream",
     "text": [
      "mIOU given by: 0.1906291327494808\n",
      "[0.2962460688548717, 0.30391794630616453, 0.6524141724191902, 0.5080124211021342, 0.2546997191227881, 0.3242468249175954, 0.48479004956123334, 0.5467472828283928, 0.25181696633670264, 0.3229743586259389, 0.1806640666147666, 0.31367196910536943, 0.3036725050839316, 0.3747066545714159, 0.3572061277044272, 0.40287405829159245, 0.36737397224146057, 0.6353939891926504, 0.3761727240153292, 0.6351422203946238, 0.560441796027732, 0.5107469284348097, 0.20716565277126062, 0.4451154906483967, 0.4253084700905224, 0.2904131535243195, 0.5909509165572139, 0.31562296796897144, 0.5209770018455523, 0.4975059521240728, 0.21717606360205344, 0.4317293892832681, 0.3238602108257816, 0.6895299081971155, 0.3690091317136916, 0.2874771060219107, 0.2929327783651647, 0.5474389781053786, 0.40384188640793345, 0.2342361781598103, 0.5722761486238237, 0.30507412415321594, 0.4203328130750395, 0.4809527584990411, 0.6434470726429078, 0.5296326167966681, 0.6076567618895583, 0.3910390506826292, 0.609951648290316, 0.2927773618419275, 0.18319431809882947, 0.49713841561146815, 0.34176421620261693, 0.37245366506176564, 0.19209016490995237, 0.33005224730456395, 0.3384947301116933, 0.40968403591397695, 0.4928449811285595, 0.4932067019612236, 0.30958784523423216, 0.49959529400325586, 0.5886512915627848, 0.2572291289098335, 0.24310835573672146, 0.3188433077696804, 0.5630492219991903, 0.23276077591441402, 0.4137847487931866, 0.3489074211121302, 0.6493388201758812, 0.3443108298594106, 0.5794664631258206, 0.6982417775139159, 0.4302399721903458, 0.3453419102224347, 0.41945000398349075, 0.1987362830933742, 0.747812781639543, 0.6315941225159131, 0.5071202797293516, 0.5021270189804147, 0.21253000147586426, 0.18587621726507805, 0.2636519379172556, 0.44476835090634154, 0.630801500681901, 0.2448259859103279, 0.27981764866435677, 0.5568529939105378, 0.4689456178729721, 0.4991825337635197, 0.49273473338235046, 0.1906291327494808]\n"
     ]
    },
    {
     "name": "stderr",
     "output_type": "stream",
     "text": [
      "/usr/local/lib/python3.8/dist-packages/sklearn/metrics/_classification.py:1248: UndefinedMetricWarning: Jaccard is ill-defined and being set to 0.0 due to no true or predicted samples. Use `zero_division` parameter to control this behavior.\n",
      "  _warn_prf(average, modifier, msg_start, len(result))\n",
      "/usr/local/lib/python3.8/dist-packages/sklearn/metrics/_classification.py:1248: UndefinedMetricWarning: Jaccard is ill-defined and being set to 0.0 due to no true or predicted samples. Use `zero_division` parameter to control this behavior.\n",
      "  _warn_prf(average, modifier, msg_start, len(result))\n",
      "/usr/local/lib/python3.8/dist-packages/sklearn/metrics/_classification.py:1248: UndefinedMetricWarning: Jaccard is ill-defined and being set to 0.0 due to no true or predicted samples. Use `zero_division` parameter to control this behavior.\n",
      "  _warn_prf(average, modifier, msg_start, len(result))\n",
      "/usr/local/lib/python3.8/dist-packages/sklearn/metrics/_classification.py:1248: UndefinedMetricWarning: Jaccard is ill-defined and being set to 0.0 due to no true or predicted samples. Use `zero_division` parameter to control this behavior.\n",
      "  _warn_prf(average, modifier, msg_start, len(result))\n",
      "/usr/local/lib/python3.8/dist-packages/sklearn/metrics/_classification.py:1248: UndefinedMetricWarning: Jaccard is ill-defined and being set to 0.0 due to no true or predicted samples. Use `zero_division` parameter to control this behavior.\n",
      "  _warn_prf(average, modifier, msg_start, len(result))\n",
      "/usr/local/lib/python3.8/dist-packages/sklearn/metrics/_classification.py:1248: UndefinedMetricWarning: Jaccard is ill-defined and being set to 0.0 due to no true or predicted samples. Use `zero_division` parameter to control this behavior.\n",
      "  _warn_prf(average, modifier, msg_start, len(result))\n",
      "/usr/local/lib/python3.8/dist-packages/sklearn/metrics/_classification.py:1248: UndefinedMetricWarning: Jaccard is ill-defined and being set to 0.0 due to no true or predicted samples. Use `zero_division` parameter to control this behavior.\n",
      "  _warn_prf(average, modifier, msg_start, len(result))\n",
      "/usr/local/lib/python3.8/dist-packages/sklearn/metrics/_classification.py:1248: UndefinedMetricWarning: Jaccard is ill-defined and being set to 0.0 due to no true or predicted samples. Use `zero_division` parameter to control this behavior.\n",
      "  _warn_prf(average, modifier, msg_start, len(result))\n",
      "/usr/local/lib/python3.8/dist-packages/sklearn/metrics/_classification.py:1248: UndefinedMetricWarning: Jaccard is ill-defined and being set to 0.0 due to no true or predicted samples. Use `zero_division` parameter to control this behavior.\n",
      "  _warn_prf(average, modifier, msg_start, len(result))\n",
      "/usr/local/lib/python3.8/dist-packages/sklearn/metrics/_classification.py:1248: UndefinedMetricWarning: Jaccard is ill-defined and being set to 0.0 due to no true or predicted samples. Use `zero_division` parameter to control this behavior.\n",
      "  _warn_prf(average, modifier, msg_start, len(result))\n",
      " 95%|█████████████████████████████████████████████████████████████████████████████████████████████████████████████████████████████████████████████████████████████████████▎        | 95/100 [29:21<01:20, 16.08s/it]"
     ]
    },
    {
     "name": "stdout",
     "output_type": "stream",
     "text": [
      "mIOU given by: 0.36953248943600503\n",
      "[0.2962460688548717, 0.30391794630616453, 0.6524141724191902, 0.5080124211021342, 0.2546997191227881, 0.3242468249175954, 0.48479004956123334, 0.5467472828283928, 0.25181696633670264, 0.3229743586259389, 0.1806640666147666, 0.31367196910536943, 0.3036725050839316, 0.3747066545714159, 0.3572061277044272, 0.40287405829159245, 0.36737397224146057, 0.6353939891926504, 0.3761727240153292, 0.6351422203946238, 0.560441796027732, 0.5107469284348097, 0.20716565277126062, 0.4451154906483967, 0.4253084700905224, 0.2904131535243195, 0.5909509165572139, 0.31562296796897144, 0.5209770018455523, 0.4975059521240728, 0.21717606360205344, 0.4317293892832681, 0.3238602108257816, 0.6895299081971155, 0.3690091317136916, 0.2874771060219107, 0.2929327783651647, 0.5474389781053786, 0.40384188640793345, 0.2342361781598103, 0.5722761486238237, 0.30507412415321594, 0.4203328130750395, 0.4809527584990411, 0.6434470726429078, 0.5296326167966681, 0.6076567618895583, 0.3910390506826292, 0.609951648290316, 0.2927773618419275, 0.18319431809882947, 0.49713841561146815, 0.34176421620261693, 0.37245366506176564, 0.19209016490995237, 0.33005224730456395, 0.3384947301116933, 0.40968403591397695, 0.4928449811285595, 0.4932067019612236, 0.30958784523423216, 0.49959529400325586, 0.5886512915627848, 0.2572291289098335, 0.24310835573672146, 0.3188433077696804, 0.5630492219991903, 0.23276077591441402, 0.4137847487931866, 0.3489074211121302, 0.6493388201758812, 0.3443108298594106, 0.5794664631258206, 0.6982417775139159, 0.4302399721903458, 0.3453419102224347, 0.41945000398349075, 0.1987362830933742, 0.747812781639543, 0.6315941225159131, 0.5071202797293516, 0.5021270189804147, 0.21253000147586426, 0.18587621726507805, 0.2636519379172556, 0.44476835090634154, 0.630801500681901, 0.2448259859103279, 0.27981764866435677, 0.5568529939105378, 0.4689456178729721, 0.4991825337635197, 0.49273473338235046, 0.1906291327494808, 0.36953248943600503]\n"
     ]
    },
    {
     "name": "stderr",
     "output_type": "stream",
     "text": [
      "/usr/local/lib/python3.8/dist-packages/sklearn/metrics/_classification.py:1248: UndefinedMetricWarning: Jaccard is ill-defined and being set to 0.0 due to no true or predicted samples. Use `zero_division` parameter to control this behavior.\n",
      "  _warn_prf(average, modifier, msg_start, len(result))\n",
      "/usr/local/lib/python3.8/dist-packages/sklearn/metrics/_classification.py:1248: UndefinedMetricWarning: Jaccard is ill-defined and being set to 0.0 due to no true or predicted samples. Use `zero_division` parameter to control this behavior.\n",
      "  _warn_prf(average, modifier, msg_start, len(result))\n",
      "/usr/local/lib/python3.8/dist-packages/sklearn/metrics/_classification.py:1248: UndefinedMetricWarning: Jaccard is ill-defined and being set to 0.0 due to no true or predicted samples. Use `zero_division` parameter to control this behavior.\n",
      "  _warn_prf(average, modifier, msg_start, len(result))\n",
      "/usr/local/lib/python3.8/dist-packages/sklearn/metrics/_classification.py:1248: UndefinedMetricWarning: Jaccard is ill-defined and being set to 0.0 due to no true or predicted samples. Use `zero_division` parameter to control this behavior.\n",
      "  _warn_prf(average, modifier, msg_start, len(result))\n",
      "/usr/local/lib/python3.8/dist-packages/sklearn/metrics/_classification.py:1248: UndefinedMetricWarning: Jaccard is ill-defined and being set to 0.0 due to no true or predicted samples. Use `zero_division` parameter to control this behavior.\n",
      "  _warn_prf(average, modifier, msg_start, len(result))\n",
      "/usr/local/lib/python3.8/dist-packages/sklearn/metrics/_classification.py:1248: UndefinedMetricWarning: Jaccard is ill-defined and being set to 0.0 due to no true or predicted samples. Use `zero_division` parameter to control this behavior.\n",
      "  _warn_prf(average, modifier, msg_start, len(result))\n",
      "/usr/local/lib/python3.8/dist-packages/sklearn/metrics/_classification.py:1248: UndefinedMetricWarning: Jaccard is ill-defined and being set to 0.0 due to no true or predicted samples. Use `zero_division` parameter to control this behavior.\n",
      "  _warn_prf(average, modifier, msg_start, len(result))\n",
      "/usr/local/lib/python3.8/dist-packages/sklearn/metrics/_classification.py:1248: UndefinedMetricWarning: Jaccard is ill-defined and being set to 0.0 due to no true or predicted samples. Use `zero_division` parameter to control this behavior.\n",
      "  _warn_prf(average, modifier, msg_start, len(result))\n",
      "/usr/local/lib/python3.8/dist-packages/sklearn/metrics/_classification.py:1248: UndefinedMetricWarning: Jaccard is ill-defined and being set to 0.0 due to no true or predicted samples. Use `zero_division` parameter to control this behavior.\n",
      "  _warn_prf(average, modifier, msg_start, len(result))\n",
      "/usr/local/lib/python3.8/dist-packages/sklearn/metrics/_classification.py:1248: UndefinedMetricWarning: Jaccard is ill-defined and being set to 0.0 due to no true or predicted samples. Use `zero_division` parameter to control this behavior.\n",
      "  _warn_prf(average, modifier, msg_start, len(result))\n",
      "/usr/local/lib/python3.8/dist-packages/sklearn/metrics/_classification.py:1248: UndefinedMetricWarning: Jaccard is ill-defined and being set to 0.0 due to no true or predicted samples. Use `zero_division` parameter to control this behavior.\n",
      "  _warn_prf(average, modifier, msg_start, len(result))\n",
      "/usr/local/lib/python3.8/dist-packages/sklearn/metrics/_classification.py:1248: UndefinedMetricWarning: Jaccard is ill-defined and being set to 0.0 due to no true or predicted samples. Use `zero_division` parameter to control this behavior.\n",
      "  _warn_prf(average, modifier, msg_start, len(result))\n",
      " 96%|███████████████████████████████████████████████████████████████████████████████████████████████████████████████████████████████████████████████████████████████████████       | 96/100 [29:32<00:57, 14.38s/it]"
     ]
    },
    {
     "name": "stdout",
     "output_type": "stream",
     "text": [
      "mIOU given by: 0.5751055744192958\n",
      "[0.2962460688548717, 0.30391794630616453, 0.6524141724191902, 0.5080124211021342, 0.2546997191227881, 0.3242468249175954, 0.48479004956123334, 0.5467472828283928, 0.25181696633670264, 0.3229743586259389, 0.1806640666147666, 0.31367196910536943, 0.3036725050839316, 0.3747066545714159, 0.3572061277044272, 0.40287405829159245, 0.36737397224146057, 0.6353939891926504, 0.3761727240153292, 0.6351422203946238, 0.560441796027732, 0.5107469284348097, 0.20716565277126062, 0.4451154906483967, 0.4253084700905224, 0.2904131535243195, 0.5909509165572139, 0.31562296796897144, 0.5209770018455523, 0.4975059521240728, 0.21717606360205344, 0.4317293892832681, 0.3238602108257816, 0.6895299081971155, 0.3690091317136916, 0.2874771060219107, 0.2929327783651647, 0.5474389781053786, 0.40384188640793345, 0.2342361781598103, 0.5722761486238237, 0.30507412415321594, 0.4203328130750395, 0.4809527584990411, 0.6434470726429078, 0.5296326167966681, 0.6076567618895583, 0.3910390506826292, 0.609951648290316, 0.2927773618419275, 0.18319431809882947, 0.49713841561146815, 0.34176421620261693, 0.37245366506176564, 0.19209016490995237, 0.33005224730456395, 0.3384947301116933, 0.40968403591397695, 0.4928449811285595, 0.4932067019612236, 0.30958784523423216, 0.49959529400325586, 0.5886512915627848, 0.2572291289098335, 0.24310835573672146, 0.3188433077696804, 0.5630492219991903, 0.23276077591441402, 0.4137847487931866, 0.3489074211121302, 0.6493388201758812, 0.3443108298594106, 0.5794664631258206, 0.6982417775139159, 0.4302399721903458, 0.3453419102224347, 0.41945000398349075, 0.1987362830933742, 0.747812781639543, 0.6315941225159131, 0.5071202797293516, 0.5021270189804147, 0.21253000147586426, 0.18587621726507805, 0.2636519379172556, 0.44476835090634154, 0.630801500681901, 0.2448259859103279, 0.27981764866435677, 0.5568529939105378, 0.4689456178729721, 0.4991825337635197, 0.49273473338235046, 0.1906291327494808, 0.36953248943600503, 0.5751055744192958]\n"
     ]
    },
    {
     "name": "stderr",
     "output_type": "stream",
     "text": [
      "/usr/local/lib/python3.8/dist-packages/sklearn/metrics/_classification.py:1248: UndefinedMetricWarning: Jaccard is ill-defined and being set to 0.0 due to no true or predicted samples. Use `zero_division` parameter to control this behavior.\n",
      "  _warn_prf(average, modifier, msg_start, len(result))\n",
      "/usr/local/lib/python3.8/dist-packages/sklearn/metrics/_classification.py:1248: UndefinedMetricWarning: Jaccard is ill-defined and being set to 0.0 due to no true or predicted samples. Use `zero_division` parameter to control this behavior.\n",
      "  _warn_prf(average, modifier, msg_start, len(result))\n",
      "/usr/local/lib/python3.8/dist-packages/sklearn/metrics/_classification.py:1248: UndefinedMetricWarning: Jaccard is ill-defined and being set to 0.0 due to no true or predicted samples. Use `zero_division` parameter to control this behavior.\n",
      "  _warn_prf(average, modifier, msg_start, len(result))\n",
      "/usr/local/lib/python3.8/dist-packages/sklearn/metrics/_classification.py:1248: UndefinedMetricWarning: Jaccard is ill-defined and being set to 0.0 due to no true or predicted samples. Use `zero_division` parameter to control this behavior.\n",
      "  _warn_prf(average, modifier, msg_start, len(result))\n",
      "/usr/local/lib/python3.8/dist-packages/sklearn/metrics/_classification.py:1248: UndefinedMetricWarning: Jaccard is ill-defined and being set to 0.0 due to no true or predicted samples. Use `zero_division` parameter to control this behavior.\n",
      "  _warn_prf(average, modifier, msg_start, len(result))\n",
      "/usr/local/lib/python3.8/dist-packages/sklearn/metrics/_classification.py:1248: UndefinedMetricWarning: Jaccard is ill-defined and being set to 0.0 due to no true or predicted samples. Use `zero_division` parameter to control this behavior.\n",
      "  _warn_prf(average, modifier, msg_start, len(result))\n",
      "/usr/local/lib/python3.8/dist-packages/sklearn/metrics/_classification.py:1248: UndefinedMetricWarning: Jaccard is ill-defined and being set to 0.0 due to no true or predicted samples. Use `zero_division` parameter to control this behavior.\n",
      "  _warn_prf(average, modifier, msg_start, len(result))\n",
      "/usr/local/lib/python3.8/dist-packages/sklearn/metrics/_classification.py:1248: UndefinedMetricWarning: Jaccard is ill-defined and being set to 0.0 due to no true or predicted samples. Use `zero_division` parameter to control this behavior.\n",
      "  _warn_prf(average, modifier, msg_start, len(result))\n",
      "/usr/local/lib/python3.8/dist-packages/sklearn/metrics/_classification.py:1248: UndefinedMetricWarning: Jaccard is ill-defined and being set to 0.0 due to no true or predicted samples. Use `zero_division` parameter to control this behavior.\n",
      "  _warn_prf(average, modifier, msg_start, len(result))\n",
      "/usr/local/lib/python3.8/dist-packages/sklearn/metrics/_classification.py:1248: UndefinedMetricWarning: Jaccard is ill-defined and being set to 0.0 due to no true or predicted samples. Use `zero_division` parameter to control this behavior.\n",
      "  _warn_prf(average, modifier, msg_start, len(result))\n",
      " 97%|████████████████████████████████████████████████████████████████████████████████████████████████████████████████████████████████████████████████████████████████████████▊     | 97/100 [29:44<00:40, 13.59s/it]"
     ]
    },
    {
     "name": "stdout",
     "output_type": "stream",
     "text": [
      "mIOU given by: 0.5104781172111208\n",
      "[0.2962460688548717, 0.30391794630616453, 0.6524141724191902, 0.5080124211021342, 0.2546997191227881, 0.3242468249175954, 0.48479004956123334, 0.5467472828283928, 0.25181696633670264, 0.3229743586259389, 0.1806640666147666, 0.31367196910536943, 0.3036725050839316, 0.3747066545714159, 0.3572061277044272, 0.40287405829159245, 0.36737397224146057, 0.6353939891926504, 0.3761727240153292, 0.6351422203946238, 0.560441796027732, 0.5107469284348097, 0.20716565277126062, 0.4451154906483967, 0.4253084700905224, 0.2904131535243195, 0.5909509165572139, 0.31562296796897144, 0.5209770018455523, 0.4975059521240728, 0.21717606360205344, 0.4317293892832681, 0.3238602108257816, 0.6895299081971155, 0.3690091317136916, 0.2874771060219107, 0.2929327783651647, 0.5474389781053786, 0.40384188640793345, 0.2342361781598103, 0.5722761486238237, 0.30507412415321594, 0.4203328130750395, 0.4809527584990411, 0.6434470726429078, 0.5296326167966681, 0.6076567618895583, 0.3910390506826292, 0.609951648290316, 0.2927773618419275, 0.18319431809882947, 0.49713841561146815, 0.34176421620261693, 0.37245366506176564, 0.19209016490995237, 0.33005224730456395, 0.3384947301116933, 0.40968403591397695, 0.4928449811285595, 0.4932067019612236, 0.30958784523423216, 0.49959529400325586, 0.5886512915627848, 0.2572291289098335, 0.24310835573672146, 0.3188433077696804, 0.5630492219991903, 0.23276077591441402, 0.4137847487931866, 0.3489074211121302, 0.6493388201758812, 0.3443108298594106, 0.5794664631258206, 0.6982417775139159, 0.4302399721903458, 0.3453419102224347, 0.41945000398349075, 0.1987362830933742, 0.747812781639543, 0.6315941225159131, 0.5071202797293516, 0.5021270189804147, 0.21253000147586426, 0.18587621726507805, 0.2636519379172556, 0.44476835090634154, 0.630801500681901, 0.2448259859103279, 0.27981764866435677, 0.5568529939105378, 0.4689456178729721, 0.4991825337635197, 0.49273473338235046, 0.1906291327494808, 0.36953248943600503, 0.5751055744192958, 0.5104781172111208]\n"
     ]
    },
    {
     "name": "stderr",
     "output_type": "stream",
     "text": [
      "/usr/local/lib/python3.8/dist-packages/sklearn/metrics/_classification.py:1248: UndefinedMetricWarning: Jaccard is ill-defined and being set to 0.0 due to no true or predicted samples. Use `zero_division` parameter to control this behavior.\n",
      "  _warn_prf(average, modifier, msg_start, len(result))\n",
      "/usr/local/lib/python3.8/dist-packages/sklearn/metrics/_classification.py:1248: UndefinedMetricWarning: Jaccard is ill-defined and being set to 0.0 due to no true or predicted samples. Use `zero_division` parameter to control this behavior.\n",
      "  _warn_prf(average, modifier, msg_start, len(result))\n",
      "/usr/local/lib/python3.8/dist-packages/sklearn/metrics/_classification.py:1248: UndefinedMetricWarning: Jaccard is ill-defined and being set to 0.0 due to no true or predicted samples. Use `zero_division` parameter to control this behavior.\n",
      "  _warn_prf(average, modifier, msg_start, len(result))\n",
      "/usr/local/lib/python3.8/dist-packages/sklearn/metrics/_classification.py:1248: UndefinedMetricWarning: Jaccard is ill-defined and being set to 0.0 due to no true or predicted samples. Use `zero_division` parameter to control this behavior.\n",
      "  _warn_prf(average, modifier, msg_start, len(result))\n",
      "/usr/local/lib/python3.8/dist-packages/sklearn/metrics/_classification.py:1248: UndefinedMetricWarning: Jaccard is ill-defined and being set to 0.0 due to no true or predicted samples. Use `zero_division` parameter to control this behavior.\n",
      "  _warn_prf(average, modifier, msg_start, len(result))\n",
      "/usr/local/lib/python3.8/dist-packages/sklearn/metrics/_classification.py:1248: UndefinedMetricWarning: Jaccard is ill-defined and being set to 0.0 due to no true or predicted samples. Use `zero_division` parameter to control this behavior.\n",
      "  _warn_prf(average, modifier, msg_start, len(result))\n",
      "/usr/local/lib/python3.8/dist-packages/sklearn/metrics/_classification.py:1248: UndefinedMetricWarning: Jaccard is ill-defined and being set to 0.0 due to no true or predicted samples. Use `zero_division` parameter to control this behavior.\n",
      "  _warn_prf(average, modifier, msg_start, len(result))\n",
      "/usr/local/lib/python3.8/dist-packages/sklearn/metrics/_classification.py:1248: UndefinedMetricWarning: Jaccard is ill-defined and being set to 0.0 due to no true or predicted samples. Use `zero_division` parameter to control this behavior.\n",
      "  _warn_prf(average, modifier, msg_start, len(result))\n",
      "/usr/local/lib/python3.8/dist-packages/sklearn/metrics/_classification.py:1248: UndefinedMetricWarning: Jaccard is ill-defined and being set to 0.0 due to no true or predicted samples. Use `zero_division` parameter to control this behavior.\n",
      "  _warn_prf(average, modifier, msg_start, len(result))\n",
      "/usr/local/lib/python3.8/dist-packages/sklearn/metrics/_classification.py:1248: UndefinedMetricWarning: Jaccard is ill-defined and being set to 0.0 due to no true or predicted samples. Use `zero_division` parameter to control this behavior.\n",
      "  _warn_prf(average, modifier, msg_start, len(result))\n",
      " 98%|██████████████████████████████████████████████████████████████████████████████████████████████████████████████████████████████████████████████████████████████████████████▌   | 98/100 [29:55<00:25, 12.83s/it]"
     ]
    },
    {
     "name": "stdout",
     "output_type": "stream",
     "text": [
      "mIOU given by: 0.3942255688856783\n",
      "[0.2962460688548717, 0.30391794630616453, 0.6524141724191902, 0.5080124211021342, 0.2546997191227881, 0.3242468249175954, 0.48479004956123334, 0.5467472828283928, 0.25181696633670264, 0.3229743586259389, 0.1806640666147666, 0.31367196910536943, 0.3036725050839316, 0.3747066545714159, 0.3572061277044272, 0.40287405829159245, 0.36737397224146057, 0.6353939891926504, 0.3761727240153292, 0.6351422203946238, 0.560441796027732, 0.5107469284348097, 0.20716565277126062, 0.4451154906483967, 0.4253084700905224, 0.2904131535243195, 0.5909509165572139, 0.31562296796897144, 0.5209770018455523, 0.4975059521240728, 0.21717606360205344, 0.4317293892832681, 0.3238602108257816, 0.6895299081971155, 0.3690091317136916, 0.2874771060219107, 0.2929327783651647, 0.5474389781053786, 0.40384188640793345, 0.2342361781598103, 0.5722761486238237, 0.30507412415321594, 0.4203328130750395, 0.4809527584990411, 0.6434470726429078, 0.5296326167966681, 0.6076567618895583, 0.3910390506826292, 0.609951648290316, 0.2927773618419275, 0.18319431809882947, 0.49713841561146815, 0.34176421620261693, 0.37245366506176564, 0.19209016490995237, 0.33005224730456395, 0.3384947301116933, 0.40968403591397695, 0.4928449811285595, 0.4932067019612236, 0.30958784523423216, 0.49959529400325586, 0.5886512915627848, 0.2572291289098335, 0.24310835573672146, 0.3188433077696804, 0.5630492219991903, 0.23276077591441402, 0.4137847487931866, 0.3489074211121302, 0.6493388201758812, 0.3443108298594106, 0.5794664631258206, 0.6982417775139159, 0.4302399721903458, 0.3453419102224347, 0.41945000398349075, 0.1987362830933742, 0.747812781639543, 0.6315941225159131, 0.5071202797293516, 0.5021270189804147, 0.21253000147586426, 0.18587621726507805, 0.2636519379172556, 0.44476835090634154, 0.630801500681901, 0.2448259859103279, 0.27981764866435677, 0.5568529939105378, 0.4689456178729721, 0.4991825337635197, 0.49273473338235046, 0.1906291327494808, 0.36953248943600503, 0.5751055744192958, 0.5104781172111208, 0.3942255688856783]\n"
     ]
    },
    {
     "name": "stderr",
     "output_type": "stream",
     "text": [
      "/usr/local/lib/python3.8/dist-packages/sklearn/metrics/_classification.py:1248: UndefinedMetricWarning: Jaccard is ill-defined and being set to 0.0 due to no true or predicted samples. Use `zero_division` parameter to control this behavior.\n",
      "  _warn_prf(average, modifier, msg_start, len(result))\n",
      "/usr/local/lib/python3.8/dist-packages/sklearn/metrics/_classification.py:1248: UndefinedMetricWarning: Jaccard is ill-defined and being set to 0.0 due to no true or predicted samples. Use `zero_division` parameter to control this behavior.\n",
      "  _warn_prf(average, modifier, msg_start, len(result))\n",
      "/usr/local/lib/python3.8/dist-packages/sklearn/metrics/_classification.py:1248: UndefinedMetricWarning: Jaccard is ill-defined and being set to 0.0 due to no true or predicted samples. Use `zero_division` parameter to control this behavior.\n",
      "  _warn_prf(average, modifier, msg_start, len(result))\n",
      "/usr/local/lib/python3.8/dist-packages/sklearn/metrics/_classification.py:1248: UndefinedMetricWarning: Jaccard is ill-defined and being set to 0.0 due to no true or predicted samples. Use `zero_division` parameter to control this behavior.\n",
      "  _warn_prf(average, modifier, msg_start, len(result))\n",
      "/usr/local/lib/python3.8/dist-packages/sklearn/metrics/_classification.py:1248: UndefinedMetricWarning: Jaccard is ill-defined and being set to 0.0 due to no true or predicted samples. Use `zero_division` parameter to control this behavior.\n",
      "  _warn_prf(average, modifier, msg_start, len(result))\n",
      "/usr/local/lib/python3.8/dist-packages/sklearn/metrics/_classification.py:1248: UndefinedMetricWarning: Jaccard is ill-defined and being set to 0.0 due to no true or predicted samples. Use `zero_division` parameter to control this behavior.\n",
      "  _warn_prf(average, modifier, msg_start, len(result))\n",
      "/usr/local/lib/python3.8/dist-packages/sklearn/metrics/_classification.py:1248: UndefinedMetricWarning: Jaccard is ill-defined and being set to 0.0 due to no true or predicted samples. Use `zero_division` parameter to control this behavior.\n",
      "  _warn_prf(average, modifier, msg_start, len(result))\n",
      "/usr/local/lib/python3.8/dist-packages/sklearn/metrics/_classification.py:1248: UndefinedMetricWarning: Jaccard is ill-defined and being set to 0.0 due to no true or predicted samples. Use `zero_division` parameter to control this behavior.\n",
      "  _warn_prf(average, modifier, msg_start, len(result))\n",
      "/usr/local/lib/python3.8/dist-packages/sklearn/metrics/_classification.py:1248: UndefinedMetricWarning: Jaccard is ill-defined and being set to 0.0 due to no true or predicted samples. Use `zero_division` parameter to control this behavior.\n",
      "  _warn_prf(average, modifier, msg_start, len(result))\n",
      "/usr/local/lib/python3.8/dist-packages/sklearn/metrics/_classification.py:1248: UndefinedMetricWarning: Jaccard is ill-defined and being set to 0.0 due to no true or predicted samples. Use `zero_division` parameter to control this behavior.\n",
      "  _warn_prf(average, modifier, msg_start, len(result))\n",
      "/usr/local/lib/python3.8/dist-packages/sklearn/metrics/_classification.py:1248: UndefinedMetricWarning: Jaccard is ill-defined and being set to 0.0 due to no true or predicted samples. Use `zero_division` parameter to control this behavior.\n",
      "  _warn_prf(average, modifier, msg_start, len(result))\n",
      "/usr/local/lib/python3.8/dist-packages/sklearn/metrics/_classification.py:1248: UndefinedMetricWarning: Jaccard is ill-defined and being set to 0.0 due to no true or predicted samples. Use `zero_division` parameter to control this behavior.\n",
      "  _warn_prf(average, modifier, msg_start, len(result))\n",
      " 99%|████████████████████████████████████████████████████████████████████████████████████████████████████████████████████████████████████████████████████████████████████████████▎ | 99/100 [30:05<00:12, 12.01s/it]"
     ]
    },
    {
     "name": "stdout",
     "output_type": "stream",
     "text": [
      "mIOU given by: 0.24812665336476292\n",
      "[0.2962460688548717, 0.30391794630616453, 0.6524141724191902, 0.5080124211021342, 0.2546997191227881, 0.3242468249175954, 0.48479004956123334, 0.5467472828283928, 0.25181696633670264, 0.3229743586259389, 0.1806640666147666, 0.31367196910536943, 0.3036725050839316, 0.3747066545714159, 0.3572061277044272, 0.40287405829159245, 0.36737397224146057, 0.6353939891926504, 0.3761727240153292, 0.6351422203946238, 0.560441796027732, 0.5107469284348097, 0.20716565277126062, 0.4451154906483967, 0.4253084700905224, 0.2904131535243195, 0.5909509165572139, 0.31562296796897144, 0.5209770018455523, 0.4975059521240728, 0.21717606360205344, 0.4317293892832681, 0.3238602108257816, 0.6895299081971155, 0.3690091317136916, 0.2874771060219107, 0.2929327783651647, 0.5474389781053786, 0.40384188640793345, 0.2342361781598103, 0.5722761486238237, 0.30507412415321594, 0.4203328130750395, 0.4809527584990411, 0.6434470726429078, 0.5296326167966681, 0.6076567618895583, 0.3910390506826292, 0.609951648290316, 0.2927773618419275, 0.18319431809882947, 0.49713841561146815, 0.34176421620261693, 0.37245366506176564, 0.19209016490995237, 0.33005224730456395, 0.3384947301116933, 0.40968403591397695, 0.4928449811285595, 0.4932067019612236, 0.30958784523423216, 0.49959529400325586, 0.5886512915627848, 0.2572291289098335, 0.24310835573672146, 0.3188433077696804, 0.5630492219991903, 0.23276077591441402, 0.4137847487931866, 0.3489074211121302, 0.6493388201758812, 0.3443108298594106, 0.5794664631258206, 0.6982417775139159, 0.4302399721903458, 0.3453419102224347, 0.41945000398349075, 0.1987362830933742, 0.747812781639543, 0.6315941225159131, 0.5071202797293516, 0.5021270189804147, 0.21253000147586426, 0.18587621726507805, 0.2636519379172556, 0.44476835090634154, 0.630801500681901, 0.2448259859103279, 0.27981764866435677, 0.5568529939105378, 0.4689456178729721, 0.4991825337635197, 0.49273473338235046, 0.1906291327494808, 0.36953248943600503, 0.5751055744192958, 0.5104781172111208, 0.3942255688856783, 0.24812665336476292]\n"
     ]
    },
    {
     "name": "stderr",
     "output_type": "stream",
     "text": [
      "/usr/local/lib/python3.8/dist-packages/sklearn/metrics/_classification.py:1248: UndefinedMetricWarning: Jaccard is ill-defined and being set to 0.0 due to no true or predicted samples. Use `zero_division` parameter to control this behavior.\n",
      "  _warn_prf(average, modifier, msg_start, len(result))\n",
      "/usr/local/lib/python3.8/dist-packages/sklearn/metrics/_classification.py:1248: UndefinedMetricWarning: Jaccard is ill-defined and being set to 0.0 due to no true or predicted samples. Use `zero_division` parameter to control this behavior.\n",
      "  _warn_prf(average, modifier, msg_start, len(result))\n",
      "/usr/local/lib/python3.8/dist-packages/sklearn/metrics/_classification.py:1248: UndefinedMetricWarning: Jaccard is ill-defined and being set to 0.0 due to no true or predicted samples. Use `zero_division` parameter to control this behavior.\n",
      "  _warn_prf(average, modifier, msg_start, len(result))\n",
      "/usr/local/lib/python3.8/dist-packages/sklearn/metrics/_classification.py:1248: UndefinedMetricWarning: Jaccard is ill-defined and being set to 0.0 due to no true or predicted samples. Use `zero_division` parameter to control this behavior.\n",
      "  _warn_prf(average, modifier, msg_start, len(result))\n",
      "/usr/local/lib/python3.8/dist-packages/sklearn/metrics/_classification.py:1248: UndefinedMetricWarning: Jaccard is ill-defined and being set to 0.0 due to no true or predicted samples. Use `zero_division` parameter to control this behavior.\n",
      "  _warn_prf(average, modifier, msg_start, len(result))\n",
      "/usr/local/lib/python3.8/dist-packages/sklearn/metrics/_classification.py:1248: UndefinedMetricWarning: Jaccard is ill-defined and being set to 0.0 due to no true or predicted samples. Use `zero_division` parameter to control this behavior.\n",
      "  _warn_prf(average, modifier, msg_start, len(result))\n",
      "/usr/local/lib/python3.8/dist-packages/sklearn/metrics/_classification.py:1248: UndefinedMetricWarning: Jaccard is ill-defined and being set to 0.0 due to no true or predicted samples. Use `zero_division` parameter to control this behavior.\n",
      "  _warn_prf(average, modifier, msg_start, len(result))\n",
      "/usr/local/lib/python3.8/dist-packages/sklearn/metrics/_classification.py:1248: UndefinedMetricWarning: Jaccard is ill-defined and being set to 0.0 due to no true or predicted samples. Use `zero_division` parameter to control this behavior.\n",
      "  _warn_prf(average, modifier, msg_start, len(result))\n",
      "100%|█████████████████████████████████████████████████████████████████████████████████████████████████████████████████████████████████████████████████████████████████████████████| 100/100 [30:18<00:00, 18.19s/it]"
     ]
    },
    {
     "name": "stdout",
     "output_type": "stream",
     "text": [
      "mIOU given by: 0.5404031854064268\n",
      "[0.2962460688548717, 0.30391794630616453, 0.6524141724191902, 0.5080124211021342, 0.2546997191227881, 0.3242468249175954, 0.48479004956123334, 0.5467472828283928, 0.25181696633670264, 0.3229743586259389, 0.1806640666147666, 0.31367196910536943, 0.3036725050839316, 0.3747066545714159, 0.3572061277044272, 0.40287405829159245, 0.36737397224146057, 0.6353939891926504, 0.3761727240153292, 0.6351422203946238, 0.560441796027732, 0.5107469284348097, 0.20716565277126062, 0.4451154906483967, 0.4253084700905224, 0.2904131535243195, 0.5909509165572139, 0.31562296796897144, 0.5209770018455523, 0.4975059521240728, 0.21717606360205344, 0.4317293892832681, 0.3238602108257816, 0.6895299081971155, 0.3690091317136916, 0.2874771060219107, 0.2929327783651647, 0.5474389781053786, 0.40384188640793345, 0.2342361781598103, 0.5722761486238237, 0.30507412415321594, 0.4203328130750395, 0.4809527584990411, 0.6434470726429078, 0.5296326167966681, 0.6076567618895583, 0.3910390506826292, 0.609951648290316, 0.2927773618419275, 0.18319431809882947, 0.49713841561146815, 0.34176421620261693, 0.37245366506176564, 0.19209016490995237, 0.33005224730456395, 0.3384947301116933, 0.40968403591397695, 0.4928449811285595, 0.4932067019612236, 0.30958784523423216, 0.49959529400325586, 0.5886512915627848, 0.2572291289098335, 0.24310835573672146, 0.3188433077696804, 0.5630492219991903, 0.23276077591441402, 0.4137847487931866, 0.3489074211121302, 0.6493388201758812, 0.3443108298594106, 0.5794664631258206, 0.6982417775139159, 0.4302399721903458, 0.3453419102224347, 0.41945000398349075, 0.1987362830933742, 0.747812781639543, 0.6315941225159131, 0.5071202797293516, 0.5021270189804147, 0.21253000147586426, 0.18587621726507805, 0.2636519379172556, 0.44476835090634154, 0.630801500681901, 0.2448259859103279, 0.27981764866435677, 0.5568529939105378, 0.4689456178729721, 0.4991825337635197, 0.49273473338235046, 0.1906291327494808, 0.36953248943600503, 0.5751055744192958, 0.5104781172111208, 0.3942255688856783, 0.24812665336476292, 0.5404031854064268]\n"
     ]
    },
    {
     "name": "stderr",
     "output_type": "stream",
     "text": [
      "\n"
     ]
    }
   ],
   "source": [
    "\n",
    "\n",
    "\n",
    "\n",
    "mIOU_list = []\n",
    "for sn in tqdm(test_scenes):\n",
    "    scene = ScanNetScene(os.path.join(SCENE_DIR_TRAIN, sn))\n",
    "    voxel_grid, surface_points, surface_colors, vicinity_points, vicinity_distances, point_labels = scene.create_if_data(RESOLUTION, N_POINTS, SIGMAS)\n",
    "    surface_points_, center, pts_min, pts_max = point_augment_utils.scaling_point_cloud(surface_points)\n",
    "    class_counts = []\n",
    "    for c in range(len(CLASS_NAMES.keys())):\n",
    "        class_counts.append(np.sum(point_labels == c))\n",
    "    class_counts = np.array(class_counts)\n",
    "\n",
    "    for ign in IGNORED_LABELS:\n",
    "        class_counts[ign] = 0\n",
    "    class_weights = class_counts / class_counts.sum()\n",
    "    features = torch.FloatTensor(surface_colors).unsqueeze(0).to(DEVICE)\n",
    "    xyz = torch.FloatTensor(surface_points_).unsqueeze(0)\n",
    "    point_labels = torch.LongTensor(point_labels).unsqueeze(0).to(DEVICE)\n",
    "\n",
    "    input_points, input_neighbors, input_pools, feat_shape = prepare_input(xyz, k=16, num_layers=3, encoder_dims = [8,32,64], sub_sampling_ratio=4, \n",
    "                                                               device=DEVICE)\n",
    "    \n",
    "    with torch.no_grad():\n",
    "        all_logits = randla.forward(features, input_points, input_neighbors, input_pools)\n",
    "        all_logits = all_logits.squeeze().detach().numpy()\n",
    "        \n",
    "    logits_randla_augment = scene.colorize_labels(all_logits.argmax(axis=-1))\n",
    "    with open(f'../../processed/logits_folder/final_logits_randla_{sn}.npy', 'wb') as f:\n",
    "        np.save(f, logits_randla_augment)\n",
    "    with open(f'../../processed/surface_points/surface_points_randla_{sn}.npy', 'wb') as f:\n",
    "        np.save(f, surface_points)\n",
    "    IOU = get_iou(all_logits, point_labels.detach().squeeze().numpy())\n",
    "    IOU_weighted = IOU * class_weights\n",
    "    #print(\"IOU_weighted is {}\".format(IOU_weighted))\n",
    "    mIOU = np.sum(IOU_weighted)\n",
    "    print(\"mIOU given by: {}\".format(mIOU))\n",
    "    mIOU_list.append(mIOU)\n",
    "    print(mIOU_list)"
   ]
  },
  {
   "cell_type": "code",
   "execution_count": 8,
   "id": "14fd0fe5-5346-49ec-8dbb-537cd5422a0a",
   "metadata": {},
   "outputs": [],
   "source": [
    "from statistics import mean\n",
    "mean_IOU_performance = mean(mIOU_list)"
   ]
  },
  {
   "cell_type": "code",
   "execution_count": 9,
   "id": "c42386cc-6c10-4beb-9cef-19c7505c122b",
   "metadata": {},
   "outputs": [
    {
     "data": {
      "text/plain": [
       "0.41496073788053917"
      ]
     },
     "execution_count": 9,
     "metadata": {},
     "output_type": "execute_result"
    }
   ],
   "source": [
    "mean_IOU_performance"
   ]
  },
  {
   "cell_type": "code",
   "execution_count": 14,
   "id": "8f6441bb-b084-41a4-a992-b8ee138b4e18",
   "metadata": {},
   "outputs": [
    {
     "name": "stdout",
     "output_type": "stream",
     "text": [
      "[0.2962460688548717, 0.30391794630616453, 0.6524141724191902, 0.5080124211021342, 0.2546997191227881, 0.3242468249175954, 0.48479004956123334, 0.5467472828283928, 0.25181696633670264, 0.3229743586259389, 0.1806640666147666, 0.31367196910536943, 0.3036725050839316, 0.3747066545714159, 0.3572061277044272, 0.40287405829159245, 0.36737397224146057, 0.6353939891926504, 0.3761727240153292, 0.6351422203946238, 0.560441796027732, 0.5107469284348097, 0.20716565277126062, 0.4451154906483967, 0.4253084700905224, 0.2904131535243195, 0.5909509165572139, 0.31562296796897144, 0.5209770018455523, 0.4975059521240728, 0.21717606360205344, 0.4317293892832681, 0.3238602108257816, 0.6895299081971155, 0.3690091317136916, 0.2874771060219107, 0.2929327783651647, 0.5474389781053786, 0.40384188640793345, 0.2342361781598103, 0.5722761486238237, 0.30507412415321594, 0.4203328130750395, 0.4809527584990411, 0.6434470726429078, 0.5296326167966681, 0.6076567618895583, 0.3910390506826292, 0.609951648290316, 0.2927773618419275, 0.18319431809882947, 0.49713841561146815, 0.34176421620261693, 0.37245366506176564, 0.19209016490995237, 0.33005224730456395, 0.3384947301116933, 0.40968403591397695, 0.4928449811285595, 0.4932067019612236, 0.30958784523423216, 0.49959529400325586, 0.5886512915627848, 0.2572291289098335, 0.24310835573672146, 0.3188433077696804, 0.5630492219991903, 0.23276077591441402, 0.4137847487931866, 0.3489074211121302, 0.6493388201758812, 0.3443108298594106, 0.5794664631258206, 0.6982417775139159, 0.4302399721903458, 0.3453419102224347, 0.41945000398349075, 0.1987362830933742, 0.747812781639543, 0.6315941225159131, 0.5071202797293516, 0.5021270189804147, 0.21253000147586426, 0.18587621726507805, 0.2636519379172556, 0.44476835090634154, 0.630801500681901, 0.2448259859103279, 0.27981764866435677, 0.5568529939105378, 0.4689456178729721, 0.4991825337635197, 0.49273473338235046, 0.1906291327494808, 0.36953248943600503, 0.5751055744192958, 0.5104781172111208, 0.3942255688856783, 0.24812665336476292, 0.5404031854064268]\n"
     ]
    }
   ],
   "source": [
    "print(mIOU_list)"
   ]
  },
  {
   "cell_type": "code",
   "execution_count": 10,
   "id": "9f635111-4a0a-4dd0-95a0-841f93a28395",
   "metadata": {},
   "outputs": [
    {
     "data": {
      "text/plain": [
       "0.747812781639543"
      ]
     },
     "execution_count": 10,
     "metadata": {},
     "output_type": "execute_result"
    }
   ],
   "source": [
    "max(mIOU_list)"
   ]
  },
  {
   "cell_type": "code",
   "execution_count": 11,
   "id": "470244f9-37c7-4ed5-aa34-be534e420d9a",
   "metadata": {},
   "outputs": [
    {
     "data": {
      "text/plain": [
       "0.1806640666147666"
      ]
     },
     "execution_count": 11,
     "metadata": {},
     "output_type": "execute_result"
    }
   ],
   "source": [
    "min(mIOU_list)"
   ]
  },
  {
   "cell_type": "code",
   "execution_count": 12,
   "id": "872967e8-62c0-4d61-9006-1dc0c9dfc1ac",
   "metadata": {},
   "outputs": [
    {
     "data": {
      "text/plain": [
       "0.5909509165572139"
      ]
     },
     "execution_count": 12,
     "metadata": {},
     "output_type": "execute_result"
    }
   ],
   "source": [
    "mIOU_list[26]"
   ]
  },
  {
   "cell_type": "code",
   "execution_count": 21,
   "id": "76aabeef-f23d-445f-82fc-184fcd0b5604",
   "metadata": {},
   "outputs": [
    {
     "name": "stderr",
     "output_type": "stream",
     "text": [
      "  0%|                                                                                                                                                                                       | 0/100 [00:00<?, ?it/s]/usr/local/lib/python3.8/dist-packages/sklearn/metrics/_classification.py:1248: UndefinedMetricWarning: Jaccard is ill-defined and being set to 0.0 due to no true or predicted samples. Use `zero_division` parameter to control this behavior.\n",
      "  _warn_prf(average, modifier, msg_start, len(result))\n",
      "/usr/local/lib/python3.8/dist-packages/sklearn/metrics/_classification.py:1248: UndefinedMetricWarning: Jaccard is ill-defined and being set to 0.0 due to no true or predicted samples. Use `zero_division` parameter to control this behavior.\n",
      "  _warn_prf(average, modifier, msg_start, len(result))\n",
      "/usr/local/lib/python3.8/dist-packages/sklearn/metrics/_classification.py:1248: UndefinedMetricWarning: Jaccard is ill-defined and being set to 0.0 due to no true or predicted samples. Use `zero_division` parameter to control this behavior.\n",
      "  _warn_prf(average, modifier, msg_start, len(result))\n",
      "/usr/local/lib/python3.8/dist-packages/sklearn/metrics/_classification.py:1248: UndefinedMetricWarning: Jaccard is ill-defined and being set to 0.0 due to no true or predicted samples. Use `zero_division` parameter to control this behavior.\n",
      "  _warn_prf(average, modifier, msg_start, len(result))\n",
      "/usr/local/lib/python3.8/dist-packages/sklearn/metrics/_classification.py:1248: UndefinedMetricWarning: Jaccard is ill-defined and being set to 0.0 due to no true or predicted samples. Use `zero_division` parameter to control this behavior.\n",
      "  _warn_prf(average, modifier, msg_start, len(result))\n",
      "/usr/local/lib/python3.8/dist-packages/sklearn/metrics/_classification.py:1248: UndefinedMetricWarning: Jaccard is ill-defined and being set to 0.0 due to no true or predicted samples. Use `zero_division` parameter to control this behavior.\n",
      "  _warn_prf(average, modifier, msg_start, len(result))\n",
      "/usr/local/lib/python3.8/dist-packages/sklearn/metrics/_classification.py:1248: UndefinedMetricWarning: Jaccard is ill-defined and being set to 0.0 due to no true or predicted samples. Use `zero_division` parameter to control this behavior.\n",
      "  _warn_prf(average, modifier, msg_start, len(result))\n",
      "  1%|█▊                                                                                                                                                                             | 1/100 [00:06<11:12,  6.79s/it]"
     ]
    },
    {
     "name": "stdout",
     "output_type": "stream",
     "text": [
      "mIOU given by: 0.4800828259274245\n",
      "[0.4800828259274245]\n"
     ]
    },
    {
     "name": "stderr",
     "output_type": "stream",
     "text": [
      "/usr/local/lib/python3.8/dist-packages/sklearn/metrics/_classification.py:1248: UndefinedMetricWarning: Jaccard is ill-defined and being set to 0.0 due to no true or predicted samples. Use `zero_division` parameter to control this behavior.\n",
      "  _warn_prf(average, modifier, msg_start, len(result))\n",
      "/usr/local/lib/python3.8/dist-packages/sklearn/metrics/_classification.py:1248: UndefinedMetricWarning: Jaccard is ill-defined and being set to 0.0 due to no true or predicted samples. Use `zero_division` parameter to control this behavior.\n",
      "  _warn_prf(average, modifier, msg_start, len(result))\n",
      "/usr/local/lib/python3.8/dist-packages/sklearn/metrics/_classification.py:1248: UndefinedMetricWarning: Jaccard is ill-defined and being set to 0.0 due to no true or predicted samples. Use `zero_division` parameter to control this behavior.\n",
      "  _warn_prf(average, modifier, msg_start, len(result))\n",
      "/usr/local/lib/python3.8/dist-packages/sklearn/metrics/_classification.py:1248: UndefinedMetricWarning: Jaccard is ill-defined and being set to 0.0 due to no true or predicted samples. Use `zero_division` parameter to control this behavior.\n",
      "  _warn_prf(average, modifier, msg_start, len(result))\n",
      "/usr/local/lib/python3.8/dist-packages/sklearn/metrics/_classification.py:1248: UndefinedMetricWarning: Jaccard is ill-defined and being set to 0.0 due to no true or predicted samples. Use `zero_division` parameter to control this behavior.\n",
      "  _warn_prf(average, modifier, msg_start, len(result))\n",
      "/usr/local/lib/python3.8/dist-packages/sklearn/metrics/_classification.py:1248: UndefinedMetricWarning: Jaccard is ill-defined and being set to 0.0 due to no true or predicted samples. Use `zero_division` parameter to control this behavior.\n",
      "  _warn_prf(average, modifier, msg_start, len(result))\n",
      "/usr/local/lib/python3.8/dist-packages/sklearn/metrics/_classification.py:1248: UndefinedMetricWarning: Jaccard is ill-defined and being set to 0.0 due to no true or predicted samples. Use `zero_division` parameter to control this behavior.\n",
      "  _warn_prf(average, modifier, msg_start, len(result))\n",
      "  2%|███▌                                                                                                                                                                           | 2/100 [00:13<11:28,  7.03s/it]"
     ]
    },
    {
     "name": "stdout",
     "output_type": "stream",
     "text": [
      "mIOU given by: 0.3141256294622326\n",
      "[0.4800828259274245, 0.3141256294622326]\n"
     ]
    },
    {
     "name": "stderr",
     "output_type": "stream",
     "text": [
      "/usr/local/lib/python3.8/dist-packages/sklearn/metrics/_classification.py:1248: UndefinedMetricWarning: Jaccard is ill-defined and being set to 0.0 due to no true or predicted samples. Use `zero_division` parameter to control this behavior.\n",
      "  _warn_prf(average, modifier, msg_start, len(result))\n",
      "/usr/local/lib/python3.8/dist-packages/sklearn/metrics/_classification.py:1248: UndefinedMetricWarning: Jaccard is ill-defined and being set to 0.0 due to no true or predicted samples. Use `zero_division` parameter to control this behavior.\n",
      "  _warn_prf(average, modifier, msg_start, len(result))\n",
      "/usr/local/lib/python3.8/dist-packages/sklearn/metrics/_classification.py:1248: UndefinedMetricWarning: Jaccard is ill-defined and being set to 0.0 due to no true or predicted samples. Use `zero_division` parameter to control this behavior.\n",
      "  _warn_prf(average, modifier, msg_start, len(result))\n",
      "/usr/local/lib/python3.8/dist-packages/sklearn/metrics/_classification.py:1248: UndefinedMetricWarning: Jaccard is ill-defined and being set to 0.0 due to no true or predicted samples. Use `zero_division` parameter to control this behavior.\n",
      "  _warn_prf(average, modifier, msg_start, len(result))\n",
      "/usr/local/lib/python3.8/dist-packages/sklearn/metrics/_classification.py:1248: UndefinedMetricWarning: Jaccard is ill-defined and being set to 0.0 due to no true or predicted samples. Use `zero_division` parameter to control this behavior.\n",
      "  _warn_prf(average, modifier, msg_start, len(result))\n",
      "/usr/local/lib/python3.8/dist-packages/sklearn/metrics/_classification.py:1248: UndefinedMetricWarning: Jaccard is ill-defined and being set to 0.0 due to no true or predicted samples. Use `zero_division` parameter to control this behavior.\n",
      "  _warn_prf(average, modifier, msg_start, len(result))\n",
      "/usr/local/lib/python3.8/dist-packages/sklearn/metrics/_classification.py:1248: UndefinedMetricWarning: Jaccard is ill-defined and being set to 0.0 due to no true or predicted samples. Use `zero_division` parameter to control this behavior.\n",
      "  _warn_prf(average, modifier, msg_start, len(result))\n",
      "/usr/local/lib/python3.8/dist-packages/sklearn/metrics/_classification.py:1248: UndefinedMetricWarning: Jaccard is ill-defined and being set to 0.0 due to no true or predicted samples. Use `zero_division` parameter to control this behavior.\n",
      "  _warn_prf(average, modifier, msg_start, len(result))\n",
      "/usr/local/lib/python3.8/dist-packages/sklearn/metrics/_classification.py:1248: UndefinedMetricWarning: Jaccard is ill-defined and being set to 0.0 due to no true or predicted samples. Use `zero_division` parameter to control this behavior.\n",
      "  _warn_prf(average, modifier, msg_start, len(result))\n",
      "  3%|█████▎                                                                                                                                                                         | 3/100 [00:20<11:20,  7.02s/it]"
     ]
    },
    {
     "name": "stdout",
     "output_type": "stream",
     "text": [
      "mIOU given by: 0.43314472897323886\n",
      "[0.4800828259274245, 0.3141256294622326, 0.43314472897323886]\n"
     ]
    },
    {
     "name": "stderr",
     "output_type": "stream",
     "text": [
      "/usr/local/lib/python3.8/dist-packages/sklearn/metrics/_classification.py:1248: UndefinedMetricWarning: Jaccard is ill-defined and being set to 0.0 due to no true or predicted samples. Use `zero_division` parameter to control this behavior.\n",
      "  _warn_prf(average, modifier, msg_start, len(result))\n",
      "/usr/local/lib/python3.8/dist-packages/sklearn/metrics/_classification.py:1248: UndefinedMetricWarning: Jaccard is ill-defined and being set to 0.0 due to no true or predicted samples. Use `zero_division` parameter to control this behavior.\n",
      "  _warn_prf(average, modifier, msg_start, len(result))\n",
      "/usr/local/lib/python3.8/dist-packages/sklearn/metrics/_classification.py:1248: UndefinedMetricWarning: Jaccard is ill-defined and being set to 0.0 due to no true or predicted samples. Use `zero_division` parameter to control this behavior.\n",
      "  _warn_prf(average, modifier, msg_start, len(result))\n",
      "/usr/local/lib/python3.8/dist-packages/sklearn/metrics/_classification.py:1248: UndefinedMetricWarning: Jaccard is ill-defined and being set to 0.0 due to no true or predicted samples. Use `zero_division` parameter to control this behavior.\n",
      "  _warn_prf(average, modifier, msg_start, len(result))\n",
      "/usr/local/lib/python3.8/dist-packages/sklearn/metrics/_classification.py:1248: UndefinedMetricWarning: Jaccard is ill-defined and being set to 0.0 due to no true or predicted samples. Use `zero_division` parameter to control this behavior.\n",
      "  _warn_prf(average, modifier, msg_start, len(result))\n",
      "/usr/local/lib/python3.8/dist-packages/sklearn/metrics/_classification.py:1248: UndefinedMetricWarning: Jaccard is ill-defined and being set to 0.0 due to no true or predicted samples. Use `zero_division` parameter to control this behavior.\n",
      "  _warn_prf(average, modifier, msg_start, len(result))\n",
      "/usr/local/lib/python3.8/dist-packages/sklearn/metrics/_classification.py:1248: UndefinedMetricWarning: Jaccard is ill-defined and being set to 0.0 due to no true or predicted samples. Use `zero_division` parameter to control this behavior.\n",
      "  _warn_prf(average, modifier, msg_start, len(result))\n",
      "/usr/local/lib/python3.8/dist-packages/sklearn/metrics/_classification.py:1248: UndefinedMetricWarning: Jaccard is ill-defined and being set to 0.0 due to no true or predicted samples. Use `zero_division` parameter to control this behavior.\n",
      "  _warn_prf(average, modifier, msg_start, len(result))\n",
      "  4%|███████                                                                                                                                                                        | 4/100 [00:28<11:22,  7.11s/it]"
     ]
    },
    {
     "name": "stdout",
     "output_type": "stream",
     "text": [
      "mIOU given by: 0.3108838838691709\n",
      "[0.4800828259274245, 0.3141256294622326, 0.43314472897323886, 0.3108838838691709]\n"
     ]
    },
    {
     "name": "stderr",
     "output_type": "stream",
     "text": [
      "/usr/local/lib/python3.8/dist-packages/sklearn/metrics/_classification.py:1248: UndefinedMetricWarning: Jaccard is ill-defined and being set to 0.0 due to no true or predicted samples. Use `zero_division` parameter to control this behavior.\n",
      "  _warn_prf(average, modifier, msg_start, len(result))\n",
      "/usr/local/lib/python3.8/dist-packages/sklearn/metrics/_classification.py:1248: UndefinedMetricWarning: Jaccard is ill-defined and being set to 0.0 due to no true or predicted samples. Use `zero_division` parameter to control this behavior.\n",
      "  _warn_prf(average, modifier, msg_start, len(result))\n",
      "/usr/local/lib/python3.8/dist-packages/sklearn/metrics/_classification.py:1248: UndefinedMetricWarning: Jaccard is ill-defined and being set to 0.0 due to no true or predicted samples. Use `zero_division` parameter to control this behavior.\n",
      "  _warn_prf(average, modifier, msg_start, len(result))\n",
      "/usr/local/lib/python3.8/dist-packages/sklearn/metrics/_classification.py:1248: UndefinedMetricWarning: Jaccard is ill-defined and being set to 0.0 due to no true or predicted samples. Use `zero_division` parameter to control this behavior.\n",
      "  _warn_prf(average, modifier, msg_start, len(result))\n",
      "/usr/local/lib/python3.8/dist-packages/sklearn/metrics/_classification.py:1248: UndefinedMetricWarning: Jaccard is ill-defined and being set to 0.0 due to no true or predicted samples. Use `zero_division` parameter to control this behavior.\n",
      "  _warn_prf(average, modifier, msg_start, len(result))\n",
      "/usr/local/lib/python3.8/dist-packages/sklearn/metrics/_classification.py:1248: UndefinedMetricWarning: Jaccard is ill-defined and being set to 0.0 due to no true or predicted samples. Use `zero_division` parameter to control this behavior.\n",
      "  _warn_prf(average, modifier, msg_start, len(result))\n",
      "/usr/local/lib/python3.8/dist-packages/sklearn/metrics/_classification.py:1248: UndefinedMetricWarning: Jaccard is ill-defined and being set to 0.0 due to no true or predicted samples. Use `zero_division` parameter to control this behavior.\n",
      "  _warn_prf(average, modifier, msg_start, len(result))\n",
      "/usr/local/lib/python3.8/dist-packages/sklearn/metrics/_classification.py:1248: UndefinedMetricWarning: Jaccard is ill-defined and being set to 0.0 due to no true or predicted samples. Use `zero_division` parameter to control this behavior.\n",
      "  _warn_prf(average, modifier, msg_start, len(result))\n",
      "/usr/local/lib/python3.8/dist-packages/sklearn/metrics/_classification.py:1248: UndefinedMetricWarning: Jaccard is ill-defined and being set to 0.0 due to no true or predicted samples. Use `zero_division` parameter to control this behavior.\n",
      "  _warn_prf(average, modifier, msg_start, len(result))\n",
      "/usr/local/lib/python3.8/dist-packages/sklearn/metrics/_classification.py:1248: UndefinedMetricWarning: Jaccard is ill-defined and being set to 0.0 due to no true or predicted samples. Use `zero_division` parameter to control this behavior.\n",
      "  _warn_prf(average, modifier, msg_start, len(result))\n",
      "  5%|████████▊                                                                                                                                                                      | 5/100 [00:35<11:32,  7.29s/it]"
     ]
    },
    {
     "name": "stdout",
     "output_type": "stream",
     "text": [
      "mIOU given by: 0.4217744661366317\n",
      "[0.4800828259274245, 0.3141256294622326, 0.43314472897323886, 0.3108838838691709, 0.4217744661366317]\n"
     ]
    },
    {
     "name": "stderr",
     "output_type": "stream",
     "text": [
      "/usr/local/lib/python3.8/dist-packages/sklearn/metrics/_classification.py:1248: UndefinedMetricWarning: Jaccard is ill-defined and being set to 0.0 due to no true or predicted samples. Use `zero_division` parameter to control this behavior.\n",
      "  _warn_prf(average, modifier, msg_start, len(result))\n",
      "/usr/local/lib/python3.8/dist-packages/sklearn/metrics/_classification.py:1248: UndefinedMetricWarning: Jaccard is ill-defined and being set to 0.0 due to no true or predicted samples. Use `zero_division` parameter to control this behavior.\n",
      "  _warn_prf(average, modifier, msg_start, len(result))\n",
      "/usr/local/lib/python3.8/dist-packages/sklearn/metrics/_classification.py:1248: UndefinedMetricWarning: Jaccard is ill-defined and being set to 0.0 due to no true or predicted samples. Use `zero_division` parameter to control this behavior.\n",
      "  _warn_prf(average, modifier, msg_start, len(result))\n",
      "/usr/local/lib/python3.8/dist-packages/sklearn/metrics/_classification.py:1248: UndefinedMetricWarning: Jaccard is ill-defined and being set to 0.0 due to no true or predicted samples. Use `zero_division` parameter to control this behavior.\n",
      "  _warn_prf(average, modifier, msg_start, len(result))\n",
      "/usr/local/lib/python3.8/dist-packages/sklearn/metrics/_classification.py:1248: UndefinedMetricWarning: Jaccard is ill-defined and being set to 0.0 due to no true or predicted samples. Use `zero_division` parameter to control this behavior.\n",
      "  _warn_prf(average, modifier, msg_start, len(result))\n",
      "/usr/local/lib/python3.8/dist-packages/sklearn/metrics/_classification.py:1248: UndefinedMetricWarning: Jaccard is ill-defined and being set to 0.0 due to no true or predicted samples. Use `zero_division` parameter to control this behavior.\n",
      "  _warn_prf(average, modifier, msg_start, len(result))\n",
      "/usr/local/lib/python3.8/dist-packages/sklearn/metrics/_classification.py:1248: UndefinedMetricWarning: Jaccard is ill-defined and being set to 0.0 due to no true or predicted samples. Use `zero_division` parameter to control this behavior.\n",
      "  _warn_prf(average, modifier, msg_start, len(result))\n",
      "/usr/local/lib/python3.8/dist-packages/sklearn/metrics/_classification.py:1248: UndefinedMetricWarning: Jaccard is ill-defined and being set to 0.0 due to no true or predicted samples. Use `zero_division` parameter to control this behavior.\n",
      "  _warn_prf(average, modifier, msg_start, len(result))\n",
      "/usr/local/lib/python3.8/dist-packages/sklearn/metrics/_classification.py:1248: UndefinedMetricWarning: Jaccard is ill-defined and being set to 0.0 due to no true or predicted samples. Use `zero_division` parameter to control this behavior.\n",
      "  _warn_prf(average, modifier, msg_start, len(result))\n",
      "  6%|██████████▌                                                                                                                                                                    | 6/100 [00:42<11:00,  7.03s/it]"
     ]
    },
    {
     "name": "stdout",
     "output_type": "stream",
     "text": [
      "mIOU given by: 0.30750138626132656\n",
      "[0.4800828259274245, 0.3141256294622326, 0.43314472897323886, 0.3108838838691709, 0.4217744661366317, 0.30750138626132656]\n"
     ]
    },
    {
     "name": "stderr",
     "output_type": "stream",
     "text": [
      "/usr/local/lib/python3.8/dist-packages/sklearn/metrics/_classification.py:1248: UndefinedMetricWarning: Jaccard is ill-defined and being set to 0.0 due to no true or predicted samples. Use `zero_division` parameter to control this behavior.\n",
      "  _warn_prf(average, modifier, msg_start, len(result))\n",
      "/usr/local/lib/python3.8/dist-packages/sklearn/metrics/_classification.py:1248: UndefinedMetricWarning: Jaccard is ill-defined and being set to 0.0 due to no true or predicted samples. Use `zero_division` parameter to control this behavior.\n",
      "  _warn_prf(average, modifier, msg_start, len(result))\n",
      "/usr/local/lib/python3.8/dist-packages/sklearn/metrics/_classification.py:1248: UndefinedMetricWarning: Jaccard is ill-defined and being set to 0.0 due to no true or predicted samples. Use `zero_division` parameter to control this behavior.\n",
      "  _warn_prf(average, modifier, msg_start, len(result))\n",
      "/usr/local/lib/python3.8/dist-packages/sklearn/metrics/_classification.py:1248: UndefinedMetricWarning: Jaccard is ill-defined and being set to 0.0 due to no true or predicted samples. Use `zero_division` parameter to control this behavior.\n",
      "  _warn_prf(average, modifier, msg_start, len(result))\n",
      "/usr/local/lib/python3.8/dist-packages/sklearn/metrics/_classification.py:1248: UndefinedMetricWarning: Jaccard is ill-defined and being set to 0.0 due to no true or predicted samples. Use `zero_division` parameter to control this behavior.\n",
      "  _warn_prf(average, modifier, msg_start, len(result))\n",
      "/usr/local/lib/python3.8/dist-packages/sklearn/metrics/_classification.py:1248: UndefinedMetricWarning: Jaccard is ill-defined and being set to 0.0 due to no true or predicted samples. Use `zero_division` parameter to control this behavior.\n",
      "  _warn_prf(average, modifier, msg_start, len(result))\n",
      "/usr/local/lib/python3.8/dist-packages/sklearn/metrics/_classification.py:1248: UndefinedMetricWarning: Jaccard is ill-defined and being set to 0.0 due to no true or predicted samples. Use `zero_division` parameter to control this behavior.\n",
      "  _warn_prf(average, modifier, msg_start, len(result))\n",
      "  7%|████████████▎                                                                                                                                                                  | 7/100 [00:49<10:58,  7.08s/it]"
     ]
    },
    {
     "name": "stdout",
     "output_type": "stream",
     "text": [
      "mIOU given by: 0.23392175229936546\n",
      "[0.4800828259274245, 0.3141256294622326, 0.43314472897323886, 0.3108838838691709, 0.4217744661366317, 0.30750138626132656, 0.23392175229936546]\n"
     ]
    },
    {
     "name": "stderr",
     "output_type": "stream",
     "text": [
      "/usr/local/lib/python3.8/dist-packages/sklearn/metrics/_classification.py:1248: UndefinedMetricWarning: Jaccard is ill-defined and being set to 0.0 due to no true or predicted samples. Use `zero_division` parameter to control this behavior.\n",
      "  _warn_prf(average, modifier, msg_start, len(result))\n",
      "/usr/local/lib/python3.8/dist-packages/sklearn/metrics/_classification.py:1248: UndefinedMetricWarning: Jaccard is ill-defined and being set to 0.0 due to no true or predicted samples. Use `zero_division` parameter to control this behavior.\n",
      "  _warn_prf(average, modifier, msg_start, len(result))\n",
      "/usr/local/lib/python3.8/dist-packages/sklearn/metrics/_classification.py:1248: UndefinedMetricWarning: Jaccard is ill-defined and being set to 0.0 due to no true or predicted samples. Use `zero_division` parameter to control this behavior.\n",
      "  _warn_prf(average, modifier, msg_start, len(result))\n",
      "/usr/local/lib/python3.8/dist-packages/sklearn/metrics/_classification.py:1248: UndefinedMetricWarning: Jaccard is ill-defined and being set to 0.0 due to no true or predicted samples. Use `zero_division` parameter to control this behavior.\n",
      "  _warn_prf(average, modifier, msg_start, len(result))\n",
      "/usr/local/lib/python3.8/dist-packages/sklearn/metrics/_classification.py:1248: UndefinedMetricWarning: Jaccard is ill-defined and being set to 0.0 due to no true or predicted samples. Use `zero_division` parameter to control this behavior.\n",
      "  _warn_prf(average, modifier, msg_start, len(result))\n",
      "/usr/local/lib/python3.8/dist-packages/sklearn/metrics/_classification.py:1248: UndefinedMetricWarning: Jaccard is ill-defined and being set to 0.0 due to no true or predicted samples. Use `zero_division` parameter to control this behavior.\n",
      "  _warn_prf(average, modifier, msg_start, len(result))\n",
      "/usr/local/lib/python3.8/dist-packages/sklearn/metrics/_classification.py:1248: UndefinedMetricWarning: Jaccard is ill-defined and being set to 0.0 due to no true or predicted samples. Use `zero_division` parameter to control this behavior.\n",
      "  _warn_prf(average, modifier, msg_start, len(result))\n",
      "/usr/local/lib/python3.8/dist-packages/sklearn/metrics/_classification.py:1248: UndefinedMetricWarning: Jaccard is ill-defined and being set to 0.0 due to no true or predicted samples. Use `zero_division` parameter to control this behavior.\n",
      "  _warn_prf(average, modifier, msg_start, len(result))\n",
      "  8%|██████████████                                                                                                                                                                 | 8/100 [00:58<11:57,  7.80s/it]"
     ]
    },
    {
     "name": "stdout",
     "output_type": "stream",
     "text": [
      "mIOU given by: 0.5477260303527688\n",
      "[0.4800828259274245, 0.3141256294622326, 0.43314472897323886, 0.3108838838691709, 0.4217744661366317, 0.30750138626132656, 0.23392175229936546, 0.5477260303527688]\n"
     ]
    },
    {
     "name": "stderr",
     "output_type": "stream",
     "text": [
      "/usr/local/lib/python3.8/dist-packages/sklearn/metrics/_classification.py:1248: UndefinedMetricWarning: Jaccard is ill-defined and being set to 0.0 due to no true or predicted samples. Use `zero_division` parameter to control this behavior.\n",
      "  _warn_prf(average, modifier, msg_start, len(result))\n",
      "/usr/local/lib/python3.8/dist-packages/sklearn/metrics/_classification.py:1248: UndefinedMetricWarning: Jaccard is ill-defined and being set to 0.0 due to no true or predicted samples. Use `zero_division` parameter to control this behavior.\n",
      "  _warn_prf(average, modifier, msg_start, len(result))\n",
      "/usr/local/lib/python3.8/dist-packages/sklearn/metrics/_classification.py:1248: UndefinedMetricWarning: Jaccard is ill-defined and being set to 0.0 due to no true or predicted samples. Use `zero_division` parameter to control this behavior.\n",
      "  _warn_prf(average, modifier, msg_start, len(result))\n",
      "/usr/local/lib/python3.8/dist-packages/sklearn/metrics/_classification.py:1248: UndefinedMetricWarning: Jaccard is ill-defined and being set to 0.0 due to no true or predicted samples. Use `zero_division` parameter to control this behavior.\n",
      "  _warn_prf(average, modifier, msg_start, len(result))\n",
      "/usr/local/lib/python3.8/dist-packages/sklearn/metrics/_classification.py:1248: UndefinedMetricWarning: Jaccard is ill-defined and being set to 0.0 due to no true or predicted samples. Use `zero_division` parameter to control this behavior.\n",
      "  _warn_prf(average, modifier, msg_start, len(result))\n",
      "/usr/local/lib/python3.8/dist-packages/sklearn/metrics/_classification.py:1248: UndefinedMetricWarning: Jaccard is ill-defined and being set to 0.0 due to no true or predicted samples. Use `zero_division` parameter to control this behavior.\n",
      "  _warn_prf(average, modifier, msg_start, len(result))\n",
      "/usr/local/lib/python3.8/dist-packages/sklearn/metrics/_classification.py:1248: UndefinedMetricWarning: Jaccard is ill-defined and being set to 0.0 due to no true or predicted samples. Use `zero_division` parameter to control this behavior.\n",
      "  _warn_prf(average, modifier, msg_start, len(result))\n",
      "/usr/local/lib/python3.8/dist-packages/sklearn/metrics/_classification.py:1248: UndefinedMetricWarning: Jaccard is ill-defined and being set to 0.0 due to no true or predicted samples. Use `zero_division` parameter to control this behavior.\n",
      "  _warn_prf(average, modifier, msg_start, len(result))\n",
      "  9%|███████████████▊                                                                                                                                                               | 9/100 [01:05<11:20,  7.48s/it]"
     ]
    },
    {
     "name": "stdout",
     "output_type": "stream",
     "text": [
      "mIOU given by: 0.4806466370151126\n",
      "[0.4800828259274245, 0.3141256294622326, 0.43314472897323886, 0.3108838838691709, 0.4217744661366317, 0.30750138626132656, 0.23392175229936546, 0.5477260303527688, 0.4806466370151126]\n"
     ]
    },
    {
     "name": "stderr",
     "output_type": "stream",
     "text": [
      "/usr/local/lib/python3.8/dist-packages/sklearn/metrics/_classification.py:1248: UndefinedMetricWarning: Jaccard is ill-defined and being set to 0.0 due to no true or predicted samples. Use `zero_division` parameter to control this behavior.\n",
      "  _warn_prf(average, modifier, msg_start, len(result))\n",
      "/usr/local/lib/python3.8/dist-packages/sklearn/metrics/_classification.py:1248: UndefinedMetricWarning: Jaccard is ill-defined and being set to 0.0 due to no true or predicted samples. Use `zero_division` parameter to control this behavior.\n",
      "  _warn_prf(average, modifier, msg_start, len(result))\n",
      "/usr/local/lib/python3.8/dist-packages/sklearn/metrics/_classification.py:1248: UndefinedMetricWarning: Jaccard is ill-defined and being set to 0.0 due to no true or predicted samples. Use `zero_division` parameter to control this behavior.\n",
      "  _warn_prf(average, modifier, msg_start, len(result))\n",
      "/usr/local/lib/python3.8/dist-packages/sklearn/metrics/_classification.py:1248: UndefinedMetricWarning: Jaccard is ill-defined and being set to 0.0 due to no true or predicted samples. Use `zero_division` parameter to control this behavior.\n",
      "  _warn_prf(average, modifier, msg_start, len(result))\n",
      "/usr/local/lib/python3.8/dist-packages/sklearn/metrics/_classification.py:1248: UndefinedMetricWarning: Jaccard is ill-defined and being set to 0.0 due to no true or predicted samples. Use `zero_division` parameter to control this behavior.\n",
      "  _warn_prf(average, modifier, msg_start, len(result))\n",
      "/usr/local/lib/python3.8/dist-packages/sklearn/metrics/_classification.py:1248: UndefinedMetricWarning: Jaccard is ill-defined and being set to 0.0 due to no true or predicted samples. Use `zero_division` parameter to control this behavior.\n",
      "  _warn_prf(average, modifier, msg_start, len(result))\n",
      "/usr/local/lib/python3.8/dist-packages/sklearn/metrics/_classification.py:1248: UndefinedMetricWarning: Jaccard is ill-defined and being set to 0.0 due to no true or predicted samples. Use `zero_division` parameter to control this behavior.\n",
      "  _warn_prf(average, modifier, msg_start, len(result))\n",
      "/usr/local/lib/python3.8/dist-packages/sklearn/metrics/_classification.py:1248: UndefinedMetricWarning: Jaccard is ill-defined and being set to 0.0 due to no true or predicted samples. Use `zero_division` parameter to control this behavior.\n",
      "  _warn_prf(average, modifier, msg_start, len(result))\n",
      "/usr/local/lib/python3.8/dist-packages/sklearn/metrics/_classification.py:1248: UndefinedMetricWarning: Jaccard is ill-defined and being set to 0.0 due to no true or predicted samples. Use `zero_division` parameter to control this behavior.\n",
      "  _warn_prf(average, modifier, msg_start, len(result))\n",
      "/usr/local/lib/python3.8/dist-packages/sklearn/metrics/_classification.py:1248: UndefinedMetricWarning: Jaccard is ill-defined and being set to 0.0 due to no true or predicted samples. Use `zero_division` parameter to control this behavior.\n",
      "  _warn_prf(average, modifier, msg_start, len(result))\n",
      "/usr/local/lib/python3.8/dist-packages/sklearn/metrics/_classification.py:1248: UndefinedMetricWarning: Jaccard is ill-defined and being set to 0.0 due to no true or predicted samples. Use `zero_division` parameter to control this behavior.\n",
      "  _warn_prf(average, modifier, msg_start, len(result))\n",
      " 10%|█████████████████▍                                                                                                                                                            | 10/100 [01:13<11:31,  7.68s/it]"
     ]
    },
    {
     "name": "stdout",
     "output_type": "stream",
     "text": [
      "mIOU given by: 0.4273892546729509\n",
      "[0.4800828259274245, 0.3141256294622326, 0.43314472897323886, 0.3108838838691709, 0.4217744661366317, 0.30750138626132656, 0.23392175229936546, 0.5477260303527688, 0.4806466370151126, 0.4273892546729509]\n"
     ]
    },
    {
     "name": "stderr",
     "output_type": "stream",
     "text": [
      "/usr/local/lib/python3.8/dist-packages/sklearn/metrics/_classification.py:1248: UndefinedMetricWarning: Jaccard is ill-defined and being set to 0.0 due to no true or predicted samples. Use `zero_division` parameter to control this behavior.\n",
      "  _warn_prf(average, modifier, msg_start, len(result))\n",
      "/usr/local/lib/python3.8/dist-packages/sklearn/metrics/_classification.py:1248: UndefinedMetricWarning: Jaccard is ill-defined and being set to 0.0 due to no true or predicted samples. Use `zero_division` parameter to control this behavior.\n",
      "  _warn_prf(average, modifier, msg_start, len(result))\n",
      "/usr/local/lib/python3.8/dist-packages/sklearn/metrics/_classification.py:1248: UndefinedMetricWarning: Jaccard is ill-defined and being set to 0.0 due to no true or predicted samples. Use `zero_division` parameter to control this behavior.\n",
      "  _warn_prf(average, modifier, msg_start, len(result))\n",
      "/usr/local/lib/python3.8/dist-packages/sklearn/metrics/_classification.py:1248: UndefinedMetricWarning: Jaccard is ill-defined and being set to 0.0 due to no true or predicted samples. Use `zero_division` parameter to control this behavior.\n",
      "  _warn_prf(average, modifier, msg_start, len(result))\n",
      "/usr/local/lib/python3.8/dist-packages/sklearn/metrics/_classification.py:1248: UndefinedMetricWarning: Jaccard is ill-defined and being set to 0.0 due to no true or predicted samples. Use `zero_division` parameter to control this behavior.\n",
      "  _warn_prf(average, modifier, msg_start, len(result))\n",
      "/usr/local/lib/python3.8/dist-packages/sklearn/metrics/_classification.py:1248: UndefinedMetricWarning: Jaccard is ill-defined and being set to 0.0 due to no true or predicted samples. Use `zero_division` parameter to control this behavior.\n",
      "  _warn_prf(average, modifier, msg_start, len(result))\n",
      "/usr/local/lib/python3.8/dist-packages/sklearn/metrics/_classification.py:1248: UndefinedMetricWarning: Jaccard is ill-defined and being set to 0.0 due to no true or predicted samples. Use `zero_division` parameter to control this behavior.\n",
      "  _warn_prf(average, modifier, msg_start, len(result))\n",
      "/usr/local/lib/python3.8/dist-packages/sklearn/metrics/_classification.py:1248: UndefinedMetricWarning: Jaccard is ill-defined and being set to 0.0 due to no true or predicted samples. Use `zero_division` parameter to control this behavior.\n",
      "  _warn_prf(average, modifier, msg_start, len(result))\n",
      "/usr/local/lib/python3.8/dist-packages/sklearn/metrics/_classification.py:1248: UndefinedMetricWarning: Jaccard is ill-defined and being set to 0.0 due to no true or predicted samples. Use `zero_division` parameter to control this behavior.\n",
      "  _warn_prf(average, modifier, msg_start, len(result))\n",
      "/usr/local/lib/python3.8/dist-packages/sklearn/metrics/_classification.py:1248: UndefinedMetricWarning: Jaccard is ill-defined and being set to 0.0 due to no true or predicted samples. Use `zero_division` parameter to control this behavior.\n",
      "  _warn_prf(average, modifier, msg_start, len(result))\n",
      " 11%|███████████████████▏                                                                                                                                                          | 11/100 [01:21<11:15,  7.59s/it]"
     ]
    },
    {
     "name": "stdout",
     "output_type": "stream",
     "text": [
      "mIOU given by: 0.23403418107045632\n",
      "[0.4800828259274245, 0.3141256294622326, 0.43314472897323886, 0.3108838838691709, 0.4217744661366317, 0.30750138626132656, 0.23392175229936546, 0.5477260303527688, 0.4806466370151126, 0.4273892546729509, 0.23403418107045632]\n"
     ]
    },
    {
     "name": "stderr",
     "output_type": "stream",
     "text": [
      "/usr/local/lib/python3.8/dist-packages/sklearn/metrics/_classification.py:1248: UndefinedMetricWarning: Jaccard is ill-defined and being set to 0.0 due to no true or predicted samples. Use `zero_division` parameter to control this behavior.\n",
      "  _warn_prf(average, modifier, msg_start, len(result))\n",
      "/usr/local/lib/python3.8/dist-packages/sklearn/metrics/_classification.py:1248: UndefinedMetricWarning: Jaccard is ill-defined and being set to 0.0 due to no true or predicted samples. Use `zero_division` parameter to control this behavior.\n",
      "  _warn_prf(average, modifier, msg_start, len(result))\n",
      "/usr/local/lib/python3.8/dist-packages/sklearn/metrics/_classification.py:1248: UndefinedMetricWarning: Jaccard is ill-defined and being set to 0.0 due to no true or predicted samples. Use `zero_division` parameter to control this behavior.\n",
      "  _warn_prf(average, modifier, msg_start, len(result))\n",
      "/usr/local/lib/python3.8/dist-packages/sklearn/metrics/_classification.py:1248: UndefinedMetricWarning: Jaccard is ill-defined and being set to 0.0 due to no true or predicted samples. Use `zero_division` parameter to control this behavior.\n",
      "  _warn_prf(average, modifier, msg_start, len(result))\n",
      "/usr/local/lib/python3.8/dist-packages/sklearn/metrics/_classification.py:1248: UndefinedMetricWarning: Jaccard is ill-defined and being set to 0.0 due to no true or predicted samples. Use `zero_division` parameter to control this behavior.\n",
      "  _warn_prf(average, modifier, msg_start, len(result))\n",
      "/usr/local/lib/python3.8/dist-packages/sklearn/metrics/_classification.py:1248: UndefinedMetricWarning: Jaccard is ill-defined and being set to 0.0 due to no true or predicted samples. Use `zero_division` parameter to control this behavior.\n",
      "  _warn_prf(average, modifier, msg_start, len(result))\n",
      "/usr/local/lib/python3.8/dist-packages/sklearn/metrics/_classification.py:1248: UndefinedMetricWarning: Jaccard is ill-defined and being set to 0.0 due to no true or predicted samples. Use `zero_division` parameter to control this behavior.\n",
      "  _warn_prf(average, modifier, msg_start, len(result))\n",
      "/usr/local/lib/python3.8/dist-packages/sklearn/metrics/_classification.py:1248: UndefinedMetricWarning: Jaccard is ill-defined and being set to 0.0 due to no true or predicted samples. Use `zero_division` parameter to control this behavior.\n",
      "  _warn_prf(average, modifier, msg_start, len(result))\n",
      "/usr/local/lib/python3.8/dist-packages/sklearn/metrics/_classification.py:1248: UndefinedMetricWarning: Jaccard is ill-defined and being set to 0.0 due to no true or predicted samples. Use `zero_division` parameter to control this behavior.\n",
      "  _warn_prf(average, modifier, msg_start, len(result))\n",
      "/usr/local/lib/python3.8/dist-packages/sklearn/metrics/_classification.py:1248: UndefinedMetricWarning: Jaccard is ill-defined and being set to 0.0 due to no true or predicted samples. Use `zero_division` parameter to control this behavior.\n",
      "  _warn_prf(average, modifier, msg_start, len(result))\n",
      "/usr/local/lib/python3.8/dist-packages/sklearn/metrics/_classification.py:1248: UndefinedMetricWarning: Jaccard is ill-defined and being set to 0.0 due to no true or predicted samples. Use `zero_division` parameter to control this behavior.\n",
      "  _warn_prf(average, modifier, msg_start, len(result))\n",
      " 12%|████████████████████▉                                                                                                                                                         | 12/100 [01:28<11:09,  7.60s/it]"
     ]
    },
    {
     "name": "stdout",
     "output_type": "stream",
     "text": [
      "mIOU given by: 0.622984223580449\n",
      "[0.4800828259274245, 0.3141256294622326, 0.43314472897323886, 0.3108838838691709, 0.4217744661366317, 0.30750138626132656, 0.23392175229936546, 0.5477260303527688, 0.4806466370151126, 0.4273892546729509, 0.23403418107045632, 0.622984223580449]\n"
     ]
    },
    {
     "name": "stderr",
     "output_type": "stream",
     "text": [
      "/usr/local/lib/python3.8/dist-packages/sklearn/metrics/_classification.py:1248: UndefinedMetricWarning: Jaccard is ill-defined and being set to 0.0 due to no true or predicted samples. Use `zero_division` parameter to control this behavior.\n",
      "  _warn_prf(average, modifier, msg_start, len(result))\n",
      "/usr/local/lib/python3.8/dist-packages/sklearn/metrics/_classification.py:1248: UndefinedMetricWarning: Jaccard is ill-defined and being set to 0.0 due to no true or predicted samples. Use `zero_division` parameter to control this behavior.\n",
      "  _warn_prf(average, modifier, msg_start, len(result))\n",
      "/usr/local/lib/python3.8/dist-packages/sklearn/metrics/_classification.py:1248: UndefinedMetricWarning: Jaccard is ill-defined and being set to 0.0 due to no true or predicted samples. Use `zero_division` parameter to control this behavior.\n",
      "  _warn_prf(average, modifier, msg_start, len(result))\n",
      "/usr/local/lib/python3.8/dist-packages/sklearn/metrics/_classification.py:1248: UndefinedMetricWarning: Jaccard is ill-defined and being set to 0.0 due to no true or predicted samples. Use `zero_division` parameter to control this behavior.\n",
      "  _warn_prf(average, modifier, msg_start, len(result))\n",
      "/usr/local/lib/python3.8/dist-packages/sklearn/metrics/_classification.py:1248: UndefinedMetricWarning: Jaccard is ill-defined and being set to 0.0 due to no true or predicted samples. Use `zero_division` parameter to control this behavior.\n",
      "  _warn_prf(average, modifier, msg_start, len(result))\n",
      "/usr/local/lib/python3.8/dist-packages/sklearn/metrics/_classification.py:1248: UndefinedMetricWarning: Jaccard is ill-defined and being set to 0.0 due to no true or predicted samples. Use `zero_division` parameter to control this behavior.\n",
      "  _warn_prf(average, modifier, msg_start, len(result))\n",
      "/usr/local/lib/python3.8/dist-packages/sklearn/metrics/_classification.py:1248: UndefinedMetricWarning: Jaccard is ill-defined and being set to 0.0 due to no true or predicted samples. Use `zero_division` parameter to control this behavior.\n",
      "  _warn_prf(average, modifier, msg_start, len(result))\n",
      "/usr/local/lib/python3.8/dist-packages/sklearn/metrics/_classification.py:1248: UndefinedMetricWarning: Jaccard is ill-defined and being set to 0.0 due to no true or predicted samples. Use `zero_division` parameter to control this behavior.\n",
      "  _warn_prf(average, modifier, msg_start, len(result))\n",
      "/usr/local/lib/python3.8/dist-packages/sklearn/metrics/_classification.py:1248: UndefinedMetricWarning: Jaccard is ill-defined and being set to 0.0 due to no true or predicted samples. Use `zero_division` parameter to control this behavior.\n",
      "  _warn_prf(average, modifier, msg_start, len(result))\n",
      " 13%|██████████████████████▌                                                                                                                                                       | 13/100 [01:36<11:00,  7.59s/it]"
     ]
    },
    {
     "name": "stdout",
     "output_type": "stream",
     "text": [
      "mIOU given by: 0.28395898477729614\n",
      "[0.4800828259274245, 0.3141256294622326, 0.43314472897323886, 0.3108838838691709, 0.4217744661366317, 0.30750138626132656, 0.23392175229936546, 0.5477260303527688, 0.4806466370151126, 0.4273892546729509, 0.23403418107045632, 0.622984223580449, 0.28395898477729614]\n"
     ]
    },
    {
     "name": "stderr",
     "output_type": "stream",
     "text": [
      "/usr/local/lib/python3.8/dist-packages/sklearn/metrics/_classification.py:1248: UndefinedMetricWarning: Jaccard is ill-defined and being set to 0.0 due to no true or predicted samples. Use `zero_division` parameter to control this behavior.\n",
      "  _warn_prf(average, modifier, msg_start, len(result))\n",
      "/usr/local/lib/python3.8/dist-packages/sklearn/metrics/_classification.py:1248: UndefinedMetricWarning: Jaccard is ill-defined and being set to 0.0 due to no true or predicted samples. Use `zero_division` parameter to control this behavior.\n",
      "  _warn_prf(average, modifier, msg_start, len(result))\n",
      "/usr/local/lib/python3.8/dist-packages/sklearn/metrics/_classification.py:1248: UndefinedMetricWarning: Jaccard is ill-defined and being set to 0.0 due to no true or predicted samples. Use `zero_division` parameter to control this behavior.\n",
      "  _warn_prf(average, modifier, msg_start, len(result))\n",
      "/usr/local/lib/python3.8/dist-packages/sklearn/metrics/_classification.py:1248: UndefinedMetricWarning: Jaccard is ill-defined and being set to 0.0 due to no true or predicted samples. Use `zero_division` parameter to control this behavior.\n",
      "  _warn_prf(average, modifier, msg_start, len(result))\n",
      "/usr/local/lib/python3.8/dist-packages/sklearn/metrics/_classification.py:1248: UndefinedMetricWarning: Jaccard is ill-defined and being set to 0.0 due to no true or predicted samples. Use `zero_division` parameter to control this behavior.\n",
      "  _warn_prf(average, modifier, msg_start, len(result))\n",
      "/usr/local/lib/python3.8/dist-packages/sklearn/metrics/_classification.py:1248: UndefinedMetricWarning: Jaccard is ill-defined and being set to 0.0 due to no true or predicted samples. Use `zero_division` parameter to control this behavior.\n",
      "  _warn_prf(average, modifier, msg_start, len(result))\n",
      "/usr/local/lib/python3.8/dist-packages/sklearn/metrics/_classification.py:1248: UndefinedMetricWarning: Jaccard is ill-defined and being set to 0.0 due to no true or predicted samples. Use `zero_division` parameter to control this behavior.\n",
      "  _warn_prf(average, modifier, msg_start, len(result))\n",
      " 14%|████████████████████████▎                                                                                                                                                     | 14/100 [01:45<11:23,  7.94s/it]"
     ]
    },
    {
     "name": "stdout",
     "output_type": "stream",
     "text": [
      "mIOU given by: 0.5053798888534788\n",
      "[0.4800828259274245, 0.3141256294622326, 0.43314472897323886, 0.3108838838691709, 0.4217744661366317, 0.30750138626132656, 0.23392175229936546, 0.5477260303527688, 0.4806466370151126, 0.4273892546729509, 0.23403418107045632, 0.622984223580449, 0.28395898477729614, 0.5053798888534788]\n"
     ]
    },
    {
     "name": "stderr",
     "output_type": "stream",
     "text": [
      "/usr/local/lib/python3.8/dist-packages/sklearn/metrics/_classification.py:1248: UndefinedMetricWarning: Jaccard is ill-defined and being set to 0.0 due to no true or predicted samples. Use `zero_division` parameter to control this behavior.\n",
      "  _warn_prf(average, modifier, msg_start, len(result))\n",
      "/usr/local/lib/python3.8/dist-packages/sklearn/metrics/_classification.py:1248: UndefinedMetricWarning: Jaccard is ill-defined and being set to 0.0 due to no true or predicted samples. Use `zero_division` parameter to control this behavior.\n",
      "  _warn_prf(average, modifier, msg_start, len(result))\n",
      "/usr/local/lib/python3.8/dist-packages/sklearn/metrics/_classification.py:1248: UndefinedMetricWarning: Jaccard is ill-defined and being set to 0.0 due to no true or predicted samples. Use `zero_division` parameter to control this behavior.\n",
      "  _warn_prf(average, modifier, msg_start, len(result))\n",
      "/usr/local/lib/python3.8/dist-packages/sklearn/metrics/_classification.py:1248: UndefinedMetricWarning: Jaccard is ill-defined and being set to 0.0 due to no true or predicted samples. Use `zero_division` parameter to control this behavior.\n",
      "  _warn_prf(average, modifier, msg_start, len(result))\n",
      "/usr/local/lib/python3.8/dist-packages/sklearn/metrics/_classification.py:1248: UndefinedMetricWarning: Jaccard is ill-defined and being set to 0.0 due to no true or predicted samples. Use `zero_division` parameter to control this behavior.\n",
      "  _warn_prf(average, modifier, msg_start, len(result))\n",
      "/usr/local/lib/python3.8/dist-packages/sklearn/metrics/_classification.py:1248: UndefinedMetricWarning: Jaccard is ill-defined and being set to 0.0 due to no true or predicted samples. Use `zero_division` parameter to control this behavior.\n",
      "  _warn_prf(average, modifier, msg_start, len(result))\n",
      "/usr/local/lib/python3.8/dist-packages/sklearn/metrics/_classification.py:1248: UndefinedMetricWarning: Jaccard is ill-defined and being set to 0.0 due to no true or predicted samples. Use `zero_division` parameter to control this behavior.\n",
      "  _warn_prf(average, modifier, msg_start, len(result))\n",
      "/usr/local/lib/python3.8/dist-packages/sklearn/metrics/_classification.py:1248: UndefinedMetricWarning: Jaccard is ill-defined and being set to 0.0 due to no true or predicted samples. Use `zero_division` parameter to control this behavior.\n",
      "  _warn_prf(average, modifier, msg_start, len(result))\n",
      " 15%|██████████████████████████                                                                                                                                                    | 15/100 [01:50<10:13,  7.22s/it]"
     ]
    },
    {
     "name": "stdout",
     "output_type": "stream",
     "text": [
      "mIOU given by: 0.36854260904913283\n",
      "[0.4800828259274245, 0.3141256294622326, 0.43314472897323886, 0.3108838838691709, 0.4217744661366317, 0.30750138626132656, 0.23392175229936546, 0.5477260303527688, 0.4806466370151126, 0.4273892546729509, 0.23403418107045632, 0.622984223580449, 0.28395898477729614, 0.5053798888534788, 0.36854260904913283]\n"
     ]
    },
    {
     "name": "stderr",
     "output_type": "stream",
     "text": [
      "/usr/local/lib/python3.8/dist-packages/sklearn/metrics/_classification.py:1248: UndefinedMetricWarning: Jaccard is ill-defined and being set to 0.0 due to no true or predicted samples. Use `zero_division` parameter to control this behavior.\n",
      "  _warn_prf(average, modifier, msg_start, len(result))\n",
      "/usr/local/lib/python3.8/dist-packages/sklearn/metrics/_classification.py:1248: UndefinedMetricWarning: Jaccard is ill-defined and being set to 0.0 due to no true or predicted samples. Use `zero_division` parameter to control this behavior.\n",
      "  _warn_prf(average, modifier, msg_start, len(result))\n",
      "/usr/local/lib/python3.8/dist-packages/sklearn/metrics/_classification.py:1248: UndefinedMetricWarning: Jaccard is ill-defined and being set to 0.0 due to no true or predicted samples. Use `zero_division` parameter to control this behavior.\n",
      "  _warn_prf(average, modifier, msg_start, len(result))\n",
      "/usr/local/lib/python3.8/dist-packages/sklearn/metrics/_classification.py:1248: UndefinedMetricWarning: Jaccard is ill-defined and being set to 0.0 due to no true or predicted samples. Use `zero_division` parameter to control this behavior.\n",
      "  _warn_prf(average, modifier, msg_start, len(result))\n",
      "/usr/local/lib/python3.8/dist-packages/sklearn/metrics/_classification.py:1248: UndefinedMetricWarning: Jaccard is ill-defined and being set to 0.0 due to no true or predicted samples. Use `zero_division` parameter to control this behavior.\n",
      "  _warn_prf(average, modifier, msg_start, len(result))\n",
      "/usr/local/lib/python3.8/dist-packages/sklearn/metrics/_classification.py:1248: UndefinedMetricWarning: Jaccard is ill-defined and being set to 0.0 due to no true or predicted samples. Use `zero_division` parameter to control this behavior.\n",
      "  _warn_prf(average, modifier, msg_start, len(result))\n",
      "/usr/local/lib/python3.8/dist-packages/sklearn/metrics/_classification.py:1248: UndefinedMetricWarning: Jaccard is ill-defined and being set to 0.0 due to no true or predicted samples. Use `zero_division` parameter to control this behavior.\n",
      "  _warn_prf(average, modifier, msg_start, len(result))\n",
      "/usr/local/lib/python3.8/dist-packages/sklearn/metrics/_classification.py:1248: UndefinedMetricWarning: Jaccard is ill-defined and being set to 0.0 due to no true or predicted samples. Use `zero_division` parameter to control this behavior.\n",
      "  _warn_prf(average, modifier, msg_start, len(result))\n",
      "/usr/local/lib/python3.8/dist-packages/sklearn/metrics/_classification.py:1248: UndefinedMetricWarning: Jaccard is ill-defined and being set to 0.0 due to no true or predicted samples. Use `zero_division` parameter to control this behavior.\n",
      "  _warn_prf(average, modifier, msg_start, len(result))\n",
      "/usr/local/lib/python3.8/dist-packages/sklearn/metrics/_classification.py:1248: UndefinedMetricWarning: Jaccard is ill-defined and being set to 0.0 due to no true or predicted samples. Use `zero_division` parameter to control this behavior.\n",
      "  _warn_prf(average, modifier, msg_start, len(result))\n",
      " 16%|███████████████████████████▊                                                                                                                                                  | 16/100 [01:58<10:18,  7.36s/it]"
     ]
    },
    {
     "name": "stdout",
     "output_type": "stream",
     "text": [
      "mIOU given by: 0.23487570158381382\n",
      "[0.4800828259274245, 0.3141256294622326, 0.43314472897323886, 0.3108838838691709, 0.4217744661366317, 0.30750138626132656, 0.23392175229936546, 0.5477260303527688, 0.4806466370151126, 0.4273892546729509, 0.23403418107045632, 0.622984223580449, 0.28395898477729614, 0.5053798888534788, 0.36854260904913283, 0.23487570158381382]\n"
     ]
    },
    {
     "name": "stderr",
     "output_type": "stream",
     "text": [
      "/usr/local/lib/python3.8/dist-packages/sklearn/metrics/_classification.py:1248: UndefinedMetricWarning: Jaccard is ill-defined and being set to 0.0 due to no true or predicted samples. Use `zero_division` parameter to control this behavior.\n",
      "  _warn_prf(average, modifier, msg_start, len(result))\n",
      "/usr/local/lib/python3.8/dist-packages/sklearn/metrics/_classification.py:1248: UndefinedMetricWarning: Jaccard is ill-defined and being set to 0.0 due to no true or predicted samples. Use `zero_division` parameter to control this behavior.\n",
      "  _warn_prf(average, modifier, msg_start, len(result))\n",
      "/usr/local/lib/python3.8/dist-packages/sklearn/metrics/_classification.py:1248: UndefinedMetricWarning: Jaccard is ill-defined and being set to 0.0 due to no true or predicted samples. Use `zero_division` parameter to control this behavior.\n",
      "  _warn_prf(average, modifier, msg_start, len(result))\n",
      "/usr/local/lib/python3.8/dist-packages/sklearn/metrics/_classification.py:1248: UndefinedMetricWarning: Jaccard is ill-defined and being set to 0.0 due to no true or predicted samples. Use `zero_division` parameter to control this behavior.\n",
      "  _warn_prf(average, modifier, msg_start, len(result))\n",
      "/usr/local/lib/python3.8/dist-packages/sklearn/metrics/_classification.py:1248: UndefinedMetricWarning: Jaccard is ill-defined and being set to 0.0 due to no true or predicted samples. Use `zero_division` parameter to control this behavior.\n",
      "  _warn_prf(average, modifier, msg_start, len(result))\n",
      "/usr/local/lib/python3.8/dist-packages/sklearn/metrics/_classification.py:1248: UndefinedMetricWarning: Jaccard is ill-defined and being set to 0.0 due to no true or predicted samples. Use `zero_division` parameter to control this behavior.\n",
      "  _warn_prf(average, modifier, msg_start, len(result))\n",
      "/usr/local/lib/python3.8/dist-packages/sklearn/metrics/_classification.py:1248: UndefinedMetricWarning: Jaccard is ill-defined and being set to 0.0 due to no true or predicted samples. Use `zero_division` parameter to control this behavior.\n",
      "  _warn_prf(average, modifier, msg_start, len(result))\n",
      "/usr/local/lib/python3.8/dist-packages/sklearn/metrics/_classification.py:1248: UndefinedMetricWarning: Jaccard is ill-defined and being set to 0.0 due to no true or predicted samples. Use `zero_division` parameter to control this behavior.\n",
      "  _warn_prf(average, modifier, msg_start, len(result))\n",
      "/usr/local/lib/python3.8/dist-packages/sklearn/metrics/_classification.py:1248: UndefinedMetricWarning: Jaccard is ill-defined and being set to 0.0 due to no true or predicted samples. Use `zero_division` parameter to control this behavior.\n",
      "  _warn_prf(average, modifier, msg_start, len(result))\n",
      "/usr/local/lib/python3.8/dist-packages/sklearn/metrics/_classification.py:1248: UndefinedMetricWarning: Jaccard is ill-defined and being set to 0.0 due to no true or predicted samples. Use `zero_division` parameter to control this behavior.\n",
      "  _warn_prf(average, modifier, msg_start, len(result))\n",
      "/usr/local/lib/python3.8/dist-packages/sklearn/metrics/_classification.py:1248: UndefinedMetricWarning: Jaccard is ill-defined and being set to 0.0 due to no true or predicted samples. Use `zero_division` parameter to control this behavior.\n",
      "  _warn_prf(average, modifier, msg_start, len(result))\n",
      " 17%|█████████████████████████████▌                                                                                                                                                | 17/100 [02:08<11:07,  8.04s/it]"
     ]
    },
    {
     "name": "stdout",
     "output_type": "stream",
     "text": [
      "mIOU given by: 0.2776467227756309\n",
      "[0.4800828259274245, 0.3141256294622326, 0.43314472897323886, 0.3108838838691709, 0.4217744661366317, 0.30750138626132656, 0.23392175229936546, 0.5477260303527688, 0.4806466370151126, 0.4273892546729509, 0.23403418107045632, 0.622984223580449, 0.28395898477729614, 0.5053798888534788, 0.36854260904913283, 0.23487570158381382, 0.2776467227756309]\n"
     ]
    },
    {
     "name": "stderr",
     "output_type": "stream",
     "text": [
      "/usr/local/lib/python3.8/dist-packages/sklearn/metrics/_classification.py:1248: UndefinedMetricWarning: Jaccard is ill-defined and being set to 0.0 due to no true or predicted samples. Use `zero_division` parameter to control this behavior.\n",
      "  _warn_prf(average, modifier, msg_start, len(result))\n",
      "/usr/local/lib/python3.8/dist-packages/sklearn/metrics/_classification.py:1248: UndefinedMetricWarning: Jaccard is ill-defined and being set to 0.0 due to no true or predicted samples. Use `zero_division` parameter to control this behavior.\n",
      "  _warn_prf(average, modifier, msg_start, len(result))\n",
      "/usr/local/lib/python3.8/dist-packages/sklearn/metrics/_classification.py:1248: UndefinedMetricWarning: Jaccard is ill-defined and being set to 0.0 due to no true or predicted samples. Use `zero_division` parameter to control this behavior.\n",
      "  _warn_prf(average, modifier, msg_start, len(result))\n",
      "/usr/local/lib/python3.8/dist-packages/sklearn/metrics/_classification.py:1248: UndefinedMetricWarning: Jaccard is ill-defined and being set to 0.0 due to no true or predicted samples. Use `zero_division` parameter to control this behavior.\n",
      "  _warn_prf(average, modifier, msg_start, len(result))\n",
      "/usr/local/lib/python3.8/dist-packages/sklearn/metrics/_classification.py:1248: UndefinedMetricWarning: Jaccard is ill-defined and being set to 0.0 due to no true or predicted samples. Use `zero_division` parameter to control this behavior.\n",
      "  _warn_prf(average, modifier, msg_start, len(result))\n",
      "/usr/local/lib/python3.8/dist-packages/sklearn/metrics/_classification.py:1248: UndefinedMetricWarning: Jaccard is ill-defined and being set to 0.0 due to no true or predicted samples. Use `zero_division` parameter to control this behavior.\n",
      "  _warn_prf(average, modifier, msg_start, len(result))\n",
      "/usr/local/lib/python3.8/dist-packages/sklearn/metrics/_classification.py:1248: UndefinedMetricWarning: Jaccard is ill-defined and being set to 0.0 due to no true or predicted samples. Use `zero_division` parameter to control this behavior.\n",
      "  _warn_prf(average, modifier, msg_start, len(result))\n",
      "/usr/local/lib/python3.8/dist-packages/sklearn/metrics/_classification.py:1248: UndefinedMetricWarning: Jaccard is ill-defined and being set to 0.0 due to no true or predicted samples. Use `zero_division` parameter to control this behavior.\n",
      "  _warn_prf(average, modifier, msg_start, len(result))\n",
      "/usr/local/lib/python3.8/dist-packages/sklearn/metrics/_classification.py:1248: UndefinedMetricWarning: Jaccard is ill-defined and being set to 0.0 due to no true or predicted samples. Use `zero_division` parameter to control this behavior.\n",
      "  _warn_prf(average, modifier, msg_start, len(result))\n",
      "/usr/local/lib/python3.8/dist-packages/sklearn/metrics/_classification.py:1248: UndefinedMetricWarning: Jaccard is ill-defined and being set to 0.0 due to no true or predicted samples. Use `zero_division` parameter to control this behavior.\n",
      "  _warn_prf(average, modifier, msg_start, len(result))\n",
      "/usr/local/lib/python3.8/dist-packages/sklearn/metrics/_classification.py:1248: UndefinedMetricWarning: Jaccard is ill-defined and being set to 0.0 due to no true or predicted samples. Use `zero_division` parameter to control this behavior.\n",
      "  _warn_prf(average, modifier, msg_start, len(result))\n",
      "/usr/local/lib/python3.8/dist-packages/sklearn/metrics/_classification.py:1248: UndefinedMetricWarning: Jaccard is ill-defined and being set to 0.0 due to no true or predicted samples. Use `zero_division` parameter to control this behavior.\n",
      "  _warn_prf(average, modifier, msg_start, len(result))\n",
      " 18%|███████████████████████████████▎                                                                                                                                              | 18/100 [02:16<11:09,  8.17s/it]"
     ]
    },
    {
     "name": "stdout",
     "output_type": "stream",
     "text": [
      "mIOU given by: 0.6755961181605183\n",
      "[0.4800828259274245, 0.3141256294622326, 0.43314472897323886, 0.3108838838691709, 0.4217744661366317, 0.30750138626132656, 0.23392175229936546, 0.5477260303527688, 0.4806466370151126, 0.4273892546729509, 0.23403418107045632, 0.622984223580449, 0.28395898477729614, 0.5053798888534788, 0.36854260904913283, 0.23487570158381382, 0.2776467227756309, 0.6755961181605183]\n"
     ]
    },
    {
     "name": "stderr",
     "output_type": "stream",
     "text": [
      "/usr/local/lib/python3.8/dist-packages/sklearn/metrics/_classification.py:1248: UndefinedMetricWarning: Jaccard is ill-defined and being set to 0.0 due to no true or predicted samples. Use `zero_division` parameter to control this behavior.\n",
      "  _warn_prf(average, modifier, msg_start, len(result))\n",
      "/usr/local/lib/python3.8/dist-packages/sklearn/metrics/_classification.py:1248: UndefinedMetricWarning: Jaccard is ill-defined and being set to 0.0 due to no true or predicted samples. Use `zero_division` parameter to control this behavior.\n",
      "  _warn_prf(average, modifier, msg_start, len(result))\n",
      "/usr/local/lib/python3.8/dist-packages/sklearn/metrics/_classification.py:1248: UndefinedMetricWarning: Jaccard is ill-defined and being set to 0.0 due to no true or predicted samples. Use `zero_division` parameter to control this behavior.\n",
      "  _warn_prf(average, modifier, msg_start, len(result))\n",
      "/usr/local/lib/python3.8/dist-packages/sklearn/metrics/_classification.py:1248: UndefinedMetricWarning: Jaccard is ill-defined and being set to 0.0 due to no true or predicted samples. Use `zero_division` parameter to control this behavior.\n",
      "  _warn_prf(average, modifier, msg_start, len(result))\n",
      "/usr/local/lib/python3.8/dist-packages/sklearn/metrics/_classification.py:1248: UndefinedMetricWarning: Jaccard is ill-defined and being set to 0.0 due to no true or predicted samples. Use `zero_division` parameter to control this behavior.\n",
      "  _warn_prf(average, modifier, msg_start, len(result))\n",
      "/usr/local/lib/python3.8/dist-packages/sklearn/metrics/_classification.py:1248: UndefinedMetricWarning: Jaccard is ill-defined and being set to 0.0 due to no true or predicted samples. Use `zero_division` parameter to control this behavior.\n",
      "  _warn_prf(average, modifier, msg_start, len(result))\n",
      "/usr/local/lib/python3.8/dist-packages/sklearn/metrics/_classification.py:1248: UndefinedMetricWarning: Jaccard is ill-defined and being set to 0.0 due to no true or predicted samples. Use `zero_division` parameter to control this behavior.\n",
      "  _warn_prf(average, modifier, msg_start, len(result))\n",
      "/usr/local/lib/python3.8/dist-packages/sklearn/metrics/_classification.py:1248: UndefinedMetricWarning: Jaccard is ill-defined and being set to 0.0 due to no true or predicted samples. Use `zero_division` parameter to control this behavior.\n",
      "  _warn_prf(average, modifier, msg_start, len(result))\n",
      "/usr/local/lib/python3.8/dist-packages/sklearn/metrics/_classification.py:1248: UndefinedMetricWarning: Jaccard is ill-defined and being set to 0.0 due to no true or predicted samples. Use `zero_division` parameter to control this behavior.\n",
      "  _warn_prf(average, modifier, msg_start, len(result))\n",
      "/usr/local/lib/python3.8/dist-packages/sklearn/metrics/_classification.py:1248: UndefinedMetricWarning: Jaccard is ill-defined and being set to 0.0 due to no true or predicted samples. Use `zero_division` parameter to control this behavior.\n",
      "  _warn_prf(average, modifier, msg_start, len(result))\n",
      " 19%|█████████████████████████████████                                                                                                                                             | 19/100 [02:22<10:21,  7.67s/it]"
     ]
    },
    {
     "name": "stdout",
     "output_type": "stream",
     "text": [
      "mIOU given by: 0.37903712673606926\n",
      "[0.4800828259274245, 0.3141256294622326, 0.43314472897323886, 0.3108838838691709, 0.4217744661366317, 0.30750138626132656, 0.23392175229936546, 0.5477260303527688, 0.4806466370151126, 0.4273892546729509, 0.23403418107045632, 0.622984223580449, 0.28395898477729614, 0.5053798888534788, 0.36854260904913283, 0.23487570158381382, 0.2776467227756309, 0.6755961181605183, 0.37903712673606926]\n"
     ]
    },
    {
     "name": "stderr",
     "output_type": "stream",
     "text": [
      "/usr/local/lib/python3.8/dist-packages/sklearn/metrics/_classification.py:1248: UndefinedMetricWarning: Jaccard is ill-defined and being set to 0.0 due to no true or predicted samples. Use `zero_division` parameter to control this behavior.\n",
      "  _warn_prf(average, modifier, msg_start, len(result))\n",
      "/usr/local/lib/python3.8/dist-packages/sklearn/metrics/_classification.py:1248: UndefinedMetricWarning: Jaccard is ill-defined and being set to 0.0 due to no true or predicted samples. Use `zero_division` parameter to control this behavior.\n",
      "  _warn_prf(average, modifier, msg_start, len(result))\n",
      "/usr/local/lib/python3.8/dist-packages/sklearn/metrics/_classification.py:1248: UndefinedMetricWarning: Jaccard is ill-defined and being set to 0.0 due to no true or predicted samples. Use `zero_division` parameter to control this behavior.\n",
      "  _warn_prf(average, modifier, msg_start, len(result))\n",
      "/usr/local/lib/python3.8/dist-packages/sklearn/metrics/_classification.py:1248: UndefinedMetricWarning: Jaccard is ill-defined and being set to 0.0 due to no true or predicted samples. Use `zero_division` parameter to control this behavior.\n",
      "  _warn_prf(average, modifier, msg_start, len(result))\n",
      "/usr/local/lib/python3.8/dist-packages/sklearn/metrics/_classification.py:1248: UndefinedMetricWarning: Jaccard is ill-defined and being set to 0.0 due to no true or predicted samples. Use `zero_division` parameter to control this behavior.\n",
      "  _warn_prf(average, modifier, msg_start, len(result))\n",
      "/usr/local/lib/python3.8/dist-packages/sklearn/metrics/_classification.py:1248: UndefinedMetricWarning: Jaccard is ill-defined and being set to 0.0 due to no true or predicted samples. Use `zero_division` parameter to control this behavior.\n",
      "  _warn_prf(average, modifier, msg_start, len(result))\n",
      "/usr/local/lib/python3.8/dist-packages/sklearn/metrics/_classification.py:1248: UndefinedMetricWarning: Jaccard is ill-defined and being set to 0.0 due to no true or predicted samples. Use `zero_division` parameter to control this behavior.\n",
      "  _warn_prf(average, modifier, msg_start, len(result))\n",
      "/usr/local/lib/python3.8/dist-packages/sklearn/metrics/_classification.py:1248: UndefinedMetricWarning: Jaccard is ill-defined and being set to 0.0 due to no true or predicted samples. Use `zero_division` parameter to control this behavior.\n",
      "  _warn_prf(average, modifier, msg_start, len(result))\n",
      "/usr/local/lib/python3.8/dist-packages/sklearn/metrics/_classification.py:1248: UndefinedMetricWarning: Jaccard is ill-defined and being set to 0.0 due to no true or predicted samples. Use `zero_division` parameter to control this behavior.\n",
      "  _warn_prf(average, modifier, msg_start, len(result))\n",
      " 20%|██████████████████████████████████▊                                                                                                                                           | 20/100 [02:29<09:50,  7.39s/it]"
     ]
    },
    {
     "name": "stdout",
     "output_type": "stream",
     "text": [
      "mIOU given by: 0.5504114010316731\n",
      "[0.4800828259274245, 0.3141256294622326, 0.43314472897323886, 0.3108838838691709, 0.4217744661366317, 0.30750138626132656, 0.23392175229936546, 0.5477260303527688, 0.4806466370151126, 0.4273892546729509, 0.23403418107045632, 0.622984223580449, 0.28395898477729614, 0.5053798888534788, 0.36854260904913283, 0.23487570158381382, 0.2776467227756309, 0.6755961181605183, 0.37903712673606926, 0.5504114010316731]\n"
     ]
    },
    {
     "name": "stderr",
     "output_type": "stream",
     "text": [
      "/usr/local/lib/python3.8/dist-packages/sklearn/metrics/_classification.py:1248: UndefinedMetricWarning: Jaccard is ill-defined and being set to 0.0 due to no true or predicted samples. Use `zero_division` parameter to control this behavior.\n",
      "  _warn_prf(average, modifier, msg_start, len(result))\n",
      "/usr/local/lib/python3.8/dist-packages/sklearn/metrics/_classification.py:1248: UndefinedMetricWarning: Jaccard is ill-defined and being set to 0.0 due to no true or predicted samples. Use `zero_division` parameter to control this behavior.\n",
      "  _warn_prf(average, modifier, msg_start, len(result))\n",
      "/usr/local/lib/python3.8/dist-packages/sklearn/metrics/_classification.py:1248: UndefinedMetricWarning: Jaccard is ill-defined and being set to 0.0 due to no true or predicted samples. Use `zero_division` parameter to control this behavior.\n",
      "  _warn_prf(average, modifier, msg_start, len(result))\n",
      "/usr/local/lib/python3.8/dist-packages/sklearn/metrics/_classification.py:1248: UndefinedMetricWarning: Jaccard is ill-defined and being set to 0.0 due to no true or predicted samples. Use `zero_division` parameter to control this behavior.\n",
      "  _warn_prf(average, modifier, msg_start, len(result))\n",
      "/usr/local/lib/python3.8/dist-packages/sklearn/metrics/_classification.py:1248: UndefinedMetricWarning: Jaccard is ill-defined and being set to 0.0 due to no true or predicted samples. Use `zero_division` parameter to control this behavior.\n",
      "  _warn_prf(average, modifier, msg_start, len(result))\n",
      "/usr/local/lib/python3.8/dist-packages/sklearn/metrics/_classification.py:1248: UndefinedMetricWarning: Jaccard is ill-defined and being set to 0.0 due to no true or predicted samples. Use `zero_division` parameter to control this behavior.\n",
      "  _warn_prf(average, modifier, msg_start, len(result))\n",
      "/usr/local/lib/python3.8/dist-packages/sklearn/metrics/_classification.py:1248: UndefinedMetricWarning: Jaccard is ill-defined and being set to 0.0 due to no true or predicted samples. Use `zero_division` parameter to control this behavior.\n",
      "  _warn_prf(average, modifier, msg_start, len(result))\n",
      "/usr/local/lib/python3.8/dist-packages/sklearn/metrics/_classification.py:1248: UndefinedMetricWarning: Jaccard is ill-defined and being set to 0.0 due to no true or predicted samples. Use `zero_division` parameter to control this behavior.\n",
      "  _warn_prf(average, modifier, msg_start, len(result))\n",
      " 21%|████████████████████████████████████▌                                                                                                                                         | 21/100 [02:37<10:03,  7.64s/it]"
     ]
    },
    {
     "name": "stdout",
     "output_type": "stream",
     "text": [
      "mIOU given by: 0.37429026290122175\n",
      "[0.4800828259274245, 0.3141256294622326, 0.43314472897323886, 0.3108838838691709, 0.4217744661366317, 0.30750138626132656, 0.23392175229936546, 0.5477260303527688, 0.4806466370151126, 0.4273892546729509, 0.23403418107045632, 0.622984223580449, 0.28395898477729614, 0.5053798888534788, 0.36854260904913283, 0.23487570158381382, 0.2776467227756309, 0.6755961181605183, 0.37903712673606926, 0.5504114010316731, 0.37429026290122175]\n"
     ]
    },
    {
     "name": "stderr",
     "output_type": "stream",
     "text": [
      "/usr/local/lib/python3.8/dist-packages/sklearn/metrics/_classification.py:1248: UndefinedMetricWarning: Jaccard is ill-defined and being set to 0.0 due to no true or predicted samples. Use `zero_division` parameter to control this behavior.\n",
      "  _warn_prf(average, modifier, msg_start, len(result))\n",
      "/usr/local/lib/python3.8/dist-packages/sklearn/metrics/_classification.py:1248: UndefinedMetricWarning: Jaccard is ill-defined and being set to 0.0 due to no true or predicted samples. Use `zero_division` parameter to control this behavior.\n",
      "  _warn_prf(average, modifier, msg_start, len(result))\n",
      "/usr/local/lib/python3.8/dist-packages/sklearn/metrics/_classification.py:1248: UndefinedMetricWarning: Jaccard is ill-defined and being set to 0.0 due to no true or predicted samples. Use `zero_division` parameter to control this behavior.\n",
      "  _warn_prf(average, modifier, msg_start, len(result))\n",
      "/usr/local/lib/python3.8/dist-packages/sklearn/metrics/_classification.py:1248: UndefinedMetricWarning: Jaccard is ill-defined and being set to 0.0 due to no true or predicted samples. Use `zero_division` parameter to control this behavior.\n",
      "  _warn_prf(average, modifier, msg_start, len(result))\n",
      "/usr/local/lib/python3.8/dist-packages/sklearn/metrics/_classification.py:1248: UndefinedMetricWarning: Jaccard is ill-defined and being set to 0.0 due to no true or predicted samples. Use `zero_division` parameter to control this behavior.\n",
      "  _warn_prf(average, modifier, msg_start, len(result))\n",
      "/usr/local/lib/python3.8/dist-packages/sklearn/metrics/_classification.py:1248: UndefinedMetricWarning: Jaccard is ill-defined and being set to 0.0 due to no true or predicted samples. Use `zero_division` parameter to control this behavior.\n",
      "  _warn_prf(average, modifier, msg_start, len(result))\n",
      "/usr/local/lib/python3.8/dist-packages/sklearn/metrics/_classification.py:1248: UndefinedMetricWarning: Jaccard is ill-defined and being set to 0.0 due to no true or predicted samples. Use `zero_division` parameter to control this behavior.\n",
      "  _warn_prf(average, modifier, msg_start, len(result))\n",
      "/usr/local/lib/python3.8/dist-packages/sklearn/metrics/_classification.py:1248: UndefinedMetricWarning: Jaccard is ill-defined and being set to 0.0 due to no true or predicted samples. Use `zero_division` parameter to control this behavior.\n",
      "  _warn_prf(average, modifier, msg_start, len(result))\n",
      "/usr/local/lib/python3.8/dist-packages/sklearn/metrics/_classification.py:1248: UndefinedMetricWarning: Jaccard is ill-defined and being set to 0.0 due to no true or predicted samples. Use `zero_division` parameter to control this behavior.\n",
      "  _warn_prf(average, modifier, msg_start, len(result))\n",
      "/usr/local/lib/python3.8/dist-packages/sklearn/metrics/_classification.py:1248: UndefinedMetricWarning: Jaccard is ill-defined and being set to 0.0 due to no true or predicted samples. Use `zero_division` parameter to control this behavior.\n",
      "  _warn_prf(average, modifier, msg_start, len(result))\n",
      "/usr/local/lib/python3.8/dist-packages/sklearn/metrics/_classification.py:1248: UndefinedMetricWarning: Jaccard is ill-defined and being set to 0.0 due to no true or predicted samples. Use `zero_division` parameter to control this behavior.\n",
      "  _warn_prf(average, modifier, msg_start, len(result))\n",
      " 22%|██████████████████████████████████████▎                                                                                                                                       | 22/100 [02:45<09:49,  7.55s/it]"
     ]
    },
    {
     "name": "stdout",
     "output_type": "stream",
     "text": [
      "mIOU given by: 0.496385323357798\n",
      "[0.4800828259274245, 0.3141256294622326, 0.43314472897323886, 0.3108838838691709, 0.4217744661366317, 0.30750138626132656, 0.23392175229936546, 0.5477260303527688, 0.4806466370151126, 0.4273892546729509, 0.23403418107045632, 0.622984223580449, 0.28395898477729614, 0.5053798888534788, 0.36854260904913283, 0.23487570158381382, 0.2776467227756309, 0.6755961181605183, 0.37903712673606926, 0.5504114010316731, 0.37429026290122175, 0.496385323357798]\n"
     ]
    },
    {
     "name": "stderr",
     "output_type": "stream",
     "text": [
      "/usr/local/lib/python3.8/dist-packages/sklearn/metrics/_classification.py:1248: UndefinedMetricWarning: Jaccard is ill-defined and being set to 0.0 due to no true or predicted samples. Use `zero_division` parameter to control this behavior.\n",
      "  _warn_prf(average, modifier, msg_start, len(result))\n",
      "/usr/local/lib/python3.8/dist-packages/sklearn/metrics/_classification.py:1248: UndefinedMetricWarning: Jaccard is ill-defined and being set to 0.0 due to no true or predicted samples. Use `zero_division` parameter to control this behavior.\n",
      "  _warn_prf(average, modifier, msg_start, len(result))\n",
      "/usr/local/lib/python3.8/dist-packages/sklearn/metrics/_classification.py:1248: UndefinedMetricWarning: Jaccard is ill-defined and being set to 0.0 due to no true or predicted samples. Use `zero_division` parameter to control this behavior.\n",
      "  _warn_prf(average, modifier, msg_start, len(result))\n",
      "/usr/local/lib/python3.8/dist-packages/sklearn/metrics/_classification.py:1248: UndefinedMetricWarning: Jaccard is ill-defined and being set to 0.0 due to no true or predicted samples. Use `zero_division` parameter to control this behavior.\n",
      "  _warn_prf(average, modifier, msg_start, len(result))\n",
      "/usr/local/lib/python3.8/dist-packages/sklearn/metrics/_classification.py:1248: UndefinedMetricWarning: Jaccard is ill-defined and being set to 0.0 due to no true or predicted samples. Use `zero_division` parameter to control this behavior.\n",
      "  _warn_prf(average, modifier, msg_start, len(result))\n",
      "/usr/local/lib/python3.8/dist-packages/sklearn/metrics/_classification.py:1248: UndefinedMetricWarning: Jaccard is ill-defined and being set to 0.0 due to no true or predicted samples. Use `zero_division` parameter to control this behavior.\n",
      "  _warn_prf(average, modifier, msg_start, len(result))\n",
      "/usr/local/lib/python3.8/dist-packages/sklearn/metrics/_classification.py:1248: UndefinedMetricWarning: Jaccard is ill-defined and being set to 0.0 due to no true or predicted samples. Use `zero_division` parameter to control this behavior.\n",
      "  _warn_prf(average, modifier, msg_start, len(result))\n",
      "/usr/local/lib/python3.8/dist-packages/sklearn/metrics/_classification.py:1248: UndefinedMetricWarning: Jaccard is ill-defined and being set to 0.0 due to no true or predicted samples. Use `zero_division` parameter to control this behavior.\n",
      "  _warn_prf(average, modifier, msg_start, len(result))\n",
      "/usr/local/lib/python3.8/dist-packages/sklearn/metrics/_classification.py:1248: UndefinedMetricWarning: Jaccard is ill-defined and being set to 0.0 due to no true or predicted samples. Use `zero_division` parameter to control this behavior.\n",
      "  _warn_prf(average, modifier, msg_start, len(result))\n",
      "/usr/local/lib/python3.8/dist-packages/sklearn/metrics/_classification.py:1248: UndefinedMetricWarning: Jaccard is ill-defined and being set to 0.0 due to no true or predicted samples. Use `zero_division` parameter to control this behavior.\n",
      "  _warn_prf(average, modifier, msg_start, len(result))\n",
      " 23%|████████████████████████████████████████                                                                                                                                      | 23/100 [02:53<09:46,  7.62s/it]"
     ]
    },
    {
     "name": "stdout",
     "output_type": "stream",
     "text": [
      "mIOU given by: 0.39196129947896174\n",
      "[0.4800828259274245, 0.3141256294622326, 0.43314472897323886, 0.3108838838691709, 0.4217744661366317, 0.30750138626132656, 0.23392175229936546, 0.5477260303527688, 0.4806466370151126, 0.4273892546729509, 0.23403418107045632, 0.622984223580449, 0.28395898477729614, 0.5053798888534788, 0.36854260904913283, 0.23487570158381382, 0.2776467227756309, 0.6755961181605183, 0.37903712673606926, 0.5504114010316731, 0.37429026290122175, 0.496385323357798, 0.39196129947896174]\n"
     ]
    },
    {
     "name": "stderr",
     "output_type": "stream",
     "text": [
      "/usr/local/lib/python3.8/dist-packages/sklearn/metrics/_classification.py:1248: UndefinedMetricWarning: Jaccard is ill-defined and being set to 0.0 due to no true or predicted samples. Use `zero_division` parameter to control this behavior.\n",
      "  _warn_prf(average, modifier, msg_start, len(result))\n",
      "/usr/local/lib/python3.8/dist-packages/sklearn/metrics/_classification.py:1248: UndefinedMetricWarning: Jaccard is ill-defined and being set to 0.0 due to no true or predicted samples. Use `zero_division` parameter to control this behavior.\n",
      "  _warn_prf(average, modifier, msg_start, len(result))\n",
      "/usr/local/lib/python3.8/dist-packages/sklearn/metrics/_classification.py:1248: UndefinedMetricWarning: Jaccard is ill-defined and being set to 0.0 due to no true or predicted samples. Use `zero_division` parameter to control this behavior.\n",
      "  _warn_prf(average, modifier, msg_start, len(result))\n",
      "/usr/local/lib/python3.8/dist-packages/sklearn/metrics/_classification.py:1248: UndefinedMetricWarning: Jaccard is ill-defined and being set to 0.0 due to no true or predicted samples. Use `zero_division` parameter to control this behavior.\n",
      "  _warn_prf(average, modifier, msg_start, len(result))\n",
      "/usr/local/lib/python3.8/dist-packages/sklearn/metrics/_classification.py:1248: UndefinedMetricWarning: Jaccard is ill-defined and being set to 0.0 due to no true or predicted samples. Use `zero_division` parameter to control this behavior.\n",
      "  _warn_prf(average, modifier, msg_start, len(result))\n",
      "/usr/local/lib/python3.8/dist-packages/sklearn/metrics/_classification.py:1248: UndefinedMetricWarning: Jaccard is ill-defined and being set to 0.0 due to no true or predicted samples. Use `zero_division` parameter to control this behavior.\n",
      "  _warn_prf(average, modifier, msg_start, len(result))\n",
      "/usr/local/lib/python3.8/dist-packages/sklearn/metrics/_classification.py:1248: UndefinedMetricWarning: Jaccard is ill-defined and being set to 0.0 due to no true or predicted samples. Use `zero_division` parameter to control this behavior.\n",
      "  _warn_prf(average, modifier, msg_start, len(result))\n",
      "/usr/local/lib/python3.8/dist-packages/sklearn/metrics/_classification.py:1248: UndefinedMetricWarning: Jaccard is ill-defined and being set to 0.0 due to no true or predicted samples. Use `zero_division` parameter to control this behavior.\n",
      "  _warn_prf(average, modifier, msg_start, len(result))\n",
      "/usr/local/lib/python3.8/dist-packages/sklearn/metrics/_classification.py:1248: UndefinedMetricWarning: Jaccard is ill-defined and being set to 0.0 due to no true or predicted samples. Use `zero_division` parameter to control this behavior.\n",
      "  _warn_prf(average, modifier, msg_start, len(result))\n",
      "/usr/local/lib/python3.8/dist-packages/sklearn/metrics/_classification.py:1248: UndefinedMetricWarning: Jaccard is ill-defined and being set to 0.0 due to no true or predicted samples. Use `zero_division` parameter to control this behavior.\n",
      "  _warn_prf(average, modifier, msg_start, len(result))\n",
      "/usr/local/lib/python3.8/dist-packages/sklearn/metrics/_classification.py:1248: UndefinedMetricWarning: Jaccard is ill-defined and being set to 0.0 due to no true or predicted samples. Use `zero_division` parameter to control this behavior.\n",
      "  _warn_prf(average, modifier, msg_start, len(result))\n",
      " 24%|█████████████████████████████████████████▊                                                                                                                                    | 24/100 [03:00<09:28,  7.49s/it]"
     ]
    },
    {
     "name": "stdout",
     "output_type": "stream",
     "text": [
      "mIOU given by: 0.37924939647851275\n",
      "[0.4800828259274245, 0.3141256294622326, 0.43314472897323886, 0.3108838838691709, 0.4217744661366317, 0.30750138626132656, 0.23392175229936546, 0.5477260303527688, 0.4806466370151126, 0.4273892546729509, 0.23403418107045632, 0.622984223580449, 0.28395898477729614, 0.5053798888534788, 0.36854260904913283, 0.23487570158381382, 0.2776467227756309, 0.6755961181605183, 0.37903712673606926, 0.5504114010316731, 0.37429026290122175, 0.496385323357798, 0.39196129947896174, 0.37924939647851275]\n"
     ]
    },
    {
     "name": "stderr",
     "output_type": "stream",
     "text": [
      "/usr/local/lib/python3.8/dist-packages/sklearn/metrics/_classification.py:1248: UndefinedMetricWarning: Jaccard is ill-defined and being set to 0.0 due to no true or predicted samples. Use `zero_division` parameter to control this behavior.\n",
      "  _warn_prf(average, modifier, msg_start, len(result))\n",
      "/usr/local/lib/python3.8/dist-packages/sklearn/metrics/_classification.py:1248: UndefinedMetricWarning: Jaccard is ill-defined and being set to 0.0 due to no true or predicted samples. Use `zero_division` parameter to control this behavior.\n",
      "  _warn_prf(average, modifier, msg_start, len(result))\n",
      "/usr/local/lib/python3.8/dist-packages/sklearn/metrics/_classification.py:1248: UndefinedMetricWarning: Jaccard is ill-defined and being set to 0.0 due to no true or predicted samples. Use `zero_division` parameter to control this behavior.\n",
      "  _warn_prf(average, modifier, msg_start, len(result))\n",
      "/usr/local/lib/python3.8/dist-packages/sklearn/metrics/_classification.py:1248: UndefinedMetricWarning: Jaccard is ill-defined and being set to 0.0 due to no true or predicted samples. Use `zero_division` parameter to control this behavior.\n",
      "  _warn_prf(average, modifier, msg_start, len(result))\n",
      "/usr/local/lib/python3.8/dist-packages/sklearn/metrics/_classification.py:1248: UndefinedMetricWarning: Jaccard is ill-defined and being set to 0.0 due to no true or predicted samples. Use `zero_division` parameter to control this behavior.\n",
      "  _warn_prf(average, modifier, msg_start, len(result))\n",
      "/usr/local/lib/python3.8/dist-packages/sklearn/metrics/_classification.py:1248: UndefinedMetricWarning: Jaccard is ill-defined and being set to 0.0 due to no true or predicted samples. Use `zero_division` parameter to control this behavior.\n",
      "  _warn_prf(average, modifier, msg_start, len(result))\n",
      "/usr/local/lib/python3.8/dist-packages/sklearn/metrics/_classification.py:1248: UndefinedMetricWarning: Jaccard is ill-defined and being set to 0.0 due to no true or predicted samples. Use `zero_division` parameter to control this behavior.\n",
      "  _warn_prf(average, modifier, msg_start, len(result))\n",
      "/usr/local/lib/python3.8/dist-packages/sklearn/metrics/_classification.py:1248: UndefinedMetricWarning: Jaccard is ill-defined and being set to 0.0 due to no true or predicted samples. Use `zero_division` parameter to control this behavior.\n",
      "  _warn_prf(average, modifier, msg_start, len(result))\n",
      "/usr/local/lib/python3.8/dist-packages/sklearn/metrics/_classification.py:1248: UndefinedMetricWarning: Jaccard is ill-defined and being set to 0.0 due to no true or predicted samples. Use `zero_division` parameter to control this behavior.\n",
      "  _warn_prf(average, modifier, msg_start, len(result))\n",
      "/usr/local/lib/python3.8/dist-packages/sklearn/metrics/_classification.py:1248: UndefinedMetricWarning: Jaccard is ill-defined and being set to 0.0 due to no true or predicted samples. Use `zero_division` parameter to control this behavior.\n",
      "  _warn_prf(average, modifier, msg_start, len(result))\n",
      "/usr/local/lib/python3.8/dist-packages/sklearn/metrics/_classification.py:1248: UndefinedMetricWarning: Jaccard is ill-defined and being set to 0.0 due to no true or predicted samples. Use `zero_division` parameter to control this behavior.\n",
      "  _warn_prf(average, modifier, msg_start, len(result))\n",
      " 25%|███████████████████████████████████████████▌                                                                                                                                  | 25/100 [03:08<09:29,  7.59s/it]"
     ]
    },
    {
     "name": "stdout",
     "output_type": "stream",
     "text": [
      "mIOU given by: 0.5853269475386425\n",
      "[0.4800828259274245, 0.3141256294622326, 0.43314472897323886, 0.3108838838691709, 0.4217744661366317, 0.30750138626132656, 0.23392175229936546, 0.5477260303527688, 0.4806466370151126, 0.4273892546729509, 0.23403418107045632, 0.622984223580449, 0.28395898477729614, 0.5053798888534788, 0.36854260904913283, 0.23487570158381382, 0.2776467227756309, 0.6755961181605183, 0.37903712673606926, 0.5504114010316731, 0.37429026290122175, 0.496385323357798, 0.39196129947896174, 0.37924939647851275, 0.5853269475386425]\n"
     ]
    },
    {
     "name": "stderr",
     "output_type": "stream",
     "text": [
      "/usr/local/lib/python3.8/dist-packages/sklearn/metrics/_classification.py:1248: UndefinedMetricWarning: Jaccard is ill-defined and being set to 0.0 due to no true or predicted samples. Use `zero_division` parameter to control this behavior.\n",
      "  _warn_prf(average, modifier, msg_start, len(result))\n",
      "/usr/local/lib/python3.8/dist-packages/sklearn/metrics/_classification.py:1248: UndefinedMetricWarning: Jaccard is ill-defined and being set to 0.0 due to no true or predicted samples. Use `zero_division` parameter to control this behavior.\n",
      "  _warn_prf(average, modifier, msg_start, len(result))\n",
      "/usr/local/lib/python3.8/dist-packages/sklearn/metrics/_classification.py:1248: UndefinedMetricWarning: Jaccard is ill-defined and being set to 0.0 due to no true or predicted samples. Use `zero_division` parameter to control this behavior.\n",
      "  _warn_prf(average, modifier, msg_start, len(result))\n",
      "/usr/local/lib/python3.8/dist-packages/sklearn/metrics/_classification.py:1248: UndefinedMetricWarning: Jaccard is ill-defined and being set to 0.0 due to no true or predicted samples. Use `zero_division` parameter to control this behavior.\n",
      "  _warn_prf(average, modifier, msg_start, len(result))\n",
      "/usr/local/lib/python3.8/dist-packages/sklearn/metrics/_classification.py:1248: UndefinedMetricWarning: Jaccard is ill-defined and being set to 0.0 due to no true or predicted samples. Use `zero_division` parameter to control this behavior.\n",
      "  _warn_prf(average, modifier, msg_start, len(result))\n",
      "/usr/local/lib/python3.8/dist-packages/sklearn/metrics/_classification.py:1248: UndefinedMetricWarning: Jaccard is ill-defined and being set to 0.0 due to no true or predicted samples. Use `zero_division` parameter to control this behavior.\n",
      "  _warn_prf(average, modifier, msg_start, len(result))\n",
      "/usr/local/lib/python3.8/dist-packages/sklearn/metrics/_classification.py:1248: UndefinedMetricWarning: Jaccard is ill-defined and being set to 0.0 due to no true or predicted samples. Use `zero_division` parameter to control this behavior.\n",
      "  _warn_prf(average, modifier, msg_start, len(result))\n",
      " 26%|█████████████████████████████████████████████▏                                                                                                                                | 26/100 [03:16<09:31,  7.73s/it]"
     ]
    },
    {
     "name": "stdout",
     "output_type": "stream",
     "text": [
      "mIOU given by: 0.255262318179988\n",
      "[0.4800828259274245, 0.3141256294622326, 0.43314472897323886, 0.3108838838691709, 0.4217744661366317, 0.30750138626132656, 0.23392175229936546, 0.5477260303527688, 0.4806466370151126, 0.4273892546729509, 0.23403418107045632, 0.622984223580449, 0.28395898477729614, 0.5053798888534788, 0.36854260904913283, 0.23487570158381382, 0.2776467227756309, 0.6755961181605183, 0.37903712673606926, 0.5504114010316731, 0.37429026290122175, 0.496385323357798, 0.39196129947896174, 0.37924939647851275, 0.5853269475386425, 0.255262318179988]\n"
     ]
    },
    {
     "name": "stderr",
     "output_type": "stream",
     "text": [
      "/usr/local/lib/python3.8/dist-packages/sklearn/metrics/_classification.py:1248: UndefinedMetricWarning: Jaccard is ill-defined and being set to 0.0 due to no true or predicted samples. Use `zero_division` parameter to control this behavior.\n",
      "  _warn_prf(average, modifier, msg_start, len(result))\n",
      "/usr/local/lib/python3.8/dist-packages/sklearn/metrics/_classification.py:1248: UndefinedMetricWarning: Jaccard is ill-defined and being set to 0.0 due to no true or predicted samples. Use `zero_division` parameter to control this behavior.\n",
      "  _warn_prf(average, modifier, msg_start, len(result))\n",
      "/usr/local/lib/python3.8/dist-packages/sklearn/metrics/_classification.py:1248: UndefinedMetricWarning: Jaccard is ill-defined and being set to 0.0 due to no true or predicted samples. Use `zero_division` parameter to control this behavior.\n",
      "  _warn_prf(average, modifier, msg_start, len(result))\n",
      "/usr/local/lib/python3.8/dist-packages/sklearn/metrics/_classification.py:1248: UndefinedMetricWarning: Jaccard is ill-defined and being set to 0.0 due to no true or predicted samples. Use `zero_division` parameter to control this behavior.\n",
      "  _warn_prf(average, modifier, msg_start, len(result))\n",
      "/usr/local/lib/python3.8/dist-packages/sklearn/metrics/_classification.py:1248: UndefinedMetricWarning: Jaccard is ill-defined and being set to 0.0 due to no true or predicted samples. Use `zero_division` parameter to control this behavior.\n",
      "  _warn_prf(average, modifier, msg_start, len(result))\n",
      "/usr/local/lib/python3.8/dist-packages/sklearn/metrics/_classification.py:1248: UndefinedMetricWarning: Jaccard is ill-defined and being set to 0.0 due to no true or predicted samples. Use `zero_division` parameter to control this behavior.\n",
      "  _warn_prf(average, modifier, msg_start, len(result))\n",
      "/usr/local/lib/python3.8/dist-packages/sklearn/metrics/_classification.py:1248: UndefinedMetricWarning: Jaccard is ill-defined and being set to 0.0 due to no true or predicted samples. Use `zero_division` parameter to control this behavior.\n",
      "  _warn_prf(average, modifier, msg_start, len(result))\n",
      "/usr/local/lib/python3.8/dist-packages/sklearn/metrics/_classification.py:1248: UndefinedMetricWarning: Jaccard is ill-defined and being set to 0.0 due to no true or predicted samples. Use `zero_division` parameter to control this behavior.\n",
      "  _warn_prf(average, modifier, msg_start, len(result))\n",
      "/usr/local/lib/python3.8/dist-packages/sklearn/metrics/_classification.py:1248: UndefinedMetricWarning: Jaccard is ill-defined and being set to 0.0 due to no true or predicted samples. Use `zero_division` parameter to control this behavior.\n",
      "  _warn_prf(average, modifier, msg_start, len(result))\n",
      "/usr/local/lib/python3.8/dist-packages/sklearn/metrics/_classification.py:1248: UndefinedMetricWarning: Jaccard is ill-defined and being set to 0.0 due to no true or predicted samples. Use `zero_division` parameter to control this behavior.\n",
      "  _warn_prf(average, modifier, msg_start, len(result))\n",
      "/usr/local/lib/python3.8/dist-packages/sklearn/metrics/_classification.py:1248: UndefinedMetricWarning: Jaccard is ill-defined and being set to 0.0 due to no true or predicted samples. Use `zero_division` parameter to control this behavior.\n",
      "  _warn_prf(average, modifier, msg_start, len(result))\n",
      "/usr/local/lib/python3.8/dist-packages/sklearn/metrics/_classification.py:1248: UndefinedMetricWarning: Jaccard is ill-defined and being set to 0.0 due to no true or predicted samples. Use `zero_division` parameter to control this behavior.\n",
      "  _warn_prf(average, modifier, msg_start, len(result))\n",
      " 27%|██████████████████████████████████████████████▉                                                                                                                               | 27/100 [03:24<09:29,  7.80s/it]"
     ]
    },
    {
     "name": "stdout",
     "output_type": "stream",
     "text": [
      "mIOU given by: 0.6848665717060205\n",
      "[0.4800828259274245, 0.3141256294622326, 0.43314472897323886, 0.3108838838691709, 0.4217744661366317, 0.30750138626132656, 0.23392175229936546, 0.5477260303527688, 0.4806466370151126, 0.4273892546729509, 0.23403418107045632, 0.622984223580449, 0.28395898477729614, 0.5053798888534788, 0.36854260904913283, 0.23487570158381382, 0.2776467227756309, 0.6755961181605183, 0.37903712673606926, 0.5504114010316731, 0.37429026290122175, 0.496385323357798, 0.39196129947896174, 0.37924939647851275, 0.5853269475386425, 0.255262318179988, 0.6848665717060205]\n"
     ]
    },
    {
     "name": "stderr",
     "output_type": "stream",
     "text": [
      "/usr/local/lib/python3.8/dist-packages/sklearn/metrics/_classification.py:1248: UndefinedMetricWarning: Jaccard is ill-defined and being set to 0.0 due to no true or predicted samples. Use `zero_division` parameter to control this behavior.\n",
      "  _warn_prf(average, modifier, msg_start, len(result))\n",
      "/usr/local/lib/python3.8/dist-packages/sklearn/metrics/_classification.py:1248: UndefinedMetricWarning: Jaccard is ill-defined and being set to 0.0 due to no true or predicted samples. Use `zero_division` parameter to control this behavior.\n",
      "  _warn_prf(average, modifier, msg_start, len(result))\n",
      "/usr/local/lib/python3.8/dist-packages/sklearn/metrics/_classification.py:1248: UndefinedMetricWarning: Jaccard is ill-defined and being set to 0.0 due to no true or predicted samples. Use `zero_division` parameter to control this behavior.\n",
      "  _warn_prf(average, modifier, msg_start, len(result))\n",
      "/usr/local/lib/python3.8/dist-packages/sklearn/metrics/_classification.py:1248: UndefinedMetricWarning: Jaccard is ill-defined and being set to 0.0 due to no true or predicted samples. Use `zero_division` parameter to control this behavior.\n",
      "  _warn_prf(average, modifier, msg_start, len(result))\n",
      "/usr/local/lib/python3.8/dist-packages/sklearn/metrics/_classification.py:1248: UndefinedMetricWarning: Jaccard is ill-defined and being set to 0.0 due to no true or predicted samples. Use `zero_division` parameter to control this behavior.\n",
      "  _warn_prf(average, modifier, msg_start, len(result))\n",
      "/usr/local/lib/python3.8/dist-packages/sklearn/metrics/_classification.py:1248: UndefinedMetricWarning: Jaccard is ill-defined and being set to 0.0 due to no true or predicted samples. Use `zero_division` parameter to control this behavior.\n",
      "  _warn_prf(average, modifier, msg_start, len(result))\n",
      "/usr/local/lib/python3.8/dist-packages/sklearn/metrics/_classification.py:1248: UndefinedMetricWarning: Jaccard is ill-defined and being set to 0.0 due to no true or predicted samples. Use `zero_division` parameter to control this behavior.\n",
      "  _warn_prf(average, modifier, msg_start, len(result))\n",
      " 28%|████████████████████████████████████████████████▋                                                                                                                             | 28/100 [03:32<09:24,  7.84s/it]"
     ]
    },
    {
     "name": "stdout",
     "output_type": "stream",
     "text": [
      "mIOU given by: 0.30138798440552894\n",
      "[0.4800828259274245, 0.3141256294622326, 0.43314472897323886, 0.3108838838691709, 0.4217744661366317, 0.30750138626132656, 0.23392175229936546, 0.5477260303527688, 0.4806466370151126, 0.4273892546729509, 0.23403418107045632, 0.622984223580449, 0.28395898477729614, 0.5053798888534788, 0.36854260904913283, 0.23487570158381382, 0.2776467227756309, 0.6755961181605183, 0.37903712673606926, 0.5504114010316731, 0.37429026290122175, 0.496385323357798, 0.39196129947896174, 0.37924939647851275, 0.5853269475386425, 0.255262318179988, 0.6848665717060205, 0.30138798440552894]\n"
     ]
    },
    {
     "name": "stderr",
     "output_type": "stream",
     "text": [
      "/usr/local/lib/python3.8/dist-packages/sklearn/metrics/_classification.py:1248: UndefinedMetricWarning: Jaccard is ill-defined and being set to 0.0 due to no true or predicted samples. Use `zero_division` parameter to control this behavior.\n",
      "  _warn_prf(average, modifier, msg_start, len(result))\n",
      "/usr/local/lib/python3.8/dist-packages/sklearn/metrics/_classification.py:1248: UndefinedMetricWarning: Jaccard is ill-defined and being set to 0.0 due to no true or predicted samples. Use `zero_division` parameter to control this behavior.\n",
      "  _warn_prf(average, modifier, msg_start, len(result))\n",
      "/usr/local/lib/python3.8/dist-packages/sklearn/metrics/_classification.py:1248: UndefinedMetricWarning: Jaccard is ill-defined and being set to 0.0 due to no true or predicted samples. Use `zero_division` parameter to control this behavior.\n",
      "  _warn_prf(average, modifier, msg_start, len(result))\n",
      "/usr/local/lib/python3.8/dist-packages/sklearn/metrics/_classification.py:1248: UndefinedMetricWarning: Jaccard is ill-defined and being set to 0.0 due to no true or predicted samples. Use `zero_division` parameter to control this behavior.\n",
      "  _warn_prf(average, modifier, msg_start, len(result))\n",
      "/usr/local/lib/python3.8/dist-packages/sklearn/metrics/_classification.py:1248: UndefinedMetricWarning: Jaccard is ill-defined and being set to 0.0 due to no true or predicted samples. Use `zero_division` parameter to control this behavior.\n",
      "  _warn_prf(average, modifier, msg_start, len(result))\n",
      "/usr/local/lib/python3.8/dist-packages/sklearn/metrics/_classification.py:1248: UndefinedMetricWarning: Jaccard is ill-defined and being set to 0.0 due to no true or predicted samples. Use `zero_division` parameter to control this behavior.\n",
      "  _warn_prf(average, modifier, msg_start, len(result))\n",
      "/usr/local/lib/python3.8/dist-packages/sklearn/metrics/_classification.py:1248: UndefinedMetricWarning: Jaccard is ill-defined and being set to 0.0 due to no true or predicted samples. Use `zero_division` parameter to control this behavior.\n",
      "  _warn_prf(average, modifier, msg_start, len(result))\n",
      "/usr/local/lib/python3.8/dist-packages/sklearn/metrics/_classification.py:1248: UndefinedMetricWarning: Jaccard is ill-defined and being set to 0.0 due to no true or predicted samples. Use `zero_division` parameter to control this behavior.\n",
      "  _warn_prf(average, modifier, msg_start, len(result))\n",
      " 29%|██████████████████████████████████████████████████▍                                                                                                                           | 29/100 [03:40<09:40,  8.18s/it]"
     ]
    },
    {
     "name": "stdout",
     "output_type": "stream",
     "text": [
      "mIOU given by: 0.5921036056828485\n",
      "[0.4800828259274245, 0.3141256294622326, 0.43314472897323886, 0.3108838838691709, 0.4217744661366317, 0.30750138626132656, 0.23392175229936546, 0.5477260303527688, 0.4806466370151126, 0.4273892546729509, 0.23403418107045632, 0.622984223580449, 0.28395898477729614, 0.5053798888534788, 0.36854260904913283, 0.23487570158381382, 0.2776467227756309, 0.6755961181605183, 0.37903712673606926, 0.5504114010316731, 0.37429026290122175, 0.496385323357798, 0.39196129947896174, 0.37924939647851275, 0.5853269475386425, 0.255262318179988, 0.6848665717060205, 0.30138798440552894, 0.5921036056828485]\n"
     ]
    },
    {
     "name": "stderr",
     "output_type": "stream",
     "text": [
      "/usr/local/lib/python3.8/dist-packages/sklearn/metrics/_classification.py:1248: UndefinedMetricWarning: Jaccard is ill-defined and being set to 0.0 due to no true or predicted samples. Use `zero_division` parameter to control this behavior.\n",
      "  _warn_prf(average, modifier, msg_start, len(result))\n",
      "/usr/local/lib/python3.8/dist-packages/sklearn/metrics/_classification.py:1248: UndefinedMetricWarning: Jaccard is ill-defined and being set to 0.0 due to no true or predicted samples. Use `zero_division` parameter to control this behavior.\n",
      "  _warn_prf(average, modifier, msg_start, len(result))\n",
      "/usr/local/lib/python3.8/dist-packages/sklearn/metrics/_classification.py:1248: UndefinedMetricWarning: Jaccard is ill-defined and being set to 0.0 due to no true or predicted samples. Use `zero_division` parameter to control this behavior.\n",
      "  _warn_prf(average, modifier, msg_start, len(result))\n",
      "/usr/local/lib/python3.8/dist-packages/sklearn/metrics/_classification.py:1248: UndefinedMetricWarning: Jaccard is ill-defined and being set to 0.0 due to no true or predicted samples. Use `zero_division` parameter to control this behavior.\n",
      "  _warn_prf(average, modifier, msg_start, len(result))\n",
      "/usr/local/lib/python3.8/dist-packages/sklearn/metrics/_classification.py:1248: UndefinedMetricWarning: Jaccard is ill-defined and being set to 0.0 due to no true or predicted samples. Use `zero_division` parameter to control this behavior.\n",
      "  _warn_prf(average, modifier, msg_start, len(result))\n",
      "/usr/local/lib/python3.8/dist-packages/sklearn/metrics/_classification.py:1248: UndefinedMetricWarning: Jaccard is ill-defined and being set to 0.0 due to no true or predicted samples. Use `zero_division` parameter to control this behavior.\n",
      "  _warn_prf(average, modifier, msg_start, len(result))\n",
      "/usr/local/lib/python3.8/dist-packages/sklearn/metrics/_classification.py:1248: UndefinedMetricWarning: Jaccard is ill-defined and being set to 0.0 due to no true or predicted samples. Use `zero_division` parameter to control this behavior.\n",
      "  _warn_prf(average, modifier, msg_start, len(result))\n",
      "/usr/local/lib/python3.8/dist-packages/sklearn/metrics/_classification.py:1248: UndefinedMetricWarning: Jaccard is ill-defined and being set to 0.0 due to no true or predicted samples. Use `zero_division` parameter to control this behavior.\n",
      "  _warn_prf(average, modifier, msg_start, len(result))\n",
      "/usr/local/lib/python3.8/dist-packages/sklearn/metrics/_classification.py:1248: UndefinedMetricWarning: Jaccard is ill-defined and being set to 0.0 due to no true or predicted samples. Use `zero_division` parameter to control this behavior.\n",
      "  _warn_prf(average, modifier, msg_start, len(result))\n",
      "/usr/local/lib/python3.8/dist-packages/sklearn/metrics/_classification.py:1248: UndefinedMetricWarning: Jaccard is ill-defined and being set to 0.0 due to no true or predicted samples. Use `zero_division` parameter to control this behavior.\n",
      "  _warn_prf(average, modifier, msg_start, len(result))\n",
      "/usr/local/lib/python3.8/dist-packages/sklearn/metrics/_classification.py:1248: UndefinedMetricWarning: Jaccard is ill-defined and being set to 0.0 due to no true or predicted samples. Use `zero_division` parameter to control this behavior.\n",
      "  _warn_prf(average, modifier, msg_start, len(result))\n",
      "/usr/local/lib/python3.8/dist-packages/sklearn/metrics/_classification.py:1248: UndefinedMetricWarning: Jaccard is ill-defined and being set to 0.0 due to no true or predicted samples. Use `zero_division` parameter to control this behavior.\n",
      "  _warn_prf(average, modifier, msg_start, len(result))\n",
      " 30%|████████████████████████████████████████████████████▏                                                                                                                         | 30/100 [03:48<09:25,  8.08s/it]"
     ]
    },
    {
     "name": "stdout",
     "output_type": "stream",
     "text": [
      "mIOU given by: 0.6546765959275835\n",
      "[0.4800828259274245, 0.3141256294622326, 0.43314472897323886, 0.3108838838691709, 0.4217744661366317, 0.30750138626132656, 0.23392175229936546, 0.5477260303527688, 0.4806466370151126, 0.4273892546729509, 0.23403418107045632, 0.622984223580449, 0.28395898477729614, 0.5053798888534788, 0.36854260904913283, 0.23487570158381382, 0.2776467227756309, 0.6755961181605183, 0.37903712673606926, 0.5504114010316731, 0.37429026290122175, 0.496385323357798, 0.39196129947896174, 0.37924939647851275, 0.5853269475386425, 0.255262318179988, 0.6848665717060205, 0.30138798440552894, 0.5921036056828485, 0.6546765959275835]\n"
     ]
    },
    {
     "name": "stderr",
     "output_type": "stream",
     "text": [
      "/usr/local/lib/python3.8/dist-packages/sklearn/metrics/_classification.py:1248: UndefinedMetricWarning: Jaccard is ill-defined and being set to 0.0 due to no true or predicted samples. Use `zero_division` parameter to control this behavior.\n",
      "  _warn_prf(average, modifier, msg_start, len(result))\n",
      "/usr/local/lib/python3.8/dist-packages/sklearn/metrics/_classification.py:1248: UndefinedMetricWarning: Jaccard is ill-defined and being set to 0.0 due to no true or predicted samples. Use `zero_division` parameter to control this behavior.\n",
      "  _warn_prf(average, modifier, msg_start, len(result))\n",
      "/usr/local/lib/python3.8/dist-packages/sklearn/metrics/_classification.py:1248: UndefinedMetricWarning: Jaccard is ill-defined and being set to 0.0 due to no true or predicted samples. Use `zero_division` parameter to control this behavior.\n",
      "  _warn_prf(average, modifier, msg_start, len(result))\n",
      "/usr/local/lib/python3.8/dist-packages/sklearn/metrics/_classification.py:1248: UndefinedMetricWarning: Jaccard is ill-defined and being set to 0.0 due to no true or predicted samples. Use `zero_division` parameter to control this behavior.\n",
      "  _warn_prf(average, modifier, msg_start, len(result))\n",
      "/usr/local/lib/python3.8/dist-packages/sklearn/metrics/_classification.py:1248: UndefinedMetricWarning: Jaccard is ill-defined and being set to 0.0 due to no true or predicted samples. Use `zero_division` parameter to control this behavior.\n",
      "  _warn_prf(average, modifier, msg_start, len(result))\n",
      "/usr/local/lib/python3.8/dist-packages/sklearn/metrics/_classification.py:1248: UndefinedMetricWarning: Jaccard is ill-defined and being set to 0.0 due to no true or predicted samples. Use `zero_division` parameter to control this behavior.\n",
      "  _warn_prf(average, modifier, msg_start, len(result))\n",
      "/usr/local/lib/python3.8/dist-packages/sklearn/metrics/_classification.py:1248: UndefinedMetricWarning: Jaccard is ill-defined and being set to 0.0 due to no true or predicted samples. Use `zero_division` parameter to control this behavior.\n",
      "  _warn_prf(average, modifier, msg_start, len(result))\n",
      "/usr/local/lib/python3.8/dist-packages/sklearn/metrics/_classification.py:1248: UndefinedMetricWarning: Jaccard is ill-defined and being set to 0.0 due to no true or predicted samples. Use `zero_division` parameter to control this behavior.\n",
      "  _warn_prf(average, modifier, msg_start, len(result))\n",
      "/usr/local/lib/python3.8/dist-packages/sklearn/metrics/_classification.py:1248: UndefinedMetricWarning: Jaccard is ill-defined and being set to 0.0 due to no true or predicted samples. Use `zero_division` parameter to control this behavior.\n",
      "  _warn_prf(average, modifier, msg_start, len(result))\n",
      "/usr/local/lib/python3.8/dist-packages/sklearn/metrics/_classification.py:1248: UndefinedMetricWarning: Jaccard is ill-defined and being set to 0.0 due to no true or predicted samples. Use `zero_division` parameter to control this behavior.\n",
      "  _warn_prf(average, modifier, msg_start, len(result))\n",
      " 31%|█████████████████████████████████████████████████████▉                                                                                                                        | 31/100 [03:55<08:46,  7.63s/it]"
     ]
    },
    {
     "name": "stdout",
     "output_type": "stream",
     "text": [
      "mIOU given by: 0.27826561055984433\n",
      "[0.4800828259274245, 0.3141256294622326, 0.43314472897323886, 0.3108838838691709, 0.4217744661366317, 0.30750138626132656, 0.23392175229936546, 0.5477260303527688, 0.4806466370151126, 0.4273892546729509, 0.23403418107045632, 0.622984223580449, 0.28395898477729614, 0.5053798888534788, 0.36854260904913283, 0.23487570158381382, 0.2776467227756309, 0.6755961181605183, 0.37903712673606926, 0.5504114010316731, 0.37429026290122175, 0.496385323357798, 0.39196129947896174, 0.37924939647851275, 0.5853269475386425, 0.255262318179988, 0.6848665717060205, 0.30138798440552894, 0.5921036056828485, 0.6546765959275835, 0.27826561055984433]\n"
     ]
    },
    {
     "name": "stderr",
     "output_type": "stream",
     "text": [
      "/usr/local/lib/python3.8/dist-packages/sklearn/metrics/_classification.py:1248: UndefinedMetricWarning: Jaccard is ill-defined and being set to 0.0 due to no true or predicted samples. Use `zero_division` parameter to control this behavior.\n",
      "  _warn_prf(average, modifier, msg_start, len(result))\n",
      "/usr/local/lib/python3.8/dist-packages/sklearn/metrics/_classification.py:1248: UndefinedMetricWarning: Jaccard is ill-defined and being set to 0.0 due to no true or predicted samples. Use `zero_division` parameter to control this behavior.\n",
      "  _warn_prf(average, modifier, msg_start, len(result))\n",
      "/usr/local/lib/python3.8/dist-packages/sklearn/metrics/_classification.py:1248: UndefinedMetricWarning: Jaccard is ill-defined and being set to 0.0 due to no true or predicted samples. Use `zero_division` parameter to control this behavior.\n",
      "  _warn_prf(average, modifier, msg_start, len(result))\n",
      "/usr/local/lib/python3.8/dist-packages/sklearn/metrics/_classification.py:1248: UndefinedMetricWarning: Jaccard is ill-defined and being set to 0.0 due to no true or predicted samples. Use `zero_division` parameter to control this behavior.\n",
      "  _warn_prf(average, modifier, msg_start, len(result))\n",
      "/usr/local/lib/python3.8/dist-packages/sklearn/metrics/_classification.py:1248: UndefinedMetricWarning: Jaccard is ill-defined and being set to 0.0 due to no true or predicted samples. Use `zero_division` parameter to control this behavior.\n",
      "  _warn_prf(average, modifier, msg_start, len(result))\n",
      "/usr/local/lib/python3.8/dist-packages/sklearn/metrics/_classification.py:1248: UndefinedMetricWarning: Jaccard is ill-defined and being set to 0.0 due to no true or predicted samples. Use `zero_division` parameter to control this behavior.\n",
      "  _warn_prf(average, modifier, msg_start, len(result))\n",
      "/usr/local/lib/python3.8/dist-packages/sklearn/metrics/_classification.py:1248: UndefinedMetricWarning: Jaccard is ill-defined and being set to 0.0 due to no true or predicted samples. Use `zero_division` parameter to control this behavior.\n",
      "  _warn_prf(average, modifier, msg_start, len(result))\n",
      "/usr/local/lib/python3.8/dist-packages/sklearn/metrics/_classification.py:1248: UndefinedMetricWarning: Jaccard is ill-defined and being set to 0.0 due to no true or predicted samples. Use `zero_division` parameter to control this behavior.\n",
      "  _warn_prf(average, modifier, msg_start, len(result))\n",
      "/usr/local/lib/python3.8/dist-packages/sklearn/metrics/_classification.py:1248: UndefinedMetricWarning: Jaccard is ill-defined and being set to 0.0 due to no true or predicted samples. Use `zero_division` parameter to control this behavior.\n",
      "  _warn_prf(average, modifier, msg_start, len(result))\n",
      "/usr/local/lib/python3.8/dist-packages/sklearn/metrics/_classification.py:1248: UndefinedMetricWarning: Jaccard is ill-defined and being set to 0.0 due to no true or predicted samples. Use `zero_division` parameter to control this behavior.\n",
      "  _warn_prf(average, modifier, msg_start, len(result))\n",
      " 32%|███████████████████████████████████████████████████████▋                                                                                                                      | 32/100 [04:02<08:27,  7.46s/it]"
     ]
    },
    {
     "name": "stdout",
     "output_type": "stream",
     "text": [
      "mIOU given by: 0.22863031747535176\n",
      "[0.4800828259274245, 0.3141256294622326, 0.43314472897323886, 0.3108838838691709, 0.4217744661366317, 0.30750138626132656, 0.23392175229936546, 0.5477260303527688, 0.4806466370151126, 0.4273892546729509, 0.23403418107045632, 0.622984223580449, 0.28395898477729614, 0.5053798888534788, 0.36854260904913283, 0.23487570158381382, 0.2776467227756309, 0.6755961181605183, 0.37903712673606926, 0.5504114010316731, 0.37429026290122175, 0.496385323357798, 0.39196129947896174, 0.37924939647851275, 0.5853269475386425, 0.255262318179988, 0.6848665717060205, 0.30138798440552894, 0.5921036056828485, 0.6546765959275835, 0.27826561055984433, 0.22863031747535176]\n"
     ]
    },
    {
     "name": "stderr",
     "output_type": "stream",
     "text": [
      "/usr/local/lib/python3.8/dist-packages/sklearn/metrics/_classification.py:1248: UndefinedMetricWarning: Jaccard is ill-defined and being set to 0.0 due to no true or predicted samples. Use `zero_division` parameter to control this behavior.\n",
      "  _warn_prf(average, modifier, msg_start, len(result))\n",
      "/usr/local/lib/python3.8/dist-packages/sklearn/metrics/_classification.py:1248: UndefinedMetricWarning: Jaccard is ill-defined and being set to 0.0 due to no true or predicted samples. Use `zero_division` parameter to control this behavior.\n",
      "  _warn_prf(average, modifier, msg_start, len(result))\n",
      "/usr/local/lib/python3.8/dist-packages/sklearn/metrics/_classification.py:1248: UndefinedMetricWarning: Jaccard is ill-defined and being set to 0.0 due to no true or predicted samples. Use `zero_division` parameter to control this behavior.\n",
      "  _warn_prf(average, modifier, msg_start, len(result))\n",
      "/usr/local/lib/python3.8/dist-packages/sklearn/metrics/_classification.py:1248: UndefinedMetricWarning: Jaccard is ill-defined and being set to 0.0 due to no true or predicted samples. Use `zero_division` parameter to control this behavior.\n",
      "  _warn_prf(average, modifier, msg_start, len(result))\n",
      "/usr/local/lib/python3.8/dist-packages/sklearn/metrics/_classification.py:1248: UndefinedMetricWarning: Jaccard is ill-defined and being set to 0.0 due to no true or predicted samples. Use `zero_division` parameter to control this behavior.\n",
      "  _warn_prf(average, modifier, msg_start, len(result))\n",
      "/usr/local/lib/python3.8/dist-packages/sklearn/metrics/_classification.py:1248: UndefinedMetricWarning: Jaccard is ill-defined and being set to 0.0 due to no true or predicted samples. Use `zero_division` parameter to control this behavior.\n",
      "  _warn_prf(average, modifier, msg_start, len(result))\n",
      "/usr/local/lib/python3.8/dist-packages/sklearn/metrics/_classification.py:1248: UndefinedMetricWarning: Jaccard is ill-defined and being set to 0.0 due to no true or predicted samples. Use `zero_division` parameter to control this behavior.\n",
      "  _warn_prf(average, modifier, msg_start, len(result))\n",
      "/usr/local/lib/python3.8/dist-packages/sklearn/metrics/_classification.py:1248: UndefinedMetricWarning: Jaccard is ill-defined and being set to 0.0 due to no true or predicted samples. Use `zero_division` parameter to control this behavior.\n",
      "  _warn_prf(average, modifier, msg_start, len(result))\n",
      "/usr/local/lib/python3.8/dist-packages/sklearn/metrics/_classification.py:1248: UndefinedMetricWarning: Jaccard is ill-defined and being set to 0.0 due to no true or predicted samples. Use `zero_division` parameter to control this behavior.\n",
      "  _warn_prf(average, modifier, msg_start, len(result))\n",
      "/usr/local/lib/python3.8/dist-packages/sklearn/metrics/_classification.py:1248: UndefinedMetricWarning: Jaccard is ill-defined and being set to 0.0 due to no true or predicted samples. Use `zero_division` parameter to control this behavior.\n",
      "  _warn_prf(average, modifier, msg_start, len(result))\n",
      "/usr/local/lib/python3.8/dist-packages/sklearn/metrics/_classification.py:1248: UndefinedMetricWarning: Jaccard is ill-defined and being set to 0.0 due to no true or predicted samples. Use `zero_division` parameter to control this behavior.\n",
      "  _warn_prf(average, modifier, msg_start, len(result))\n",
      "/usr/local/lib/python3.8/dist-packages/sklearn/metrics/_classification.py:1248: UndefinedMetricWarning: Jaccard is ill-defined and being set to 0.0 due to no true or predicted samples. Use `zero_division` parameter to control this behavior.\n",
      "  _warn_prf(average, modifier, msg_start, len(result))\n",
      "/usr/local/lib/python3.8/dist-packages/sklearn/metrics/_classification.py:1248: UndefinedMetricWarning: Jaccard is ill-defined and being set to 0.0 due to no true or predicted samples. Use `zero_division` parameter to control this behavior.\n",
      "  _warn_prf(average, modifier, msg_start, len(result))\n",
      " 33%|█████████████████████████████████████████████████████████▍                                                                                                                    | 33/100 [04:09<08:12,  7.36s/it]"
     ]
    },
    {
     "name": "stdout",
     "output_type": "stream",
     "text": [
      "mIOU given by: 0.27819431972682734\n",
      "[0.4800828259274245, 0.3141256294622326, 0.43314472897323886, 0.3108838838691709, 0.4217744661366317, 0.30750138626132656, 0.23392175229936546, 0.5477260303527688, 0.4806466370151126, 0.4273892546729509, 0.23403418107045632, 0.622984223580449, 0.28395898477729614, 0.5053798888534788, 0.36854260904913283, 0.23487570158381382, 0.2776467227756309, 0.6755961181605183, 0.37903712673606926, 0.5504114010316731, 0.37429026290122175, 0.496385323357798, 0.39196129947896174, 0.37924939647851275, 0.5853269475386425, 0.255262318179988, 0.6848665717060205, 0.30138798440552894, 0.5921036056828485, 0.6546765959275835, 0.27826561055984433, 0.22863031747535176, 0.27819431972682734]\n"
     ]
    },
    {
     "name": "stderr",
     "output_type": "stream",
     "text": [
      "/usr/local/lib/python3.8/dist-packages/sklearn/metrics/_classification.py:1248: UndefinedMetricWarning: Jaccard is ill-defined and being set to 0.0 due to no true or predicted samples. Use `zero_division` parameter to control this behavior.\n",
      "  _warn_prf(average, modifier, msg_start, len(result))\n",
      "/usr/local/lib/python3.8/dist-packages/sklearn/metrics/_classification.py:1248: UndefinedMetricWarning: Jaccard is ill-defined and being set to 0.0 due to no true or predicted samples. Use `zero_division` parameter to control this behavior.\n",
      "  _warn_prf(average, modifier, msg_start, len(result))\n",
      "/usr/local/lib/python3.8/dist-packages/sklearn/metrics/_classification.py:1248: UndefinedMetricWarning: Jaccard is ill-defined and being set to 0.0 due to no true or predicted samples. Use `zero_division` parameter to control this behavior.\n",
      "  _warn_prf(average, modifier, msg_start, len(result))\n",
      "/usr/local/lib/python3.8/dist-packages/sklearn/metrics/_classification.py:1248: UndefinedMetricWarning: Jaccard is ill-defined and being set to 0.0 due to no true or predicted samples. Use `zero_division` parameter to control this behavior.\n",
      "  _warn_prf(average, modifier, msg_start, len(result))\n",
      "/usr/local/lib/python3.8/dist-packages/sklearn/metrics/_classification.py:1248: UndefinedMetricWarning: Jaccard is ill-defined and being set to 0.0 due to no true or predicted samples. Use `zero_division` parameter to control this behavior.\n",
      "  _warn_prf(average, modifier, msg_start, len(result))\n",
      "/usr/local/lib/python3.8/dist-packages/sklearn/metrics/_classification.py:1248: UndefinedMetricWarning: Jaccard is ill-defined and being set to 0.0 due to no true or predicted samples. Use `zero_division` parameter to control this behavior.\n",
      "  _warn_prf(average, modifier, msg_start, len(result))\n",
      "/usr/local/lib/python3.8/dist-packages/sklearn/metrics/_classification.py:1248: UndefinedMetricWarning: Jaccard is ill-defined and being set to 0.0 due to no true or predicted samples. Use `zero_division` parameter to control this behavior.\n",
      "  _warn_prf(average, modifier, msg_start, len(result))\n",
      "/usr/local/lib/python3.8/dist-packages/sklearn/metrics/_classification.py:1248: UndefinedMetricWarning: Jaccard is ill-defined and being set to 0.0 due to no true or predicted samples. Use `zero_division` parameter to control this behavior.\n",
      "  _warn_prf(average, modifier, msg_start, len(result))\n",
      "/usr/local/lib/python3.8/dist-packages/sklearn/metrics/_classification.py:1248: UndefinedMetricWarning: Jaccard is ill-defined and being set to 0.0 due to no true or predicted samples. Use `zero_division` parameter to control this behavior.\n",
      "  _warn_prf(average, modifier, msg_start, len(result))\n",
      " 34%|███████████████████████████████████████████████████████████▏                                                                                                                  | 34/100 [04:17<08:07,  7.38s/it]"
     ]
    },
    {
     "name": "stdout",
     "output_type": "stream",
     "text": [
      "mIOU given by: 0.5282928933268631\n",
      "[0.4800828259274245, 0.3141256294622326, 0.43314472897323886, 0.3108838838691709, 0.4217744661366317, 0.30750138626132656, 0.23392175229936546, 0.5477260303527688, 0.4806466370151126, 0.4273892546729509, 0.23403418107045632, 0.622984223580449, 0.28395898477729614, 0.5053798888534788, 0.36854260904913283, 0.23487570158381382, 0.2776467227756309, 0.6755961181605183, 0.37903712673606926, 0.5504114010316731, 0.37429026290122175, 0.496385323357798, 0.39196129947896174, 0.37924939647851275, 0.5853269475386425, 0.255262318179988, 0.6848665717060205, 0.30138798440552894, 0.5921036056828485, 0.6546765959275835, 0.27826561055984433, 0.22863031747535176, 0.27819431972682734, 0.5282928933268631]\n"
     ]
    },
    {
     "name": "stderr",
     "output_type": "stream",
     "text": [
      "/usr/local/lib/python3.8/dist-packages/sklearn/metrics/_classification.py:1248: UndefinedMetricWarning: Jaccard is ill-defined and being set to 0.0 due to no true or predicted samples. Use `zero_division` parameter to control this behavior.\n",
      "  _warn_prf(average, modifier, msg_start, len(result))\n",
      "/usr/local/lib/python3.8/dist-packages/sklearn/metrics/_classification.py:1248: UndefinedMetricWarning: Jaccard is ill-defined and being set to 0.0 due to no true or predicted samples. Use `zero_division` parameter to control this behavior.\n",
      "  _warn_prf(average, modifier, msg_start, len(result))\n",
      "/usr/local/lib/python3.8/dist-packages/sklearn/metrics/_classification.py:1248: UndefinedMetricWarning: Jaccard is ill-defined and being set to 0.0 due to no true or predicted samples. Use `zero_division` parameter to control this behavior.\n",
      "  _warn_prf(average, modifier, msg_start, len(result))\n",
      "/usr/local/lib/python3.8/dist-packages/sklearn/metrics/_classification.py:1248: UndefinedMetricWarning: Jaccard is ill-defined and being set to 0.0 due to no true or predicted samples. Use `zero_division` parameter to control this behavior.\n",
      "  _warn_prf(average, modifier, msg_start, len(result))\n",
      " 35%|████████████████████████████████████████████████████████████▉                                                                                                                 | 35/100 [04:25<08:26,  7.80s/it]"
     ]
    },
    {
     "name": "stdout",
     "output_type": "stream",
     "text": [
      "mIOU given by: 0.29809156976279433\n",
      "[0.4800828259274245, 0.3141256294622326, 0.43314472897323886, 0.3108838838691709, 0.4217744661366317, 0.30750138626132656, 0.23392175229936546, 0.5477260303527688, 0.4806466370151126, 0.4273892546729509, 0.23403418107045632, 0.622984223580449, 0.28395898477729614, 0.5053798888534788, 0.36854260904913283, 0.23487570158381382, 0.2776467227756309, 0.6755961181605183, 0.37903712673606926, 0.5504114010316731, 0.37429026290122175, 0.496385323357798, 0.39196129947896174, 0.37924939647851275, 0.5853269475386425, 0.255262318179988, 0.6848665717060205, 0.30138798440552894, 0.5921036056828485, 0.6546765959275835, 0.27826561055984433, 0.22863031747535176, 0.27819431972682734, 0.5282928933268631, 0.29809156976279433]\n"
     ]
    },
    {
     "name": "stderr",
     "output_type": "stream",
     "text": [
      "/usr/local/lib/python3.8/dist-packages/sklearn/metrics/_classification.py:1248: UndefinedMetricWarning: Jaccard is ill-defined and being set to 0.0 due to no true or predicted samples. Use `zero_division` parameter to control this behavior.\n",
      "  _warn_prf(average, modifier, msg_start, len(result))\n",
      "/usr/local/lib/python3.8/dist-packages/sklearn/metrics/_classification.py:1248: UndefinedMetricWarning: Jaccard is ill-defined and being set to 0.0 due to no true or predicted samples. Use `zero_division` parameter to control this behavior.\n",
      "  _warn_prf(average, modifier, msg_start, len(result))\n",
      "/usr/local/lib/python3.8/dist-packages/sklearn/metrics/_classification.py:1248: UndefinedMetricWarning: Jaccard is ill-defined and being set to 0.0 due to no true or predicted samples. Use `zero_division` parameter to control this behavior.\n",
      "  _warn_prf(average, modifier, msg_start, len(result))\n",
      "/usr/local/lib/python3.8/dist-packages/sklearn/metrics/_classification.py:1248: UndefinedMetricWarning: Jaccard is ill-defined and being set to 0.0 due to no true or predicted samples. Use `zero_division` parameter to control this behavior.\n",
      "  _warn_prf(average, modifier, msg_start, len(result))\n",
      "/usr/local/lib/python3.8/dist-packages/sklearn/metrics/_classification.py:1248: UndefinedMetricWarning: Jaccard is ill-defined and being set to 0.0 due to no true or predicted samples. Use `zero_division` parameter to control this behavior.\n",
      "  _warn_prf(average, modifier, msg_start, len(result))\n",
      "/usr/local/lib/python3.8/dist-packages/sklearn/metrics/_classification.py:1248: UndefinedMetricWarning: Jaccard is ill-defined and being set to 0.0 due to no true or predicted samples. Use `zero_division` parameter to control this behavior.\n",
      "  _warn_prf(average, modifier, msg_start, len(result))\n",
      "/usr/local/lib/python3.8/dist-packages/sklearn/metrics/_classification.py:1248: UndefinedMetricWarning: Jaccard is ill-defined and being set to 0.0 due to no true or predicted samples. Use `zero_division` parameter to control this behavior.\n",
      "  _warn_prf(average, modifier, msg_start, len(result))\n",
      "/usr/local/lib/python3.8/dist-packages/sklearn/metrics/_classification.py:1248: UndefinedMetricWarning: Jaccard is ill-defined and being set to 0.0 due to no true or predicted samples. Use `zero_division` parameter to control this behavior.\n",
      "  _warn_prf(average, modifier, msg_start, len(result))\n",
      " 36%|██████████████████████████████████████████████████████████████▋                                                                                                               | 36/100 [04:35<08:48,  8.26s/it]"
     ]
    },
    {
     "name": "stdout",
     "output_type": "stream",
     "text": [
      "mIOU given by: 0.2563069268808263\n",
      "[0.4800828259274245, 0.3141256294622326, 0.43314472897323886, 0.3108838838691709, 0.4217744661366317, 0.30750138626132656, 0.23392175229936546, 0.5477260303527688, 0.4806466370151126, 0.4273892546729509, 0.23403418107045632, 0.622984223580449, 0.28395898477729614, 0.5053798888534788, 0.36854260904913283, 0.23487570158381382, 0.2776467227756309, 0.6755961181605183, 0.37903712673606926, 0.5504114010316731, 0.37429026290122175, 0.496385323357798, 0.39196129947896174, 0.37924939647851275, 0.5853269475386425, 0.255262318179988, 0.6848665717060205, 0.30138798440552894, 0.5921036056828485, 0.6546765959275835, 0.27826561055984433, 0.22863031747535176, 0.27819431972682734, 0.5282928933268631, 0.29809156976279433, 0.2563069268808263]\n"
     ]
    },
    {
     "name": "stderr",
     "output_type": "stream",
     "text": [
      "/usr/local/lib/python3.8/dist-packages/sklearn/metrics/_classification.py:1248: UndefinedMetricWarning: Jaccard is ill-defined and being set to 0.0 due to no true or predicted samples. Use `zero_division` parameter to control this behavior.\n",
      "  _warn_prf(average, modifier, msg_start, len(result))\n",
      "/usr/local/lib/python3.8/dist-packages/sklearn/metrics/_classification.py:1248: UndefinedMetricWarning: Jaccard is ill-defined and being set to 0.0 due to no true or predicted samples. Use `zero_division` parameter to control this behavior.\n",
      "  _warn_prf(average, modifier, msg_start, len(result))\n",
      "/usr/local/lib/python3.8/dist-packages/sklearn/metrics/_classification.py:1248: UndefinedMetricWarning: Jaccard is ill-defined and being set to 0.0 due to no true or predicted samples. Use `zero_division` parameter to control this behavior.\n",
      "  _warn_prf(average, modifier, msg_start, len(result))\n",
      "/usr/local/lib/python3.8/dist-packages/sklearn/metrics/_classification.py:1248: UndefinedMetricWarning: Jaccard is ill-defined and being set to 0.0 due to no true or predicted samples. Use `zero_division` parameter to control this behavior.\n",
      "  _warn_prf(average, modifier, msg_start, len(result))\n",
      "/usr/local/lib/python3.8/dist-packages/sklearn/metrics/_classification.py:1248: UndefinedMetricWarning: Jaccard is ill-defined and being set to 0.0 due to no true or predicted samples. Use `zero_division` parameter to control this behavior.\n",
      "  _warn_prf(average, modifier, msg_start, len(result))\n",
      "/usr/local/lib/python3.8/dist-packages/sklearn/metrics/_classification.py:1248: UndefinedMetricWarning: Jaccard is ill-defined and being set to 0.0 due to no true or predicted samples. Use `zero_division` parameter to control this behavior.\n",
      "  _warn_prf(average, modifier, msg_start, len(result))\n",
      "/usr/local/lib/python3.8/dist-packages/sklearn/metrics/_classification.py:1248: UndefinedMetricWarning: Jaccard is ill-defined and being set to 0.0 due to no true or predicted samples. Use `zero_division` parameter to control this behavior.\n",
      "  _warn_prf(average, modifier, msg_start, len(result))\n",
      "/usr/local/lib/python3.8/dist-packages/sklearn/metrics/_classification.py:1248: UndefinedMetricWarning: Jaccard is ill-defined and being set to 0.0 due to no true or predicted samples. Use `zero_division` parameter to control this behavior.\n",
      "  _warn_prf(average, modifier, msg_start, len(result))\n",
      "/usr/local/lib/python3.8/dist-packages/sklearn/metrics/_classification.py:1248: UndefinedMetricWarning: Jaccard is ill-defined and being set to 0.0 due to no true or predicted samples. Use `zero_division` parameter to control this behavior.\n",
      "  _warn_prf(average, modifier, msg_start, len(result))\n",
      "/usr/local/lib/python3.8/dist-packages/sklearn/metrics/_classification.py:1248: UndefinedMetricWarning: Jaccard is ill-defined and being set to 0.0 due to no true or predicted samples. Use `zero_division` parameter to control this behavior.\n",
      "  _warn_prf(average, modifier, msg_start, len(result))\n",
      " 37%|████████████████████████████████████████████████████████████████▍                                                                                                             | 37/100 [04:42<08:14,  7.86s/it]"
     ]
    },
    {
     "name": "stdout",
     "output_type": "stream",
     "text": [
      "mIOU given by: 0.41665888131670775\n",
      "[0.4800828259274245, 0.3141256294622326, 0.43314472897323886, 0.3108838838691709, 0.4217744661366317, 0.30750138626132656, 0.23392175229936546, 0.5477260303527688, 0.4806466370151126, 0.4273892546729509, 0.23403418107045632, 0.622984223580449, 0.28395898477729614, 0.5053798888534788, 0.36854260904913283, 0.23487570158381382, 0.2776467227756309, 0.6755961181605183, 0.37903712673606926, 0.5504114010316731, 0.37429026290122175, 0.496385323357798, 0.39196129947896174, 0.37924939647851275, 0.5853269475386425, 0.255262318179988, 0.6848665717060205, 0.30138798440552894, 0.5921036056828485, 0.6546765959275835, 0.27826561055984433, 0.22863031747535176, 0.27819431972682734, 0.5282928933268631, 0.29809156976279433, 0.2563069268808263, 0.41665888131670775]\n"
     ]
    },
    {
     "name": "stderr",
     "output_type": "stream",
     "text": [
      "/usr/local/lib/python3.8/dist-packages/sklearn/metrics/_classification.py:1248: UndefinedMetricWarning: Jaccard is ill-defined and being set to 0.0 due to no true or predicted samples. Use `zero_division` parameter to control this behavior.\n",
      "  _warn_prf(average, modifier, msg_start, len(result))\n",
      "/usr/local/lib/python3.8/dist-packages/sklearn/metrics/_classification.py:1248: UndefinedMetricWarning: Jaccard is ill-defined and being set to 0.0 due to no true or predicted samples. Use `zero_division` parameter to control this behavior.\n",
      "  _warn_prf(average, modifier, msg_start, len(result))\n",
      "/usr/local/lib/python3.8/dist-packages/sklearn/metrics/_classification.py:1248: UndefinedMetricWarning: Jaccard is ill-defined and being set to 0.0 due to no true or predicted samples. Use `zero_division` parameter to control this behavior.\n",
      "  _warn_prf(average, modifier, msg_start, len(result))\n",
      "/usr/local/lib/python3.8/dist-packages/sklearn/metrics/_classification.py:1248: UndefinedMetricWarning: Jaccard is ill-defined and being set to 0.0 due to no true or predicted samples. Use `zero_division` parameter to control this behavior.\n",
      "  _warn_prf(average, modifier, msg_start, len(result))\n",
      "/usr/local/lib/python3.8/dist-packages/sklearn/metrics/_classification.py:1248: UndefinedMetricWarning: Jaccard is ill-defined and being set to 0.0 due to no true or predicted samples. Use `zero_division` parameter to control this behavior.\n",
      "  _warn_prf(average, modifier, msg_start, len(result))\n",
      "/usr/local/lib/python3.8/dist-packages/sklearn/metrics/_classification.py:1248: UndefinedMetricWarning: Jaccard is ill-defined and being set to 0.0 due to no true or predicted samples. Use `zero_division` parameter to control this behavior.\n",
      "  _warn_prf(average, modifier, msg_start, len(result))\n",
      "/usr/local/lib/python3.8/dist-packages/sklearn/metrics/_classification.py:1248: UndefinedMetricWarning: Jaccard is ill-defined and being set to 0.0 due to no true or predicted samples. Use `zero_division` parameter to control this behavior.\n",
      "  _warn_prf(average, modifier, msg_start, len(result))\n",
      "/usr/local/lib/python3.8/dist-packages/sklearn/metrics/_classification.py:1248: UndefinedMetricWarning: Jaccard is ill-defined and being set to 0.0 due to no true or predicted samples. Use `zero_division` parameter to control this behavior.\n",
      "  _warn_prf(average, modifier, msg_start, len(result))\n",
      "/usr/local/lib/python3.8/dist-packages/sklearn/metrics/_classification.py:1248: UndefinedMetricWarning: Jaccard is ill-defined and being set to 0.0 due to no true or predicted samples. Use `zero_division` parameter to control this behavior.\n",
      "  _warn_prf(average, modifier, msg_start, len(result))\n",
      "/usr/local/lib/python3.8/dist-packages/sklearn/metrics/_classification.py:1248: UndefinedMetricWarning: Jaccard is ill-defined and being set to 0.0 due to no true or predicted samples. Use `zero_division` parameter to control this behavior.\n",
      "  _warn_prf(average, modifier, msg_start, len(result))\n",
      " 38%|██████████████████████████████████████████████████████████████████                                                                                                            | 38/100 [04:49<08:04,  7.82s/it]"
     ]
    },
    {
     "name": "stdout",
     "output_type": "stream",
     "text": [
      "mIOU given by: 0.4455425174190389\n",
      "[0.4800828259274245, 0.3141256294622326, 0.43314472897323886, 0.3108838838691709, 0.4217744661366317, 0.30750138626132656, 0.23392175229936546, 0.5477260303527688, 0.4806466370151126, 0.4273892546729509, 0.23403418107045632, 0.622984223580449, 0.28395898477729614, 0.5053798888534788, 0.36854260904913283, 0.23487570158381382, 0.2776467227756309, 0.6755961181605183, 0.37903712673606926, 0.5504114010316731, 0.37429026290122175, 0.496385323357798, 0.39196129947896174, 0.37924939647851275, 0.5853269475386425, 0.255262318179988, 0.6848665717060205, 0.30138798440552894, 0.5921036056828485, 0.6546765959275835, 0.27826561055984433, 0.22863031747535176, 0.27819431972682734, 0.5282928933268631, 0.29809156976279433, 0.2563069268808263, 0.41665888131670775, 0.4455425174190389]\n"
     ]
    },
    {
     "name": "stderr",
     "output_type": "stream",
     "text": [
      "/usr/local/lib/python3.8/dist-packages/sklearn/metrics/_classification.py:1248: UndefinedMetricWarning: Jaccard is ill-defined and being set to 0.0 due to no true or predicted samples. Use `zero_division` parameter to control this behavior.\n",
      "  _warn_prf(average, modifier, msg_start, len(result))\n",
      "/usr/local/lib/python3.8/dist-packages/sklearn/metrics/_classification.py:1248: UndefinedMetricWarning: Jaccard is ill-defined and being set to 0.0 due to no true or predicted samples. Use `zero_division` parameter to control this behavior.\n",
      "  _warn_prf(average, modifier, msg_start, len(result))\n",
      "/usr/local/lib/python3.8/dist-packages/sklearn/metrics/_classification.py:1248: UndefinedMetricWarning: Jaccard is ill-defined and being set to 0.0 due to no true or predicted samples. Use `zero_division` parameter to control this behavior.\n",
      "  _warn_prf(average, modifier, msg_start, len(result))\n",
      "/usr/local/lib/python3.8/dist-packages/sklearn/metrics/_classification.py:1248: UndefinedMetricWarning: Jaccard is ill-defined and being set to 0.0 due to no true or predicted samples. Use `zero_division` parameter to control this behavior.\n",
      "  _warn_prf(average, modifier, msg_start, len(result))\n",
      "/usr/local/lib/python3.8/dist-packages/sklearn/metrics/_classification.py:1248: UndefinedMetricWarning: Jaccard is ill-defined and being set to 0.0 due to no true or predicted samples. Use `zero_division` parameter to control this behavior.\n",
      "  _warn_prf(average, modifier, msg_start, len(result))\n",
      "/usr/local/lib/python3.8/dist-packages/sklearn/metrics/_classification.py:1248: UndefinedMetricWarning: Jaccard is ill-defined and being set to 0.0 due to no true or predicted samples. Use `zero_division` parameter to control this behavior.\n",
      "  _warn_prf(average, modifier, msg_start, len(result))\n",
      "/usr/local/lib/python3.8/dist-packages/sklearn/metrics/_classification.py:1248: UndefinedMetricWarning: Jaccard is ill-defined and being set to 0.0 due to no true or predicted samples. Use `zero_division` parameter to control this behavior.\n",
      "  _warn_prf(average, modifier, msg_start, len(result))\n",
      " 39%|███████████████████████████████████████████████████████████████████▊                                                                                                          | 39/100 [04:56<07:42,  7.58s/it]"
     ]
    },
    {
     "name": "stdout",
     "output_type": "stream",
     "text": [
      "mIOU given by: 0.34989910732345086\n",
      "[0.4800828259274245, 0.3141256294622326, 0.43314472897323886, 0.3108838838691709, 0.4217744661366317, 0.30750138626132656, 0.23392175229936546, 0.5477260303527688, 0.4806466370151126, 0.4273892546729509, 0.23403418107045632, 0.622984223580449, 0.28395898477729614, 0.5053798888534788, 0.36854260904913283, 0.23487570158381382, 0.2776467227756309, 0.6755961181605183, 0.37903712673606926, 0.5504114010316731, 0.37429026290122175, 0.496385323357798, 0.39196129947896174, 0.37924939647851275, 0.5853269475386425, 0.255262318179988, 0.6848665717060205, 0.30138798440552894, 0.5921036056828485, 0.6546765959275835, 0.27826561055984433, 0.22863031747535176, 0.27819431972682734, 0.5282928933268631, 0.29809156976279433, 0.2563069268808263, 0.41665888131670775, 0.4455425174190389, 0.34989910732345086]\n"
     ]
    },
    {
     "name": "stderr",
     "output_type": "stream",
     "text": [
      "/usr/local/lib/python3.8/dist-packages/sklearn/metrics/_classification.py:1248: UndefinedMetricWarning: Jaccard is ill-defined and being set to 0.0 due to no true or predicted samples. Use `zero_division` parameter to control this behavior.\n",
      "  _warn_prf(average, modifier, msg_start, len(result))\n",
      "/usr/local/lib/python3.8/dist-packages/sklearn/metrics/_classification.py:1248: UndefinedMetricWarning: Jaccard is ill-defined and being set to 0.0 due to no true or predicted samples. Use `zero_division` parameter to control this behavior.\n",
      "  _warn_prf(average, modifier, msg_start, len(result))\n",
      "/usr/local/lib/python3.8/dist-packages/sklearn/metrics/_classification.py:1248: UndefinedMetricWarning: Jaccard is ill-defined and being set to 0.0 due to no true or predicted samples. Use `zero_division` parameter to control this behavior.\n",
      "  _warn_prf(average, modifier, msg_start, len(result))\n",
      "/usr/local/lib/python3.8/dist-packages/sklearn/metrics/_classification.py:1248: UndefinedMetricWarning: Jaccard is ill-defined and being set to 0.0 due to no true or predicted samples. Use `zero_division` parameter to control this behavior.\n",
      "  _warn_prf(average, modifier, msg_start, len(result))\n",
      "/usr/local/lib/python3.8/dist-packages/sklearn/metrics/_classification.py:1248: UndefinedMetricWarning: Jaccard is ill-defined and being set to 0.0 due to no true or predicted samples. Use `zero_division` parameter to control this behavior.\n",
      "  _warn_prf(average, modifier, msg_start, len(result))\n",
      "/usr/local/lib/python3.8/dist-packages/sklearn/metrics/_classification.py:1248: UndefinedMetricWarning: Jaccard is ill-defined and being set to 0.0 due to no true or predicted samples. Use `zero_division` parameter to control this behavior.\n",
      "  _warn_prf(average, modifier, msg_start, len(result))\n",
      "/usr/local/lib/python3.8/dist-packages/sklearn/metrics/_classification.py:1248: UndefinedMetricWarning: Jaccard is ill-defined and being set to 0.0 due to no true or predicted samples. Use `zero_division` parameter to control this behavior.\n",
      "  _warn_prf(average, modifier, msg_start, len(result))\n",
      "/usr/local/lib/python3.8/dist-packages/sklearn/metrics/_classification.py:1248: UndefinedMetricWarning: Jaccard is ill-defined and being set to 0.0 due to no true or predicted samples. Use `zero_division` parameter to control this behavior.\n",
      "  _warn_prf(average, modifier, msg_start, len(result))\n",
      "/usr/local/lib/python3.8/dist-packages/sklearn/metrics/_classification.py:1248: UndefinedMetricWarning: Jaccard is ill-defined and being set to 0.0 due to no true or predicted samples. Use `zero_division` parameter to control this behavior.\n",
      "  _warn_prf(average, modifier, msg_start, len(result))\n",
      " 40%|█████████████████████████████████████████████████████████████████████▌                                                                                                        | 40/100 [05:03<07:16,  7.27s/it]"
     ]
    },
    {
     "name": "stdout",
     "output_type": "stream",
     "text": [
      "mIOU given by: 0.5253094595573349\n",
      "[0.4800828259274245, 0.3141256294622326, 0.43314472897323886, 0.3108838838691709, 0.4217744661366317, 0.30750138626132656, 0.23392175229936546, 0.5477260303527688, 0.4806466370151126, 0.4273892546729509, 0.23403418107045632, 0.622984223580449, 0.28395898477729614, 0.5053798888534788, 0.36854260904913283, 0.23487570158381382, 0.2776467227756309, 0.6755961181605183, 0.37903712673606926, 0.5504114010316731, 0.37429026290122175, 0.496385323357798, 0.39196129947896174, 0.37924939647851275, 0.5853269475386425, 0.255262318179988, 0.6848665717060205, 0.30138798440552894, 0.5921036056828485, 0.6546765959275835, 0.27826561055984433, 0.22863031747535176, 0.27819431972682734, 0.5282928933268631, 0.29809156976279433, 0.2563069268808263, 0.41665888131670775, 0.4455425174190389, 0.34989910732345086, 0.5253094595573349]\n"
     ]
    },
    {
     "name": "stderr",
     "output_type": "stream",
     "text": [
      "/usr/local/lib/python3.8/dist-packages/sklearn/metrics/_classification.py:1248: UndefinedMetricWarning: Jaccard is ill-defined and being set to 0.0 due to no true or predicted samples. Use `zero_division` parameter to control this behavior.\n",
      "  _warn_prf(average, modifier, msg_start, len(result))\n",
      "/usr/local/lib/python3.8/dist-packages/sklearn/metrics/_classification.py:1248: UndefinedMetricWarning: Jaccard is ill-defined and being set to 0.0 due to no true or predicted samples. Use `zero_division` parameter to control this behavior.\n",
      "  _warn_prf(average, modifier, msg_start, len(result))\n",
      "/usr/local/lib/python3.8/dist-packages/sklearn/metrics/_classification.py:1248: UndefinedMetricWarning: Jaccard is ill-defined and being set to 0.0 due to no true or predicted samples. Use `zero_division` parameter to control this behavior.\n",
      "  _warn_prf(average, modifier, msg_start, len(result))\n",
      "/usr/local/lib/python3.8/dist-packages/sklearn/metrics/_classification.py:1248: UndefinedMetricWarning: Jaccard is ill-defined and being set to 0.0 due to no true or predicted samples. Use `zero_division` parameter to control this behavior.\n",
      "  _warn_prf(average, modifier, msg_start, len(result))\n",
      "/usr/local/lib/python3.8/dist-packages/sklearn/metrics/_classification.py:1248: UndefinedMetricWarning: Jaccard is ill-defined and being set to 0.0 due to no true or predicted samples. Use `zero_division` parameter to control this behavior.\n",
      "  _warn_prf(average, modifier, msg_start, len(result))\n",
      "/usr/local/lib/python3.8/dist-packages/sklearn/metrics/_classification.py:1248: UndefinedMetricWarning: Jaccard is ill-defined and being set to 0.0 due to no true or predicted samples. Use `zero_division` parameter to control this behavior.\n",
      "  _warn_prf(average, modifier, msg_start, len(result))\n",
      " 41%|███████████████████████████████████████████████████████████████████████▎                                                                                                      | 41/100 [05:11<07:20,  7.46s/it]"
     ]
    },
    {
     "name": "stdout",
     "output_type": "stream",
     "text": [
      "mIOU given by: 0.2890501560457343\n",
      "[0.4800828259274245, 0.3141256294622326, 0.43314472897323886, 0.3108838838691709, 0.4217744661366317, 0.30750138626132656, 0.23392175229936546, 0.5477260303527688, 0.4806466370151126, 0.4273892546729509, 0.23403418107045632, 0.622984223580449, 0.28395898477729614, 0.5053798888534788, 0.36854260904913283, 0.23487570158381382, 0.2776467227756309, 0.6755961181605183, 0.37903712673606926, 0.5504114010316731, 0.37429026290122175, 0.496385323357798, 0.39196129947896174, 0.37924939647851275, 0.5853269475386425, 0.255262318179988, 0.6848665717060205, 0.30138798440552894, 0.5921036056828485, 0.6546765959275835, 0.27826561055984433, 0.22863031747535176, 0.27819431972682734, 0.5282928933268631, 0.29809156976279433, 0.2563069268808263, 0.41665888131670775, 0.4455425174190389, 0.34989910732345086, 0.5253094595573349, 0.2890501560457343]\n"
     ]
    },
    {
     "name": "stderr",
     "output_type": "stream",
     "text": [
      "/usr/local/lib/python3.8/dist-packages/sklearn/metrics/_classification.py:1248: UndefinedMetricWarning: Jaccard is ill-defined and being set to 0.0 due to no true or predicted samples. Use `zero_division` parameter to control this behavior.\n",
      "  _warn_prf(average, modifier, msg_start, len(result))\n",
      "/usr/local/lib/python3.8/dist-packages/sklearn/metrics/_classification.py:1248: UndefinedMetricWarning: Jaccard is ill-defined and being set to 0.0 due to no true or predicted samples. Use `zero_division` parameter to control this behavior.\n",
      "  _warn_prf(average, modifier, msg_start, len(result))\n",
      "/usr/local/lib/python3.8/dist-packages/sklearn/metrics/_classification.py:1248: UndefinedMetricWarning: Jaccard is ill-defined and being set to 0.0 due to no true or predicted samples. Use `zero_division` parameter to control this behavior.\n",
      "  _warn_prf(average, modifier, msg_start, len(result))\n",
      "/usr/local/lib/python3.8/dist-packages/sklearn/metrics/_classification.py:1248: UndefinedMetricWarning: Jaccard is ill-defined and being set to 0.0 due to no true or predicted samples. Use `zero_division` parameter to control this behavior.\n",
      "  _warn_prf(average, modifier, msg_start, len(result))\n",
      "/usr/local/lib/python3.8/dist-packages/sklearn/metrics/_classification.py:1248: UndefinedMetricWarning: Jaccard is ill-defined and being set to 0.0 due to no true or predicted samples. Use `zero_division` parameter to control this behavior.\n",
      "  _warn_prf(average, modifier, msg_start, len(result))\n",
      "/usr/local/lib/python3.8/dist-packages/sklearn/metrics/_classification.py:1248: UndefinedMetricWarning: Jaccard is ill-defined and being set to 0.0 due to no true or predicted samples. Use `zero_division` parameter to control this behavior.\n",
      "  _warn_prf(average, modifier, msg_start, len(result))\n",
      "/usr/local/lib/python3.8/dist-packages/sklearn/metrics/_classification.py:1248: UndefinedMetricWarning: Jaccard is ill-defined and being set to 0.0 due to no true or predicted samples. Use `zero_division` parameter to control this behavior.\n",
      "  _warn_prf(average, modifier, msg_start, len(result))\n",
      " 42%|█████████████████████████████████████████████████████████████████████████                                                                                                     | 42/100 [05:18<07:09,  7.40s/it]"
     ]
    },
    {
     "name": "stdout",
     "output_type": "stream",
     "text": [
      "mIOU given by: 0.4635251003659016\n",
      "[0.4800828259274245, 0.3141256294622326, 0.43314472897323886, 0.3108838838691709, 0.4217744661366317, 0.30750138626132656, 0.23392175229936546, 0.5477260303527688, 0.4806466370151126, 0.4273892546729509, 0.23403418107045632, 0.622984223580449, 0.28395898477729614, 0.5053798888534788, 0.36854260904913283, 0.23487570158381382, 0.2776467227756309, 0.6755961181605183, 0.37903712673606926, 0.5504114010316731, 0.37429026290122175, 0.496385323357798, 0.39196129947896174, 0.37924939647851275, 0.5853269475386425, 0.255262318179988, 0.6848665717060205, 0.30138798440552894, 0.5921036056828485, 0.6546765959275835, 0.27826561055984433, 0.22863031747535176, 0.27819431972682734, 0.5282928933268631, 0.29809156976279433, 0.2563069268808263, 0.41665888131670775, 0.4455425174190389, 0.34989910732345086, 0.5253094595573349, 0.2890501560457343, 0.4635251003659016]\n"
     ]
    },
    {
     "name": "stderr",
     "output_type": "stream",
     "text": [
      "/usr/local/lib/python3.8/dist-packages/sklearn/metrics/_classification.py:1248: UndefinedMetricWarning: Jaccard is ill-defined and being set to 0.0 due to no true or predicted samples. Use `zero_division` parameter to control this behavior.\n",
      "  _warn_prf(average, modifier, msg_start, len(result))\n",
      "/usr/local/lib/python3.8/dist-packages/sklearn/metrics/_classification.py:1248: UndefinedMetricWarning: Jaccard is ill-defined and being set to 0.0 due to no true or predicted samples. Use `zero_division` parameter to control this behavior.\n",
      "  _warn_prf(average, modifier, msg_start, len(result))\n",
      "/usr/local/lib/python3.8/dist-packages/sklearn/metrics/_classification.py:1248: UndefinedMetricWarning: Jaccard is ill-defined and being set to 0.0 due to no true or predicted samples. Use `zero_division` parameter to control this behavior.\n",
      "  _warn_prf(average, modifier, msg_start, len(result))\n",
      "/usr/local/lib/python3.8/dist-packages/sklearn/metrics/_classification.py:1248: UndefinedMetricWarning: Jaccard is ill-defined and being set to 0.0 due to no true or predicted samples. Use `zero_division` parameter to control this behavior.\n",
      "  _warn_prf(average, modifier, msg_start, len(result))\n",
      "/usr/local/lib/python3.8/dist-packages/sklearn/metrics/_classification.py:1248: UndefinedMetricWarning: Jaccard is ill-defined and being set to 0.0 due to no true or predicted samples. Use `zero_division` parameter to control this behavior.\n",
      "  _warn_prf(average, modifier, msg_start, len(result))\n",
      "/usr/local/lib/python3.8/dist-packages/sklearn/metrics/_classification.py:1248: UndefinedMetricWarning: Jaccard is ill-defined and being set to 0.0 due to no true or predicted samples. Use `zero_division` parameter to control this behavior.\n",
      "  _warn_prf(average, modifier, msg_start, len(result))\n",
      "/usr/local/lib/python3.8/dist-packages/sklearn/metrics/_classification.py:1248: UndefinedMetricWarning: Jaccard is ill-defined and being set to 0.0 due to no true or predicted samples. Use `zero_division` parameter to control this behavior.\n",
      "  _warn_prf(average, modifier, msg_start, len(result))\n",
      "/usr/local/lib/python3.8/dist-packages/sklearn/metrics/_classification.py:1248: UndefinedMetricWarning: Jaccard is ill-defined and being set to 0.0 due to no true or predicted samples. Use `zero_division` parameter to control this behavior.\n",
      "  _warn_prf(average, modifier, msg_start, len(result))\n",
      "/usr/local/lib/python3.8/dist-packages/sklearn/metrics/_classification.py:1248: UndefinedMetricWarning: Jaccard is ill-defined and being set to 0.0 due to no true or predicted samples. Use `zero_division` parameter to control this behavior.\n",
      "  _warn_prf(average, modifier, msg_start, len(result))\n",
      " 43%|██████████████████████████████████████████████████████████████████████████▊                                                                                                   | 43/100 [05:26<07:10,  7.56s/it]"
     ]
    },
    {
     "name": "stdout",
     "output_type": "stream",
     "text": [
      "mIOU given by: 0.24949786498487941\n",
      "[0.4800828259274245, 0.3141256294622326, 0.43314472897323886, 0.3108838838691709, 0.4217744661366317, 0.30750138626132656, 0.23392175229936546, 0.5477260303527688, 0.4806466370151126, 0.4273892546729509, 0.23403418107045632, 0.622984223580449, 0.28395898477729614, 0.5053798888534788, 0.36854260904913283, 0.23487570158381382, 0.2776467227756309, 0.6755961181605183, 0.37903712673606926, 0.5504114010316731, 0.37429026290122175, 0.496385323357798, 0.39196129947896174, 0.37924939647851275, 0.5853269475386425, 0.255262318179988, 0.6848665717060205, 0.30138798440552894, 0.5921036056828485, 0.6546765959275835, 0.27826561055984433, 0.22863031747535176, 0.27819431972682734, 0.5282928933268631, 0.29809156976279433, 0.2563069268808263, 0.41665888131670775, 0.4455425174190389, 0.34989910732345086, 0.5253094595573349, 0.2890501560457343, 0.4635251003659016, 0.24949786498487941]\n"
     ]
    },
    {
     "name": "stderr",
     "output_type": "stream",
     "text": [
      "/usr/local/lib/python3.8/dist-packages/sklearn/metrics/_classification.py:1248: UndefinedMetricWarning: Jaccard is ill-defined and being set to 0.0 due to no true or predicted samples. Use `zero_division` parameter to control this behavior.\n",
      "  _warn_prf(average, modifier, msg_start, len(result))\n",
      "/usr/local/lib/python3.8/dist-packages/sklearn/metrics/_classification.py:1248: UndefinedMetricWarning: Jaccard is ill-defined and being set to 0.0 due to no true or predicted samples. Use `zero_division` parameter to control this behavior.\n",
      "  _warn_prf(average, modifier, msg_start, len(result))\n",
      "/usr/local/lib/python3.8/dist-packages/sklearn/metrics/_classification.py:1248: UndefinedMetricWarning: Jaccard is ill-defined and being set to 0.0 due to no true or predicted samples. Use `zero_division` parameter to control this behavior.\n",
      "  _warn_prf(average, modifier, msg_start, len(result))\n",
      "/usr/local/lib/python3.8/dist-packages/sklearn/metrics/_classification.py:1248: UndefinedMetricWarning: Jaccard is ill-defined and being set to 0.0 due to no true or predicted samples. Use `zero_division` parameter to control this behavior.\n",
      "  _warn_prf(average, modifier, msg_start, len(result))\n",
      "/usr/local/lib/python3.8/dist-packages/sklearn/metrics/_classification.py:1248: UndefinedMetricWarning: Jaccard is ill-defined and being set to 0.0 due to no true or predicted samples. Use `zero_division` parameter to control this behavior.\n",
      "  _warn_prf(average, modifier, msg_start, len(result))\n",
      "/usr/local/lib/python3.8/dist-packages/sklearn/metrics/_classification.py:1248: UndefinedMetricWarning: Jaccard is ill-defined and being set to 0.0 due to no true or predicted samples. Use `zero_division` parameter to control this behavior.\n",
      "  _warn_prf(average, modifier, msg_start, len(result))\n",
      "/usr/local/lib/python3.8/dist-packages/sklearn/metrics/_classification.py:1248: UndefinedMetricWarning: Jaccard is ill-defined and being set to 0.0 due to no true or predicted samples. Use `zero_division` parameter to control this behavior.\n",
      "  _warn_prf(average, modifier, msg_start, len(result))\n",
      "/usr/local/lib/python3.8/dist-packages/sklearn/metrics/_classification.py:1248: UndefinedMetricWarning: Jaccard is ill-defined and being set to 0.0 due to no true or predicted samples. Use `zero_division` parameter to control this behavior.\n",
      "  _warn_prf(average, modifier, msg_start, len(result))\n",
      "/usr/local/lib/python3.8/dist-packages/sklearn/metrics/_classification.py:1248: UndefinedMetricWarning: Jaccard is ill-defined and being set to 0.0 due to no true or predicted samples. Use `zero_division` parameter to control this behavior.\n",
      "  _warn_prf(average, modifier, msg_start, len(result))\n",
      "/usr/local/lib/python3.8/dist-packages/sklearn/metrics/_classification.py:1248: UndefinedMetricWarning: Jaccard is ill-defined and being set to 0.0 due to no true or predicted samples. Use `zero_division` parameter to control this behavior.\n",
      "  _warn_prf(average, modifier, msg_start, len(result))\n",
      " 44%|████████████████████████████████████████████████████████████████████████████▌                                                                                                 | 44/100 [05:34<07:10,  7.68s/it]"
     ]
    },
    {
     "name": "stdout",
     "output_type": "stream",
     "text": [
      "mIOU given by: 0.3703191870359074\n",
      "[0.4800828259274245, 0.3141256294622326, 0.43314472897323886, 0.3108838838691709, 0.4217744661366317, 0.30750138626132656, 0.23392175229936546, 0.5477260303527688, 0.4806466370151126, 0.4273892546729509, 0.23403418107045632, 0.622984223580449, 0.28395898477729614, 0.5053798888534788, 0.36854260904913283, 0.23487570158381382, 0.2776467227756309, 0.6755961181605183, 0.37903712673606926, 0.5504114010316731, 0.37429026290122175, 0.496385323357798, 0.39196129947896174, 0.37924939647851275, 0.5853269475386425, 0.255262318179988, 0.6848665717060205, 0.30138798440552894, 0.5921036056828485, 0.6546765959275835, 0.27826561055984433, 0.22863031747535176, 0.27819431972682734, 0.5282928933268631, 0.29809156976279433, 0.2563069268808263, 0.41665888131670775, 0.4455425174190389, 0.34989910732345086, 0.5253094595573349, 0.2890501560457343, 0.4635251003659016, 0.24949786498487941, 0.3703191870359074]\n"
     ]
    },
    {
     "name": "stderr",
     "output_type": "stream",
     "text": [
      "/usr/local/lib/python3.8/dist-packages/sklearn/metrics/_classification.py:1248: UndefinedMetricWarning: Jaccard is ill-defined and being set to 0.0 due to no true or predicted samples. Use `zero_division` parameter to control this behavior.\n",
      "  _warn_prf(average, modifier, msg_start, len(result))\n",
      "/usr/local/lib/python3.8/dist-packages/sklearn/metrics/_classification.py:1248: UndefinedMetricWarning: Jaccard is ill-defined and being set to 0.0 due to no true or predicted samples. Use `zero_division` parameter to control this behavior.\n",
      "  _warn_prf(average, modifier, msg_start, len(result))\n",
      "/usr/local/lib/python3.8/dist-packages/sklearn/metrics/_classification.py:1248: UndefinedMetricWarning: Jaccard is ill-defined and being set to 0.0 due to no true or predicted samples. Use `zero_division` parameter to control this behavior.\n",
      "  _warn_prf(average, modifier, msg_start, len(result))\n",
      "/usr/local/lib/python3.8/dist-packages/sklearn/metrics/_classification.py:1248: UndefinedMetricWarning: Jaccard is ill-defined and being set to 0.0 due to no true or predicted samples. Use `zero_division` parameter to control this behavior.\n",
      "  _warn_prf(average, modifier, msg_start, len(result))\n",
      "/usr/local/lib/python3.8/dist-packages/sklearn/metrics/_classification.py:1248: UndefinedMetricWarning: Jaccard is ill-defined and being set to 0.0 due to no true or predicted samples. Use `zero_division` parameter to control this behavior.\n",
      "  _warn_prf(average, modifier, msg_start, len(result))\n",
      "/usr/local/lib/python3.8/dist-packages/sklearn/metrics/_classification.py:1248: UndefinedMetricWarning: Jaccard is ill-defined and being set to 0.0 due to no true or predicted samples. Use `zero_division` parameter to control this behavior.\n",
      "  _warn_prf(average, modifier, msg_start, len(result))\n",
      "/usr/local/lib/python3.8/dist-packages/sklearn/metrics/_classification.py:1248: UndefinedMetricWarning: Jaccard is ill-defined and being set to 0.0 due to no true or predicted samples. Use `zero_division` parameter to control this behavior.\n",
      "  _warn_prf(average, modifier, msg_start, len(result))\n",
      "/usr/local/lib/python3.8/dist-packages/sklearn/metrics/_classification.py:1248: UndefinedMetricWarning: Jaccard is ill-defined and being set to 0.0 due to no true or predicted samples. Use `zero_division` parameter to control this behavior.\n",
      "  _warn_prf(average, modifier, msg_start, len(result))\n",
      " 45%|██████████████████████████████████████████████████████████████████████████████▎                                                                                               | 45/100 [05:41<07:00,  7.65s/it]"
     ]
    },
    {
     "name": "stdout",
     "output_type": "stream",
     "text": [
      "mIOU given by: 0.3865878299278053\n",
      "[0.4800828259274245, 0.3141256294622326, 0.43314472897323886, 0.3108838838691709, 0.4217744661366317, 0.30750138626132656, 0.23392175229936546, 0.5477260303527688, 0.4806466370151126, 0.4273892546729509, 0.23403418107045632, 0.622984223580449, 0.28395898477729614, 0.5053798888534788, 0.36854260904913283, 0.23487570158381382, 0.2776467227756309, 0.6755961181605183, 0.37903712673606926, 0.5504114010316731, 0.37429026290122175, 0.496385323357798, 0.39196129947896174, 0.37924939647851275, 0.5853269475386425, 0.255262318179988, 0.6848665717060205, 0.30138798440552894, 0.5921036056828485, 0.6546765959275835, 0.27826561055984433, 0.22863031747535176, 0.27819431972682734, 0.5282928933268631, 0.29809156976279433, 0.2563069268808263, 0.41665888131670775, 0.4455425174190389, 0.34989910732345086, 0.5253094595573349, 0.2890501560457343, 0.4635251003659016, 0.24949786498487941, 0.3703191870359074, 0.3865878299278053]\n"
     ]
    },
    {
     "name": "stderr",
     "output_type": "stream",
     "text": [
      "/usr/local/lib/python3.8/dist-packages/sklearn/metrics/_classification.py:1248: UndefinedMetricWarning: Jaccard is ill-defined and being set to 0.0 due to no true or predicted samples. Use `zero_division` parameter to control this behavior.\n",
      "  _warn_prf(average, modifier, msg_start, len(result))\n",
      "/usr/local/lib/python3.8/dist-packages/sklearn/metrics/_classification.py:1248: UndefinedMetricWarning: Jaccard is ill-defined and being set to 0.0 due to no true or predicted samples. Use `zero_division` parameter to control this behavior.\n",
      "  _warn_prf(average, modifier, msg_start, len(result))\n",
      "/usr/local/lib/python3.8/dist-packages/sklearn/metrics/_classification.py:1248: UndefinedMetricWarning: Jaccard is ill-defined and being set to 0.0 due to no true or predicted samples. Use `zero_division` parameter to control this behavior.\n",
      "  _warn_prf(average, modifier, msg_start, len(result))\n",
      "/usr/local/lib/python3.8/dist-packages/sklearn/metrics/_classification.py:1248: UndefinedMetricWarning: Jaccard is ill-defined and being set to 0.0 due to no true or predicted samples. Use `zero_division` parameter to control this behavior.\n",
      "  _warn_prf(average, modifier, msg_start, len(result))\n",
      "/usr/local/lib/python3.8/dist-packages/sklearn/metrics/_classification.py:1248: UndefinedMetricWarning: Jaccard is ill-defined and being set to 0.0 due to no true or predicted samples. Use `zero_division` parameter to control this behavior.\n",
      "  _warn_prf(average, modifier, msg_start, len(result))\n",
      "/usr/local/lib/python3.8/dist-packages/sklearn/metrics/_classification.py:1248: UndefinedMetricWarning: Jaccard is ill-defined and being set to 0.0 due to no true or predicted samples. Use `zero_division` parameter to control this behavior.\n",
      "  _warn_prf(average, modifier, msg_start, len(result))\n",
      "/usr/local/lib/python3.8/dist-packages/sklearn/metrics/_classification.py:1248: UndefinedMetricWarning: Jaccard is ill-defined and being set to 0.0 due to no true or predicted samples. Use `zero_division` parameter to control this behavior.\n",
      "  _warn_prf(average, modifier, msg_start, len(result))\n",
      "/usr/local/lib/python3.8/dist-packages/sklearn/metrics/_classification.py:1248: UndefinedMetricWarning: Jaccard is ill-defined and being set to 0.0 due to no true or predicted samples. Use `zero_division` parameter to control this behavior.\n",
      "  _warn_prf(average, modifier, msg_start, len(result))\n",
      "/usr/local/lib/python3.8/dist-packages/sklearn/metrics/_classification.py:1248: UndefinedMetricWarning: Jaccard is ill-defined and being set to 0.0 due to no true or predicted samples. Use `zero_division` parameter to control this behavior.\n",
      "  _warn_prf(average, modifier, msg_start, len(result))\n",
      " 46%|████████████████████████████████████████████████████████████████████████████████                                                                                              | 46/100 [05:48<06:41,  7.43s/it]"
     ]
    },
    {
     "name": "stdout",
     "output_type": "stream",
     "text": [
      "mIOU given by: 0.5965633281022387\n",
      "[0.4800828259274245, 0.3141256294622326, 0.43314472897323886, 0.3108838838691709, 0.4217744661366317, 0.30750138626132656, 0.23392175229936546, 0.5477260303527688, 0.4806466370151126, 0.4273892546729509, 0.23403418107045632, 0.622984223580449, 0.28395898477729614, 0.5053798888534788, 0.36854260904913283, 0.23487570158381382, 0.2776467227756309, 0.6755961181605183, 0.37903712673606926, 0.5504114010316731, 0.37429026290122175, 0.496385323357798, 0.39196129947896174, 0.37924939647851275, 0.5853269475386425, 0.255262318179988, 0.6848665717060205, 0.30138798440552894, 0.5921036056828485, 0.6546765959275835, 0.27826561055984433, 0.22863031747535176, 0.27819431972682734, 0.5282928933268631, 0.29809156976279433, 0.2563069268808263, 0.41665888131670775, 0.4455425174190389, 0.34989910732345086, 0.5253094595573349, 0.2890501560457343, 0.4635251003659016, 0.24949786498487941, 0.3703191870359074, 0.3865878299278053, 0.5965633281022387]\n"
     ]
    },
    {
     "name": "stderr",
     "output_type": "stream",
     "text": [
      "/usr/local/lib/python3.8/dist-packages/sklearn/metrics/_classification.py:1248: UndefinedMetricWarning: Jaccard is ill-defined and being set to 0.0 due to no true or predicted samples. Use `zero_division` parameter to control this behavior.\n",
      "  _warn_prf(average, modifier, msg_start, len(result))\n",
      "/usr/local/lib/python3.8/dist-packages/sklearn/metrics/_classification.py:1248: UndefinedMetricWarning: Jaccard is ill-defined and being set to 0.0 due to no true or predicted samples. Use `zero_division` parameter to control this behavior.\n",
      "  _warn_prf(average, modifier, msg_start, len(result))\n",
      "/usr/local/lib/python3.8/dist-packages/sklearn/metrics/_classification.py:1248: UndefinedMetricWarning: Jaccard is ill-defined and being set to 0.0 due to no true or predicted samples. Use `zero_division` parameter to control this behavior.\n",
      "  _warn_prf(average, modifier, msg_start, len(result))\n",
      "/usr/local/lib/python3.8/dist-packages/sklearn/metrics/_classification.py:1248: UndefinedMetricWarning: Jaccard is ill-defined and being set to 0.0 due to no true or predicted samples. Use `zero_division` parameter to control this behavior.\n",
      "  _warn_prf(average, modifier, msg_start, len(result))\n",
      " 47%|█████████████████████████████████████████████████████████████████████████████████▊                                                                                            | 47/100 [05:56<06:41,  7.57s/it]"
     ]
    },
    {
     "name": "stdout",
     "output_type": "stream",
     "text": [
      "mIOU given by: 0.29854842588276786\n",
      "[0.4800828259274245, 0.3141256294622326, 0.43314472897323886, 0.3108838838691709, 0.4217744661366317, 0.30750138626132656, 0.23392175229936546, 0.5477260303527688, 0.4806466370151126, 0.4273892546729509, 0.23403418107045632, 0.622984223580449, 0.28395898477729614, 0.5053798888534788, 0.36854260904913283, 0.23487570158381382, 0.2776467227756309, 0.6755961181605183, 0.37903712673606926, 0.5504114010316731, 0.37429026290122175, 0.496385323357798, 0.39196129947896174, 0.37924939647851275, 0.5853269475386425, 0.255262318179988, 0.6848665717060205, 0.30138798440552894, 0.5921036056828485, 0.6546765959275835, 0.27826561055984433, 0.22863031747535176, 0.27819431972682734, 0.5282928933268631, 0.29809156976279433, 0.2563069268808263, 0.41665888131670775, 0.4455425174190389, 0.34989910732345086, 0.5253094595573349, 0.2890501560457343, 0.4635251003659016, 0.24949786498487941, 0.3703191870359074, 0.3865878299278053, 0.5965633281022387, 0.29854842588276786]\n"
     ]
    },
    {
     "name": "stderr",
     "output_type": "stream",
     "text": [
      "/usr/local/lib/python3.8/dist-packages/sklearn/metrics/_classification.py:1248: UndefinedMetricWarning: Jaccard is ill-defined and being set to 0.0 due to no true or predicted samples. Use `zero_division` parameter to control this behavior.\n",
      "  _warn_prf(average, modifier, msg_start, len(result))\n",
      "/usr/local/lib/python3.8/dist-packages/sklearn/metrics/_classification.py:1248: UndefinedMetricWarning: Jaccard is ill-defined and being set to 0.0 due to no true or predicted samples. Use `zero_division` parameter to control this behavior.\n",
      "  _warn_prf(average, modifier, msg_start, len(result))\n",
      "/usr/local/lib/python3.8/dist-packages/sklearn/metrics/_classification.py:1248: UndefinedMetricWarning: Jaccard is ill-defined and being set to 0.0 due to no true or predicted samples. Use `zero_division` parameter to control this behavior.\n",
      "  _warn_prf(average, modifier, msg_start, len(result))\n",
      "/usr/local/lib/python3.8/dist-packages/sklearn/metrics/_classification.py:1248: UndefinedMetricWarning: Jaccard is ill-defined and being set to 0.0 due to no true or predicted samples. Use `zero_division` parameter to control this behavior.\n",
      "  _warn_prf(average, modifier, msg_start, len(result))\n",
      " 48%|███████████████████████████████████████████████████████████████████████████████████▌                                                                                          | 48/100 [06:04<06:32,  7.54s/it]"
     ]
    },
    {
     "name": "stdout",
     "output_type": "stream",
     "text": [
      "mIOU given by: 0.36455184643516014\n",
      "[0.4800828259274245, 0.3141256294622326, 0.43314472897323886, 0.3108838838691709, 0.4217744661366317, 0.30750138626132656, 0.23392175229936546, 0.5477260303527688, 0.4806466370151126, 0.4273892546729509, 0.23403418107045632, 0.622984223580449, 0.28395898477729614, 0.5053798888534788, 0.36854260904913283, 0.23487570158381382, 0.2776467227756309, 0.6755961181605183, 0.37903712673606926, 0.5504114010316731, 0.37429026290122175, 0.496385323357798, 0.39196129947896174, 0.37924939647851275, 0.5853269475386425, 0.255262318179988, 0.6848665717060205, 0.30138798440552894, 0.5921036056828485, 0.6546765959275835, 0.27826561055984433, 0.22863031747535176, 0.27819431972682734, 0.5282928933268631, 0.29809156976279433, 0.2563069268808263, 0.41665888131670775, 0.4455425174190389, 0.34989910732345086, 0.5253094595573349, 0.2890501560457343, 0.4635251003659016, 0.24949786498487941, 0.3703191870359074, 0.3865878299278053, 0.5965633281022387, 0.29854842588276786, 0.36455184643516014]\n"
     ]
    },
    {
     "name": "stderr",
     "output_type": "stream",
     "text": [
      "/usr/local/lib/python3.8/dist-packages/sklearn/metrics/_classification.py:1248: UndefinedMetricWarning: Jaccard is ill-defined and being set to 0.0 due to no true or predicted samples. Use `zero_division` parameter to control this behavior.\n",
      "  _warn_prf(average, modifier, msg_start, len(result))\n",
      "/usr/local/lib/python3.8/dist-packages/sklearn/metrics/_classification.py:1248: UndefinedMetricWarning: Jaccard is ill-defined and being set to 0.0 due to no true or predicted samples. Use `zero_division` parameter to control this behavior.\n",
      "  _warn_prf(average, modifier, msg_start, len(result))\n",
      "/usr/local/lib/python3.8/dist-packages/sklearn/metrics/_classification.py:1248: UndefinedMetricWarning: Jaccard is ill-defined and being set to 0.0 due to no true or predicted samples. Use `zero_division` parameter to control this behavior.\n",
      "  _warn_prf(average, modifier, msg_start, len(result))\n",
      "/usr/local/lib/python3.8/dist-packages/sklearn/metrics/_classification.py:1248: UndefinedMetricWarning: Jaccard is ill-defined and being set to 0.0 due to no true or predicted samples. Use `zero_division` parameter to control this behavior.\n",
      "  _warn_prf(average, modifier, msg_start, len(result))\n",
      "/usr/local/lib/python3.8/dist-packages/sklearn/metrics/_classification.py:1248: UndefinedMetricWarning: Jaccard is ill-defined and being set to 0.0 due to no true or predicted samples. Use `zero_division` parameter to control this behavior.\n",
      "  _warn_prf(average, modifier, msg_start, len(result))\n",
      "/usr/local/lib/python3.8/dist-packages/sklearn/metrics/_classification.py:1248: UndefinedMetricWarning: Jaccard is ill-defined and being set to 0.0 due to no true or predicted samples. Use `zero_division` parameter to control this behavior.\n",
      "  _warn_prf(average, modifier, msg_start, len(result))\n",
      "/usr/local/lib/python3.8/dist-packages/sklearn/metrics/_classification.py:1248: UndefinedMetricWarning: Jaccard is ill-defined and being set to 0.0 due to no true or predicted samples. Use `zero_division` parameter to control this behavior.\n",
      "  _warn_prf(average, modifier, msg_start, len(result))\n",
      "/usr/local/lib/python3.8/dist-packages/sklearn/metrics/_classification.py:1248: UndefinedMetricWarning: Jaccard is ill-defined and being set to 0.0 due to no true or predicted samples. Use `zero_division` parameter to control this behavior.\n",
      "  _warn_prf(average, modifier, msg_start, len(result))\n",
      " 49%|█████████████████████████████████████████████████████████████████████████████████████▎                                                                                        | 49/100 [06:10<06:11,  7.28s/it]"
     ]
    },
    {
     "name": "stdout",
     "output_type": "stream",
     "text": [
      "mIOU given by: 0.4672057744440935\n",
      "[0.4800828259274245, 0.3141256294622326, 0.43314472897323886, 0.3108838838691709, 0.4217744661366317, 0.30750138626132656, 0.23392175229936546, 0.5477260303527688, 0.4806466370151126, 0.4273892546729509, 0.23403418107045632, 0.622984223580449, 0.28395898477729614, 0.5053798888534788, 0.36854260904913283, 0.23487570158381382, 0.2776467227756309, 0.6755961181605183, 0.37903712673606926, 0.5504114010316731, 0.37429026290122175, 0.496385323357798, 0.39196129947896174, 0.37924939647851275, 0.5853269475386425, 0.255262318179988, 0.6848665717060205, 0.30138798440552894, 0.5921036056828485, 0.6546765959275835, 0.27826561055984433, 0.22863031747535176, 0.27819431972682734, 0.5282928933268631, 0.29809156976279433, 0.2563069268808263, 0.41665888131670775, 0.4455425174190389, 0.34989910732345086, 0.5253094595573349, 0.2890501560457343, 0.4635251003659016, 0.24949786498487941, 0.3703191870359074, 0.3865878299278053, 0.5965633281022387, 0.29854842588276786, 0.36455184643516014, 0.4672057744440935]\n"
     ]
    },
    {
     "name": "stderr",
     "output_type": "stream",
     "text": [
      "/usr/local/lib/python3.8/dist-packages/sklearn/metrics/_classification.py:1248: UndefinedMetricWarning: Jaccard is ill-defined and being set to 0.0 due to no true or predicted samples. Use `zero_division` parameter to control this behavior.\n",
      "  _warn_prf(average, modifier, msg_start, len(result))\n",
      "/usr/local/lib/python3.8/dist-packages/sklearn/metrics/_classification.py:1248: UndefinedMetricWarning: Jaccard is ill-defined and being set to 0.0 due to no true or predicted samples. Use `zero_division` parameter to control this behavior.\n",
      "  _warn_prf(average, modifier, msg_start, len(result))\n",
      "/usr/local/lib/python3.8/dist-packages/sklearn/metrics/_classification.py:1248: UndefinedMetricWarning: Jaccard is ill-defined and being set to 0.0 due to no true or predicted samples. Use `zero_division` parameter to control this behavior.\n",
      "  _warn_prf(average, modifier, msg_start, len(result))\n",
      "/usr/local/lib/python3.8/dist-packages/sklearn/metrics/_classification.py:1248: UndefinedMetricWarning: Jaccard is ill-defined and being set to 0.0 due to no true or predicted samples. Use `zero_division` parameter to control this behavior.\n",
      "  _warn_prf(average, modifier, msg_start, len(result))\n",
      "/usr/local/lib/python3.8/dist-packages/sklearn/metrics/_classification.py:1248: UndefinedMetricWarning: Jaccard is ill-defined and being set to 0.0 due to no true or predicted samples. Use `zero_division` parameter to control this behavior.\n",
      "  _warn_prf(average, modifier, msg_start, len(result))\n",
      "/usr/local/lib/python3.8/dist-packages/sklearn/metrics/_classification.py:1248: UndefinedMetricWarning: Jaccard is ill-defined and being set to 0.0 due to no true or predicted samples. Use `zero_division` parameter to control this behavior.\n",
      "  _warn_prf(average, modifier, msg_start, len(result))\n",
      "/usr/local/lib/python3.8/dist-packages/sklearn/metrics/_classification.py:1248: UndefinedMetricWarning: Jaccard is ill-defined and being set to 0.0 due to no true or predicted samples. Use `zero_division` parameter to control this behavior.\n",
      "  _warn_prf(average, modifier, msg_start, len(result))\n",
      "/usr/local/lib/python3.8/dist-packages/sklearn/metrics/_classification.py:1248: UndefinedMetricWarning: Jaccard is ill-defined and being set to 0.0 due to no true or predicted samples. Use `zero_division` parameter to control this behavior.\n",
      "  _warn_prf(average, modifier, msg_start, len(result))\n",
      " 50%|███████████████████████████████████████████████████████████████████████████████████████                                                                                       | 50/100 [06:22<07:03,  8.47s/it]"
     ]
    },
    {
     "name": "stdout",
     "output_type": "stream",
     "text": [
      "mIOU given by: 0.28608381392909565\n",
      "[0.4800828259274245, 0.3141256294622326, 0.43314472897323886, 0.3108838838691709, 0.4217744661366317, 0.30750138626132656, 0.23392175229936546, 0.5477260303527688, 0.4806466370151126, 0.4273892546729509, 0.23403418107045632, 0.622984223580449, 0.28395898477729614, 0.5053798888534788, 0.36854260904913283, 0.23487570158381382, 0.2776467227756309, 0.6755961181605183, 0.37903712673606926, 0.5504114010316731, 0.37429026290122175, 0.496385323357798, 0.39196129947896174, 0.37924939647851275, 0.5853269475386425, 0.255262318179988, 0.6848665717060205, 0.30138798440552894, 0.5921036056828485, 0.6546765959275835, 0.27826561055984433, 0.22863031747535176, 0.27819431972682734, 0.5282928933268631, 0.29809156976279433, 0.2563069268808263, 0.41665888131670775, 0.4455425174190389, 0.34989910732345086, 0.5253094595573349, 0.2890501560457343, 0.4635251003659016, 0.24949786498487941, 0.3703191870359074, 0.3865878299278053, 0.5965633281022387, 0.29854842588276786, 0.36455184643516014, 0.4672057744440935, 0.28608381392909565]\n"
     ]
    },
    {
     "name": "stderr",
     "output_type": "stream",
     "text": [
      "/usr/local/lib/python3.8/dist-packages/sklearn/metrics/_classification.py:1248: UndefinedMetricWarning: Jaccard is ill-defined and being set to 0.0 due to no true or predicted samples. Use `zero_division` parameter to control this behavior.\n",
      "  _warn_prf(average, modifier, msg_start, len(result))\n",
      "/usr/local/lib/python3.8/dist-packages/sklearn/metrics/_classification.py:1248: UndefinedMetricWarning: Jaccard is ill-defined and being set to 0.0 due to no true or predicted samples. Use `zero_division` parameter to control this behavior.\n",
      "  _warn_prf(average, modifier, msg_start, len(result))\n",
      "/usr/local/lib/python3.8/dist-packages/sklearn/metrics/_classification.py:1248: UndefinedMetricWarning: Jaccard is ill-defined and being set to 0.0 due to no true or predicted samples. Use `zero_division` parameter to control this behavior.\n",
      "  _warn_prf(average, modifier, msg_start, len(result))\n",
      "/usr/local/lib/python3.8/dist-packages/sklearn/metrics/_classification.py:1248: UndefinedMetricWarning: Jaccard is ill-defined and being set to 0.0 due to no true or predicted samples. Use `zero_division` parameter to control this behavior.\n",
      "  _warn_prf(average, modifier, msg_start, len(result))\n",
      "/usr/local/lib/python3.8/dist-packages/sklearn/metrics/_classification.py:1248: UndefinedMetricWarning: Jaccard is ill-defined and being set to 0.0 due to no true or predicted samples. Use `zero_division` parameter to control this behavior.\n",
      "  _warn_prf(average, modifier, msg_start, len(result))\n",
      "/usr/local/lib/python3.8/dist-packages/sklearn/metrics/_classification.py:1248: UndefinedMetricWarning: Jaccard is ill-defined and being set to 0.0 due to no true or predicted samples. Use `zero_division` parameter to control this behavior.\n",
      "  _warn_prf(average, modifier, msg_start, len(result))\n",
      "/usr/local/lib/python3.8/dist-packages/sklearn/metrics/_classification.py:1248: UndefinedMetricWarning: Jaccard is ill-defined and being set to 0.0 due to no true or predicted samples. Use `zero_division` parameter to control this behavior.\n",
      "  _warn_prf(average, modifier, msg_start, len(result))\n",
      "/usr/local/lib/python3.8/dist-packages/sklearn/metrics/_classification.py:1248: UndefinedMetricWarning: Jaccard is ill-defined and being set to 0.0 due to no true or predicted samples. Use `zero_division` parameter to control this behavior.\n",
      "  _warn_prf(average, modifier, msg_start, len(result))\n",
      "/usr/local/lib/python3.8/dist-packages/sklearn/metrics/_classification.py:1248: UndefinedMetricWarning: Jaccard is ill-defined and being set to 0.0 due to no true or predicted samples. Use `zero_division` parameter to control this behavior.\n",
      "  _warn_prf(average, modifier, msg_start, len(result))\n",
      "/usr/local/lib/python3.8/dist-packages/sklearn/metrics/_classification.py:1248: UndefinedMetricWarning: Jaccard is ill-defined and being set to 0.0 due to no true or predicted samples. Use `zero_division` parameter to control this behavior.\n",
      "  _warn_prf(average, modifier, msg_start, len(result))\n",
      " 51%|████████████████████████████████████████████████████████████████████████████████████████▋                                                                                     | 51/100 [06:29<06:32,  8.00s/it]"
     ]
    },
    {
     "name": "stdout",
     "output_type": "stream",
     "text": [
      "mIOU given by: 0.660474617707548\n",
      "[0.4800828259274245, 0.3141256294622326, 0.43314472897323886, 0.3108838838691709, 0.4217744661366317, 0.30750138626132656, 0.23392175229936546, 0.5477260303527688, 0.4806466370151126, 0.4273892546729509, 0.23403418107045632, 0.622984223580449, 0.28395898477729614, 0.5053798888534788, 0.36854260904913283, 0.23487570158381382, 0.2776467227756309, 0.6755961181605183, 0.37903712673606926, 0.5504114010316731, 0.37429026290122175, 0.496385323357798, 0.39196129947896174, 0.37924939647851275, 0.5853269475386425, 0.255262318179988, 0.6848665717060205, 0.30138798440552894, 0.5921036056828485, 0.6546765959275835, 0.27826561055984433, 0.22863031747535176, 0.27819431972682734, 0.5282928933268631, 0.29809156976279433, 0.2563069268808263, 0.41665888131670775, 0.4455425174190389, 0.34989910732345086, 0.5253094595573349, 0.2890501560457343, 0.4635251003659016, 0.24949786498487941, 0.3703191870359074, 0.3865878299278053, 0.5965633281022387, 0.29854842588276786, 0.36455184643516014, 0.4672057744440935, 0.28608381392909565, 0.660474617707548]\n"
     ]
    },
    {
     "name": "stderr",
     "output_type": "stream",
     "text": [
      "/usr/local/lib/python3.8/dist-packages/sklearn/metrics/_classification.py:1248: UndefinedMetricWarning: Jaccard is ill-defined and being set to 0.0 due to no true or predicted samples. Use `zero_division` parameter to control this behavior.\n",
      "  _warn_prf(average, modifier, msg_start, len(result))\n",
      "/usr/local/lib/python3.8/dist-packages/sklearn/metrics/_classification.py:1248: UndefinedMetricWarning: Jaccard is ill-defined and being set to 0.0 due to no true or predicted samples. Use `zero_division` parameter to control this behavior.\n",
      "  _warn_prf(average, modifier, msg_start, len(result))\n",
      "/usr/local/lib/python3.8/dist-packages/sklearn/metrics/_classification.py:1248: UndefinedMetricWarning: Jaccard is ill-defined and being set to 0.0 due to no true or predicted samples. Use `zero_division` parameter to control this behavior.\n",
      "  _warn_prf(average, modifier, msg_start, len(result))\n",
      " 52%|██████████████████████████████████████████████████████████████████████████████████████████▍                                                                                   | 52/100 [06:38<06:42,  8.38s/it]"
     ]
    },
    {
     "name": "stdout",
     "output_type": "stream",
     "text": [
      "mIOU given by: 0.36995875605510714\n",
      "[0.4800828259274245, 0.3141256294622326, 0.43314472897323886, 0.3108838838691709, 0.4217744661366317, 0.30750138626132656, 0.23392175229936546, 0.5477260303527688, 0.4806466370151126, 0.4273892546729509, 0.23403418107045632, 0.622984223580449, 0.28395898477729614, 0.5053798888534788, 0.36854260904913283, 0.23487570158381382, 0.2776467227756309, 0.6755961181605183, 0.37903712673606926, 0.5504114010316731, 0.37429026290122175, 0.496385323357798, 0.39196129947896174, 0.37924939647851275, 0.5853269475386425, 0.255262318179988, 0.6848665717060205, 0.30138798440552894, 0.5921036056828485, 0.6546765959275835, 0.27826561055984433, 0.22863031747535176, 0.27819431972682734, 0.5282928933268631, 0.29809156976279433, 0.2563069268808263, 0.41665888131670775, 0.4455425174190389, 0.34989910732345086, 0.5253094595573349, 0.2890501560457343, 0.4635251003659016, 0.24949786498487941, 0.3703191870359074, 0.3865878299278053, 0.5965633281022387, 0.29854842588276786, 0.36455184643516014, 0.4672057744440935, 0.28608381392909565, 0.660474617707548, 0.36995875605510714]\n"
     ]
    },
    {
     "name": "stderr",
     "output_type": "stream",
     "text": [
      "/usr/local/lib/python3.8/dist-packages/sklearn/metrics/_classification.py:1248: UndefinedMetricWarning: Jaccard is ill-defined and being set to 0.0 due to no true or predicted samples. Use `zero_division` parameter to control this behavior.\n",
      "  _warn_prf(average, modifier, msg_start, len(result))\n",
      "/usr/local/lib/python3.8/dist-packages/sklearn/metrics/_classification.py:1248: UndefinedMetricWarning: Jaccard is ill-defined and being set to 0.0 due to no true or predicted samples. Use `zero_division` parameter to control this behavior.\n",
      "  _warn_prf(average, modifier, msg_start, len(result))\n",
      "/usr/local/lib/python3.8/dist-packages/sklearn/metrics/_classification.py:1248: UndefinedMetricWarning: Jaccard is ill-defined and being set to 0.0 due to no true or predicted samples. Use `zero_division` parameter to control this behavior.\n",
      "  _warn_prf(average, modifier, msg_start, len(result))\n",
      "/usr/local/lib/python3.8/dist-packages/sklearn/metrics/_classification.py:1248: UndefinedMetricWarning: Jaccard is ill-defined and being set to 0.0 due to no true or predicted samples. Use `zero_division` parameter to control this behavior.\n",
      "  _warn_prf(average, modifier, msg_start, len(result))\n",
      "/usr/local/lib/python3.8/dist-packages/sklearn/metrics/_classification.py:1248: UndefinedMetricWarning: Jaccard is ill-defined and being set to 0.0 due to no true or predicted samples. Use `zero_division` parameter to control this behavior.\n",
      "  _warn_prf(average, modifier, msg_start, len(result))\n",
      "/usr/local/lib/python3.8/dist-packages/sklearn/metrics/_classification.py:1248: UndefinedMetricWarning: Jaccard is ill-defined and being set to 0.0 due to no true or predicted samples. Use `zero_division` parameter to control this behavior.\n",
      "  _warn_prf(average, modifier, msg_start, len(result))\n",
      "/usr/local/lib/python3.8/dist-packages/sklearn/metrics/_classification.py:1248: UndefinedMetricWarning: Jaccard is ill-defined and being set to 0.0 due to no true or predicted samples. Use `zero_division` parameter to control this behavior.\n",
      "  _warn_prf(average, modifier, msg_start, len(result))\n",
      "/usr/local/lib/python3.8/dist-packages/sklearn/metrics/_classification.py:1248: UndefinedMetricWarning: Jaccard is ill-defined and being set to 0.0 due to no true or predicted samples. Use `zero_division` parameter to control this behavior.\n",
      "  _warn_prf(average, modifier, msg_start, len(result))\n",
      " 53%|████████████████████████████████████████████████████████████████████████████████████████████▏                                                                                 | 53/100 [06:44<06:07,  7.82s/it]"
     ]
    },
    {
     "name": "stdout",
     "output_type": "stream",
     "text": [
      "mIOU given by: 0.21945322556332392\n",
      "[0.4800828259274245, 0.3141256294622326, 0.43314472897323886, 0.3108838838691709, 0.4217744661366317, 0.30750138626132656, 0.23392175229936546, 0.5477260303527688, 0.4806466370151126, 0.4273892546729509, 0.23403418107045632, 0.622984223580449, 0.28395898477729614, 0.5053798888534788, 0.36854260904913283, 0.23487570158381382, 0.2776467227756309, 0.6755961181605183, 0.37903712673606926, 0.5504114010316731, 0.37429026290122175, 0.496385323357798, 0.39196129947896174, 0.37924939647851275, 0.5853269475386425, 0.255262318179988, 0.6848665717060205, 0.30138798440552894, 0.5921036056828485, 0.6546765959275835, 0.27826561055984433, 0.22863031747535176, 0.27819431972682734, 0.5282928933268631, 0.29809156976279433, 0.2563069268808263, 0.41665888131670775, 0.4455425174190389, 0.34989910732345086, 0.5253094595573349, 0.2890501560457343, 0.4635251003659016, 0.24949786498487941, 0.3703191870359074, 0.3865878299278053, 0.5965633281022387, 0.29854842588276786, 0.36455184643516014, 0.4672057744440935, 0.28608381392909565, 0.660474617707548, 0.36995875605510714, 0.21945322556332392]\n"
     ]
    },
    {
     "name": "stderr",
     "output_type": "stream",
     "text": [
      "/usr/local/lib/python3.8/dist-packages/sklearn/metrics/_classification.py:1248: UndefinedMetricWarning: Jaccard is ill-defined and being set to 0.0 due to no true or predicted samples. Use `zero_division` parameter to control this behavior.\n",
      "  _warn_prf(average, modifier, msg_start, len(result))\n",
      "/usr/local/lib/python3.8/dist-packages/sklearn/metrics/_classification.py:1248: UndefinedMetricWarning: Jaccard is ill-defined and being set to 0.0 due to no true or predicted samples. Use `zero_division` parameter to control this behavior.\n",
      "  _warn_prf(average, modifier, msg_start, len(result))\n",
      "/usr/local/lib/python3.8/dist-packages/sklearn/metrics/_classification.py:1248: UndefinedMetricWarning: Jaccard is ill-defined and being set to 0.0 due to no true or predicted samples. Use `zero_division` parameter to control this behavior.\n",
      "  _warn_prf(average, modifier, msg_start, len(result))\n",
      "/usr/local/lib/python3.8/dist-packages/sklearn/metrics/_classification.py:1248: UndefinedMetricWarning: Jaccard is ill-defined and being set to 0.0 due to no true or predicted samples. Use `zero_division` parameter to control this behavior.\n",
      "  _warn_prf(average, modifier, msg_start, len(result))\n",
      "/usr/local/lib/python3.8/dist-packages/sklearn/metrics/_classification.py:1248: UndefinedMetricWarning: Jaccard is ill-defined and being set to 0.0 due to no true or predicted samples. Use `zero_division` parameter to control this behavior.\n",
      "  _warn_prf(average, modifier, msg_start, len(result))\n",
      "/usr/local/lib/python3.8/dist-packages/sklearn/metrics/_classification.py:1248: UndefinedMetricWarning: Jaccard is ill-defined and being set to 0.0 due to no true or predicted samples. Use `zero_division` parameter to control this behavior.\n",
      "  _warn_prf(average, modifier, msg_start, len(result))\n",
      "/usr/local/lib/python3.8/dist-packages/sklearn/metrics/_classification.py:1248: UndefinedMetricWarning: Jaccard is ill-defined and being set to 0.0 due to no true or predicted samples. Use `zero_division` parameter to control this behavior.\n",
      "  _warn_prf(average, modifier, msg_start, len(result))\n",
      "/usr/local/lib/python3.8/dist-packages/sklearn/metrics/_classification.py:1248: UndefinedMetricWarning: Jaccard is ill-defined and being set to 0.0 due to no true or predicted samples. Use `zero_division` parameter to control this behavior.\n",
      "  _warn_prf(average, modifier, msg_start, len(result))\n",
      "/usr/local/lib/python3.8/dist-packages/sklearn/metrics/_classification.py:1248: UndefinedMetricWarning: Jaccard is ill-defined and being set to 0.0 due to no true or predicted samples. Use `zero_division` parameter to control this behavior.\n",
      "  _warn_prf(average, modifier, msg_start, len(result))\n",
      " 54%|█████████████████████████████████████████████████████████████████████████████████████████████▉                                                                                | 54/100 [06:52<05:54,  7.71s/it]"
     ]
    },
    {
     "name": "stdout",
     "output_type": "stream",
     "text": [
      "mIOU given by: 0.4129921812023513\n",
      "[0.4800828259274245, 0.3141256294622326, 0.43314472897323886, 0.3108838838691709, 0.4217744661366317, 0.30750138626132656, 0.23392175229936546, 0.5477260303527688, 0.4806466370151126, 0.4273892546729509, 0.23403418107045632, 0.622984223580449, 0.28395898477729614, 0.5053798888534788, 0.36854260904913283, 0.23487570158381382, 0.2776467227756309, 0.6755961181605183, 0.37903712673606926, 0.5504114010316731, 0.37429026290122175, 0.496385323357798, 0.39196129947896174, 0.37924939647851275, 0.5853269475386425, 0.255262318179988, 0.6848665717060205, 0.30138798440552894, 0.5921036056828485, 0.6546765959275835, 0.27826561055984433, 0.22863031747535176, 0.27819431972682734, 0.5282928933268631, 0.29809156976279433, 0.2563069268808263, 0.41665888131670775, 0.4455425174190389, 0.34989910732345086, 0.5253094595573349, 0.2890501560457343, 0.4635251003659016, 0.24949786498487941, 0.3703191870359074, 0.3865878299278053, 0.5965633281022387, 0.29854842588276786, 0.36455184643516014, 0.4672057744440935, 0.28608381392909565, 0.660474617707548, 0.36995875605510714, 0.21945322556332392, 0.4129921812023513]\n"
     ]
    },
    {
     "name": "stderr",
     "output_type": "stream",
     "text": [
      "/usr/local/lib/python3.8/dist-packages/sklearn/metrics/_classification.py:1248: UndefinedMetricWarning: Jaccard is ill-defined and being set to 0.0 due to no true or predicted samples. Use `zero_division` parameter to control this behavior.\n",
      "  _warn_prf(average, modifier, msg_start, len(result))\n",
      "/usr/local/lib/python3.8/dist-packages/sklearn/metrics/_classification.py:1248: UndefinedMetricWarning: Jaccard is ill-defined and being set to 0.0 due to no true or predicted samples. Use `zero_division` parameter to control this behavior.\n",
      "  _warn_prf(average, modifier, msg_start, len(result))\n",
      "/usr/local/lib/python3.8/dist-packages/sklearn/metrics/_classification.py:1248: UndefinedMetricWarning: Jaccard is ill-defined and being set to 0.0 due to no true or predicted samples. Use `zero_division` parameter to control this behavior.\n",
      "  _warn_prf(average, modifier, msg_start, len(result))\n",
      "/usr/local/lib/python3.8/dist-packages/sklearn/metrics/_classification.py:1248: UndefinedMetricWarning: Jaccard is ill-defined and being set to 0.0 due to no true or predicted samples. Use `zero_division` parameter to control this behavior.\n",
      "  _warn_prf(average, modifier, msg_start, len(result))\n",
      "/usr/local/lib/python3.8/dist-packages/sklearn/metrics/_classification.py:1248: UndefinedMetricWarning: Jaccard is ill-defined and being set to 0.0 due to no true or predicted samples. Use `zero_division` parameter to control this behavior.\n",
      "  _warn_prf(average, modifier, msg_start, len(result))\n",
      "/usr/local/lib/python3.8/dist-packages/sklearn/metrics/_classification.py:1248: UndefinedMetricWarning: Jaccard is ill-defined and being set to 0.0 due to no true or predicted samples. Use `zero_division` parameter to control this behavior.\n",
      "  _warn_prf(average, modifier, msg_start, len(result))\n",
      "/usr/local/lib/python3.8/dist-packages/sklearn/metrics/_classification.py:1248: UndefinedMetricWarning: Jaccard is ill-defined and being set to 0.0 due to no true or predicted samples. Use `zero_division` parameter to control this behavior.\n",
      "  _warn_prf(average, modifier, msg_start, len(result))\n",
      "/usr/local/lib/python3.8/dist-packages/sklearn/metrics/_classification.py:1248: UndefinedMetricWarning: Jaccard is ill-defined and being set to 0.0 due to no true or predicted samples. Use `zero_division` parameter to control this behavior.\n",
      "  _warn_prf(average, modifier, msg_start, len(result))\n",
      "/usr/local/lib/python3.8/dist-packages/sklearn/metrics/_classification.py:1248: UndefinedMetricWarning: Jaccard is ill-defined and being set to 0.0 due to no true or predicted samples. Use `zero_division` parameter to control this behavior.\n",
      "  _warn_prf(average, modifier, msg_start, len(result))\n",
      "/usr/local/lib/python3.8/dist-packages/sklearn/metrics/_classification.py:1248: UndefinedMetricWarning: Jaccard is ill-defined and being set to 0.0 due to no true or predicted samples. Use `zero_division` parameter to control this behavior.\n",
      "  _warn_prf(average, modifier, msg_start, len(result))\n",
      "/usr/local/lib/python3.8/dist-packages/sklearn/metrics/_classification.py:1248: UndefinedMetricWarning: Jaccard is ill-defined and being set to 0.0 due to no true or predicted samples. Use `zero_division` parameter to control this behavior.\n",
      "  _warn_prf(average, modifier, msg_start, len(result))\n",
      " 55%|███████████████████████████████████████████████████████████████████████████████████████████████▋                                                                              | 55/100 [06:59<05:41,  7.58s/it]"
     ]
    },
    {
     "name": "stdout",
     "output_type": "stream",
     "text": [
      "mIOU given by: 0.6380386723577989\n",
      "[0.4800828259274245, 0.3141256294622326, 0.43314472897323886, 0.3108838838691709, 0.4217744661366317, 0.30750138626132656, 0.23392175229936546, 0.5477260303527688, 0.4806466370151126, 0.4273892546729509, 0.23403418107045632, 0.622984223580449, 0.28395898477729614, 0.5053798888534788, 0.36854260904913283, 0.23487570158381382, 0.2776467227756309, 0.6755961181605183, 0.37903712673606926, 0.5504114010316731, 0.37429026290122175, 0.496385323357798, 0.39196129947896174, 0.37924939647851275, 0.5853269475386425, 0.255262318179988, 0.6848665717060205, 0.30138798440552894, 0.5921036056828485, 0.6546765959275835, 0.27826561055984433, 0.22863031747535176, 0.27819431972682734, 0.5282928933268631, 0.29809156976279433, 0.2563069268808263, 0.41665888131670775, 0.4455425174190389, 0.34989910732345086, 0.5253094595573349, 0.2890501560457343, 0.4635251003659016, 0.24949786498487941, 0.3703191870359074, 0.3865878299278053, 0.5965633281022387, 0.29854842588276786, 0.36455184643516014, 0.4672057744440935, 0.28608381392909565, 0.660474617707548, 0.36995875605510714, 0.21945322556332392, 0.4129921812023513, 0.6380386723577989]\n"
     ]
    },
    {
     "name": "stderr",
     "output_type": "stream",
     "text": [
      "/usr/local/lib/python3.8/dist-packages/sklearn/metrics/_classification.py:1248: UndefinedMetricWarning: Jaccard is ill-defined and being set to 0.0 due to no true or predicted samples. Use `zero_division` parameter to control this behavior.\n",
      "  _warn_prf(average, modifier, msg_start, len(result))\n",
      "/usr/local/lib/python3.8/dist-packages/sklearn/metrics/_classification.py:1248: UndefinedMetricWarning: Jaccard is ill-defined and being set to 0.0 due to no true or predicted samples. Use `zero_division` parameter to control this behavior.\n",
      "  _warn_prf(average, modifier, msg_start, len(result))\n",
      "/usr/local/lib/python3.8/dist-packages/sklearn/metrics/_classification.py:1248: UndefinedMetricWarning: Jaccard is ill-defined and being set to 0.0 due to no true or predicted samples. Use `zero_division` parameter to control this behavior.\n",
      "  _warn_prf(average, modifier, msg_start, len(result))\n",
      "/usr/local/lib/python3.8/dist-packages/sklearn/metrics/_classification.py:1248: UndefinedMetricWarning: Jaccard is ill-defined and being set to 0.0 due to no true or predicted samples. Use `zero_division` parameter to control this behavior.\n",
      "  _warn_prf(average, modifier, msg_start, len(result))\n",
      "/usr/local/lib/python3.8/dist-packages/sklearn/metrics/_classification.py:1248: UndefinedMetricWarning: Jaccard is ill-defined and being set to 0.0 due to no true or predicted samples. Use `zero_division` parameter to control this behavior.\n",
      "  _warn_prf(average, modifier, msg_start, len(result))\n",
      "/usr/local/lib/python3.8/dist-packages/sklearn/metrics/_classification.py:1248: UndefinedMetricWarning: Jaccard is ill-defined and being set to 0.0 due to no true or predicted samples. Use `zero_division` parameter to control this behavior.\n",
      "  _warn_prf(average, modifier, msg_start, len(result))\n",
      "/usr/local/lib/python3.8/dist-packages/sklearn/metrics/_classification.py:1248: UndefinedMetricWarning: Jaccard is ill-defined and being set to 0.0 due to no true or predicted samples. Use `zero_division` parameter to control this behavior.\n",
      "  _warn_prf(average, modifier, msg_start, len(result))\n",
      "/usr/local/lib/python3.8/dist-packages/sklearn/metrics/_classification.py:1248: UndefinedMetricWarning: Jaccard is ill-defined and being set to 0.0 due to no true or predicted samples. Use `zero_division` parameter to control this behavior.\n",
      "  _warn_prf(average, modifier, msg_start, len(result))\n",
      "/usr/local/lib/python3.8/dist-packages/sklearn/metrics/_classification.py:1248: UndefinedMetricWarning: Jaccard is ill-defined and being set to 0.0 due to no true or predicted samples. Use `zero_division` parameter to control this behavior.\n",
      "  _warn_prf(average, modifier, msg_start, len(result))\n",
      "/usr/local/lib/python3.8/dist-packages/sklearn/metrics/_classification.py:1248: UndefinedMetricWarning: Jaccard is ill-defined and being set to 0.0 due to no true or predicted samples. Use `zero_division` parameter to control this behavior.\n",
      "  _warn_prf(average, modifier, msg_start, len(result))\n",
      "/usr/local/lib/python3.8/dist-packages/sklearn/metrics/_classification.py:1248: UndefinedMetricWarning: Jaccard is ill-defined and being set to 0.0 due to no true or predicted samples. Use `zero_division` parameter to control this behavior.\n",
      "  _warn_prf(average, modifier, msg_start, len(result))\n",
      " 56%|█████████████████████████████████████████████████████████████████████████████████████████████████▍                                                                            | 56/100 [07:08<05:50,  7.96s/it]"
     ]
    },
    {
     "name": "stdout",
     "output_type": "stream",
     "text": [
      "mIOU given by: 0.4061284989658414\n",
      "[0.4800828259274245, 0.3141256294622326, 0.43314472897323886, 0.3108838838691709, 0.4217744661366317, 0.30750138626132656, 0.23392175229936546, 0.5477260303527688, 0.4806466370151126, 0.4273892546729509, 0.23403418107045632, 0.622984223580449, 0.28395898477729614, 0.5053798888534788, 0.36854260904913283, 0.23487570158381382, 0.2776467227756309, 0.6755961181605183, 0.37903712673606926, 0.5504114010316731, 0.37429026290122175, 0.496385323357798, 0.39196129947896174, 0.37924939647851275, 0.5853269475386425, 0.255262318179988, 0.6848665717060205, 0.30138798440552894, 0.5921036056828485, 0.6546765959275835, 0.27826561055984433, 0.22863031747535176, 0.27819431972682734, 0.5282928933268631, 0.29809156976279433, 0.2563069268808263, 0.41665888131670775, 0.4455425174190389, 0.34989910732345086, 0.5253094595573349, 0.2890501560457343, 0.4635251003659016, 0.24949786498487941, 0.3703191870359074, 0.3865878299278053, 0.5965633281022387, 0.29854842588276786, 0.36455184643516014, 0.4672057744440935, 0.28608381392909565, 0.660474617707548, 0.36995875605510714, 0.21945322556332392, 0.4129921812023513, 0.6380386723577989, 0.4061284989658414]\n"
     ]
    },
    {
     "name": "stderr",
     "output_type": "stream",
     "text": [
      "/usr/local/lib/python3.8/dist-packages/sklearn/metrics/_classification.py:1248: UndefinedMetricWarning: Jaccard is ill-defined and being set to 0.0 due to no true or predicted samples. Use `zero_division` parameter to control this behavior.\n",
      "  _warn_prf(average, modifier, msg_start, len(result))\n",
      "/usr/local/lib/python3.8/dist-packages/sklearn/metrics/_classification.py:1248: UndefinedMetricWarning: Jaccard is ill-defined and being set to 0.0 due to no true or predicted samples. Use `zero_division` parameter to control this behavior.\n",
      "  _warn_prf(average, modifier, msg_start, len(result))\n",
      "/usr/local/lib/python3.8/dist-packages/sklearn/metrics/_classification.py:1248: UndefinedMetricWarning: Jaccard is ill-defined and being set to 0.0 due to no true or predicted samples. Use `zero_division` parameter to control this behavior.\n",
      "  _warn_prf(average, modifier, msg_start, len(result))\n",
      "/usr/local/lib/python3.8/dist-packages/sklearn/metrics/_classification.py:1248: UndefinedMetricWarning: Jaccard is ill-defined and being set to 0.0 due to no true or predicted samples. Use `zero_division` parameter to control this behavior.\n",
      "  _warn_prf(average, modifier, msg_start, len(result))\n",
      "/usr/local/lib/python3.8/dist-packages/sklearn/metrics/_classification.py:1248: UndefinedMetricWarning: Jaccard is ill-defined and being set to 0.0 due to no true or predicted samples. Use `zero_division` parameter to control this behavior.\n",
      "  _warn_prf(average, modifier, msg_start, len(result))\n",
      "/usr/local/lib/python3.8/dist-packages/sklearn/metrics/_classification.py:1248: UndefinedMetricWarning: Jaccard is ill-defined and being set to 0.0 due to no true or predicted samples. Use `zero_division` parameter to control this behavior.\n",
      "  _warn_prf(average, modifier, msg_start, len(result))\n",
      "/usr/local/lib/python3.8/dist-packages/sklearn/metrics/_classification.py:1248: UndefinedMetricWarning: Jaccard is ill-defined and being set to 0.0 due to no true or predicted samples. Use `zero_division` parameter to control this behavior.\n",
      "  _warn_prf(average, modifier, msg_start, len(result))\n",
      "/usr/local/lib/python3.8/dist-packages/sklearn/metrics/_classification.py:1248: UndefinedMetricWarning: Jaccard is ill-defined and being set to 0.0 due to no true or predicted samples. Use `zero_division` parameter to control this behavior.\n",
      "  _warn_prf(average, modifier, msg_start, len(result))\n",
      "/usr/local/lib/python3.8/dist-packages/sklearn/metrics/_classification.py:1248: UndefinedMetricWarning: Jaccard is ill-defined and being set to 0.0 due to no true or predicted samples. Use `zero_division` parameter to control this behavior.\n",
      "  _warn_prf(average, modifier, msg_start, len(result))\n",
      "/usr/local/lib/python3.8/dist-packages/sklearn/metrics/_classification.py:1248: UndefinedMetricWarning: Jaccard is ill-defined and being set to 0.0 due to no true or predicted samples. Use `zero_division` parameter to control this behavior.\n",
      "  _warn_prf(average, modifier, msg_start, len(result))\n",
      "/usr/local/lib/python3.8/dist-packages/sklearn/metrics/_classification.py:1248: UndefinedMetricWarning: Jaccard is ill-defined and being set to 0.0 due to no true or predicted samples. Use `zero_division` parameter to control this behavior.\n",
      "  _warn_prf(average, modifier, msg_start, len(result))\n",
      "/usr/local/lib/python3.8/dist-packages/sklearn/metrics/_classification.py:1248: UndefinedMetricWarning: Jaccard is ill-defined and being set to 0.0 due to no true or predicted samples. Use `zero_division` parameter to control this behavior.\n",
      "  _warn_prf(average, modifier, msg_start, len(result))\n",
      " 57%|███████████████████████████████████████████████████████████████████████████████████████████████████▏                                                                          | 57/100 [07:15<05:34,  7.77s/it]"
     ]
    },
    {
     "name": "stdout",
     "output_type": "stream",
     "text": [
      "mIOU given by: 0.4925925715161546\n",
      "[0.4800828259274245, 0.3141256294622326, 0.43314472897323886, 0.3108838838691709, 0.4217744661366317, 0.30750138626132656, 0.23392175229936546, 0.5477260303527688, 0.4806466370151126, 0.4273892546729509, 0.23403418107045632, 0.622984223580449, 0.28395898477729614, 0.5053798888534788, 0.36854260904913283, 0.23487570158381382, 0.2776467227756309, 0.6755961181605183, 0.37903712673606926, 0.5504114010316731, 0.37429026290122175, 0.496385323357798, 0.39196129947896174, 0.37924939647851275, 0.5853269475386425, 0.255262318179988, 0.6848665717060205, 0.30138798440552894, 0.5921036056828485, 0.6546765959275835, 0.27826561055984433, 0.22863031747535176, 0.27819431972682734, 0.5282928933268631, 0.29809156976279433, 0.2563069268808263, 0.41665888131670775, 0.4455425174190389, 0.34989910732345086, 0.5253094595573349, 0.2890501560457343, 0.4635251003659016, 0.24949786498487941, 0.3703191870359074, 0.3865878299278053, 0.5965633281022387, 0.29854842588276786, 0.36455184643516014, 0.4672057744440935, 0.28608381392909565, 0.660474617707548, 0.36995875605510714, 0.21945322556332392, 0.4129921812023513, 0.6380386723577989, 0.4061284989658414, 0.4925925715161546]\n"
     ]
    },
    {
     "name": "stderr",
     "output_type": "stream",
     "text": [
      "/usr/local/lib/python3.8/dist-packages/sklearn/metrics/_classification.py:1248: UndefinedMetricWarning: Jaccard is ill-defined and being set to 0.0 due to no true or predicted samples. Use `zero_division` parameter to control this behavior.\n",
      "  _warn_prf(average, modifier, msg_start, len(result))\n",
      "/usr/local/lib/python3.8/dist-packages/sklearn/metrics/_classification.py:1248: UndefinedMetricWarning: Jaccard is ill-defined and being set to 0.0 due to no true or predicted samples. Use `zero_division` parameter to control this behavior.\n",
      "  _warn_prf(average, modifier, msg_start, len(result))\n",
      "/usr/local/lib/python3.8/dist-packages/sklearn/metrics/_classification.py:1248: UndefinedMetricWarning: Jaccard is ill-defined and being set to 0.0 due to no true or predicted samples. Use `zero_division` parameter to control this behavior.\n",
      "  _warn_prf(average, modifier, msg_start, len(result))\n",
      "/usr/local/lib/python3.8/dist-packages/sklearn/metrics/_classification.py:1248: UndefinedMetricWarning: Jaccard is ill-defined and being set to 0.0 due to no true or predicted samples. Use `zero_division` parameter to control this behavior.\n",
      "  _warn_prf(average, modifier, msg_start, len(result))\n",
      "/usr/local/lib/python3.8/dist-packages/sklearn/metrics/_classification.py:1248: UndefinedMetricWarning: Jaccard is ill-defined and being set to 0.0 due to no true or predicted samples. Use `zero_division` parameter to control this behavior.\n",
      "  _warn_prf(average, modifier, msg_start, len(result))\n",
      "/usr/local/lib/python3.8/dist-packages/sklearn/metrics/_classification.py:1248: UndefinedMetricWarning: Jaccard is ill-defined and being set to 0.0 due to no true or predicted samples. Use `zero_division` parameter to control this behavior.\n",
      "  _warn_prf(average, modifier, msg_start, len(result))\n",
      "/usr/local/lib/python3.8/dist-packages/sklearn/metrics/_classification.py:1248: UndefinedMetricWarning: Jaccard is ill-defined and being set to 0.0 due to no true or predicted samples. Use `zero_division` parameter to control this behavior.\n",
      "  _warn_prf(average, modifier, msg_start, len(result))\n",
      "/usr/local/lib/python3.8/dist-packages/sklearn/metrics/_classification.py:1248: UndefinedMetricWarning: Jaccard is ill-defined and being set to 0.0 due to no true or predicted samples. Use `zero_division` parameter to control this behavior.\n",
      "  _warn_prf(average, modifier, msg_start, len(result))\n",
      "/usr/local/lib/python3.8/dist-packages/sklearn/metrics/_classification.py:1248: UndefinedMetricWarning: Jaccard is ill-defined and being set to 0.0 due to no true or predicted samples. Use `zero_division` parameter to control this behavior.\n",
      "  _warn_prf(average, modifier, msg_start, len(result))\n",
      "/usr/local/lib/python3.8/dist-packages/sklearn/metrics/_classification.py:1248: UndefinedMetricWarning: Jaccard is ill-defined and being set to 0.0 due to no true or predicted samples. Use `zero_division` parameter to control this behavior.\n",
      "  _warn_prf(average, modifier, msg_start, len(result))\n",
      "/usr/local/lib/python3.8/dist-packages/sklearn/metrics/_classification.py:1248: UndefinedMetricWarning: Jaccard is ill-defined and being set to 0.0 due to no true or predicted samples. Use `zero_division` parameter to control this behavior.\n",
      "  _warn_prf(average, modifier, msg_start, len(result))\n",
      "/usr/local/lib/python3.8/dist-packages/sklearn/metrics/_classification.py:1248: UndefinedMetricWarning: Jaccard is ill-defined and being set to 0.0 due to no true or predicted samples. Use `zero_division` parameter to control this behavior.\n",
      "  _warn_prf(average, modifier, msg_start, len(result))\n",
      " 58%|████████████████████████████████████████████████████████████████████████████████████████████████████▉                                                                         | 58/100 [07:24<05:40,  8.10s/it]"
     ]
    },
    {
     "name": "stdout",
     "output_type": "stream",
     "text": [
      "mIOU given by: 0.510103539110759\n",
      "[0.4800828259274245, 0.3141256294622326, 0.43314472897323886, 0.3108838838691709, 0.4217744661366317, 0.30750138626132656, 0.23392175229936546, 0.5477260303527688, 0.4806466370151126, 0.4273892546729509, 0.23403418107045632, 0.622984223580449, 0.28395898477729614, 0.5053798888534788, 0.36854260904913283, 0.23487570158381382, 0.2776467227756309, 0.6755961181605183, 0.37903712673606926, 0.5504114010316731, 0.37429026290122175, 0.496385323357798, 0.39196129947896174, 0.37924939647851275, 0.5853269475386425, 0.255262318179988, 0.6848665717060205, 0.30138798440552894, 0.5921036056828485, 0.6546765959275835, 0.27826561055984433, 0.22863031747535176, 0.27819431972682734, 0.5282928933268631, 0.29809156976279433, 0.2563069268808263, 0.41665888131670775, 0.4455425174190389, 0.34989910732345086, 0.5253094595573349, 0.2890501560457343, 0.4635251003659016, 0.24949786498487941, 0.3703191870359074, 0.3865878299278053, 0.5965633281022387, 0.29854842588276786, 0.36455184643516014, 0.4672057744440935, 0.28608381392909565, 0.660474617707548, 0.36995875605510714, 0.21945322556332392, 0.4129921812023513, 0.6380386723577989, 0.4061284989658414, 0.4925925715161546, 0.510103539110759]\n"
     ]
    },
    {
     "name": "stderr",
     "output_type": "stream",
     "text": [
      "/usr/local/lib/python3.8/dist-packages/sklearn/metrics/_classification.py:1248: UndefinedMetricWarning: Jaccard is ill-defined and being set to 0.0 due to no true or predicted samples. Use `zero_division` parameter to control this behavior.\n",
      "  _warn_prf(average, modifier, msg_start, len(result))\n",
      "/usr/local/lib/python3.8/dist-packages/sklearn/metrics/_classification.py:1248: UndefinedMetricWarning: Jaccard is ill-defined and being set to 0.0 due to no true or predicted samples. Use `zero_division` parameter to control this behavior.\n",
      "  _warn_prf(average, modifier, msg_start, len(result))\n",
      "/usr/local/lib/python3.8/dist-packages/sklearn/metrics/_classification.py:1248: UndefinedMetricWarning: Jaccard is ill-defined and being set to 0.0 due to no true or predicted samples. Use `zero_division` parameter to control this behavior.\n",
      "  _warn_prf(average, modifier, msg_start, len(result))\n",
      "/usr/local/lib/python3.8/dist-packages/sklearn/metrics/_classification.py:1248: UndefinedMetricWarning: Jaccard is ill-defined and being set to 0.0 due to no true or predicted samples. Use `zero_division` parameter to control this behavior.\n",
      "  _warn_prf(average, modifier, msg_start, len(result))\n",
      "/usr/local/lib/python3.8/dist-packages/sklearn/metrics/_classification.py:1248: UndefinedMetricWarning: Jaccard is ill-defined and being set to 0.0 due to no true or predicted samples. Use `zero_division` parameter to control this behavior.\n",
      "  _warn_prf(average, modifier, msg_start, len(result))\n",
      "/usr/local/lib/python3.8/dist-packages/sklearn/metrics/_classification.py:1248: UndefinedMetricWarning: Jaccard is ill-defined and being set to 0.0 due to no true or predicted samples. Use `zero_division` parameter to control this behavior.\n",
      "  _warn_prf(average, modifier, msg_start, len(result))\n",
      "/usr/local/lib/python3.8/dist-packages/sklearn/metrics/_classification.py:1248: UndefinedMetricWarning: Jaccard is ill-defined and being set to 0.0 due to no true or predicted samples. Use `zero_division` parameter to control this behavior.\n",
      "  _warn_prf(average, modifier, msg_start, len(result))\n",
      "/usr/local/lib/python3.8/dist-packages/sklearn/metrics/_classification.py:1248: UndefinedMetricWarning: Jaccard is ill-defined and being set to 0.0 due to no true or predicted samples. Use `zero_division` parameter to control this behavior.\n",
      "  _warn_prf(average, modifier, msg_start, len(result))\n",
      " 59%|██████████████████████████████████████████████████████████████████████████████████████████████████████▋                                                                       | 59/100 [07:32<05:31,  8.08s/it]"
     ]
    },
    {
     "name": "stdout",
     "output_type": "stream",
     "text": [
      "mIOU given by: 0.3514833816962437\n",
      "[0.4800828259274245, 0.3141256294622326, 0.43314472897323886, 0.3108838838691709, 0.4217744661366317, 0.30750138626132656, 0.23392175229936546, 0.5477260303527688, 0.4806466370151126, 0.4273892546729509, 0.23403418107045632, 0.622984223580449, 0.28395898477729614, 0.5053798888534788, 0.36854260904913283, 0.23487570158381382, 0.2776467227756309, 0.6755961181605183, 0.37903712673606926, 0.5504114010316731, 0.37429026290122175, 0.496385323357798, 0.39196129947896174, 0.37924939647851275, 0.5853269475386425, 0.255262318179988, 0.6848665717060205, 0.30138798440552894, 0.5921036056828485, 0.6546765959275835, 0.27826561055984433, 0.22863031747535176, 0.27819431972682734, 0.5282928933268631, 0.29809156976279433, 0.2563069268808263, 0.41665888131670775, 0.4455425174190389, 0.34989910732345086, 0.5253094595573349, 0.2890501560457343, 0.4635251003659016, 0.24949786498487941, 0.3703191870359074, 0.3865878299278053, 0.5965633281022387, 0.29854842588276786, 0.36455184643516014, 0.4672057744440935, 0.28608381392909565, 0.660474617707548, 0.36995875605510714, 0.21945322556332392, 0.4129921812023513, 0.6380386723577989, 0.4061284989658414, 0.4925925715161546, 0.510103539110759, 0.3514833816962437]\n"
     ]
    },
    {
     "name": "stderr",
     "output_type": "stream",
     "text": [
      "/usr/local/lib/python3.8/dist-packages/sklearn/metrics/_classification.py:1248: UndefinedMetricWarning: Jaccard is ill-defined and being set to 0.0 due to no true or predicted samples. Use `zero_division` parameter to control this behavior.\n",
      "  _warn_prf(average, modifier, msg_start, len(result))\n",
      "/usr/local/lib/python3.8/dist-packages/sklearn/metrics/_classification.py:1248: UndefinedMetricWarning: Jaccard is ill-defined and being set to 0.0 due to no true or predicted samples. Use `zero_division` parameter to control this behavior.\n",
      "  _warn_prf(average, modifier, msg_start, len(result))\n",
      "/usr/local/lib/python3.8/dist-packages/sklearn/metrics/_classification.py:1248: UndefinedMetricWarning: Jaccard is ill-defined and being set to 0.0 due to no true or predicted samples. Use `zero_division` parameter to control this behavior.\n",
      "  _warn_prf(average, modifier, msg_start, len(result))\n",
      "/usr/local/lib/python3.8/dist-packages/sklearn/metrics/_classification.py:1248: UndefinedMetricWarning: Jaccard is ill-defined and being set to 0.0 due to no true or predicted samples. Use `zero_division` parameter to control this behavior.\n",
      "  _warn_prf(average, modifier, msg_start, len(result))\n",
      "/usr/local/lib/python3.8/dist-packages/sklearn/metrics/_classification.py:1248: UndefinedMetricWarning: Jaccard is ill-defined and being set to 0.0 due to no true or predicted samples. Use `zero_division` parameter to control this behavior.\n",
      "  _warn_prf(average, modifier, msg_start, len(result))\n",
      "/usr/local/lib/python3.8/dist-packages/sklearn/metrics/_classification.py:1248: UndefinedMetricWarning: Jaccard is ill-defined and being set to 0.0 due to no true or predicted samples. Use `zero_division` parameter to control this behavior.\n",
      "  _warn_prf(average, modifier, msg_start, len(result))\n",
      "/usr/local/lib/python3.8/dist-packages/sklearn/metrics/_classification.py:1248: UndefinedMetricWarning: Jaccard is ill-defined and being set to 0.0 due to no true or predicted samples. Use `zero_division` parameter to control this behavior.\n",
      "  _warn_prf(average, modifier, msg_start, len(result))\n",
      "/usr/local/lib/python3.8/dist-packages/sklearn/metrics/_classification.py:1248: UndefinedMetricWarning: Jaccard is ill-defined and being set to 0.0 due to no true or predicted samples. Use `zero_division` parameter to control this behavior.\n",
      "  _warn_prf(average, modifier, msg_start, len(result))\n",
      "/usr/local/lib/python3.8/dist-packages/sklearn/metrics/_classification.py:1248: UndefinedMetricWarning: Jaccard is ill-defined and being set to 0.0 due to no true or predicted samples. Use `zero_division` parameter to control this behavior.\n",
      "  _warn_prf(average, modifier, msg_start, len(result))\n",
      "/usr/local/lib/python3.8/dist-packages/sklearn/metrics/_classification.py:1248: UndefinedMetricWarning: Jaccard is ill-defined and being set to 0.0 due to no true or predicted samples. Use `zero_division` parameter to control this behavior.\n",
      "  _warn_prf(average, modifier, msg_start, len(result))\n",
      "/usr/local/lib/python3.8/dist-packages/sklearn/metrics/_classification.py:1248: UndefinedMetricWarning: Jaccard is ill-defined and being set to 0.0 due to no true or predicted samples. Use `zero_division` parameter to control this behavior.\n",
      "  _warn_prf(average, modifier, msg_start, len(result))\n",
      " 60%|████████████████████████████████████████████████████████████████████████████████████████████████████████▍                                                                     | 60/100 [07:40<05:14,  7.86s/it]"
     ]
    },
    {
     "name": "stdout",
     "output_type": "stream",
     "text": [
      "mIOU given by: 0.33528637051815435\n",
      "[0.4800828259274245, 0.3141256294622326, 0.43314472897323886, 0.3108838838691709, 0.4217744661366317, 0.30750138626132656, 0.23392175229936546, 0.5477260303527688, 0.4806466370151126, 0.4273892546729509, 0.23403418107045632, 0.622984223580449, 0.28395898477729614, 0.5053798888534788, 0.36854260904913283, 0.23487570158381382, 0.2776467227756309, 0.6755961181605183, 0.37903712673606926, 0.5504114010316731, 0.37429026290122175, 0.496385323357798, 0.39196129947896174, 0.37924939647851275, 0.5853269475386425, 0.255262318179988, 0.6848665717060205, 0.30138798440552894, 0.5921036056828485, 0.6546765959275835, 0.27826561055984433, 0.22863031747535176, 0.27819431972682734, 0.5282928933268631, 0.29809156976279433, 0.2563069268808263, 0.41665888131670775, 0.4455425174190389, 0.34989910732345086, 0.5253094595573349, 0.2890501560457343, 0.4635251003659016, 0.24949786498487941, 0.3703191870359074, 0.3865878299278053, 0.5965633281022387, 0.29854842588276786, 0.36455184643516014, 0.4672057744440935, 0.28608381392909565, 0.660474617707548, 0.36995875605510714, 0.21945322556332392, 0.4129921812023513, 0.6380386723577989, 0.4061284989658414, 0.4925925715161546, 0.510103539110759, 0.3514833816962437, 0.33528637051815435]\n"
     ]
    },
    {
     "name": "stderr",
     "output_type": "stream",
     "text": [
      "/usr/local/lib/python3.8/dist-packages/sklearn/metrics/_classification.py:1248: UndefinedMetricWarning: Jaccard is ill-defined and being set to 0.0 due to no true or predicted samples. Use `zero_division` parameter to control this behavior.\n",
      "  _warn_prf(average, modifier, msg_start, len(result))\n",
      "/usr/local/lib/python3.8/dist-packages/sklearn/metrics/_classification.py:1248: UndefinedMetricWarning: Jaccard is ill-defined and being set to 0.0 due to no true or predicted samples. Use `zero_division` parameter to control this behavior.\n",
      "  _warn_prf(average, modifier, msg_start, len(result))\n",
      "/usr/local/lib/python3.8/dist-packages/sklearn/metrics/_classification.py:1248: UndefinedMetricWarning: Jaccard is ill-defined and being set to 0.0 due to no true or predicted samples. Use `zero_division` parameter to control this behavior.\n",
      "  _warn_prf(average, modifier, msg_start, len(result))\n",
      "/usr/local/lib/python3.8/dist-packages/sklearn/metrics/_classification.py:1248: UndefinedMetricWarning: Jaccard is ill-defined and being set to 0.0 due to no true or predicted samples. Use `zero_division` parameter to control this behavior.\n",
      "  _warn_prf(average, modifier, msg_start, len(result))\n",
      "/usr/local/lib/python3.8/dist-packages/sklearn/metrics/_classification.py:1248: UndefinedMetricWarning: Jaccard is ill-defined and being set to 0.0 due to no true or predicted samples. Use `zero_division` parameter to control this behavior.\n",
      "  _warn_prf(average, modifier, msg_start, len(result))\n",
      "/usr/local/lib/python3.8/dist-packages/sklearn/metrics/_classification.py:1248: UndefinedMetricWarning: Jaccard is ill-defined and being set to 0.0 due to no true or predicted samples. Use `zero_division` parameter to control this behavior.\n",
      "  _warn_prf(average, modifier, msg_start, len(result))\n",
      "/usr/local/lib/python3.8/dist-packages/sklearn/metrics/_classification.py:1248: UndefinedMetricWarning: Jaccard is ill-defined and being set to 0.0 due to no true or predicted samples. Use `zero_division` parameter to control this behavior.\n",
      "  _warn_prf(average, modifier, msg_start, len(result))\n",
      "/usr/local/lib/python3.8/dist-packages/sklearn/metrics/_classification.py:1248: UndefinedMetricWarning: Jaccard is ill-defined and being set to 0.0 due to no true or predicted samples. Use `zero_division` parameter to control this behavior.\n",
      "  _warn_prf(average, modifier, msg_start, len(result))\n",
      "/usr/local/lib/python3.8/dist-packages/sklearn/metrics/_classification.py:1248: UndefinedMetricWarning: Jaccard is ill-defined and being set to 0.0 due to no true or predicted samples. Use `zero_division` parameter to control this behavior.\n",
      "  _warn_prf(average, modifier, msg_start, len(result))\n",
      " 61%|██████████████████████████████████████████████████████████████████████████████████████████████████████████▏                                                                   | 61/100 [07:50<05:37,  8.66s/it]"
     ]
    },
    {
     "name": "stdout",
     "output_type": "stream",
     "text": [
      "mIOU given by: 0.33819533628154197\n",
      "[0.4800828259274245, 0.3141256294622326, 0.43314472897323886, 0.3108838838691709, 0.4217744661366317, 0.30750138626132656, 0.23392175229936546, 0.5477260303527688, 0.4806466370151126, 0.4273892546729509, 0.23403418107045632, 0.622984223580449, 0.28395898477729614, 0.5053798888534788, 0.36854260904913283, 0.23487570158381382, 0.2776467227756309, 0.6755961181605183, 0.37903712673606926, 0.5504114010316731, 0.37429026290122175, 0.496385323357798, 0.39196129947896174, 0.37924939647851275, 0.5853269475386425, 0.255262318179988, 0.6848665717060205, 0.30138798440552894, 0.5921036056828485, 0.6546765959275835, 0.27826561055984433, 0.22863031747535176, 0.27819431972682734, 0.5282928933268631, 0.29809156976279433, 0.2563069268808263, 0.41665888131670775, 0.4455425174190389, 0.34989910732345086, 0.5253094595573349, 0.2890501560457343, 0.4635251003659016, 0.24949786498487941, 0.3703191870359074, 0.3865878299278053, 0.5965633281022387, 0.29854842588276786, 0.36455184643516014, 0.4672057744440935, 0.28608381392909565, 0.660474617707548, 0.36995875605510714, 0.21945322556332392, 0.4129921812023513, 0.6380386723577989, 0.4061284989658414, 0.4925925715161546, 0.510103539110759, 0.3514833816962437, 0.33528637051815435, 0.33819533628154197]\n"
     ]
    },
    {
     "name": "stderr",
     "output_type": "stream",
     "text": [
      "/usr/local/lib/python3.8/dist-packages/sklearn/metrics/_classification.py:1248: UndefinedMetricWarning: Jaccard is ill-defined and being set to 0.0 due to no true or predicted samples. Use `zero_division` parameter to control this behavior.\n",
      "  _warn_prf(average, modifier, msg_start, len(result))\n",
      "/usr/local/lib/python3.8/dist-packages/sklearn/metrics/_classification.py:1248: UndefinedMetricWarning: Jaccard is ill-defined and being set to 0.0 due to no true or predicted samples. Use `zero_division` parameter to control this behavior.\n",
      "  _warn_prf(average, modifier, msg_start, len(result))\n",
      "/usr/local/lib/python3.8/dist-packages/sklearn/metrics/_classification.py:1248: UndefinedMetricWarning: Jaccard is ill-defined and being set to 0.0 due to no true or predicted samples. Use `zero_division` parameter to control this behavior.\n",
      "  _warn_prf(average, modifier, msg_start, len(result))\n",
      "/usr/local/lib/python3.8/dist-packages/sklearn/metrics/_classification.py:1248: UndefinedMetricWarning: Jaccard is ill-defined and being set to 0.0 due to no true or predicted samples. Use `zero_division` parameter to control this behavior.\n",
      "  _warn_prf(average, modifier, msg_start, len(result))\n",
      "/usr/local/lib/python3.8/dist-packages/sklearn/metrics/_classification.py:1248: UndefinedMetricWarning: Jaccard is ill-defined and being set to 0.0 due to no true or predicted samples. Use `zero_division` parameter to control this behavior.\n",
      "  _warn_prf(average, modifier, msg_start, len(result))\n",
      "/usr/local/lib/python3.8/dist-packages/sklearn/metrics/_classification.py:1248: UndefinedMetricWarning: Jaccard is ill-defined and being set to 0.0 due to no true or predicted samples. Use `zero_division` parameter to control this behavior.\n",
      "  _warn_prf(average, modifier, msg_start, len(result))\n",
      "/usr/local/lib/python3.8/dist-packages/sklearn/metrics/_classification.py:1248: UndefinedMetricWarning: Jaccard is ill-defined and being set to 0.0 due to no true or predicted samples. Use `zero_division` parameter to control this behavior.\n",
      "  _warn_prf(average, modifier, msg_start, len(result))\n",
      "/usr/local/lib/python3.8/dist-packages/sklearn/metrics/_classification.py:1248: UndefinedMetricWarning: Jaccard is ill-defined and being set to 0.0 due to no true or predicted samples. Use `zero_division` parameter to control this behavior.\n",
      "  _warn_prf(average, modifier, msg_start, len(result))\n",
      "/usr/local/lib/python3.8/dist-packages/sklearn/metrics/_classification.py:1248: UndefinedMetricWarning: Jaccard is ill-defined and being set to 0.0 due to no true or predicted samples. Use `zero_division` parameter to control this behavior.\n",
      "  _warn_prf(average, modifier, msg_start, len(result))\n",
      "/usr/local/lib/python3.8/dist-packages/sklearn/metrics/_classification.py:1248: UndefinedMetricWarning: Jaccard is ill-defined and being set to 0.0 due to no true or predicted samples. Use `zero_division` parameter to control this behavior.\n",
      "  _warn_prf(average, modifier, msg_start, len(result))\n",
      " 62%|███████████████████████████████████████████████████████████████████████████████████████████████████████████▉                                                                  | 62/100 [07:58<05:23,  8.51s/it]"
     ]
    },
    {
     "name": "stdout",
     "output_type": "stream",
     "text": [
      "mIOU given by: 0.5021063505252817\n",
      "[0.4800828259274245, 0.3141256294622326, 0.43314472897323886, 0.3108838838691709, 0.4217744661366317, 0.30750138626132656, 0.23392175229936546, 0.5477260303527688, 0.4806466370151126, 0.4273892546729509, 0.23403418107045632, 0.622984223580449, 0.28395898477729614, 0.5053798888534788, 0.36854260904913283, 0.23487570158381382, 0.2776467227756309, 0.6755961181605183, 0.37903712673606926, 0.5504114010316731, 0.37429026290122175, 0.496385323357798, 0.39196129947896174, 0.37924939647851275, 0.5853269475386425, 0.255262318179988, 0.6848665717060205, 0.30138798440552894, 0.5921036056828485, 0.6546765959275835, 0.27826561055984433, 0.22863031747535176, 0.27819431972682734, 0.5282928933268631, 0.29809156976279433, 0.2563069268808263, 0.41665888131670775, 0.4455425174190389, 0.34989910732345086, 0.5253094595573349, 0.2890501560457343, 0.4635251003659016, 0.24949786498487941, 0.3703191870359074, 0.3865878299278053, 0.5965633281022387, 0.29854842588276786, 0.36455184643516014, 0.4672057744440935, 0.28608381392909565, 0.660474617707548, 0.36995875605510714, 0.21945322556332392, 0.4129921812023513, 0.6380386723577989, 0.4061284989658414, 0.4925925715161546, 0.510103539110759, 0.3514833816962437, 0.33528637051815435, 0.33819533628154197, 0.5021063505252817]\n"
     ]
    },
    {
     "name": "stderr",
     "output_type": "stream",
     "text": [
      "/usr/local/lib/python3.8/dist-packages/sklearn/metrics/_classification.py:1248: UndefinedMetricWarning: Jaccard is ill-defined and being set to 0.0 due to no true or predicted samples. Use `zero_division` parameter to control this behavior.\n",
      "  _warn_prf(average, modifier, msg_start, len(result))\n",
      "/usr/local/lib/python3.8/dist-packages/sklearn/metrics/_classification.py:1248: UndefinedMetricWarning: Jaccard is ill-defined and being set to 0.0 due to no true or predicted samples. Use `zero_division` parameter to control this behavior.\n",
      "  _warn_prf(average, modifier, msg_start, len(result))\n",
      "/usr/local/lib/python3.8/dist-packages/sklearn/metrics/_classification.py:1248: UndefinedMetricWarning: Jaccard is ill-defined and being set to 0.0 due to no true or predicted samples. Use `zero_division` parameter to control this behavior.\n",
      "  _warn_prf(average, modifier, msg_start, len(result))\n",
      "/usr/local/lib/python3.8/dist-packages/sklearn/metrics/_classification.py:1248: UndefinedMetricWarning: Jaccard is ill-defined and being set to 0.0 due to no true or predicted samples. Use `zero_division` parameter to control this behavior.\n",
      "  _warn_prf(average, modifier, msg_start, len(result))\n",
      "/usr/local/lib/python3.8/dist-packages/sklearn/metrics/_classification.py:1248: UndefinedMetricWarning: Jaccard is ill-defined and being set to 0.0 due to no true or predicted samples. Use `zero_division` parameter to control this behavior.\n",
      "  _warn_prf(average, modifier, msg_start, len(result))\n",
      "/usr/local/lib/python3.8/dist-packages/sklearn/metrics/_classification.py:1248: UndefinedMetricWarning: Jaccard is ill-defined and being set to 0.0 due to no true or predicted samples. Use `zero_division` parameter to control this behavior.\n",
      "  _warn_prf(average, modifier, msg_start, len(result))\n",
      "/usr/local/lib/python3.8/dist-packages/sklearn/metrics/_classification.py:1248: UndefinedMetricWarning: Jaccard is ill-defined and being set to 0.0 due to no true or predicted samples. Use `zero_division` parameter to control this behavior.\n",
      "  _warn_prf(average, modifier, msg_start, len(result))\n",
      "/usr/local/lib/python3.8/dist-packages/sklearn/metrics/_classification.py:1248: UndefinedMetricWarning: Jaccard is ill-defined and being set to 0.0 due to no true or predicted samples. Use `zero_division` parameter to control this behavior.\n",
      "  _warn_prf(average, modifier, msg_start, len(result))\n",
      " 63%|█████████████████████████████████████████████████████████████████████████████████████████████████████████████▌                                                                | 63/100 [08:06<05:06,  8.27s/it]"
     ]
    },
    {
     "name": "stdout",
     "output_type": "stream",
     "text": [
      "mIOU given by: 0.2877435568473731\n",
      "[0.4800828259274245, 0.3141256294622326, 0.43314472897323886, 0.3108838838691709, 0.4217744661366317, 0.30750138626132656, 0.23392175229936546, 0.5477260303527688, 0.4806466370151126, 0.4273892546729509, 0.23403418107045632, 0.622984223580449, 0.28395898477729614, 0.5053798888534788, 0.36854260904913283, 0.23487570158381382, 0.2776467227756309, 0.6755961181605183, 0.37903712673606926, 0.5504114010316731, 0.37429026290122175, 0.496385323357798, 0.39196129947896174, 0.37924939647851275, 0.5853269475386425, 0.255262318179988, 0.6848665717060205, 0.30138798440552894, 0.5921036056828485, 0.6546765959275835, 0.27826561055984433, 0.22863031747535176, 0.27819431972682734, 0.5282928933268631, 0.29809156976279433, 0.2563069268808263, 0.41665888131670775, 0.4455425174190389, 0.34989910732345086, 0.5253094595573349, 0.2890501560457343, 0.4635251003659016, 0.24949786498487941, 0.3703191870359074, 0.3865878299278053, 0.5965633281022387, 0.29854842588276786, 0.36455184643516014, 0.4672057744440935, 0.28608381392909565, 0.660474617707548, 0.36995875605510714, 0.21945322556332392, 0.4129921812023513, 0.6380386723577989, 0.4061284989658414, 0.4925925715161546, 0.510103539110759, 0.3514833816962437, 0.33528637051815435, 0.33819533628154197, 0.5021063505252817, 0.2877435568473731]\n"
     ]
    },
    {
     "name": "stderr",
     "output_type": "stream",
     "text": [
      "/usr/local/lib/python3.8/dist-packages/sklearn/metrics/_classification.py:1248: UndefinedMetricWarning: Jaccard is ill-defined and being set to 0.0 due to no true or predicted samples. Use `zero_division` parameter to control this behavior.\n",
      "  _warn_prf(average, modifier, msg_start, len(result))\n",
      "/usr/local/lib/python3.8/dist-packages/sklearn/metrics/_classification.py:1248: UndefinedMetricWarning: Jaccard is ill-defined and being set to 0.0 due to no true or predicted samples. Use `zero_division` parameter to control this behavior.\n",
      "  _warn_prf(average, modifier, msg_start, len(result))\n",
      "/usr/local/lib/python3.8/dist-packages/sklearn/metrics/_classification.py:1248: UndefinedMetricWarning: Jaccard is ill-defined and being set to 0.0 due to no true or predicted samples. Use `zero_division` parameter to control this behavior.\n",
      "  _warn_prf(average, modifier, msg_start, len(result))\n",
      "/usr/local/lib/python3.8/dist-packages/sklearn/metrics/_classification.py:1248: UndefinedMetricWarning: Jaccard is ill-defined and being set to 0.0 due to no true or predicted samples. Use `zero_division` parameter to control this behavior.\n",
      "  _warn_prf(average, modifier, msg_start, len(result))\n",
      "/usr/local/lib/python3.8/dist-packages/sklearn/metrics/_classification.py:1248: UndefinedMetricWarning: Jaccard is ill-defined and being set to 0.0 due to no true or predicted samples. Use `zero_division` parameter to control this behavior.\n",
      "  _warn_prf(average, modifier, msg_start, len(result))\n",
      "/usr/local/lib/python3.8/dist-packages/sklearn/metrics/_classification.py:1248: UndefinedMetricWarning: Jaccard is ill-defined and being set to 0.0 due to no true or predicted samples. Use `zero_division` parameter to control this behavior.\n",
      "  _warn_prf(average, modifier, msg_start, len(result))\n",
      "/usr/local/lib/python3.8/dist-packages/sklearn/metrics/_classification.py:1248: UndefinedMetricWarning: Jaccard is ill-defined and being set to 0.0 due to no true or predicted samples. Use `zero_division` parameter to control this behavior.\n",
      "  _warn_prf(average, modifier, msg_start, len(result))\n",
      "/usr/local/lib/python3.8/dist-packages/sklearn/metrics/_classification.py:1248: UndefinedMetricWarning: Jaccard is ill-defined and being set to 0.0 due to no true or predicted samples. Use `zero_division` parameter to control this behavior.\n",
      "  _warn_prf(average, modifier, msg_start, len(result))\n",
      "/usr/local/lib/python3.8/dist-packages/sklearn/metrics/_classification.py:1248: UndefinedMetricWarning: Jaccard is ill-defined and being set to 0.0 due to no true or predicted samples. Use `zero_division` parameter to control this behavior.\n",
      "  _warn_prf(average, modifier, msg_start, len(result))\n",
      "/usr/local/lib/python3.8/dist-packages/sklearn/metrics/_classification.py:1248: UndefinedMetricWarning: Jaccard is ill-defined and being set to 0.0 due to no true or predicted samples. Use `zero_division` parameter to control this behavior.\n",
      "  _warn_prf(average, modifier, msg_start, len(result))\n",
      "/usr/local/lib/python3.8/dist-packages/sklearn/metrics/_classification.py:1248: UndefinedMetricWarning: Jaccard is ill-defined and being set to 0.0 due to no true or predicted samples. Use `zero_division` parameter to control this behavior.\n",
      "  _warn_prf(average, modifier, msg_start, len(result))\n",
      "/usr/local/lib/python3.8/dist-packages/sklearn/metrics/_classification.py:1248: UndefinedMetricWarning: Jaccard is ill-defined and being set to 0.0 due to no true or predicted samples. Use `zero_division` parameter to control this behavior.\n",
      "  _warn_prf(average, modifier, msg_start, len(result))\n",
      "/usr/local/lib/python3.8/dist-packages/sklearn/metrics/_classification.py:1248: UndefinedMetricWarning: Jaccard is ill-defined and being set to 0.0 due to no true or predicted samples. Use `zero_division` parameter to control this behavior.\n",
      "  _warn_prf(average, modifier, msg_start, len(result))\n",
      "/usr/local/lib/python3.8/dist-packages/sklearn/metrics/_classification.py:1248: UndefinedMetricWarning: Jaccard is ill-defined and being set to 0.0 due to no true or predicted samples. Use `zero_division` parameter to control this behavior.\n",
      "  _warn_prf(average, modifier, msg_start, len(result))\n",
      " 64%|███████████████████████████████████████████████████████████████████████████████████████████████████████████████▎                                                              | 64/100 [08:13<04:45,  7.94s/it]"
     ]
    },
    {
     "name": "stdout",
     "output_type": "stream",
     "text": [
      "mIOU given by: 0.5891480131841499\n",
      "[0.4800828259274245, 0.3141256294622326, 0.43314472897323886, 0.3108838838691709, 0.4217744661366317, 0.30750138626132656, 0.23392175229936546, 0.5477260303527688, 0.4806466370151126, 0.4273892546729509, 0.23403418107045632, 0.622984223580449, 0.28395898477729614, 0.5053798888534788, 0.36854260904913283, 0.23487570158381382, 0.2776467227756309, 0.6755961181605183, 0.37903712673606926, 0.5504114010316731, 0.37429026290122175, 0.496385323357798, 0.39196129947896174, 0.37924939647851275, 0.5853269475386425, 0.255262318179988, 0.6848665717060205, 0.30138798440552894, 0.5921036056828485, 0.6546765959275835, 0.27826561055984433, 0.22863031747535176, 0.27819431972682734, 0.5282928933268631, 0.29809156976279433, 0.2563069268808263, 0.41665888131670775, 0.4455425174190389, 0.34989910732345086, 0.5253094595573349, 0.2890501560457343, 0.4635251003659016, 0.24949786498487941, 0.3703191870359074, 0.3865878299278053, 0.5965633281022387, 0.29854842588276786, 0.36455184643516014, 0.4672057744440935, 0.28608381392909565, 0.660474617707548, 0.36995875605510714, 0.21945322556332392, 0.4129921812023513, 0.6380386723577989, 0.4061284989658414, 0.4925925715161546, 0.510103539110759, 0.3514833816962437, 0.33528637051815435, 0.33819533628154197, 0.5021063505252817, 0.2877435568473731, 0.5891480131841499]\n"
     ]
    },
    {
     "name": "stderr",
     "output_type": "stream",
     "text": [
      "/usr/local/lib/python3.8/dist-packages/sklearn/metrics/_classification.py:1248: UndefinedMetricWarning: Jaccard is ill-defined and being set to 0.0 due to no true or predicted samples. Use `zero_division` parameter to control this behavior.\n",
      "  _warn_prf(average, modifier, msg_start, len(result))\n",
      "/usr/local/lib/python3.8/dist-packages/sklearn/metrics/_classification.py:1248: UndefinedMetricWarning: Jaccard is ill-defined and being set to 0.0 due to no true or predicted samples. Use `zero_division` parameter to control this behavior.\n",
      "  _warn_prf(average, modifier, msg_start, len(result))\n",
      "/usr/local/lib/python3.8/dist-packages/sklearn/metrics/_classification.py:1248: UndefinedMetricWarning: Jaccard is ill-defined and being set to 0.0 due to no true or predicted samples. Use `zero_division` parameter to control this behavior.\n",
      "  _warn_prf(average, modifier, msg_start, len(result))\n",
      "/usr/local/lib/python3.8/dist-packages/sklearn/metrics/_classification.py:1248: UndefinedMetricWarning: Jaccard is ill-defined and being set to 0.0 due to no true or predicted samples. Use `zero_division` parameter to control this behavior.\n",
      "  _warn_prf(average, modifier, msg_start, len(result))\n",
      "/usr/local/lib/python3.8/dist-packages/sklearn/metrics/_classification.py:1248: UndefinedMetricWarning: Jaccard is ill-defined and being set to 0.0 due to no true or predicted samples. Use `zero_division` parameter to control this behavior.\n",
      "  _warn_prf(average, modifier, msg_start, len(result))\n",
      "/usr/local/lib/python3.8/dist-packages/sklearn/metrics/_classification.py:1248: UndefinedMetricWarning: Jaccard is ill-defined and being set to 0.0 due to no true or predicted samples. Use `zero_division` parameter to control this behavior.\n",
      "  _warn_prf(average, modifier, msg_start, len(result))\n",
      "/usr/local/lib/python3.8/dist-packages/sklearn/metrics/_classification.py:1248: UndefinedMetricWarning: Jaccard is ill-defined and being set to 0.0 due to no true or predicted samples. Use `zero_division` parameter to control this behavior.\n",
      "  _warn_prf(average, modifier, msg_start, len(result))\n",
      "/usr/local/lib/python3.8/dist-packages/sklearn/metrics/_classification.py:1248: UndefinedMetricWarning: Jaccard is ill-defined and being set to 0.0 due to no true or predicted samples. Use `zero_division` parameter to control this behavior.\n",
      "  _warn_prf(average, modifier, msg_start, len(result))\n",
      "/usr/local/lib/python3.8/dist-packages/sklearn/metrics/_classification.py:1248: UndefinedMetricWarning: Jaccard is ill-defined and being set to 0.0 due to no true or predicted samples. Use `zero_division` parameter to control this behavior.\n",
      "  _warn_prf(average, modifier, msg_start, len(result))\n",
      "/usr/local/lib/python3.8/dist-packages/sklearn/metrics/_classification.py:1248: UndefinedMetricWarning: Jaccard is ill-defined and being set to 0.0 due to no true or predicted samples. Use `zero_division` parameter to control this behavior.\n",
      "  _warn_prf(average, modifier, msg_start, len(result))\n",
      " 65%|█████████████████████████████████████████████████████████████████████████████████████████████████████████████████                                                             | 65/100 [08:20<04:31,  7.77s/it]"
     ]
    },
    {
     "name": "stdout",
     "output_type": "stream",
     "text": [
      "mIOU given by: 0.5533526939783981\n",
      "[0.4800828259274245, 0.3141256294622326, 0.43314472897323886, 0.3108838838691709, 0.4217744661366317, 0.30750138626132656, 0.23392175229936546, 0.5477260303527688, 0.4806466370151126, 0.4273892546729509, 0.23403418107045632, 0.622984223580449, 0.28395898477729614, 0.5053798888534788, 0.36854260904913283, 0.23487570158381382, 0.2776467227756309, 0.6755961181605183, 0.37903712673606926, 0.5504114010316731, 0.37429026290122175, 0.496385323357798, 0.39196129947896174, 0.37924939647851275, 0.5853269475386425, 0.255262318179988, 0.6848665717060205, 0.30138798440552894, 0.5921036056828485, 0.6546765959275835, 0.27826561055984433, 0.22863031747535176, 0.27819431972682734, 0.5282928933268631, 0.29809156976279433, 0.2563069268808263, 0.41665888131670775, 0.4455425174190389, 0.34989910732345086, 0.5253094595573349, 0.2890501560457343, 0.4635251003659016, 0.24949786498487941, 0.3703191870359074, 0.3865878299278053, 0.5965633281022387, 0.29854842588276786, 0.36455184643516014, 0.4672057744440935, 0.28608381392909565, 0.660474617707548, 0.36995875605510714, 0.21945322556332392, 0.4129921812023513, 0.6380386723577989, 0.4061284989658414, 0.4925925715161546, 0.510103539110759, 0.3514833816962437, 0.33528637051815435, 0.33819533628154197, 0.5021063505252817, 0.2877435568473731, 0.5891480131841499, 0.5533526939783981]\n"
     ]
    },
    {
     "name": "stderr",
     "output_type": "stream",
     "text": [
      "/usr/local/lib/python3.8/dist-packages/sklearn/metrics/_classification.py:1248: UndefinedMetricWarning: Jaccard is ill-defined and being set to 0.0 due to no true or predicted samples. Use `zero_division` parameter to control this behavior.\n",
      "  _warn_prf(average, modifier, msg_start, len(result))\n",
      "/usr/local/lib/python3.8/dist-packages/sklearn/metrics/_classification.py:1248: UndefinedMetricWarning: Jaccard is ill-defined and being set to 0.0 due to no true or predicted samples. Use `zero_division` parameter to control this behavior.\n",
      "  _warn_prf(average, modifier, msg_start, len(result))\n",
      "/usr/local/lib/python3.8/dist-packages/sklearn/metrics/_classification.py:1248: UndefinedMetricWarning: Jaccard is ill-defined and being set to 0.0 due to no true or predicted samples. Use `zero_division` parameter to control this behavior.\n",
      "  _warn_prf(average, modifier, msg_start, len(result))\n",
      "/usr/local/lib/python3.8/dist-packages/sklearn/metrics/_classification.py:1248: UndefinedMetricWarning: Jaccard is ill-defined and being set to 0.0 due to no true or predicted samples. Use `zero_division` parameter to control this behavior.\n",
      "  _warn_prf(average, modifier, msg_start, len(result))\n",
      "/usr/local/lib/python3.8/dist-packages/sklearn/metrics/_classification.py:1248: UndefinedMetricWarning: Jaccard is ill-defined and being set to 0.0 due to no true or predicted samples. Use `zero_division` parameter to control this behavior.\n",
      "  _warn_prf(average, modifier, msg_start, len(result))\n",
      "/usr/local/lib/python3.8/dist-packages/sklearn/metrics/_classification.py:1248: UndefinedMetricWarning: Jaccard is ill-defined and being set to 0.0 due to no true or predicted samples. Use `zero_division` parameter to control this behavior.\n",
      "  _warn_prf(average, modifier, msg_start, len(result))\n",
      "/usr/local/lib/python3.8/dist-packages/sklearn/metrics/_classification.py:1248: UndefinedMetricWarning: Jaccard is ill-defined and being set to 0.0 due to no true or predicted samples. Use `zero_division` parameter to control this behavior.\n",
      "  _warn_prf(average, modifier, msg_start, len(result))\n",
      "/usr/local/lib/python3.8/dist-packages/sklearn/metrics/_classification.py:1248: UndefinedMetricWarning: Jaccard is ill-defined and being set to 0.0 due to no true or predicted samples. Use `zero_division` parameter to control this behavior.\n",
      "  _warn_prf(average, modifier, msg_start, len(result))\n",
      "/usr/local/lib/python3.8/dist-packages/sklearn/metrics/_classification.py:1248: UndefinedMetricWarning: Jaccard is ill-defined and being set to 0.0 due to no true or predicted samples. Use `zero_division` parameter to control this behavior.\n",
      "  _warn_prf(average, modifier, msg_start, len(result))\n",
      " 66%|██████████████████████████████████████████████████████████████████████████████████████████████████████████████████▊                                                           | 66/100 [08:29<04:27,  7.87s/it]"
     ]
    },
    {
     "name": "stdout",
     "output_type": "stream",
     "text": [
      "mIOU given by: 0.34352733370154254\n",
      "[0.4800828259274245, 0.3141256294622326, 0.43314472897323886, 0.3108838838691709, 0.4217744661366317, 0.30750138626132656, 0.23392175229936546, 0.5477260303527688, 0.4806466370151126, 0.4273892546729509, 0.23403418107045632, 0.622984223580449, 0.28395898477729614, 0.5053798888534788, 0.36854260904913283, 0.23487570158381382, 0.2776467227756309, 0.6755961181605183, 0.37903712673606926, 0.5504114010316731, 0.37429026290122175, 0.496385323357798, 0.39196129947896174, 0.37924939647851275, 0.5853269475386425, 0.255262318179988, 0.6848665717060205, 0.30138798440552894, 0.5921036056828485, 0.6546765959275835, 0.27826561055984433, 0.22863031747535176, 0.27819431972682734, 0.5282928933268631, 0.29809156976279433, 0.2563069268808263, 0.41665888131670775, 0.4455425174190389, 0.34989910732345086, 0.5253094595573349, 0.2890501560457343, 0.4635251003659016, 0.24949786498487941, 0.3703191870359074, 0.3865878299278053, 0.5965633281022387, 0.29854842588276786, 0.36455184643516014, 0.4672057744440935, 0.28608381392909565, 0.660474617707548, 0.36995875605510714, 0.21945322556332392, 0.4129921812023513, 0.6380386723577989, 0.4061284989658414, 0.4925925715161546, 0.510103539110759, 0.3514833816962437, 0.33528637051815435, 0.33819533628154197, 0.5021063505252817, 0.2877435568473731, 0.5891480131841499, 0.5533526939783981, 0.34352733370154254]\n"
     ]
    },
    {
     "name": "stderr",
     "output_type": "stream",
     "text": [
      "/usr/local/lib/python3.8/dist-packages/sklearn/metrics/_classification.py:1248: UndefinedMetricWarning: Jaccard is ill-defined and being set to 0.0 due to no true or predicted samples. Use `zero_division` parameter to control this behavior.\n",
      "  _warn_prf(average, modifier, msg_start, len(result))\n",
      "/usr/local/lib/python3.8/dist-packages/sklearn/metrics/_classification.py:1248: UndefinedMetricWarning: Jaccard is ill-defined and being set to 0.0 due to no true or predicted samples. Use `zero_division` parameter to control this behavior.\n",
      "  _warn_prf(average, modifier, msg_start, len(result))\n",
      "/usr/local/lib/python3.8/dist-packages/sklearn/metrics/_classification.py:1248: UndefinedMetricWarning: Jaccard is ill-defined and being set to 0.0 due to no true or predicted samples. Use `zero_division` parameter to control this behavior.\n",
      "  _warn_prf(average, modifier, msg_start, len(result))\n",
      "/usr/local/lib/python3.8/dist-packages/sklearn/metrics/_classification.py:1248: UndefinedMetricWarning: Jaccard is ill-defined and being set to 0.0 due to no true or predicted samples. Use `zero_division` parameter to control this behavior.\n",
      "  _warn_prf(average, modifier, msg_start, len(result))\n",
      "/usr/local/lib/python3.8/dist-packages/sklearn/metrics/_classification.py:1248: UndefinedMetricWarning: Jaccard is ill-defined and being set to 0.0 due to no true or predicted samples. Use `zero_division` parameter to control this behavior.\n",
      "  _warn_prf(average, modifier, msg_start, len(result))\n",
      "/usr/local/lib/python3.8/dist-packages/sklearn/metrics/_classification.py:1248: UndefinedMetricWarning: Jaccard is ill-defined and being set to 0.0 due to no true or predicted samples. Use `zero_division` parameter to control this behavior.\n",
      "  _warn_prf(average, modifier, msg_start, len(result))\n",
      "/usr/local/lib/python3.8/dist-packages/sklearn/metrics/_classification.py:1248: UndefinedMetricWarning: Jaccard is ill-defined and being set to 0.0 due to no true or predicted samples. Use `zero_division` parameter to control this behavior.\n",
      "  _warn_prf(average, modifier, msg_start, len(result))\n",
      "/usr/local/lib/python3.8/dist-packages/sklearn/metrics/_classification.py:1248: UndefinedMetricWarning: Jaccard is ill-defined and being set to 0.0 due to no true or predicted samples. Use `zero_division` parameter to control this behavior.\n",
      "  _warn_prf(average, modifier, msg_start, len(result))\n",
      "/usr/local/lib/python3.8/dist-packages/sklearn/metrics/_classification.py:1248: UndefinedMetricWarning: Jaccard is ill-defined and being set to 0.0 due to no true or predicted samples. Use `zero_division` parameter to control this behavior.\n",
      "  _warn_prf(average, modifier, msg_start, len(result))\n",
      " 67%|████████████████████████████████████████████████████████████████████████████████████████████████████████████████████▌                                                         | 67/100 [08:36<04:13,  7.69s/it]"
     ]
    },
    {
     "name": "stdout",
     "output_type": "stream",
     "text": [
      "mIOU given by: 0.3384086923052993\n",
      "[0.4800828259274245, 0.3141256294622326, 0.43314472897323886, 0.3108838838691709, 0.4217744661366317, 0.30750138626132656, 0.23392175229936546, 0.5477260303527688, 0.4806466370151126, 0.4273892546729509, 0.23403418107045632, 0.622984223580449, 0.28395898477729614, 0.5053798888534788, 0.36854260904913283, 0.23487570158381382, 0.2776467227756309, 0.6755961181605183, 0.37903712673606926, 0.5504114010316731, 0.37429026290122175, 0.496385323357798, 0.39196129947896174, 0.37924939647851275, 0.5853269475386425, 0.255262318179988, 0.6848665717060205, 0.30138798440552894, 0.5921036056828485, 0.6546765959275835, 0.27826561055984433, 0.22863031747535176, 0.27819431972682734, 0.5282928933268631, 0.29809156976279433, 0.2563069268808263, 0.41665888131670775, 0.4455425174190389, 0.34989910732345086, 0.5253094595573349, 0.2890501560457343, 0.4635251003659016, 0.24949786498487941, 0.3703191870359074, 0.3865878299278053, 0.5965633281022387, 0.29854842588276786, 0.36455184643516014, 0.4672057744440935, 0.28608381392909565, 0.660474617707548, 0.36995875605510714, 0.21945322556332392, 0.4129921812023513, 0.6380386723577989, 0.4061284989658414, 0.4925925715161546, 0.510103539110759, 0.3514833816962437, 0.33528637051815435, 0.33819533628154197, 0.5021063505252817, 0.2877435568473731, 0.5891480131841499, 0.5533526939783981, 0.34352733370154254, 0.3384086923052993]\n"
     ]
    },
    {
     "name": "stderr",
     "output_type": "stream",
     "text": [
      "/usr/local/lib/python3.8/dist-packages/sklearn/metrics/_classification.py:1248: UndefinedMetricWarning: Jaccard is ill-defined and being set to 0.0 due to no true or predicted samples. Use `zero_division` parameter to control this behavior.\n",
      "  _warn_prf(average, modifier, msg_start, len(result))\n",
      "/usr/local/lib/python3.8/dist-packages/sklearn/metrics/_classification.py:1248: UndefinedMetricWarning: Jaccard is ill-defined and being set to 0.0 due to no true or predicted samples. Use `zero_division` parameter to control this behavior.\n",
      "  _warn_prf(average, modifier, msg_start, len(result))\n",
      "/usr/local/lib/python3.8/dist-packages/sklearn/metrics/_classification.py:1248: UndefinedMetricWarning: Jaccard is ill-defined and being set to 0.0 due to no true or predicted samples. Use `zero_division` parameter to control this behavior.\n",
      "  _warn_prf(average, modifier, msg_start, len(result))\n",
      "/usr/local/lib/python3.8/dist-packages/sklearn/metrics/_classification.py:1248: UndefinedMetricWarning: Jaccard is ill-defined and being set to 0.0 due to no true or predicted samples. Use `zero_division` parameter to control this behavior.\n",
      "  _warn_prf(average, modifier, msg_start, len(result))\n",
      "/usr/local/lib/python3.8/dist-packages/sklearn/metrics/_classification.py:1248: UndefinedMetricWarning: Jaccard is ill-defined and being set to 0.0 due to no true or predicted samples. Use `zero_division` parameter to control this behavior.\n",
      "  _warn_prf(average, modifier, msg_start, len(result))\n",
      "/usr/local/lib/python3.8/dist-packages/sklearn/metrics/_classification.py:1248: UndefinedMetricWarning: Jaccard is ill-defined and being set to 0.0 due to no true or predicted samples. Use `zero_division` parameter to control this behavior.\n",
      "  _warn_prf(average, modifier, msg_start, len(result))\n",
      "/usr/local/lib/python3.8/dist-packages/sklearn/metrics/_classification.py:1248: UndefinedMetricWarning: Jaccard is ill-defined and being set to 0.0 due to no true or predicted samples. Use `zero_division` parameter to control this behavior.\n",
      "  _warn_prf(average, modifier, msg_start, len(result))\n",
      "/usr/local/lib/python3.8/dist-packages/sklearn/metrics/_classification.py:1248: UndefinedMetricWarning: Jaccard is ill-defined and being set to 0.0 due to no true or predicted samples. Use `zero_division` parameter to control this behavior.\n",
      "  _warn_prf(average, modifier, msg_start, len(result))\n",
      "/usr/local/lib/python3.8/dist-packages/sklearn/metrics/_classification.py:1248: UndefinedMetricWarning: Jaccard is ill-defined and being set to 0.0 due to no true or predicted samples. Use `zero_division` parameter to control this behavior.\n",
      "  _warn_prf(average, modifier, msg_start, len(result))\n",
      " 68%|██████████████████████████████████████████████████████████████████████████████████████████████████████████████████████▎                                                       | 68/100 [08:44<04:11,  7.86s/it]"
     ]
    },
    {
     "name": "stdout",
     "output_type": "stream",
     "text": [
      "mIOU given by: 0.22271800487470828\n",
      "[0.4800828259274245, 0.3141256294622326, 0.43314472897323886, 0.3108838838691709, 0.4217744661366317, 0.30750138626132656, 0.23392175229936546, 0.5477260303527688, 0.4806466370151126, 0.4273892546729509, 0.23403418107045632, 0.622984223580449, 0.28395898477729614, 0.5053798888534788, 0.36854260904913283, 0.23487570158381382, 0.2776467227756309, 0.6755961181605183, 0.37903712673606926, 0.5504114010316731, 0.37429026290122175, 0.496385323357798, 0.39196129947896174, 0.37924939647851275, 0.5853269475386425, 0.255262318179988, 0.6848665717060205, 0.30138798440552894, 0.5921036056828485, 0.6546765959275835, 0.27826561055984433, 0.22863031747535176, 0.27819431972682734, 0.5282928933268631, 0.29809156976279433, 0.2563069268808263, 0.41665888131670775, 0.4455425174190389, 0.34989910732345086, 0.5253094595573349, 0.2890501560457343, 0.4635251003659016, 0.24949786498487941, 0.3703191870359074, 0.3865878299278053, 0.5965633281022387, 0.29854842588276786, 0.36455184643516014, 0.4672057744440935, 0.28608381392909565, 0.660474617707548, 0.36995875605510714, 0.21945322556332392, 0.4129921812023513, 0.6380386723577989, 0.4061284989658414, 0.4925925715161546, 0.510103539110759, 0.3514833816962437, 0.33528637051815435, 0.33819533628154197, 0.5021063505252817, 0.2877435568473731, 0.5891480131841499, 0.5533526939783981, 0.34352733370154254, 0.3384086923052993, 0.22271800487470828]\n"
     ]
    },
    {
     "name": "stderr",
     "output_type": "stream",
     "text": [
      "/usr/local/lib/python3.8/dist-packages/sklearn/metrics/_classification.py:1248: UndefinedMetricWarning: Jaccard is ill-defined and being set to 0.0 due to no true or predicted samples. Use `zero_division` parameter to control this behavior.\n",
      "  _warn_prf(average, modifier, msg_start, len(result))\n",
      "/usr/local/lib/python3.8/dist-packages/sklearn/metrics/_classification.py:1248: UndefinedMetricWarning: Jaccard is ill-defined and being set to 0.0 due to no true or predicted samples. Use `zero_division` parameter to control this behavior.\n",
      "  _warn_prf(average, modifier, msg_start, len(result))\n",
      "/usr/local/lib/python3.8/dist-packages/sklearn/metrics/_classification.py:1248: UndefinedMetricWarning: Jaccard is ill-defined and being set to 0.0 due to no true or predicted samples. Use `zero_division` parameter to control this behavior.\n",
      "  _warn_prf(average, modifier, msg_start, len(result))\n",
      "/usr/local/lib/python3.8/dist-packages/sklearn/metrics/_classification.py:1248: UndefinedMetricWarning: Jaccard is ill-defined and being set to 0.0 due to no true or predicted samples. Use `zero_division` parameter to control this behavior.\n",
      "  _warn_prf(average, modifier, msg_start, len(result))\n",
      "/usr/local/lib/python3.8/dist-packages/sklearn/metrics/_classification.py:1248: UndefinedMetricWarning: Jaccard is ill-defined and being set to 0.0 due to no true or predicted samples. Use `zero_division` parameter to control this behavior.\n",
      "  _warn_prf(average, modifier, msg_start, len(result))\n",
      "/usr/local/lib/python3.8/dist-packages/sklearn/metrics/_classification.py:1248: UndefinedMetricWarning: Jaccard is ill-defined and being set to 0.0 due to no true or predicted samples. Use `zero_division` parameter to control this behavior.\n",
      "  _warn_prf(average, modifier, msg_start, len(result))\n",
      "/usr/local/lib/python3.8/dist-packages/sklearn/metrics/_classification.py:1248: UndefinedMetricWarning: Jaccard is ill-defined and being set to 0.0 due to no true or predicted samples. Use `zero_division` parameter to control this behavior.\n",
      "  _warn_prf(average, modifier, msg_start, len(result))\n",
      "/usr/local/lib/python3.8/dist-packages/sklearn/metrics/_classification.py:1248: UndefinedMetricWarning: Jaccard is ill-defined and being set to 0.0 due to no true or predicted samples. Use `zero_division` parameter to control this behavior.\n",
      "  _warn_prf(average, modifier, msg_start, len(result))\n",
      "/usr/local/lib/python3.8/dist-packages/sklearn/metrics/_classification.py:1248: UndefinedMetricWarning: Jaccard is ill-defined and being set to 0.0 due to no true or predicted samples. Use `zero_division` parameter to control this behavior.\n",
      "  _warn_prf(average, modifier, msg_start, len(result))\n",
      "/usr/local/lib/python3.8/dist-packages/sklearn/metrics/_classification.py:1248: UndefinedMetricWarning: Jaccard is ill-defined and being set to 0.0 due to no true or predicted samples. Use `zero_division` parameter to control this behavior.\n",
      "  _warn_prf(average, modifier, msg_start, len(result))\n",
      "/usr/local/lib/python3.8/dist-packages/sklearn/metrics/_classification.py:1248: UndefinedMetricWarning: Jaccard is ill-defined and being set to 0.0 due to no true or predicted samples. Use `zero_division` parameter to control this behavior.\n",
      "  _warn_prf(average, modifier, msg_start, len(result))\n",
      " 69%|████████████████████████████████████████████████████████████████████████████████████████████████████████████████████████                                                      | 69/100 [08:51<03:58,  7.70s/it]"
     ]
    },
    {
     "name": "stdout",
     "output_type": "stream",
     "text": [
      "mIOU given by: 0.5073600516432464\n",
      "[0.4800828259274245, 0.3141256294622326, 0.43314472897323886, 0.3108838838691709, 0.4217744661366317, 0.30750138626132656, 0.23392175229936546, 0.5477260303527688, 0.4806466370151126, 0.4273892546729509, 0.23403418107045632, 0.622984223580449, 0.28395898477729614, 0.5053798888534788, 0.36854260904913283, 0.23487570158381382, 0.2776467227756309, 0.6755961181605183, 0.37903712673606926, 0.5504114010316731, 0.37429026290122175, 0.496385323357798, 0.39196129947896174, 0.37924939647851275, 0.5853269475386425, 0.255262318179988, 0.6848665717060205, 0.30138798440552894, 0.5921036056828485, 0.6546765959275835, 0.27826561055984433, 0.22863031747535176, 0.27819431972682734, 0.5282928933268631, 0.29809156976279433, 0.2563069268808263, 0.41665888131670775, 0.4455425174190389, 0.34989910732345086, 0.5253094595573349, 0.2890501560457343, 0.4635251003659016, 0.24949786498487941, 0.3703191870359074, 0.3865878299278053, 0.5965633281022387, 0.29854842588276786, 0.36455184643516014, 0.4672057744440935, 0.28608381392909565, 0.660474617707548, 0.36995875605510714, 0.21945322556332392, 0.4129921812023513, 0.6380386723577989, 0.4061284989658414, 0.4925925715161546, 0.510103539110759, 0.3514833816962437, 0.33528637051815435, 0.33819533628154197, 0.5021063505252817, 0.2877435568473731, 0.5891480131841499, 0.5533526939783981, 0.34352733370154254, 0.3384086923052993, 0.22271800487470828, 0.5073600516432464]\n"
     ]
    },
    {
     "name": "stderr",
     "output_type": "stream",
     "text": [
      "/usr/local/lib/python3.8/dist-packages/sklearn/metrics/_classification.py:1248: UndefinedMetricWarning: Jaccard is ill-defined and being set to 0.0 due to no true or predicted samples. Use `zero_division` parameter to control this behavior.\n",
      "  _warn_prf(average, modifier, msg_start, len(result))\n",
      "/usr/local/lib/python3.8/dist-packages/sklearn/metrics/_classification.py:1248: UndefinedMetricWarning: Jaccard is ill-defined and being set to 0.0 due to no true or predicted samples. Use `zero_division` parameter to control this behavior.\n",
      "  _warn_prf(average, modifier, msg_start, len(result))\n",
      "/usr/local/lib/python3.8/dist-packages/sklearn/metrics/_classification.py:1248: UndefinedMetricWarning: Jaccard is ill-defined and being set to 0.0 due to no true or predicted samples. Use `zero_division` parameter to control this behavior.\n",
      "  _warn_prf(average, modifier, msg_start, len(result))\n",
      "/usr/local/lib/python3.8/dist-packages/sklearn/metrics/_classification.py:1248: UndefinedMetricWarning: Jaccard is ill-defined and being set to 0.0 due to no true or predicted samples. Use `zero_division` parameter to control this behavior.\n",
      "  _warn_prf(average, modifier, msg_start, len(result))\n",
      "/usr/local/lib/python3.8/dist-packages/sklearn/metrics/_classification.py:1248: UndefinedMetricWarning: Jaccard is ill-defined and being set to 0.0 due to no true or predicted samples. Use `zero_division` parameter to control this behavior.\n",
      "  _warn_prf(average, modifier, msg_start, len(result))\n",
      "/usr/local/lib/python3.8/dist-packages/sklearn/metrics/_classification.py:1248: UndefinedMetricWarning: Jaccard is ill-defined and being set to 0.0 due to no true or predicted samples. Use `zero_division` parameter to control this behavior.\n",
      "  _warn_prf(average, modifier, msg_start, len(result))\n",
      "/usr/local/lib/python3.8/dist-packages/sklearn/metrics/_classification.py:1248: UndefinedMetricWarning: Jaccard is ill-defined and being set to 0.0 due to no true or predicted samples. Use `zero_division` parameter to control this behavior.\n",
      "  _warn_prf(average, modifier, msg_start, len(result))\n",
      "/usr/local/lib/python3.8/dist-packages/sklearn/metrics/_classification.py:1248: UndefinedMetricWarning: Jaccard is ill-defined and being set to 0.0 due to no true or predicted samples. Use `zero_division` parameter to control this behavior.\n",
      "  _warn_prf(average, modifier, msg_start, len(result))\n",
      "/usr/local/lib/python3.8/dist-packages/sklearn/metrics/_classification.py:1248: UndefinedMetricWarning: Jaccard is ill-defined and being set to 0.0 due to no true or predicted samples. Use `zero_division` parameter to control this behavior.\n",
      "  _warn_prf(average, modifier, msg_start, len(result))\n",
      " 70%|█████████████████████████████████████████████████████████████████████████████████████████████████████████████████████████▊                                                    | 70/100 [08:58<03:41,  7.39s/it]"
     ]
    },
    {
     "name": "stdout",
     "output_type": "stream",
     "text": [
      "mIOU given by: 0.33488550937204525\n",
      "[0.4800828259274245, 0.3141256294622326, 0.43314472897323886, 0.3108838838691709, 0.4217744661366317, 0.30750138626132656, 0.23392175229936546, 0.5477260303527688, 0.4806466370151126, 0.4273892546729509, 0.23403418107045632, 0.622984223580449, 0.28395898477729614, 0.5053798888534788, 0.36854260904913283, 0.23487570158381382, 0.2776467227756309, 0.6755961181605183, 0.37903712673606926, 0.5504114010316731, 0.37429026290122175, 0.496385323357798, 0.39196129947896174, 0.37924939647851275, 0.5853269475386425, 0.255262318179988, 0.6848665717060205, 0.30138798440552894, 0.5921036056828485, 0.6546765959275835, 0.27826561055984433, 0.22863031747535176, 0.27819431972682734, 0.5282928933268631, 0.29809156976279433, 0.2563069268808263, 0.41665888131670775, 0.4455425174190389, 0.34989910732345086, 0.5253094595573349, 0.2890501560457343, 0.4635251003659016, 0.24949786498487941, 0.3703191870359074, 0.3865878299278053, 0.5965633281022387, 0.29854842588276786, 0.36455184643516014, 0.4672057744440935, 0.28608381392909565, 0.660474617707548, 0.36995875605510714, 0.21945322556332392, 0.4129921812023513, 0.6380386723577989, 0.4061284989658414, 0.4925925715161546, 0.510103539110759, 0.3514833816962437, 0.33528637051815435, 0.33819533628154197, 0.5021063505252817, 0.2877435568473731, 0.5891480131841499, 0.5533526939783981, 0.34352733370154254, 0.3384086923052993, 0.22271800487470828, 0.5073600516432464, 0.33488550937204525]\n"
     ]
    },
    {
     "name": "stderr",
     "output_type": "stream",
     "text": [
      "/usr/local/lib/python3.8/dist-packages/sklearn/metrics/_classification.py:1248: UndefinedMetricWarning: Jaccard is ill-defined and being set to 0.0 due to no true or predicted samples. Use `zero_division` parameter to control this behavior.\n",
      "  _warn_prf(average, modifier, msg_start, len(result))\n",
      "/usr/local/lib/python3.8/dist-packages/sklearn/metrics/_classification.py:1248: UndefinedMetricWarning: Jaccard is ill-defined and being set to 0.0 due to no true or predicted samples. Use `zero_division` parameter to control this behavior.\n",
      "  _warn_prf(average, modifier, msg_start, len(result))\n",
      "/usr/local/lib/python3.8/dist-packages/sklearn/metrics/_classification.py:1248: UndefinedMetricWarning: Jaccard is ill-defined and being set to 0.0 due to no true or predicted samples. Use `zero_division` parameter to control this behavior.\n",
      "  _warn_prf(average, modifier, msg_start, len(result))\n",
      "/usr/local/lib/python3.8/dist-packages/sklearn/metrics/_classification.py:1248: UndefinedMetricWarning: Jaccard is ill-defined and being set to 0.0 due to no true or predicted samples. Use `zero_division` parameter to control this behavior.\n",
      "  _warn_prf(average, modifier, msg_start, len(result))\n",
      "/usr/local/lib/python3.8/dist-packages/sklearn/metrics/_classification.py:1248: UndefinedMetricWarning: Jaccard is ill-defined and being set to 0.0 due to no true or predicted samples. Use `zero_division` parameter to control this behavior.\n",
      "  _warn_prf(average, modifier, msg_start, len(result))\n",
      "/usr/local/lib/python3.8/dist-packages/sklearn/metrics/_classification.py:1248: UndefinedMetricWarning: Jaccard is ill-defined and being set to 0.0 due to no true or predicted samples. Use `zero_division` parameter to control this behavior.\n",
      "  _warn_prf(average, modifier, msg_start, len(result))\n",
      "/usr/local/lib/python3.8/dist-packages/sklearn/metrics/_classification.py:1248: UndefinedMetricWarning: Jaccard is ill-defined and being set to 0.0 due to no true or predicted samples. Use `zero_division` parameter to control this behavior.\n",
      "  _warn_prf(average, modifier, msg_start, len(result))\n",
      "/usr/local/lib/python3.8/dist-packages/sklearn/metrics/_classification.py:1248: UndefinedMetricWarning: Jaccard is ill-defined and being set to 0.0 due to no true or predicted samples. Use `zero_division` parameter to control this behavior.\n",
      "  _warn_prf(average, modifier, msg_start, len(result))\n",
      "/usr/local/lib/python3.8/dist-packages/sklearn/metrics/_classification.py:1248: UndefinedMetricWarning: Jaccard is ill-defined and being set to 0.0 due to no true or predicted samples. Use `zero_division` parameter to control this behavior.\n",
      "  _warn_prf(average, modifier, msg_start, len(result))\n",
      "/usr/local/lib/python3.8/dist-packages/sklearn/metrics/_classification.py:1248: UndefinedMetricWarning: Jaccard is ill-defined and being set to 0.0 due to no true or predicted samples. Use `zero_division` parameter to control this behavior.\n",
      "  _warn_prf(average, modifier, msg_start, len(result))\n",
      " 71%|███████████████████████████████████████████████████████████████████████████████████████████████████████████████████████████▌                                                  | 71/100 [09:05<03:28,  7.19s/it]"
     ]
    },
    {
     "name": "stdout",
     "output_type": "stream",
     "text": [
      "mIOU given by: 0.31599287733920467\n",
      "[0.4800828259274245, 0.3141256294622326, 0.43314472897323886, 0.3108838838691709, 0.4217744661366317, 0.30750138626132656, 0.23392175229936546, 0.5477260303527688, 0.4806466370151126, 0.4273892546729509, 0.23403418107045632, 0.622984223580449, 0.28395898477729614, 0.5053798888534788, 0.36854260904913283, 0.23487570158381382, 0.2776467227756309, 0.6755961181605183, 0.37903712673606926, 0.5504114010316731, 0.37429026290122175, 0.496385323357798, 0.39196129947896174, 0.37924939647851275, 0.5853269475386425, 0.255262318179988, 0.6848665717060205, 0.30138798440552894, 0.5921036056828485, 0.6546765959275835, 0.27826561055984433, 0.22863031747535176, 0.27819431972682734, 0.5282928933268631, 0.29809156976279433, 0.2563069268808263, 0.41665888131670775, 0.4455425174190389, 0.34989910732345086, 0.5253094595573349, 0.2890501560457343, 0.4635251003659016, 0.24949786498487941, 0.3703191870359074, 0.3865878299278053, 0.5965633281022387, 0.29854842588276786, 0.36455184643516014, 0.4672057744440935, 0.28608381392909565, 0.660474617707548, 0.36995875605510714, 0.21945322556332392, 0.4129921812023513, 0.6380386723577989, 0.4061284989658414, 0.4925925715161546, 0.510103539110759, 0.3514833816962437, 0.33528637051815435, 0.33819533628154197, 0.5021063505252817, 0.2877435568473731, 0.5891480131841499, 0.5533526939783981, 0.34352733370154254, 0.3384086923052993, 0.22271800487470828, 0.5073600516432464, 0.33488550937204525, 0.31599287733920467]\n"
     ]
    },
    {
     "name": "stderr",
     "output_type": "stream",
     "text": [
      "/usr/local/lib/python3.8/dist-packages/sklearn/metrics/_classification.py:1248: UndefinedMetricWarning: Jaccard is ill-defined and being set to 0.0 due to no true or predicted samples. Use `zero_division` parameter to control this behavior.\n",
      "  _warn_prf(average, modifier, msg_start, len(result))\n",
      "/usr/local/lib/python3.8/dist-packages/sklearn/metrics/_classification.py:1248: UndefinedMetricWarning: Jaccard is ill-defined and being set to 0.0 due to no true or predicted samples. Use `zero_division` parameter to control this behavior.\n",
      "  _warn_prf(average, modifier, msg_start, len(result))\n",
      "/usr/local/lib/python3.8/dist-packages/sklearn/metrics/_classification.py:1248: UndefinedMetricWarning: Jaccard is ill-defined and being set to 0.0 due to no true or predicted samples. Use `zero_division` parameter to control this behavior.\n",
      "  _warn_prf(average, modifier, msg_start, len(result))\n",
      "/usr/local/lib/python3.8/dist-packages/sklearn/metrics/_classification.py:1248: UndefinedMetricWarning: Jaccard is ill-defined and being set to 0.0 due to no true or predicted samples. Use `zero_division` parameter to control this behavior.\n",
      "  _warn_prf(average, modifier, msg_start, len(result))\n",
      "/usr/local/lib/python3.8/dist-packages/sklearn/metrics/_classification.py:1248: UndefinedMetricWarning: Jaccard is ill-defined and being set to 0.0 due to no true or predicted samples. Use `zero_division` parameter to control this behavior.\n",
      "  _warn_prf(average, modifier, msg_start, len(result))\n",
      "/usr/local/lib/python3.8/dist-packages/sklearn/metrics/_classification.py:1248: UndefinedMetricWarning: Jaccard is ill-defined and being set to 0.0 due to no true or predicted samples. Use `zero_division` parameter to control this behavior.\n",
      "  _warn_prf(average, modifier, msg_start, len(result))\n",
      "/usr/local/lib/python3.8/dist-packages/sklearn/metrics/_classification.py:1248: UndefinedMetricWarning: Jaccard is ill-defined and being set to 0.0 due to no true or predicted samples. Use `zero_division` parameter to control this behavior.\n",
      "  _warn_prf(average, modifier, msg_start, len(result))\n",
      " 72%|█████████████████████████████████████████████████████████████████████████████████████████████████████████████████████████████▎                                                | 72/100 [09:11<03:16,  7.02s/it]"
     ]
    },
    {
     "name": "stdout",
     "output_type": "stream",
     "text": [
      "mIOU given by: 0.4427037114966608\n",
      "[0.4800828259274245, 0.3141256294622326, 0.43314472897323886, 0.3108838838691709, 0.4217744661366317, 0.30750138626132656, 0.23392175229936546, 0.5477260303527688, 0.4806466370151126, 0.4273892546729509, 0.23403418107045632, 0.622984223580449, 0.28395898477729614, 0.5053798888534788, 0.36854260904913283, 0.23487570158381382, 0.2776467227756309, 0.6755961181605183, 0.37903712673606926, 0.5504114010316731, 0.37429026290122175, 0.496385323357798, 0.39196129947896174, 0.37924939647851275, 0.5853269475386425, 0.255262318179988, 0.6848665717060205, 0.30138798440552894, 0.5921036056828485, 0.6546765959275835, 0.27826561055984433, 0.22863031747535176, 0.27819431972682734, 0.5282928933268631, 0.29809156976279433, 0.2563069268808263, 0.41665888131670775, 0.4455425174190389, 0.34989910732345086, 0.5253094595573349, 0.2890501560457343, 0.4635251003659016, 0.24949786498487941, 0.3703191870359074, 0.3865878299278053, 0.5965633281022387, 0.29854842588276786, 0.36455184643516014, 0.4672057744440935, 0.28608381392909565, 0.660474617707548, 0.36995875605510714, 0.21945322556332392, 0.4129921812023513, 0.6380386723577989, 0.4061284989658414, 0.4925925715161546, 0.510103539110759, 0.3514833816962437, 0.33528637051815435, 0.33819533628154197, 0.5021063505252817, 0.2877435568473731, 0.5891480131841499, 0.5533526939783981, 0.34352733370154254, 0.3384086923052993, 0.22271800487470828, 0.5073600516432464, 0.33488550937204525, 0.31599287733920467, 0.4427037114966608]\n"
     ]
    },
    {
     "name": "stderr",
     "output_type": "stream",
     "text": [
      "/usr/local/lib/python3.8/dist-packages/sklearn/metrics/_classification.py:1248: UndefinedMetricWarning: Jaccard is ill-defined and being set to 0.0 due to no true or predicted samples. Use `zero_division` parameter to control this behavior.\n",
      "  _warn_prf(average, modifier, msg_start, len(result))\n",
      "/usr/local/lib/python3.8/dist-packages/sklearn/metrics/_classification.py:1248: UndefinedMetricWarning: Jaccard is ill-defined and being set to 0.0 due to no true or predicted samples. Use `zero_division` parameter to control this behavior.\n",
      "  _warn_prf(average, modifier, msg_start, len(result))\n",
      "/usr/local/lib/python3.8/dist-packages/sklearn/metrics/_classification.py:1248: UndefinedMetricWarning: Jaccard is ill-defined and being set to 0.0 due to no true or predicted samples. Use `zero_division` parameter to control this behavior.\n",
      "  _warn_prf(average, modifier, msg_start, len(result))\n",
      "/usr/local/lib/python3.8/dist-packages/sklearn/metrics/_classification.py:1248: UndefinedMetricWarning: Jaccard is ill-defined and being set to 0.0 due to no true or predicted samples. Use `zero_division` parameter to control this behavior.\n",
      "  _warn_prf(average, modifier, msg_start, len(result))\n",
      "/usr/local/lib/python3.8/dist-packages/sklearn/metrics/_classification.py:1248: UndefinedMetricWarning: Jaccard is ill-defined and being set to 0.0 due to no true or predicted samples. Use `zero_division` parameter to control this behavior.\n",
      "  _warn_prf(average, modifier, msg_start, len(result))\n",
      "/usr/local/lib/python3.8/dist-packages/sklearn/metrics/_classification.py:1248: UndefinedMetricWarning: Jaccard is ill-defined and being set to 0.0 due to no true or predicted samples. Use `zero_division` parameter to control this behavior.\n",
      "  _warn_prf(average, modifier, msg_start, len(result))\n",
      "/usr/local/lib/python3.8/dist-packages/sklearn/metrics/_classification.py:1248: UndefinedMetricWarning: Jaccard is ill-defined and being set to 0.0 due to no true or predicted samples. Use `zero_division` parameter to control this behavior.\n",
      "  _warn_prf(average, modifier, msg_start, len(result))\n",
      "/usr/local/lib/python3.8/dist-packages/sklearn/metrics/_classification.py:1248: UndefinedMetricWarning: Jaccard is ill-defined and being set to 0.0 due to no true or predicted samples. Use `zero_division` parameter to control this behavior.\n",
      "  _warn_prf(average, modifier, msg_start, len(result))\n",
      "/usr/local/lib/python3.8/dist-packages/sklearn/metrics/_classification.py:1248: UndefinedMetricWarning: Jaccard is ill-defined and being set to 0.0 due to no true or predicted samples. Use `zero_division` parameter to control this behavior.\n",
      "  _warn_prf(average, modifier, msg_start, len(result))\n",
      "/usr/local/lib/python3.8/dist-packages/sklearn/metrics/_classification.py:1248: UndefinedMetricWarning: Jaccard is ill-defined and being set to 0.0 due to no true or predicted samples. Use `zero_division` parameter to control this behavior.\n",
      "  _warn_prf(average, modifier, msg_start, len(result))\n",
      "/usr/local/lib/python3.8/dist-packages/sklearn/metrics/_classification.py:1248: UndefinedMetricWarning: Jaccard is ill-defined and being set to 0.0 due to no true or predicted samples. Use `zero_division` parameter to control this behavior.\n",
      "  _warn_prf(average, modifier, msg_start, len(result))\n",
      " 73%|███████████████████████████████████████████████████████████████████████████████████████████████████████████████████████████████                                               | 73/100 [09:19<03:11,  7.08s/it]"
     ]
    },
    {
     "name": "stdout",
     "output_type": "stream",
     "text": [
      "mIOU given by: 0.4858685740850179\n",
      "[0.4800828259274245, 0.3141256294622326, 0.43314472897323886, 0.3108838838691709, 0.4217744661366317, 0.30750138626132656, 0.23392175229936546, 0.5477260303527688, 0.4806466370151126, 0.4273892546729509, 0.23403418107045632, 0.622984223580449, 0.28395898477729614, 0.5053798888534788, 0.36854260904913283, 0.23487570158381382, 0.2776467227756309, 0.6755961181605183, 0.37903712673606926, 0.5504114010316731, 0.37429026290122175, 0.496385323357798, 0.39196129947896174, 0.37924939647851275, 0.5853269475386425, 0.255262318179988, 0.6848665717060205, 0.30138798440552894, 0.5921036056828485, 0.6546765959275835, 0.27826561055984433, 0.22863031747535176, 0.27819431972682734, 0.5282928933268631, 0.29809156976279433, 0.2563069268808263, 0.41665888131670775, 0.4455425174190389, 0.34989910732345086, 0.5253094595573349, 0.2890501560457343, 0.4635251003659016, 0.24949786498487941, 0.3703191870359074, 0.3865878299278053, 0.5965633281022387, 0.29854842588276786, 0.36455184643516014, 0.4672057744440935, 0.28608381392909565, 0.660474617707548, 0.36995875605510714, 0.21945322556332392, 0.4129921812023513, 0.6380386723577989, 0.4061284989658414, 0.4925925715161546, 0.510103539110759, 0.3514833816962437, 0.33528637051815435, 0.33819533628154197, 0.5021063505252817, 0.2877435568473731, 0.5891480131841499, 0.5533526939783981, 0.34352733370154254, 0.3384086923052993, 0.22271800487470828, 0.5073600516432464, 0.33488550937204525, 0.31599287733920467, 0.4427037114966608, 0.4858685740850179]\n"
     ]
    },
    {
     "name": "stderr",
     "output_type": "stream",
     "text": [
      "/usr/local/lib/python3.8/dist-packages/sklearn/metrics/_classification.py:1248: UndefinedMetricWarning: Jaccard is ill-defined and being set to 0.0 due to no true or predicted samples. Use `zero_division` parameter to control this behavior.\n",
      "  _warn_prf(average, modifier, msg_start, len(result))\n",
      "/usr/local/lib/python3.8/dist-packages/sklearn/metrics/_classification.py:1248: UndefinedMetricWarning: Jaccard is ill-defined and being set to 0.0 due to no true or predicted samples. Use `zero_division` parameter to control this behavior.\n",
      "  _warn_prf(average, modifier, msg_start, len(result))\n",
      "/usr/local/lib/python3.8/dist-packages/sklearn/metrics/_classification.py:1248: UndefinedMetricWarning: Jaccard is ill-defined and being set to 0.0 due to no true or predicted samples. Use `zero_division` parameter to control this behavior.\n",
      "  _warn_prf(average, modifier, msg_start, len(result))\n",
      "/usr/local/lib/python3.8/dist-packages/sklearn/metrics/_classification.py:1248: UndefinedMetricWarning: Jaccard is ill-defined and being set to 0.0 due to no true or predicted samples. Use `zero_division` parameter to control this behavior.\n",
      "  _warn_prf(average, modifier, msg_start, len(result))\n",
      "/usr/local/lib/python3.8/dist-packages/sklearn/metrics/_classification.py:1248: UndefinedMetricWarning: Jaccard is ill-defined and being set to 0.0 due to no true or predicted samples. Use `zero_division` parameter to control this behavior.\n",
      "  _warn_prf(average, modifier, msg_start, len(result))\n",
      "/usr/local/lib/python3.8/dist-packages/sklearn/metrics/_classification.py:1248: UndefinedMetricWarning: Jaccard is ill-defined and being set to 0.0 due to no true or predicted samples. Use `zero_division` parameter to control this behavior.\n",
      "  _warn_prf(average, modifier, msg_start, len(result))\n",
      "/usr/local/lib/python3.8/dist-packages/sklearn/metrics/_classification.py:1248: UndefinedMetricWarning: Jaccard is ill-defined and being set to 0.0 due to no true or predicted samples. Use `zero_division` parameter to control this behavior.\n",
      "  _warn_prf(average, modifier, msg_start, len(result))\n",
      "/usr/local/lib/python3.8/dist-packages/sklearn/metrics/_classification.py:1248: UndefinedMetricWarning: Jaccard is ill-defined and being set to 0.0 due to no true or predicted samples. Use `zero_division` parameter to control this behavior.\n",
      "  _warn_prf(average, modifier, msg_start, len(result))\n",
      "/usr/local/lib/python3.8/dist-packages/sklearn/metrics/_classification.py:1248: UndefinedMetricWarning: Jaccard is ill-defined and being set to 0.0 due to no true or predicted samples. Use `zero_division` parameter to control this behavior.\n",
      "  _warn_prf(average, modifier, msg_start, len(result))\n",
      "/usr/local/lib/python3.8/dist-packages/sklearn/metrics/_classification.py:1248: UndefinedMetricWarning: Jaccard is ill-defined and being set to 0.0 due to no true or predicted samples. Use `zero_division` parameter to control this behavior.\n",
      "  _warn_prf(average, modifier, msg_start, len(result))\n",
      " 74%|████████████████████████████████████████████████████████████████████████████████████████████████████████████████████████████████▊                                             | 74/100 [09:25<03:00,  6.96s/it]"
     ]
    },
    {
     "name": "stdout",
     "output_type": "stream",
     "text": [
      "mIOU given by: 0.7067245979891372\n",
      "[0.4800828259274245, 0.3141256294622326, 0.43314472897323886, 0.3108838838691709, 0.4217744661366317, 0.30750138626132656, 0.23392175229936546, 0.5477260303527688, 0.4806466370151126, 0.4273892546729509, 0.23403418107045632, 0.622984223580449, 0.28395898477729614, 0.5053798888534788, 0.36854260904913283, 0.23487570158381382, 0.2776467227756309, 0.6755961181605183, 0.37903712673606926, 0.5504114010316731, 0.37429026290122175, 0.496385323357798, 0.39196129947896174, 0.37924939647851275, 0.5853269475386425, 0.255262318179988, 0.6848665717060205, 0.30138798440552894, 0.5921036056828485, 0.6546765959275835, 0.27826561055984433, 0.22863031747535176, 0.27819431972682734, 0.5282928933268631, 0.29809156976279433, 0.2563069268808263, 0.41665888131670775, 0.4455425174190389, 0.34989910732345086, 0.5253094595573349, 0.2890501560457343, 0.4635251003659016, 0.24949786498487941, 0.3703191870359074, 0.3865878299278053, 0.5965633281022387, 0.29854842588276786, 0.36455184643516014, 0.4672057744440935, 0.28608381392909565, 0.660474617707548, 0.36995875605510714, 0.21945322556332392, 0.4129921812023513, 0.6380386723577989, 0.4061284989658414, 0.4925925715161546, 0.510103539110759, 0.3514833816962437, 0.33528637051815435, 0.33819533628154197, 0.5021063505252817, 0.2877435568473731, 0.5891480131841499, 0.5533526939783981, 0.34352733370154254, 0.3384086923052993, 0.22271800487470828, 0.5073600516432464, 0.33488550937204525, 0.31599287733920467, 0.4427037114966608, 0.4858685740850179, 0.7067245979891372]\n"
     ]
    },
    {
     "name": "stderr",
     "output_type": "stream",
     "text": [
      "/usr/local/lib/python3.8/dist-packages/sklearn/metrics/_classification.py:1248: UndefinedMetricWarning: Jaccard is ill-defined and being set to 0.0 due to no true or predicted samples. Use `zero_division` parameter to control this behavior.\n",
      "  _warn_prf(average, modifier, msg_start, len(result))\n",
      "/usr/local/lib/python3.8/dist-packages/sklearn/metrics/_classification.py:1248: UndefinedMetricWarning: Jaccard is ill-defined and being set to 0.0 due to no true or predicted samples. Use `zero_division` parameter to control this behavior.\n",
      "  _warn_prf(average, modifier, msg_start, len(result))\n",
      "/usr/local/lib/python3.8/dist-packages/sklearn/metrics/_classification.py:1248: UndefinedMetricWarning: Jaccard is ill-defined and being set to 0.0 due to no true or predicted samples. Use `zero_division` parameter to control this behavior.\n",
      "  _warn_prf(average, modifier, msg_start, len(result))\n",
      "/usr/local/lib/python3.8/dist-packages/sklearn/metrics/_classification.py:1248: UndefinedMetricWarning: Jaccard is ill-defined and being set to 0.0 due to no true or predicted samples. Use `zero_division` parameter to control this behavior.\n",
      "  _warn_prf(average, modifier, msg_start, len(result))\n",
      "/usr/local/lib/python3.8/dist-packages/sklearn/metrics/_classification.py:1248: UndefinedMetricWarning: Jaccard is ill-defined and being set to 0.0 due to no true or predicted samples. Use `zero_division` parameter to control this behavior.\n",
      "  _warn_prf(average, modifier, msg_start, len(result))\n",
      "/usr/local/lib/python3.8/dist-packages/sklearn/metrics/_classification.py:1248: UndefinedMetricWarning: Jaccard is ill-defined and being set to 0.0 due to no true or predicted samples. Use `zero_division` parameter to control this behavior.\n",
      "  _warn_prf(average, modifier, msg_start, len(result))\n",
      "/usr/local/lib/python3.8/dist-packages/sklearn/metrics/_classification.py:1248: UndefinedMetricWarning: Jaccard is ill-defined and being set to 0.0 due to no true or predicted samples. Use `zero_division` parameter to control this behavior.\n",
      "  _warn_prf(average, modifier, msg_start, len(result))\n",
      "/usr/local/lib/python3.8/dist-packages/sklearn/metrics/_classification.py:1248: UndefinedMetricWarning: Jaccard is ill-defined and being set to 0.0 due to no true or predicted samples. Use `zero_division` parameter to control this behavior.\n",
      "  _warn_prf(average, modifier, msg_start, len(result))\n",
      "/usr/local/lib/python3.8/dist-packages/sklearn/metrics/_classification.py:1248: UndefinedMetricWarning: Jaccard is ill-defined and being set to 0.0 due to no true or predicted samples. Use `zero_division` parameter to control this behavior.\n",
      "  _warn_prf(average, modifier, msg_start, len(result))\n",
      "/usr/local/lib/python3.8/dist-packages/sklearn/metrics/_classification.py:1248: UndefinedMetricWarning: Jaccard is ill-defined and being set to 0.0 due to no true or predicted samples. Use `zero_division` parameter to control this behavior.\n",
      "  _warn_prf(average, modifier, msg_start, len(result))\n",
      "/usr/local/lib/python3.8/dist-packages/sklearn/metrics/_classification.py:1248: UndefinedMetricWarning: Jaccard is ill-defined and being set to 0.0 due to no true or predicted samples. Use `zero_division` parameter to control this behavior.\n",
      "  _warn_prf(average, modifier, msg_start, len(result))\n",
      "/usr/local/lib/python3.8/dist-packages/sklearn/metrics/_classification.py:1248: UndefinedMetricWarning: Jaccard is ill-defined and being set to 0.0 due to no true or predicted samples. Use `zero_division` parameter to control this behavior.\n",
      "  _warn_prf(average, modifier, msg_start, len(result))\n",
      "/usr/local/lib/python3.8/dist-packages/sklearn/metrics/_classification.py:1248: UndefinedMetricWarning: Jaccard is ill-defined and being set to 0.0 due to no true or predicted samples. Use `zero_division` parameter to control this behavior.\n",
      "  _warn_prf(average, modifier, msg_start, len(result))\n",
      " 75%|██████████████████████████████████████████████████████████████████████████████████████████████████████████████████████████████████▌                                           | 75/100 [09:33<02:56,  7.05s/it]"
     ]
    },
    {
     "name": "stdout",
     "output_type": "stream",
     "text": [
      "mIOU given by: 0.4690826399445896\n",
      "[0.4800828259274245, 0.3141256294622326, 0.43314472897323886, 0.3108838838691709, 0.4217744661366317, 0.30750138626132656, 0.23392175229936546, 0.5477260303527688, 0.4806466370151126, 0.4273892546729509, 0.23403418107045632, 0.622984223580449, 0.28395898477729614, 0.5053798888534788, 0.36854260904913283, 0.23487570158381382, 0.2776467227756309, 0.6755961181605183, 0.37903712673606926, 0.5504114010316731, 0.37429026290122175, 0.496385323357798, 0.39196129947896174, 0.37924939647851275, 0.5853269475386425, 0.255262318179988, 0.6848665717060205, 0.30138798440552894, 0.5921036056828485, 0.6546765959275835, 0.27826561055984433, 0.22863031747535176, 0.27819431972682734, 0.5282928933268631, 0.29809156976279433, 0.2563069268808263, 0.41665888131670775, 0.4455425174190389, 0.34989910732345086, 0.5253094595573349, 0.2890501560457343, 0.4635251003659016, 0.24949786498487941, 0.3703191870359074, 0.3865878299278053, 0.5965633281022387, 0.29854842588276786, 0.36455184643516014, 0.4672057744440935, 0.28608381392909565, 0.660474617707548, 0.36995875605510714, 0.21945322556332392, 0.4129921812023513, 0.6380386723577989, 0.4061284989658414, 0.4925925715161546, 0.510103539110759, 0.3514833816962437, 0.33528637051815435, 0.33819533628154197, 0.5021063505252817, 0.2877435568473731, 0.5891480131841499, 0.5533526939783981, 0.34352733370154254, 0.3384086923052993, 0.22271800487470828, 0.5073600516432464, 0.33488550937204525, 0.31599287733920467, 0.4427037114966608, 0.4858685740850179, 0.7067245979891372, 0.4690826399445896]\n"
     ]
    },
    {
     "name": "stderr",
     "output_type": "stream",
     "text": [
      "/usr/local/lib/python3.8/dist-packages/sklearn/metrics/_classification.py:1248: UndefinedMetricWarning: Jaccard is ill-defined and being set to 0.0 due to no true or predicted samples. Use `zero_division` parameter to control this behavior.\n",
      "  _warn_prf(average, modifier, msg_start, len(result))\n",
      "/usr/local/lib/python3.8/dist-packages/sklearn/metrics/_classification.py:1248: UndefinedMetricWarning: Jaccard is ill-defined and being set to 0.0 due to no true or predicted samples. Use `zero_division` parameter to control this behavior.\n",
      "  _warn_prf(average, modifier, msg_start, len(result))\n",
      "/usr/local/lib/python3.8/dist-packages/sklearn/metrics/_classification.py:1248: UndefinedMetricWarning: Jaccard is ill-defined and being set to 0.0 due to no true or predicted samples. Use `zero_division` parameter to control this behavior.\n",
      "  _warn_prf(average, modifier, msg_start, len(result))\n",
      "/usr/local/lib/python3.8/dist-packages/sklearn/metrics/_classification.py:1248: UndefinedMetricWarning: Jaccard is ill-defined and being set to 0.0 due to no true or predicted samples. Use `zero_division` parameter to control this behavior.\n",
      "  _warn_prf(average, modifier, msg_start, len(result))\n",
      "/usr/local/lib/python3.8/dist-packages/sklearn/metrics/_classification.py:1248: UndefinedMetricWarning: Jaccard is ill-defined and being set to 0.0 due to no true or predicted samples. Use `zero_division` parameter to control this behavior.\n",
      "  _warn_prf(average, modifier, msg_start, len(result))\n",
      "/usr/local/lib/python3.8/dist-packages/sklearn/metrics/_classification.py:1248: UndefinedMetricWarning: Jaccard is ill-defined and being set to 0.0 due to no true or predicted samples. Use `zero_division` parameter to control this behavior.\n",
      "  _warn_prf(average, modifier, msg_start, len(result))\n",
      "/usr/local/lib/python3.8/dist-packages/sklearn/metrics/_classification.py:1248: UndefinedMetricWarning: Jaccard is ill-defined and being set to 0.0 due to no true or predicted samples. Use `zero_division` parameter to control this behavior.\n",
      "  _warn_prf(average, modifier, msg_start, len(result))\n",
      "/usr/local/lib/python3.8/dist-packages/sklearn/metrics/_classification.py:1248: UndefinedMetricWarning: Jaccard is ill-defined and being set to 0.0 due to no true or predicted samples. Use `zero_division` parameter to control this behavior.\n",
      "  _warn_prf(average, modifier, msg_start, len(result))\n",
      "/usr/local/lib/python3.8/dist-packages/sklearn/metrics/_classification.py:1248: UndefinedMetricWarning: Jaccard is ill-defined and being set to 0.0 due to no true or predicted samples. Use `zero_division` parameter to control this behavior.\n",
      "  _warn_prf(average, modifier, msg_start, len(result))\n",
      "/usr/local/lib/python3.8/dist-packages/sklearn/metrics/_classification.py:1248: UndefinedMetricWarning: Jaccard is ill-defined and being set to 0.0 due to no true or predicted samples. Use `zero_division` parameter to control this behavior.\n",
      "  _warn_prf(average, modifier, msg_start, len(result))\n",
      "/usr/local/lib/python3.8/dist-packages/sklearn/metrics/_classification.py:1248: UndefinedMetricWarning: Jaccard is ill-defined and being set to 0.0 due to no true or predicted samples. Use `zero_division` parameter to control this behavior.\n",
      "  _warn_prf(average, modifier, msg_start, len(result))\n",
      "/usr/local/lib/python3.8/dist-packages/sklearn/metrics/_classification.py:1248: UndefinedMetricWarning: Jaccard is ill-defined and being set to 0.0 due to no true or predicted samples. Use `zero_division` parameter to control this behavior.\n",
      "  _warn_prf(average, modifier, msg_start, len(result))\n",
      " 76%|████████████████████████████████████████████████████████████████████████████████████████████████████████████████████████████████████▏                                         | 76/100 [09:40<02:55,  7.29s/it]"
     ]
    },
    {
     "name": "stdout",
     "output_type": "stream",
     "text": [
      "mIOU given by: 0.6355670688173295\n",
      "[0.4800828259274245, 0.3141256294622326, 0.43314472897323886, 0.3108838838691709, 0.4217744661366317, 0.30750138626132656, 0.23392175229936546, 0.5477260303527688, 0.4806466370151126, 0.4273892546729509, 0.23403418107045632, 0.622984223580449, 0.28395898477729614, 0.5053798888534788, 0.36854260904913283, 0.23487570158381382, 0.2776467227756309, 0.6755961181605183, 0.37903712673606926, 0.5504114010316731, 0.37429026290122175, 0.496385323357798, 0.39196129947896174, 0.37924939647851275, 0.5853269475386425, 0.255262318179988, 0.6848665717060205, 0.30138798440552894, 0.5921036056828485, 0.6546765959275835, 0.27826561055984433, 0.22863031747535176, 0.27819431972682734, 0.5282928933268631, 0.29809156976279433, 0.2563069268808263, 0.41665888131670775, 0.4455425174190389, 0.34989910732345086, 0.5253094595573349, 0.2890501560457343, 0.4635251003659016, 0.24949786498487941, 0.3703191870359074, 0.3865878299278053, 0.5965633281022387, 0.29854842588276786, 0.36455184643516014, 0.4672057744440935, 0.28608381392909565, 0.660474617707548, 0.36995875605510714, 0.21945322556332392, 0.4129921812023513, 0.6380386723577989, 0.4061284989658414, 0.4925925715161546, 0.510103539110759, 0.3514833816962437, 0.33528637051815435, 0.33819533628154197, 0.5021063505252817, 0.2877435568473731, 0.5891480131841499, 0.5533526939783981, 0.34352733370154254, 0.3384086923052993, 0.22271800487470828, 0.5073600516432464, 0.33488550937204525, 0.31599287733920467, 0.4427037114966608, 0.4858685740850179, 0.7067245979891372, 0.4690826399445896, 0.6355670688173295]\n"
     ]
    },
    {
     "name": "stderr",
     "output_type": "stream",
     "text": [
      "/usr/local/lib/python3.8/dist-packages/sklearn/metrics/_classification.py:1248: UndefinedMetricWarning: Jaccard is ill-defined and being set to 0.0 due to no true or predicted samples. Use `zero_division` parameter to control this behavior.\n",
      "  _warn_prf(average, modifier, msg_start, len(result))\n",
      "/usr/local/lib/python3.8/dist-packages/sklearn/metrics/_classification.py:1248: UndefinedMetricWarning: Jaccard is ill-defined and being set to 0.0 due to no true or predicted samples. Use `zero_division` parameter to control this behavior.\n",
      "  _warn_prf(average, modifier, msg_start, len(result))\n",
      "/usr/local/lib/python3.8/dist-packages/sklearn/metrics/_classification.py:1248: UndefinedMetricWarning: Jaccard is ill-defined and being set to 0.0 due to no true or predicted samples. Use `zero_division` parameter to control this behavior.\n",
      "  _warn_prf(average, modifier, msg_start, len(result))\n",
      "/usr/local/lib/python3.8/dist-packages/sklearn/metrics/_classification.py:1248: UndefinedMetricWarning: Jaccard is ill-defined and being set to 0.0 due to no true or predicted samples. Use `zero_division` parameter to control this behavior.\n",
      "  _warn_prf(average, modifier, msg_start, len(result))\n",
      "/usr/local/lib/python3.8/dist-packages/sklearn/metrics/_classification.py:1248: UndefinedMetricWarning: Jaccard is ill-defined and being set to 0.0 due to no true or predicted samples. Use `zero_division` parameter to control this behavior.\n",
      "  _warn_prf(average, modifier, msg_start, len(result))\n",
      "/usr/local/lib/python3.8/dist-packages/sklearn/metrics/_classification.py:1248: UndefinedMetricWarning: Jaccard is ill-defined and being set to 0.0 due to no true or predicted samples. Use `zero_division` parameter to control this behavior.\n",
      "  _warn_prf(average, modifier, msg_start, len(result))\n",
      "/usr/local/lib/python3.8/dist-packages/sklearn/metrics/_classification.py:1248: UndefinedMetricWarning: Jaccard is ill-defined and being set to 0.0 due to no true or predicted samples. Use `zero_division` parameter to control this behavior.\n",
      "  _warn_prf(average, modifier, msg_start, len(result))\n",
      " 77%|█████████████████████████████████████████████████████████████████████████████████████████████████████████████████████████████████████▉                                        | 77/100 [09:51<03:09,  8.25s/it]"
     ]
    },
    {
     "name": "stdout",
     "output_type": "stream",
     "text": [
      "mIOU given by: 0.18795980837983148\n",
      "[0.4800828259274245, 0.3141256294622326, 0.43314472897323886, 0.3108838838691709, 0.4217744661366317, 0.30750138626132656, 0.23392175229936546, 0.5477260303527688, 0.4806466370151126, 0.4273892546729509, 0.23403418107045632, 0.622984223580449, 0.28395898477729614, 0.5053798888534788, 0.36854260904913283, 0.23487570158381382, 0.2776467227756309, 0.6755961181605183, 0.37903712673606926, 0.5504114010316731, 0.37429026290122175, 0.496385323357798, 0.39196129947896174, 0.37924939647851275, 0.5853269475386425, 0.255262318179988, 0.6848665717060205, 0.30138798440552894, 0.5921036056828485, 0.6546765959275835, 0.27826561055984433, 0.22863031747535176, 0.27819431972682734, 0.5282928933268631, 0.29809156976279433, 0.2563069268808263, 0.41665888131670775, 0.4455425174190389, 0.34989910732345086, 0.5253094595573349, 0.2890501560457343, 0.4635251003659016, 0.24949786498487941, 0.3703191870359074, 0.3865878299278053, 0.5965633281022387, 0.29854842588276786, 0.36455184643516014, 0.4672057744440935, 0.28608381392909565, 0.660474617707548, 0.36995875605510714, 0.21945322556332392, 0.4129921812023513, 0.6380386723577989, 0.4061284989658414, 0.4925925715161546, 0.510103539110759, 0.3514833816962437, 0.33528637051815435, 0.33819533628154197, 0.5021063505252817, 0.2877435568473731, 0.5891480131841499, 0.5533526939783981, 0.34352733370154254, 0.3384086923052993, 0.22271800487470828, 0.5073600516432464, 0.33488550937204525, 0.31599287733920467, 0.4427037114966608, 0.4858685740850179, 0.7067245979891372, 0.4690826399445896, 0.6355670688173295, 0.18795980837983148]\n"
     ]
    },
    {
     "name": "stderr",
     "output_type": "stream",
     "text": [
      "/usr/local/lib/python3.8/dist-packages/sklearn/metrics/_classification.py:1248: UndefinedMetricWarning: Jaccard is ill-defined and being set to 0.0 due to no true or predicted samples. Use `zero_division` parameter to control this behavior.\n",
      "  _warn_prf(average, modifier, msg_start, len(result))\n",
      "/usr/local/lib/python3.8/dist-packages/sklearn/metrics/_classification.py:1248: UndefinedMetricWarning: Jaccard is ill-defined and being set to 0.0 due to no true or predicted samples. Use `zero_division` parameter to control this behavior.\n",
      "  _warn_prf(average, modifier, msg_start, len(result))\n",
      "/usr/local/lib/python3.8/dist-packages/sklearn/metrics/_classification.py:1248: UndefinedMetricWarning: Jaccard is ill-defined and being set to 0.0 due to no true or predicted samples. Use `zero_division` parameter to control this behavior.\n",
      "  _warn_prf(average, modifier, msg_start, len(result))\n",
      "/usr/local/lib/python3.8/dist-packages/sklearn/metrics/_classification.py:1248: UndefinedMetricWarning: Jaccard is ill-defined and being set to 0.0 due to no true or predicted samples. Use `zero_division` parameter to control this behavior.\n",
      "  _warn_prf(average, modifier, msg_start, len(result))\n",
      "/usr/local/lib/python3.8/dist-packages/sklearn/metrics/_classification.py:1248: UndefinedMetricWarning: Jaccard is ill-defined and being set to 0.0 due to no true or predicted samples. Use `zero_division` parameter to control this behavior.\n",
      "  _warn_prf(average, modifier, msg_start, len(result))\n",
      "/usr/local/lib/python3.8/dist-packages/sklearn/metrics/_classification.py:1248: UndefinedMetricWarning: Jaccard is ill-defined and being set to 0.0 due to no true or predicted samples. Use `zero_division` parameter to control this behavior.\n",
      "  _warn_prf(average, modifier, msg_start, len(result))\n",
      "/usr/local/lib/python3.8/dist-packages/sklearn/metrics/_classification.py:1248: UndefinedMetricWarning: Jaccard is ill-defined and being set to 0.0 due to no true or predicted samples. Use `zero_division` parameter to control this behavior.\n",
      "  _warn_prf(average, modifier, msg_start, len(result))\n",
      "/usr/local/lib/python3.8/dist-packages/sklearn/metrics/_classification.py:1248: UndefinedMetricWarning: Jaccard is ill-defined and being set to 0.0 due to no true or predicted samples. Use `zero_division` parameter to control this behavior.\n",
      "  _warn_prf(average, modifier, msg_start, len(result))\n",
      "/usr/local/lib/python3.8/dist-packages/sklearn/metrics/_classification.py:1248: UndefinedMetricWarning: Jaccard is ill-defined and being set to 0.0 due to no true or predicted samples. Use `zero_division` parameter to control this behavior.\n",
      "  _warn_prf(average, modifier, msg_start, len(result))\n",
      "/usr/local/lib/python3.8/dist-packages/sklearn/metrics/_classification.py:1248: UndefinedMetricWarning: Jaccard is ill-defined and being set to 0.0 due to no true or predicted samples. Use `zero_division` parameter to control this behavior.\n",
      "  _warn_prf(average, modifier, msg_start, len(result))\n",
      "/usr/local/lib/python3.8/dist-packages/sklearn/metrics/_classification.py:1248: UndefinedMetricWarning: Jaccard is ill-defined and being set to 0.0 due to no true or predicted samples. Use `zero_division` parameter to control this behavior.\n",
      "  _warn_prf(average, modifier, msg_start, len(result))\n",
      "/usr/local/lib/python3.8/dist-packages/sklearn/metrics/_classification.py:1248: UndefinedMetricWarning: Jaccard is ill-defined and being set to 0.0 due to no true or predicted samples. Use `zero_division` parameter to control this behavior.\n",
      "  _warn_prf(average, modifier, msg_start, len(result))\n",
      " 78%|███████████████████████████████████████████████████████████████████████████████████████████████████████████████████████████████████████▋                                      | 78/100 [10:01<03:12,  8.77s/it]"
     ]
    },
    {
     "name": "stdout",
     "output_type": "stream",
     "text": [
      "mIOU given by: 0.6419685226000515\n",
      "[0.4800828259274245, 0.3141256294622326, 0.43314472897323886, 0.3108838838691709, 0.4217744661366317, 0.30750138626132656, 0.23392175229936546, 0.5477260303527688, 0.4806466370151126, 0.4273892546729509, 0.23403418107045632, 0.622984223580449, 0.28395898477729614, 0.5053798888534788, 0.36854260904913283, 0.23487570158381382, 0.2776467227756309, 0.6755961181605183, 0.37903712673606926, 0.5504114010316731, 0.37429026290122175, 0.496385323357798, 0.39196129947896174, 0.37924939647851275, 0.5853269475386425, 0.255262318179988, 0.6848665717060205, 0.30138798440552894, 0.5921036056828485, 0.6546765959275835, 0.27826561055984433, 0.22863031747535176, 0.27819431972682734, 0.5282928933268631, 0.29809156976279433, 0.2563069268808263, 0.41665888131670775, 0.4455425174190389, 0.34989910732345086, 0.5253094595573349, 0.2890501560457343, 0.4635251003659016, 0.24949786498487941, 0.3703191870359074, 0.3865878299278053, 0.5965633281022387, 0.29854842588276786, 0.36455184643516014, 0.4672057744440935, 0.28608381392909565, 0.660474617707548, 0.36995875605510714, 0.21945322556332392, 0.4129921812023513, 0.6380386723577989, 0.4061284989658414, 0.4925925715161546, 0.510103539110759, 0.3514833816962437, 0.33528637051815435, 0.33819533628154197, 0.5021063505252817, 0.2877435568473731, 0.5891480131841499, 0.5533526939783981, 0.34352733370154254, 0.3384086923052993, 0.22271800487470828, 0.5073600516432464, 0.33488550937204525, 0.31599287733920467, 0.4427037114966608, 0.4858685740850179, 0.7067245979891372, 0.4690826399445896, 0.6355670688173295, 0.18795980837983148, 0.6419685226000515]\n"
     ]
    },
    {
     "name": "stderr",
     "output_type": "stream",
     "text": [
      "/usr/local/lib/python3.8/dist-packages/sklearn/metrics/_classification.py:1248: UndefinedMetricWarning: Jaccard is ill-defined and being set to 0.0 due to no true or predicted samples. Use `zero_division` parameter to control this behavior.\n",
      "  _warn_prf(average, modifier, msg_start, len(result))\n",
      "/usr/local/lib/python3.8/dist-packages/sklearn/metrics/_classification.py:1248: UndefinedMetricWarning: Jaccard is ill-defined and being set to 0.0 due to no true or predicted samples. Use `zero_division` parameter to control this behavior.\n",
      "  _warn_prf(average, modifier, msg_start, len(result))\n",
      "/usr/local/lib/python3.8/dist-packages/sklearn/metrics/_classification.py:1248: UndefinedMetricWarning: Jaccard is ill-defined and being set to 0.0 due to no true or predicted samples. Use `zero_division` parameter to control this behavior.\n",
      "  _warn_prf(average, modifier, msg_start, len(result))\n",
      "/usr/local/lib/python3.8/dist-packages/sklearn/metrics/_classification.py:1248: UndefinedMetricWarning: Jaccard is ill-defined and being set to 0.0 due to no true or predicted samples. Use `zero_division` parameter to control this behavior.\n",
      "  _warn_prf(average, modifier, msg_start, len(result))\n",
      "/usr/local/lib/python3.8/dist-packages/sklearn/metrics/_classification.py:1248: UndefinedMetricWarning: Jaccard is ill-defined and being set to 0.0 due to no true or predicted samples. Use `zero_division` parameter to control this behavior.\n",
      "  _warn_prf(average, modifier, msg_start, len(result))\n",
      "/usr/local/lib/python3.8/dist-packages/sklearn/metrics/_classification.py:1248: UndefinedMetricWarning: Jaccard is ill-defined and being set to 0.0 due to no true or predicted samples. Use `zero_division` parameter to control this behavior.\n",
      "  _warn_prf(average, modifier, msg_start, len(result))\n",
      "/usr/local/lib/python3.8/dist-packages/sklearn/metrics/_classification.py:1248: UndefinedMetricWarning: Jaccard is ill-defined and being set to 0.0 due to no true or predicted samples. Use `zero_division` parameter to control this behavior.\n",
      "  _warn_prf(average, modifier, msg_start, len(result))\n",
      "/usr/local/lib/python3.8/dist-packages/sklearn/metrics/_classification.py:1248: UndefinedMetricWarning: Jaccard is ill-defined and being set to 0.0 due to no true or predicted samples. Use `zero_division` parameter to control this behavior.\n",
      "  _warn_prf(average, modifier, msg_start, len(result))\n",
      "/usr/local/lib/python3.8/dist-packages/sklearn/metrics/_classification.py:1248: UndefinedMetricWarning: Jaccard is ill-defined and being set to 0.0 due to no true or predicted samples. Use `zero_division` parameter to control this behavior.\n",
      "  _warn_prf(average, modifier, msg_start, len(result))\n",
      " 79%|█████████████████████████████████████████████████████████████████████████████████████████████████████████████████████████████████████████▍                                    | 79/100 [10:08<02:56,  8.39s/it]"
     ]
    },
    {
     "name": "stdout",
     "output_type": "stream",
     "text": [
      "mIOU given by: 0.30466211400702536\n",
      "[0.4800828259274245, 0.3141256294622326, 0.43314472897323886, 0.3108838838691709, 0.4217744661366317, 0.30750138626132656, 0.23392175229936546, 0.5477260303527688, 0.4806466370151126, 0.4273892546729509, 0.23403418107045632, 0.622984223580449, 0.28395898477729614, 0.5053798888534788, 0.36854260904913283, 0.23487570158381382, 0.2776467227756309, 0.6755961181605183, 0.37903712673606926, 0.5504114010316731, 0.37429026290122175, 0.496385323357798, 0.39196129947896174, 0.37924939647851275, 0.5853269475386425, 0.255262318179988, 0.6848665717060205, 0.30138798440552894, 0.5921036056828485, 0.6546765959275835, 0.27826561055984433, 0.22863031747535176, 0.27819431972682734, 0.5282928933268631, 0.29809156976279433, 0.2563069268808263, 0.41665888131670775, 0.4455425174190389, 0.34989910732345086, 0.5253094595573349, 0.2890501560457343, 0.4635251003659016, 0.24949786498487941, 0.3703191870359074, 0.3865878299278053, 0.5965633281022387, 0.29854842588276786, 0.36455184643516014, 0.4672057744440935, 0.28608381392909565, 0.660474617707548, 0.36995875605510714, 0.21945322556332392, 0.4129921812023513, 0.6380386723577989, 0.4061284989658414, 0.4925925715161546, 0.510103539110759, 0.3514833816962437, 0.33528637051815435, 0.33819533628154197, 0.5021063505252817, 0.2877435568473731, 0.5891480131841499, 0.5533526939783981, 0.34352733370154254, 0.3384086923052993, 0.22271800487470828, 0.5073600516432464, 0.33488550937204525, 0.31599287733920467, 0.4427037114966608, 0.4858685740850179, 0.7067245979891372, 0.4690826399445896, 0.6355670688173295, 0.18795980837983148, 0.6419685226000515, 0.30466211400702536]\n"
     ]
    },
    {
     "name": "stderr",
     "output_type": "stream",
     "text": [
      "/usr/local/lib/python3.8/dist-packages/sklearn/metrics/_classification.py:1248: UndefinedMetricWarning: Jaccard is ill-defined and being set to 0.0 due to no true or predicted samples. Use `zero_division` parameter to control this behavior.\n",
      "  _warn_prf(average, modifier, msg_start, len(result))\n",
      "/usr/local/lib/python3.8/dist-packages/sklearn/metrics/_classification.py:1248: UndefinedMetricWarning: Jaccard is ill-defined and being set to 0.0 due to no true or predicted samples. Use `zero_division` parameter to control this behavior.\n",
      "  _warn_prf(average, modifier, msg_start, len(result))\n",
      "/usr/local/lib/python3.8/dist-packages/sklearn/metrics/_classification.py:1248: UndefinedMetricWarning: Jaccard is ill-defined and being set to 0.0 due to no true or predicted samples. Use `zero_division` parameter to control this behavior.\n",
      "  _warn_prf(average, modifier, msg_start, len(result))\n",
      "/usr/local/lib/python3.8/dist-packages/sklearn/metrics/_classification.py:1248: UndefinedMetricWarning: Jaccard is ill-defined and being set to 0.0 due to no true or predicted samples. Use `zero_division` parameter to control this behavior.\n",
      "  _warn_prf(average, modifier, msg_start, len(result))\n",
      "/usr/local/lib/python3.8/dist-packages/sklearn/metrics/_classification.py:1248: UndefinedMetricWarning: Jaccard is ill-defined and being set to 0.0 due to no true or predicted samples. Use `zero_division` parameter to control this behavior.\n",
      "  _warn_prf(average, modifier, msg_start, len(result))\n",
      "/usr/local/lib/python3.8/dist-packages/sklearn/metrics/_classification.py:1248: UndefinedMetricWarning: Jaccard is ill-defined and being set to 0.0 due to no true or predicted samples. Use `zero_division` parameter to control this behavior.\n",
      "  _warn_prf(average, modifier, msg_start, len(result))\n",
      "/usr/local/lib/python3.8/dist-packages/sklearn/metrics/_classification.py:1248: UndefinedMetricWarning: Jaccard is ill-defined and being set to 0.0 due to no true or predicted samples. Use `zero_division` parameter to control this behavior.\n",
      "  _warn_prf(average, modifier, msg_start, len(result))\n",
      " 80%|███████████████████████████████████████████████████████████████████████████████████████████████████████████████████████████████████████████▏                                  | 80/100 [10:18<02:52,  8.61s/it]"
     ]
    },
    {
     "name": "stdout",
     "output_type": "stream",
     "text": [
      "mIOU given by: 0.6197089997148911\n",
      "[0.4800828259274245, 0.3141256294622326, 0.43314472897323886, 0.3108838838691709, 0.4217744661366317, 0.30750138626132656, 0.23392175229936546, 0.5477260303527688, 0.4806466370151126, 0.4273892546729509, 0.23403418107045632, 0.622984223580449, 0.28395898477729614, 0.5053798888534788, 0.36854260904913283, 0.23487570158381382, 0.2776467227756309, 0.6755961181605183, 0.37903712673606926, 0.5504114010316731, 0.37429026290122175, 0.496385323357798, 0.39196129947896174, 0.37924939647851275, 0.5853269475386425, 0.255262318179988, 0.6848665717060205, 0.30138798440552894, 0.5921036056828485, 0.6546765959275835, 0.27826561055984433, 0.22863031747535176, 0.27819431972682734, 0.5282928933268631, 0.29809156976279433, 0.2563069268808263, 0.41665888131670775, 0.4455425174190389, 0.34989910732345086, 0.5253094595573349, 0.2890501560457343, 0.4635251003659016, 0.24949786498487941, 0.3703191870359074, 0.3865878299278053, 0.5965633281022387, 0.29854842588276786, 0.36455184643516014, 0.4672057744440935, 0.28608381392909565, 0.660474617707548, 0.36995875605510714, 0.21945322556332392, 0.4129921812023513, 0.6380386723577989, 0.4061284989658414, 0.4925925715161546, 0.510103539110759, 0.3514833816962437, 0.33528637051815435, 0.33819533628154197, 0.5021063505252817, 0.2877435568473731, 0.5891480131841499, 0.5533526939783981, 0.34352733370154254, 0.3384086923052993, 0.22271800487470828, 0.5073600516432464, 0.33488550937204525, 0.31599287733920467, 0.4427037114966608, 0.4858685740850179, 0.7067245979891372, 0.4690826399445896, 0.6355670688173295, 0.18795980837983148, 0.6419685226000515, 0.30466211400702536, 0.6197089997148911]\n"
     ]
    },
    {
     "name": "stderr",
     "output_type": "stream",
     "text": [
      "/usr/local/lib/python3.8/dist-packages/sklearn/metrics/_classification.py:1248: UndefinedMetricWarning: Jaccard is ill-defined and being set to 0.0 due to no true or predicted samples. Use `zero_division` parameter to control this behavior.\n",
      "  _warn_prf(average, modifier, msg_start, len(result))\n",
      "/usr/local/lib/python3.8/dist-packages/sklearn/metrics/_classification.py:1248: UndefinedMetricWarning: Jaccard is ill-defined and being set to 0.0 due to no true or predicted samples. Use `zero_division` parameter to control this behavior.\n",
      "  _warn_prf(average, modifier, msg_start, len(result))\n",
      "/usr/local/lib/python3.8/dist-packages/sklearn/metrics/_classification.py:1248: UndefinedMetricWarning: Jaccard is ill-defined and being set to 0.0 due to no true or predicted samples. Use `zero_division` parameter to control this behavior.\n",
      "  _warn_prf(average, modifier, msg_start, len(result))\n",
      "/usr/local/lib/python3.8/dist-packages/sklearn/metrics/_classification.py:1248: UndefinedMetricWarning: Jaccard is ill-defined and being set to 0.0 due to no true or predicted samples. Use `zero_division` parameter to control this behavior.\n",
      "  _warn_prf(average, modifier, msg_start, len(result))\n",
      "/usr/local/lib/python3.8/dist-packages/sklearn/metrics/_classification.py:1248: UndefinedMetricWarning: Jaccard is ill-defined and being set to 0.0 due to no true or predicted samples. Use `zero_division` parameter to control this behavior.\n",
      "  _warn_prf(average, modifier, msg_start, len(result))\n",
      "/usr/local/lib/python3.8/dist-packages/sklearn/metrics/_classification.py:1248: UndefinedMetricWarning: Jaccard is ill-defined and being set to 0.0 due to no true or predicted samples. Use `zero_division` parameter to control this behavior.\n",
      "  _warn_prf(average, modifier, msg_start, len(result))\n",
      "/usr/local/lib/python3.8/dist-packages/sklearn/metrics/_classification.py:1248: UndefinedMetricWarning: Jaccard is ill-defined and being set to 0.0 due to no true or predicted samples. Use `zero_division` parameter to control this behavior.\n",
      "  _warn_prf(average, modifier, msg_start, len(result))\n",
      "/usr/local/lib/python3.8/dist-packages/sklearn/metrics/_classification.py:1248: UndefinedMetricWarning: Jaccard is ill-defined and being set to 0.0 due to no true or predicted samples. Use `zero_division` parameter to control this behavior.\n",
      "  _warn_prf(average, modifier, msg_start, len(result))\n",
      "/usr/local/lib/python3.8/dist-packages/sklearn/metrics/_classification.py:1248: UndefinedMetricWarning: Jaccard is ill-defined and being set to 0.0 due to no true or predicted samples. Use `zero_division` parameter to control this behavior.\n",
      "  _warn_prf(average, modifier, msg_start, len(result))\n",
      "/usr/local/lib/python3.8/dist-packages/sklearn/metrics/_classification.py:1248: UndefinedMetricWarning: Jaccard is ill-defined and being set to 0.0 due to no true or predicted samples. Use `zero_division` parameter to control this behavior.\n",
      "  _warn_prf(average, modifier, msg_start, len(result))\n",
      "/usr/local/lib/python3.8/dist-packages/sklearn/metrics/_classification.py:1248: UndefinedMetricWarning: Jaccard is ill-defined and being set to 0.0 due to no true or predicted samples. Use `zero_division` parameter to control this behavior.\n",
      "  _warn_prf(average, modifier, msg_start, len(result))\n",
      " 81%|████████████████████████████████████████████████████████████████████████████████████████████████████████████████████████████████████████████▉                                 | 81/100 [10:26<02:42,  8.54s/it]"
     ]
    },
    {
     "name": "stdout",
     "output_type": "stream",
     "text": [
      "mIOU given by: 0.2722936595196873\n",
      "[0.4800828259274245, 0.3141256294622326, 0.43314472897323886, 0.3108838838691709, 0.4217744661366317, 0.30750138626132656, 0.23392175229936546, 0.5477260303527688, 0.4806466370151126, 0.4273892546729509, 0.23403418107045632, 0.622984223580449, 0.28395898477729614, 0.5053798888534788, 0.36854260904913283, 0.23487570158381382, 0.2776467227756309, 0.6755961181605183, 0.37903712673606926, 0.5504114010316731, 0.37429026290122175, 0.496385323357798, 0.39196129947896174, 0.37924939647851275, 0.5853269475386425, 0.255262318179988, 0.6848665717060205, 0.30138798440552894, 0.5921036056828485, 0.6546765959275835, 0.27826561055984433, 0.22863031747535176, 0.27819431972682734, 0.5282928933268631, 0.29809156976279433, 0.2563069268808263, 0.41665888131670775, 0.4455425174190389, 0.34989910732345086, 0.5253094595573349, 0.2890501560457343, 0.4635251003659016, 0.24949786498487941, 0.3703191870359074, 0.3865878299278053, 0.5965633281022387, 0.29854842588276786, 0.36455184643516014, 0.4672057744440935, 0.28608381392909565, 0.660474617707548, 0.36995875605510714, 0.21945322556332392, 0.4129921812023513, 0.6380386723577989, 0.4061284989658414, 0.4925925715161546, 0.510103539110759, 0.3514833816962437, 0.33528637051815435, 0.33819533628154197, 0.5021063505252817, 0.2877435568473731, 0.5891480131841499, 0.5533526939783981, 0.34352733370154254, 0.3384086923052993, 0.22271800487470828, 0.5073600516432464, 0.33488550937204525, 0.31599287733920467, 0.4427037114966608, 0.4858685740850179, 0.7067245979891372, 0.4690826399445896, 0.6355670688173295, 0.18795980837983148, 0.6419685226000515, 0.30466211400702536, 0.6197089997148911, 0.2722936595196873]\n"
     ]
    },
    {
     "name": "stderr",
     "output_type": "stream",
     "text": [
      "/usr/local/lib/python3.8/dist-packages/sklearn/metrics/_classification.py:1248: UndefinedMetricWarning: Jaccard is ill-defined and being set to 0.0 due to no true or predicted samples. Use `zero_division` parameter to control this behavior.\n",
      "  _warn_prf(average, modifier, msg_start, len(result))\n",
      "/usr/local/lib/python3.8/dist-packages/sklearn/metrics/_classification.py:1248: UndefinedMetricWarning: Jaccard is ill-defined and being set to 0.0 due to no true or predicted samples. Use `zero_division` parameter to control this behavior.\n",
      "  _warn_prf(average, modifier, msg_start, len(result))\n",
      "/usr/local/lib/python3.8/dist-packages/sklearn/metrics/_classification.py:1248: UndefinedMetricWarning: Jaccard is ill-defined and being set to 0.0 due to no true or predicted samples. Use `zero_division` parameter to control this behavior.\n",
      "  _warn_prf(average, modifier, msg_start, len(result))\n",
      "/usr/local/lib/python3.8/dist-packages/sklearn/metrics/_classification.py:1248: UndefinedMetricWarning: Jaccard is ill-defined and being set to 0.0 due to no true or predicted samples. Use `zero_division` parameter to control this behavior.\n",
      "  _warn_prf(average, modifier, msg_start, len(result))\n",
      "/usr/local/lib/python3.8/dist-packages/sklearn/metrics/_classification.py:1248: UndefinedMetricWarning: Jaccard is ill-defined and being set to 0.0 due to no true or predicted samples. Use `zero_division` parameter to control this behavior.\n",
      "  _warn_prf(average, modifier, msg_start, len(result))\n",
      "/usr/local/lib/python3.8/dist-packages/sklearn/metrics/_classification.py:1248: UndefinedMetricWarning: Jaccard is ill-defined and being set to 0.0 due to no true or predicted samples. Use `zero_division` parameter to control this behavior.\n",
      "  _warn_prf(average, modifier, msg_start, len(result))\n",
      "/usr/local/lib/python3.8/dist-packages/sklearn/metrics/_classification.py:1248: UndefinedMetricWarning: Jaccard is ill-defined and being set to 0.0 due to no true or predicted samples. Use `zero_division` parameter to control this behavior.\n",
      "  _warn_prf(average, modifier, msg_start, len(result))\n",
      "/usr/local/lib/python3.8/dist-packages/sklearn/metrics/_classification.py:1248: UndefinedMetricWarning: Jaccard is ill-defined and being set to 0.0 due to no true or predicted samples. Use `zero_division` parameter to control this behavior.\n",
      "  _warn_prf(average, modifier, msg_start, len(result))\n",
      " 82%|██████████████████████████████████████████████████████████████████████████████████████████████████████████████████████████████████████████████▋                               | 82/100 [10:37<02:46,  9.23s/it]"
     ]
    },
    {
     "name": "stdout",
     "output_type": "stream",
     "text": [
      "mIOU given by: 0.2838553068763355\n",
      "[0.4800828259274245, 0.3141256294622326, 0.43314472897323886, 0.3108838838691709, 0.4217744661366317, 0.30750138626132656, 0.23392175229936546, 0.5477260303527688, 0.4806466370151126, 0.4273892546729509, 0.23403418107045632, 0.622984223580449, 0.28395898477729614, 0.5053798888534788, 0.36854260904913283, 0.23487570158381382, 0.2776467227756309, 0.6755961181605183, 0.37903712673606926, 0.5504114010316731, 0.37429026290122175, 0.496385323357798, 0.39196129947896174, 0.37924939647851275, 0.5853269475386425, 0.255262318179988, 0.6848665717060205, 0.30138798440552894, 0.5921036056828485, 0.6546765959275835, 0.27826561055984433, 0.22863031747535176, 0.27819431972682734, 0.5282928933268631, 0.29809156976279433, 0.2563069268808263, 0.41665888131670775, 0.4455425174190389, 0.34989910732345086, 0.5253094595573349, 0.2890501560457343, 0.4635251003659016, 0.24949786498487941, 0.3703191870359074, 0.3865878299278053, 0.5965633281022387, 0.29854842588276786, 0.36455184643516014, 0.4672057744440935, 0.28608381392909565, 0.660474617707548, 0.36995875605510714, 0.21945322556332392, 0.4129921812023513, 0.6380386723577989, 0.4061284989658414, 0.4925925715161546, 0.510103539110759, 0.3514833816962437, 0.33528637051815435, 0.33819533628154197, 0.5021063505252817, 0.2877435568473731, 0.5891480131841499, 0.5533526939783981, 0.34352733370154254, 0.3384086923052993, 0.22271800487470828, 0.5073600516432464, 0.33488550937204525, 0.31599287733920467, 0.4427037114966608, 0.4858685740850179, 0.7067245979891372, 0.4690826399445896, 0.6355670688173295, 0.18795980837983148, 0.6419685226000515, 0.30466211400702536, 0.6197089997148911, 0.2722936595196873, 0.2838553068763355]\n"
     ]
    },
    {
     "name": "stderr",
     "output_type": "stream",
     "text": [
      "/usr/local/lib/python3.8/dist-packages/sklearn/metrics/_classification.py:1248: UndefinedMetricWarning: Jaccard is ill-defined and being set to 0.0 due to no true or predicted samples. Use `zero_division` parameter to control this behavior.\n",
      "  _warn_prf(average, modifier, msg_start, len(result))\n",
      "/usr/local/lib/python3.8/dist-packages/sklearn/metrics/_classification.py:1248: UndefinedMetricWarning: Jaccard is ill-defined and being set to 0.0 due to no true or predicted samples. Use `zero_division` parameter to control this behavior.\n",
      "  _warn_prf(average, modifier, msg_start, len(result))\n",
      "/usr/local/lib/python3.8/dist-packages/sklearn/metrics/_classification.py:1248: UndefinedMetricWarning: Jaccard is ill-defined and being set to 0.0 due to no true or predicted samples. Use `zero_division` parameter to control this behavior.\n",
      "  _warn_prf(average, modifier, msg_start, len(result))\n",
      "/usr/local/lib/python3.8/dist-packages/sklearn/metrics/_classification.py:1248: UndefinedMetricWarning: Jaccard is ill-defined and being set to 0.0 due to no true or predicted samples. Use `zero_division` parameter to control this behavior.\n",
      "  _warn_prf(average, modifier, msg_start, len(result))\n",
      "/usr/local/lib/python3.8/dist-packages/sklearn/metrics/_classification.py:1248: UndefinedMetricWarning: Jaccard is ill-defined and being set to 0.0 due to no true or predicted samples. Use `zero_division` parameter to control this behavior.\n",
      "  _warn_prf(average, modifier, msg_start, len(result))\n",
      "/usr/local/lib/python3.8/dist-packages/sklearn/metrics/_classification.py:1248: UndefinedMetricWarning: Jaccard is ill-defined and being set to 0.0 due to no true or predicted samples. Use `zero_division` parameter to control this behavior.\n",
      "  _warn_prf(average, modifier, msg_start, len(result))\n",
      "/usr/local/lib/python3.8/dist-packages/sklearn/metrics/_classification.py:1248: UndefinedMetricWarning: Jaccard is ill-defined and being set to 0.0 due to no true or predicted samples. Use `zero_division` parameter to control this behavior.\n",
      "  _warn_prf(average, modifier, msg_start, len(result))\n",
      "/usr/local/lib/python3.8/dist-packages/sklearn/metrics/_classification.py:1248: UndefinedMetricWarning: Jaccard is ill-defined and being set to 0.0 due to no true or predicted samples. Use `zero_division` parameter to control this behavior.\n",
      "  _warn_prf(average, modifier, msg_start, len(result))\n",
      "/usr/local/lib/python3.8/dist-packages/sklearn/metrics/_classification.py:1248: UndefinedMetricWarning: Jaccard is ill-defined and being set to 0.0 due to no true or predicted samples. Use `zero_division` parameter to control this behavior.\n",
      "  _warn_prf(average, modifier, msg_start, len(result))\n",
      "/usr/local/lib/python3.8/dist-packages/sklearn/metrics/_classification.py:1248: UndefinedMetricWarning: Jaccard is ill-defined and being set to 0.0 due to no true or predicted samples. Use `zero_division` parameter to control this behavior.\n",
      "  _warn_prf(average, modifier, msg_start, len(result))\n",
      "/usr/local/lib/python3.8/dist-packages/sklearn/metrics/_classification.py:1248: UndefinedMetricWarning: Jaccard is ill-defined and being set to 0.0 due to no true or predicted samples. Use `zero_division` parameter to control this behavior.\n",
      "  _warn_prf(average, modifier, msg_start, len(result))\n",
      "/usr/local/lib/python3.8/dist-packages/sklearn/metrics/_classification.py:1248: UndefinedMetricWarning: Jaccard is ill-defined and being set to 0.0 due to no true or predicted samples. Use `zero_division` parameter to control this behavior.\n",
      "  _warn_prf(average, modifier, msg_start, len(result))\n",
      " 83%|████████████████████████████████████████████████████████████████████████████████████████████████████████████████████████████████████████████████▍                             | 83/100 [10:46<02:36,  9.22s/it]"
     ]
    },
    {
     "name": "stdout",
     "output_type": "stream",
     "text": [
      "mIOU given by: 0.3647035686781857\n",
      "[0.4800828259274245, 0.3141256294622326, 0.43314472897323886, 0.3108838838691709, 0.4217744661366317, 0.30750138626132656, 0.23392175229936546, 0.5477260303527688, 0.4806466370151126, 0.4273892546729509, 0.23403418107045632, 0.622984223580449, 0.28395898477729614, 0.5053798888534788, 0.36854260904913283, 0.23487570158381382, 0.2776467227756309, 0.6755961181605183, 0.37903712673606926, 0.5504114010316731, 0.37429026290122175, 0.496385323357798, 0.39196129947896174, 0.37924939647851275, 0.5853269475386425, 0.255262318179988, 0.6848665717060205, 0.30138798440552894, 0.5921036056828485, 0.6546765959275835, 0.27826561055984433, 0.22863031747535176, 0.27819431972682734, 0.5282928933268631, 0.29809156976279433, 0.2563069268808263, 0.41665888131670775, 0.4455425174190389, 0.34989910732345086, 0.5253094595573349, 0.2890501560457343, 0.4635251003659016, 0.24949786498487941, 0.3703191870359074, 0.3865878299278053, 0.5965633281022387, 0.29854842588276786, 0.36455184643516014, 0.4672057744440935, 0.28608381392909565, 0.660474617707548, 0.36995875605510714, 0.21945322556332392, 0.4129921812023513, 0.6380386723577989, 0.4061284989658414, 0.4925925715161546, 0.510103539110759, 0.3514833816962437, 0.33528637051815435, 0.33819533628154197, 0.5021063505252817, 0.2877435568473731, 0.5891480131841499, 0.5533526939783981, 0.34352733370154254, 0.3384086923052993, 0.22271800487470828, 0.5073600516432464, 0.33488550937204525, 0.31599287733920467, 0.4427037114966608, 0.4858685740850179, 0.7067245979891372, 0.4690826399445896, 0.6355670688173295, 0.18795980837983148, 0.6419685226000515, 0.30466211400702536, 0.6197089997148911, 0.2722936595196873, 0.2838553068763355, 0.3647035686781857]\n"
     ]
    },
    {
     "name": "stderr",
     "output_type": "stream",
     "text": [
      "/usr/local/lib/python3.8/dist-packages/sklearn/metrics/_classification.py:1248: UndefinedMetricWarning: Jaccard is ill-defined and being set to 0.0 due to no true or predicted samples. Use `zero_division` parameter to control this behavior.\n",
      "  _warn_prf(average, modifier, msg_start, len(result))\n",
      "/usr/local/lib/python3.8/dist-packages/sklearn/metrics/_classification.py:1248: UndefinedMetricWarning: Jaccard is ill-defined and being set to 0.0 due to no true or predicted samples. Use `zero_division` parameter to control this behavior.\n",
      "  _warn_prf(average, modifier, msg_start, len(result))\n",
      "/usr/local/lib/python3.8/dist-packages/sklearn/metrics/_classification.py:1248: UndefinedMetricWarning: Jaccard is ill-defined and being set to 0.0 due to no true or predicted samples. Use `zero_division` parameter to control this behavior.\n",
      "  _warn_prf(average, modifier, msg_start, len(result))\n",
      "/usr/local/lib/python3.8/dist-packages/sklearn/metrics/_classification.py:1248: UndefinedMetricWarning: Jaccard is ill-defined and being set to 0.0 due to no true or predicted samples. Use `zero_division` parameter to control this behavior.\n",
      "  _warn_prf(average, modifier, msg_start, len(result))\n",
      "/usr/local/lib/python3.8/dist-packages/sklearn/metrics/_classification.py:1248: UndefinedMetricWarning: Jaccard is ill-defined and being set to 0.0 due to no true or predicted samples. Use `zero_division` parameter to control this behavior.\n",
      "  _warn_prf(average, modifier, msg_start, len(result))\n",
      "/usr/local/lib/python3.8/dist-packages/sklearn/metrics/_classification.py:1248: UndefinedMetricWarning: Jaccard is ill-defined and being set to 0.0 due to no true or predicted samples. Use `zero_division` parameter to control this behavior.\n",
      "  _warn_prf(average, modifier, msg_start, len(result))\n",
      "/usr/local/lib/python3.8/dist-packages/sklearn/metrics/_classification.py:1248: UndefinedMetricWarning: Jaccard is ill-defined and being set to 0.0 due to no true or predicted samples. Use `zero_division` parameter to control this behavior.\n",
      "  _warn_prf(average, modifier, msg_start, len(result))\n",
      " 84%|██████████████████████████████████████████████████████████████████████████████████████████████████████████████████████████████████████████████████▏                           | 84/100 [10:55<02:24,  9.03s/it]"
     ]
    },
    {
     "name": "stdout",
     "output_type": "stream",
     "text": [
      "mIOU given by: 0.32497194534968854\n",
      "[0.4800828259274245, 0.3141256294622326, 0.43314472897323886, 0.3108838838691709, 0.4217744661366317, 0.30750138626132656, 0.23392175229936546, 0.5477260303527688, 0.4806466370151126, 0.4273892546729509, 0.23403418107045632, 0.622984223580449, 0.28395898477729614, 0.5053798888534788, 0.36854260904913283, 0.23487570158381382, 0.2776467227756309, 0.6755961181605183, 0.37903712673606926, 0.5504114010316731, 0.37429026290122175, 0.496385323357798, 0.39196129947896174, 0.37924939647851275, 0.5853269475386425, 0.255262318179988, 0.6848665717060205, 0.30138798440552894, 0.5921036056828485, 0.6546765959275835, 0.27826561055984433, 0.22863031747535176, 0.27819431972682734, 0.5282928933268631, 0.29809156976279433, 0.2563069268808263, 0.41665888131670775, 0.4455425174190389, 0.34989910732345086, 0.5253094595573349, 0.2890501560457343, 0.4635251003659016, 0.24949786498487941, 0.3703191870359074, 0.3865878299278053, 0.5965633281022387, 0.29854842588276786, 0.36455184643516014, 0.4672057744440935, 0.28608381392909565, 0.660474617707548, 0.36995875605510714, 0.21945322556332392, 0.4129921812023513, 0.6380386723577989, 0.4061284989658414, 0.4925925715161546, 0.510103539110759, 0.3514833816962437, 0.33528637051815435, 0.33819533628154197, 0.5021063505252817, 0.2877435568473731, 0.5891480131841499, 0.5533526939783981, 0.34352733370154254, 0.3384086923052993, 0.22271800487470828, 0.5073600516432464, 0.33488550937204525, 0.31599287733920467, 0.4427037114966608, 0.4858685740850179, 0.7067245979891372, 0.4690826399445896, 0.6355670688173295, 0.18795980837983148, 0.6419685226000515, 0.30466211400702536, 0.6197089997148911, 0.2722936595196873, 0.2838553068763355, 0.3647035686781857, 0.32497194534968854]\n"
     ]
    },
    {
     "name": "stderr",
     "output_type": "stream",
     "text": [
      "/usr/local/lib/python3.8/dist-packages/sklearn/metrics/_classification.py:1248: UndefinedMetricWarning: Jaccard is ill-defined and being set to 0.0 due to no true or predicted samples. Use `zero_division` parameter to control this behavior.\n",
      "  _warn_prf(average, modifier, msg_start, len(result))\n",
      "/usr/local/lib/python3.8/dist-packages/sklearn/metrics/_classification.py:1248: UndefinedMetricWarning: Jaccard is ill-defined and being set to 0.0 due to no true or predicted samples. Use `zero_division` parameter to control this behavior.\n",
      "  _warn_prf(average, modifier, msg_start, len(result))\n",
      "/usr/local/lib/python3.8/dist-packages/sklearn/metrics/_classification.py:1248: UndefinedMetricWarning: Jaccard is ill-defined and being set to 0.0 due to no true or predicted samples. Use `zero_division` parameter to control this behavior.\n",
      "  _warn_prf(average, modifier, msg_start, len(result))\n",
      "/usr/local/lib/python3.8/dist-packages/sklearn/metrics/_classification.py:1248: UndefinedMetricWarning: Jaccard is ill-defined and being set to 0.0 due to no true or predicted samples. Use `zero_division` parameter to control this behavior.\n",
      "  _warn_prf(average, modifier, msg_start, len(result))\n",
      "/usr/local/lib/python3.8/dist-packages/sklearn/metrics/_classification.py:1248: UndefinedMetricWarning: Jaccard is ill-defined and being set to 0.0 due to no true or predicted samples. Use `zero_division` parameter to control this behavior.\n",
      "  _warn_prf(average, modifier, msg_start, len(result))\n",
      "/usr/local/lib/python3.8/dist-packages/sklearn/metrics/_classification.py:1248: UndefinedMetricWarning: Jaccard is ill-defined and being set to 0.0 due to no true or predicted samples. Use `zero_division` parameter to control this behavior.\n",
      "  _warn_prf(average, modifier, msg_start, len(result))\n",
      "/usr/local/lib/python3.8/dist-packages/sklearn/metrics/_classification.py:1248: UndefinedMetricWarning: Jaccard is ill-defined and being set to 0.0 due to no true or predicted samples. Use `zero_division` parameter to control this behavior.\n",
      "  _warn_prf(average, modifier, msg_start, len(result))\n",
      "/usr/local/lib/python3.8/dist-packages/sklearn/metrics/_classification.py:1248: UndefinedMetricWarning: Jaccard is ill-defined and being set to 0.0 due to no true or predicted samples. Use `zero_division` parameter to control this behavior.\n",
      "  _warn_prf(average, modifier, msg_start, len(result))\n",
      "/usr/local/lib/python3.8/dist-packages/sklearn/metrics/_classification.py:1248: UndefinedMetricWarning: Jaccard is ill-defined and being set to 0.0 due to no true or predicted samples. Use `zero_division` parameter to control this behavior.\n",
      "  _warn_prf(average, modifier, msg_start, len(result))\n",
      " 85%|███████████████████████████████████████████████████████████████████████████████████████████████████████████████████████████████████████████████████▉                          | 85/100 [11:03<02:13,  8.87s/it]"
     ]
    },
    {
     "name": "stdout",
     "output_type": "stream",
     "text": [
      "mIOU given by: 0.2999724561382861\n",
      "[0.4800828259274245, 0.3141256294622326, 0.43314472897323886, 0.3108838838691709, 0.4217744661366317, 0.30750138626132656, 0.23392175229936546, 0.5477260303527688, 0.4806466370151126, 0.4273892546729509, 0.23403418107045632, 0.622984223580449, 0.28395898477729614, 0.5053798888534788, 0.36854260904913283, 0.23487570158381382, 0.2776467227756309, 0.6755961181605183, 0.37903712673606926, 0.5504114010316731, 0.37429026290122175, 0.496385323357798, 0.39196129947896174, 0.37924939647851275, 0.5853269475386425, 0.255262318179988, 0.6848665717060205, 0.30138798440552894, 0.5921036056828485, 0.6546765959275835, 0.27826561055984433, 0.22863031747535176, 0.27819431972682734, 0.5282928933268631, 0.29809156976279433, 0.2563069268808263, 0.41665888131670775, 0.4455425174190389, 0.34989910732345086, 0.5253094595573349, 0.2890501560457343, 0.4635251003659016, 0.24949786498487941, 0.3703191870359074, 0.3865878299278053, 0.5965633281022387, 0.29854842588276786, 0.36455184643516014, 0.4672057744440935, 0.28608381392909565, 0.660474617707548, 0.36995875605510714, 0.21945322556332392, 0.4129921812023513, 0.6380386723577989, 0.4061284989658414, 0.4925925715161546, 0.510103539110759, 0.3514833816962437, 0.33528637051815435, 0.33819533628154197, 0.5021063505252817, 0.2877435568473731, 0.5891480131841499, 0.5533526939783981, 0.34352733370154254, 0.3384086923052993, 0.22271800487470828, 0.5073600516432464, 0.33488550937204525, 0.31599287733920467, 0.4427037114966608, 0.4858685740850179, 0.7067245979891372, 0.4690826399445896, 0.6355670688173295, 0.18795980837983148, 0.6419685226000515, 0.30466211400702536, 0.6197089997148911, 0.2722936595196873, 0.2838553068763355, 0.3647035686781857, 0.32497194534968854, 0.2999724561382861]\n"
     ]
    },
    {
     "name": "stderr",
     "output_type": "stream",
     "text": [
      "/usr/local/lib/python3.8/dist-packages/sklearn/metrics/_classification.py:1248: UndefinedMetricWarning: Jaccard is ill-defined and being set to 0.0 due to no true or predicted samples. Use `zero_division` parameter to control this behavior.\n",
      "  _warn_prf(average, modifier, msg_start, len(result))\n",
      "/usr/local/lib/python3.8/dist-packages/sklearn/metrics/_classification.py:1248: UndefinedMetricWarning: Jaccard is ill-defined and being set to 0.0 due to no true or predicted samples. Use `zero_division` parameter to control this behavior.\n",
      "  _warn_prf(average, modifier, msg_start, len(result))\n",
      "/usr/local/lib/python3.8/dist-packages/sklearn/metrics/_classification.py:1248: UndefinedMetricWarning: Jaccard is ill-defined and being set to 0.0 due to no true or predicted samples. Use `zero_division` parameter to control this behavior.\n",
      "  _warn_prf(average, modifier, msg_start, len(result))\n",
      "/usr/local/lib/python3.8/dist-packages/sklearn/metrics/_classification.py:1248: UndefinedMetricWarning: Jaccard is ill-defined and being set to 0.0 due to no true or predicted samples. Use `zero_division` parameter to control this behavior.\n",
      "  _warn_prf(average, modifier, msg_start, len(result))\n",
      "/usr/local/lib/python3.8/dist-packages/sklearn/metrics/_classification.py:1248: UndefinedMetricWarning: Jaccard is ill-defined and being set to 0.0 due to no true or predicted samples. Use `zero_division` parameter to control this behavior.\n",
      "  _warn_prf(average, modifier, msg_start, len(result))\n",
      "/usr/local/lib/python3.8/dist-packages/sklearn/metrics/_classification.py:1248: UndefinedMetricWarning: Jaccard is ill-defined and being set to 0.0 due to no true or predicted samples. Use `zero_division` parameter to control this behavior.\n",
      "  _warn_prf(average, modifier, msg_start, len(result))\n",
      "/usr/local/lib/python3.8/dist-packages/sklearn/metrics/_classification.py:1248: UndefinedMetricWarning: Jaccard is ill-defined and being set to 0.0 due to no true or predicted samples. Use `zero_division` parameter to control this behavior.\n",
      "  _warn_prf(average, modifier, msg_start, len(result))\n",
      "/usr/local/lib/python3.8/dist-packages/sklearn/metrics/_classification.py:1248: UndefinedMetricWarning: Jaccard is ill-defined and being set to 0.0 due to no true or predicted samples. Use `zero_division` parameter to control this behavior.\n",
      "  _warn_prf(average, modifier, msg_start, len(result))\n",
      "/usr/local/lib/python3.8/dist-packages/sklearn/metrics/_classification.py:1248: UndefinedMetricWarning: Jaccard is ill-defined and being set to 0.0 due to no true or predicted samples. Use `zero_division` parameter to control this behavior.\n",
      "  _warn_prf(average, modifier, msg_start, len(result))\n",
      " 86%|█████████████████████████████████████████████████████████████████████████████████████████████████████████████████████████████████████████████████████▋                        | 86/100 [11:13<02:08,  9.19s/it]"
     ]
    },
    {
     "name": "stdout",
     "output_type": "stream",
     "text": [
      "mIOU given by: 0.3994000120406234\n",
      "[0.4800828259274245, 0.3141256294622326, 0.43314472897323886, 0.3108838838691709, 0.4217744661366317, 0.30750138626132656, 0.23392175229936546, 0.5477260303527688, 0.4806466370151126, 0.4273892546729509, 0.23403418107045632, 0.622984223580449, 0.28395898477729614, 0.5053798888534788, 0.36854260904913283, 0.23487570158381382, 0.2776467227756309, 0.6755961181605183, 0.37903712673606926, 0.5504114010316731, 0.37429026290122175, 0.496385323357798, 0.39196129947896174, 0.37924939647851275, 0.5853269475386425, 0.255262318179988, 0.6848665717060205, 0.30138798440552894, 0.5921036056828485, 0.6546765959275835, 0.27826561055984433, 0.22863031747535176, 0.27819431972682734, 0.5282928933268631, 0.29809156976279433, 0.2563069268808263, 0.41665888131670775, 0.4455425174190389, 0.34989910732345086, 0.5253094595573349, 0.2890501560457343, 0.4635251003659016, 0.24949786498487941, 0.3703191870359074, 0.3865878299278053, 0.5965633281022387, 0.29854842588276786, 0.36455184643516014, 0.4672057744440935, 0.28608381392909565, 0.660474617707548, 0.36995875605510714, 0.21945322556332392, 0.4129921812023513, 0.6380386723577989, 0.4061284989658414, 0.4925925715161546, 0.510103539110759, 0.3514833816962437, 0.33528637051815435, 0.33819533628154197, 0.5021063505252817, 0.2877435568473731, 0.5891480131841499, 0.5533526939783981, 0.34352733370154254, 0.3384086923052993, 0.22271800487470828, 0.5073600516432464, 0.33488550937204525, 0.31599287733920467, 0.4427037114966608, 0.4858685740850179, 0.7067245979891372, 0.4690826399445896, 0.6355670688173295, 0.18795980837983148, 0.6419685226000515, 0.30466211400702536, 0.6197089997148911, 0.2722936595196873, 0.2838553068763355, 0.3647035686781857, 0.32497194534968854, 0.2999724561382861, 0.3994000120406234]\n"
     ]
    },
    {
     "name": "stderr",
     "output_type": "stream",
     "text": [
      "/usr/local/lib/python3.8/dist-packages/sklearn/metrics/_classification.py:1248: UndefinedMetricWarning: Jaccard is ill-defined and being set to 0.0 due to no true or predicted samples. Use `zero_division` parameter to control this behavior.\n",
      "  _warn_prf(average, modifier, msg_start, len(result))\n",
      "/usr/local/lib/python3.8/dist-packages/sklearn/metrics/_classification.py:1248: UndefinedMetricWarning: Jaccard is ill-defined and being set to 0.0 due to no true or predicted samples. Use `zero_division` parameter to control this behavior.\n",
      "  _warn_prf(average, modifier, msg_start, len(result))\n",
      "/usr/local/lib/python3.8/dist-packages/sklearn/metrics/_classification.py:1248: UndefinedMetricWarning: Jaccard is ill-defined and being set to 0.0 due to no true or predicted samples. Use `zero_division` parameter to control this behavior.\n",
      "  _warn_prf(average, modifier, msg_start, len(result))\n",
      "/usr/local/lib/python3.8/dist-packages/sklearn/metrics/_classification.py:1248: UndefinedMetricWarning: Jaccard is ill-defined and being set to 0.0 due to no true or predicted samples. Use `zero_division` parameter to control this behavior.\n",
      "  _warn_prf(average, modifier, msg_start, len(result))\n",
      "/usr/local/lib/python3.8/dist-packages/sklearn/metrics/_classification.py:1248: UndefinedMetricWarning: Jaccard is ill-defined and being set to 0.0 due to no true or predicted samples. Use `zero_division` parameter to control this behavior.\n",
      "  _warn_prf(average, modifier, msg_start, len(result))\n",
      "/usr/local/lib/python3.8/dist-packages/sklearn/metrics/_classification.py:1248: UndefinedMetricWarning: Jaccard is ill-defined and being set to 0.0 due to no true or predicted samples. Use `zero_division` parameter to control this behavior.\n",
      "  _warn_prf(average, modifier, msg_start, len(result))\n",
      "/usr/local/lib/python3.8/dist-packages/sklearn/metrics/_classification.py:1248: UndefinedMetricWarning: Jaccard is ill-defined and being set to 0.0 due to no true or predicted samples. Use `zero_division` parameter to control this behavior.\n",
      "  _warn_prf(average, modifier, msg_start, len(result))\n",
      " 87%|███████████████████████████████████████████████████████████████████████████████████████████████████████████████████████████████████████████████████████▍                      | 87/100 [11:27<02:16, 10.50s/it]"
     ]
    },
    {
     "name": "stdout",
     "output_type": "stream",
     "text": [
      "mIOU given by: 0.21950022660212365\n",
      "[0.4800828259274245, 0.3141256294622326, 0.43314472897323886, 0.3108838838691709, 0.4217744661366317, 0.30750138626132656, 0.23392175229936546, 0.5477260303527688, 0.4806466370151126, 0.4273892546729509, 0.23403418107045632, 0.622984223580449, 0.28395898477729614, 0.5053798888534788, 0.36854260904913283, 0.23487570158381382, 0.2776467227756309, 0.6755961181605183, 0.37903712673606926, 0.5504114010316731, 0.37429026290122175, 0.496385323357798, 0.39196129947896174, 0.37924939647851275, 0.5853269475386425, 0.255262318179988, 0.6848665717060205, 0.30138798440552894, 0.5921036056828485, 0.6546765959275835, 0.27826561055984433, 0.22863031747535176, 0.27819431972682734, 0.5282928933268631, 0.29809156976279433, 0.2563069268808263, 0.41665888131670775, 0.4455425174190389, 0.34989910732345086, 0.5253094595573349, 0.2890501560457343, 0.4635251003659016, 0.24949786498487941, 0.3703191870359074, 0.3865878299278053, 0.5965633281022387, 0.29854842588276786, 0.36455184643516014, 0.4672057744440935, 0.28608381392909565, 0.660474617707548, 0.36995875605510714, 0.21945322556332392, 0.4129921812023513, 0.6380386723577989, 0.4061284989658414, 0.4925925715161546, 0.510103539110759, 0.3514833816962437, 0.33528637051815435, 0.33819533628154197, 0.5021063505252817, 0.2877435568473731, 0.5891480131841499, 0.5533526939783981, 0.34352733370154254, 0.3384086923052993, 0.22271800487470828, 0.5073600516432464, 0.33488550937204525, 0.31599287733920467, 0.4427037114966608, 0.4858685740850179, 0.7067245979891372, 0.4690826399445896, 0.6355670688173295, 0.18795980837983148, 0.6419685226000515, 0.30466211400702536, 0.6197089997148911, 0.2722936595196873, 0.2838553068763355, 0.3647035686781857, 0.32497194534968854, 0.2999724561382861, 0.3994000120406234, 0.21950022660212365]\n"
     ]
    },
    {
     "name": "stderr",
     "output_type": "stream",
     "text": [
      "/usr/local/lib/python3.8/dist-packages/sklearn/metrics/_classification.py:1248: UndefinedMetricWarning: Jaccard is ill-defined and being set to 0.0 due to no true or predicted samples. Use `zero_division` parameter to control this behavior.\n",
      "  _warn_prf(average, modifier, msg_start, len(result))\n",
      "/usr/local/lib/python3.8/dist-packages/sklearn/metrics/_classification.py:1248: UndefinedMetricWarning: Jaccard is ill-defined and being set to 0.0 due to no true or predicted samples. Use `zero_division` parameter to control this behavior.\n",
      "  _warn_prf(average, modifier, msg_start, len(result))\n",
      "/usr/local/lib/python3.8/dist-packages/sklearn/metrics/_classification.py:1248: UndefinedMetricWarning: Jaccard is ill-defined and being set to 0.0 due to no true or predicted samples. Use `zero_division` parameter to control this behavior.\n",
      "  _warn_prf(average, modifier, msg_start, len(result))\n",
      "/usr/local/lib/python3.8/dist-packages/sklearn/metrics/_classification.py:1248: UndefinedMetricWarning: Jaccard is ill-defined and being set to 0.0 due to no true or predicted samples. Use `zero_division` parameter to control this behavior.\n",
      "  _warn_prf(average, modifier, msg_start, len(result))\n",
      "/usr/local/lib/python3.8/dist-packages/sklearn/metrics/_classification.py:1248: UndefinedMetricWarning: Jaccard is ill-defined and being set to 0.0 due to no true or predicted samples. Use `zero_division` parameter to control this behavior.\n",
      "  _warn_prf(average, modifier, msg_start, len(result))\n",
      "/usr/local/lib/python3.8/dist-packages/sklearn/metrics/_classification.py:1248: UndefinedMetricWarning: Jaccard is ill-defined and being set to 0.0 due to no true or predicted samples. Use `zero_division` parameter to control this behavior.\n",
      "  _warn_prf(average, modifier, msg_start, len(result))\n",
      " 88%|█████████████████████████████████████████████████████████████████████████████████████████████████████████████████████████████████████████████████████████                     | 88/100 [11:36<02:00, 10.05s/it]"
     ]
    },
    {
     "name": "stdout",
     "output_type": "stream",
     "text": [
      "mIOU given by: 0.3174245182795108\n",
      "[0.4800828259274245, 0.3141256294622326, 0.43314472897323886, 0.3108838838691709, 0.4217744661366317, 0.30750138626132656, 0.23392175229936546, 0.5477260303527688, 0.4806466370151126, 0.4273892546729509, 0.23403418107045632, 0.622984223580449, 0.28395898477729614, 0.5053798888534788, 0.36854260904913283, 0.23487570158381382, 0.2776467227756309, 0.6755961181605183, 0.37903712673606926, 0.5504114010316731, 0.37429026290122175, 0.496385323357798, 0.39196129947896174, 0.37924939647851275, 0.5853269475386425, 0.255262318179988, 0.6848665717060205, 0.30138798440552894, 0.5921036056828485, 0.6546765959275835, 0.27826561055984433, 0.22863031747535176, 0.27819431972682734, 0.5282928933268631, 0.29809156976279433, 0.2563069268808263, 0.41665888131670775, 0.4455425174190389, 0.34989910732345086, 0.5253094595573349, 0.2890501560457343, 0.4635251003659016, 0.24949786498487941, 0.3703191870359074, 0.3865878299278053, 0.5965633281022387, 0.29854842588276786, 0.36455184643516014, 0.4672057744440935, 0.28608381392909565, 0.660474617707548, 0.36995875605510714, 0.21945322556332392, 0.4129921812023513, 0.6380386723577989, 0.4061284989658414, 0.4925925715161546, 0.510103539110759, 0.3514833816962437, 0.33528637051815435, 0.33819533628154197, 0.5021063505252817, 0.2877435568473731, 0.5891480131841499, 0.5533526939783981, 0.34352733370154254, 0.3384086923052993, 0.22271800487470828, 0.5073600516432464, 0.33488550937204525, 0.31599287733920467, 0.4427037114966608, 0.4858685740850179, 0.7067245979891372, 0.4690826399445896, 0.6355670688173295, 0.18795980837983148, 0.6419685226000515, 0.30466211400702536, 0.6197089997148911, 0.2722936595196873, 0.2838553068763355, 0.3647035686781857, 0.32497194534968854, 0.2999724561382861, 0.3994000120406234, 0.21950022660212365, 0.3174245182795108]\n"
     ]
    },
    {
     "name": "stderr",
     "output_type": "stream",
     "text": [
      "/usr/local/lib/python3.8/dist-packages/sklearn/metrics/_classification.py:1248: UndefinedMetricWarning: Jaccard is ill-defined and being set to 0.0 due to no true or predicted samples. Use `zero_division` parameter to control this behavior.\n",
      "  _warn_prf(average, modifier, msg_start, len(result))\n",
      "/usr/local/lib/python3.8/dist-packages/sklearn/metrics/_classification.py:1248: UndefinedMetricWarning: Jaccard is ill-defined and being set to 0.0 due to no true or predicted samples. Use `zero_division` parameter to control this behavior.\n",
      "  _warn_prf(average, modifier, msg_start, len(result))\n",
      "/usr/local/lib/python3.8/dist-packages/sklearn/metrics/_classification.py:1248: UndefinedMetricWarning: Jaccard is ill-defined and being set to 0.0 due to no true or predicted samples. Use `zero_division` parameter to control this behavior.\n",
      "  _warn_prf(average, modifier, msg_start, len(result))\n",
      "/usr/local/lib/python3.8/dist-packages/sklearn/metrics/_classification.py:1248: UndefinedMetricWarning: Jaccard is ill-defined and being set to 0.0 due to no true or predicted samples. Use `zero_division` parameter to control this behavior.\n",
      "  _warn_prf(average, modifier, msg_start, len(result))\n",
      "/usr/local/lib/python3.8/dist-packages/sklearn/metrics/_classification.py:1248: UndefinedMetricWarning: Jaccard is ill-defined and being set to 0.0 due to no true or predicted samples. Use `zero_division` parameter to control this behavior.\n",
      "  _warn_prf(average, modifier, msg_start, len(result))\n",
      "/usr/local/lib/python3.8/dist-packages/sklearn/metrics/_classification.py:1248: UndefinedMetricWarning: Jaccard is ill-defined and being set to 0.0 due to no true or predicted samples. Use `zero_division` parameter to control this behavior.\n",
      "  _warn_prf(average, modifier, msg_start, len(result))\n",
      "/usr/local/lib/python3.8/dist-packages/sklearn/metrics/_classification.py:1248: UndefinedMetricWarning: Jaccard is ill-defined and being set to 0.0 due to no true or predicted samples. Use `zero_division` parameter to control this behavior.\n",
      "  _warn_prf(average, modifier, msg_start, len(result))\n",
      "/usr/local/lib/python3.8/dist-packages/sklearn/metrics/_classification.py:1248: UndefinedMetricWarning: Jaccard is ill-defined and being set to 0.0 due to no true or predicted samples. Use `zero_division` parameter to control this behavior.\n",
      "  _warn_prf(average, modifier, msg_start, len(result))\n",
      "/usr/local/lib/python3.8/dist-packages/sklearn/metrics/_classification.py:1248: UndefinedMetricWarning: Jaccard is ill-defined and being set to 0.0 due to no true or predicted samples. Use `zero_division` parameter to control this behavior.\n",
      "  _warn_prf(average, modifier, msg_start, len(result))\n",
      "/usr/local/lib/python3.8/dist-packages/sklearn/metrics/_classification.py:1248: UndefinedMetricWarning: Jaccard is ill-defined and being set to 0.0 due to no true or predicted samples. Use `zero_division` parameter to control this behavior.\n",
      "  _warn_prf(average, modifier, msg_start, len(result))\n",
      "/usr/local/lib/python3.8/dist-packages/sklearn/metrics/_classification.py:1248: UndefinedMetricWarning: Jaccard is ill-defined and being set to 0.0 due to no true or predicted samples. Use `zero_division` parameter to control this behavior.\n",
      "  _warn_prf(average, modifier, msg_start, len(result))\n",
      "/usr/local/lib/python3.8/dist-packages/sklearn/metrics/_classification.py:1248: UndefinedMetricWarning: Jaccard is ill-defined and being set to 0.0 due to no true or predicted samples. Use `zero_division` parameter to control this behavior.\n",
      "  _warn_prf(average, modifier, msg_start, len(result))\n",
      " 89%|██████████████████████████████████████████████████████████████████████████████████████████████████████████████████████████████████████████████████████████▊                   | 89/100 [11:46<01:51, 10.10s/it]"
     ]
    },
    {
     "name": "stdout",
     "output_type": "stream",
     "text": [
      "mIOU given by: 0.4636270492510911\n",
      "[0.4800828259274245, 0.3141256294622326, 0.43314472897323886, 0.3108838838691709, 0.4217744661366317, 0.30750138626132656, 0.23392175229936546, 0.5477260303527688, 0.4806466370151126, 0.4273892546729509, 0.23403418107045632, 0.622984223580449, 0.28395898477729614, 0.5053798888534788, 0.36854260904913283, 0.23487570158381382, 0.2776467227756309, 0.6755961181605183, 0.37903712673606926, 0.5504114010316731, 0.37429026290122175, 0.496385323357798, 0.39196129947896174, 0.37924939647851275, 0.5853269475386425, 0.255262318179988, 0.6848665717060205, 0.30138798440552894, 0.5921036056828485, 0.6546765959275835, 0.27826561055984433, 0.22863031747535176, 0.27819431972682734, 0.5282928933268631, 0.29809156976279433, 0.2563069268808263, 0.41665888131670775, 0.4455425174190389, 0.34989910732345086, 0.5253094595573349, 0.2890501560457343, 0.4635251003659016, 0.24949786498487941, 0.3703191870359074, 0.3865878299278053, 0.5965633281022387, 0.29854842588276786, 0.36455184643516014, 0.4672057744440935, 0.28608381392909565, 0.660474617707548, 0.36995875605510714, 0.21945322556332392, 0.4129921812023513, 0.6380386723577989, 0.4061284989658414, 0.4925925715161546, 0.510103539110759, 0.3514833816962437, 0.33528637051815435, 0.33819533628154197, 0.5021063505252817, 0.2877435568473731, 0.5891480131841499, 0.5533526939783981, 0.34352733370154254, 0.3384086923052993, 0.22271800487470828, 0.5073600516432464, 0.33488550937204525, 0.31599287733920467, 0.4427037114966608, 0.4858685740850179, 0.7067245979891372, 0.4690826399445896, 0.6355670688173295, 0.18795980837983148, 0.6419685226000515, 0.30466211400702536, 0.6197089997148911, 0.2722936595196873, 0.2838553068763355, 0.3647035686781857, 0.32497194534968854, 0.2999724561382861, 0.3994000120406234, 0.21950022660212365, 0.3174245182795108, 0.4636270492510911]\n"
     ]
    },
    {
     "name": "stderr",
     "output_type": "stream",
     "text": [
      "/usr/local/lib/python3.8/dist-packages/sklearn/metrics/_classification.py:1248: UndefinedMetricWarning: Jaccard is ill-defined and being set to 0.0 due to no true or predicted samples. Use `zero_division` parameter to control this behavior.\n",
      "  _warn_prf(average, modifier, msg_start, len(result))\n",
      "/usr/local/lib/python3.8/dist-packages/sklearn/metrics/_classification.py:1248: UndefinedMetricWarning: Jaccard is ill-defined and being set to 0.0 due to no true or predicted samples. Use `zero_division` parameter to control this behavior.\n",
      "  _warn_prf(average, modifier, msg_start, len(result))\n",
      "/usr/local/lib/python3.8/dist-packages/sklearn/metrics/_classification.py:1248: UndefinedMetricWarning: Jaccard is ill-defined and being set to 0.0 due to no true or predicted samples. Use `zero_division` parameter to control this behavior.\n",
      "  _warn_prf(average, modifier, msg_start, len(result))\n",
      "/usr/local/lib/python3.8/dist-packages/sklearn/metrics/_classification.py:1248: UndefinedMetricWarning: Jaccard is ill-defined and being set to 0.0 due to no true or predicted samples. Use `zero_division` parameter to control this behavior.\n",
      "  _warn_prf(average, modifier, msg_start, len(result))\n",
      "/usr/local/lib/python3.8/dist-packages/sklearn/metrics/_classification.py:1248: UndefinedMetricWarning: Jaccard is ill-defined and being set to 0.0 due to no true or predicted samples. Use `zero_division` parameter to control this behavior.\n",
      "  _warn_prf(average, modifier, msg_start, len(result))\n",
      "/usr/local/lib/python3.8/dist-packages/sklearn/metrics/_classification.py:1248: UndefinedMetricWarning: Jaccard is ill-defined and being set to 0.0 due to no true or predicted samples. Use `zero_division` parameter to control this behavior.\n",
      "  _warn_prf(average, modifier, msg_start, len(result))\n",
      "/usr/local/lib/python3.8/dist-packages/sklearn/metrics/_classification.py:1248: UndefinedMetricWarning: Jaccard is ill-defined and being set to 0.0 due to no true or predicted samples. Use `zero_division` parameter to control this behavior.\n",
      "  _warn_prf(average, modifier, msg_start, len(result))\n",
      "/usr/local/lib/python3.8/dist-packages/sklearn/metrics/_classification.py:1248: UndefinedMetricWarning: Jaccard is ill-defined and being set to 0.0 due to no true or predicted samples. Use `zero_division` parameter to control this behavior.\n",
      "  _warn_prf(average, modifier, msg_start, len(result))\n",
      "/usr/local/lib/python3.8/dist-packages/sklearn/metrics/_classification.py:1248: UndefinedMetricWarning: Jaccard is ill-defined and being set to 0.0 due to no true or predicted samples. Use `zero_division` parameter to control this behavior.\n",
      "  _warn_prf(average, modifier, msg_start, len(result))\n",
      "/usr/local/lib/python3.8/dist-packages/sklearn/metrics/_classification.py:1248: UndefinedMetricWarning: Jaccard is ill-defined and being set to 0.0 due to no true or predicted samples. Use `zero_division` parameter to control this behavior.\n",
      "  _warn_prf(average, modifier, msg_start, len(result))\n",
      "/usr/local/lib/python3.8/dist-packages/sklearn/metrics/_classification.py:1248: UndefinedMetricWarning: Jaccard is ill-defined and being set to 0.0 due to no true or predicted samples. Use `zero_division` parameter to control this behavior.\n",
      "  _warn_prf(average, modifier, msg_start, len(result))\n",
      "/usr/local/lib/python3.8/dist-packages/sklearn/metrics/_classification.py:1248: UndefinedMetricWarning: Jaccard is ill-defined and being set to 0.0 due to no true or predicted samples. Use `zero_division` parameter to control this behavior.\n",
      "  _warn_prf(average, modifier, msg_start, len(result))\n",
      " 90%|████████████████████████████████████████████████████████████████████████████████████████████████████████████████████████████████████████████████████████████▌                 | 90/100 [12:05<02:09, 12.91s/it]"
     ]
    },
    {
     "name": "stdout",
     "output_type": "stream",
     "text": [
      "mIOU given by: 0.4673374997438176\n",
      "[0.4800828259274245, 0.3141256294622326, 0.43314472897323886, 0.3108838838691709, 0.4217744661366317, 0.30750138626132656, 0.23392175229936546, 0.5477260303527688, 0.4806466370151126, 0.4273892546729509, 0.23403418107045632, 0.622984223580449, 0.28395898477729614, 0.5053798888534788, 0.36854260904913283, 0.23487570158381382, 0.2776467227756309, 0.6755961181605183, 0.37903712673606926, 0.5504114010316731, 0.37429026290122175, 0.496385323357798, 0.39196129947896174, 0.37924939647851275, 0.5853269475386425, 0.255262318179988, 0.6848665717060205, 0.30138798440552894, 0.5921036056828485, 0.6546765959275835, 0.27826561055984433, 0.22863031747535176, 0.27819431972682734, 0.5282928933268631, 0.29809156976279433, 0.2563069268808263, 0.41665888131670775, 0.4455425174190389, 0.34989910732345086, 0.5253094595573349, 0.2890501560457343, 0.4635251003659016, 0.24949786498487941, 0.3703191870359074, 0.3865878299278053, 0.5965633281022387, 0.29854842588276786, 0.36455184643516014, 0.4672057744440935, 0.28608381392909565, 0.660474617707548, 0.36995875605510714, 0.21945322556332392, 0.4129921812023513, 0.6380386723577989, 0.4061284989658414, 0.4925925715161546, 0.510103539110759, 0.3514833816962437, 0.33528637051815435, 0.33819533628154197, 0.5021063505252817, 0.2877435568473731, 0.5891480131841499, 0.5533526939783981, 0.34352733370154254, 0.3384086923052993, 0.22271800487470828, 0.5073600516432464, 0.33488550937204525, 0.31599287733920467, 0.4427037114966608, 0.4858685740850179, 0.7067245979891372, 0.4690826399445896, 0.6355670688173295, 0.18795980837983148, 0.6419685226000515, 0.30466211400702536, 0.6197089997148911, 0.2722936595196873, 0.2838553068763355, 0.3647035686781857, 0.32497194534968854, 0.2999724561382861, 0.3994000120406234, 0.21950022660212365, 0.3174245182795108, 0.4636270492510911, 0.4673374997438176]\n"
     ]
    },
    {
     "name": "stderr",
     "output_type": "stream",
     "text": [
      "/usr/local/lib/python3.8/dist-packages/sklearn/metrics/_classification.py:1248: UndefinedMetricWarning: Jaccard is ill-defined and being set to 0.0 due to no true or predicted samples. Use `zero_division` parameter to control this behavior.\n",
      "  _warn_prf(average, modifier, msg_start, len(result))\n",
      "/usr/local/lib/python3.8/dist-packages/sklearn/metrics/_classification.py:1248: UndefinedMetricWarning: Jaccard is ill-defined and being set to 0.0 due to no true or predicted samples. Use `zero_division` parameter to control this behavior.\n",
      "  _warn_prf(average, modifier, msg_start, len(result))\n",
      "/usr/local/lib/python3.8/dist-packages/sklearn/metrics/_classification.py:1248: UndefinedMetricWarning: Jaccard is ill-defined and being set to 0.0 due to no true or predicted samples. Use `zero_division` parameter to control this behavior.\n",
      "  _warn_prf(average, modifier, msg_start, len(result))\n",
      "/usr/local/lib/python3.8/dist-packages/sklearn/metrics/_classification.py:1248: UndefinedMetricWarning: Jaccard is ill-defined and being set to 0.0 due to no true or predicted samples. Use `zero_division` parameter to control this behavior.\n",
      "  _warn_prf(average, modifier, msg_start, len(result))\n",
      "/usr/local/lib/python3.8/dist-packages/sklearn/metrics/_classification.py:1248: UndefinedMetricWarning: Jaccard is ill-defined and being set to 0.0 due to no true or predicted samples. Use `zero_division` parameter to control this behavior.\n",
      "  _warn_prf(average, modifier, msg_start, len(result))\n",
      "/usr/local/lib/python3.8/dist-packages/sklearn/metrics/_classification.py:1248: UndefinedMetricWarning: Jaccard is ill-defined and being set to 0.0 due to no true or predicted samples. Use `zero_division` parameter to control this behavior.\n",
      "  _warn_prf(average, modifier, msg_start, len(result))\n",
      "/usr/local/lib/python3.8/dist-packages/sklearn/metrics/_classification.py:1248: UndefinedMetricWarning: Jaccard is ill-defined and being set to 0.0 due to no true or predicted samples. Use `zero_division` parameter to control this behavior.\n",
      "  _warn_prf(average, modifier, msg_start, len(result))\n",
      "/usr/local/lib/python3.8/dist-packages/sklearn/metrics/_classification.py:1248: UndefinedMetricWarning: Jaccard is ill-defined and being set to 0.0 due to no true or predicted samples. Use `zero_division` parameter to control this behavior.\n",
      "  _warn_prf(average, modifier, msg_start, len(result))\n",
      "/usr/local/lib/python3.8/dist-packages/sklearn/metrics/_classification.py:1248: UndefinedMetricWarning: Jaccard is ill-defined and being set to 0.0 due to no true or predicted samples. Use `zero_division` parameter to control this behavior.\n",
      "  _warn_prf(average, modifier, msg_start, len(result))\n",
      "/usr/local/lib/python3.8/dist-packages/sklearn/metrics/_classification.py:1248: UndefinedMetricWarning: Jaccard is ill-defined and being set to 0.0 due to no true or predicted samples. Use `zero_division` parameter to control this behavior.\n",
      "  _warn_prf(average, modifier, msg_start, len(result))\n",
      " 91%|██████████████████████████████████████████████████████████████████████████████████████████████████████████████████████████████████████████████████████████████▎               | 91/100 [12:17<01:52, 12.48s/it]"
     ]
    },
    {
     "name": "stdout",
     "output_type": "stream",
     "text": [
      "mIOU given by: 0.3154642743049199\n",
      "[0.4800828259274245, 0.3141256294622326, 0.43314472897323886, 0.3108838838691709, 0.4217744661366317, 0.30750138626132656, 0.23392175229936546, 0.5477260303527688, 0.4806466370151126, 0.4273892546729509, 0.23403418107045632, 0.622984223580449, 0.28395898477729614, 0.5053798888534788, 0.36854260904913283, 0.23487570158381382, 0.2776467227756309, 0.6755961181605183, 0.37903712673606926, 0.5504114010316731, 0.37429026290122175, 0.496385323357798, 0.39196129947896174, 0.37924939647851275, 0.5853269475386425, 0.255262318179988, 0.6848665717060205, 0.30138798440552894, 0.5921036056828485, 0.6546765959275835, 0.27826561055984433, 0.22863031747535176, 0.27819431972682734, 0.5282928933268631, 0.29809156976279433, 0.2563069268808263, 0.41665888131670775, 0.4455425174190389, 0.34989910732345086, 0.5253094595573349, 0.2890501560457343, 0.4635251003659016, 0.24949786498487941, 0.3703191870359074, 0.3865878299278053, 0.5965633281022387, 0.29854842588276786, 0.36455184643516014, 0.4672057744440935, 0.28608381392909565, 0.660474617707548, 0.36995875605510714, 0.21945322556332392, 0.4129921812023513, 0.6380386723577989, 0.4061284989658414, 0.4925925715161546, 0.510103539110759, 0.3514833816962437, 0.33528637051815435, 0.33819533628154197, 0.5021063505252817, 0.2877435568473731, 0.5891480131841499, 0.5533526939783981, 0.34352733370154254, 0.3384086923052993, 0.22271800487470828, 0.5073600516432464, 0.33488550937204525, 0.31599287733920467, 0.4427037114966608, 0.4858685740850179, 0.7067245979891372, 0.4690826399445896, 0.6355670688173295, 0.18795980837983148, 0.6419685226000515, 0.30466211400702536, 0.6197089997148911, 0.2722936595196873, 0.2838553068763355, 0.3647035686781857, 0.32497194534968854, 0.2999724561382861, 0.3994000120406234, 0.21950022660212365, 0.3174245182795108, 0.4636270492510911, 0.4673374997438176, 0.3154642743049199]\n"
     ]
    },
    {
     "name": "stderr",
     "output_type": "stream",
     "text": [
      "/usr/local/lib/python3.8/dist-packages/sklearn/metrics/_classification.py:1248: UndefinedMetricWarning: Jaccard is ill-defined and being set to 0.0 due to no true or predicted samples. Use `zero_division` parameter to control this behavior.\n",
      "  _warn_prf(average, modifier, msg_start, len(result))\n",
      "/usr/local/lib/python3.8/dist-packages/sklearn/metrics/_classification.py:1248: UndefinedMetricWarning: Jaccard is ill-defined and being set to 0.0 due to no true or predicted samples. Use `zero_division` parameter to control this behavior.\n",
      "  _warn_prf(average, modifier, msg_start, len(result))\n",
      "/usr/local/lib/python3.8/dist-packages/sklearn/metrics/_classification.py:1248: UndefinedMetricWarning: Jaccard is ill-defined and being set to 0.0 due to no true or predicted samples. Use `zero_division` parameter to control this behavior.\n",
      "  _warn_prf(average, modifier, msg_start, len(result))\n",
      "/usr/local/lib/python3.8/dist-packages/sklearn/metrics/_classification.py:1248: UndefinedMetricWarning: Jaccard is ill-defined and being set to 0.0 due to no true or predicted samples. Use `zero_division` parameter to control this behavior.\n",
      "  _warn_prf(average, modifier, msg_start, len(result))\n",
      "/usr/local/lib/python3.8/dist-packages/sklearn/metrics/_classification.py:1248: UndefinedMetricWarning: Jaccard is ill-defined and being set to 0.0 due to no true or predicted samples. Use `zero_division` parameter to control this behavior.\n",
      "  _warn_prf(average, modifier, msg_start, len(result))\n",
      "/usr/local/lib/python3.8/dist-packages/sklearn/metrics/_classification.py:1248: UndefinedMetricWarning: Jaccard is ill-defined and being set to 0.0 due to no true or predicted samples. Use `zero_division` parameter to control this behavior.\n",
      "  _warn_prf(average, modifier, msg_start, len(result))\n",
      "/usr/local/lib/python3.8/dist-packages/sklearn/metrics/_classification.py:1248: UndefinedMetricWarning: Jaccard is ill-defined and being set to 0.0 due to no true or predicted samples. Use `zero_division` parameter to control this behavior.\n",
      "  _warn_prf(average, modifier, msg_start, len(result))\n",
      "/usr/local/lib/python3.8/dist-packages/sklearn/metrics/_classification.py:1248: UndefinedMetricWarning: Jaccard is ill-defined and being set to 0.0 due to no true or predicted samples. Use `zero_division` parameter to control this behavior.\n",
      "  _warn_prf(average, modifier, msg_start, len(result))\n",
      " 92%|████████████████████████████████████████████████████████████████████████████████████████████████████████████████████████████████████████████████████████████████              | 92/100 [12:25<01:29, 11.16s/it]"
     ]
    },
    {
     "name": "stdout",
     "output_type": "stream",
     "text": [
      "mIOU given by: 0.29810931767210774\n",
      "[0.4800828259274245, 0.3141256294622326, 0.43314472897323886, 0.3108838838691709, 0.4217744661366317, 0.30750138626132656, 0.23392175229936546, 0.5477260303527688, 0.4806466370151126, 0.4273892546729509, 0.23403418107045632, 0.622984223580449, 0.28395898477729614, 0.5053798888534788, 0.36854260904913283, 0.23487570158381382, 0.2776467227756309, 0.6755961181605183, 0.37903712673606926, 0.5504114010316731, 0.37429026290122175, 0.496385323357798, 0.39196129947896174, 0.37924939647851275, 0.5853269475386425, 0.255262318179988, 0.6848665717060205, 0.30138798440552894, 0.5921036056828485, 0.6546765959275835, 0.27826561055984433, 0.22863031747535176, 0.27819431972682734, 0.5282928933268631, 0.29809156976279433, 0.2563069268808263, 0.41665888131670775, 0.4455425174190389, 0.34989910732345086, 0.5253094595573349, 0.2890501560457343, 0.4635251003659016, 0.24949786498487941, 0.3703191870359074, 0.3865878299278053, 0.5965633281022387, 0.29854842588276786, 0.36455184643516014, 0.4672057744440935, 0.28608381392909565, 0.660474617707548, 0.36995875605510714, 0.21945322556332392, 0.4129921812023513, 0.6380386723577989, 0.4061284989658414, 0.4925925715161546, 0.510103539110759, 0.3514833816962437, 0.33528637051815435, 0.33819533628154197, 0.5021063505252817, 0.2877435568473731, 0.5891480131841499, 0.5533526939783981, 0.34352733370154254, 0.3384086923052993, 0.22271800487470828, 0.5073600516432464, 0.33488550937204525, 0.31599287733920467, 0.4427037114966608, 0.4858685740850179, 0.7067245979891372, 0.4690826399445896, 0.6355670688173295, 0.18795980837983148, 0.6419685226000515, 0.30466211400702536, 0.6197089997148911, 0.2722936595196873, 0.2838553068763355, 0.3647035686781857, 0.32497194534968854, 0.2999724561382861, 0.3994000120406234, 0.21950022660212365, 0.3174245182795108, 0.4636270492510911, 0.4673374997438176, 0.3154642743049199, 0.29810931767210774]\n"
     ]
    },
    {
     "name": "stderr",
     "output_type": "stream",
     "text": [
      "/usr/local/lib/python3.8/dist-packages/sklearn/metrics/_classification.py:1248: UndefinedMetricWarning: Jaccard is ill-defined and being set to 0.0 due to no true or predicted samples. Use `zero_division` parameter to control this behavior.\n",
      "  _warn_prf(average, modifier, msg_start, len(result))\n",
      "/usr/local/lib/python3.8/dist-packages/sklearn/metrics/_classification.py:1248: UndefinedMetricWarning: Jaccard is ill-defined and being set to 0.0 due to no true or predicted samples. Use `zero_division` parameter to control this behavior.\n",
      "  _warn_prf(average, modifier, msg_start, len(result))\n",
      "/usr/local/lib/python3.8/dist-packages/sklearn/metrics/_classification.py:1248: UndefinedMetricWarning: Jaccard is ill-defined and being set to 0.0 due to no true or predicted samples. Use `zero_division` parameter to control this behavior.\n",
      "  _warn_prf(average, modifier, msg_start, len(result))\n",
      "/usr/local/lib/python3.8/dist-packages/sklearn/metrics/_classification.py:1248: UndefinedMetricWarning: Jaccard is ill-defined and being set to 0.0 due to no true or predicted samples. Use `zero_division` parameter to control this behavior.\n",
      "  _warn_prf(average, modifier, msg_start, len(result))\n",
      "/usr/local/lib/python3.8/dist-packages/sklearn/metrics/_classification.py:1248: UndefinedMetricWarning: Jaccard is ill-defined and being set to 0.0 due to no true or predicted samples. Use `zero_division` parameter to control this behavior.\n",
      "  _warn_prf(average, modifier, msg_start, len(result))\n",
      "/usr/local/lib/python3.8/dist-packages/sklearn/metrics/_classification.py:1248: UndefinedMetricWarning: Jaccard is ill-defined and being set to 0.0 due to no true or predicted samples. Use `zero_division` parameter to control this behavior.\n",
      "  _warn_prf(average, modifier, msg_start, len(result))\n",
      "/usr/local/lib/python3.8/dist-packages/sklearn/metrics/_classification.py:1248: UndefinedMetricWarning: Jaccard is ill-defined and being set to 0.0 due to no true or predicted samples. Use `zero_division` parameter to control this behavior.\n",
      "  _warn_prf(average, modifier, msg_start, len(result))\n",
      "/usr/local/lib/python3.8/dist-packages/sklearn/metrics/_classification.py:1248: UndefinedMetricWarning: Jaccard is ill-defined and being set to 0.0 due to no true or predicted samples. Use `zero_division` parameter to control this behavior.\n",
      "  _warn_prf(average, modifier, msg_start, len(result))\n",
      "/usr/local/lib/python3.8/dist-packages/sklearn/metrics/_classification.py:1248: UndefinedMetricWarning: Jaccard is ill-defined and being set to 0.0 due to no true or predicted samples. Use `zero_division` parameter to control this behavior.\n",
      "  _warn_prf(average, modifier, msg_start, len(result))\n",
      "/usr/local/lib/python3.8/dist-packages/sklearn/metrics/_classification.py:1248: UndefinedMetricWarning: Jaccard is ill-defined and being set to 0.0 due to no true or predicted samples. Use `zero_division` parameter to control this behavior.\n",
      "  _warn_prf(average, modifier, msg_start, len(result))\n",
      "/usr/local/lib/python3.8/dist-packages/sklearn/metrics/_classification.py:1248: UndefinedMetricWarning: Jaccard is ill-defined and being set to 0.0 due to no true or predicted samples. Use `zero_division` parameter to control this behavior.\n",
      "  _warn_prf(average, modifier, msg_start, len(result))\n",
      "/usr/local/lib/python3.8/dist-packages/sklearn/metrics/_classification.py:1248: UndefinedMetricWarning: Jaccard is ill-defined and being set to 0.0 due to no true or predicted samples. Use `zero_division` parameter to control this behavior.\n",
      "  _warn_prf(average, modifier, msg_start, len(result))\n",
      "/usr/local/lib/python3.8/dist-packages/sklearn/metrics/_classification.py:1248: UndefinedMetricWarning: Jaccard is ill-defined and being set to 0.0 due to no true or predicted samples. Use `zero_division` parameter to control this behavior.\n",
      "  _warn_prf(average, modifier, msg_start, len(result))\n",
      " 93%|█████████████████████████████████████████████████████████████████████████████████████████████████████████████████████████████████████████████████████████████████▊            | 93/100 [12:33<01:12, 10.29s/it]"
     ]
    },
    {
     "name": "stdout",
     "output_type": "stream",
     "text": [
      "mIOU given by: 0.569316053154611\n",
      "[0.4800828259274245, 0.3141256294622326, 0.43314472897323886, 0.3108838838691709, 0.4217744661366317, 0.30750138626132656, 0.23392175229936546, 0.5477260303527688, 0.4806466370151126, 0.4273892546729509, 0.23403418107045632, 0.622984223580449, 0.28395898477729614, 0.5053798888534788, 0.36854260904913283, 0.23487570158381382, 0.2776467227756309, 0.6755961181605183, 0.37903712673606926, 0.5504114010316731, 0.37429026290122175, 0.496385323357798, 0.39196129947896174, 0.37924939647851275, 0.5853269475386425, 0.255262318179988, 0.6848665717060205, 0.30138798440552894, 0.5921036056828485, 0.6546765959275835, 0.27826561055984433, 0.22863031747535176, 0.27819431972682734, 0.5282928933268631, 0.29809156976279433, 0.2563069268808263, 0.41665888131670775, 0.4455425174190389, 0.34989910732345086, 0.5253094595573349, 0.2890501560457343, 0.4635251003659016, 0.24949786498487941, 0.3703191870359074, 0.3865878299278053, 0.5965633281022387, 0.29854842588276786, 0.36455184643516014, 0.4672057744440935, 0.28608381392909565, 0.660474617707548, 0.36995875605510714, 0.21945322556332392, 0.4129921812023513, 0.6380386723577989, 0.4061284989658414, 0.4925925715161546, 0.510103539110759, 0.3514833816962437, 0.33528637051815435, 0.33819533628154197, 0.5021063505252817, 0.2877435568473731, 0.5891480131841499, 0.5533526939783981, 0.34352733370154254, 0.3384086923052993, 0.22271800487470828, 0.5073600516432464, 0.33488550937204525, 0.31599287733920467, 0.4427037114966608, 0.4858685740850179, 0.7067245979891372, 0.4690826399445896, 0.6355670688173295, 0.18795980837983148, 0.6419685226000515, 0.30466211400702536, 0.6197089997148911, 0.2722936595196873, 0.2838553068763355, 0.3647035686781857, 0.32497194534968854, 0.2999724561382861, 0.3994000120406234, 0.21950022660212365, 0.3174245182795108, 0.4636270492510911, 0.4673374997438176, 0.3154642743049199, 0.29810931767210774, 0.569316053154611]\n"
     ]
    },
    {
     "name": "stderr",
     "output_type": "stream",
     "text": [
      "/usr/local/lib/python3.8/dist-packages/sklearn/metrics/_classification.py:1248: UndefinedMetricWarning: Jaccard is ill-defined and being set to 0.0 due to no true or predicted samples. Use `zero_division` parameter to control this behavior.\n",
      "  _warn_prf(average, modifier, msg_start, len(result))\n",
      "/usr/local/lib/python3.8/dist-packages/sklearn/metrics/_classification.py:1248: UndefinedMetricWarning: Jaccard is ill-defined and being set to 0.0 due to no true or predicted samples. Use `zero_division` parameter to control this behavior.\n",
      "  _warn_prf(average, modifier, msg_start, len(result))\n",
      "/usr/local/lib/python3.8/dist-packages/sklearn/metrics/_classification.py:1248: UndefinedMetricWarning: Jaccard is ill-defined and being set to 0.0 due to no true or predicted samples. Use `zero_division` parameter to control this behavior.\n",
      "  _warn_prf(average, modifier, msg_start, len(result))\n",
      "/usr/local/lib/python3.8/dist-packages/sklearn/metrics/_classification.py:1248: UndefinedMetricWarning: Jaccard is ill-defined and being set to 0.0 due to no true or predicted samples. Use `zero_division` parameter to control this behavior.\n",
      "  _warn_prf(average, modifier, msg_start, len(result))\n",
      "/usr/local/lib/python3.8/dist-packages/sklearn/metrics/_classification.py:1248: UndefinedMetricWarning: Jaccard is ill-defined and being set to 0.0 due to no true or predicted samples. Use `zero_division` parameter to control this behavior.\n",
      "  _warn_prf(average, modifier, msg_start, len(result))\n",
      "/usr/local/lib/python3.8/dist-packages/sklearn/metrics/_classification.py:1248: UndefinedMetricWarning: Jaccard is ill-defined and being set to 0.0 due to no true or predicted samples. Use `zero_division` parameter to control this behavior.\n",
      "  _warn_prf(average, modifier, msg_start, len(result))\n",
      "/usr/local/lib/python3.8/dist-packages/sklearn/metrics/_classification.py:1248: UndefinedMetricWarning: Jaccard is ill-defined and being set to 0.0 due to no true or predicted samples. Use `zero_division` parameter to control this behavior.\n",
      "  _warn_prf(average, modifier, msg_start, len(result))\n",
      " 94%|███████████████████████████████████████████████████████████████████████████████████████████████████████████████████████████████████████████████████████████████████▌          | 94/100 [12:41<00:57,  9.60s/it]"
     ]
    },
    {
     "name": "stdout",
     "output_type": "stream",
     "text": [
      "mIOU given by: 0.40090543301875153\n",
      "[0.4800828259274245, 0.3141256294622326, 0.43314472897323886, 0.3108838838691709, 0.4217744661366317, 0.30750138626132656, 0.23392175229936546, 0.5477260303527688, 0.4806466370151126, 0.4273892546729509, 0.23403418107045632, 0.622984223580449, 0.28395898477729614, 0.5053798888534788, 0.36854260904913283, 0.23487570158381382, 0.2776467227756309, 0.6755961181605183, 0.37903712673606926, 0.5504114010316731, 0.37429026290122175, 0.496385323357798, 0.39196129947896174, 0.37924939647851275, 0.5853269475386425, 0.255262318179988, 0.6848665717060205, 0.30138798440552894, 0.5921036056828485, 0.6546765959275835, 0.27826561055984433, 0.22863031747535176, 0.27819431972682734, 0.5282928933268631, 0.29809156976279433, 0.2563069268808263, 0.41665888131670775, 0.4455425174190389, 0.34989910732345086, 0.5253094595573349, 0.2890501560457343, 0.4635251003659016, 0.24949786498487941, 0.3703191870359074, 0.3865878299278053, 0.5965633281022387, 0.29854842588276786, 0.36455184643516014, 0.4672057744440935, 0.28608381392909565, 0.660474617707548, 0.36995875605510714, 0.21945322556332392, 0.4129921812023513, 0.6380386723577989, 0.4061284989658414, 0.4925925715161546, 0.510103539110759, 0.3514833816962437, 0.33528637051815435, 0.33819533628154197, 0.5021063505252817, 0.2877435568473731, 0.5891480131841499, 0.5533526939783981, 0.34352733370154254, 0.3384086923052993, 0.22271800487470828, 0.5073600516432464, 0.33488550937204525, 0.31599287733920467, 0.4427037114966608, 0.4858685740850179, 0.7067245979891372, 0.4690826399445896, 0.6355670688173295, 0.18795980837983148, 0.6419685226000515, 0.30466211400702536, 0.6197089997148911, 0.2722936595196873, 0.2838553068763355, 0.3647035686781857, 0.32497194534968854, 0.2999724561382861, 0.3994000120406234, 0.21950022660212365, 0.3174245182795108, 0.4636270492510911, 0.4673374997438176, 0.3154642743049199, 0.29810931767210774, 0.569316053154611, 0.40090543301875153]\n"
     ]
    },
    {
     "name": "stderr",
     "output_type": "stream",
     "text": [
      "/usr/local/lib/python3.8/dist-packages/sklearn/metrics/_classification.py:1248: UndefinedMetricWarning: Jaccard is ill-defined and being set to 0.0 due to no true or predicted samples. Use `zero_division` parameter to control this behavior.\n",
      "  _warn_prf(average, modifier, msg_start, len(result))\n",
      "/usr/local/lib/python3.8/dist-packages/sklearn/metrics/_classification.py:1248: UndefinedMetricWarning: Jaccard is ill-defined and being set to 0.0 due to no true or predicted samples. Use `zero_division` parameter to control this behavior.\n",
      "  _warn_prf(average, modifier, msg_start, len(result))\n",
      "/usr/local/lib/python3.8/dist-packages/sklearn/metrics/_classification.py:1248: UndefinedMetricWarning: Jaccard is ill-defined and being set to 0.0 due to no true or predicted samples. Use `zero_division` parameter to control this behavior.\n",
      "  _warn_prf(average, modifier, msg_start, len(result))\n",
      "/usr/local/lib/python3.8/dist-packages/sklearn/metrics/_classification.py:1248: UndefinedMetricWarning: Jaccard is ill-defined and being set to 0.0 due to no true or predicted samples. Use `zero_division` parameter to control this behavior.\n",
      "  _warn_prf(average, modifier, msg_start, len(result))\n",
      "/usr/local/lib/python3.8/dist-packages/sklearn/metrics/_classification.py:1248: UndefinedMetricWarning: Jaccard is ill-defined and being set to 0.0 due to no true or predicted samples. Use `zero_division` parameter to control this behavior.\n",
      "  _warn_prf(average, modifier, msg_start, len(result))\n",
      "/usr/local/lib/python3.8/dist-packages/sklearn/metrics/_classification.py:1248: UndefinedMetricWarning: Jaccard is ill-defined and being set to 0.0 due to no true or predicted samples. Use `zero_division` parameter to control this behavior.\n",
      "  _warn_prf(average, modifier, msg_start, len(result))\n",
      "/usr/local/lib/python3.8/dist-packages/sklearn/metrics/_classification.py:1248: UndefinedMetricWarning: Jaccard is ill-defined and being set to 0.0 due to no true or predicted samples. Use `zero_division` parameter to control this behavior.\n",
      "  _warn_prf(average, modifier, msg_start, len(result))\n",
      "/usr/local/lib/python3.8/dist-packages/sklearn/metrics/_classification.py:1248: UndefinedMetricWarning: Jaccard is ill-defined and being set to 0.0 due to no true or predicted samples. Use `zero_division` parameter to control this behavior.\n",
      "  _warn_prf(average, modifier, msg_start, len(result))\n",
      "/usr/local/lib/python3.8/dist-packages/sklearn/metrics/_classification.py:1248: UndefinedMetricWarning: Jaccard is ill-defined and being set to 0.0 due to no true or predicted samples. Use `zero_division` parameter to control this behavior.\n",
      "  _warn_prf(average, modifier, msg_start, len(result))\n",
      "/usr/local/lib/python3.8/dist-packages/sklearn/metrics/_classification.py:1248: UndefinedMetricWarning: Jaccard is ill-defined and being set to 0.0 due to no true or predicted samples. Use `zero_division` parameter to control this behavior.\n",
      "  _warn_prf(average, modifier, msg_start, len(result))\n",
      "/usr/local/lib/python3.8/dist-packages/sklearn/metrics/_classification.py:1248: UndefinedMetricWarning: Jaccard is ill-defined and being set to 0.0 due to no true or predicted samples. Use `zero_division` parameter to control this behavior.\n",
      "  _warn_prf(average, modifier, msg_start, len(result))\n",
      "/usr/local/lib/python3.8/dist-packages/sklearn/metrics/_classification.py:1248: UndefinedMetricWarning: Jaccard is ill-defined and being set to 0.0 due to no true or predicted samples. Use `zero_division` parameter to control this behavior.\n",
      "  _warn_prf(average, modifier, msg_start, len(result))\n",
      "/usr/local/lib/python3.8/dist-packages/sklearn/metrics/_classification.py:1248: UndefinedMetricWarning: Jaccard is ill-defined and being set to 0.0 due to no true or predicted samples. Use `zero_division` parameter to control this behavior.\n",
      "  _warn_prf(average, modifier, msg_start, len(result))\n",
      " 95%|█████████████████████████████████████████████████████████████████████████████████████████████████████████████████████████████████████████████████████████████████████▎        | 95/100 [12:49<00:44,  8.96s/it]"
     ]
    },
    {
     "name": "stdout",
     "output_type": "stream",
     "text": [
      "mIOU given by: 0.2193442452115066\n",
      "[0.4800828259274245, 0.3141256294622326, 0.43314472897323886, 0.3108838838691709, 0.4217744661366317, 0.30750138626132656, 0.23392175229936546, 0.5477260303527688, 0.4806466370151126, 0.4273892546729509, 0.23403418107045632, 0.622984223580449, 0.28395898477729614, 0.5053798888534788, 0.36854260904913283, 0.23487570158381382, 0.2776467227756309, 0.6755961181605183, 0.37903712673606926, 0.5504114010316731, 0.37429026290122175, 0.496385323357798, 0.39196129947896174, 0.37924939647851275, 0.5853269475386425, 0.255262318179988, 0.6848665717060205, 0.30138798440552894, 0.5921036056828485, 0.6546765959275835, 0.27826561055984433, 0.22863031747535176, 0.27819431972682734, 0.5282928933268631, 0.29809156976279433, 0.2563069268808263, 0.41665888131670775, 0.4455425174190389, 0.34989910732345086, 0.5253094595573349, 0.2890501560457343, 0.4635251003659016, 0.24949786498487941, 0.3703191870359074, 0.3865878299278053, 0.5965633281022387, 0.29854842588276786, 0.36455184643516014, 0.4672057744440935, 0.28608381392909565, 0.660474617707548, 0.36995875605510714, 0.21945322556332392, 0.4129921812023513, 0.6380386723577989, 0.4061284989658414, 0.4925925715161546, 0.510103539110759, 0.3514833816962437, 0.33528637051815435, 0.33819533628154197, 0.5021063505252817, 0.2877435568473731, 0.5891480131841499, 0.5533526939783981, 0.34352733370154254, 0.3384086923052993, 0.22271800487470828, 0.5073600516432464, 0.33488550937204525, 0.31599287733920467, 0.4427037114966608, 0.4858685740850179, 0.7067245979891372, 0.4690826399445896, 0.6355670688173295, 0.18795980837983148, 0.6419685226000515, 0.30466211400702536, 0.6197089997148911, 0.2722936595196873, 0.2838553068763355, 0.3647035686781857, 0.32497194534968854, 0.2999724561382861, 0.3994000120406234, 0.21950022660212365, 0.3174245182795108, 0.4636270492510911, 0.4673374997438176, 0.3154642743049199, 0.29810931767210774, 0.569316053154611, 0.40090543301875153, 0.2193442452115066]\n"
     ]
    },
    {
     "name": "stderr",
     "output_type": "stream",
     "text": [
      "/usr/local/lib/python3.8/dist-packages/sklearn/metrics/_classification.py:1248: UndefinedMetricWarning: Jaccard is ill-defined and being set to 0.0 due to no true or predicted samples. Use `zero_division` parameter to control this behavior.\n",
      "  _warn_prf(average, modifier, msg_start, len(result))\n",
      "/usr/local/lib/python3.8/dist-packages/sklearn/metrics/_classification.py:1248: UndefinedMetricWarning: Jaccard is ill-defined and being set to 0.0 due to no true or predicted samples. Use `zero_division` parameter to control this behavior.\n",
      "  _warn_prf(average, modifier, msg_start, len(result))\n",
      "/usr/local/lib/python3.8/dist-packages/sklearn/metrics/_classification.py:1248: UndefinedMetricWarning: Jaccard is ill-defined and being set to 0.0 due to no true or predicted samples. Use `zero_division` parameter to control this behavior.\n",
      "  _warn_prf(average, modifier, msg_start, len(result))\n",
      "/usr/local/lib/python3.8/dist-packages/sklearn/metrics/_classification.py:1248: UndefinedMetricWarning: Jaccard is ill-defined and being set to 0.0 due to no true or predicted samples. Use `zero_division` parameter to control this behavior.\n",
      "  _warn_prf(average, modifier, msg_start, len(result))\n",
      "/usr/local/lib/python3.8/dist-packages/sklearn/metrics/_classification.py:1248: UndefinedMetricWarning: Jaccard is ill-defined and being set to 0.0 due to no true or predicted samples. Use `zero_division` parameter to control this behavior.\n",
      "  _warn_prf(average, modifier, msg_start, len(result))\n",
      "/usr/local/lib/python3.8/dist-packages/sklearn/metrics/_classification.py:1248: UndefinedMetricWarning: Jaccard is ill-defined and being set to 0.0 due to no true or predicted samples. Use `zero_division` parameter to control this behavior.\n",
      "  _warn_prf(average, modifier, msg_start, len(result))\n",
      "/usr/local/lib/python3.8/dist-packages/sklearn/metrics/_classification.py:1248: UndefinedMetricWarning: Jaccard is ill-defined and being set to 0.0 due to no true or predicted samples. Use `zero_division` parameter to control this behavior.\n",
      "  _warn_prf(average, modifier, msg_start, len(result))\n",
      "/usr/local/lib/python3.8/dist-packages/sklearn/metrics/_classification.py:1248: UndefinedMetricWarning: Jaccard is ill-defined and being set to 0.0 due to no true or predicted samples. Use `zero_division` parameter to control this behavior.\n",
      "  _warn_prf(average, modifier, msg_start, len(result))\n",
      "/usr/local/lib/python3.8/dist-packages/sklearn/metrics/_classification.py:1248: UndefinedMetricWarning: Jaccard is ill-defined and being set to 0.0 due to no true or predicted samples. Use `zero_division` parameter to control this behavior.\n",
      "  _warn_prf(average, modifier, msg_start, len(result))\n",
      "/usr/local/lib/python3.8/dist-packages/sklearn/metrics/_classification.py:1248: UndefinedMetricWarning: Jaccard is ill-defined and being set to 0.0 due to no true or predicted samples. Use `zero_division` parameter to control this behavior.\n",
      "  _warn_prf(average, modifier, msg_start, len(result))\n",
      " 96%|███████████████████████████████████████████████████████████████████████████████████████████████████████████████████████████████████████████████████████████████████████       | 96/100 [13:00<00:39,  9.85s/it]"
     ]
    },
    {
     "name": "stdout",
     "output_type": "stream",
     "text": [
      "mIOU given by: 0.6412005253106188\n",
      "[0.4800828259274245, 0.3141256294622326, 0.43314472897323886, 0.3108838838691709, 0.4217744661366317, 0.30750138626132656, 0.23392175229936546, 0.5477260303527688, 0.4806466370151126, 0.4273892546729509, 0.23403418107045632, 0.622984223580449, 0.28395898477729614, 0.5053798888534788, 0.36854260904913283, 0.23487570158381382, 0.2776467227756309, 0.6755961181605183, 0.37903712673606926, 0.5504114010316731, 0.37429026290122175, 0.496385323357798, 0.39196129947896174, 0.37924939647851275, 0.5853269475386425, 0.255262318179988, 0.6848665717060205, 0.30138798440552894, 0.5921036056828485, 0.6546765959275835, 0.27826561055984433, 0.22863031747535176, 0.27819431972682734, 0.5282928933268631, 0.29809156976279433, 0.2563069268808263, 0.41665888131670775, 0.4455425174190389, 0.34989910732345086, 0.5253094595573349, 0.2890501560457343, 0.4635251003659016, 0.24949786498487941, 0.3703191870359074, 0.3865878299278053, 0.5965633281022387, 0.29854842588276786, 0.36455184643516014, 0.4672057744440935, 0.28608381392909565, 0.660474617707548, 0.36995875605510714, 0.21945322556332392, 0.4129921812023513, 0.6380386723577989, 0.4061284989658414, 0.4925925715161546, 0.510103539110759, 0.3514833816962437, 0.33528637051815435, 0.33819533628154197, 0.5021063505252817, 0.2877435568473731, 0.5891480131841499, 0.5533526939783981, 0.34352733370154254, 0.3384086923052993, 0.22271800487470828, 0.5073600516432464, 0.33488550937204525, 0.31599287733920467, 0.4427037114966608, 0.4858685740850179, 0.7067245979891372, 0.4690826399445896, 0.6355670688173295, 0.18795980837983148, 0.6419685226000515, 0.30466211400702536, 0.6197089997148911, 0.2722936595196873, 0.2838553068763355, 0.3647035686781857, 0.32497194534968854, 0.2999724561382861, 0.3994000120406234, 0.21950022660212365, 0.3174245182795108, 0.4636270492510911, 0.4673374997438176, 0.3154642743049199, 0.29810931767210774, 0.569316053154611, 0.40090543301875153, 0.2193442452115066, 0.6412005253106188]\n"
     ]
    },
    {
     "name": "stderr",
     "output_type": "stream",
     "text": [
      "/usr/local/lib/python3.8/dist-packages/sklearn/metrics/_classification.py:1248: UndefinedMetricWarning: Jaccard is ill-defined and being set to 0.0 due to no true or predicted samples. Use `zero_division` parameter to control this behavior.\n",
      "  _warn_prf(average, modifier, msg_start, len(result))\n",
      "/usr/local/lib/python3.8/dist-packages/sklearn/metrics/_classification.py:1248: UndefinedMetricWarning: Jaccard is ill-defined and being set to 0.0 due to no true or predicted samples. Use `zero_division` parameter to control this behavior.\n",
      "  _warn_prf(average, modifier, msg_start, len(result))\n",
      "/usr/local/lib/python3.8/dist-packages/sklearn/metrics/_classification.py:1248: UndefinedMetricWarning: Jaccard is ill-defined and being set to 0.0 due to no true or predicted samples. Use `zero_division` parameter to control this behavior.\n",
      "  _warn_prf(average, modifier, msg_start, len(result))\n",
      "/usr/local/lib/python3.8/dist-packages/sklearn/metrics/_classification.py:1248: UndefinedMetricWarning: Jaccard is ill-defined and being set to 0.0 due to no true or predicted samples. Use `zero_division` parameter to control this behavior.\n",
      "  _warn_prf(average, modifier, msg_start, len(result))\n",
      "/usr/local/lib/python3.8/dist-packages/sklearn/metrics/_classification.py:1248: UndefinedMetricWarning: Jaccard is ill-defined and being set to 0.0 due to no true or predicted samples. Use `zero_division` parameter to control this behavior.\n",
      "  _warn_prf(average, modifier, msg_start, len(result))\n",
      "/usr/local/lib/python3.8/dist-packages/sklearn/metrics/_classification.py:1248: UndefinedMetricWarning: Jaccard is ill-defined and being set to 0.0 due to no true or predicted samples. Use `zero_division` parameter to control this behavior.\n",
      "  _warn_prf(average, modifier, msg_start, len(result))\n",
      "/usr/local/lib/python3.8/dist-packages/sklearn/metrics/_classification.py:1248: UndefinedMetricWarning: Jaccard is ill-defined and being set to 0.0 due to no true or predicted samples. Use `zero_division` parameter to control this behavior.\n",
      "  _warn_prf(average, modifier, msg_start, len(result))\n",
      "/usr/local/lib/python3.8/dist-packages/sklearn/metrics/_classification.py:1248: UndefinedMetricWarning: Jaccard is ill-defined and being set to 0.0 due to no true or predicted samples. Use `zero_division` parameter to control this behavior.\n",
      "  _warn_prf(average, modifier, msg_start, len(result))\n",
      "/usr/local/lib/python3.8/dist-packages/sklearn/metrics/_classification.py:1248: UndefinedMetricWarning: Jaccard is ill-defined and being set to 0.0 due to no true or predicted samples. Use `zero_division` parameter to control this behavior.\n",
      "  _warn_prf(average, modifier, msg_start, len(result))\n",
      " 97%|████████████████████████████████████████████████████████████████████████████████████████████████████████████████████████████████████████████████████████████████████████▊     | 97/100 [13:14<00:33, 11.07s/it]"
     ]
    },
    {
     "name": "stdout",
     "output_type": "stream",
     "text": [
      "mIOU given by: 0.33164283054346555\n",
      "[0.4800828259274245, 0.3141256294622326, 0.43314472897323886, 0.3108838838691709, 0.4217744661366317, 0.30750138626132656, 0.23392175229936546, 0.5477260303527688, 0.4806466370151126, 0.4273892546729509, 0.23403418107045632, 0.622984223580449, 0.28395898477729614, 0.5053798888534788, 0.36854260904913283, 0.23487570158381382, 0.2776467227756309, 0.6755961181605183, 0.37903712673606926, 0.5504114010316731, 0.37429026290122175, 0.496385323357798, 0.39196129947896174, 0.37924939647851275, 0.5853269475386425, 0.255262318179988, 0.6848665717060205, 0.30138798440552894, 0.5921036056828485, 0.6546765959275835, 0.27826561055984433, 0.22863031747535176, 0.27819431972682734, 0.5282928933268631, 0.29809156976279433, 0.2563069268808263, 0.41665888131670775, 0.4455425174190389, 0.34989910732345086, 0.5253094595573349, 0.2890501560457343, 0.4635251003659016, 0.24949786498487941, 0.3703191870359074, 0.3865878299278053, 0.5965633281022387, 0.29854842588276786, 0.36455184643516014, 0.4672057744440935, 0.28608381392909565, 0.660474617707548, 0.36995875605510714, 0.21945322556332392, 0.4129921812023513, 0.6380386723577989, 0.4061284989658414, 0.4925925715161546, 0.510103539110759, 0.3514833816962437, 0.33528637051815435, 0.33819533628154197, 0.5021063505252817, 0.2877435568473731, 0.5891480131841499, 0.5533526939783981, 0.34352733370154254, 0.3384086923052993, 0.22271800487470828, 0.5073600516432464, 0.33488550937204525, 0.31599287733920467, 0.4427037114966608, 0.4858685740850179, 0.7067245979891372, 0.4690826399445896, 0.6355670688173295, 0.18795980837983148, 0.6419685226000515, 0.30466211400702536, 0.6197089997148911, 0.2722936595196873, 0.2838553068763355, 0.3647035686781857, 0.32497194534968854, 0.2999724561382861, 0.3994000120406234, 0.21950022660212365, 0.3174245182795108, 0.4636270492510911, 0.4673374997438176, 0.3154642743049199, 0.29810931767210774, 0.569316053154611, 0.40090543301875153, 0.2193442452115066, 0.6412005253106188, 0.33164283054346555]\n"
     ]
    },
    {
     "name": "stderr",
     "output_type": "stream",
     "text": [
      "/usr/local/lib/python3.8/dist-packages/sklearn/metrics/_classification.py:1248: UndefinedMetricWarning: Jaccard is ill-defined and being set to 0.0 due to no true or predicted samples. Use `zero_division` parameter to control this behavior.\n",
      "  _warn_prf(average, modifier, msg_start, len(result))\n",
      "/usr/local/lib/python3.8/dist-packages/sklearn/metrics/_classification.py:1248: UndefinedMetricWarning: Jaccard is ill-defined and being set to 0.0 due to no true or predicted samples. Use `zero_division` parameter to control this behavior.\n",
      "  _warn_prf(average, modifier, msg_start, len(result))\n",
      "/usr/local/lib/python3.8/dist-packages/sklearn/metrics/_classification.py:1248: UndefinedMetricWarning: Jaccard is ill-defined and being set to 0.0 due to no true or predicted samples. Use `zero_division` parameter to control this behavior.\n",
      "  _warn_prf(average, modifier, msg_start, len(result))\n",
      "/usr/local/lib/python3.8/dist-packages/sklearn/metrics/_classification.py:1248: UndefinedMetricWarning: Jaccard is ill-defined and being set to 0.0 due to no true or predicted samples. Use `zero_division` parameter to control this behavior.\n",
      "  _warn_prf(average, modifier, msg_start, len(result))\n",
      "/usr/local/lib/python3.8/dist-packages/sklearn/metrics/_classification.py:1248: UndefinedMetricWarning: Jaccard is ill-defined and being set to 0.0 due to no true or predicted samples. Use `zero_division` parameter to control this behavior.\n",
      "  _warn_prf(average, modifier, msg_start, len(result))\n",
      "/usr/local/lib/python3.8/dist-packages/sklearn/metrics/_classification.py:1248: UndefinedMetricWarning: Jaccard is ill-defined and being set to 0.0 due to no true or predicted samples. Use `zero_division` parameter to control this behavior.\n",
      "  _warn_prf(average, modifier, msg_start, len(result))\n",
      "/usr/local/lib/python3.8/dist-packages/sklearn/metrics/_classification.py:1248: UndefinedMetricWarning: Jaccard is ill-defined and being set to 0.0 due to no true or predicted samples. Use `zero_division` parameter to control this behavior.\n",
      "  _warn_prf(average, modifier, msg_start, len(result))\n",
      "/usr/local/lib/python3.8/dist-packages/sklearn/metrics/_classification.py:1248: UndefinedMetricWarning: Jaccard is ill-defined and being set to 0.0 due to no true or predicted samples. Use `zero_division` parameter to control this behavior.\n",
      "  _warn_prf(average, modifier, msg_start, len(result))\n",
      "/usr/local/lib/python3.8/dist-packages/sklearn/metrics/_classification.py:1248: UndefinedMetricWarning: Jaccard is ill-defined and being set to 0.0 due to no true or predicted samples. Use `zero_division` parameter to control this behavior.\n",
      "  _warn_prf(average, modifier, msg_start, len(result))\n",
      "/usr/local/lib/python3.8/dist-packages/sklearn/metrics/_classification.py:1248: UndefinedMetricWarning: Jaccard is ill-defined and being set to 0.0 due to no true or predicted samples. Use `zero_division` parameter to control this behavior.\n",
      "  _warn_prf(average, modifier, msg_start, len(result))\n",
      " 98%|██████████████████████████████████████████████████████████████████████████████████████████████████████████████████████████████████████████████████████████████████████████▌   | 98/100 [13:26<00:22, 11.18s/it]"
     ]
    },
    {
     "name": "stdout",
     "output_type": "stream",
     "text": [
      "mIOU given by: 0.41097741115303804\n",
      "[0.4800828259274245, 0.3141256294622326, 0.43314472897323886, 0.3108838838691709, 0.4217744661366317, 0.30750138626132656, 0.23392175229936546, 0.5477260303527688, 0.4806466370151126, 0.4273892546729509, 0.23403418107045632, 0.622984223580449, 0.28395898477729614, 0.5053798888534788, 0.36854260904913283, 0.23487570158381382, 0.2776467227756309, 0.6755961181605183, 0.37903712673606926, 0.5504114010316731, 0.37429026290122175, 0.496385323357798, 0.39196129947896174, 0.37924939647851275, 0.5853269475386425, 0.255262318179988, 0.6848665717060205, 0.30138798440552894, 0.5921036056828485, 0.6546765959275835, 0.27826561055984433, 0.22863031747535176, 0.27819431972682734, 0.5282928933268631, 0.29809156976279433, 0.2563069268808263, 0.41665888131670775, 0.4455425174190389, 0.34989910732345086, 0.5253094595573349, 0.2890501560457343, 0.4635251003659016, 0.24949786498487941, 0.3703191870359074, 0.3865878299278053, 0.5965633281022387, 0.29854842588276786, 0.36455184643516014, 0.4672057744440935, 0.28608381392909565, 0.660474617707548, 0.36995875605510714, 0.21945322556332392, 0.4129921812023513, 0.6380386723577989, 0.4061284989658414, 0.4925925715161546, 0.510103539110759, 0.3514833816962437, 0.33528637051815435, 0.33819533628154197, 0.5021063505252817, 0.2877435568473731, 0.5891480131841499, 0.5533526939783981, 0.34352733370154254, 0.3384086923052993, 0.22271800487470828, 0.5073600516432464, 0.33488550937204525, 0.31599287733920467, 0.4427037114966608, 0.4858685740850179, 0.7067245979891372, 0.4690826399445896, 0.6355670688173295, 0.18795980837983148, 0.6419685226000515, 0.30466211400702536, 0.6197089997148911, 0.2722936595196873, 0.2838553068763355, 0.3647035686781857, 0.32497194534968854, 0.2999724561382861, 0.3994000120406234, 0.21950022660212365, 0.3174245182795108, 0.4636270492510911, 0.4673374997438176, 0.3154642743049199, 0.29810931767210774, 0.569316053154611, 0.40090543301875153, 0.2193442452115066, 0.6412005253106188, 0.33164283054346555, 0.41097741115303804]\n"
     ]
    },
    {
     "name": "stderr",
     "output_type": "stream",
     "text": [
      "/usr/local/lib/python3.8/dist-packages/sklearn/metrics/_classification.py:1248: UndefinedMetricWarning: Jaccard is ill-defined and being set to 0.0 due to no true or predicted samples. Use `zero_division` parameter to control this behavior.\n",
      "  _warn_prf(average, modifier, msg_start, len(result))\n",
      "/usr/local/lib/python3.8/dist-packages/sklearn/metrics/_classification.py:1248: UndefinedMetricWarning: Jaccard is ill-defined and being set to 0.0 due to no true or predicted samples. Use `zero_division` parameter to control this behavior.\n",
      "  _warn_prf(average, modifier, msg_start, len(result))\n",
      "/usr/local/lib/python3.8/dist-packages/sklearn/metrics/_classification.py:1248: UndefinedMetricWarning: Jaccard is ill-defined and being set to 0.0 due to no true or predicted samples. Use `zero_division` parameter to control this behavior.\n",
      "  _warn_prf(average, modifier, msg_start, len(result))\n",
      "/usr/local/lib/python3.8/dist-packages/sklearn/metrics/_classification.py:1248: UndefinedMetricWarning: Jaccard is ill-defined and being set to 0.0 due to no true or predicted samples. Use `zero_division` parameter to control this behavior.\n",
      "  _warn_prf(average, modifier, msg_start, len(result))\n",
      "/usr/local/lib/python3.8/dist-packages/sklearn/metrics/_classification.py:1248: UndefinedMetricWarning: Jaccard is ill-defined and being set to 0.0 due to no true or predicted samples. Use `zero_division` parameter to control this behavior.\n",
      "  _warn_prf(average, modifier, msg_start, len(result))\n",
      "/usr/local/lib/python3.8/dist-packages/sklearn/metrics/_classification.py:1248: UndefinedMetricWarning: Jaccard is ill-defined and being set to 0.0 due to no true or predicted samples. Use `zero_division` parameter to control this behavior.\n",
      "  _warn_prf(average, modifier, msg_start, len(result))\n",
      "/usr/local/lib/python3.8/dist-packages/sklearn/metrics/_classification.py:1248: UndefinedMetricWarning: Jaccard is ill-defined and being set to 0.0 due to no true or predicted samples. Use `zero_division` parameter to control this behavior.\n",
      "  _warn_prf(average, modifier, msg_start, len(result))\n",
      "/usr/local/lib/python3.8/dist-packages/sklearn/metrics/_classification.py:1248: UndefinedMetricWarning: Jaccard is ill-defined and being set to 0.0 due to no true or predicted samples. Use `zero_division` parameter to control this behavior.\n",
      "  _warn_prf(average, modifier, msg_start, len(result))\n",
      " 99%|████████████████████████████████████████████████████████████████████████████████████████████████████████████████████████████████████████████████████████████████████████████▎ | 99/100 [13:40<00:11, 11.97s/it]"
     ]
    },
    {
     "name": "stdout",
     "output_type": "stream",
     "text": [
      "mIOU given by: 0.4041420810206367\n",
      "[0.4800828259274245, 0.3141256294622326, 0.43314472897323886, 0.3108838838691709, 0.4217744661366317, 0.30750138626132656, 0.23392175229936546, 0.5477260303527688, 0.4806466370151126, 0.4273892546729509, 0.23403418107045632, 0.622984223580449, 0.28395898477729614, 0.5053798888534788, 0.36854260904913283, 0.23487570158381382, 0.2776467227756309, 0.6755961181605183, 0.37903712673606926, 0.5504114010316731, 0.37429026290122175, 0.496385323357798, 0.39196129947896174, 0.37924939647851275, 0.5853269475386425, 0.255262318179988, 0.6848665717060205, 0.30138798440552894, 0.5921036056828485, 0.6546765959275835, 0.27826561055984433, 0.22863031747535176, 0.27819431972682734, 0.5282928933268631, 0.29809156976279433, 0.2563069268808263, 0.41665888131670775, 0.4455425174190389, 0.34989910732345086, 0.5253094595573349, 0.2890501560457343, 0.4635251003659016, 0.24949786498487941, 0.3703191870359074, 0.3865878299278053, 0.5965633281022387, 0.29854842588276786, 0.36455184643516014, 0.4672057744440935, 0.28608381392909565, 0.660474617707548, 0.36995875605510714, 0.21945322556332392, 0.4129921812023513, 0.6380386723577989, 0.4061284989658414, 0.4925925715161546, 0.510103539110759, 0.3514833816962437, 0.33528637051815435, 0.33819533628154197, 0.5021063505252817, 0.2877435568473731, 0.5891480131841499, 0.5533526939783981, 0.34352733370154254, 0.3384086923052993, 0.22271800487470828, 0.5073600516432464, 0.33488550937204525, 0.31599287733920467, 0.4427037114966608, 0.4858685740850179, 0.7067245979891372, 0.4690826399445896, 0.6355670688173295, 0.18795980837983148, 0.6419685226000515, 0.30466211400702536, 0.6197089997148911, 0.2722936595196873, 0.2838553068763355, 0.3647035686781857, 0.32497194534968854, 0.2999724561382861, 0.3994000120406234, 0.21950022660212365, 0.3174245182795108, 0.4636270492510911, 0.4673374997438176, 0.3154642743049199, 0.29810931767210774, 0.569316053154611, 0.40090543301875153, 0.2193442452115066, 0.6412005253106188, 0.33164283054346555, 0.41097741115303804, 0.4041420810206367]\n"
     ]
    },
    {
     "name": "stderr",
     "output_type": "stream",
     "text": [
      "/usr/local/lib/python3.8/dist-packages/sklearn/metrics/_classification.py:1248: UndefinedMetricWarning: Jaccard is ill-defined and being set to 0.0 due to no true or predicted samples. Use `zero_division` parameter to control this behavior.\n",
      "  _warn_prf(average, modifier, msg_start, len(result))\n",
      "/usr/local/lib/python3.8/dist-packages/sklearn/metrics/_classification.py:1248: UndefinedMetricWarning: Jaccard is ill-defined and being set to 0.0 due to no true or predicted samples. Use `zero_division` parameter to control this behavior.\n",
      "  _warn_prf(average, modifier, msg_start, len(result))\n",
      "/usr/local/lib/python3.8/dist-packages/sklearn/metrics/_classification.py:1248: UndefinedMetricWarning: Jaccard is ill-defined and being set to 0.0 due to no true or predicted samples. Use `zero_division` parameter to control this behavior.\n",
      "  _warn_prf(average, modifier, msg_start, len(result))\n",
      "/usr/local/lib/python3.8/dist-packages/sklearn/metrics/_classification.py:1248: UndefinedMetricWarning: Jaccard is ill-defined and being set to 0.0 due to no true or predicted samples. Use `zero_division` parameter to control this behavior.\n",
      "  _warn_prf(average, modifier, msg_start, len(result))\n",
      "/usr/local/lib/python3.8/dist-packages/sklearn/metrics/_classification.py:1248: UndefinedMetricWarning: Jaccard is ill-defined and being set to 0.0 due to no true or predicted samples. Use `zero_division` parameter to control this behavior.\n",
      "  _warn_prf(average, modifier, msg_start, len(result))\n",
      "/usr/local/lib/python3.8/dist-packages/sklearn/metrics/_classification.py:1248: UndefinedMetricWarning: Jaccard is ill-defined and being set to 0.0 due to no true or predicted samples. Use `zero_division` parameter to control this behavior.\n",
      "  _warn_prf(average, modifier, msg_start, len(result))\n",
      "/usr/local/lib/python3.8/dist-packages/sklearn/metrics/_classification.py:1248: UndefinedMetricWarning: Jaccard is ill-defined and being set to 0.0 due to no true or predicted samples. Use `zero_division` parameter to control this behavior.\n",
      "  _warn_prf(average, modifier, msg_start, len(result))\n",
      "/usr/local/lib/python3.8/dist-packages/sklearn/metrics/_classification.py:1248: UndefinedMetricWarning: Jaccard is ill-defined and being set to 0.0 due to no true or predicted samples. Use `zero_division` parameter to control this behavior.\n",
      "  _warn_prf(average, modifier, msg_start, len(result))\n",
      "/usr/local/lib/python3.8/dist-packages/sklearn/metrics/_classification.py:1248: UndefinedMetricWarning: Jaccard is ill-defined and being set to 0.0 due to no true or predicted samples. Use `zero_division` parameter to control this behavior.\n",
      "  _warn_prf(average, modifier, msg_start, len(result))\n",
      "100%|█████████████████████████████████████████████████████████████████████████████████████████████████████████████████████████████████████████████████████████████████████████████| 100/100 [13:52<00:00,  8.33s/it]"
     ]
    },
    {
     "name": "stdout",
     "output_type": "stream",
     "text": [
      "mIOU given by: 0.4566871219049027\n",
      "[0.4800828259274245, 0.3141256294622326, 0.43314472897323886, 0.3108838838691709, 0.4217744661366317, 0.30750138626132656, 0.23392175229936546, 0.5477260303527688, 0.4806466370151126, 0.4273892546729509, 0.23403418107045632, 0.622984223580449, 0.28395898477729614, 0.5053798888534788, 0.36854260904913283, 0.23487570158381382, 0.2776467227756309, 0.6755961181605183, 0.37903712673606926, 0.5504114010316731, 0.37429026290122175, 0.496385323357798, 0.39196129947896174, 0.37924939647851275, 0.5853269475386425, 0.255262318179988, 0.6848665717060205, 0.30138798440552894, 0.5921036056828485, 0.6546765959275835, 0.27826561055984433, 0.22863031747535176, 0.27819431972682734, 0.5282928933268631, 0.29809156976279433, 0.2563069268808263, 0.41665888131670775, 0.4455425174190389, 0.34989910732345086, 0.5253094595573349, 0.2890501560457343, 0.4635251003659016, 0.24949786498487941, 0.3703191870359074, 0.3865878299278053, 0.5965633281022387, 0.29854842588276786, 0.36455184643516014, 0.4672057744440935, 0.28608381392909565, 0.660474617707548, 0.36995875605510714, 0.21945322556332392, 0.4129921812023513, 0.6380386723577989, 0.4061284989658414, 0.4925925715161546, 0.510103539110759, 0.3514833816962437, 0.33528637051815435, 0.33819533628154197, 0.5021063505252817, 0.2877435568473731, 0.5891480131841499, 0.5533526939783981, 0.34352733370154254, 0.3384086923052993, 0.22271800487470828, 0.5073600516432464, 0.33488550937204525, 0.31599287733920467, 0.4427037114966608, 0.4858685740850179, 0.7067245979891372, 0.4690826399445896, 0.6355670688173295, 0.18795980837983148, 0.6419685226000515, 0.30466211400702536, 0.6197089997148911, 0.2722936595196873, 0.2838553068763355, 0.3647035686781857, 0.32497194534968854, 0.2999724561382861, 0.3994000120406234, 0.21950022660212365, 0.3174245182795108, 0.4636270492510911, 0.4673374997438176, 0.3154642743049199, 0.29810931767210774, 0.569316053154611, 0.40090543301875153, 0.2193442452115066, 0.6412005253106188, 0.33164283054346555, 0.41097741115303804, 0.4041420810206367, 0.4566871219049027]\n"
     ]
    },
    {
     "name": "stderr",
     "output_type": "stream",
     "text": [
      "\n"
     ]
    }
   ],
   "source": [
    "\n",
    "\n",
    "mIOU_list = []\n",
    "for sn in tqdm(test_scenes_2):\n",
    "    scene = ScanNetScene(os.path.join(SCENE_DIR_TRAIN, sn))\n",
    "    voxel_grid, surface_points, surface_colors, vicinity_points, vicinity_distances, point_labels = scene.create_if_data(RESOLUTION, N_POINTS, SIGMAS)\n",
    "    surface_points_, center, pts_min, pts_max = point_augment_utils.scaling_point_cloud(surface_points)\n",
    "    class_counts = []\n",
    "    for c in range(len(CLASS_NAMES.keys())):\n",
    "        class_counts.append(np.sum(point_labels == c))\n",
    "    class_counts = np.array(class_counts)\n",
    "\n",
    "    for ign in IGNORED_LABELS:\n",
    "        class_counts[ign] = 0\n",
    "    class_weights = class_counts / class_counts.sum()\n",
    "    features = torch.FloatTensor(surface_colors).unsqueeze(0).to(DEVICE)\n",
    "    xyz = torch.FloatTensor(surface_points_).unsqueeze(0)\n",
    "    point_labels = torch.LongTensor(point_labels).unsqueeze(0).to(DEVICE)\n",
    "\n",
    "    input_points, input_neighbors, input_pools, feat_shape = prepare_input(xyz, k=16, num_layers=3, encoder_dims = [8,32,64], sub_sampling_ratio=4, \n",
    "                                                               device=DEVICE)\n",
    "    \n",
    "    with torch.no_grad():\n",
    "        all_logits = randla.forward(features, input_points, input_neighbors, input_pools)\n",
    "        all_logits = all_logits.squeeze().detach().numpy()\n",
    "        \n",
    "    logits_randla_augment = scene.colorize_labels(all_logits.argmax(axis=-1))\n",
    "    with open(f'../../processed/logits_folder_2/final_logits_randla_{sn}.npy', 'wb') as f:\n",
    "        np.save(f, logits_randla_augment)\n",
    "    with open(f'../../processed/surface_points_2/surface_points_randla_{sn}.npy', 'wb') as f:\n",
    "        np.save(f, surface_points)\n",
    "    IOU = get_iou(all_logits, point_labels.detach().squeeze().numpy())\n",
    "    IOU_weighted = IOU * class_weights\n",
    "    #print(\"IOU_weighted is {}\".format(IOU_weighted))\n",
    "    mIOU = np.sum(IOU_weighted)\n",
    "    print(\"mIOU given by: {}\".format(mIOU))\n",
    "    mIOU_list.append(mIOU)\n",
    "    print(mIOU_list)"
   ]
  },
  {
   "cell_type": "code",
   "execution_count": 22,
   "id": "436b26e0-6e5f-4b51-8f8c-e383af3ad855",
   "metadata": {},
   "outputs": [
    {
     "data": {
      "text/plain": [
       "0.4086737059630299"
      ]
     },
     "execution_count": 22,
     "metadata": {},
     "output_type": "execute_result"
    }
   ],
   "source": [
    "from statistics import mean\n",
    "mean(mIOU_list)"
   ]
  },
  {
   "cell_type": "code",
   "execution_count": 23,
   "id": "1d77efab-0477-4671-808c-c3581366e002",
   "metadata": {},
   "outputs": [
    {
     "data": {
      "text/plain": [
       "0.7067245979891372"
      ]
     },
     "execution_count": 23,
     "metadata": {},
     "output_type": "execute_result"
    }
   ],
   "source": [
    "max(mIOU_list)"
   ]
  },
  {
   "cell_type": "code",
   "execution_count": 24,
   "id": "4764f183-31b0-4820-a896-1c35ad9ff056",
   "metadata": {},
   "outputs": [
    {
     "data": {
      "text/plain": [
       "0.18795980837983148"
      ]
     },
     "execution_count": 24,
     "metadata": {},
     "output_type": "execute_result"
    }
   ],
   "source": [
    "min(mIOU_list)"
   ]
  },
  {
   "cell_type": "code",
   "execution_count": 25,
   "id": "cb12eafd-ad35-4974-978b-917440eb56a4",
   "metadata": {},
   "outputs": [
    {
     "name": "stdout",
     "output_type": "stream",
     "text": [
      "[0.4800828259274245, 0.3141256294622326, 0.43314472897323886, 0.3108838838691709, 0.4217744661366317, 0.30750138626132656, 0.23392175229936546, 0.5477260303527688, 0.4806466370151126, 0.4273892546729509, 0.23403418107045632, 0.622984223580449, 0.28395898477729614, 0.5053798888534788, 0.36854260904913283, 0.23487570158381382, 0.2776467227756309, 0.6755961181605183, 0.37903712673606926, 0.5504114010316731, 0.37429026290122175, 0.496385323357798, 0.39196129947896174, 0.37924939647851275, 0.5853269475386425, 0.255262318179988, 0.6848665717060205, 0.30138798440552894, 0.5921036056828485, 0.6546765959275835, 0.27826561055984433, 0.22863031747535176, 0.27819431972682734, 0.5282928933268631, 0.29809156976279433, 0.2563069268808263, 0.41665888131670775, 0.4455425174190389, 0.34989910732345086, 0.5253094595573349, 0.2890501560457343, 0.4635251003659016, 0.24949786498487941, 0.3703191870359074, 0.3865878299278053, 0.5965633281022387, 0.29854842588276786, 0.36455184643516014, 0.4672057744440935, 0.28608381392909565, 0.660474617707548, 0.36995875605510714, 0.21945322556332392, 0.4129921812023513, 0.6380386723577989, 0.4061284989658414, 0.4925925715161546, 0.510103539110759, 0.3514833816962437, 0.33528637051815435, 0.33819533628154197, 0.5021063505252817, 0.2877435568473731, 0.5891480131841499, 0.5533526939783981, 0.34352733370154254, 0.3384086923052993, 0.22271800487470828, 0.5073600516432464, 0.33488550937204525, 0.31599287733920467, 0.4427037114966608, 0.4858685740850179, 0.7067245979891372, 0.4690826399445896, 0.6355670688173295, 0.18795980837983148, 0.6419685226000515, 0.30466211400702536, 0.6197089997148911, 0.2722936595196873, 0.2838553068763355, 0.3647035686781857, 0.32497194534968854, 0.2999724561382861, 0.3994000120406234, 0.21950022660212365, 0.3174245182795108, 0.4636270492510911, 0.4673374997438176, 0.3154642743049199, 0.29810931767210774, 0.569316053154611, 0.40090543301875153, 0.2193442452115066, 0.6412005253106188, 0.33164283054346555, 0.41097741115303804, 0.4041420810206367, 0.4566871219049027]\n"
     ]
    }
   ],
   "source": [
    "print(mIOU_list)"
   ]
  },
  {
   "cell_type": "code",
   "execution_count": 2,
   "id": "ad81fb51-d580-41ce-8cb3-9e4eadebdf56",
   "metadata": {},
   "outputs": [],
   "source": [
    "scene = ScanNetScene(SCENE_DIR)\n",
    "\n",
    "voxel_grid, surface_points, surface_colors, vicinity_points, vicinity_distances, point_labels = scene.create_if_data(\n",
    "    RESOLUTION, N_POINTS, SIGMAS\n",
    ")\n",
    "\n",
    "center = surface_points.mean(axis=0, keepdims=True)\n",
    "surface_points -= center\n",
    "    \n",
    "pts_min = surface_points.min(axis=0, keepdims=True)\n",
    "pts_max = surface_points.max(axis=0, keepdims=True)\n",
    "surface_points = (surface_points - pts_min) / (pts_max - pts_min)\n",
    "surface_points -= 0.5\n",
    "\n",
    "class_counts = []\n",
    "for c in range(len(CLASS_NAMES.keys())):\n",
    "    class_counts.append(np.sum(point_labels == c))\n",
    "class_counts = np.array(class_counts)\n",
    "\n",
    "for ign in IGNORED_LABELS:\n",
    "    class_counts[ign] = 0\n",
    "class_weights = class_counts / class_counts.sum()"
   ]
  },
  {
   "cell_type": "code",
   "execution_count": 3,
   "id": "4fb4f1c1-a3dd-467e-bc76-57c58ffaac6b",
   "metadata": {},
   "outputs": [
    {
     "data": {
      "text/plain": [
       "Randla(\n",
       "  (fc0): Conv1d(\n",
       "    (conv): Conv1d(3, 8, kernel_size=(1,), stride=(1,), bias=False)\n",
       "    (bn): BatchNorm1d(\n",
       "      (bn): BatchNorm1d(8, eps=1e-06, momentum=0.99, affine=True, track_running_stats=True)\n",
       "    )\n",
       "    (activation): LeakyReLU(negative_slope=0.2, inplace=True)\n",
       "  )\n",
       "  (dilated_res_blocks): ModuleList(\n",
       "    (0): Dilated_res_block(\n",
       "      (mlp1): Conv2d(\n",
       "        (conv): Conv2d(8, 4, kernel_size=(1, 1), stride=(1, 1), bias=False)\n",
       "        (bn): BatchNorm2d(\n",
       "          (bn): BatchNorm2d(4, eps=1e-06, momentum=0.99, affine=True, track_running_stats=True)\n",
       "        )\n",
       "        (activation): LeakyReLU(negative_slope=0.2, inplace=True)\n",
       "      )\n",
       "      (lfa): Building_block(\n",
       "        (mlp1): Conv2d(\n",
       "          (conv): Conv2d(10, 4, kernel_size=(1, 1), stride=(1, 1), bias=False)\n",
       "          (bn): BatchNorm2d(\n",
       "            (bn): BatchNorm2d(4, eps=1e-06, momentum=0.99, affine=True, track_running_stats=True)\n",
       "          )\n",
       "          (activation): LeakyReLU(negative_slope=0.2, inplace=True)\n",
       "        )\n",
       "        (att_pooling_1): Att_pooling(\n",
       "          (fc): Conv2d(8, 8, kernel_size=(1, 1), stride=(1, 1), bias=False)\n",
       "          (mlp): Conv2d(\n",
       "            (conv): Conv2d(8, 4, kernel_size=(1, 1), stride=(1, 1), bias=False)\n",
       "            (bn): BatchNorm2d(\n",
       "              (bn): BatchNorm2d(4, eps=1e-06, momentum=0.99, affine=True, track_running_stats=True)\n",
       "            )\n",
       "            (activation): LeakyReLU(negative_slope=0.2, inplace=True)\n",
       "          )\n",
       "        )\n",
       "        (mlp2): Conv2d(\n",
       "          (conv): Conv2d(4, 4, kernel_size=(1, 1), stride=(1, 1), bias=False)\n",
       "          (bn): BatchNorm2d(\n",
       "            (bn): BatchNorm2d(4, eps=1e-06, momentum=0.99, affine=True, track_running_stats=True)\n",
       "          )\n",
       "          (activation): LeakyReLU(negative_slope=0.2, inplace=True)\n",
       "        )\n",
       "        (att_pooling_2): Att_pooling(\n",
       "          (fc): Conv2d(8, 8, kernel_size=(1, 1), stride=(1, 1), bias=False)\n",
       "          (mlp): Conv2d(\n",
       "            (conv): Conv2d(8, 8, kernel_size=(1, 1), stride=(1, 1), bias=False)\n",
       "            (bn): BatchNorm2d(\n",
       "              (bn): BatchNorm2d(8, eps=1e-06, momentum=0.99, affine=True, track_running_stats=True)\n",
       "            )\n",
       "            (activation): LeakyReLU(negative_slope=0.2, inplace=True)\n",
       "          )\n",
       "        )\n",
       "      )\n",
       "      (mlp2): Conv2d(\n",
       "        (conv): Conv2d(8, 16, kernel_size=(1, 1), stride=(1, 1), bias=False)\n",
       "        (bn): BatchNorm2d(\n",
       "          (bn): BatchNorm2d(16, eps=1e-06, momentum=0.99, affine=True, track_running_stats=True)\n",
       "        )\n",
       "      )\n",
       "      (shortcut): Conv2d(\n",
       "        (conv): Conv2d(8, 16, kernel_size=(1, 1), stride=(1, 1), bias=False)\n",
       "        (bn): BatchNorm2d(\n",
       "          (bn): BatchNorm2d(16, eps=1e-06, momentum=0.99, affine=True, track_running_stats=True)\n",
       "        )\n",
       "      )\n",
       "    )\n",
       "    (1): Dilated_res_block(\n",
       "      (mlp1): Conv2d(\n",
       "        (conv): Conv2d(16, 16, kernel_size=(1, 1), stride=(1, 1), bias=False)\n",
       "        (bn): BatchNorm2d(\n",
       "          (bn): BatchNorm2d(16, eps=1e-06, momentum=0.99, affine=True, track_running_stats=True)\n",
       "        )\n",
       "        (activation): LeakyReLU(negative_slope=0.2, inplace=True)\n",
       "      )\n",
       "      (lfa): Building_block(\n",
       "        (mlp1): Conv2d(\n",
       "          (conv): Conv2d(10, 16, kernel_size=(1, 1), stride=(1, 1), bias=False)\n",
       "          (bn): BatchNorm2d(\n",
       "            (bn): BatchNorm2d(16, eps=1e-06, momentum=0.99, affine=True, track_running_stats=True)\n",
       "          )\n",
       "          (activation): LeakyReLU(negative_slope=0.2, inplace=True)\n",
       "        )\n",
       "        (att_pooling_1): Att_pooling(\n",
       "          (fc): Conv2d(32, 32, kernel_size=(1, 1), stride=(1, 1), bias=False)\n",
       "          (mlp): Conv2d(\n",
       "            (conv): Conv2d(32, 16, kernel_size=(1, 1), stride=(1, 1), bias=False)\n",
       "            (bn): BatchNorm2d(\n",
       "              (bn): BatchNorm2d(16, eps=1e-06, momentum=0.99, affine=True, track_running_stats=True)\n",
       "            )\n",
       "            (activation): LeakyReLU(negative_slope=0.2, inplace=True)\n",
       "          )\n",
       "        )\n",
       "        (mlp2): Conv2d(\n",
       "          (conv): Conv2d(16, 16, kernel_size=(1, 1), stride=(1, 1), bias=False)\n",
       "          (bn): BatchNorm2d(\n",
       "            (bn): BatchNorm2d(16, eps=1e-06, momentum=0.99, affine=True, track_running_stats=True)\n",
       "          )\n",
       "          (activation): LeakyReLU(negative_slope=0.2, inplace=True)\n",
       "        )\n",
       "        (att_pooling_2): Att_pooling(\n",
       "          (fc): Conv2d(32, 32, kernel_size=(1, 1), stride=(1, 1), bias=False)\n",
       "          (mlp): Conv2d(\n",
       "            (conv): Conv2d(32, 32, kernel_size=(1, 1), stride=(1, 1), bias=False)\n",
       "            (bn): BatchNorm2d(\n",
       "              (bn): BatchNorm2d(32, eps=1e-06, momentum=0.99, affine=True, track_running_stats=True)\n",
       "            )\n",
       "            (activation): LeakyReLU(negative_slope=0.2, inplace=True)\n",
       "          )\n",
       "        )\n",
       "      )\n",
       "      (mlp2): Conv2d(\n",
       "        (conv): Conv2d(32, 64, kernel_size=(1, 1), stride=(1, 1), bias=False)\n",
       "        (bn): BatchNorm2d(\n",
       "          (bn): BatchNorm2d(64, eps=1e-06, momentum=0.99, affine=True, track_running_stats=True)\n",
       "        )\n",
       "      )\n",
       "      (shortcut): Conv2d(\n",
       "        (conv): Conv2d(16, 64, kernel_size=(1, 1), stride=(1, 1), bias=False)\n",
       "        (bn): BatchNorm2d(\n",
       "          (bn): BatchNorm2d(64, eps=1e-06, momentum=0.99, affine=True, track_running_stats=True)\n",
       "        )\n",
       "      )\n",
       "    )\n",
       "    (2): Dilated_res_block(\n",
       "      (mlp1): Conv2d(\n",
       "        (conv): Conv2d(64, 32, kernel_size=(1, 1), stride=(1, 1), bias=False)\n",
       "        (bn): BatchNorm2d(\n",
       "          (bn): BatchNorm2d(32, eps=1e-06, momentum=0.99, affine=True, track_running_stats=True)\n",
       "        )\n",
       "        (activation): LeakyReLU(negative_slope=0.2, inplace=True)\n",
       "      )\n",
       "      (lfa): Building_block(\n",
       "        (mlp1): Conv2d(\n",
       "          (conv): Conv2d(10, 32, kernel_size=(1, 1), stride=(1, 1), bias=False)\n",
       "          (bn): BatchNorm2d(\n",
       "            (bn): BatchNorm2d(32, eps=1e-06, momentum=0.99, affine=True, track_running_stats=True)\n",
       "          )\n",
       "          (activation): LeakyReLU(negative_slope=0.2, inplace=True)\n",
       "        )\n",
       "        (att_pooling_1): Att_pooling(\n",
       "          (fc): Conv2d(64, 64, kernel_size=(1, 1), stride=(1, 1), bias=False)\n",
       "          (mlp): Conv2d(\n",
       "            (conv): Conv2d(64, 32, kernel_size=(1, 1), stride=(1, 1), bias=False)\n",
       "            (bn): BatchNorm2d(\n",
       "              (bn): BatchNorm2d(32, eps=1e-06, momentum=0.99, affine=True, track_running_stats=True)\n",
       "            )\n",
       "            (activation): LeakyReLU(negative_slope=0.2, inplace=True)\n",
       "          )\n",
       "        )\n",
       "        (mlp2): Conv2d(\n",
       "          (conv): Conv2d(32, 32, kernel_size=(1, 1), stride=(1, 1), bias=False)\n",
       "          (bn): BatchNorm2d(\n",
       "            (bn): BatchNorm2d(32, eps=1e-06, momentum=0.99, affine=True, track_running_stats=True)\n",
       "          )\n",
       "          (activation): LeakyReLU(negative_slope=0.2, inplace=True)\n",
       "        )\n",
       "        (att_pooling_2): Att_pooling(\n",
       "          (fc): Conv2d(64, 64, kernel_size=(1, 1), stride=(1, 1), bias=False)\n",
       "          (mlp): Conv2d(\n",
       "            (conv): Conv2d(64, 64, kernel_size=(1, 1), stride=(1, 1), bias=False)\n",
       "            (bn): BatchNorm2d(\n",
       "              (bn): BatchNorm2d(64, eps=1e-06, momentum=0.99, affine=True, track_running_stats=True)\n",
       "            )\n",
       "            (activation): LeakyReLU(negative_slope=0.2, inplace=True)\n",
       "          )\n",
       "        )\n",
       "      )\n",
       "      (mlp2): Conv2d(\n",
       "        (conv): Conv2d(64, 128, kernel_size=(1, 1), stride=(1, 1), bias=False)\n",
       "        (bn): BatchNorm2d(\n",
       "          (bn): BatchNorm2d(128, eps=1e-06, momentum=0.99, affine=True, track_running_stats=True)\n",
       "        )\n",
       "      )\n",
       "      (shortcut): Conv2d(\n",
       "        (conv): Conv2d(64, 128, kernel_size=(1, 1), stride=(1, 1), bias=False)\n",
       "        (bn): BatchNorm2d(\n",
       "          (bn): BatchNorm2d(128, eps=1e-06, momentum=0.99, affine=True, track_running_stats=True)\n",
       "        )\n",
       "      )\n",
       "    )\n",
       "  )\n",
       "  (decoder_blocks): ModuleList(\n",
       "    (0): Conv1d(\n",
       "      (conv): Conv1d(128, 128, kernel_size=(1,), stride=(1,), bias=False)\n",
       "      (bn): BatchNorm1d(\n",
       "        (bn): BatchNorm1d(128, eps=1e-06, momentum=0.99, affine=True, track_running_stats=True)\n",
       "      )\n",
       "      (activation): ReLU(inplace=True)\n",
       "    )\n",
       "    (1): Conv1d(\n",
       "      (conv): Conv1d(128, 64, kernel_size=(1,), stride=(1,), bias=False)\n",
       "      (bn): BatchNorm1d(\n",
       "        (bn): BatchNorm1d(64, eps=1e-06, momentum=0.99, affine=True, track_running_stats=True)\n",
       "      )\n",
       "      (activation): ReLU(inplace=True)\n",
       "    )\n",
       "    (2): Conv1d(\n",
       "      (conv): Conv1d(64, 16, kernel_size=(1,), stride=(1,), bias=False)\n",
       "      (bn): BatchNorm1d(\n",
       "        (bn): BatchNorm1d(16, eps=1e-06, momentum=0.99, affine=True, track_running_stats=True)\n",
       "      )\n",
       "      (activation): ReLU(inplace=True)\n",
       "    )\n",
       "    (3): Conv1d(\n",
       "      (conv): Conv1d(16, 8, kernel_size=(1,), stride=(1,), bias=False)\n",
       "      (bn): BatchNorm1d(\n",
       "        (bn): BatchNorm1d(8, eps=1e-06, momentum=0.99, affine=True, track_running_stats=True)\n",
       "      )\n",
       "      (activation): ReLU(inplace=True)\n",
       "    )\n",
       "    (4): Conv1d(\n",
       "      (conv): Conv1d(8, 21, kernel_size=(1,), stride=(1,))\n",
       "    )\n",
       "  )\n",
       ")"
      ]
     },
     "execution_count": 3,
     "metadata": {},
     "output_type": "execute_result"
    }
   ],
   "source": [
    "# In randla query = input, labels = query_labels\n",
    "features = torch.FloatTensor(surface_colors).unsqueeze(0).to(DEVICE)\n",
    "xyz = torch.FloatTensor(surface_points).unsqueeze(0)\n",
    "point_labels = torch.LongTensor(point_labels).unsqueeze(0).to(DEVICE)\n",
    "\n",
    "input_points, input_neighbors, input_pools, feat_shape = prepare_input(xyz, k=16, num_layers=3, encoder_dims = [8,32,64], sub_sampling_ratio=4, \n",
    "                                                           device=DEVICE)\n",
    "\n",
    "randla = Randla(d_feature=3, d_in=8, encoder_dims=[8, 32, 64], device=DEVICE, num_class=len(CLASS_NAMES), interpolator='keops')\n",
    "randla.load_state_dict(torch.load('../../processed/saved_models/Randla_entire_dataset_10_epochs'))\n",
    "randla.eval()"
   ]
  },
  {
   "cell_type": "code",
   "execution_count": 4,
   "id": "d3227c5d-95c8-4554-83b8-6e7ca53c7a47",
   "metadata": {},
   "outputs": [],
   "source": [
    "with torch.no_grad():\n",
    "    all_logits = randla.forward(features, input_points, input_neighbors, input_pools)\n",
    "    all_logits = all_logits.squeeze().detach().numpy()"
   ]
  },
  {
   "cell_type": "code",
   "execution_count": 5,
   "id": "f936ca84-c716-4b98-899d-fa00e29973dc",
   "metadata": {},
   "outputs": [
    {
     "name": "stderr",
     "output_type": "stream",
     "text": [
      "/usr/local/lib/python3.8/dist-packages/sklearn/metrics/_classification.py:1248: UndefinedMetricWarning: Jaccard is ill-defined and being set to 0.0 due to no true or predicted samples. Use `zero_division` parameter to control this behavior.\n",
      "  _warn_prf(average, modifier, msg_start, len(result))\n",
      "/usr/local/lib/python3.8/dist-packages/sklearn/metrics/_classification.py:1248: UndefinedMetricWarning: Jaccard is ill-defined and being set to 0.0 due to no true or predicted samples. Use `zero_division` parameter to control this behavior.\n",
      "  _warn_prf(average, modifier, msg_start, len(result))\n",
      "/usr/local/lib/python3.8/dist-packages/sklearn/metrics/_classification.py:1248: UndefinedMetricWarning: Jaccard is ill-defined and being set to 0.0 due to no true or predicted samples. Use `zero_division` parameter to control this behavior.\n",
      "  _warn_prf(average, modifier, msg_start, len(result))\n"
     ]
    },
    {
     "name": "stdout",
     "output_type": "stream",
     "text": [
      "mIOU: 0.2609062717804598\n"
     ]
    }
   ],
   "source": [
    "df = pd.DataFrame()\n",
    "df['class'] = CLASS_NAMES.keys()\n",
    "df['iou'] = get_iou(all_logits, point_labels.detach().squeeze().numpy())\n",
    "df['weight'] = class_weights\n",
    "df['iou_weighted'] = df['iou'] * df['weight']\n",
    "\n",
    "print(\"mIOU:\", df.iou_weighted.sum())"
   ]
  }
 ],
 "metadata": {
  "kernelspec": {
   "display_name": "Python 3 (ipykernel)",
   "language": "python",
   "name": "python3"
  },
  "language_info": {
   "codemirror_mode": {
    "name": "ipython",
    "version": 3
   },
   "file_extension": ".py",
   "mimetype": "text/x-python",
   "name": "python",
   "nbconvert_exporter": "python",
   "pygments_lexer": "ipython3",
   "version": "3.8.12"
  }
 },
 "nbformat": 4,
 "nbformat_minor": 5
}
