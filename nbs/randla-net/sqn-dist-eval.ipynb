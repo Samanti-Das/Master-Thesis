{
 "cells": [
  {
   "cell_type": "code",
   "execution_count": 1,
   "id": "5eeb6ce1",
   "metadata": {},
   "outputs": [],
   "source": [
    "%load_ext autoreload\n",
    "%autoreload 2\n",
    "\n",
    "import os\n",
    "import sys\n",
    "sys.path.insert(1, '/home/cem/Documents/imps/src')\n",
    "\n",
    "import numpy as np\n",
    "import open3d as o3d\n",
    "import torch\n",
    "from matplotlib import cm\n",
    "import matplotlib.pyplot as plt\n",
    "import torch\n",
    "import torch.optim as optim\n",
    "\n",
    "from imps.data import ScanNetScene, CLASS_NAMES\n",
    "from imps.sqn.model import SQN\n",
    "from imps.sqn.data_utils import prepare_input\n",
    "\n",
    "SCENE_DIR = '/home/cem/Documents/datasets/ScanNet/scans/scene0000_00'\n",
    "N_POINTS = int(1.5e5)\n",
    "# Not important we are not using this here yet. Keep this small for quick data processing\n",
    "RESOLUTION = 25\n",
    "SIGMAS = np.array([0.5, 0.1, 0.01])\n",
    "DEVICE = 'cpu'"
   ]
  },
  {
   "cell_type": "code",
   "execution_count": 3,
   "id": "029c266c",
   "metadata": {},
   "outputs": [],
   "source": [
    "scene = ScanNetScene(SCENE_DIR)\n",
    "\n",
    "_, surface_points, surface_colors, vicinity_points, vicinity_distances, _ = scene.create_if_data(\n",
    "    RESOLUTION, N_POINTS, SIGMAS\n",
    ")\n",
    "\n",
    "# features = np.concatenate([surface_points, surface_colors], axis=-1)\n",
    "features = torch.FloatTensor(surface_points).unsqueeze(0).to(DEVICE)\n",
    "xyz = torch.FloatTensor(surface_points).unsqueeze(0)\n",
    "query = torch.FloatTensor(vicinity_points).unsqueeze(0)"
   ]
  },
  {
   "cell_type": "code",
   "execution_count": 4,
   "id": "255114b5",
   "metadata": {},
   "outputs": [],
   "source": [
    "input_points, input_neighbors, input_pools = prepare_input(xyz, k=16, num_layers=3, sub_sampling_ratio=4, \n",
    "                                                           device=DEVICE)\n",
    "\n",
    "sqn = SQN(d_feature=3, d_in=8, encoder_dims=[8, 32, 64], decoder_dims=[64, 32, 1], device=DEVICE,\n",
    "          activation=torch.nn.ReLU(inplace=True))\n",
    "sqn.load_state_dict(torch.load('../../data/sqn-dist-pred'));"
   ]
  },
  {
   "cell_type": "code",
   "execution_count": 5,
   "id": "ea013119",
   "metadata": {},
   "outputs": [],
   "source": [
    "sqn.eval()\n",
    "\n",
    "with torch.no_grad():\n",
    "    query_pred = sqn.forward(features, input_points, input_neighbors, input_pools, query)\n",
    "    pred_dists = query_pred.detach().squeeze().cpu().numpy()"
   ]
  },
  {
   "cell_type": "code",
   "execution_count": 6,
   "id": "b19ef270",
   "metadata": {},
   "outputs": [
    {
     "data": {
      "text/plain": [
       "0.18752353003259303"
      ]
     },
     "execution_count": 6,
     "metadata": {},
     "output_type": "execute_result"
    }
   ],
   "source": [
    "np.abs(pred_dists - vicinity_distances).mean() * 8"
   ]
  },
  {
   "cell_type": "code",
   "execution_count": 7,
   "id": "840cdf5f",
   "metadata": {},
   "outputs": [],
   "source": [
    "pts = query.squeeze().detach().cpu().numpy()\n",
    "dst = pred_dists\n",
    "dst_norm = (dst - dst.min()) / (dst.max() - dst.min())\n",
    "\n",
    "viridis = cm.get_cmap('Reds')\n",
    "vic_pcd = o3d.geometry.PointCloud()\n",
    "vic_pcd.points = o3d.utility.Vector3dVector(pts)\n",
    "vic_pcd.colors = o3d.utility.Vector3dVector(viridis(dst_norm)[:, :-1])\n",
    "    \n",
    "o3d.visualization.draw_geometries([vic_pcd])"
   ]
  },
  {
   "cell_type": "code",
   "execution_count": null,
   "id": "b86fbfbd",
   "metadata": {},
   "outputs": [],
   "source": [
    "torch.save(sqn.state_dict(), '../../data/sqn-dist-pred')"
   ]
  },
  {
   "cell_type": "code",
   "execution_count": null,
   "id": "458657ad",
   "metadata": {},
   "outputs": [],
   "source": []
  }
 ],
 "metadata": {
  "kernelspec": {
   "display_name": "3d-env",
   "language": "python",
   "name": "3d-env"
  },
  "language_info": {
   "codemirror_mode": {
    "name": "ipython",
    "version": 3
   },
   "file_extension": ".py",
   "mimetype": "text/x-python",
   "name": "python",
   "nbconvert_exporter": "python",
   "pygments_lexer": "ipython3",
   "version": "3.8.10"
  }
 },
 "nbformat": 4,
 "nbformat_minor": 5
}
