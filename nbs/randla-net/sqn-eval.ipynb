{
 "cells": [
  {
   "cell_type": "code",
   "execution_count": null,
   "id": "d0b06d52",
   "metadata": {},
   "outputs": [],
   "source": [
    "%load_ext autoreload\n",
    "%autoreload 2\n",
    "\n",
    "import os\n",
    "import sys\n",
    "sys.path.insert(1, '/home/cem/Documents/imps/src')\n",
    "\n",
    "import numpy as np\n",
    "import open3d as o3d\n",
    "import torch\n",
    "from matplotlib import cm\n",
    "import matplotlib.pyplot as plt\n",
    "from sklearn.metrics import jaccard_score\n",
    "import pandas as pd\n",
    "\n",
    "from imps.data import ScanNetScene, CLASS_NAMES\n",
    "from imps.sqn.model import SQN\n",
    "from imps.sqn.data_utils import prepare_input\n",
    "\n",
    "SCENE_DIR = '/home/cem/Documents/datasets/ScanNet/scans/scene0000_00'\n",
    "N_POINTS = int(1.5e5)\n",
    "# Not important we are not using this here yet. Keep this small for quick data processing\n",
    "RESOLUTION = 25\n",
    "SIGMAS = None\n",
    "DEVICE = 'cpu'\n",
    "\n",
    "IGNORED_LABELS = [0]\n",
    "\n",
    "def get_iou(logits, labels):\n",
    "    preds = np.argmax(logits, axis=-1)\n",
    "    ious = []\n",
    "    \n",
    "    for c in range(len(CLASS_NAMES)):\n",
    "        iou = jaccard_score((labels==c).astype(int), (preds==c).astype(int), pos_label=1)\n",
    "        ious.append(iou)\n",
    "        \n",
    "    return np.array(ious)"
   ]
  },
  {
   "cell_type": "code",
   "execution_count": null,
   "id": "982e839a",
   "metadata": {},
   "outputs": [],
   "source": [
    "scene = ScanNetScene(SCENE_DIR)\n",
    "\n",
    "voxel_grid, surface_points, surface_colors, vicinity_points, vicinity_distances, point_labels = scene.create_if_data(\n",
    "    RESOLUTION, N_POINTS, SIGMAS\n",
    ")\n",
    "\n",
    "class_counts = []\n",
    "for c in range(len(CLASS_NAMES.keys())):\n",
    "    class_counts.append(np.sum(point_labels == c))\n",
    "class_counts = np.array(class_counts)\n",
    "\n",
    "for ign in IGNORED_LABELS:\n",
    "    class_counts[ign] = 0\n",
    "class_weights = class_counts / class_counts.sum()"
   ]
  },
  {
   "cell_type": "code",
   "execution_count": null,
   "id": "cfeb2bd4",
   "metadata": {},
   "outputs": [],
   "source": [
    "features = torch.FloatTensor(surface_colors).unsqueeze(0).to(DEVICE)\n",
    "xyz = torch.FloatTensor(surface_points).unsqueeze(0)\n",
    "\n",
    "input_points, input_neighbors, input_pools = prepare_input(xyz, k=16, num_layers=3, sub_sampling_ratio=4, \n",
    "                                                           device=DEVICE)\n",
    "\n",
    "sqn = SQN(d_feature=3, d_in=8, encoder_dims=[8, 32, 64], decoder_dims=[64, len(CLASS_NAMES)], device=DEVICE)\n",
    "sqn.load_state_dict(torch.load('../../data/sqn-0.0001'))\n",
    "sqn.eval();"
   ]
  },
  {
   "cell_type": "code",
   "execution_count": null,
   "id": "abb0caf4",
   "metadata": {},
   "outputs": [],
   "source": [
    "with torch.no_grad():\n",
    "    all_logits = sqn.forward(features, input_points, input_neighbors, input_pools, xyz)\n",
    "    all_logits = all_logits.squeeze().detach().numpy()"
   ]
  },
  {
   "cell_type": "code",
   "execution_count": null,
   "id": "aa77387b",
   "metadata": {},
   "outputs": [],
   "source": [
    "df = pd.DataFrame()\n",
    "df['class'] = CLASS_NAMES.keys()\n",
    "df['iou'] = get_iou(all_logits, point_labels)\n",
    "df['weight'] = class_weights\n",
    "df['iou_weighted'] = df['iou'] * df['weight']\n",
    "\n",
    "print(\"mIOU:\", df.iou_weighted.sum())"
   ]
  },
  {
   "cell_type": "code",
   "execution_count": null,
   "id": "7cb76b9d",
   "metadata": {},
   "outputs": [],
   "source": [
    "df"
   ]
  },
  {
   "cell_type": "code",
   "execution_count": null,
   "id": "0fd9476e",
   "metadata": {},
   "outputs": [],
   "source": [
    "pcd = o3d.geometry.PointCloud()\n",
    "pcd.points = o3d.utility.Vector3dVector(surface_points)\n",
    "pcd.colors = o3d.utility.Vector3dVector(scene.colorize_labels(all_logits.argmax(axis=-1)))\n",
    "\n",
    "o3d.visualization.draw_geometries([pcd]) "
   ]
  },
  {
   "cell_type": "code",
   "execution_count": null,
   "id": "5b68eb58",
   "metadata": {},
   "outputs": [],
   "source": []
  }
 ],
 "metadata": {
  "kernelspec": {
   "display_name": "Python 3 (ipykernel)",
   "language": "python",
   "name": "python3"
  },
  "language_info": {
   "codemirror_mode": {
    "name": "ipython",
    "version": 3
   },
   "file_extension": ".py",
   "mimetype": "text/x-python",
   "name": "python",
   "nbconvert_exporter": "python",
   "pygments_lexer": "ipython3",
   "version": "3.8.12"
  }
 },
 "nbformat": 4,
 "nbformat_minor": 5
}
