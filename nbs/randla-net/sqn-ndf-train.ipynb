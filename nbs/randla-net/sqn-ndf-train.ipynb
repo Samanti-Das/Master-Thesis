{
 "cells": [
  {
   "cell_type": "code",
   "execution_count": 1,
   "id": "5eeb6ce1",
   "metadata": {},
   "outputs": [],
   "source": [
    "%load_ext autoreload\n",
    "%autoreload 2\n",
    "\n",
    "import os\n",
    "import sys\n",
    "sys.path.insert(1, '/home/cem/Documents/imps/src')\n",
    "\n",
    "import numpy as np\n",
    "import open3d as o3d\n",
    "import torch\n",
    "from matplotlib import cm\n",
    "import matplotlib.pyplot as plt\n",
    "import torch\n",
    "import torch.optim as optim\n",
    "\n",
    "from imps.data import ScanNetScene, CLASS_NAMES\n",
    "from imps.sqn.model import SQN\n",
    "from imps.sqn.data_utils import prepare_input\n",
    "from imps.ndf.local_model import MiniNDF\n",
    "\n",
    "SCENE_DIR = '/home/cem/Documents/datasets/ScanNet/scans/scene0000_00'\n",
    "\n",
    "N_POINTS = int(1.5e5)\n",
    "RESOLUTION = 125\n",
    "SIGMAS = np.array([0.5, 0.1, 0.01])\n",
    "\n",
    "LABEL_RATIO = 0.001\n",
    "N_LABEL = int(N_POINTS*LABEL_RATIO)\n",
    "DEVICE = 'cuda'\n",
    "IGNORED_LABELS = [0]\n",
    "\n",
    "def get_loss(logits, labels, class_weights):\n",
    "    class_weights = torch.from_numpy(class_weights).float().to(logits.device)\n",
    "    logits = logits.reshape(-1, len(class_weights))\n",
    "    labels = labels.reshape(-1)\n",
    "\n",
    "    criterion = torch.nn.CrossEntropyLoss(weight=class_weights, reduction='none')\n",
    "    output_loss = criterion(logits, labels)\n",
    "    output_loss = output_loss.mean()\n",
    "    \n",
    "    return output_loss"
   ]
  },
  {
   "cell_type": "code",
   "execution_count": 2,
   "id": "029c266c",
   "metadata": {},
   "outputs": [],
   "source": [
    "scene = ScanNetScene(SCENE_DIR)\n",
    "\n",
    "voxel_grid, surface_points, surface_colors, vicinity_points, vicinity_distances, point_labels = scene.create_if_data(\n",
    "    RESOLUTION, N_POINTS, SIGMAS\n",
    ")\n",
    "\n",
    "class_counts = []\n",
    "for c in range(len(CLASS_NAMES.keys())):\n",
    "    class_counts.append(np.sum(point_labels == c))\n",
    "class_counts = np.array(class_counts)\n",
    "\n",
    "for ign in IGNORED_LABELS:\n",
    "    class_counts[ign] = 0\n",
    "class_weights = class_counts / class_counts.sum()\n",
    "\n",
    "query_idxs = np.random.choice(N_POINTS, N_LABEL, replace=False)\n",
    "query_points = surface_points[query_idxs]\n",
    "query_labels = point_labels[query_idxs]"
   ]
  },
  {
   "cell_type": "code",
   "execution_count": 3,
   "id": "ed2522b1",
   "metadata": {},
   "outputs": [],
   "source": [
    "ndf_model = MiniNDF(is_cuda=False)\n",
    "ndf_model.load_state_dict(torch.load('../../data/ndf'))\n",
    "ndf_model.eval();\n",
    "\n",
    "voxel_input = torch.FloatTensor(voxel_grid).unsqueeze(0)\n",
    "xyz = torch.FloatTensor(surface_points).unsqueeze(0)\n",
    "features = torch.FloatTensor(surface_colors).unsqueeze(0)\n",
    "\n",
    "with torch.no_grad():\n",
    "    encoding = ndf_model.encoder(voxel_input)\n",
    "    ndf_features = ndf_model.get_features(xyz, *encoding).permute(0,2,1).detach()"
   ]
  },
  {
   "cell_type": "code",
   "execution_count": 4,
   "id": "255114b5",
   "metadata": {},
   "outputs": [],
   "source": [
    "features = torch.cat([ndf_features, features], dim=-1).to(DEVICE)\n",
    "query = torch.FloatTensor(query_points).unsqueeze(0).to(DEVICE)\n",
    "query_labels = torch.LongTensor(query_labels).unsqueeze(0).to(DEVICE)\n",
    "\n",
    "input_points, input_neighbors, input_pools = prepare_input(xyz, k=16, num_layers=3, sub_sampling_ratio=4, \n",
    "                                                           device=DEVICE)\n",
    "\n",
    "sqn = SQN(d_feature=797, d_in=16, encoder_dims=[8, 32, 64], decoder_dims=[64, len(CLASS_NAMES)], device=DEVICE)\n",
    "optimizer = optim.Adam(sqn.parameters(), lr=1e-3)"
   ]
  },
  {
   "cell_type": "code",
   "execution_count": null,
   "id": "301ffaa5",
   "metadata": {
    "scrolled": true
   },
   "outputs": [
    {
     "name": "stdout",
     "output_type": "stream",
     "text": [
      "Epoch 1: 0.3331\n",
      "Epoch 2: 0.2521\n",
      "Epoch 3: 0.1972\n",
      "Epoch 4: 0.159\n",
      "Epoch 5: 0.132\n",
      "Epoch 6: 0.1114\n",
      "Epoch 7: 0.0953\n",
      "Epoch 8: 0.0832\n",
      "Epoch 9: 0.0732\n",
      "Epoch 10: 0.065\n",
      "Epoch 11: 0.0582\n",
      "Epoch 12: 0.0525\n",
      "Epoch 13: 0.0475\n",
      "Epoch 14: 0.0432\n",
      "Epoch 15: 0.0395\n",
      "Epoch 16: 0.0363\n",
      "Epoch 17: 0.0332\n",
      "Epoch 18: 0.0306\n",
      "Epoch 19: 0.0282\n",
      "Epoch 20: 0.026\n",
      "Epoch 21: 0.0241\n",
      "Epoch 22: 0.0223\n",
      "Epoch 23: 0.0206\n",
      "Epoch 24: 0.0191\n",
      "Epoch 25: 0.0178\n"
     ]
    }
   ],
   "source": [
    "sqn.train()\n",
    "\n",
    "for e in range(50):\n",
    "    optimizer.zero_grad()\n",
    "    \n",
    "    logits = sqn.forward(features, input_points, input_neighbors, input_pools, query)\n",
    "    loss = get_loss(logits, query_labels, class_weights)\n",
    "    loss.backward()\n",
    "    \n",
    "    optimizer.step()\n",
    "    \n",
    "    print(f\"Epoch {e+1}: {round(loss.item(), 4)}\")"
   ]
  },
  {
   "cell_type": "code",
   "execution_count": null,
   "id": "1f9f6111",
   "metadata": {},
   "outputs": [],
   "source": [
    "torch.save(sqn.state_dict(), '../../data/sqn-ndf')"
   ]
  },
  {
   "cell_type": "code",
   "execution_count": null,
   "id": "ea013119",
   "metadata": {},
   "outputs": [],
   "source": []
  }
 ],
 "metadata": {
  "kernelspec": {
   "display_name": "3d-env",
   "language": "python",
   "name": "3d-env"
  },
  "language_info": {
   "codemirror_mode": {
    "name": "ipython",
    "version": 3
   },
   "file_extension": ".py",
   "mimetype": "text/x-python",
   "name": "python",
   "nbconvert_exporter": "python",
   "pygments_lexer": "ipython3",
   "version": "3.8.10"
  }
 },
 "nbformat": 4,
 "nbformat_minor": 5
}
