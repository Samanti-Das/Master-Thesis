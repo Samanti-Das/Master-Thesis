{
 "cells": [
  {
   "cell_type": "code",
   "execution_count": 91,
   "id": "5f4fad96-55cd-479f-aa2d-60b6af893974",
   "metadata": {},
   "outputs": [],
   "source": [
    "import os\n",
    "\n",
    "import cv2\n",
    "from tqdm.notebook import tqdm\n",
    "\n",
    "BASE_DIR = '/home/cem/Desktop/Capture_frames'\n",
    "EXTENSION = '.png'\n",
    "OUTPUT = './video-30fps.mp4'\n",
    "FPS = 30"
   ]
  },
  {
   "cell_type": "code",
   "execution_count": 92,
   "id": "bd3faf96-0605-4cc9-9d89-9fde765b9aa4",
   "metadata": {},
   "outputs": [],
   "source": [
    "elems = os.listdir(BASE_DIR)\n",
    "img_dirs = list(filter(lambda x: EXTENSION in x, elems))\n",
    "img_dirs = sorted(img_dirs, key = lambda x: int(x.split('.')[1]))\n",
    "img_dirs = list(map(lambda x: os.path.join(BASE_DIR, x), img_dirs))\n",
    "n_imgs = len(img_dirs)\n",
    "\n",
    "imgs = map(lambda x: cv2.imread(x), img_dirs)"
   ]
  },
  {
   "cell_type": "code",
   "execution_count": 93,
   "id": "f453d47f-1113-41d3-a11e-429cc93b1c0e",
   "metadata": {},
   "outputs": [
    {
     "name": "stderr",
     "output_type": "stream",
     "text": [
      "OpenCV: FFMPEG: tag 0x5634504d/'MP4V' is not supported with codec id 12 and format 'mp4 / MP4 (MPEG-4 Part 14)'\n",
      "OpenCV: FFMPEG: fallback to use tag 0x7634706d/'mp4v'\n"
     ]
    },
    {
     "data": {
      "application/vnd.jupyter.widget-view+json": {
       "model_id": "af98fee1a4bb484383cc2941e0c112b1",
       "version_major": 2,
       "version_minor": 0
      },
      "text/plain": [
       "  0%|          | 0/521 [00:00<?, ?it/s]"
      ]
     },
     "metadata": {},
     "output_type": "display_data"
    }
   ],
   "source": [
    "im0 = next(imgs)\n",
    "H, W, _ = im0.shape\n",
    "\n",
    "video = cv2.VideoWriter(OUTPUT, cv2.VideoWriter_fourcc(*'MP4V'), FPS, (W, H))\n",
    "video.write(im0)\n",
    "\n",
    "for img in tqdm(imgs, total=n_imgs):\n",
    "    video.write(img)\n",
    "\n",
    "video.release()\n",
    "cv2.destroyAllWindows()"
   ]
  },
  {
   "cell_type": "code",
   "execution_count": null,
   "id": "87b30ed9-e483-40bb-8d55-771c5f9aa4e9",
   "metadata": {},
   "outputs": [],
   "source": []
  }
 ],
 "metadata": {
  "kernelspec": {
   "display_name": "nerf-env",
   "language": "python",
   "name": "nerf-env"
  },
  "language_info": {
   "codemirror_mode": {
    "name": "ipython",
    "version": 3
   },
   "file_extension": ".py",
   "mimetype": "text/x-python",
   "name": "python",
   "nbconvert_exporter": "python",
   "pygments_lexer": "ipython3",
   "version": "3.8.10"
  }
 },
 "nbformat": 4,
 "nbformat_minor": 5
}
